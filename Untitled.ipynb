{
 "cells": [
  {
   "cell_type": "code",
   "execution_count": 88,
   "metadata": {},
   "outputs": [],
   "source": [
    "import pandas as pd\n",
    "from pandas import DataFrame\n",
    "from statsmodels.tsa.arima_model import ARIMA\n",
    "from matplotlib import pyplot"
   ]
  },
  {
   "cell_type": "code",
   "execution_count": 89,
   "metadata": {},
   "outputs": [
    {
     "name": "stderr",
     "output_type": "stream",
     "text": [
      "/Users/adithyavenkatesh/opt/anaconda3/lib/python3.7/site-packages/IPython/core/interactiveshell.py:3147: DtypeWarning: Columns (0,2,5,10) have mixed types.Specify dtype option on import or set low_memory=False.\n",
      "  interactivity=interactivity, compiler=compiler, result=result)\n"
     ]
    }
   ],
   "source": [
    "df1 = pd.read_csv('2015_through_2020_Results.csv')\n",
    "dfFPI = pd.read_csv('2015-2020_FPI.csv')"
   ]
  },
  {
   "cell_type": "code",
   "execution_count": 90,
   "metadata": {},
   "outputs": [
    {
     "data": {
      "text/html": [
       "<div>\n",
       "<style scoped>\n",
       "    .dataframe tbody tr th:only-of-type {\n",
       "        vertical-align: middle;\n",
       "    }\n",
       "\n",
       "    .dataframe tbody tr th {\n",
       "        vertical-align: top;\n",
       "    }\n",
       "\n",
       "    .dataframe thead th {\n",
       "        text-align: right;\n",
       "    }\n",
       "</style>\n",
       "<table border=\"1\" class=\"dataframe\">\n",
       "  <thead>\n",
       "    <tr style=\"text-align: right;\">\n",
       "      <th></th>\n",
       "      <th>Year</th>\n",
       "      <th>Week</th>\n",
       "      <th>Day</th>\n",
       "      <th>Date</th>\n",
       "      <th>Time</th>\n",
       "      <th>Winner/tie</th>\n",
       "      <th>Unnamed: 6</th>\n",
       "      <th>Loser/tie</th>\n",
       "      <th>Unnamed: 8</th>\n",
       "      <th>PtsW</th>\n",
       "      <th>PtsL</th>\n",
       "      <th>YdsW</th>\n",
       "      <th>TOW</th>\n",
       "      <th>YdsL</th>\n",
       "      <th>TOL</th>\n",
       "    </tr>\n",
       "  </thead>\n",
       "  <tbody>\n",
       "    <tr>\n",
       "      <th>0</th>\n",
       "      <td>2015.0</td>\n",
       "      <td>17</td>\n",
       "      <td>Sun</td>\n",
       "      <td>3-Jan</td>\n",
       "      <td>1:02PM</td>\n",
       "      <td>Detroit Lions</td>\n",
       "      <td>@</td>\n",
       "      <td>Chicago Bears</td>\n",
       "      <td>boxscore</td>\n",
       "      <td>24.0</td>\n",
       "      <td>20.0</td>\n",
       "      <td>349.0</td>\n",
       "      <td>0.0</td>\n",
       "      <td>345.0</td>\n",
       "      <td>3.0</td>\n",
       "    </tr>\n",
       "    <tr>\n",
       "      <th>1</th>\n",
       "      <td>2015.0</td>\n",
       "      <td>17</td>\n",
       "      <td>Sun</td>\n",
       "      <td>3-Jan</td>\n",
       "      <td>1:02PM</td>\n",
       "      <td>Indianapolis Colts</td>\n",
       "      <td>NaN</td>\n",
       "      <td>Tennessee Titans</td>\n",
       "      <td>boxscore</td>\n",
       "      <td>30.0</td>\n",
       "      <td>24.0</td>\n",
       "      <td>327.0</td>\n",
       "      <td>1.0</td>\n",
       "      <td>231.0</td>\n",
       "      <td>1.0</td>\n",
       "    </tr>\n",
       "    <tr>\n",
       "      <th>2</th>\n",
       "      <td>2015.0</td>\n",
       "      <td>17</td>\n",
       "      <td>Sun</td>\n",
       "      <td>3-Jan</td>\n",
       "      <td>1:02PM</td>\n",
       "      <td>Cincinnati Bengals</td>\n",
       "      <td>NaN</td>\n",
       "      <td>Baltimore Ravens</td>\n",
       "      <td>boxscore</td>\n",
       "      <td>24.0</td>\n",
       "      <td>16.0</td>\n",
       "      <td>292.0</td>\n",
       "      <td>0.0</td>\n",
       "      <td>341.0</td>\n",
       "      <td>2.0</td>\n",
       "    </tr>\n",
       "    <tr>\n",
       "      <th>3</th>\n",
       "      <td>2015.0</td>\n",
       "      <td>17</td>\n",
       "      <td>Sun</td>\n",
       "      <td>3-Jan</td>\n",
       "      <td>1:02PM</td>\n",
       "      <td>New Orleans Saints</td>\n",
       "      <td>@</td>\n",
       "      <td>Atlanta Falcons</td>\n",
       "      <td>boxscore</td>\n",
       "      <td>20.0</td>\n",
       "      <td>17.0</td>\n",
       "      <td>390.0</td>\n",
       "      <td>1.0</td>\n",
       "      <td>414.0</td>\n",
       "      <td>2.0</td>\n",
       "    </tr>\n",
       "    <tr>\n",
       "      <th>4</th>\n",
       "      <td>2015.0</td>\n",
       "      <td>17</td>\n",
       "      <td>Sun</td>\n",
       "      <td>3-Jan</td>\n",
       "      <td>1:02PM</td>\n",
       "      <td>Miami Dolphins</td>\n",
       "      <td>NaN</td>\n",
       "      <td>New England Patriots</td>\n",
       "      <td>boxscore</td>\n",
       "      <td>20.0</td>\n",
       "      <td>10.0</td>\n",
       "      <td>438.0</td>\n",
       "      <td>0.0</td>\n",
       "      <td>196.0</td>\n",
       "      <td>0.0</td>\n",
       "    </tr>\n",
       "  </tbody>\n",
       "</table>\n",
       "</div>"
      ],
      "text/plain": [
       "     Year Week  Day   Date    Time          Winner/tie Unnamed: 6  \\\n",
       "0  2015.0   17  Sun  3-Jan  1:02PM       Detroit Lions          @   \n",
       "1  2015.0   17  Sun  3-Jan  1:02PM  Indianapolis Colts        NaN   \n",
       "2  2015.0   17  Sun  3-Jan  1:02PM  Cincinnati Bengals        NaN   \n",
       "3  2015.0   17  Sun  3-Jan  1:02PM  New Orleans Saints          @   \n",
       "4  2015.0   17  Sun  3-Jan  1:02PM      Miami Dolphins        NaN   \n",
       "\n",
       "              Loser/tie Unnamed: 8  PtsW  PtsL   YdsW  TOW   YdsL  TOL  \n",
       "0         Chicago Bears   boxscore  24.0  20.0  349.0  0.0  345.0  3.0  \n",
       "1      Tennessee Titans   boxscore  30.0  24.0  327.0  1.0  231.0  1.0  \n",
       "2      Baltimore Ravens   boxscore  24.0  16.0  292.0  0.0  341.0  2.0  \n",
       "3       Atlanta Falcons   boxscore  20.0  17.0  390.0  1.0  414.0  2.0  \n",
       "4  New England Patriots   boxscore  20.0  10.0  438.0  0.0  196.0  0.0  "
      ]
     },
     "execution_count": 90,
     "metadata": {},
     "output_type": "execute_result"
    }
   ],
   "source": [
    "df1.head()"
   ]
  },
  {
   "cell_type": "code",
   "execution_count": 91,
   "metadata": {},
   "outputs": [],
   "source": [
    "dfFPI = dfFPI.dropna(how = 'all')"
   ]
  },
  {
   "cell_type": "code",
   "execution_count": 92,
   "metadata": {},
   "outputs": [
    {
     "data": {
      "text/html": [
       "<div>\n",
       "<style scoped>\n",
       "    .dataframe tbody tr th:only-of-type {\n",
       "        vertical-align: middle;\n",
       "    }\n",
       "\n",
       "    .dataframe tbody tr th {\n",
       "        vertical-align: top;\n",
       "    }\n",
       "\n",
       "    .dataframe thead th {\n",
       "        text-align: right;\n",
       "    }\n",
       "</style>\n",
       "<table border=\"1\" class=\"dataframe\">\n",
       "  <thead>\n",
       "    <tr style=\"text-align: right;\">\n",
       "      <th></th>\n",
       "      <th>TEAM</th>\n",
       "      <th>Year</th>\n",
       "      <th>W-L-T</th>\n",
       "      <th>Power Index FPI</th>\n",
       "      <th>Power Index RK</th>\n",
       "      <th>Power Index TREND</th>\n",
       "      <th>Power Index OFF</th>\n",
       "      <th>Power Index DEF</th>\n",
       "      <th>Power Index ST</th>\n",
       "      <th>Ranks SOS</th>\n",
       "      <th>Ranks REM SOS</th>\n",
       "      <th>Ranks AVGWP</th>\n",
       "    </tr>\n",
       "  </thead>\n",
       "  <tbody>\n",
       "    <tr>\n",
       "      <th>0</th>\n",
       "      <td>Seattle Seahawks</td>\n",
       "      <td>2015.0</td>\n",
       "      <td>11-7-0</td>\n",
       "      <td>8.8</td>\n",
       "      <td>1.0</td>\n",
       "      <td>--</td>\n",
       "      <td>6.0</td>\n",
       "      <td>3.0</td>\n",
       "      <td>-0.3</td>\n",
       "      <td>6.0</td>\n",
       "      <td>--</td>\n",
       "      <td>6.0</td>\n",
       "    </tr>\n",
       "    <tr>\n",
       "      <th>1</th>\n",
       "      <td>Arizona Cardinals</td>\n",
       "      <td>2015.0</td>\n",
       "      <td>14-4-0</td>\n",
       "      <td>8.3</td>\n",
       "      <td>2.0</td>\n",
       "      <td>--</td>\n",
       "      <td>6.0</td>\n",
       "      <td>2.6</td>\n",
       "      <td>-0.4</td>\n",
       "      <td>17.0</td>\n",
       "      <td>--</td>\n",
       "      <td>3.0</td>\n",
       "    </tr>\n",
       "    <tr>\n",
       "      <th>2</th>\n",
       "      <td>Carolina Panthers</td>\n",
       "      <td>2015.0</td>\n",
       "      <td>17-2-0</td>\n",
       "      <td>7.9</td>\n",
       "      <td>3.0</td>\n",
       "      <td>--</td>\n",
       "      <td>3.5</td>\n",
       "      <td>4.8</td>\n",
       "      <td>-0.4</td>\n",
       "      <td>28.0</td>\n",
       "      <td>--</td>\n",
       "      <td>1.0</td>\n",
       "    </tr>\n",
       "    <tr>\n",
       "      <th>3</th>\n",
       "      <td>New England Patriots</td>\n",
       "      <td>2015.0</td>\n",
       "      <td>13-5-0</td>\n",
       "      <td>7.2</td>\n",
       "      <td>4.0</td>\n",
       "      <td>--</td>\n",
       "      <td>5.6</td>\n",
       "      <td>1.2</td>\n",
       "      <td>0.4</td>\n",
       "      <td>18.0</td>\n",
       "      <td>--</td>\n",
       "      <td>2.0</td>\n",
       "    </tr>\n",
       "    <tr>\n",
       "      <th>4</th>\n",
       "      <td>Pittsburgh Steelers</td>\n",
       "      <td>2015.0</td>\n",
       "      <td>11-7-0</td>\n",
       "      <td>7.1</td>\n",
       "      <td>5.0</td>\n",
       "      <td>--</td>\n",
       "      <td>4.9</td>\n",
       "      <td>1.9</td>\n",
       "      <td>0.3</td>\n",
       "      <td>5.0</td>\n",
       "      <td>--</td>\n",
       "      <td>9.0</td>\n",
       "    </tr>\n",
       "  </tbody>\n",
       "</table>\n",
       "</div>"
      ],
      "text/plain": [
       "                   TEAM   Year    W-L-T  Power Index FPI  Power Index RK  \\\n",
       "0      Seattle Seahawks  2015.0  11-7-0              8.8             1.0   \n",
       "1     Arizona Cardinals  2015.0  14-4-0              8.3             2.0   \n",
       "2     Carolina Panthers  2015.0  17-2-0              7.9             3.0   \n",
       "3  New England Patriots  2015.0  13-5-0              7.2             4.0   \n",
       "4   Pittsburgh Steelers  2015.0  11-7-0              7.1             5.0   \n",
       "\n",
       "  Power Index TREND  Power Index OFF  Power Index DEF  Power Index ST  \\\n",
       "0                --              6.0              3.0            -0.3   \n",
       "1                --              6.0              2.6            -0.4   \n",
       "2                --              3.5              4.8            -0.4   \n",
       "3                --              5.6              1.2             0.4   \n",
       "4                --              4.9              1.9             0.3   \n",
       "\n",
       "   Ranks SOS Ranks REM SOS  Ranks AVGWP  \n",
       "0        6.0            --          6.0  \n",
       "1       17.0            --          3.0  \n",
       "2       28.0            --          1.0  \n",
       "3       18.0            --          2.0  \n",
       "4        5.0            --          9.0  "
      ]
     },
     "execution_count": 92,
     "metadata": {},
     "output_type": "execute_result"
    }
   ],
   "source": [
    "dfFPI.head()"
   ]
  },
  {
   "cell_type": "code",
   "execution_count": 93,
   "metadata": {},
   "outputs": [
    {
     "data": {
      "text/html": [
       "<div>\n",
       "<style scoped>\n",
       "    .dataframe tbody tr th:only-of-type {\n",
       "        vertical-align: middle;\n",
       "    }\n",
       "\n",
       "    .dataframe tbody tr th {\n",
       "        vertical-align: top;\n",
       "    }\n",
       "\n",
       "    .dataframe thead th {\n",
       "        text-align: right;\n",
       "    }\n",
       "</style>\n",
       "<table border=\"1\" class=\"dataframe\">\n",
       "  <thead>\n",
       "    <tr style=\"text-align: right;\">\n",
       "      <th></th>\n",
       "      <th>Year</th>\n",
       "      <th>Week</th>\n",
       "      <th>Day</th>\n",
       "      <th>Date</th>\n",
       "      <th>Time</th>\n",
       "      <th>Winner/tie</th>\n",
       "      <th>Unnamed: 6</th>\n",
       "      <th>Loser/tie</th>\n",
       "      <th>Unnamed: 8</th>\n",
       "      <th>PtsW</th>\n",
       "      <th>PtsL</th>\n",
       "      <th>YdsW</th>\n",
       "      <th>TOW</th>\n",
       "      <th>YdsL</th>\n",
       "      <th>TOL</th>\n",
       "    </tr>\n",
       "  </thead>\n",
       "  <tbody>\n",
       "    <tr>\n",
       "      <th>0</th>\n",
       "      <td>2015.0</td>\n",
       "      <td>17</td>\n",
       "      <td>Sun</td>\n",
       "      <td>3-Jan</td>\n",
       "      <td>1:02PM</td>\n",
       "      <td>Detroit Lions</td>\n",
       "      <td>@</td>\n",
       "      <td>Chicago Bears</td>\n",
       "      <td>boxscore</td>\n",
       "      <td>24.0</td>\n",
       "      <td>20.0</td>\n",
       "      <td>349.0</td>\n",
       "      <td>0.0</td>\n",
       "      <td>345.0</td>\n",
       "      <td>3.0</td>\n",
       "    </tr>\n",
       "    <tr>\n",
       "      <th>1</th>\n",
       "      <td>2015.0</td>\n",
       "      <td>17</td>\n",
       "      <td>Sun</td>\n",
       "      <td>3-Jan</td>\n",
       "      <td>1:02PM</td>\n",
       "      <td>Indianapolis Colts</td>\n",
       "      <td>NaN</td>\n",
       "      <td>Tennessee Titans</td>\n",
       "      <td>boxscore</td>\n",
       "      <td>30.0</td>\n",
       "      <td>24.0</td>\n",
       "      <td>327.0</td>\n",
       "      <td>1.0</td>\n",
       "      <td>231.0</td>\n",
       "      <td>1.0</td>\n",
       "    </tr>\n",
       "    <tr>\n",
       "      <th>2</th>\n",
       "      <td>2015.0</td>\n",
       "      <td>17</td>\n",
       "      <td>Sun</td>\n",
       "      <td>3-Jan</td>\n",
       "      <td>1:02PM</td>\n",
       "      <td>Cincinnati Bengals</td>\n",
       "      <td>NaN</td>\n",
       "      <td>Baltimore Ravens</td>\n",
       "      <td>boxscore</td>\n",
       "      <td>24.0</td>\n",
       "      <td>16.0</td>\n",
       "      <td>292.0</td>\n",
       "      <td>0.0</td>\n",
       "      <td>341.0</td>\n",
       "      <td>2.0</td>\n",
       "    </tr>\n",
       "    <tr>\n",
       "      <th>3</th>\n",
       "      <td>2015.0</td>\n",
       "      <td>17</td>\n",
       "      <td>Sun</td>\n",
       "      <td>3-Jan</td>\n",
       "      <td>1:02PM</td>\n",
       "      <td>New Orleans Saints</td>\n",
       "      <td>@</td>\n",
       "      <td>Atlanta Falcons</td>\n",
       "      <td>boxscore</td>\n",
       "      <td>20.0</td>\n",
       "      <td>17.0</td>\n",
       "      <td>390.0</td>\n",
       "      <td>1.0</td>\n",
       "      <td>414.0</td>\n",
       "      <td>2.0</td>\n",
       "    </tr>\n",
       "    <tr>\n",
       "      <th>4</th>\n",
       "      <td>2015.0</td>\n",
       "      <td>17</td>\n",
       "      <td>Sun</td>\n",
       "      <td>3-Jan</td>\n",
       "      <td>1:02PM</td>\n",
       "      <td>Miami Dolphins</td>\n",
       "      <td>NaN</td>\n",
       "      <td>New England Patriots</td>\n",
       "      <td>boxscore</td>\n",
       "      <td>20.0</td>\n",
       "      <td>10.0</td>\n",
       "      <td>438.0</td>\n",
       "      <td>0.0</td>\n",
       "      <td>196.0</td>\n",
       "      <td>0.0</td>\n",
       "    </tr>\n",
       "    <tr>\n",
       "      <th>...</th>\n",
       "      <td>...</td>\n",
       "      <td>...</td>\n",
       "      <td>...</td>\n",
       "      <td>...</td>\n",
       "      <td>...</td>\n",
       "      <td>...</td>\n",
       "      <td>...</td>\n",
       "      <td>...</td>\n",
       "      <td>...</td>\n",
       "      <td>...</td>\n",
       "      <td>...</td>\n",
       "      <td>...</td>\n",
       "      <td>...</td>\n",
       "      <td>...</td>\n",
       "      <td>...</td>\n",
       "    </tr>\n",
       "    <tr>\n",
       "      <th>1591</th>\n",
       "      <td>NaN</td>\n",
       "      <td>NaN</td>\n",
       "      <td>NaN</td>\n",
       "      <td>NaN</td>\n",
       "      <td>NaN</td>\n",
       "      <td>NaN</td>\n",
       "      <td>NaN</td>\n",
       "      <td>NaN</td>\n",
       "      <td>NaN</td>\n",
       "      <td>NaN</td>\n",
       "      <td>NaN</td>\n",
       "      <td>NaN</td>\n",
       "      <td>NaN</td>\n",
       "      <td>NaN</td>\n",
       "      <td>NaN</td>\n",
       "    </tr>\n",
       "    <tr>\n",
       "      <th>1592</th>\n",
       "      <td>NaN</td>\n",
       "      <td>NaN</td>\n",
       "      <td>NaN</td>\n",
       "      <td>NaN</td>\n",
       "      <td>NaN</td>\n",
       "      <td>NaN</td>\n",
       "      <td>NaN</td>\n",
       "      <td>NaN</td>\n",
       "      <td>NaN</td>\n",
       "      <td>NaN</td>\n",
       "      <td>NaN</td>\n",
       "      <td>NaN</td>\n",
       "      <td>NaN</td>\n",
       "      <td>NaN</td>\n",
       "      <td>NaN</td>\n",
       "    </tr>\n",
       "    <tr>\n",
       "      <th>1593</th>\n",
       "      <td>NaN</td>\n",
       "      <td>NaN</td>\n",
       "      <td>NaN</td>\n",
       "      <td>NaN</td>\n",
       "      <td>NaN</td>\n",
       "      <td>NaN</td>\n",
       "      <td>NaN</td>\n",
       "      <td>NaN</td>\n",
       "      <td>NaN</td>\n",
       "      <td>NaN</td>\n",
       "      <td>NaN</td>\n",
       "      <td>NaN</td>\n",
       "      <td>NaN</td>\n",
       "      <td>NaN</td>\n",
       "      <td>NaN</td>\n",
       "    </tr>\n",
       "    <tr>\n",
       "      <th>1594</th>\n",
       "      <td>NaN</td>\n",
       "      <td>NaN</td>\n",
       "      <td>NaN</td>\n",
       "      <td>NaN</td>\n",
       "      <td>NaN</td>\n",
       "      <td>NaN</td>\n",
       "      <td>NaN</td>\n",
       "      <td>NaN</td>\n",
       "      <td>NaN</td>\n",
       "      <td>NaN</td>\n",
       "      <td>NaN</td>\n",
       "      <td>NaN</td>\n",
       "      <td>NaN</td>\n",
       "      <td>NaN</td>\n",
       "      <td>NaN</td>\n",
       "    </tr>\n",
       "    <tr>\n",
       "      <th>1595</th>\n",
       "      <td>NaN</td>\n",
       "      <td>NaN</td>\n",
       "      <td>NaN</td>\n",
       "      <td>NaN</td>\n",
       "      <td>NaN</td>\n",
       "      <td>NaN</td>\n",
       "      <td>NaN</td>\n",
       "      <td>NaN</td>\n",
       "      <td>NaN</td>\n",
       "      <td>NaN</td>\n",
       "      <td>NaN</td>\n",
       "      <td>NaN</td>\n",
       "      <td>NaN</td>\n",
       "      <td>NaN</td>\n",
       "      <td>NaN</td>\n",
       "    </tr>\n",
       "  </tbody>\n",
       "</table>\n",
       "<p>1596 rows × 15 columns</p>\n",
       "</div>"
      ],
      "text/plain": [
       "        Year Week  Day   Date    Time          Winner/tie Unnamed: 6  \\\n",
       "0     2015.0   17  Sun  3-Jan  1:02PM       Detroit Lions          @   \n",
       "1     2015.0   17  Sun  3-Jan  1:02PM  Indianapolis Colts        NaN   \n",
       "2     2015.0   17  Sun  3-Jan  1:02PM  Cincinnati Bengals        NaN   \n",
       "3     2015.0   17  Sun  3-Jan  1:02PM  New Orleans Saints          @   \n",
       "4     2015.0   17  Sun  3-Jan  1:02PM      Miami Dolphins        NaN   \n",
       "...      ...  ...  ...    ...     ...                 ...        ...   \n",
       "1591     NaN  NaN  NaN    NaN     NaN                 NaN        NaN   \n",
       "1592     NaN  NaN  NaN    NaN     NaN                 NaN        NaN   \n",
       "1593     NaN  NaN  NaN    NaN     NaN                 NaN        NaN   \n",
       "1594     NaN  NaN  NaN    NaN     NaN                 NaN        NaN   \n",
       "1595     NaN  NaN  NaN    NaN     NaN                 NaN        NaN   \n",
       "\n",
       "                 Loser/tie Unnamed: 8  PtsW  PtsL   YdsW  TOW   YdsL  TOL  \n",
       "0            Chicago Bears   boxscore  24.0  20.0  349.0  0.0  345.0  3.0  \n",
       "1         Tennessee Titans   boxscore  30.0  24.0  327.0  1.0  231.0  1.0  \n",
       "2         Baltimore Ravens   boxscore  24.0  16.0  292.0  0.0  341.0  2.0  \n",
       "3          Atlanta Falcons   boxscore  20.0  17.0  390.0  1.0  414.0  2.0  \n",
       "4     New England Patriots   boxscore  20.0  10.0  438.0  0.0  196.0  0.0  \n",
       "...                    ...        ...   ...   ...    ...  ...    ...  ...  \n",
       "1591                   NaN        NaN   NaN   NaN    NaN  NaN    NaN  NaN  \n",
       "1592                   NaN        NaN   NaN   NaN    NaN  NaN    NaN  NaN  \n",
       "1593                   NaN        NaN   NaN   NaN    NaN  NaN    NaN  NaN  \n",
       "1594                   NaN        NaN   NaN   NaN    NaN  NaN    NaN  NaN  \n",
       "1595                   NaN        NaN   NaN   NaN    NaN  NaN    NaN  NaN  \n",
       "\n",
       "[1596 rows x 15 columns]"
      ]
     },
     "execution_count": 93,
     "metadata": {},
     "output_type": "execute_result"
    }
   ],
   "source": [
    "df1"
   ]
  },
  {
   "cell_type": "code",
   "execution_count": 94,
   "metadata": {},
   "outputs": [
    {
     "data": {
      "text/plain": [
       "Year          float64\n",
       "Week           object\n",
       "Day            object\n",
       "Date           object\n",
       "Time           object\n",
       "Winner/tie     object\n",
       "Unnamed: 6     object\n",
       "Loser/tie      object\n",
       "Unnamed: 8     object\n",
       "PtsW          float64\n",
       "PtsL          float64\n",
       "YdsW          float64\n",
       "TOW           float64\n",
       "YdsL          float64\n",
       "TOL           float64\n",
       "dtype: object"
      ]
     },
     "execution_count": 94,
     "metadata": {},
     "output_type": "execute_result"
    }
   ],
   "source": [
    "df1.join(dfFPI)\n",
    "df1.dtypes"
   ]
  },
  {
   "cell_type": "code",
   "execution_count": 95,
   "metadata": {},
   "outputs": [
    {
     "data": {
      "text/plain": [
       "Index(['Year', 'Week', 'Day', 'Date', 'Time', 'Winner/tie', 'Unnamed: 6',\n",
       "       'Loser/tie', 'Unnamed: 8', 'PtsW', 'PtsL', 'YdsW', 'TOW', 'YdsL',\n",
       "       'TOL'],\n",
       "      dtype='object')"
      ]
     },
     "execution_count": 95,
     "metadata": {},
     "output_type": "execute_result"
    }
   ],
   "source": [
    "# pd.merge(df1, dfFPI, left_on = ['Year', 'Winner/tie'], right_on = ['Year', 'Team'])\n",
    "df1.columns"
   ]
  },
  {
   "cell_type": "code",
   "execution_count": 96,
   "metadata": {},
   "outputs": [
    {
     "data": {
      "text/plain": [
       "Index(['TEAM', 'Year ', 'W-L-T', 'Power Index FPI', 'Power Index RK',\n",
       "       'Power Index TREND', 'Power Index OFF', 'Power Index DEF',\n",
       "       'Power Index ST', 'Ranks SOS', 'Ranks REM SOS', 'Ranks AVGWP'],\n",
       "      dtype='object')"
      ]
     },
     "execution_count": 96,
     "metadata": {},
     "output_type": "execute_result"
    }
   ],
   "source": [
    "dfFPI = dfFPI.rename({'Year' :'Year '})\n",
    "dfFPI.columns"
   ]
  },
  {
   "cell_type": "code",
   "execution_count": 99,
   "metadata": {},
   "outputs": [],
   "source": [
    "WinnerMergedDF = pd.merge(df1, dfFPI, left_on = ['Year', 'Winner/tie'], right_on = ['Year ', 'TEAM'], suffixes = ('', '_Winning Team'))"
   ]
  },
  {
   "cell_type": "code",
   "execution_count": 100,
   "metadata": {},
   "outputs": [],
   "source": [
    "LoserMergedDF = pd.merge(WinnerMergedDF, dfFPI, left_on = ['Year', 'Loser/tie'], right_on = ['Year ', 'TEAM'], suffixes = ('', '_Losing Team'))"
   ]
  },
  {
   "cell_type": "code",
   "execution_count": 202,
   "metadata": {},
   "outputs": [],
   "source": [
    "LoserMergedDF = LoserMergedDF[~LoserMergedDF[[\"PtsL\"]].isnull().any(axis=1)]\n",
    "LoserMergedDF.to_csv(\"LoserMerged.csv\")"
   ]
  },
  {
   "cell_type": "code",
   "execution_count": 198,
   "metadata": {},
   "outputs": [],
   "source": [
    "LoserTeamData = LoserMergedDF[['PtsL', 'Power Index FPI_Losing Team']]\n",
    "LoserTeamData = LoserTeamData.rename(columns = {'PtsL':'Pts','Power Index FPI_Losing Team': 'FPI'})\n",
    "LoserTeamData.to_csv(\"LoserTeamData.csv\", index = False)"
   ]
  },
  {
   "cell_type": "code",
   "execution_count": 203,
   "metadata": {},
   "outputs": [],
   "source": [
    "WinnerMergedDF = WinnerMergedDF[~WinnerMergedDF[[\"PtsW\"]].isnull().any(axis=1)]\n",
    "WinnerMergedDF.to_csv(\"WinnerMerged.csv\")"
   ]
  },
  {
   "cell_type": "code",
   "execution_count": 204,
   "metadata": {},
   "outputs": [],
   "source": [
    "WinnerTeamData = WinnerMergedDF[['PtsW', 'Power Index FPI']]\n",
    "WinnerTeamData = WinnerTeamData.rename(columns = {'PtsW':'Pts','Power Index FPI': 'FPI'})\n",
    "WinnerTeamData.dropna()\n",
    "WinnerTeamData.to_csv(\"WinnerTeamData.csv\", index = False)"
   ]
  },
  {
   "cell_type": "code",
   "execution_count": 205,
   "metadata": {},
   "outputs": [
    {
     "data": {
      "text/plain": [
       "Pts    0\n",
       "FPI    0\n",
       "dtype: int64"
      ]
     },
     "execution_count": 205,
     "metadata": {},
     "output_type": "execute_result"
    }
   ],
   "source": [
    "model_values = pd.concat([LoserTeamData, WinnerTeamData], axis = 0)\n",
    "model_values[model_values.isnull().any(axis=1)].count()"
   ]
  },
  {
   "cell_type": "code",
   "execution_count": 214,
   "metadata": {},
   "outputs": [],
   "source": [
    "from sklearn.model_selection import train_test_split\n",
    "model_values.to_csv('Pts_FPI_values.csv', index = False)"
   ]
  },
  {
   "cell_type": "code",
   "execution_count": 207,
   "metadata": {},
   "outputs": [],
   "source": [
    "X = model_values.iloc[:,1].values\n",
    "y = model_values.iloc[:,0].values"
   ]
  },
  {
   "cell_type": "code",
   "execution_count": 208,
   "metadata": {},
   "outputs": [],
   "source": [
    "X_train, X_test, y_train, y_test = train_test_split(X,y)\n",
    "X_train = X_train.reshape(-1, 1)\n",
    "X_test = X_test.reshape(-1, 1)\n",
    "y_train = y_train.reshape(-1, 1)\n",
    "y_test = y_test.reshape(-1, 1)"
   ]
  },
  {
   "cell_type": "code",
   "execution_count": 209,
   "metadata": {},
   "outputs": [],
   "source": [
    "import sklearn.linear_model"
   ]
  },
  {
   "cell_type": "code",
   "execution_count": 210,
   "metadata": {},
   "outputs": [],
   "source": [
    "model = sklearn.linear_model.LinearRegression()"
   ]
  },
  {
   "cell_type": "code",
   "execution_count": 211,
   "metadata": {},
   "outputs": [
    {
     "data": {
      "text/plain": [
       "LinearRegression()"
      ]
     },
     "execution_count": 211,
     "metadata": {},
     "output_type": "execute_result"
    }
   ],
   "source": [
    "model.fit(X_train, y_train)"
   ]
  },
  {
   "cell_type": "code",
   "execution_count": 220,
   "metadata": {},
   "outputs": [
    {
     "data": {
      "text/plain": [
       "0.11695900463954978"
      ]
     },
     "execution_count": 220,
     "metadata": {},
     "output_type": "execute_result"
    }
   ],
   "source": [
    "model.score(X_train, y_train)\n",
    "model.score(X_test, y_test)"
   ]
  },
  {
   "cell_type": "code",
   "execution_count": 223,
   "metadata": {},
   "outputs": [],
   "source": [
    "from sklearn.model_selection import GridSearchCV\n",
    "params = {'fit_intercept':[True,False], 'normalize':[True,False], 'copy_X':[True, False]}\n",
    "grid = GridSearchCV(model, params, verbose=3)"
   ]
  },
  {
   "cell_type": "code",
   "execution_count": 224,
   "metadata": {},
   "outputs": [
    {
     "name": "stdout",
     "output_type": "stream",
     "text": [
      "Fitting 5 folds for each of 8 candidates, totalling 40 fits\n",
      "[CV] copy_X=True, fit_intercept=True, normalize=True .................\n",
      "[CV]  copy_X=True, fit_intercept=True, normalize=True, score=0.099, total=   0.0s\n",
      "[CV] copy_X=True, fit_intercept=True, normalize=True .................\n",
      "[CV]  copy_X=True, fit_intercept=True, normalize=True, score=0.083, total=   0.0s\n",
      "[CV] copy_X=True, fit_intercept=True, normalize=True .................\n",
      "[CV]  copy_X=True, fit_intercept=True, normalize=True, score=0.141, total=   0.0s\n",
      "[CV] copy_X=True, fit_intercept=True, normalize=True .................\n",
      "[CV]  copy_X=True, fit_intercept=True, normalize=True, score=0.104, total=   0.0s\n",
      "[CV] copy_X=True, fit_intercept=True, normalize=True .................\n",
      "[CV]  copy_X=True, fit_intercept=True, normalize=True, score=0.129, total=   0.0s\n",
      "[CV] copy_X=True, fit_intercept=True, normalize=False ................\n",
      "[CV]  copy_X=True, fit_intercept=True, normalize=False, score=0.099, total=   0.0s\n",
      "[CV] copy_X=True, fit_intercept=True, normalize=False ................\n",
      "[CV]  copy_X=True, fit_intercept=True, normalize=False, score=0.083, total=   0.0s\n",
      "[CV] copy_X=True, fit_intercept=True, normalize=False ................\n",
      "[CV]  copy_X=True, fit_intercept=True, normalize=False, score=0.141, total=   0.0s\n",
      "[CV] copy_X=True, fit_intercept=True, normalize=False ................\n",
      "[CV]  copy_X=True, fit_intercept=True, normalize=False, score=0.104, total=   0.0s\n",
      "[CV] copy_X=True, fit_intercept=True, normalize=False ................\n",
      "[CV]  copy_X=True, fit_intercept=True, normalize=False, score=0.129, total=   0.0s\n",
      "[CV] copy_X=True, fit_intercept=False, normalize=True ................\n",
      "[CV]  copy_X=True, fit_intercept=False, normalize=True, score=-5.247, total=   0.0s\n",
      "[CV] copy_X=True, fit_intercept=False, normalize=True ................\n",
      "[CV]  copy_X=True, fit_intercept=False, normalize=True, score=-5.090, total=   0.0s\n",
      "[CV] copy_X=True, fit_intercept=False, normalize=True ................\n",
      "[CV]  copy_X=True, fit_intercept=False, normalize=True, score=-5.366, total=   0.0s\n",
      "[CV] copy_X=True, fit_intercept=False, normalize=True ................\n",
      "[CV]  copy_X=True, fit_intercept=False, normalize=True, score=-4.855, total=   0.0s\n",
      "[CV] copy_X=True, fit_intercept=False, normalize=True ................\n",
      "[CV]  copy_X=True, fit_intercept=False, normalize=True, score=-5.282, total=   0.0s\n",
      "[CV] copy_X=True, fit_intercept=False, normalize=False ...............\n",
      "[CV]  copy_X=True, fit_intercept=False, normalize=False, score=-5.247, total=   0.0s\n",
      "[CV] copy_X=True, fit_intercept=False, normalize=False ...............\n",
      "[CV]  copy_X=True, fit_intercept=False, normalize=False, score=-5.090, total=   0.0s\n",
      "[CV] copy_X=True, fit_intercept=False, normalize=False ...............\n",
      "[CV]  copy_X=True, fit_intercept=False, normalize=False, score=-5.366, total=   0.0s\n",
      "[CV] copy_X=True, fit_intercept=False, normalize=False ...............\n",
      "[CV]  copy_X=True, fit_intercept=False, normalize=False, score=-4.855, total=   0.0s\n",
      "[CV] copy_X=True, fit_intercept=False, normalize=False ...............\n",
      "[CV]  copy_X=True, fit_intercept=False, normalize=False, score=-5.282, total=   0.0s\n",
      "[CV] copy_X=False, fit_intercept=True, normalize=True ................\n",
      "[CV]  copy_X=False, fit_intercept=True, normalize=True, score=0.099, total=   0.0s\n",
      "[CV] copy_X=False, fit_intercept=True, normalize=True ................\n",
      "[CV]  copy_X=False, fit_intercept=True, normalize=True, score=0.083, total=   0.0s\n",
      "[CV] copy_X=False, fit_intercept=True, normalize=True ................\n",
      "[CV]  copy_X=False, fit_intercept=True, normalize=True, score=0.141, total=   0.0s\n",
      "[CV] copy_X=False, fit_intercept=True, normalize=True ................\n",
      "[CV]  copy_X=False, fit_intercept=True, normalize=True, score=0.104, total=   0.0s\n",
      "[CV] copy_X=False, fit_intercept=True, normalize=True ................\n",
      "[CV]  copy_X=False, fit_intercept=True, normalize=True, score=0.129, total=   0.0s\n",
      "[CV] copy_X=False, fit_intercept=True, normalize=False ...............\n",
      "[CV]  copy_X=False, fit_intercept=True, normalize=False, score=0.099, total=   0.0s\n",
      "[CV] copy_X=False, fit_intercept=True, normalize=False ...............\n",
      "[CV]  copy_X=False, fit_intercept=True, normalize=False, score=0.083, total=   0.0s\n",
      "[CV] copy_X=False, fit_intercept=True, normalize=False ...............\n",
      "[CV]  copy_X=False, fit_intercept=True, normalize=False, score=0.141, total=   0.0s\n",
      "[CV] copy_X=False, fit_intercept=True, normalize=False ...............\n",
      "[CV]  copy_X=False, fit_intercept=True, normalize=False, score=0.104, total=   0.0s\n",
      "[CV] copy_X=False, fit_intercept=True, normalize=False ...............\n",
      "[CV]  copy_X=False, fit_intercept=True, normalize=False, score=0.129, total=   0.0s\n",
      "[CV] copy_X=False, fit_intercept=False, normalize=True ...............\n",
      "[CV]  copy_X=False, fit_intercept=False, normalize=True, score=-5.247, total=   0.0s\n",
      "[CV] copy_X=False, fit_intercept=False, normalize=True ...............\n",
      "[CV]  copy_X=False, fit_intercept=False, normalize=True, score=-5.090, total=   0.0s\n",
      "[CV] copy_X=False, fit_intercept=False, normalize=True ...............\n",
      "[CV]  copy_X=False, fit_intercept=False, normalize=True, score=-5.366, total=   0.0s\n",
      "[CV] copy_X=False, fit_intercept=False, normalize=True ...............\n",
      "[CV]  copy_X=False, fit_intercept=False, normalize=True, score=-4.855, total=   0.0s\n",
      "[CV] copy_X=False, fit_intercept=False, normalize=True ...............\n",
      "[CV]  copy_X=False, fit_intercept=False, normalize=True, score=-5.282, total=   0.0s\n",
      "[CV] copy_X=False, fit_intercept=False, normalize=False ..............\n",
      "[CV]  copy_X=False, fit_intercept=False, normalize=False, score=-5.247, total=   0.0s\n",
      "[CV] copy_X=False, fit_intercept=False, normalize=False ..............\n",
      "[CV]  copy_X=False, fit_intercept=False, normalize=False, score=-5.090, total=   0.0s\n",
      "[CV] copy_X=False, fit_intercept=False, normalize=False ..............\n",
      "[CV]  copy_X=False, fit_intercept=False, normalize=False, score=-5.366, total=   0.0s\n",
      "[CV] copy_X=False, fit_intercept=False, normalize=False ..............\n",
      "[CV]  copy_X=False, fit_intercept=False, normalize=False, score=-4.855, total=   0.0s\n",
      "[CV] copy_X=False, fit_intercept=False, normalize=False ..............\n",
      "[CV]  copy_X=False, fit_intercept=False, normalize=False, score=-5.282, total=   0.0s\n"
     ]
    },
    {
     "name": "stderr",
     "output_type": "stream",
     "text": [
      "[Parallel(n_jobs=1)]: Using backend SequentialBackend with 1 concurrent workers.\n",
      "[Parallel(n_jobs=1)]: Done   1 out of   1 | elapsed:    0.0s remaining:    0.0s\n",
      "[Parallel(n_jobs=1)]: Done   2 out of   2 | elapsed:    0.0s remaining:    0.0s\n",
      "[Parallel(n_jobs=1)]: Done  40 out of  40 | elapsed:    0.1s finished\n"
     ]
    },
    {
     "data": {
      "text/plain": [
       "GridSearchCV(estimator=LinearRegression(),\n",
       "             param_grid={'copy_X': [True, False],\n",
       "                         'fit_intercept': [True, False],\n",
       "                         'normalize': [True, False]},\n",
       "             verbose=3)"
      ]
     },
     "execution_count": 224,
     "metadata": {},
     "output_type": "execute_result"
    }
   ],
   "source": [
    "# Train the model with GridSearch\n",
    "grid.fit(X_train,y_train)"
   ]
  },
  {
   "cell_type": "code",
   "execution_count": null,
   "metadata": {},
   "outputs": [],
   "source": []
  }
 ],
 "metadata": {
  "kernelspec": {
   "display_name": "Python 3",
   "language": "python",
   "name": "python3"
  },
  "language_info": {
   "codemirror_mode": {
    "name": "ipython",
    "version": 3
   },
   "file_extension": ".py",
   "mimetype": "text/x-python",
   "name": "python",
   "nbconvert_exporter": "python",
   "pygments_lexer": "ipython3",
   "version": "3.7.7"
  }
 },
 "nbformat": 4,
 "nbformat_minor": 4
}
