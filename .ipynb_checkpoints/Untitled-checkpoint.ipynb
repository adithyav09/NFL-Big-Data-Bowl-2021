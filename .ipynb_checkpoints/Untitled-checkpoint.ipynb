{
 "cells": [
  {
   "cell_type": "code",
   "execution_count": 2,
   "metadata": {},
   "outputs": [],
   "source": [
    "import pandas as pd\n",
    "from pandas import DataFrame\n",
    "from statsmodels.tsa.arima_model import ARIMA\n",
    "from matplotlib import pyplot"
   ]
  },
  {
   "cell_type": "code",
   "execution_count": 59,
   "metadata": {},
   "outputs": [
    {
     "name": "stderr",
     "output_type": "stream",
     "text": [
      "C:\\Users\\Kyle\\anaconda3\\lib\\site-packages\\IPython\\core\\interactiveshell.py:3063: DtypeWarning: Columns (0,2,5,10) have mixed types.Specify dtype option on import or set low_memory=False.\n",
      "  interactivity=interactivity, compiler=compiler, result=result)\n"
     ]
    }
   ],
   "source": [
    "df1 = pd.read_csv('2015_through_2020_Results.csv')\n",
    "dfFPI = pd.read_csv('2015-2020_FPI.csv')"
   ]
  },
  {
   "cell_type": "code",
   "execution_count": 60,
   "metadata": {},
   "outputs": [
    {
     "data": {
      "text/html": [
       "<div>\n",
       "<style scoped>\n",
       "    .dataframe tbody tr th:only-of-type {\n",
       "        vertical-align: middle;\n",
       "    }\n",
       "\n",
       "    .dataframe tbody tr th {\n",
       "        vertical-align: top;\n",
       "    }\n",
       "\n",
       "    .dataframe thead th {\n",
       "        text-align: right;\n",
       "    }\n",
       "</style>\n",
       "<table border=\"1\" class=\"dataframe\">\n",
       "  <thead>\n",
       "    <tr style=\"text-align: right;\">\n",
       "      <th></th>\n",
       "      <th>Year</th>\n",
       "      <th>Week</th>\n",
       "      <th>Day</th>\n",
       "      <th>Date</th>\n",
       "      <th>Time</th>\n",
       "      <th>Winner/tie</th>\n",
       "      <th>Unnamed: 6</th>\n",
       "      <th>Loser/tie</th>\n",
       "      <th>Unnamed: 8</th>\n",
       "      <th>PtsW</th>\n",
       "      <th>PtsL</th>\n",
       "      <th>YdsW</th>\n",
       "      <th>TOW</th>\n",
       "      <th>YdsL</th>\n",
       "      <th>TOL</th>\n",
       "    </tr>\n",
       "  </thead>\n",
       "  <tbody>\n",
       "    <tr>\n",
       "      <th>0</th>\n",
       "      <td>2015.0</td>\n",
       "      <td>17</td>\n",
       "      <td>Sun</td>\n",
       "      <td>3-Jan</td>\n",
       "      <td>1:02PM</td>\n",
       "      <td>Detroit Lions</td>\n",
       "      <td>@</td>\n",
       "      <td>Chicago Bears</td>\n",
       "      <td>boxscore</td>\n",
       "      <td>24.0</td>\n",
       "      <td>20.0</td>\n",
       "      <td>349.0</td>\n",
       "      <td>0.0</td>\n",
       "      <td>345.0</td>\n",
       "      <td>3.0</td>\n",
       "    </tr>\n",
       "    <tr>\n",
       "      <th>1</th>\n",
       "      <td>2015.0</td>\n",
       "      <td>17</td>\n",
       "      <td>Sun</td>\n",
       "      <td>3-Jan</td>\n",
       "      <td>1:02PM</td>\n",
       "      <td>Indianapolis Colts</td>\n",
       "      <td>NaN</td>\n",
       "      <td>Tennessee Titans</td>\n",
       "      <td>boxscore</td>\n",
       "      <td>30.0</td>\n",
       "      <td>24.0</td>\n",
       "      <td>327.0</td>\n",
       "      <td>1.0</td>\n",
       "      <td>231.0</td>\n",
       "      <td>1.0</td>\n",
       "    </tr>\n",
       "    <tr>\n",
       "      <th>2</th>\n",
       "      <td>2015.0</td>\n",
       "      <td>17</td>\n",
       "      <td>Sun</td>\n",
       "      <td>3-Jan</td>\n",
       "      <td>1:02PM</td>\n",
       "      <td>Cincinnati Bengals</td>\n",
       "      <td>NaN</td>\n",
       "      <td>Baltimore Ravens</td>\n",
       "      <td>boxscore</td>\n",
       "      <td>24.0</td>\n",
       "      <td>16.0</td>\n",
       "      <td>292.0</td>\n",
       "      <td>0.0</td>\n",
       "      <td>341.0</td>\n",
       "      <td>2.0</td>\n",
       "    </tr>\n",
       "    <tr>\n",
       "      <th>3</th>\n",
       "      <td>2015.0</td>\n",
       "      <td>17</td>\n",
       "      <td>Sun</td>\n",
       "      <td>3-Jan</td>\n",
       "      <td>1:02PM</td>\n",
       "      <td>New Orleans Saints</td>\n",
       "      <td>@</td>\n",
       "      <td>Atlanta Falcons</td>\n",
       "      <td>boxscore</td>\n",
       "      <td>20.0</td>\n",
       "      <td>17.0</td>\n",
       "      <td>390.0</td>\n",
       "      <td>1.0</td>\n",
       "      <td>414.0</td>\n",
       "      <td>2.0</td>\n",
       "    </tr>\n",
       "    <tr>\n",
       "      <th>4</th>\n",
       "      <td>2015.0</td>\n",
       "      <td>17</td>\n",
       "      <td>Sun</td>\n",
       "      <td>3-Jan</td>\n",
       "      <td>1:02PM</td>\n",
       "      <td>Miami Dolphins</td>\n",
       "      <td>NaN</td>\n",
       "      <td>New England Patriots</td>\n",
       "      <td>boxscore</td>\n",
       "      <td>20.0</td>\n",
       "      <td>10.0</td>\n",
       "      <td>438.0</td>\n",
       "      <td>0.0</td>\n",
       "      <td>196.0</td>\n",
       "      <td>0.0</td>\n",
       "    </tr>\n",
       "  </tbody>\n",
       "</table>\n",
       "</div>"
      ],
      "text/plain": [
       "     Year Week  Day   Date    Time          Winner/tie Unnamed: 6  \\\n",
       "0  2015.0   17  Sun  3-Jan  1:02PM       Detroit Lions          @   \n",
       "1  2015.0   17  Sun  3-Jan  1:02PM  Indianapolis Colts        NaN   \n",
       "2  2015.0   17  Sun  3-Jan  1:02PM  Cincinnati Bengals        NaN   \n",
       "3  2015.0   17  Sun  3-Jan  1:02PM  New Orleans Saints          @   \n",
       "4  2015.0   17  Sun  3-Jan  1:02PM      Miami Dolphins        NaN   \n",
       "\n",
       "              Loser/tie Unnamed: 8  PtsW  PtsL   YdsW  TOW   YdsL  TOL  \n",
       "0         Chicago Bears   boxscore  24.0  20.0  349.0  0.0  345.0  3.0  \n",
       "1      Tennessee Titans   boxscore  30.0  24.0  327.0  1.0  231.0  1.0  \n",
       "2      Baltimore Ravens   boxscore  24.0  16.0  292.0  0.0  341.0  2.0  \n",
       "3       Atlanta Falcons   boxscore  20.0  17.0  390.0  1.0  414.0  2.0  \n",
       "4  New England Patriots   boxscore  20.0  10.0  438.0  0.0  196.0  0.0  "
      ]
     },
     "execution_count": 60,
     "metadata": {},
     "output_type": "execute_result"
    }
   ],
   "source": [
    "df1.head()"
   ]
  },
  {
   "cell_type": "code",
   "execution_count": 66,
   "metadata": {},
   "outputs": [],
   "source": [
    "dfFPI = dfFPI.dropna(how = 'all')"
   ]
  },
  {
   "cell_type": "code",
   "execution_count": null,
   "metadata": {},
   "outputs": [],
   "source": []
  },
  {
   "cell_type": "code",
   "execution_count": 61,
   "metadata": {},
   "outputs": [
    {
     "data": {
      "text/html": [
       "<div>\n",
       "<style scoped>\n",
       "    .dataframe tbody tr th:only-of-type {\n",
       "        vertical-align: middle;\n",
       "    }\n",
       "\n",
       "    .dataframe tbody tr th {\n",
       "        vertical-align: top;\n",
       "    }\n",
       "\n",
       "    .dataframe thead th {\n",
       "        text-align: right;\n",
       "    }\n",
       "</style>\n",
       "<table border=\"1\" class=\"dataframe\">\n",
       "  <thead>\n",
       "    <tr style=\"text-align: right;\">\n",
       "      <th></th>\n",
       "      <th>TEAM</th>\n",
       "      <th>Year</th>\n",
       "      <th>W-L-T</th>\n",
       "      <th>Power Index FPI</th>\n",
       "      <th>Power Index RK</th>\n",
       "      <th>Power Index TREND</th>\n",
       "      <th>Power Index OFF</th>\n",
       "      <th>Power Index DEF</th>\n",
       "      <th>Power Index ST</th>\n",
       "      <th>Ranks SOS</th>\n",
       "      <th>Ranks REM SOS</th>\n",
       "      <th>Ranks AVGWP</th>\n",
       "    </tr>\n",
       "  </thead>\n",
       "  <tbody>\n",
       "    <tr>\n",
       "      <th>0</th>\n",
       "      <td>Seattle Seahawks</td>\n",
       "      <td>2015.0</td>\n",
       "      <td>11-7-0</td>\n",
       "      <td>8.8</td>\n",
       "      <td>1.0</td>\n",
       "      <td>--</td>\n",
       "      <td>6.0</td>\n",
       "      <td>3.0</td>\n",
       "      <td>-0.3</td>\n",
       "      <td>6.0</td>\n",
       "      <td>--</td>\n",
       "      <td>6.0</td>\n",
       "    </tr>\n",
       "    <tr>\n",
       "      <th>1</th>\n",
       "      <td>Arizona Cardinals</td>\n",
       "      <td>2015.0</td>\n",
       "      <td>14-4-0</td>\n",
       "      <td>8.3</td>\n",
       "      <td>2.0</td>\n",
       "      <td>--</td>\n",
       "      <td>6.0</td>\n",
       "      <td>2.6</td>\n",
       "      <td>-0.4</td>\n",
       "      <td>17.0</td>\n",
       "      <td>--</td>\n",
       "      <td>3.0</td>\n",
       "    </tr>\n",
       "    <tr>\n",
       "      <th>2</th>\n",
       "      <td>Carolina Panthers</td>\n",
       "      <td>2015.0</td>\n",
       "      <td>17-2-0</td>\n",
       "      <td>7.9</td>\n",
       "      <td>3.0</td>\n",
       "      <td>--</td>\n",
       "      <td>3.5</td>\n",
       "      <td>4.8</td>\n",
       "      <td>-0.4</td>\n",
       "      <td>28.0</td>\n",
       "      <td>--</td>\n",
       "      <td>1.0</td>\n",
       "    </tr>\n",
       "    <tr>\n",
       "      <th>3</th>\n",
       "      <td>New England Patriots</td>\n",
       "      <td>2015.0</td>\n",
       "      <td>13-5-0</td>\n",
       "      <td>7.2</td>\n",
       "      <td>4.0</td>\n",
       "      <td>--</td>\n",
       "      <td>5.6</td>\n",
       "      <td>1.2</td>\n",
       "      <td>0.4</td>\n",
       "      <td>18.0</td>\n",
       "      <td>--</td>\n",
       "      <td>2.0</td>\n",
       "    </tr>\n",
       "    <tr>\n",
       "      <th>4</th>\n",
       "      <td>Pittsburgh Steelers</td>\n",
       "      <td>2015.0</td>\n",
       "      <td>11-7-0</td>\n",
       "      <td>7.1</td>\n",
       "      <td>5.0</td>\n",
       "      <td>--</td>\n",
       "      <td>4.9</td>\n",
       "      <td>1.9</td>\n",
       "      <td>0.3</td>\n",
       "      <td>5.0</td>\n",
       "      <td>--</td>\n",
       "      <td>9.0</td>\n",
       "    </tr>\n",
       "  </tbody>\n",
       "</table>\n",
       "</div>"
      ],
      "text/plain": [
       "                   TEAM   Year    W-L-T  Power Index FPI  Power Index RK  \\\n",
       "0      Seattle Seahawks  2015.0  11-7-0              8.8             1.0   \n",
       "1     Arizona Cardinals  2015.0  14-4-0              8.3             2.0   \n",
       "2     Carolina Panthers  2015.0  17-2-0              7.9             3.0   \n",
       "3  New England Patriots  2015.0  13-5-0              7.2             4.0   \n",
       "4   Pittsburgh Steelers  2015.0  11-7-0              7.1             5.0   \n",
       "\n",
       "  Power Index TREND  Power Index OFF  Power Index DEF  Power Index ST  \\\n",
       "0                --              6.0              3.0            -0.3   \n",
       "1                --              6.0              2.6            -0.4   \n",
       "2                --              3.5              4.8            -0.4   \n",
       "3                --              5.6              1.2             0.4   \n",
       "4                --              4.9              1.9             0.3   \n",
       "\n",
       "   Ranks SOS Ranks REM SOS  Ranks AVGWP  \n",
       "0        6.0            --          6.0  \n",
       "1       17.0            --          3.0  \n",
       "2       28.0            --          1.0  \n",
       "3       18.0            --          2.0  \n",
       "4        5.0            --          9.0  "
      ]
     },
     "execution_count": 61,
     "metadata": {},
     "output_type": "execute_result"
    }
   ],
   "source": [
    "dfFPI.head()"
   ]
  },
  {
   "cell_type": "code",
   "execution_count": 67,
   "metadata": {},
   "outputs": [
    {
     "data": {
      "text/html": [
       "<div>\n",
       "<style scoped>\n",
       "    .dataframe tbody tr th:only-of-type {\n",
       "        vertical-align: middle;\n",
       "    }\n",
       "\n",
       "    .dataframe tbody tr th {\n",
       "        vertical-align: top;\n",
       "    }\n",
       "\n",
       "    .dataframe thead th {\n",
       "        text-align: right;\n",
       "    }\n",
       "</style>\n",
       "<table border=\"1\" class=\"dataframe\">\n",
       "  <thead>\n",
       "    <tr style=\"text-align: right;\">\n",
       "      <th></th>\n",
       "      <th>Year</th>\n",
       "      <th>Week</th>\n",
       "      <th>Day</th>\n",
       "      <th>Date</th>\n",
       "      <th>Time</th>\n",
       "      <th>Winner/tie</th>\n",
       "      <th>Unnamed: 6</th>\n",
       "      <th>Loser/tie</th>\n",
       "      <th>Unnamed: 8</th>\n",
       "      <th>PtsW</th>\n",
       "      <th>PtsL</th>\n",
       "      <th>YdsW</th>\n",
       "      <th>TOW</th>\n",
       "      <th>YdsL</th>\n",
       "      <th>TOL</th>\n",
       "    </tr>\n",
       "  </thead>\n",
       "  <tbody>\n",
       "    <tr>\n",
       "      <th>0</th>\n",
       "      <td>2015.0</td>\n",
       "      <td>17</td>\n",
       "      <td>Sun</td>\n",
       "      <td>3-Jan</td>\n",
       "      <td>1:02PM</td>\n",
       "      <td>Detroit Lions</td>\n",
       "      <td>@</td>\n",
       "      <td>Chicago Bears</td>\n",
       "      <td>boxscore</td>\n",
       "      <td>24.0</td>\n",
       "      <td>20.0</td>\n",
       "      <td>349.0</td>\n",
       "      <td>0.0</td>\n",
       "      <td>345.0</td>\n",
       "      <td>3.0</td>\n",
       "    </tr>\n",
       "    <tr>\n",
       "      <th>1</th>\n",
       "      <td>2015.0</td>\n",
       "      <td>17</td>\n",
       "      <td>Sun</td>\n",
       "      <td>3-Jan</td>\n",
       "      <td>1:02PM</td>\n",
       "      <td>Indianapolis Colts</td>\n",
       "      <td>NaN</td>\n",
       "      <td>Tennessee Titans</td>\n",
       "      <td>boxscore</td>\n",
       "      <td>30.0</td>\n",
       "      <td>24.0</td>\n",
       "      <td>327.0</td>\n",
       "      <td>1.0</td>\n",
       "      <td>231.0</td>\n",
       "      <td>1.0</td>\n",
       "    </tr>\n",
       "    <tr>\n",
       "      <th>2</th>\n",
       "      <td>2015.0</td>\n",
       "      <td>17</td>\n",
       "      <td>Sun</td>\n",
       "      <td>3-Jan</td>\n",
       "      <td>1:02PM</td>\n",
       "      <td>Cincinnati Bengals</td>\n",
       "      <td>NaN</td>\n",
       "      <td>Baltimore Ravens</td>\n",
       "      <td>boxscore</td>\n",
       "      <td>24.0</td>\n",
       "      <td>16.0</td>\n",
       "      <td>292.0</td>\n",
       "      <td>0.0</td>\n",
       "      <td>341.0</td>\n",
       "      <td>2.0</td>\n",
       "    </tr>\n",
       "    <tr>\n",
       "      <th>3</th>\n",
       "      <td>2015.0</td>\n",
       "      <td>17</td>\n",
       "      <td>Sun</td>\n",
       "      <td>3-Jan</td>\n",
       "      <td>1:02PM</td>\n",
       "      <td>New Orleans Saints</td>\n",
       "      <td>@</td>\n",
       "      <td>Atlanta Falcons</td>\n",
       "      <td>boxscore</td>\n",
       "      <td>20.0</td>\n",
       "      <td>17.0</td>\n",
       "      <td>390.0</td>\n",
       "      <td>1.0</td>\n",
       "      <td>414.0</td>\n",
       "      <td>2.0</td>\n",
       "    </tr>\n",
       "    <tr>\n",
       "      <th>4</th>\n",
       "      <td>2015.0</td>\n",
       "      <td>17</td>\n",
       "      <td>Sun</td>\n",
       "      <td>3-Jan</td>\n",
       "      <td>1:02PM</td>\n",
       "      <td>Miami Dolphins</td>\n",
       "      <td>NaN</td>\n",
       "      <td>New England Patriots</td>\n",
       "      <td>boxscore</td>\n",
       "      <td>20.0</td>\n",
       "      <td>10.0</td>\n",
       "      <td>438.0</td>\n",
       "      <td>0.0</td>\n",
       "      <td>196.0</td>\n",
       "      <td>0.0</td>\n",
       "    </tr>\n",
       "    <tr>\n",
       "      <th>...</th>\n",
       "      <td>...</td>\n",
       "      <td>...</td>\n",
       "      <td>...</td>\n",
       "      <td>...</td>\n",
       "      <td>...</td>\n",
       "      <td>...</td>\n",
       "      <td>...</td>\n",
       "      <td>...</td>\n",
       "      <td>...</td>\n",
       "      <td>...</td>\n",
       "      <td>...</td>\n",
       "      <td>...</td>\n",
       "      <td>...</td>\n",
       "      <td>...</td>\n",
       "      <td>...</td>\n",
       "    </tr>\n",
       "    <tr>\n",
       "      <th>1591</th>\n",
       "      <td>NaN</td>\n",
       "      <td>NaN</td>\n",
       "      <td>NaN</td>\n",
       "      <td>NaN</td>\n",
       "      <td>NaN</td>\n",
       "      <td>NaN</td>\n",
       "      <td>NaN</td>\n",
       "      <td>NaN</td>\n",
       "      <td>NaN</td>\n",
       "      <td>NaN</td>\n",
       "      <td>NaN</td>\n",
       "      <td>NaN</td>\n",
       "      <td>NaN</td>\n",
       "      <td>NaN</td>\n",
       "      <td>NaN</td>\n",
       "    </tr>\n",
       "    <tr>\n",
       "      <th>1592</th>\n",
       "      <td>NaN</td>\n",
       "      <td>NaN</td>\n",
       "      <td>NaN</td>\n",
       "      <td>NaN</td>\n",
       "      <td>NaN</td>\n",
       "      <td>NaN</td>\n",
       "      <td>NaN</td>\n",
       "      <td>NaN</td>\n",
       "      <td>NaN</td>\n",
       "      <td>NaN</td>\n",
       "      <td>NaN</td>\n",
       "      <td>NaN</td>\n",
       "      <td>NaN</td>\n",
       "      <td>NaN</td>\n",
       "      <td>NaN</td>\n",
       "    </tr>\n",
       "    <tr>\n",
       "      <th>1593</th>\n",
       "      <td>NaN</td>\n",
       "      <td>NaN</td>\n",
       "      <td>NaN</td>\n",
       "      <td>NaN</td>\n",
       "      <td>NaN</td>\n",
       "      <td>NaN</td>\n",
       "      <td>NaN</td>\n",
       "      <td>NaN</td>\n",
       "      <td>NaN</td>\n",
       "      <td>NaN</td>\n",
       "      <td>NaN</td>\n",
       "      <td>NaN</td>\n",
       "      <td>NaN</td>\n",
       "      <td>NaN</td>\n",
       "      <td>NaN</td>\n",
       "    </tr>\n",
       "    <tr>\n",
       "      <th>1594</th>\n",
       "      <td>NaN</td>\n",
       "      <td>NaN</td>\n",
       "      <td>NaN</td>\n",
       "      <td>NaN</td>\n",
       "      <td>NaN</td>\n",
       "      <td>NaN</td>\n",
       "      <td>NaN</td>\n",
       "      <td>NaN</td>\n",
       "      <td>NaN</td>\n",
       "      <td>NaN</td>\n",
       "      <td>NaN</td>\n",
       "      <td>NaN</td>\n",
       "      <td>NaN</td>\n",
       "      <td>NaN</td>\n",
       "      <td>NaN</td>\n",
       "    </tr>\n",
       "    <tr>\n",
       "      <th>1595</th>\n",
       "      <td>NaN</td>\n",
       "      <td>NaN</td>\n",
       "      <td>NaN</td>\n",
       "      <td>NaN</td>\n",
       "      <td>NaN</td>\n",
       "      <td>NaN</td>\n",
       "      <td>NaN</td>\n",
       "      <td>NaN</td>\n",
       "      <td>NaN</td>\n",
       "      <td>NaN</td>\n",
       "      <td>NaN</td>\n",
       "      <td>NaN</td>\n",
       "      <td>NaN</td>\n",
       "      <td>NaN</td>\n",
       "      <td>NaN</td>\n",
       "    </tr>\n",
       "  </tbody>\n",
       "</table>\n",
       "<p>1596 rows × 15 columns</p>\n",
       "</div>"
      ],
      "text/plain": [
       "        Year Week  Day   Date    Time          Winner/tie Unnamed: 6  \\\n",
       "0     2015.0   17  Sun  3-Jan  1:02PM       Detroit Lions          @   \n",
       "1     2015.0   17  Sun  3-Jan  1:02PM  Indianapolis Colts        NaN   \n",
       "2     2015.0   17  Sun  3-Jan  1:02PM  Cincinnati Bengals        NaN   \n",
       "3     2015.0   17  Sun  3-Jan  1:02PM  New Orleans Saints          @   \n",
       "4     2015.0   17  Sun  3-Jan  1:02PM      Miami Dolphins        NaN   \n",
       "...      ...  ...  ...    ...     ...                 ...        ...   \n",
       "1591     NaN  NaN  NaN    NaN     NaN                 NaN        NaN   \n",
       "1592     NaN  NaN  NaN    NaN     NaN                 NaN        NaN   \n",
       "1593     NaN  NaN  NaN    NaN     NaN                 NaN        NaN   \n",
       "1594     NaN  NaN  NaN    NaN     NaN                 NaN        NaN   \n",
       "1595     NaN  NaN  NaN    NaN     NaN                 NaN        NaN   \n",
       "\n",
       "                 Loser/tie Unnamed: 8  PtsW  PtsL   YdsW  TOW   YdsL  TOL  \n",
       "0            Chicago Bears   boxscore  24.0  20.0  349.0  0.0  345.0  3.0  \n",
       "1         Tennessee Titans   boxscore  30.0  24.0  327.0  1.0  231.0  1.0  \n",
       "2         Baltimore Ravens   boxscore  24.0  16.0  292.0  0.0  341.0  2.0  \n",
       "3          Atlanta Falcons   boxscore  20.0  17.0  390.0  1.0  414.0  2.0  \n",
       "4     New England Patriots   boxscore  20.0  10.0  438.0  0.0  196.0  0.0  \n",
       "...                    ...        ...   ...   ...    ...  ...    ...  ...  \n",
       "1591                   NaN        NaN   NaN   NaN    NaN  NaN    NaN  NaN  \n",
       "1592                   NaN        NaN   NaN   NaN    NaN  NaN    NaN  NaN  \n",
       "1593                   NaN        NaN   NaN   NaN    NaN  NaN    NaN  NaN  \n",
       "1594                   NaN        NaN   NaN   NaN    NaN  NaN    NaN  NaN  \n",
       "1595                   NaN        NaN   NaN   NaN    NaN  NaN    NaN  NaN  \n",
       "\n",
       "[1596 rows x 15 columns]"
      ]
     },
     "execution_count": 67,
     "metadata": {},
     "output_type": "execute_result"
    }
   ],
   "source": [
    "df1"
   ]
  },
  {
   "cell_type": "code",
   "execution_count": 94,
   "metadata": {},
   "outputs": [
    {
     "data": {
      "text/plain": [
       "Year          float64\n",
       "Week           object\n",
       "Day            object\n",
       "Date           object\n",
       "Time           object\n",
       "Winner/tie     object\n",
       "Unnamed: 6     object\n",
       "Loser/tie      object\n",
       "Unnamed: 8     object\n",
       "PtsW          float64\n",
       "PtsL          float64\n",
       "YdsW          float64\n",
       "TOW           float64\n",
       "YdsL          float64\n",
       "TOL           float64\n",
       "dtype: object"
      ]
     },
     "execution_count": 94,
     "metadata": {},
     "output_type": "execute_result"
    }
   ],
   "source": [
    "df1.join(dfFPI)\n",
    "df1.dtypes"
   ]
  },
  {
   "cell_type": "code",
   "execution_count": 68,
   "metadata": {},
   "outputs": [
    {
     "data": {
      "text/plain": [
       "Index(['Year', 'Week', 'Day', 'Date', 'Time', 'Winner/tie', 'Unnamed: 6',\n",
       "       'Loser/tie', 'Unnamed: 8', 'PtsW', 'PtsL', 'YdsW', 'TOW', 'YdsL',\n",
       "       'TOL'],\n",
       "      dtype='object')"
      ]
     },
     "execution_count": 68,
     "metadata": {},
     "output_type": "execute_result"
    }
   ],
   "source": [
    "# pd.merge(df1, dfFPI, left_on = ['Year', 'Winner/tie'], right_on = ['Year', 'Team'])\n",
    "df1.columns"
   ]
  },
  {
   "cell_type": "code",
   "execution_count": 96,
   "metadata": {},
   "outputs": [
    {
     "data": {
      "text/plain": [
       "Index(['TEAM', 'Year ', 'W-L-T', 'Power Index FPI', 'Power Index RK',\n",
       "       'Power Index TREND', 'Power Index OFF', 'Power Index DEF',\n",
       "       'Power Index ST', 'Ranks SOS', 'Ranks REM SOS', 'Ranks AVGWP'],\n",
       "      dtype='object')"
      ]
     },
     "execution_count": 96,
     "metadata": {},
     "output_type": "execute_result"
    }
   ],
   "source": [
    "dfFPI = dfFPI.rename({'Year' :'Year '})\n",
    "dfFPI.columns"
   ]
  },
  {
   "cell_type": "code",
   "execution_count": 71,
   "metadata": {},
   "outputs": [],
   "source": [
    "WinnerMergedDF = pd.merge(df1, dfFPI, left_on = ['Year', 'Winner/tie'], right_on = ['Year ', 'TEAM'], suffixes = ('', '_Winning Team'))"
   ]
  },
  {
   "cell_type": "code",
   "execution_count": 72,
   "metadata": {},
   "outputs": [],
   "source": [
    "LoserMergedDF = pd.merge(WinnerMergedDF, dfFPI, left_on = ['Year', 'Loser/tie'], right_on = ['Year ', 'TEAM'], suffixes = ('', '_Losing Team'))"
   ]
  },
  {
   "cell_type": "code",
   "execution_count": 202,
   "metadata": {},
   "outputs": [],
   "source": [
    "LoserMergedDF = LoserMergedDF[~LoserMergedDF[[\"PtsL\"]].isnull().any(axis=1)]\n",
    "LoserMergedDF.to_csv(\"LoserMerged.csv\")"
   ]
  },
  {
   "cell_type": "code",
   "execution_count": 198,
   "metadata": {},
   "outputs": [],
   "source": [
    "LoserTeamData = LoserMergedDF[['PtsL', 'Power Index FPI_Losing Team']]\n",
    "LoserTeamData = LoserTeamData.rename(columns = {'PtsL':'Pts','Power Index FPI_Losing Team': 'FPI'})\n",
    "LoserTeamData.to_csv(\"LoserTeamData.csv\", index = False)"
   ]
  },
  {
   "cell_type": "code",
   "execution_count": 203,
   "metadata": {},
   "outputs": [],
   "source": [
    "WinnerMergedDF = WinnerMergedDF[~WinnerMergedDF[[\"PtsW\"]].isnull().any(axis=1)]\n",
    "WinnerMergedDF.to_csv(\"WinnerMerged.csv\")"
   ]
  },
  {
   "cell_type": "code",
   "execution_count": 204,
   "metadata": {},
   "outputs": [],
   "source": [
    "WinnerTeamData = WinnerMergedDF[['PtsW', 'Power Index FPI']]\n",
    "WinnerTeamData = WinnerTeamData.rename(columns = {'PtsW':'Pts','Power Index FPI': 'FPI'})\n",
    "WinnerTeamData.dropna()\n",
    "WinnerTeamData.to_csv(\"WinnerTeamData.csv\", index = False)"
   ]
  },
  {
   "cell_type": "code",
   "execution_count": 205,
   "metadata": {},
   "outputs": [
    {
     "data": {
      "text/plain": [
       "Pts    0\n",
       "FPI    0\n",
       "dtype: int64"
      ]
     },
     "execution_count": 205,
     "metadata": {},
     "output_type": "execute_result"
    }
   ],
   "source": [
    "model_values = pd.concat([LoserTeamData, WinnerTeamData], axis = 0)\n",
    "model_values[model_values.isnull().any(axis=1)].count()"
   ]
  },
  {
   "cell_type": "code",
   "execution_count": 2,
   "metadata": {},
   "outputs": [],
   "source": [
    "from sklearn.model_selection import train_test_split\n",
    "model_values = pd.read_csv('Pts_FPI_values.csv')"
   ]
  },
  {
   "cell_type": "code",
   "execution_count": 3,
   "metadata": {},
   "outputs": [],
   "source": [
    "X = model_values.iloc[:,1].values\n",
    "y = model_values.iloc[:,0].values"
   ]
  },
  {
   "cell_type": "code",
   "execution_count": 4,
   "metadata": {},
   "outputs": [],
   "source": [
    "X_train, X_test, y_train, y_test = train_test_split(X,y)\n",
    "X_train = X_train.reshape(-1, 1)\n",
    "X_test = X_test.reshape(-1, 1)\n",
    "y_train = y_train.reshape(-1, 1)\n",
    "y_test = y_test.reshape(-1, 1)"
   ]
  },
  {
   "cell_type": "code",
   "execution_count": 5,
   "metadata": {},
   "outputs": [],
   "source": [
    "from sklearn.model_selection import train_test_split\n",
    "import sklearn.linear_model"
   ]
  },
  {
   "cell_type": "code",
   "execution_count": 6,
   "metadata": {},
   "outputs": [],
   "source": [
    "model = sklearn.linear_model.LinearRegression()"
   ]
  },
  {
   "cell_type": "code",
   "execution_count": 7,
   "metadata": {},
   "outputs": [
    {
     "data": {
      "text/plain": [
       "LinearRegression(copy_X=True, fit_intercept=True, n_jobs=None, normalize=False)"
      ]
     },
     "execution_count": 7,
     "metadata": {},
     "output_type": "execute_result"
    }
   ],
   "source": [
    "model.fit(X_train, y_train)"
   ]
  },
  {
   "cell_type": "code",
   "execution_count": 8,
   "metadata": {},
   "outputs": [
    {
     "data": {
      "text/plain": [
       "0.11055142737162282"
      ]
     },
     "execution_count": 8,
     "metadata": {},
     "output_type": "execute_result"
    }
   ],
   "source": [
    "model.score(X_train, y_train)"
   ]
  },
  {
   "cell_type": "code",
   "execution_count": 9,
   "metadata": {},
   "outputs": [
    {
     "data": {
      "text/plain": [
       "0.12843735019190494"
      ]
     },
     "execution_count": 9,
     "metadata": {},
     "output_type": "execute_result"
    }
   ],
   "source": [
    "model.score(X_test, y_test)"
   ]
  },
  {
   "cell_type": "code",
   "execution_count": 10,
   "metadata": {},
   "outputs": [
    {
     "data": {
      "text/plain": [
       "array([22.77514779])"
      ]
     },
     "execution_count": 10,
     "metadata": {},
     "output_type": "execute_result"
    }
   ],
   "source": [
    "model.intercept_"
   ]
  },
  {
   "cell_type": "code",
   "execution_count": 12,
   "metadata": {},
   "outputs": [],
   "source": [
    "y_pred = model.predict(X_test)"
   ]
  },
  {
   "cell_type": "code",
   "execution_count": 13,
   "metadata": {},
   "outputs": [],
   "source": [
    "sq_resid = (y_pred - y_test)**2"
   ]
  },
  {
   "cell_type": "code",
   "execution_count": 16,
   "metadata": {},
   "outputs": [],
   "source": [
    "import math"
   ]
  },
  {
   "cell_type": "code",
   "execution_count": 25,
   "metadata": {},
   "outputs": [
    {
     "data": {
      "text/plain": [
       "7.442342608071443"
      ]
     },
     "execution_count": 25,
     "metadata": {},
     "output_type": "execute_result"
    }
   ],
   "source": [
    "pd.Series(sq_resid.reshape(-1)).apply(math.sqrt).mean()"
   ]
  },
  {
   "cell_type": "code",
   "execution_count": 26,
   "metadata": {},
   "outputs": [],
   "source": [
    "model_diff = sklearn.linear_model.LinearRegression(normalize=True)"
   ]
  },
  {
   "cell_type": "code",
   "execution_count": 27,
   "metadata": {},
   "outputs": [
    {
     "data": {
      "text/plain": [
       "LinearRegression(copy_X=True, fit_intercept=True, n_jobs=None, normalize=True)"
      ]
     },
     "execution_count": 27,
     "metadata": {},
     "output_type": "execute_result"
    }
   ],
   "source": [
    "model_diff.fit(X_train, y_train)"
   ]
  },
  {
   "cell_type": "code",
   "execution_count": 29,
   "metadata": {},
   "outputs": [
    {
     "data": {
      "text/plain": [
       "0.11055142737162282"
      ]
     },
     "execution_count": 29,
     "metadata": {},
     "output_type": "execute_result"
    }
   ],
   "source": [
    "model_diff.score(X_train, y_train)"
   ]
  },
  {
   "cell_type": "code",
   "execution_count": 30,
   "metadata": {},
   "outputs": [
    {
     "data": {
      "text/plain": [
       "0.12843735019190494"
      ]
     },
     "execution_count": 30,
     "metadata": {},
     "output_type": "execute_result"
    }
   ],
   "source": [
    "model_diff.score(X_test, y_test)"
   ]
  },
  {
   "cell_type": "code",
   "execution_count": 10,
   "metadata": {},
   "outputs": [],
   "source": [
    "from sklearn.model_selection import GridSearchCV\n",
    "params = {'fit_intercept':[True,False], 'normalize':[True,False], 'copy_X':[True, False]}\n",
    "grid = GridSearchCV(model, params, verbose=3)"
   ]
  },
  {
   "cell_type": "code",
   "execution_count": 11,
   "metadata": {},
   "outputs": [
    {
     "name": "stdout",
     "output_type": "stream",
     "text": [
      "Fitting 5 folds for each of 8 candidates, totalling 40 fits\n",
      "[CV] copy_X=True, fit_intercept=True, normalize=True .................\n",
      "[CV]  copy_X=True, fit_intercept=True, normalize=True, score=0.134, total=   0.0s\n",
      "[CV] copy_X=True, fit_intercept=True, normalize=True .................\n",
      "[CV]  copy_X=True, fit_intercept=True, normalize=True, score=0.091, total=   0.0s\n",
      "[CV] copy_X=True, fit_intercept=True, normalize=True .................\n",
      "[CV]  copy_X=True, fit_intercept=True, normalize=True, score=0.079, total=   0.0s\n",
      "[CV] copy_X=True, fit_intercept=True, normalize=True .................\n",
      "[CV]  copy_X=True, fit_intercept=True, normalize=True, score=0.124, total=   0.0s\n",
      "[CV] copy_X=True, fit_intercept=True, normalize=True .................\n",
      "[CV]  copy_X=True, fit_intercept=True, normalize=True, score=0.154, total=   0.0s\n",
      "[CV] copy_X=True, fit_intercept=True, normalize=False ................\n",
      "[CV]  copy_X=True, fit_intercept=True, normalize=False, score=0.134, total=   0.0s\n",
      "[CV] copy_X=True, fit_intercept=True, normalize=False ................\n",
      "[CV]  copy_X=True, fit_intercept=True, normalize=False, score=0.091, total=   0.0s\n",
      "[CV] copy_X=True, fit_intercept=True, normalize=False ................\n",
      "[CV]  copy_X=True, fit_intercept=True, normalize=False, score=0.079, total=   0.0s\n",
      "[CV] copy_X=True, fit_intercept=True, normalize=False ................\n",
      "[CV]  copy_X=True, fit_intercept=True, normalize=False, score=0.124, total=   0.0s\n",
      "[CV] copy_X=True, fit_intercept=True, normalize=False ................\n",
      "[CV]  copy_X=True, fit_intercept=True, normalize=False, score=0.154, total=   0.0s\n",
      "[CV] copy_X=True, fit_intercept=False, normalize=True ................\n",
      "[CV]  copy_X=True, fit_intercept=False, normalize=True, score=-5.913, total=   0.0s\n",
      "[CV] copy_X=True, fit_intercept=False, normalize=True ................\n",
      "[CV]  copy_X=True, fit_intercept=False, normalize=True, score=-4.920, total=   0.0s\n",
      "[CV] copy_X=True, fit_intercept=False, normalize=True ................\n",
      "[CV]  copy_X=True, fit_intercept=False, normalize=True, score=-5.536, total=   0.0s\n",
      "[CV] copy_X=True, fit_intercept=False, normalize=True ................\n",
      "[CV]  copy_X=True, fit_intercept=False, normalize=True, score=-4.688, total=   0.0s\n",
      "[CV] copy_X=True, fit_intercept=False, normalize=True ................\n",
      "[CV]  copy_X=True, fit_intercept=False, normalize=True, score=-5.034, total=   0.0s\n",
      "[CV] copy_X=True, fit_intercept=False, normalize=False ...............\n",
      "[CV]  copy_X=True, fit_intercept=False, normalize=False, score=-5.913, total=   0.0s\n",
      "[CV] copy_X=True, fit_intercept=False, normalize=False ...............\n",
      "[CV]  copy_X=True, fit_intercept=False, normalize=False, score=-4.920, total=   0.0s\n",
      "[CV] copy_X=True, fit_intercept=False, normalize=False ...............\n",
      "[CV]  copy_X=True, fit_intercept=False, normalize=False, score=-5.536, total=   0.0s\n",
      "[CV] copy_X=True, fit_intercept=False, normalize=False ...............\n",
      "[CV]  copy_X=True, fit_intercept=False, normalize=False, score=-4.688, total=   0.0s\n",
      "[CV] copy_X=True, fit_intercept=False, normalize=False ...............\n",
      "[CV]  copy_X=True, fit_intercept=False, normalize=False, score=-5.034, total=   0.0s\n",
      "[CV] copy_X=False, fit_intercept=True, normalize=True ................\n",
      "[CV]  copy_X=False, fit_intercept=True, normalize=True, score=0.134, total=   0.0s\n",
      "[CV] copy_X=False, fit_intercept=True, normalize=True ................\n",
      "[CV]  copy_X=False, fit_intercept=True, normalize=True, score=0.091, total=   0.0s\n",
      "[CV] copy_X=False, fit_intercept=True, normalize=True ................\n",
      "[CV]  copy_X=False, fit_intercept=True, normalize=True, score=0.079, total=   0.0s\n",
      "[CV] copy_X=False, fit_intercept=True, normalize=True ................\n",
      "[CV]  copy_X=False, fit_intercept=True, normalize=True, score=0.124, total=   0.0s\n",
      "[CV] copy_X=False, fit_intercept=True, normalize=True ................\n",
      "[CV]  copy_X=False, fit_intercept=True, normalize=True, score=0.154, total=   0.0s\n",
      "[CV] copy_X=False, fit_intercept=True, normalize=False ...............\n",
      "[CV]  copy_X=False, fit_intercept=True, normalize=False, score=0.134, total=   0.0s\n",
      "[CV] copy_X=False, fit_intercept=True, normalize=False ...............\n",
      "[CV]  copy_X=False, fit_intercept=True, normalize=False, score=0.091, total=   0.0s\n",
      "[CV] copy_X=False, fit_intercept=True, normalize=False ...............\n",
      "[CV]  copy_X=False, fit_intercept=True, normalize=False, score=0.079, total=   0.0s\n",
      "[CV] copy_X=False, fit_intercept=True, normalize=False ...............\n",
      "[CV]  copy_X=False, fit_intercept=True, normalize=False, score=0.124, total=   0.0s\n",
      "[CV] copy_X=False, fit_intercept=True, normalize=False ...............\n",
      "[CV]  copy_X=False, fit_intercept=True, normalize=False, score=0.154, total=   0.0s\n",
      "[CV] copy_X=False, fit_intercept=False, normalize=True ...............\n",
      "[CV]  copy_X=False, fit_intercept=False, normalize=True, score=-5.913, total=   0.0s\n",
      "[CV] copy_X=False, fit_intercept=False, normalize=True ...............\n",
      "[CV]  copy_X=False, fit_intercept=False, normalize=True, score=-4.920, total=   0.0s\n",
      "[CV] copy_X=False, fit_intercept=False, normalize=True ...............\n",
      "[CV]  copy_X=False, fit_intercept=False, normalize=True, score=-5.536, total=   0.0s\n",
      "[CV] copy_X=False, fit_intercept=False, normalize=True ...............\n",
      "[CV]  copy_X=False, fit_intercept=False, normalize=True, score=-4.688, total=   0.0s\n",
      "[CV] copy_X=False, fit_intercept=False, normalize=True ...............\n",
      "[CV]  copy_X=False, fit_intercept=False, normalize=True, score=-5.034, total=   0.0s\n",
      "[CV] copy_X=False, fit_intercept=False, normalize=False ..............\n",
      "[CV]  copy_X=False, fit_intercept=False, normalize=False, score=-5.913, total=   0.0s\n",
      "[CV] copy_X=False, fit_intercept=False, normalize=False ..............\n",
      "[CV]  copy_X=False, fit_intercept=False, normalize=False, score=-4.920, total=   0.0s\n",
      "[CV] copy_X=False, fit_intercept=False, normalize=False ..............\n",
      "[CV]  copy_X=False, fit_intercept=False, normalize=False, score=-5.536, total=   0.0s\n",
      "[CV] copy_X=False, fit_intercept=False, normalize=False ..............\n",
      "[CV]  copy_X=False, fit_intercept=False, normalize=False, score=-4.688, total=   0.0s\n",
      "[CV] copy_X=False, fit_intercept=False, normalize=False ..............\n",
      "[CV]  copy_X=False, fit_intercept=False, normalize=False, score=-5.034, total=   0.0s\n"
     ]
    },
    {
     "name": "stderr",
     "output_type": "stream",
     "text": [
      "[Parallel(n_jobs=1)]: Using backend SequentialBackend with 1 concurrent workers.\n",
      "[Parallel(n_jobs=1)]: Done   1 out of   1 | elapsed:    0.0s remaining:    0.0s\n",
      "[Parallel(n_jobs=1)]: Done   2 out of   2 | elapsed:    0.0s remaining:    0.0s\n",
      "[Parallel(n_jobs=1)]: Done  40 out of  40 | elapsed:    0.0s finished\n"
     ]
    },
    {
     "data": {
      "text/plain": [
       "GridSearchCV(cv=None, error_score=nan,\n",
       "             estimator=LinearRegression(copy_X=True, fit_intercept=True,\n",
       "                                        n_jobs=None, normalize=False),\n",
       "             iid='deprecated', n_jobs=None,\n",
       "             param_grid={'copy_X': [True, False],\n",
       "                         'fit_intercept': [True, False],\n",
       "                         'normalize': [True, False]},\n",
       "             pre_dispatch='2*n_jobs', refit=True, return_train_score=False,\n",
       "             scoring=None, verbose=3)"
      ]
     },
     "execution_count": 11,
     "metadata": {},
     "output_type": "execute_result"
    }
   ],
   "source": [
    "# Train the model with GridSearch\n",
    "grid.fit(X_train,y_train)"
   ]
  },
  {
   "cell_type": "code",
   "execution_count": 20,
   "metadata": {},
   "outputs": [],
   "source": [
    "ys = grid.predict(X_test)"
   ]
  },
  {
   "cell_type": "code",
   "execution_count": 23,
   "metadata": {},
   "outputs": [],
   "source": [
    "a = ys - y_test"
   ]
  },
  {
   "cell_type": "code",
   "execution_count": 29,
   "metadata": {},
   "outputs": [
    {
     "data": {
      "text/plain": [
       "0.11648907041126773"
      ]
     },
     "execution_count": 29,
     "metadata": {},
     "output_type": "execute_result"
    }
   ],
   "source": [
    "grid.best_score_"
   ]
  },
  {
   "cell_type": "code",
   "execution_count": 31,
   "metadata": {
    "scrolled": true
   },
   "outputs": [
    {
     "data": {
      "text/plain": [
       "array([[25.49707439],\n",
       "       [23.06916033],\n",
       "       [25.36583579],\n",
       "       [24.5127849 ],\n",
       "       [22.67544453],\n",
       "       [23.52849542],\n",
       "       [25.36583579],\n",
       "       [27.20317616],\n",
       "       [18.9351445 ],\n",
       "       [17.03218483],\n",
       "       [23.79097262],\n",
       "       [20.64124627],\n",
       "       [23.79097262],\n",
       "       [22.67544453],\n",
       "       [26.35012527],\n",
       "       [16.24475324],\n",
       "       [23.85659191],\n",
       "       [25.10335859],\n",
       "       [27.59689195],\n",
       "       [23.85659191],\n",
       "       [27.46565336],\n",
       "       [27.26879546],\n",
       "       [20.24753047],\n",
       "       [26.61260247],\n",
       "       [23.85659191],\n",
       "       [19.65695678],\n",
       "       [17.49151992],\n",
       "       [19.46009889],\n",
       "       [16.31037254],\n",
       "       [25.82517088],\n",
       "       [24.5127849 ],\n",
       "       [25.10335859],\n",
       "       [19.00076379],\n",
       "       [23.98783051],\n",
       "       [22.08487084],\n",
       "       [21.03496206],\n",
       "       [16.31037254],\n",
       "       [22.08487084],\n",
       "       [23.39725682],\n",
       "       [17.03218483],\n",
       "       [21.95363225],\n",
       "       [16.37599184],\n",
       "       [22.93792173],\n",
       "       [27.13755686],\n",
       "       [23.98783051],\n",
       "       [24.6440235 ],\n",
       "       [25.69393228],\n",
       "       [19.39447959],\n",
       "       [25.16897789],\n",
       "       [25.69393228],\n",
       "       [19.85381468],\n",
       "       [26.35012527],\n",
       "       [20.83810416],\n",
       "       [20.64124627],\n",
       "       [25.43145509],\n",
       "       [27.20317616],\n",
       "       [27.46565336],\n",
       "       [23.98783051],\n",
       "       [23.85659191],\n",
       "       [20.77248486],\n",
       "       [20.83810416],\n",
       "       [21.36305856],\n",
       "       [21.03496206],\n",
       "       [27.40003406],\n",
       "       [27.92498845],\n",
       "       [20.18191117],\n",
       "       [21.03496206],\n",
       "       [27.66251125],\n",
       "       [22.60982523],\n",
       "       [22.21610944],\n",
       "       [26.80946037],\n",
       "       [27.66251125],\n",
       "       [28.51556214],\n",
       "       [25.10335859],\n",
       "       [23.85659191],\n",
       "       [23.98783051],\n",
       "       [20.24753047],\n",
       "       [21.88801295],\n",
       "       [22.93792173],\n",
       "       [19.98505328],\n",
       "       [17.03218483],\n",
       "       [18.3445708 ],\n",
       "       [27.59689195],\n",
       "       [19.46009889],\n",
       "       [19.85381468],\n",
       "       [21.88801295],\n",
       "       [28.18746564],\n",
       "       [21.88801295],\n",
       "       [23.39725682],\n",
       "       [27.92498845],\n",
       "       [27.40003406],\n",
       "       [29.30299373],\n",
       "       [24.6440235 ],\n",
       "       [27.92498845],\n",
       "       [26.67822177],\n",
       "       [16.04789534],\n",
       "       [25.10335859],\n",
       "       [17.16342342],\n",
       "       [20.83810416],\n",
       "       [16.37599184],\n",
       "       [24.31592701],\n",
       "       [23.98783051],\n",
       "       [19.85381468],\n",
       "       [18.9351445 ],\n",
       "       [20.70686557],\n",
       "       [17.16342342],\n",
       "       [16.96656553],\n",
       "       [20.77248486],\n",
       "       [23.52849542],\n",
       "       [25.23459719],\n",
       "       [22.34734804],\n",
       "       [21.95363225],\n",
       "       [21.03496206],\n",
       "       [25.56269369],\n",
       "       [26.35012527],\n",
       "       [27.46565336],\n",
       "       [20.64124627],\n",
       "       [23.98783051],\n",
       "       [25.49707439],\n",
       "       [21.88801295],\n",
       "       [26.74384107],\n",
       "       [24.97212   ],\n",
       "       [20.24753047],\n",
       "       [21.36305856],\n",
       "       [21.03496206],\n",
       "       [23.39725682],\n",
       "       [21.69115505],\n",
       "       [25.23459719],\n",
       "       [24.5127849 ],\n",
       "       [15.98227604],\n",
       "       [27.26879546],\n",
       "       [20.64124627],\n",
       "       [18.9351445 ],\n",
       "       [24.5784042 ],\n",
       "       [25.43145509],\n",
       "       [22.60982523],\n",
       "       [20.90372346],\n",
       "       [23.98783051],\n",
       "       [25.36583579],\n",
       "       [25.56269369],\n",
       "       [22.60982523],\n",
       "       [19.85381468],\n",
       "       [20.70686557],\n",
       "       [22.41296734],\n",
       "       [19.00076379],\n",
       "       [24.31592701],\n",
       "       [19.06638309],\n",
       "       [25.62831299],\n",
       "       [23.39725682],\n",
       "       [23.85659191],\n",
       "       [25.36583579],\n",
       "       [26.61260247],\n",
       "       [22.60982523],\n",
       "       [27.92498845],\n",
       "       [21.03496206],\n",
       "       [28.44994284],\n",
       "       [16.24475324],\n",
       "       [20.31314977],\n",
       "       [24.5127849 ],\n",
       "       [23.98783051],\n",
       "       [22.54420594],\n",
       "       [24.38154631],\n",
       "       [27.13755686],\n",
       "       [25.43145509],\n",
       "       [20.83810416],\n",
       "       [27.92498845],\n",
       "       [18.9351445 ],\n",
       "       [24.4471656 ],\n",
       "       [27.13755686],\n",
       "       [21.03496206],\n",
       "       [27.92498845],\n",
       "       [24.5784042 ],\n",
       "       [23.98783051],\n",
       "       [23.98783051],\n",
       "       [24.5127849 ],\n",
       "       [19.98505328],\n",
       "       [23.39725682],\n",
       "       [20.31314977],\n",
       "       [20.37876907],\n",
       "       [25.30021649],\n",
       "       [25.0377393 ],\n",
       "       [25.49707439],\n",
       "       [21.95363225],\n",
       "       [24.7752621 ],\n",
       "       [23.39725682],\n",
       "       [23.39725682],\n",
       "       [25.30021649],\n",
       "       [25.95640948],\n",
       "       [22.54420594],\n",
       "       [18.9351445 ],\n",
       "       [19.72257608],\n",
       "       [21.42867785],\n",
       "       [23.98783051],\n",
       "       [22.34734804],\n",
       "       [25.0377393 ],\n",
       "       [26.35012527],\n",
       "       [25.10335859],\n",
       "       [22.80668313],\n",
       "       [24.97212   ],\n",
       "       [25.10335859],\n",
       "       [17.36028132],\n",
       "       [28.44994284],\n",
       "       [23.79097262],\n",
       "       [28.51556214],\n",
       "       [21.29743926],\n",
       "       [25.82517088],\n",
       "       [23.98783051],\n",
       "       [25.10335859],\n",
       "       [17.03218483],\n",
       "       [27.66251125],\n",
       "       [23.85659191],\n",
       "       [24.5127849 ],\n",
       "       [17.29466202],\n",
       "       [23.85659191],\n",
       "       [17.29466202],\n",
       "       [20.24753047],\n",
       "       [24.31592701],\n",
       "       [29.30299373],\n",
       "       [26.74384107],\n",
       "       [25.10335859],\n",
       "       [23.52849542],\n",
       "       [25.95640948],\n",
       "       [24.38154631],\n",
       "       [18.14771291],\n",
       "       [22.80668313],\n",
       "       [24.5127849 ],\n",
       "       [23.98783051],\n",
       "       [28.31870424],\n",
       "       [17.03218483],\n",
       "       [18.6726673 ],\n",
       "       [25.49707439],\n",
       "       [25.82517088],\n",
       "       [27.66251125],\n",
       "       [21.03496206],\n",
       "       [19.46009889],\n",
       "       [26.74384107],\n",
       "       [17.03218483],\n",
       "       [25.10335859],\n",
       "       [21.03496206],\n",
       "       [21.03496206],\n",
       "       [25.36583579],\n",
       "       [21.29743926],\n",
       "       [22.54420594],\n",
       "       [23.52849542],\n",
       "       [23.20039893],\n",
       "       [27.13755686],\n",
       "       [27.26879546],\n",
       "       [23.39725682],\n",
       "       [26.35012527],\n",
       "       [25.0377393 ],\n",
       "       [21.03496206],\n",
       "       [28.31870424],\n",
       "       [21.88801295],\n",
       "       [23.98783051],\n",
       "       [23.26601822],\n",
       "       [23.85659191],\n",
       "       [21.03496206],\n",
       "       [27.46565336],\n",
       "       [23.20039893],\n",
       "       [27.85936915],\n",
       "       [17.49151992],\n",
       "       [20.64124627],\n",
       "       [18.9351445 ],\n",
       "       [21.95363225],\n",
       "       [27.13755686],\n",
       "       [21.29743926],\n",
       "       [21.42867785],\n",
       "       [27.20317616],\n",
       "       [20.57562697],\n",
       "       [26.35012527],\n",
       "       [21.95363225],\n",
       "       [24.6440235 ],\n",
       "       [24.18468841],\n",
       "       [23.79097262],\n",
       "       [20.24753047],\n",
       "       [22.67544453],\n",
       "       [24.5127849 ],\n",
       "       [18.5414287 ],\n",
       "       [25.75955158],\n",
       "       [24.4471656 ],\n",
       "       [20.44438837],\n",
       "       [20.57562697],\n",
       "       [25.30021649],\n",
       "       [18.6726673 ],\n",
       "       [27.66251125],\n",
       "       [24.5784042 ],\n",
       "       [27.66251125],\n",
       "       [19.39447959],\n",
       "       [28.18746564],\n",
       "       [19.00076379],\n",
       "       [25.75955158],\n",
       "       [23.98783051],\n",
       "       [26.74384107],\n",
       "       [20.44438837],\n",
       "       [23.39725682],\n",
       "       [24.18468841],\n",
       "       [24.6440235 ],\n",
       "       [27.46565336],\n",
       "       [21.69115505],\n",
       "       [20.24753047],\n",
       "       [29.04051653],\n",
       "       [23.06916033],\n",
       "       [27.59689195],\n",
       "       [25.62831299],\n",
       "       [27.20317616],\n",
       "       [16.31037254],\n",
       "       [20.24753047],\n",
       "       [18.9351445 ],\n",
       "       [23.52849542],\n",
       "       [20.57562697],\n",
       "       [20.57562697],\n",
       "       [18.4758094 ],\n",
       "       [20.77248486],\n",
       "       [27.26879546],\n",
       "       [21.69115505],\n",
       "       [23.06916033],\n",
       "       [21.29743926],\n",
       "       [24.5784042 ],\n",
       "       [21.16620066],\n",
       "       [21.29743926],\n",
       "       [18.5414287 ],\n",
       "       [27.92498845],\n",
       "       [16.37599184],\n",
       "       [30.7466183 ],\n",
       "       [17.29466202],\n",
       "       [22.54420594],\n",
       "       [25.82517088],\n",
       "       [21.82239365],\n",
       "       [21.36305856],\n",
       "       [30.7466183 ],\n",
       "       [21.03496206],\n",
       "       [25.49707439],\n",
       "       [24.6440235 ],\n",
       "       [22.15049014],\n",
       "       [17.03218483],\n",
       "       [22.21610944],\n",
       "       [20.24753047],\n",
       "       [26.74384107],\n",
       "       [25.69393228],\n",
       "       [21.69115505],\n",
       "       [17.75399711],\n",
       "       [24.18468841],\n",
       "       [26.67822177],\n",
       "       [20.77248486],\n",
       "       [23.98783051],\n",
       "       [22.80668313],\n",
       "       [25.23459719],\n",
       "       [22.34734804],\n",
       "       [20.70686557],\n",
       "       [17.75399711],\n",
       "       [18.14771291],\n",
       "       [24.7752621 ],\n",
       "       [21.36305856],\n",
       "       [19.19762169],\n",
       "       [21.29743926],\n",
       "       [26.35012527],\n",
       "       [18.9351445 ],\n",
       "       [27.13755686],\n",
       "       [24.4471656 ],\n",
       "       [24.6440235 ],\n",
       "       [23.06916033],\n",
       "       [24.6440235 ],\n",
       "       [25.36583579],\n",
       "       [24.5127849 ],\n",
       "       [27.26879546],\n",
       "       [19.98505328],\n",
       "       [23.98783051],\n",
       "       [27.92498845],\n",
       "       [27.66251125],\n",
       "       [26.35012527],\n",
       "       [19.46009889],\n",
       "       [30.7466183 ],\n",
       "       [20.57562697],\n",
       "       [23.98783051],\n",
       "       [29.04051653],\n",
       "       [24.6440235 ],\n",
       "       [19.98505328],\n",
       "       [23.26601822],\n",
       "       [20.24753047],\n",
       "       [24.5784042 ],\n",
       "       [21.03496206],\n",
       "       [24.6440235 ],\n",
       "       [20.57562697],\n",
       "       [21.36305856],\n",
       "       [26.35012527],\n",
       "       [29.49985162],\n",
       "       [20.31314977],\n",
       "       [21.69115505],\n",
       "       [27.92498845],\n",
       "       [21.29743926],\n",
       "       [23.79097262],\n",
       "       [23.06916033],\n",
       "       [30.7466183 ],\n",
       "       [21.88801295],\n",
       "       [17.16342342],\n",
       "       [26.74384107],\n",
       "       [21.29743926],\n",
       "       [25.10335859],\n",
       "       [22.47858664],\n",
       "       [22.21610944],\n",
       "       [25.0377393 ],\n",
       "       [23.85659191],\n",
       "       [20.31314977],\n",
       "       [23.85659191],\n",
       "       [19.19762169],\n",
       "       [21.03496206],\n",
       "       [25.10335859],\n",
       "       [27.92498845],\n",
       "       [19.00076379],\n",
       "       [27.66251125],\n",
       "       [25.82517088],\n",
       "       [26.61260247],\n",
       "       [27.46565336],\n",
       "       [19.98505328],\n",
       "       [27.85936915],\n",
       "       [22.93792173],\n",
       "       [27.92498845],\n",
       "       [25.43145509],\n",
       "       [17.03218483],\n",
       "       [18.9351445 ],\n",
       "       [22.21610944],\n",
       "       [23.06916033],\n",
       "       [25.69393228],\n",
       "       [16.37599184],\n",
       "       [25.36583579],\n",
       "       [17.03218483],\n",
       "       [23.52849542],\n",
       "       [25.43145509],\n",
       "       [21.36305856],\n",
       "       [19.00076379],\n",
       "       [19.72257608],\n",
       "       [21.29743926],\n",
       "       [20.18191117],\n",
       "       [19.98505328],\n",
       "       [22.74106383],\n",
       "       [24.4471656 ],\n",
       "       [14.27617427],\n",
       "       [21.29743926],\n",
       "       [20.37876907],\n",
       "       [20.24753047],\n",
       "       [28.44994284],\n",
       "       [18.3445708 ],\n",
       "       [19.98505328],\n",
       "       [25.10335859],\n",
       "       [27.40003406],\n",
       "       [28.31870424],\n",
       "       [20.70686557],\n",
       "       [19.06638309],\n",
       "       [26.80946037],\n",
       "       [25.49707439],\n",
       "       [16.37599184],\n",
       "       [23.52849542],\n",
       "       [19.00076379],\n",
       "       [19.46009889],\n",
       "       [22.34734804],\n",
       "       [17.62275852],\n",
       "       [22.08487084],\n",
       "       [24.6440235 ],\n",
       "       [19.72257608],\n",
       "       [21.95363225],\n",
       "       [20.90372346],\n",
       "       [20.70686557],\n",
       "       [21.03496206],\n",
       "       [22.34734804],\n",
       "       [27.40003406],\n",
       "       [18.3445708 ],\n",
       "       [19.39447959],\n",
       "       [21.88801295],\n",
       "       [24.5127849 ],\n",
       "       [17.36028132],\n",
       "       [22.67544453],\n",
       "       [25.0377393 ],\n",
       "       [20.83810416],\n",
       "       [21.03496206],\n",
       "       [27.66251125],\n",
       "       [17.36028132],\n",
       "       [28.51556214],\n",
       "       [21.36305856],\n",
       "       [25.23459719],\n",
       "       [22.60982523],\n",
       "       [21.88801295],\n",
       "       [22.54420594],\n",
       "       [20.57562697],\n",
       "       [25.36583579],\n",
       "       [18.6726673 ],\n",
       "       [19.46009889],\n",
       "       [25.62831299],\n",
       "       [25.10335859],\n",
       "       [19.00076379],\n",
       "       [23.39725682],\n",
       "       [27.40003406],\n",
       "       [14.27617427],\n",
       "       [27.59689195],\n",
       "       [24.31592701],\n",
       "       [22.15049014],\n",
       "       [26.35012527],\n",
       "       [27.92498845],\n",
       "       [20.96934276],\n",
       "       [22.80668313],\n",
       "       [24.31592701],\n",
       "       [20.31314977],\n",
       "       [15.98227604],\n",
       "       [24.6440235 ],\n",
       "       [20.57562697],\n",
       "       [28.44994284],\n",
       "       [19.06638309],\n",
       "       [23.26601822],\n",
       "       [27.26879546],\n",
       "       [24.5784042 ],\n",
       "       [21.95363225],\n",
       "       [21.36305856],\n",
       "       [16.37599184],\n",
       "       [27.66251125],\n",
       "       [22.28172874],\n",
       "       [27.13755686],\n",
       "       [21.03496206],\n",
       "       [22.74106383],\n",
       "       [19.06638309],\n",
       "       [20.11629188],\n",
       "       [18.14771291],\n",
       "       [24.4471656 ],\n",
       "       [19.91943398],\n",
       "       [25.49707439],\n",
       "       [18.3445708 ],\n",
       "       [22.34734804],\n",
       "       [18.6726673 ],\n",
       "       [28.44994284],\n",
       "       [21.42867785],\n",
       "       [20.24753047],\n",
       "       [21.16620066],\n",
       "       [20.44438837],\n",
       "       [25.43145509],\n",
       "       [25.62831299],\n",
       "       [25.36583579],\n",
       "       [21.36305856],\n",
       "       [28.05622705],\n",
       "       [23.06916033],\n",
       "       [24.6440235 ],\n",
       "       [16.04789534],\n",
       "       [21.95363225],\n",
       "       [23.26601822],\n",
       "       [19.98505328],\n",
       "       [20.77248486],\n",
       "       [25.10335859],\n",
       "       [21.36305856],\n",
       "       [26.74384107],\n",
       "       [25.30021649],\n",
       "       [19.39447959],\n",
       "       [25.43145509],\n",
       "       [21.36305856],\n",
       "       [16.31037254],\n",
       "       [23.79097262],\n",
       "       [25.95640948],\n",
       "       [18.9351445 ],\n",
       "       [21.69115505],\n",
       "       [22.67544453],\n",
       "       [27.20317616],\n",
       "       [21.29743926],\n",
       "       [21.29743926],\n",
       "       [22.93792173],\n",
       "       [23.52849542],\n",
       "       [25.10335859],\n",
       "       [23.79097262],\n",
       "       [17.36028132],\n",
       "       [20.90372346],\n",
       "       [25.10335859],\n",
       "       [17.36028132],\n",
       "       [25.36583579],\n",
       "       [27.59689195],\n",
       "       [25.16897789],\n",
       "       [20.44438837],\n",
       "       [26.61260247],\n",
       "       [28.05622705],\n",
       "       [16.04789534],\n",
       "       [23.06916033],\n",
       "       [19.52571819],\n",
       "       [27.20317616],\n",
       "       [21.75677435],\n",
       "       [20.44438837],\n",
       "       [24.6440235 ],\n",
       "       [24.5784042 ],\n",
       "       [19.46009889],\n",
       "       [19.00076379],\n",
       "       [14.27617427],\n",
       "       [26.35012527],\n",
       "       [23.52849542],\n",
       "       [20.31314977],\n",
       "       [25.10335859],\n",
       "       [22.67544453],\n",
       "       [21.03496206],\n",
       "       [25.82517088],\n",
       "       [23.79097262],\n",
       "       [20.24753047],\n",
       "       [18.6726673 ],\n",
       "       [22.67544453],\n",
       "       [20.77248486],\n",
       "       [17.29466202],\n",
       "       [24.6440235 ],\n",
       "       [19.85381468],\n",
       "       [25.69393228],\n",
       "       [17.95085501],\n",
       "       [28.05622705],\n",
       "       [24.6440235 ],\n",
       "       [21.29743926],\n",
       "       [22.93792173],\n",
       "       [25.0377393 ],\n",
       "       [22.67544453],\n",
       "       [19.85381468],\n",
       "       [27.85936915],\n",
       "       [21.36305856],\n",
       "       [20.31314977],\n",
       "       [26.74384107],\n",
       "       [23.85659191],\n",
       "       [19.52571819],\n",
       "       [24.7752621 ],\n",
       "       [25.56269369],\n",
       "       [22.28172874],\n",
       "       [20.77248486],\n",
       "       [21.03496206],\n",
       "       [19.06638309],\n",
       "       [21.03496206],\n",
       "       [20.77248486],\n",
       "       [21.88801295],\n",
       "       [23.79097262],\n",
       "       [19.46009889],\n",
       "       [27.92498845],\n",
       "       [24.5784042 ],\n",
       "       [25.23459719],\n",
       "       [20.90372346],\n",
       "       [25.23459719],\n",
       "       [24.18468841],\n",
       "       [18.5414287 ],\n",
       "       [25.10335859],\n",
       "       [20.64124627],\n",
       "       [28.44994284],\n",
       "       [22.15049014],\n",
       "       [25.23459719],\n",
       "       [26.67822177],\n",
       "       [25.95640948],\n",
       "       [21.95363225],\n",
       "       [28.05622705],\n",
       "       [19.98505328],\n",
       "       [21.95363225],\n",
       "       [16.04789534],\n",
       "       [21.88801295],\n",
       "       [21.03496206],\n",
       "       [24.5127849 ],\n",
       "       [25.30021649],\n",
       "       [25.75955158],\n",
       "       [20.18191117],\n",
       "       [27.13755686],\n",
       "       [27.59689195],\n",
       "       [17.49151992],\n",
       "       [23.79097262],\n",
       "       [20.83810416],\n",
       "       [23.39725682],\n",
       "       [21.03496206],\n",
       "       [24.7752621 ],\n",
       "       [19.72257608],\n",
       "       [28.44994284],\n",
       "       [21.29743926],\n",
       "       [21.88801295],\n",
       "       [21.03496206],\n",
       "       [20.96934276],\n",
       "       [23.79097262],\n",
       "       [19.85381468],\n",
       "       [23.06916033],\n",
       "       [27.20317616],\n",
       "       [27.13755686],\n",
       "       [19.19762169],\n",
       "       [20.90372346],\n",
       "       [20.24753047],\n",
       "       [27.85936915],\n",
       "       [23.39725682],\n",
       "       [19.72257608],\n",
       "       [25.30021649],\n",
       "       [25.36583579],\n",
       "       [25.75955158],\n",
       "       [18.9351445 ],\n",
       "       [19.98505328],\n",
       "       [20.57562697],\n",
       "       [21.88801295],\n",
       "       [25.0377393 ],\n",
       "       [27.92498845],\n",
       "       [23.85659191],\n",
       "       [27.26879546],\n",
       "       [20.18191117],\n",
       "       [24.6440235 ],\n",
       "       [21.95363225],\n",
       "       [16.04789534],\n",
       "       [26.61260247],\n",
       "       [17.75399711],\n",
       "       [27.20317616],\n",
       "       [22.93792173],\n",
       "       [30.7466183 ],\n",
       "       [17.29466202],\n",
       "       [18.14771291],\n",
       "       [18.9351445 ],\n",
       "       [27.59689195],\n",
       "       [20.64124627],\n",
       "       [20.77248486],\n",
       "       [20.77248486],\n",
       "       [16.83532693],\n",
       "       [19.46009889],\n",
       "       [26.67822177],\n",
       "       [21.03496206],\n",
       "       [28.44994284],\n",
       "       [26.61260247],\n",
       "       [17.62275852],\n",
       "       [16.37599184],\n",
       "       [27.40003406],\n",
       "       [26.61260247],\n",
       "       [18.9351445 ],\n",
       "       [20.31314977],\n",
       "       [20.18191117],\n",
       "       [19.85381468],\n",
       "       [23.79097262],\n",
       "       [25.43145509],\n",
       "       [24.5127849 ],\n",
       "       [27.66251125],\n",
       "       [21.03496206],\n",
       "       [22.54420594],\n",
       "       [24.5784042 ],\n",
       "       [23.26601822],\n",
       "       [21.36305856],\n",
       "       [16.24475324],\n",
       "       [15.98227604]])"
      ]
     },
     "execution_count": 31,
     "metadata": {},
     "output_type": "execute_result"
    }
   ],
   "source": [
    "ys"
   ]
  },
  {
   "cell_type": "code",
   "execution_count": 33,
   "metadata": {},
   "outputs": [],
   "source": [
    "from sklearn.metrics import r2_score"
   ]
  },
  {
   "cell_type": "code",
   "execution_count": 34,
   "metadata": {},
   "outputs": [
    {
     "data": {
      "text/plain": [
       "0.10397652723891926"
      ]
     },
     "execution_count": 34,
     "metadata": {},
     "output_type": "execute_result"
    }
   ],
   "source": [
    "r2_score(y_test, ys)"
   ]
  },
  {
   "cell_type": "code",
   "execution_count": 36,
   "metadata": {},
   "outputs": [],
   "source": [
    "arr = ys - y_test"
   ]
  },
  {
   "cell_type": "code",
   "execution_count": 39,
   "metadata": {},
   "outputs": [],
   "source": [
    "arr = arr**2"
   ]
  },
  {
   "cell_type": "code",
   "execution_count": 43,
   "metadata": {},
   "outputs": [],
   "source": [
    "arr = ys - y_test"
   ]
  },
  {
   "cell_type": "code",
   "execution_count": 46,
   "metadata": {},
   "outputs": [],
   "source": [
    "err = pd.Series(arr.reshape(-1))"
   ]
  },
  {
   "cell_type": "code",
   "execution_count": 50,
   "metadata": {},
   "outputs": [],
   "source": [
    "err2 = err.apply(lambda x: x**2)"
   ]
  },
  {
   "cell_type": "code",
   "execution_count": 51,
   "metadata": {},
   "outputs": [
    {
     "data": {
      "text/plain": [
       "0        6.235380\n",
       "1       98.621577\n",
       "2        2.670493\n",
       "3        0.262948\n",
       "4       28.350891\n",
       "          ...    \n",
       "722     20.961785\n",
       "723     52.795021\n",
       "724    456.380271\n",
       "725      0.059904\n",
       "726      8.893970\n",
       "Length: 727, dtype: float64"
      ]
     },
     "execution_count": 51,
     "metadata": {},
     "output_type": "execute_result"
    }
   ],
   "source": [
    "err2"
   ]
  },
  {
   "cell_type": "code",
   "execution_count": 52,
   "metadata": {},
   "outputs": [],
   "source": [
    "import math"
   ]
  },
  {
   "cell_type": "code",
   "execution_count": 56,
   "metadata": {},
   "outputs": [],
   "source": [
    "eer2 = err2.apply(lambda x: math.sqrt(x))"
   ]
  },
  {
   "cell_type": "code",
   "execution_count": 57,
   "metadata": {},
   "outputs": [
    {
     "data": {
      "text/plain": [
       "7.634506575048763"
      ]
     },
     "execution_count": 57,
     "metadata": {},
     "output_type": "execute_result"
    }
   ],
   "source": [
    "eer2.mean()"
   ]
  },
  {
   "cell_type": "markdown",
   "metadata": {},
   "source": [
    "## Model 2 : FPI + Off. / Def. / Sp.Teams"
   ]
  },
  {
   "cell_type": "code",
   "execution_count": 3,
   "metadata": {},
   "outputs": [],
   "source": [
    "import numpy as np\n",
    "from sklearn.model_selection import train_test_split\n",
    "import sklearn.linear_model\n",
    "from sklearn.model_selection import GridSearchCV"
   ]
  },
  {
   "cell_type": "code",
   "execution_count": 83,
   "metadata": {},
   "outputs": [],
   "source": [
    "LoserMergedDF = LoserMergedDF[~LoserMergedDF[[\"PtsL\"]].isnull().any(axis=1)]"
   ]
  },
  {
   "cell_type": "code",
   "execution_count": 84,
   "metadata": {},
   "outputs": [
    {
     "data": {
      "text/plain": [
       "(1451, 39)"
      ]
     },
     "execution_count": 84,
     "metadata": {},
     "output_type": "execute_result"
    }
   ],
   "source": [
    "LoserMergedDF.shape"
   ]
  },
  {
   "cell_type": "code",
   "execution_count": 91,
   "metadata": {},
   "outputs": [
    {
     "data": {
      "text/plain": [
       "Index(['Year', 'Week', 'Day', 'Date', 'Time', 'Winner/tie', 'Unnamed: 6',\n",
       "       'Loser/tie', 'Unnamed: 8', 'PtsW', 'PtsL', 'YdsW', 'TOW', 'YdsL', 'TOL',\n",
       "       'TEAM', 'Year ', 'W-L-T', 'Power Index FPI', 'Power Index RK',\n",
       "       'Power Index TREND', 'Power Index OFF', 'Power Index DEF',\n",
       "       'Power Index ST', 'Ranks SOS', 'Ranks REM SOS', 'Ranks AVGWP',\n",
       "       'TEAM_Losing Team', 'Year _Losing Team', 'W-L-T_Losing Team',\n",
       "       'Power Index FPI_Losing Team', 'Power Index RK_Losing Team',\n",
       "       'Power Index TREND_Losing Team', 'Power Index OFF_Losing Team',\n",
       "       'Power Index DEF_Losing Team', 'Power Index ST_Losing Team',\n",
       "       'Ranks SOS_Losing Team', 'Ranks REM SOS_Losing Team',\n",
       "       'Ranks AVGWP_Losing Team'],\n",
       "      dtype='object')"
      ]
     },
     "execution_count": 91,
     "metadata": {},
     "output_type": "execute_result"
    }
   ],
   "source": [
    "LoserMergedDF.columns"
   ]
  },
  {
   "cell_type": "code",
   "execution_count": 94,
   "metadata": {},
   "outputs": [],
   "source": [
    "LoserMergedDF.to_csv(\"scoresAndStats.csv\", index=False)"
   ]
  },
  {
   "cell_type": "code",
   "execution_count": 8,
   "metadata": {},
   "outputs": [],
   "source": [
    "# \n",
    "LoserMergedDf2 = pd.read_csv(\"scoresAndStats.csv\")"
   ]
  },
  {
   "cell_type": "code",
   "execution_count": null,
   "metadata": {},
   "outputs": [],
   "source": []
  },
  {
   "cell_type": "code",
   "execution_count": 131,
   "metadata": {},
   "outputs": [],
   "source": [
    "model2_df = LoserMergedDF.loc[:, [\"PtsW\", \"Power Index FPI\", 'Power Index OFF','Power Index DEF_Losing Team', 'Power Index ST', 'Ranks SOS', 'Ranks AVGWP',\n",
    "                     \"PtsL\",  'Power Index FPI_Losing Team', 'Power Index OFF_Losing Team','Power Index DEF', 'Power Index ST_Losing Team', 'Ranks SOS_Losing Team', 'Ranks AVGWP_Losing Team']]"
   ]
  },
  {
   "cell_type": "code",
   "execution_count": 132,
   "metadata": {},
   "outputs": [
    {
     "name": "stdout",
     "output_type": "stream",
     "text": [
      "<class 'pandas.core.frame.DataFrame'>\n",
      "Int64Index: 1451 entries, 0 to 1464\n",
      "Data columns (total 14 columns):\n",
      " #   Column                       Non-Null Count  Dtype  \n",
      "---  ------                       --------------  -----  \n",
      " 0   PtsW                         1451 non-null   float64\n",
      " 1   Power Index FPI              1451 non-null   float64\n",
      " 2   Power Index OFF              1451 non-null   float64\n",
      " 3   Power Index DEF_Losing Team  1451 non-null   float64\n",
      " 4   Power Index ST               1451 non-null   float64\n",
      " 5   Ranks SOS                    1451 non-null   float64\n",
      " 6   Ranks AVGWP                  1451 non-null   float64\n",
      " 7   PtsL                         1451 non-null   float64\n",
      " 8   Power Index FPI_Losing Team  1451 non-null   float64\n",
      " 9   Power Index OFF_Losing Team  1451 non-null   float64\n",
      " 10  Power Index DEF              1451 non-null   float64\n",
      " 11  Power Index ST_Losing Team   1451 non-null   float64\n",
      " 12  Ranks SOS_Losing Team        1451 non-null   float64\n",
      " 13  Ranks AVGWP_Losing Team      1451 non-null   float64\n",
      "dtypes: float64(14)\n",
      "memory usage: 210.0 KB\n"
     ]
    }
   ],
   "source": [
    "model2_df.info()"
   ]
  },
  {
   "cell_type": "code",
   "execution_count": 133,
   "metadata": {},
   "outputs": [],
   "source": [
    "winners = model2_df.iloc[:, :7]"
   ]
  },
  {
   "cell_type": "code",
   "execution_count": 134,
   "metadata": {},
   "outputs": [],
   "source": [
    "losers =model2_df.iloc[:, 7:]"
   ]
  },
  {
   "cell_type": "code",
   "execution_count": 135,
   "metadata": {},
   "outputs": [],
   "source": [
    "losers_2 = losers.rename(columns={'PtsL': \"PtsW\", 'Power Index FPI_Losing Team': 'Power Index FPI', 'Power Index DEF': 'Power Index DEF_Losing Team',\n",
    "       'Power Index ST_Losing Team': 'Power Index ST' , 'Ranks SOS_Losing Team': 'Ranks SOS', \"Power Index OFF_Losing Team\": \"Power Index OFF\",\n",
    "       'Ranks AVGWP_Losing Team': \"Ranks AVGWP\"})"
   ]
  },
  {
   "cell_type": "code",
   "execution_count": 137,
   "metadata": {},
   "outputs": [],
   "source": [
    "model2_df = pd.concat([winners, losers_2], axis=0, ignore_index=True)"
   ]
  },
  {
   "cell_type": "markdown",
   "metadata": {},
   "source": [
    "#### Model 2: Machine Learning Phase"
   ]
  },
  {
   "cell_type": "code",
   "execution_count": 139,
   "metadata": {},
   "outputs": [],
   "source": [
    "model2_df.to_csv(\"model2Values.csv\", index=False)"
   ]
  },
  {
   "cell_type": "code",
   "execution_count": 12,
   "metadata": {},
   "outputs": [],
   "source": [
    "model2_df=pd.read_csv(\"model2Values.csv\")"
   ]
  },
  {
   "cell_type": "code",
   "execution_count": 13,
   "metadata": {},
   "outputs": [
    {
     "data": {
      "text/html": [
       "<div>\n",
       "<style scoped>\n",
       "    .dataframe tbody tr th:only-of-type {\n",
       "        vertical-align: middle;\n",
       "    }\n",
       "\n",
       "    .dataframe tbody tr th {\n",
       "        vertical-align: top;\n",
       "    }\n",
       "\n",
       "    .dataframe thead th {\n",
       "        text-align: right;\n",
       "    }\n",
       "</style>\n",
       "<table border=\"1\" class=\"dataframe\">\n",
       "  <thead>\n",
       "    <tr style=\"text-align: right;\">\n",
       "      <th></th>\n",
       "      <th>PtsW</th>\n",
       "      <th>Power Index FPI</th>\n",
       "      <th>Power Index OFF</th>\n",
       "      <th>Power Index DEF_Losing Team</th>\n",
       "      <th>Power Index ST</th>\n",
       "      <th>Ranks SOS</th>\n",
       "      <th>Ranks AVGWP</th>\n",
       "    </tr>\n",
       "  </thead>\n",
       "  <tbody>\n",
       "    <tr>\n",
       "      <th>0</th>\n",
       "      <td>24.0</td>\n",
       "      <td>-2.0</td>\n",
       "      <td>0.9</td>\n",
       "      <td>-2.7</td>\n",
       "      <td>-0.5</td>\n",
       "      <td>15.0</td>\n",
       "      <td>13.0</td>\n",
       "    </tr>\n",
       "    <tr>\n",
       "      <th>1</th>\n",
       "      <td>37.0</td>\n",
       "      <td>-2.0</td>\n",
       "      <td>0.9</td>\n",
       "      <td>-2.7</td>\n",
       "      <td>-0.5</td>\n",
       "      <td>15.0</td>\n",
       "      <td>13.0</td>\n",
       "    </tr>\n",
       "    <tr>\n",
       "      <th>2</th>\n",
       "      <td>24.0</td>\n",
       "      <td>-2.8</td>\n",
       "      <td>-0.4</td>\n",
       "      <td>-2.7</td>\n",
       "      <td>-0.2</td>\n",
       "      <td>25.0</td>\n",
       "      <td>10.0</td>\n",
       "    </tr>\n",
       "    <tr>\n",
       "      <th>3</th>\n",
       "      <td>17.0</td>\n",
       "      <td>5.9</td>\n",
       "      <td>-2.9</td>\n",
       "      <td>-2.7</td>\n",
       "      <td>0.5</td>\n",
       "      <td>3.0</td>\n",
       "      <td>8.0</td>\n",
       "    </tr>\n",
       "    <tr>\n",
       "      <th>4</th>\n",
       "      <td>26.0</td>\n",
       "      <td>-8.3</td>\n",
       "      <td>-5.4</td>\n",
       "      <td>-2.7</td>\n",
       "      <td>0.2</td>\n",
       "      <td>4.0</td>\n",
       "      <td>32.0</td>\n",
       "    </tr>\n",
       "  </tbody>\n",
       "</table>\n",
       "</div>"
      ],
      "text/plain": [
       "   PtsW  Power Index FPI  Power Index OFF  Power Index DEF_Losing Team  \\\n",
       "0  24.0             -2.0              0.9                         -2.7   \n",
       "1  37.0             -2.0              0.9                         -2.7   \n",
       "2  24.0             -2.8             -0.4                         -2.7   \n",
       "3  17.0              5.9             -2.9                         -2.7   \n",
       "4  26.0             -8.3             -5.4                         -2.7   \n",
       "\n",
       "   Power Index ST  Ranks SOS  Ranks AVGWP  \n",
       "0            -0.5       15.0         13.0  \n",
       "1            -0.5       15.0         13.0  \n",
       "2            -0.2       25.0         10.0  \n",
       "3             0.5        3.0          8.0  \n",
       "4             0.2        4.0         32.0  "
      ]
     },
     "execution_count": 13,
     "metadata": {},
     "output_type": "execute_result"
    }
   ],
   "source": [
    "model2_df.head()"
   ]
  },
  {
   "cell_type": "code",
   "execution_count": 14,
   "metadata": {},
   "outputs": [],
   "source": [
    "from sklearn.model_selection import train_test_split\n",
    "model_values = model2_df"
   ]
  },
  {
   "cell_type": "code",
   "execution_count": null,
   "metadata": {},
   "outputs": [],
   "source": []
  },
  {
   "cell_type": "code",
   "execution_count": 18,
   "metadata": {},
   "outputs": [],
   "source": [
    "X = model_values.iloc[:,1:].values\n",
    "y = model_values.iloc[:,0].values"
   ]
  },
  {
   "cell_type": "code",
   "execution_count": 19,
   "metadata": {},
   "outputs": [],
   "source": [
    "X_train, X_test, y_train, y_test = train_test_split(X,y)\n",
    "#X_train = X_train.reshape(-1, 1)\n",
    "#X_test = X_test.reshape(-1, 1)\n",
    "y_train = y_train.reshape(-1, 1)\n",
    "y_test = y_test.reshape(-1, 1)"
   ]
  },
  {
   "cell_type": "code",
   "execution_count": 20,
   "metadata": {},
   "outputs": [
    {
     "data": {
      "text/plain": [
       "array([[-2.1,  1.3,  1.1, -0.2, 23. , 14. ],\n",
       "       [-2.6, -1.1,  0.3, -0.1, 30. , 14. ],\n",
       "       [-0.8, -0.1,  0.3,  0.1, 29. , 13. ],\n",
       "       ...,\n",
       "       [ 0.5, -1.6, -1.1,  0. , 32. ,  8. ],\n",
       "       [ 0.5, -1.6, -1.9,  0. , 32. ,  8. ],\n",
       "       [ 1. ,  1. ,  2.6,  0.4, 18. , 15. ]])"
      ]
     },
     "execution_count": 20,
     "metadata": {},
     "output_type": "execute_result"
    }
   ],
   "source": [
    "X_train"
   ]
  },
  {
   "cell_type": "code",
   "execution_count": 21,
   "metadata": {},
   "outputs": [],
   "source": [
    "import sklearn.linear_model"
   ]
  },
  {
   "cell_type": "code",
   "execution_count": 26,
   "metadata": {},
   "outputs": [],
   "source": [
    "model_2 = sklearn.linear_model.LinearRegression(normalize=True)"
   ]
  },
  {
   "cell_type": "code",
   "execution_count": 27,
   "metadata": {},
   "outputs": [
    {
     "data": {
      "text/plain": [
       "LinearRegression(copy_X=True, fit_intercept=True, n_jobs=None, normalize=True)"
      ]
     },
     "execution_count": 27,
     "metadata": {},
     "output_type": "execute_result"
    }
   ],
   "source": [
    "model_2.fit(X_train, y_train)"
   ]
  },
  {
   "cell_type": "code",
   "execution_count": 28,
   "metadata": {},
   "outputs": [
    {
     "data": {
      "text/plain": [
       "0.2142947980155251"
      ]
     },
     "execution_count": 28,
     "metadata": {},
     "output_type": "execute_result"
    }
   ],
   "source": [
    "model_2.score(X_train, y_train)"
   ]
  },
  {
   "cell_type": "code",
   "execution_count": 29,
   "metadata": {},
   "outputs": [
    {
     "data": {
      "text/plain": [
       "0.18130058214059652"
      ]
     },
     "execution_count": 29,
     "metadata": {},
     "output_type": "execute_result"
    }
   ],
   "source": [
    "model_2.score(X_test, y_test)"
   ]
  },
  {
   "cell_type": "code",
   "execution_count": 30,
   "metadata": {},
   "outputs": [
    {
     "data": {
      "text/plain": [
       "array([[ 0.09180267,  0.64618795, -0.96952312,  0.69961924, -0.01156635,\n",
       "        -0.07080367]])"
      ]
     },
     "execution_count": 30,
     "metadata": {},
     "output_type": "execute_result"
    }
   ],
   "source": [
    "model_2.coef_"
   ]
  },
  {
   "cell_type": "code",
   "execution_count": 31,
   "metadata": {},
   "outputs": [
    {
     "data": {
      "text/plain": [
       "array([24.30573313])"
      ]
     },
     "execution_count": 31,
     "metadata": {},
     "output_type": "execute_result"
    }
   ],
   "source": [
    "model_2.intercept_"
   ]
  },
  {
   "cell_type": "code",
   "execution_count": 36,
   "metadata": {},
   "outputs": [
    {
     "data": {
      "text/html": [
       "<div>\n",
       "<style scoped>\n",
       "    .dataframe tbody tr th:only-of-type {\n",
       "        vertical-align: middle;\n",
       "    }\n",
       "\n",
       "    .dataframe tbody tr th {\n",
       "        vertical-align: top;\n",
       "    }\n",
       "\n",
       "    .dataframe thead th {\n",
       "        text-align: right;\n",
       "    }\n",
       "</style>\n",
       "<table border=\"1\" class=\"dataframe\">\n",
       "  <thead>\n",
       "    <tr style=\"text-align: right;\">\n",
       "      <th></th>\n",
       "      <th>PtsW</th>\n",
       "      <th>Power Index FPI</th>\n",
       "      <th>Power Index OFF</th>\n",
       "      <th>Power Index DEF_Losing Team</th>\n",
       "      <th>Power Index ST</th>\n",
       "      <th>Ranks SOS</th>\n",
       "      <th>Ranks AVGWP</th>\n",
       "    </tr>\n",
       "  </thead>\n",
       "  <tbody>\n",
       "    <tr>\n",
       "      <th>count</th>\n",
       "      <td>2902.000000</td>\n",
       "      <td>2902.000000</td>\n",
       "      <td>2902.000000</td>\n",
       "      <td>2902.000000</td>\n",
       "      <td>2902.000000</td>\n",
       "      <td>2902.000000</td>\n",
       "      <td>2902.000000</td>\n",
       "    </tr>\n",
       "    <tr>\n",
       "      <th>mean</th>\n",
       "      <td>22.909373</td>\n",
       "      <td>0.176912</td>\n",
       "      <td>0.127395</td>\n",
       "      <td>0.041178</td>\n",
       "      <td>0.007547</td>\n",
       "      <td>16.443143</td>\n",
       "      <td>16.170227</td>\n",
       "    </tr>\n",
       "    <tr>\n",
       "      <th>std</th>\n",
       "      <td>9.953584</td>\n",
       "      <td>5.159360</td>\n",
       "      <td>4.351066</td>\n",
       "      <td>2.778081</td>\n",
       "      <td>0.383180</td>\n",
       "      <td>9.245440</td>\n",
       "      <td>9.321925</td>\n",
       "    </tr>\n",
       "    <tr>\n",
       "      <th>min</th>\n",
       "      <td>0.000000</td>\n",
       "      <td>-12.900000</td>\n",
       "      <td>-12.000000</td>\n",
       "      <td>-7.800000</td>\n",
       "      <td>-0.800000</td>\n",
       "      <td>1.000000</td>\n",
       "      <td>1.000000</td>\n",
       "    </tr>\n",
       "    <tr>\n",
       "      <th>25%</th>\n",
       "      <td>16.000000</td>\n",
       "      <td>-3.500000</td>\n",
       "      <td>-3.300000</td>\n",
       "      <td>-2.200000</td>\n",
       "      <td>-0.300000</td>\n",
       "      <td>8.000000</td>\n",
       "      <td>8.000000</td>\n",
       "    </tr>\n",
       "    <tr>\n",
       "      <th>50%</th>\n",
       "      <td>23.000000</td>\n",
       "      <td>0.000000</td>\n",
       "      <td>0.300000</td>\n",
       "      <td>0.000000</td>\n",
       "      <td>0.000000</td>\n",
       "      <td>16.000000</td>\n",
       "      <td>16.000000</td>\n",
       "    </tr>\n",
       "    <tr>\n",
       "      <th>75%</th>\n",
       "      <td>30.000000</td>\n",
       "      <td>4.000000</td>\n",
       "      <td>3.100000</td>\n",
       "      <td>2.075000</td>\n",
       "      <td>0.300000</td>\n",
       "      <td>24.000000</td>\n",
       "      <td>24.000000</td>\n",
       "    </tr>\n",
       "    <tr>\n",
       "      <th>max</th>\n",
       "      <td>59.000000</td>\n",
       "      <td>12.200000</td>\n",
       "      <td>11.200000</td>\n",
       "      <td>8.300000</td>\n",
       "      <td>1.000000</td>\n",
       "      <td>32.000000</td>\n",
       "      <td>32.000000</td>\n",
       "    </tr>\n",
       "  </tbody>\n",
       "</table>\n",
       "</div>"
      ],
      "text/plain": [
       "              PtsW  Power Index FPI  Power Index OFF  \\\n",
       "count  2902.000000      2902.000000      2902.000000   \n",
       "mean     22.909373         0.176912         0.127395   \n",
       "std       9.953584         5.159360         4.351066   \n",
       "min       0.000000       -12.900000       -12.000000   \n",
       "25%      16.000000        -3.500000        -3.300000   \n",
       "50%      23.000000         0.000000         0.300000   \n",
       "75%      30.000000         4.000000         3.100000   \n",
       "max      59.000000        12.200000        11.200000   \n",
       "\n",
       "       Power Index DEF_Losing Team  Power Index ST    Ranks SOS  Ranks AVGWP  \n",
       "count                  2902.000000     2902.000000  2902.000000  2902.000000  \n",
       "mean                      0.041178        0.007547    16.443143    16.170227  \n",
       "std                       2.778081        0.383180     9.245440     9.321925  \n",
       "min                      -7.800000       -0.800000     1.000000     1.000000  \n",
       "25%                      -2.200000       -0.300000     8.000000     8.000000  \n",
       "50%                       0.000000        0.000000    16.000000    16.000000  \n",
       "75%                       2.075000        0.300000    24.000000    24.000000  \n",
       "max                       8.300000        1.000000    32.000000    32.000000  "
      ]
     },
     "execution_count": 36,
     "metadata": {},
     "output_type": "execute_result"
    }
   ],
   "source": [
    "model2_df.describe()"
   ]
  },
  {
   "cell_type": "code",
   "execution_count": 62,
   "metadata": {},
   "outputs": [
    {
     "data": {
      "text/plain": [
       "--    1312\n",
       "1      115\n",
       "3       14\n",
       "4        8\n",
       "2        2\n",
       "Name: Power Index TREND, dtype: int64"
      ]
     },
     "execution_count": 62,
     "metadata": {},
     "output_type": "execute_result"
    }
   ],
   "source": [
    "LoserMergedDf2[\"Power Index TREND\"].value_counts()#.columns"
   ]
  },
  {
   "cell_type": "code",
   "execution_count": 34,
   "metadata": {},
   "outputs": [],
   "source": [
    "from sklearn.model_selection import GridSearchCV\n",
    "params = {'fit_intercept':[True,False], 'normalize':[True,False], 'copy_X':[True, False]}\n",
    "grid = GridSearchCV(model_2, params, verbose=3)"
   ]
  },
  {
   "cell_type": "code",
   "execution_count": 35,
   "metadata": {},
   "outputs": [
    {
     "name": "stdout",
     "output_type": "stream",
     "text": [
      "Fitting 5 folds for each of 8 candidates, totalling 40 fits\n",
      "[CV] copy_X=True, fit_intercept=True, normalize=True .................\n",
      "[CV]  copy_X=True, fit_intercept=True, normalize=True, score=0.198, total=   0.0s\n",
      "[CV] copy_X=True, fit_intercept=True, normalize=True .................\n",
      "[CV]  copy_X=True, fit_intercept=True, normalize=True, score=0.258, total=   0.0s\n",
      "[CV] copy_X=True, fit_intercept=True, normalize=True .................\n",
      "[CV]  copy_X=True, fit_intercept=True, normalize=True, score=0.164, total=   0.0s\n",
      "[CV] copy_X=True, fit_intercept=True, normalize=True .................\n",
      "[CV]  copy_X=True, fit_intercept=True, normalize=True, score=0.219, total=   0.0s\n",
      "[CV] copy_X=True, fit_intercept=True, normalize=True .................\n",
      "[CV]  copy_X=True, fit_intercept=True, normalize=True, score=0.194, total=   0.0s\n",
      "[CV] copy_X=True, fit_intercept=True, normalize=False ................\n",
      "[CV]  copy_X=True, fit_intercept=True, normalize=False, score=0.198, total=   0.0s\n",
      "[CV] copy_X=True, fit_intercept=True, normalize=False ................\n",
      "[CV]  copy_X=True, fit_intercept=True, normalize=False, score=0.258, total=   0.0s\n",
      "[CV] copy_X=True, fit_intercept=True, normalize=False ................\n",
      "[CV]  copy_X=True, fit_intercept=True, normalize=False, score=0.164, total=   0.0s\n",
      "[CV] copy_X=True, fit_intercept=True, normalize=False ................\n",
      "[CV]  copy_X=True, fit_intercept=True, normalize=False, score=0.219, total=   0.0s\n",
      "[CV] copy_X=True, fit_intercept=True, normalize=False ................\n",
      "[CV]  copy_X=True, fit_intercept=True, normalize=False, score=0.194, total=   0.0s\n",
      "[CV] copy_X=True, fit_intercept=False, normalize=True ................\n",
      "[CV]  copy_X=True, fit_intercept=False, normalize=True, score=-0.097, total=   0.0s\n",
      "[CV] copy_X=True, fit_intercept=False, normalize=True ................\n",
      "[CV]  copy_X=True, fit_intercept=False, normalize=True, score=-0.014, total=   0.0s\n",
      "[CV] copy_X=True, fit_intercept=False, normalize=True ................\n",
      "[CV]  copy_X=True, fit_intercept=False, normalize=True, score=-0.147, total=   0.0s\n",
      "[CV] copy_X=True, fit_intercept=False, normalize=True ................\n",
      "[CV]  copy_X=True, fit_intercept=False, normalize=True, score=-0.047, total=   0.0s\n",
      "[CV] copy_X=True, fit_intercept=False, normalize=True ................\n",
      "[CV]  copy_X=True, fit_intercept=False, normalize=True, score=-0.195, total=   0.0s\n",
      "[CV] copy_X=True, fit_intercept=False, normalize=False ...............\n",
      "[CV]  copy_X=True, fit_intercept=False, normalize=False, score=-0.097, total=   0.0s\n",
      "[CV] copy_X=True, fit_intercept=False, normalize=False ...............\n",
      "[CV]  copy_X=True, fit_intercept=False, normalize=False, score=-0.014, total=   0.0s\n",
      "[CV] copy_X=True, fit_intercept=False, normalize=False ...............\n",
      "[CV]  copy_X=True, fit_intercept=False, normalize=False, score=-0.147, total=   0.0s\n",
      "[CV] copy_X=True, fit_intercept=False, normalize=False ...............\n",
      "[CV]  copy_X=True, fit_intercept=False, normalize=False, score=-0.047, total=   0.0s\n",
      "[CV] copy_X=True, fit_intercept=False, normalize=False ...............\n",
      "[CV]  copy_X=True, fit_intercept=False, normalize=False, score=-0.195, total=   0.0s\n",
      "[CV] copy_X=False, fit_intercept=True, normalize=True ................\n",
      "[CV]  copy_X=False, fit_intercept=True, normalize=True, score=0.198, total=   0.0s\n",
      "[CV] copy_X=False, fit_intercept=True, normalize=True ................\n",
      "[CV]  copy_X=False, fit_intercept=True, normalize=True, score=0.258, total=   0.0s\n",
      "[CV] copy_X=False, fit_intercept=True, normalize=True ................\n",
      "[CV]  copy_X=False, fit_intercept=True, normalize=True, score=0.164, total=   0.0s\n",
      "[CV] copy_X=False, fit_intercept=True, normalize=True ................\n",
      "[CV]  copy_X=False, fit_intercept=True, normalize=True, score=0.219, total=   0.0s\n",
      "[CV] copy_X=False, fit_intercept=True, normalize=True ................\n",
      "[CV]  copy_X=False, fit_intercept=True, normalize=True, score=0.194, total=   0.0s\n",
      "[CV] copy_X=False, fit_intercept=True, normalize=False ...............\n",
      "[CV]  copy_X=False, fit_intercept=True, normalize=False, score=0.198, total=   0.0s\n",
      "[CV] copy_X=False, fit_intercept=True, normalize=False ...............\n",
      "[CV]  copy_X=False, fit_intercept=True, normalize=False, score=0.258, total=   0.0s\n",
      "[CV] copy_X=False, fit_intercept=True, normalize=False ...............\n",
      "[CV]  copy_X=False, fit_intercept=True, normalize=False, score=0.164, total=   0.0s\n",
      "[CV] copy_X=False, fit_intercept=True, normalize=False ...............\n",
      "[CV]  copy_X=False, fit_intercept=True, normalize=False, score=0.219, total=   0.0s\n",
      "[CV] copy_X=False, fit_intercept=True, normalize=False ...............\n",
      "[CV]  copy_X=False, fit_intercept=True, normalize=False, score=0.194, total=   0.0s\n",
      "[CV] copy_X=False, fit_intercept=False, normalize=True ...............\n",
      "[CV]  copy_X=False, fit_intercept=False, normalize=True, score=-0.097, total=   0.0s\n",
      "[CV] copy_X=False, fit_intercept=False, normalize=True ...............\n",
      "[CV]  copy_X=False, fit_intercept=False, normalize=True, score=-0.014, total=   0.0s\n",
      "[CV] copy_X=False, fit_intercept=False, normalize=True ...............\n",
      "[CV]  copy_X=False, fit_intercept=False, normalize=True, score=-0.147, total=   0.0s\n",
      "[CV] copy_X=False, fit_intercept=False, normalize=True ...............\n",
      "[CV]  copy_X=False, fit_intercept=False, normalize=True, score=-0.047, total=   0.0s\n",
      "[CV] copy_X=False, fit_intercept=False, normalize=True ...............\n",
      "[CV]  copy_X=False, fit_intercept=False, normalize=True, score=-0.195, total=   0.0s\n",
      "[CV] copy_X=False, fit_intercept=False, normalize=False ..............\n",
      "[CV]  copy_X=False, fit_intercept=False, normalize=False, score=-0.097, total=   0.0s\n",
      "[CV] copy_X=False, fit_intercept=False, normalize=False ..............\n",
      "[CV]  copy_X=False, fit_intercept=False, normalize=False, score=-0.014, total=   0.0s\n",
      "[CV] copy_X=False, fit_intercept=False, normalize=False ..............\n",
      "[CV]  copy_X=False, fit_intercept=False, normalize=False, score=-0.147, total=   0.0s\n",
      "[CV] copy_X=False, fit_intercept=False, normalize=False ..............\n",
      "[CV]  copy_X=False, fit_intercept=False, normalize=False, score=-0.047, total=   0.0s\n",
      "[CV] copy_X=False, fit_intercept=False, normalize=False ..............\n",
      "[CV]  copy_X=False, fit_intercept=False, normalize=False, score=-0.195, total=   0.0s\n"
     ]
    },
    {
     "name": "stderr",
     "output_type": "stream",
     "text": [
      "[Parallel(n_jobs=1)]: Using backend SequentialBackend with 1 concurrent workers.\n",
      "[Parallel(n_jobs=1)]: Done   1 out of   1 | elapsed:    0.0s remaining:    0.0s\n",
      "[Parallel(n_jobs=1)]: Done   2 out of   2 | elapsed:    0.0s remaining:    0.0s\n",
      "[Parallel(n_jobs=1)]: Done  40 out of  40 | elapsed:    0.0s finished\n"
     ]
    },
    {
     "data": {
      "text/plain": [
       "GridSearchCV(cv=None, error_score=nan,\n",
       "             estimator=LinearRegression(copy_X=True, fit_intercept=True,\n",
       "                                        n_jobs=None, normalize=True),\n",
       "             iid='deprecated', n_jobs=None,\n",
       "             param_grid={'copy_X': [True, False],\n",
       "                         'fit_intercept': [True, False],\n",
       "                         'normalize': [True, False]},\n",
       "             pre_dispatch='2*n_jobs', refit=True, return_train_score=False,\n",
       "             scoring=None, verbose=3)"
      ]
     },
     "execution_count": 35,
     "metadata": {},
     "output_type": "execute_result"
    }
   ],
   "source": [
    "# Train the model with GridSearch\n",
    "grid.fit(X_train,y_train)"
   ]
  },
  {
   "cell_type": "code",
   "execution_count": 37,
   "metadata": {},
   "outputs": [],
   "source": [
    "ys = grid.predict(X_test)"
   ]
  },
  {
   "cell_type": "code",
   "execution_count": 38,
   "metadata": {},
   "outputs": [],
   "source": [
    "model2_resid = (ys - y_test)**2"
   ]
  },
  {
   "cell_type": "code",
   "execution_count": 45,
   "metadata": {},
   "outputs": [],
   "source": [
    "import math"
   ]
  },
  {
   "cell_type": "code",
   "execution_count": 42,
   "metadata": {
    "scrolled": true
   },
   "outputs": [],
   "source": [
    "resid_Series = pd.Series(model2_resid.reshape(-1))"
   ]
  },
  {
   "cell_type": "code",
   "execution_count": 47,
   "metadata": {},
   "outputs": [],
   "source": [
    "errors = resid_Series.apply(math.sqrt)"
   ]
  },
  {
   "cell_type": "code",
   "execution_count": 48,
   "metadata": {},
   "outputs": [
    {
     "data": {
      "text/plain": [
       "6.829587967368776"
      ]
     },
     "execution_count": 48,
     "metadata": {},
     "output_type": "execute_result"
    }
   ],
   "source": [
    "errors.mean()"
   ]
  },
  {
   "cell_type": "code",
   "execution_count": 53,
   "metadata": {
    "scrolled": true
   },
   "outputs": [
    {
     "data": {
      "text/plain": [
       "28.241938970149725"
      ]
     },
     "execution_count": 53,
     "metadata": {},
     "output_type": "execute_result"
    }
   ],
   "source": [
    "errors.max()"
   ]
  },
  {
   "cell_type": "markdown",
   "metadata": {},
   "source": [
    "### MODEL 3: Yards and Turnovers"
   ]
  },
  {
   "cell_type": "code",
   "execution_count": 64,
   "metadata": {},
   "outputs": [],
   "source": [
    "model3_df = LoserMergedDf2.loc[:, [\"PtsW\", \"Power Index FPI\", 'Power Index OFF','Power Index DEF_Losing Team', 'Power Index ST', 'Ranks SOS', 'Ranks AVGWP', 'YdsW', 'TOW', \n",
    "                     \"PtsL\",  'Power Index FPI_Losing Team', 'Power Index OFF_Losing Team','Power Index DEF', 'Power Index ST_Losing Team', 'Ranks SOS_Losing Team', 'Ranks AVGWP_Losing Team', 'YdsL', 'TOL']]"
   ]
  },
  {
   "cell_type": "code",
   "execution_count": 69,
   "metadata": {},
   "outputs": [],
   "source": [
    "winners3 = model3_df.iloc[:, :9] \n",
    "losers3 = model3_df.iloc[:, 9:]"
   ]
  },
  {
   "cell_type": "code",
   "execution_count": 73,
   "metadata": {},
   "outputs": [],
   "source": [
    "model3_dff = pd.concat([winners3, losers3], ignore_index=True)"
   ]
  },
  {
   "cell_type": "code",
   "execution_count": 71,
   "metadata": {},
   "outputs": [],
   "source": [
    "losers3 = losers3.rename(columns={'PtsL': \"PtsW\", 'Power Index FPI_Losing Team': 'Power Index FPI', 'Power Index DEF': 'Power Index DEF_Losing Team',\n",
    "       'Power Index ST_Losing Team': 'Power Index ST' , 'Ranks SOS_Losing Team': 'Ranks SOS', \"Power Index OFF_Losing Team\": \"Power Index OFF\",\n",
    "       'Ranks AVGWP_Losing Team': \"Ranks AVGWP\", 'YdsL': \"YdsW\", 'TOL': \"TOW\"})"
   ]
  },
  {
   "cell_type": "code",
   "execution_count": 75,
   "metadata": {},
   "outputs": [
    {
     "data": {
      "text/plain": [
       "(2902, 9)"
      ]
     },
     "execution_count": 75,
     "metadata": {},
     "output_type": "execute_result"
    }
   ],
   "source": [
    "model3_dff"
   ]
  },
  {
   "cell_type": "code",
   "execution_count": 76,
   "metadata": {},
   "outputs": [],
   "source": [
    "X = model3_dff.iloc[:,1:].values\n",
    "y = model3_dff.iloc[:,0].values"
   ]
  },
  {
   "cell_type": "code",
   "execution_count": 84,
   "metadata": {},
   "outputs": [],
   "source": [
    "X_train, X_test, y_train, y_test = train_test_split(X,y)\n",
    "#X_train = X_train.reshape(-1)\n",
    "#X_test = X_test.reshape(-1)\n",
    "y_train = y_train.reshape(-1, 1)\n",
    "y_test = y_test.reshape(-1, 1)"
   ]
  },
  {
   "cell_type": "code",
   "execution_count": 90,
   "metadata": {},
   "outputs": [
    {
     "data": {
      "text/plain": [
       "array([ -1.4,  -1.8,   8.3,   0.4,  24. ,  22. , 365. ,   0. ])"
      ]
     },
     "execution_count": 90,
     "metadata": {},
     "output_type": "execute_result"
    }
   ],
   "source": [
    "X_train[0]"
   ]
  },
  {
   "cell_type": "code",
   "execution_count": 21,
   "metadata": {},
   "outputs": [],
   "source": [
    "import sklearn.linear_model"
   ]
  },
  {
   "cell_type": "code",
   "execution_count": 91,
   "metadata": {},
   "outputs": [],
   "source": [
    "model_3 = sklearn.linear_model.LinearRegression(normalize=True)"
   ]
  },
  {
   "cell_type": "code",
   "execution_count": 92,
   "metadata": {},
   "outputs": [
    {
     "data": {
      "text/plain": [
       "LinearRegression(copy_X=True, fit_intercept=True, n_jobs=None, normalize=True)"
      ]
     },
     "execution_count": 92,
     "metadata": {},
     "output_type": "execute_result"
    }
   ],
   "source": [
    "model_3.fit(X_train, y_train)"
   ]
  },
  {
   "cell_type": "code",
   "execution_count": 93,
   "metadata": {},
   "outputs": [
    {
     "data": {
      "text/plain": [
       "0.5010727230661787"
      ]
     },
     "execution_count": 93,
     "metadata": {},
     "output_type": "execute_result"
    }
   ],
   "source": [
    "model_3.score(X_train, y_train)"
   ]
  },
  {
   "cell_type": "code",
   "execution_count": 94,
   "metadata": {},
   "outputs": [
    {
     "data": {
      "text/plain": [
       "0.4920709425439327"
      ]
     },
     "execution_count": 94,
     "metadata": {},
     "output_type": "execute_result"
    }
   ],
   "source": [
    "model_3.score(X_test, y_test)"
   ]
  },
  {
   "cell_type": "code",
   "execution_count": 95,
   "metadata": {},
   "outputs": [
    {
     "data": {
      "text/plain": [
       "array([[ 0.09104623,  0.03954676, -0.28745843, -0.04204425,  0.01147115,\n",
       "        -0.11240591,  0.06632904, -1.85853084]])"
      ]
     },
     "execution_count": 95,
     "metadata": {},
     "output_type": "execute_result"
    }
   ],
   "source": [
    "model_3.coef_"
   ]
  },
  {
   "cell_type": "code",
   "execution_count": 96,
   "metadata": {},
   "outputs": [
    {
     "data": {
      "text/plain": [
       "array([3.92698184])"
      ]
     },
     "execution_count": 96,
     "metadata": {},
     "output_type": "execute_result"
    }
   ],
   "source": [
    "model_3.intercept_"
   ]
  },
  {
   "cell_type": "code",
   "execution_count": 98,
   "metadata": {},
   "outputs": [
    {
     "data": {
      "text/html": [
       "<div>\n",
       "<style scoped>\n",
       "    .dataframe tbody tr th:only-of-type {\n",
       "        vertical-align: middle;\n",
       "    }\n",
       "\n",
       "    .dataframe tbody tr th {\n",
       "        vertical-align: top;\n",
       "    }\n",
       "\n",
       "    .dataframe thead th {\n",
       "        text-align: right;\n",
       "    }\n",
       "</style>\n",
       "<table border=\"1\" class=\"dataframe\">\n",
       "  <thead>\n",
       "    <tr style=\"text-align: right;\">\n",
       "      <th></th>\n",
       "      <th>PtsW</th>\n",
       "      <th>Power Index FPI</th>\n",
       "      <th>Power Index OFF</th>\n",
       "      <th>Power Index DEF_Losing Team</th>\n",
       "      <th>Power Index ST</th>\n",
       "      <th>Ranks SOS</th>\n",
       "      <th>Ranks AVGWP</th>\n",
       "      <th>YdsW</th>\n",
       "      <th>TOW</th>\n",
       "    </tr>\n",
       "  </thead>\n",
       "  <tbody>\n",
       "    <tr>\n",
       "      <th>count</th>\n",
       "      <td>2902.000000</td>\n",
       "      <td>2902.000000</td>\n",
       "      <td>2902.000000</td>\n",
       "      <td>2902.000000</td>\n",
       "      <td>2902.000000</td>\n",
       "      <td>2902.000000</td>\n",
       "      <td>2902.000000</td>\n",
       "      <td>2902.000000</td>\n",
       "      <td>2902.000000</td>\n",
       "    </tr>\n",
       "    <tr>\n",
       "      <th>mean</th>\n",
       "      <td>22.909373</td>\n",
       "      <td>0.176912</td>\n",
       "      <td>0.127395</td>\n",
       "      <td>0.041178</td>\n",
       "      <td>0.007547</td>\n",
       "      <td>16.443143</td>\n",
       "      <td>16.170227</td>\n",
       "      <td>348.939352</td>\n",
       "      <td>1.375258</td>\n",
       "    </tr>\n",
       "    <tr>\n",
       "      <th>std</th>\n",
       "      <td>9.953584</td>\n",
       "      <td>5.159360</td>\n",
       "      <td>4.351066</td>\n",
       "      <td>2.778081</td>\n",
       "      <td>0.383180</td>\n",
       "      <td>9.245440</td>\n",
       "      <td>9.321925</td>\n",
       "      <td>84.036226</td>\n",
       "      <td>1.233836</td>\n",
       "    </tr>\n",
       "    <tr>\n",
       "      <th>min</th>\n",
       "      <td>0.000000</td>\n",
       "      <td>-12.900000</td>\n",
       "      <td>-12.000000</td>\n",
       "      <td>-7.800000</td>\n",
       "      <td>-0.800000</td>\n",
       "      <td>1.000000</td>\n",
       "      <td>1.000000</td>\n",
       "      <td>89.000000</td>\n",
       "      <td>0.000000</td>\n",
       "    </tr>\n",
       "    <tr>\n",
       "      <th>25%</th>\n",
       "      <td>16.000000</td>\n",
       "      <td>-3.500000</td>\n",
       "      <td>-3.300000</td>\n",
       "      <td>-2.200000</td>\n",
       "      <td>-0.300000</td>\n",
       "      <td>8.000000</td>\n",
       "      <td>8.000000</td>\n",
       "      <td>290.250000</td>\n",
       "      <td>0.000000</td>\n",
       "    </tr>\n",
       "    <tr>\n",
       "      <th>50%</th>\n",
       "      <td>23.000000</td>\n",
       "      <td>0.000000</td>\n",
       "      <td>0.300000</td>\n",
       "      <td>0.000000</td>\n",
       "      <td>0.000000</td>\n",
       "      <td>16.000000</td>\n",
       "      <td>16.000000</td>\n",
       "      <td>349.000000</td>\n",
       "      <td>1.000000</td>\n",
       "    </tr>\n",
       "    <tr>\n",
       "      <th>75%</th>\n",
       "      <td>30.000000</td>\n",
       "      <td>4.000000</td>\n",
       "      <td>3.100000</td>\n",
       "      <td>2.075000</td>\n",
       "      <td>0.300000</td>\n",
       "      <td>24.000000</td>\n",
       "      <td>24.000000</td>\n",
       "      <td>407.000000</td>\n",
       "      <td>2.000000</td>\n",
       "    </tr>\n",
       "    <tr>\n",
       "      <th>max</th>\n",
       "      <td>59.000000</td>\n",
       "      <td>12.200000</td>\n",
       "      <td>11.200000</td>\n",
       "      <td>8.300000</td>\n",
       "      <td>1.000000</td>\n",
       "      <td>32.000000</td>\n",
       "      <td>32.000000</td>\n",
       "      <td>643.000000</td>\n",
       "      <td>8.000000</td>\n",
       "    </tr>\n",
       "  </tbody>\n",
       "</table>\n",
       "</div>"
      ],
      "text/plain": [
       "              PtsW  Power Index FPI  Power Index OFF  \\\n",
       "count  2902.000000      2902.000000      2902.000000   \n",
       "mean     22.909373         0.176912         0.127395   \n",
       "std       9.953584         5.159360         4.351066   \n",
       "min       0.000000       -12.900000       -12.000000   \n",
       "25%      16.000000        -3.500000        -3.300000   \n",
       "50%      23.000000         0.000000         0.300000   \n",
       "75%      30.000000         4.000000         3.100000   \n",
       "max      59.000000        12.200000        11.200000   \n",
       "\n",
       "       Power Index DEF_Losing Team  Power Index ST    Ranks SOS  Ranks AVGWP  \\\n",
       "count                  2902.000000     2902.000000  2902.000000  2902.000000   \n",
       "mean                      0.041178        0.007547    16.443143    16.170227   \n",
       "std                       2.778081        0.383180     9.245440     9.321925   \n",
       "min                      -7.800000       -0.800000     1.000000     1.000000   \n",
       "25%                      -2.200000       -0.300000     8.000000     8.000000   \n",
       "50%                       0.000000        0.000000    16.000000    16.000000   \n",
       "75%                       2.075000        0.300000    24.000000    24.000000   \n",
       "max                       8.300000        1.000000    32.000000    32.000000   \n",
       "\n",
       "              YdsW          TOW  \n",
       "count  2902.000000  2902.000000  \n",
       "mean    348.939352     1.375258  \n",
       "std      84.036226     1.233836  \n",
       "min      89.000000     0.000000  \n",
       "25%     290.250000     0.000000  \n",
       "50%     349.000000     1.000000  \n",
       "75%     407.000000     2.000000  \n",
       "max     643.000000     8.000000  "
      ]
     },
     "execution_count": 98,
     "metadata": {},
     "output_type": "execute_result"
    }
   ],
   "source": [
    "model3_dff.describe()"
   ]
  },
  {
   "cell_type": "code",
   "execution_count": 99,
   "metadata": {},
   "outputs": [],
   "source": [
    "from sklearn.model_selection import GridSearchCV\n",
    "params = {'fit_intercept':[True,False], 'normalize':[True,False], 'copy_X':[True, False]}\n",
    "grid = GridSearchCV(model_3, params, verbose=3)"
   ]
  },
  {
   "cell_type": "code",
   "execution_count": 100,
   "metadata": {},
   "outputs": [
    {
     "name": "stdout",
     "output_type": "stream",
     "text": [
      "Fitting 5 folds for each of 8 candidates, totalling 40 fits\n",
      "[CV] copy_X=True, fit_intercept=True, normalize=True .................\n",
      "[CV]  copy_X=True, fit_intercept=True, normalize=True, score=0.448, total=   0.0s\n",
      "[CV] copy_X=True, fit_intercept=True, normalize=True .................\n",
      "[CV]  copy_X=True, fit_intercept=True, normalize=True, score=0.531, total=   0.0s\n",
      "[CV] copy_X=True, fit_intercept=True, normalize=True .................\n",
      "[CV]  copy_X=True, fit_intercept=True, normalize=True, score=0.523, total=   0.0s\n",
      "[CV] copy_X=True, fit_intercept=True, normalize=True .................\n",
      "[CV]  copy_X=True, fit_intercept=True, normalize=True, score=0.504, total=   0.0s\n",
      "[CV] copy_X=True, fit_intercept=True, normalize=True .................\n",
      "[CV]  copy_X=True, fit_intercept=True, normalize=True, score=0.474, total=   0.0s\n",
      "[CV] copy_X=True, fit_intercept=True, normalize=False ................\n",
      "[CV]  copy_X=True, fit_intercept=True, normalize=False, score=0.448, total=   0.0s\n",
      "[CV] copy_X=True, fit_intercept=True, normalize=False ................\n",
      "[CV]  copy_X=True, fit_intercept=True, normalize=False, score=0.531, total=   0.0s\n",
      "[CV] copy_X=True, fit_intercept=True, normalize=False ................\n",
      "[CV]  copy_X=True, fit_intercept=True, normalize=False, score=0.523, total=   0.0s\n",
      "[CV] copy_X=True, fit_intercept=True, normalize=False ................\n",
      "[CV]  copy_X=True, fit_intercept=True, normalize=False, score=0.504, total=   0.0s\n",
      "[CV] copy_X=True, fit_intercept=True, normalize=False ................\n",
      "[CV]  copy_X=True, fit_intercept=True, normalize=False, score=0.474, total=   0.0s\n",
      "[CV] copy_X=True, fit_intercept=False, normalize=True ................\n",
      "[CV]  copy_X=True, fit_intercept=False, normalize=True, score=0.441, total=   0.0s\n",
      "[CV] copy_X=True, fit_intercept=False, normalize=True ................\n",
      "[CV]  copy_X=True, fit_intercept=False, normalize=True, score=0.526, total=   0.0s\n",
      "[CV] copy_X=True, fit_intercept=False, normalize=True ................\n",
      "[CV]  copy_X=True, fit_intercept=False, normalize=True, score=0.522, total=   0.0s\n",
      "[CV] copy_X=True, fit_intercept=False, normalize=True ................\n",
      "[CV]  copy_X=True, fit_intercept=False, normalize=True, score=0.497, total=   0.0s\n",
      "[CV] copy_X=True, fit_intercept=False, normalize=True ................\n",
      "[CV]  copy_X=True, fit_intercept=False, normalize=True, score=0.478, total=   0.0s\n",
      "[CV] copy_X=True, fit_intercept=False, normalize=False ...............\n",
      "[CV]  copy_X=True, fit_intercept=False, normalize=False, score=0.441, total=   0.0s\n",
      "[CV] copy_X=True, fit_intercept=False, normalize=False ...............\n",
      "[CV]  copy_X=True, fit_intercept=False, normalize=False, score=0.526, total=   0.0s\n",
      "[CV] copy_X=True, fit_intercept=False, normalize=False ...............\n",
      "[CV]  copy_X=True, fit_intercept=False, normalize=False, score=0.522, total=   0.0s\n",
      "[CV] copy_X=True, fit_intercept=False, normalize=False ...............\n",
      "[CV]  copy_X=True, fit_intercept=False, normalize=False, score=0.497, total=   0.0s\n",
      "[CV] copy_X=True, fit_intercept=False, normalize=False ...............\n",
      "[CV]  copy_X=True, fit_intercept=False, normalize=False, score=0.478, total=   0.0s\n",
      "[CV] copy_X=False, fit_intercept=True, normalize=True ................\n",
      "[CV]  copy_X=False, fit_intercept=True, normalize=True, score=0.448, total=   0.0s\n",
      "[CV] copy_X=False, fit_intercept=True, normalize=True ................\n",
      "[CV]  copy_X=False, fit_intercept=True, normalize=True, score=0.531, total=   0.0s\n",
      "[CV] copy_X=False, fit_intercept=True, normalize=True ................\n",
      "[CV]  copy_X=False, fit_intercept=True, normalize=True, score=0.523, total=   0.0s\n",
      "[CV] copy_X=False, fit_intercept=True, normalize=True ................\n",
      "[CV]  copy_X=False, fit_intercept=True, normalize=True, score=0.504, total=   0.0s\n",
      "[CV] copy_X=False, fit_intercept=True, normalize=True ................\n",
      "[CV]  copy_X=False, fit_intercept=True, normalize=True, score=0.474, total=   0.0s\n",
      "[CV] copy_X=False, fit_intercept=True, normalize=False ...............\n",
      "[CV]  copy_X=False, fit_intercept=True, normalize=False, score=0.448, total=   0.0s\n",
      "[CV] copy_X=False, fit_intercept=True, normalize=False ...............\n",
      "[CV]  copy_X=False, fit_intercept=True, normalize=False, score=0.531, total=   0.0s\n",
      "[CV] copy_X=False, fit_intercept=True, normalize=False ...............\n",
      "[CV]  copy_X=False, fit_intercept=True, normalize=False, score=0.523, total=   0.0s\n",
      "[CV] copy_X=False, fit_intercept=True, normalize=False ...............\n",
      "[CV]  copy_X=False, fit_intercept=True, normalize=False, score=0.504, total=   0.0s\n",
      "[CV] copy_X=False, fit_intercept=True, normalize=False ...............\n",
      "[CV]  copy_X=False, fit_intercept=True, normalize=False, score=0.474, total=   0.0s\n",
      "[CV] copy_X=False, fit_intercept=False, normalize=True ...............\n",
      "[CV]  copy_X=False, fit_intercept=False, normalize=True, score=0.441, total=   0.0s\n",
      "[CV] copy_X=False, fit_intercept=False, normalize=True ...............\n",
      "[CV]  copy_X=False, fit_intercept=False, normalize=True, score=0.526, total=   0.0s\n",
      "[CV] copy_X=False, fit_intercept=False, normalize=True ...............\n",
      "[CV]  copy_X=False, fit_intercept=False, normalize=True, score=0.522, total=   0.0s\n",
      "[CV] copy_X=False, fit_intercept=False, normalize=True ...............\n",
      "[CV]  copy_X=False, fit_intercept=False, normalize=True, score=0.497, total=   0.0s\n",
      "[CV] copy_X=False, fit_intercept=False, normalize=True ...............\n",
      "[CV]  copy_X=False, fit_intercept=False, normalize=True, score=0.478, total=   0.0s\n",
      "[CV] copy_X=False, fit_intercept=False, normalize=False ..............\n",
      "[CV]  copy_X=False, fit_intercept=False, normalize=False, score=0.441, total=   0.0s\n",
      "[CV] copy_X=False, fit_intercept=False, normalize=False ..............\n",
      "[CV]  copy_X=False, fit_intercept=False, normalize=False, score=0.526, total=   0.0s\n",
      "[CV] copy_X=False, fit_intercept=False, normalize=False ..............\n",
      "[CV]  copy_X=False, fit_intercept=False, normalize=False, score=0.522, total=   0.0s\n",
      "[CV] copy_X=False, fit_intercept=False, normalize=False ..............\n",
      "[CV]  copy_X=False, fit_intercept=False, normalize=False, score=0.497, total=   0.0s\n",
      "[CV] copy_X=False, fit_intercept=False, normalize=False ..............\n",
      "[CV]  copy_X=False, fit_intercept=False, normalize=False, score=0.478, total=   0.0s\n"
     ]
    },
    {
     "name": "stderr",
     "output_type": "stream",
     "text": [
      "[Parallel(n_jobs=1)]: Using backend SequentialBackend with 1 concurrent workers.\n",
      "[Parallel(n_jobs=1)]: Done   1 out of   1 | elapsed:    0.0s remaining:    0.0s\n",
      "[Parallel(n_jobs=1)]: Done   2 out of   2 | elapsed:    0.0s remaining:    0.0s\n",
      "[Parallel(n_jobs=1)]: Done  40 out of  40 | elapsed:    0.0s finished\n"
     ]
    },
    {
     "data": {
      "text/plain": [
       "GridSearchCV(cv=None, error_score=nan,\n",
       "             estimator=LinearRegression(copy_X=True, fit_intercept=True,\n",
       "                                        n_jobs=None, normalize=True),\n",
       "             iid='deprecated', n_jobs=None,\n",
       "             param_grid={'copy_X': [True, False],\n",
       "                         'fit_intercept': [True, False],\n",
       "                         'normalize': [True, False]},\n",
       "             pre_dispatch='2*n_jobs', refit=True, return_train_score=False,\n",
       "             scoring=None, verbose=3)"
      ]
     },
     "execution_count": 100,
     "metadata": {},
     "output_type": "execute_result"
    }
   ],
   "source": [
    "# Train the model with GridSearch\n",
    "grid.fit(X_train,y_train)"
   ]
  },
  {
   "cell_type": "code",
   "execution_count": null,
   "metadata": {},
   "outputs": [],
   "source": []
  },
  {
   "cell_type": "code",
   "execution_count": 101,
   "metadata": {},
   "outputs": [],
   "source": [
    "ys = grid.predict(X_test)"
   ]
  },
  {
   "cell_type": "code",
   "execution_count": 102,
   "metadata": {},
   "outputs": [],
   "source": [
    "model3_resid = (ys - y_test)**2"
   ]
  },
  {
   "cell_type": "code",
   "execution_count": 103,
   "metadata": {},
   "outputs": [],
   "source": [
    "import math"
   ]
  },
  {
   "cell_type": "code",
   "execution_count": 107,
   "metadata": {
    "scrolled": true
   },
   "outputs": [],
   "source": [
    "resid_Series3 = pd.Series(model3_resid.reshape(-1))"
   ]
  },
  {
   "cell_type": "code",
   "execution_count": 108,
   "metadata": {},
   "outputs": [],
   "source": [
    "errors3 = resid_Series3.apply(math.sqrt)"
   ]
  },
  {
   "cell_type": "code",
   "execution_count": 109,
   "metadata": {},
   "outputs": [
    {
     "data": {
      "text/plain": [
       "5.542879040495404"
      ]
     },
     "execution_count": 109,
     "metadata": {},
     "output_type": "execute_result"
    }
   ],
   "source": [
    "errors3.mean()"
   ]
  },
  {
   "cell_type": "markdown",
   "metadata": {},
   "source": [
    "#### Model 4: Tried Random Forrest"
   ]
  },
  {
   "cell_type": "code",
   "execution_count": 112,
   "metadata": {},
   "outputs": [],
   "source": [
    "from sklearn.ensemble import RandomForestClassifier"
   ]
  },
  {
   "cell_type": "code",
   "execution_count": 152,
   "metadata": {},
   "outputs": [],
   "source": [
    "rf = RandomForestClassifier(n_estimators=4000, criterion=\"entropy\", max_depth=5)"
   ]
  },
  {
   "cell_type": "code",
   "execution_count": 153,
   "metadata": {},
   "outputs": [
    {
     "name": "stderr",
     "output_type": "stream",
     "text": [
      "C:\\Users\\Kyle\\anaconda3\\lib\\site-packages\\ipykernel_launcher.py:1: DataConversionWarning: A column-vector y was passed when a 1d array was expected. Please change the shape of y to (n_samples,), for example using ravel().\n",
      "  \"\"\"Entry point for launching an IPython kernel.\n"
     ]
    },
    {
     "data": {
      "text/plain": [
       "RandomForestClassifier(bootstrap=True, ccp_alpha=0.0, class_weight=None,\n",
       "                       criterion='entropy', max_depth=5, max_features='auto',\n",
       "                       max_leaf_nodes=None, max_samples=None,\n",
       "                       min_impurity_decrease=0.0, min_impurity_split=None,\n",
       "                       min_samples_leaf=1, min_samples_split=2,\n",
       "                       min_weight_fraction_leaf=0.0, n_estimators=4000,\n",
       "                       n_jobs=None, oob_score=False, random_state=None,\n",
       "                       verbose=0, warm_start=False)"
      ]
     },
     "execution_count": 153,
     "metadata": {},
     "output_type": "execute_result"
    }
   ],
   "source": [
    "rf.fit(X_train, y_train)"
   ]
  },
  {
   "cell_type": "code",
   "execution_count": 154,
   "metadata": {},
   "outputs": [],
   "source": [
    "rf_ys = rf.predict(X_test)"
   ]
  },
  {
   "cell_type": "code",
   "execution_count": 155,
   "metadata": {},
   "outputs": [],
   "source": [
    "rf_resid = (rf_ys - y_test)**2"
   ]
  },
  {
   "cell_type": "code",
   "execution_count": 156,
   "metadata": {},
   "outputs": [],
   "source": [
    "rf_r = pd.Series(rf_resid.reshape(-1))"
   ]
  },
  {
   "cell_type": "code",
   "execution_count": 157,
   "metadata": {},
   "outputs": [],
   "source": [
    "rf_r = rf_r.apply(math.sqrt)"
   ]
  },
  {
   "cell_type": "code",
   "execution_count": 158,
   "metadata": {},
   "outputs": [
    {
     "data": {
      "text/plain": [
       "9.585038969712148"
      ]
     },
     "execution_count": 158,
     "metadata": {},
     "output_type": "execute_result"
    }
   ],
   "source": [
    "rf_r.mean()"
   ]
  },
  {
   "cell_type": "code",
   "execution_count": 165,
   "metadata": {},
   "outputs": [
    {
     "data": {
      "text/plain": [
       "array([27.])"
      ]
     },
     "execution_count": 165,
     "metadata": {},
     "output_type": "execute_result"
    }
   ],
   "source": [
    "rf.predict(X_test[1].reshape(1,-1))"
   ]
  },
  {
   "cell_type": "code",
   "execution_count": 166,
   "metadata": {},
   "outputs": [
    {
     "data": {
      "text/plain": [
       "array([33.])"
      ]
     },
     "execution_count": 166,
     "metadata": {},
     "output_type": "execute_result"
    }
   ],
   "source": [
    "y_test[1]"
   ]
  },
  {
   "cell_type": "markdown",
   "metadata": {},
   "source": [
    "### Model 5: DVOA"
   ]
  },
  {
   "cell_type": "code",
   "execution_count": 169,
   "metadata": {},
   "outputs": [],
   "source": [
    "epa = pd.read_csv(\"./Advanced Stats/epa2015_2020.csv\")"
   ]
  },
  {
   "cell_type": "code",
   "execution_count": 167,
   "metadata": {},
   "outputs": [
    {
     "data": {
      "text/html": [
       "<div>\n",
       "<style scoped>\n",
       "    .dataframe tbody tr th:only-of-type {\n",
       "        vertical-align: middle;\n",
       "    }\n",
       "\n",
       "    .dataframe tbody tr th {\n",
       "        vertical-align: top;\n",
       "    }\n",
       "\n",
       "    .dataframe thead th {\n",
       "        text-align: right;\n",
       "    }\n",
       "</style>\n",
       "<table border=\"1\" class=\"dataframe\">\n",
       "  <thead>\n",
       "    <tr style=\"text-align: right;\">\n",
       "      <th></th>\n",
       "      <th>Year</th>\n",
       "      <th>Week</th>\n",
       "      <th>Day</th>\n",
       "      <th>Date</th>\n",
       "      <th>Time</th>\n",
       "      <th>Winner/tie</th>\n",
       "      <th>Unnamed: 6</th>\n",
       "      <th>Loser/tie</th>\n",
       "      <th>Unnamed: 8</th>\n",
       "      <th>PtsW</th>\n",
       "      <th>...</th>\n",
       "      <th>W-L-T_Losing Team</th>\n",
       "      <th>Power Index FPI_Losing Team</th>\n",
       "      <th>Power Index RK_Losing Team</th>\n",
       "      <th>Power Index TREND_Losing Team</th>\n",
       "      <th>Power Index OFF_Losing Team</th>\n",
       "      <th>Power Index DEF_Losing Team</th>\n",
       "      <th>Power Index ST_Losing Team</th>\n",
       "      <th>Ranks SOS_Losing Team</th>\n",
       "      <th>Ranks REM SOS_Losing Team</th>\n",
       "      <th>Ranks AVGWP_Losing Team</th>\n",
       "    </tr>\n",
       "  </thead>\n",
       "  <tbody>\n",
       "    <tr>\n",
       "      <th>0</th>\n",
       "      <td>2015.0</td>\n",
       "      <td>17</td>\n",
       "      <td>Sun</td>\n",
       "      <td>3-Jan</td>\n",
       "      <td>1:02PM</td>\n",
       "      <td>Detroit Lions</td>\n",
       "      <td>@</td>\n",
       "      <td>Chicago Bears</td>\n",
       "      <td>boxscore</td>\n",
       "      <td>24.0</td>\n",
       "      <td>...</td>\n",
       "      <td>6-10-0</td>\n",
       "      <td>-2.6</td>\n",
       "      <td>22.0</td>\n",
       "      <td>--</td>\n",
       "      <td>0.1</td>\n",
       "      <td>-2.7</td>\n",
       "      <td>0.0</td>\n",
       "      <td>12.0</td>\n",
       "      <td>--</td>\n",
       "      <td>27.0</td>\n",
       "    </tr>\n",
       "    <tr>\n",
       "      <th>1</th>\n",
       "      <td>2015.0</td>\n",
       "      <td>6</td>\n",
       "      <td>Sun</td>\n",
       "      <td>18-Oct</td>\n",
       "      <td>1:02PM</td>\n",
       "      <td>Detroit Lions</td>\n",
       "      <td>NaN</td>\n",
       "      <td>Chicago Bears</td>\n",
       "      <td>boxscore</td>\n",
       "      <td>37.0</td>\n",
       "      <td>...</td>\n",
       "      <td>6-10-0</td>\n",
       "      <td>-2.6</td>\n",
       "      <td>22.0</td>\n",
       "      <td>--</td>\n",
       "      <td>0.1</td>\n",
       "      <td>-2.7</td>\n",
       "      <td>0.0</td>\n",
       "      <td>12.0</td>\n",
       "      <td>--</td>\n",
       "      <td>27.0</td>\n",
       "    </tr>\n",
       "    <tr>\n",
       "      <th>2</th>\n",
       "      <td>2015.0</td>\n",
       "      <td>14</td>\n",
       "      <td>Sun</td>\n",
       "      <td>13-Dec</td>\n",
       "      <td>1:02PM</td>\n",
       "      <td>Washington Redskins</td>\n",
       "      <td>@</td>\n",
       "      <td>Chicago Bears</td>\n",
       "      <td>boxscore</td>\n",
       "      <td>24.0</td>\n",
       "      <td>...</td>\n",
       "      <td>6-10-0</td>\n",
       "      <td>-2.6</td>\n",
       "      <td>22.0</td>\n",
       "      <td>--</td>\n",
       "      <td>0.1</td>\n",
       "      <td>-2.7</td>\n",
       "      <td>0.0</td>\n",
       "      <td>12.0</td>\n",
       "      <td>--</td>\n",
       "      <td>27.0</td>\n",
       "    </tr>\n",
       "    <tr>\n",
       "      <th>3</th>\n",
       "      <td>2015.0</td>\n",
       "      <td>11</td>\n",
       "      <td>Sun</td>\n",
       "      <td>22-Nov</td>\n",
       "      <td>1:02PM</td>\n",
       "      <td>Denver Broncos</td>\n",
       "      <td>@</td>\n",
       "      <td>Chicago Bears</td>\n",
       "      <td>boxscore</td>\n",
       "      <td>17.0</td>\n",
       "      <td>...</td>\n",
       "      <td>6-10-0</td>\n",
       "      <td>-2.6</td>\n",
       "      <td>22.0</td>\n",
       "      <td>--</td>\n",
       "      <td>0.1</td>\n",
       "      <td>-2.7</td>\n",
       "      <td>0.0</td>\n",
       "      <td>12.0</td>\n",
       "      <td>--</td>\n",
       "      <td>27.0</td>\n",
       "    </tr>\n",
       "    <tr>\n",
       "      <th>4</th>\n",
       "      <td>2015.0</td>\n",
       "      <td>13</td>\n",
       "      <td>Sun</td>\n",
       "      <td>6-Dec</td>\n",
       "      <td>1:02PM</td>\n",
       "      <td>San Francisco 49ers</td>\n",
       "      <td>@</td>\n",
       "      <td>Chicago Bears</td>\n",
       "      <td>boxscore</td>\n",
       "      <td>26.0</td>\n",
       "      <td>...</td>\n",
       "      <td>6-10-0</td>\n",
       "      <td>-2.6</td>\n",
       "      <td>22.0</td>\n",
       "      <td>--</td>\n",
       "      <td>0.1</td>\n",
       "      <td>-2.7</td>\n",
       "      <td>0.0</td>\n",
       "      <td>12.0</td>\n",
       "      <td>--</td>\n",
       "      <td>27.0</td>\n",
       "    </tr>\n",
       "    <tr>\n",
       "      <th>...</th>\n",
       "      <td>...</td>\n",
       "      <td>...</td>\n",
       "      <td>...</td>\n",
       "      <td>...</td>\n",
       "      <td>...</td>\n",
       "      <td>...</td>\n",
       "      <td>...</td>\n",
       "      <td>...</td>\n",
       "      <td>...</td>\n",
       "      <td>...</td>\n",
       "      <td>...</td>\n",
       "      <td>...</td>\n",
       "      <td>...</td>\n",
       "      <td>...</td>\n",
       "      <td>...</td>\n",
       "      <td>...</td>\n",
       "      <td>...</td>\n",
       "      <td>...</td>\n",
       "      <td>...</td>\n",
       "      <td>...</td>\n",
       "      <td>...</td>\n",
       "    </tr>\n",
       "    <tr>\n",
       "      <th>1446</th>\n",
       "      <td>2020.0</td>\n",
       "      <td>4</td>\n",
       "      <td>Sun</td>\n",
       "      <td>4-Oct</td>\n",
       "      <td>1:00PM</td>\n",
       "      <td>Seattle Seahawks</td>\n",
       "      <td>@</td>\n",
       "      <td>Miami Dolphins</td>\n",
       "      <td>boxscore</td>\n",
       "      <td>31.0</td>\n",
       "      <td>...</td>\n",
       "      <td>5-3-0</td>\n",
       "      <td>-0.5</td>\n",
       "      <td>17.0</td>\n",
       "      <td>--</td>\n",
       "      <td>-2.5</td>\n",
       "      <td>1.4</td>\n",
       "      <td>0.5</td>\n",
       "      <td>20.0</td>\n",
       "      <td>25</td>\n",
       "      <td>6.0</td>\n",
       "    </tr>\n",
       "    <tr>\n",
       "      <th>1447</th>\n",
       "      <td>2020.0</td>\n",
       "      <td>1</td>\n",
       "      <td>Sun</td>\n",
       "      <td>13-Sep</td>\n",
       "      <td>1:00PM</td>\n",
       "      <td>New England Patriots</td>\n",
       "      <td>NaN</td>\n",
       "      <td>Miami Dolphins</td>\n",
       "      <td>boxscore</td>\n",
       "      <td>21.0</td>\n",
       "      <td>...</td>\n",
       "      <td>5-3-0</td>\n",
       "      <td>-0.5</td>\n",
       "      <td>17.0</td>\n",
       "      <td>--</td>\n",
       "      <td>-2.5</td>\n",
       "      <td>1.4</td>\n",
       "      <td>0.5</td>\n",
       "      <td>20.0</td>\n",
       "      <td>25</td>\n",
       "      <td>6.0</td>\n",
       "    </tr>\n",
       "    <tr>\n",
       "      <th>1448</th>\n",
       "      <td>2020.0</td>\n",
       "      <td>2</td>\n",
       "      <td>Sun</td>\n",
       "      <td>20-Sep</td>\n",
       "      <td>1:00PM</td>\n",
       "      <td>Buffalo Bills</td>\n",
       "      <td>@</td>\n",
       "      <td>Miami Dolphins</td>\n",
       "      <td>boxscore</td>\n",
       "      <td>31.0</td>\n",
       "      <td>...</td>\n",
       "      <td>5-3-0</td>\n",
       "      <td>-0.5</td>\n",
       "      <td>17.0</td>\n",
       "      <td>--</td>\n",
       "      <td>-2.5</td>\n",
       "      <td>1.4</td>\n",
       "      <td>0.5</td>\n",
       "      <td>20.0</td>\n",
       "      <td>25</td>\n",
       "      <td>6.0</td>\n",
       "    </tr>\n",
       "    <tr>\n",
       "      <th>1449</th>\n",
       "      <td>2020.0</td>\n",
       "      <td>3</td>\n",
       "      <td>Sun</td>\n",
       "      <td>27-Sep</td>\n",
       "      <td>1:00PM</td>\n",
       "      <td>New England Patriots</td>\n",
       "      <td>NaN</td>\n",
       "      <td>Oakland Raiders</td>\n",
       "      <td>boxscore</td>\n",
       "      <td>36.0</td>\n",
       "      <td>...</td>\n",
       "      <td>5-3-0</td>\n",
       "      <td>-0.2</td>\n",
       "      <td>16.0</td>\n",
       "      <td>--</td>\n",
       "      <td>3.4</td>\n",
       "      <td>-3.4</td>\n",
       "      <td>-0.1</td>\n",
       "      <td>1.0</td>\n",
       "      <td>26</td>\n",
       "      <td>20.0</td>\n",
       "    </tr>\n",
       "    <tr>\n",
       "      <th>1450</th>\n",
       "      <td>2020.0</td>\n",
       "      <td>4</td>\n",
       "      <td>Sun</td>\n",
       "      <td>4-Oct</td>\n",
       "      <td>4:25PM</td>\n",
       "      <td>Buffalo Bills</td>\n",
       "      <td>@</td>\n",
       "      <td>Oakland Raiders</td>\n",
       "      <td>boxscore</td>\n",
       "      <td>30.0</td>\n",
       "      <td>...</td>\n",
       "      <td>5-3-0</td>\n",
       "      <td>-0.2</td>\n",
       "      <td>16.0</td>\n",
       "      <td>--</td>\n",
       "      <td>3.4</td>\n",
       "      <td>-3.4</td>\n",
       "      <td>-0.1</td>\n",
       "      <td>1.0</td>\n",
       "      <td>26</td>\n",
       "      <td>20.0</td>\n",
       "    </tr>\n",
       "  </tbody>\n",
       "</table>\n",
       "<p>1451 rows × 39 columns</p>\n",
       "</div>"
      ],
      "text/plain": [
       "        Year Week  Day    Date    Time            Winner/tie Unnamed: 6  \\\n",
       "0     2015.0   17  Sun   3-Jan  1:02PM         Detroit Lions          @   \n",
       "1     2015.0    6  Sun  18-Oct  1:02PM         Detroit Lions        NaN   \n",
       "2     2015.0   14  Sun  13-Dec  1:02PM   Washington Redskins          @   \n",
       "3     2015.0   11  Sun  22-Nov  1:02PM        Denver Broncos          @   \n",
       "4     2015.0   13  Sun   6-Dec  1:02PM   San Francisco 49ers          @   \n",
       "...      ...  ...  ...     ...     ...                   ...        ...   \n",
       "1446  2020.0    4  Sun   4-Oct  1:00PM      Seattle Seahawks          @   \n",
       "1447  2020.0    1  Sun  13-Sep  1:00PM  New England Patriots        NaN   \n",
       "1448  2020.0    2  Sun  20-Sep  1:00PM         Buffalo Bills          @   \n",
       "1449  2020.0    3  Sun  27-Sep  1:00PM  New England Patriots        NaN   \n",
       "1450  2020.0    4  Sun   4-Oct  4:25PM         Buffalo Bills          @   \n",
       "\n",
       "            Loser/tie Unnamed: 8  PtsW  ...  W-L-T_Losing Team  \\\n",
       "0       Chicago Bears   boxscore  24.0  ...             6-10-0   \n",
       "1       Chicago Bears   boxscore  37.0  ...             6-10-0   \n",
       "2       Chicago Bears   boxscore  24.0  ...             6-10-0   \n",
       "3       Chicago Bears   boxscore  17.0  ...             6-10-0   \n",
       "4       Chicago Bears   boxscore  26.0  ...             6-10-0   \n",
       "...               ...        ...   ...  ...                ...   \n",
       "1446   Miami Dolphins   boxscore  31.0  ...              5-3-0   \n",
       "1447   Miami Dolphins   boxscore  21.0  ...              5-3-0   \n",
       "1448   Miami Dolphins   boxscore  31.0  ...              5-3-0   \n",
       "1449  Oakland Raiders   boxscore  36.0  ...              5-3-0   \n",
       "1450  Oakland Raiders   boxscore  30.0  ...              5-3-0   \n",
       "\n",
       "      Power Index FPI_Losing Team  Power Index RK_Losing Team  \\\n",
       "0                            -2.6                        22.0   \n",
       "1                            -2.6                        22.0   \n",
       "2                            -2.6                        22.0   \n",
       "3                            -2.6                        22.0   \n",
       "4                            -2.6                        22.0   \n",
       "...                           ...                         ...   \n",
       "1446                         -0.5                        17.0   \n",
       "1447                         -0.5                        17.0   \n",
       "1448                         -0.5                        17.0   \n",
       "1449                         -0.2                        16.0   \n",
       "1450                         -0.2                        16.0   \n",
       "\n",
       "      Power Index TREND_Losing Team  Power Index OFF_Losing Team  \\\n",
       "0                                --                          0.1   \n",
       "1                                --                          0.1   \n",
       "2                                --                          0.1   \n",
       "3                                --                          0.1   \n",
       "4                                --                          0.1   \n",
       "...                             ...                          ...   \n",
       "1446                             --                         -2.5   \n",
       "1447                             --                         -2.5   \n",
       "1448                             --                         -2.5   \n",
       "1449                             --                          3.4   \n",
       "1450                             --                          3.4   \n",
       "\n",
       "     Power Index DEF_Losing Team  Power Index ST_Losing Team  \\\n",
       "0                           -2.7                         0.0   \n",
       "1                           -2.7                         0.0   \n",
       "2                           -2.7                         0.0   \n",
       "3                           -2.7                         0.0   \n",
       "4                           -2.7                         0.0   \n",
       "...                          ...                         ...   \n",
       "1446                         1.4                         0.5   \n",
       "1447                         1.4                         0.5   \n",
       "1448                         1.4                         0.5   \n",
       "1449                        -3.4                        -0.1   \n",
       "1450                        -3.4                        -0.1   \n",
       "\n",
       "     Ranks SOS_Losing Team  Ranks REM SOS_Losing Team  Ranks AVGWP_Losing Team  \n",
       "0                     12.0                         --                     27.0  \n",
       "1                     12.0                         --                     27.0  \n",
       "2                     12.0                         --                     27.0  \n",
       "3                     12.0                         --                     27.0  \n",
       "4                     12.0                         --                     27.0  \n",
       "...                    ...                        ...                      ...  \n",
       "1446                  20.0                         25                      6.0  \n",
       "1447                  20.0                         25                      6.0  \n",
       "1448                  20.0                         25                      6.0  \n",
       "1449                   1.0                         26                     20.0  \n",
       "1450                   1.0                         26                     20.0  \n",
       "\n",
       "[1451 rows x 39 columns]"
      ]
     },
     "execution_count": 167,
     "metadata": {},
     "output_type": "execute_result"
    }
   ],
   "source": [
    "LoserMergedDf2"
   ]
  },
  {
   "cell_type": "code",
   "execution_count": 172,
   "metadata": {},
   "outputs": [],
   "source": [
    "epa = epa.sort_values([\"year\", \"week\"])"
   ]
  },
  {
   "cell_type": "code",
   "execution_count": 174,
   "metadata": {},
   "outputs": [],
   "source": [
    "epa = epa.rename(columns={\"year\" : \"Year\",\n",
    "                   \"week\": \"Week\"})"
   ]
  },
  {
   "cell_type": "code",
   "execution_count": 181,
   "metadata": {},
   "outputs": [
    {
     "data": {
      "text/plain": [
       "3            94\n",
       "2            94\n",
       "1            93\n",
       "4            90\n",
       "5            84\n",
       "6            84\n",
       "7            84\n",
       "8            81\n",
       "15           80\n",
       "16           80\n",
       "17           80\n",
       "14           80\n",
       "13           79\n",
       "9            78\n",
       "12           77\n",
       "10           69\n",
       "11           69\n",
       "Division     20\n",
       "WildCard     20\n",
       "ConfChamp    10\n",
       "SuperBowl     5\n",
       "Name: Week, dtype: int64"
      ]
     },
     "execution_count": 181,
     "metadata": {},
     "output_type": "execute_result"
    }
   ],
   "source": [
    "LoserMergedDf2.Week.value_counts()"
   ]
  },
  {
   "cell_type": "code",
   "execution_count": 191,
   "metadata": {},
   "outputs": [],
   "source": [
    "parser = {\"Division\": 19, \"WildCard\": 18, \"ConfChamp\": 20, \"SuperBowl\": 21}"
   ]
  },
  {
   "cell_type": "code",
   "execution_count": 192,
   "metadata": {},
   "outputs": [],
   "source": [
    "def playoffs(week):\n",
    "    if week in parser.keys():\n",
    "        return parser[week]\n",
    "    else:\n",
    "        return week "
   ]
  },
  {
   "cell_type": "code",
   "execution_count": 197,
   "metadata": {},
   "outputs": [],
   "source": [
    "LoserMergedDf3 = LoserMergedDf2.assign(Week2 = lambda x: x.Week.apply(playoffs))"
   ]
  },
  {
   "cell_type": "code",
   "execution_count": 207,
   "metadata": {},
   "outputs": [],
   "source": [
    "LoserMergedDf3.Week2 = LoserMergedDf3.Week2.astype(float)"
   ]
  },
  {
   "cell_type": "code",
   "execution_count": 208,
   "metadata": {},
   "outputs": [],
   "source": [
    "adv_df = pd.merge(LoserMergedDf3,epa, left_on = ['Winner/tie', \"Year\", \"Week2\"], right_on = ['TEAM', \"Year\", \"Week\" ], suffixes = ('', '_Win'))"
   ]
  },
  {
   "cell_type": "code",
   "execution_count": 214,
   "metadata": {},
   "outputs": [],
   "source": [
    "adv_df2 = pd.merge(adv_df,epa, left_on = ['Loser/tie', \"Year\", \"Week2\"], right_on = ['TEAM', \"Year\", \"Week\" ], suffixes = ('', '_Loss'))"
   ]
  },
  {
   "cell_type": "code",
   "execution_count": 215,
   "metadata": {},
   "outputs": [
    {
     "data": {
      "text/plain": [
       "Index(['Year', 'Week', 'Day', 'Date', 'Time', 'Winner/tie', 'Unnamed: 6',\n",
       "       'Loser/tie', 'Unnamed: 8', 'PtsW', 'PtsL', 'YdsW', 'TOW', 'YdsL', 'TOL',\n",
       "       'TEAM', 'Year ', 'W-L-T', 'Power Index FPI', 'Power Index RK',\n",
       "       'Power Index TREND', 'Power Index OFF', 'Power Index DEF',\n",
       "       'Power Index ST', 'Ranks SOS', 'Ranks REM SOS', 'Ranks AVGWP',\n",
       "       'TEAM_Losing Team', 'Year _Losing Team', 'W-L-T_Losing Team',\n",
       "       'Power Index FPI_Losing Team', 'Power Index RK_Losing Team',\n",
       "       'Power Index TREND_Losing Team', 'Power Index OFF_Losing Team',\n",
       "       'Power Index DEF_Losing Team', 'Power Index ST_Losing Team',\n",
       "       'Ranks SOS_Losing Team', 'Ranks REM SOS_Losing Team',\n",
       "       'Ranks AVGWP_Losing Team', 'Week2', 'TEAM_Win', 'Abbr', 'EPA/play',\n",
       "       'OVR_SUCCESS_RATE', 'Dropback EPA', 'DROPBACK_SR', 'Rush EPA', 'RUN_SR',\n",
       "       'Week_Win', 'TEAM_Loss', 'Abbr_Loss', 'EPA/play_Loss',\n",
       "       'OVR_SUCCESS_RATE_Loss', 'Dropback EPA_Loss', 'DROPBACK_SR_Loss',\n",
       "       'Rush EPA_Loss', 'RUN_SR_Loss', 'Week_Loss'],\n",
       "      dtype='object')"
      ]
     },
     "execution_count": 215,
     "metadata": {},
     "output_type": "execute_result"
    }
   ],
   "source": [
    "adv_df2.columns"
   ]
  },
  {
   "cell_type": "code",
   "execution_count": 228,
   "metadata": {},
   "outputs": [],
   "source": [
    "model5_df = adv_df2.loc[:, [\"PtsW\", \"Power Index FPI\", 'Power Index OFF','Power Index DEF_Losing Team',\n",
    "               'Power Index ST', 'Ranks SOS', 'Ranks AVGWP', 'YdsW', 'TOW',\n",
    "               'EPA/play', 'OVR_SUCCESS_RATE', 'Dropback EPA', 'DROPBACK_SR', 'Rush EPA', 'RUN_SR',\n",
    "               \"PtsL\",  'Power Index FPI_Losing Team', 'Power Index OFF_Losing Team',\n",
    "               'Power Index DEF', 'Power Index ST_Losing Team', 'Ranks SOS_Losing Team',\n",
    "               'Ranks AVGWP_Losing Team', 'YdsL', 'TOL',\n",
    "              'EPA/play_Loss', 'OVR_SUCCESS_RATE_Loss', 'Dropback EPA_Loss', 'DROPBACK_SR_Loss',\n",
    "               'Rush EPA_Loss', 'RUN_SR_Loss']]"
   ]
  },
  {
   "cell_type": "code",
   "execution_count": 222,
   "metadata": {},
   "outputs": [],
   "source": [
    "model5_df.to_csv(\"EPAmodelDataFrame.csv\", index=False)"
   ]
  },
  {
   "cell_type": "code",
   "execution_count": 235,
   "metadata": {},
   "outputs": [],
   "source": [
    "winners5 = model5_df.iloc[:, :15]\n",
    "losers5 = model5_df.iloc[:, 15:]"
   ]
  },
  {
   "cell_type": "code",
   "execution_count": 236,
   "metadata": {},
   "outputs": [],
   "source": [
    "losers5 = losers5.rename(columns={'PtsL': \"PtsW\", 'Power Index FPI_Losing Team': 'Power Index FPI', 'Power Index DEF': 'Power Index DEF_Losing Team',\n",
    "       'Power Index ST_Losing Team': 'Power Index ST' , 'Ranks SOS_Losing Team': 'Ranks SOS', \"Power Index OFF_Losing Team\": \"Power Index OFF\",\n",
    "       'Ranks AVGWP_Losing Team': \"Ranks AVGWP\", 'YdsL': \"YdsW\", 'TOL': \"TOW\",\n",
    "                                  'EPA/play_Loss': 'EPA/play', 'OVR_SUCCESS_RATE_Loss': \"OVR_SUCCESS_RATE\", 'Dropback EPA_Loss': 'Dropback EPA',\n",
    "                                  'DROPBACK_SR_Loss': 'DROPBACK_SR',\n",
    "                                  'Rush EPA_Loss': 'Rush EPA', 'RUN_SR_Loss': \"RUN_SR\"})"
   ]
  },
  {
   "cell_type": "code",
   "execution_count": null,
   "metadata": {},
   "outputs": [],
   "source": []
  },
  {
   "cell_type": "code",
   "execution_count": 237,
   "metadata": {},
   "outputs": [],
   "source": [
    "model5_dff = pd.concat([winners5, losers5], ignore_index=True)"
   ]
  },
  {
   "cell_type": "code",
   "execution_count": 238,
   "metadata": {},
   "outputs": [
    {
     "name": "stdout",
     "output_type": "stream",
     "text": [
      "<class 'pandas.core.frame.DataFrame'>\n",
      "RangeIndex: 2902 entries, 0 to 2901\n",
      "Data columns (total 15 columns):\n",
      " #   Column                       Non-Null Count  Dtype  \n",
      "---  ------                       --------------  -----  \n",
      " 0   PtsW                         2902 non-null   float64\n",
      " 1   Power Index FPI              2902 non-null   float64\n",
      " 2   Power Index OFF              2902 non-null   float64\n",
      " 3   Power Index DEF_Losing Team  2902 non-null   float64\n",
      " 4   Power Index ST               2902 non-null   float64\n",
      " 5   Ranks SOS                    2902 non-null   float64\n",
      " 6   Ranks AVGWP                  2902 non-null   float64\n",
      " 7   YdsW                         2902 non-null   float64\n",
      " 8   TOW                          2902 non-null   float64\n",
      " 9   EPA/play                     2902 non-null   float64\n",
      " 10  OVR_SUCCESS_RATE             2902 non-null   float64\n",
      " 11  Dropback EPA                 2902 non-null   float64\n",
      " 12  DROPBACK_SR                  2902 non-null   float64\n",
      " 13  Rush EPA                     2902 non-null   float64\n",
      " 14  RUN_SR                       2902 non-null   float64\n",
      "dtypes: float64(15)\n",
      "memory usage: 340.2 KB\n"
     ]
    }
   ],
   "source": [
    "model5_dff.info()"
   ]
  },
  {
   "cell_type": "code",
   "execution_count": 239,
   "metadata": {},
   "outputs": [],
   "source": [
    "X = model5_dff.iloc[:,1:].values\n",
    "y = model5_dff.iloc[:,0].values"
   ]
  },
  {
   "cell_type": "code",
   "execution_count": 240,
   "metadata": {},
   "outputs": [],
   "source": [
    "X_train, X_test, y_train, y_test = train_test_split(X,y)\n",
    "#X_train = X_train.reshape(-1)\n",
    "#X_test = X_test.reshape(-1)\n",
    "y_train = y_train.reshape(-1, 1)\n",
    "y_test = y_test.reshape(-1, 1)"
   ]
  },
  {
   "cell_type": "code",
   "execution_count": 241,
   "metadata": {},
   "outputs": [
    {
     "data": {
      "text/plain": [
       "array([ 4.90e+00,  4.00e-01, -3.30e+00, -3.00e-01,  3.20e+01,  2.00e+00,\n",
       "        2.64e+02,  1.00e+00, -6.80e-02,  4.46e-01,  2.80e-02,  5.12e-01,\n",
       "       -3.89e-01,  2.31e-01])"
      ]
     },
     "execution_count": 241,
     "metadata": {},
     "output_type": "execute_result"
    }
   ],
   "source": [
    "X_train[0]"
   ]
  },
  {
   "cell_type": "code",
   "execution_count": 242,
   "metadata": {},
   "outputs": [],
   "source": [
    "import sklearn.linear_model"
   ]
  },
  {
   "cell_type": "code",
   "execution_count": 243,
   "metadata": {},
   "outputs": [],
   "source": [
    "model_5 = sklearn.linear_model.LinearRegression(normalize=True)"
   ]
  },
  {
   "cell_type": "code",
   "execution_count": 244,
   "metadata": {},
   "outputs": [
    {
     "data": {
      "text/plain": [
       "LinearRegression(copy_X=True, fit_intercept=True, n_jobs=None, normalize=True)"
      ]
     },
     "execution_count": 244,
     "metadata": {},
     "output_type": "execute_result"
    }
   ],
   "source": [
    "model_5.fit(X_train, y_train)"
   ]
  },
  {
   "cell_type": "code",
   "execution_count": 245,
   "metadata": {},
   "outputs": [
    {
     "data": {
      "text/plain": [
       "0.6363246881665914"
      ]
     },
     "execution_count": 245,
     "metadata": {},
     "output_type": "execute_result"
    }
   ],
   "source": [
    "model_5.score(X_train, y_train)"
   ]
  },
  {
   "cell_type": "code",
   "execution_count": 246,
   "metadata": {},
   "outputs": [
    {
     "data": {
      "text/plain": [
       "0.6071331263692579"
      ]
     },
     "execution_count": 246,
     "metadata": {},
     "output_type": "execute_result"
    }
   ],
   "source": [
    "model_5.score(X_test, y_test)"
   ]
  },
  {
   "cell_type": "code",
   "execution_count": 247,
   "metadata": {},
   "outputs": [
    {
     "data": {
      "text/plain": [
       "array([[ 9.51032061e-02, -7.99019769e-02, -6.03773332e-02,\n",
       "         7.97687665e-01,  2.55783361e-02, -6.86503985e-02,\n",
       "         2.09985066e-02,  6.04110683e-01,  2.92625381e+01,\n",
       "        -3.83039155e+01,  4.00171890e+00,  2.00032790e+01,\n",
       "         2.10639595e+00,  9.87858729e+00]])"
      ]
     },
     "execution_count": 247,
     "metadata": {},
     "output_type": "execute_result"
    }
   ],
   "source": [
    "model_5.coef_"
   ]
  },
  {
   "cell_type": "code",
   "execution_count": 248,
   "metadata": {},
   "outputs": [
    {
     "data": {
      "text/plain": [
       "array([18.83072877])"
      ]
     },
     "execution_count": 248,
     "metadata": {},
     "output_type": "execute_result"
    }
   ],
   "source": [
    "model_5.intercept_"
   ]
  },
  {
   "cell_type": "code",
   "execution_count": 249,
   "metadata": {},
   "outputs": [],
   "source": [
    "from sklearn.model_selection import GridSearchCV\n",
    "params = {'fit_intercept':[True,False], 'normalize':[True,False], 'copy_X':[True, False]}\n",
    "grid5 = GridSearchCV(model_5, params, verbose=3)"
   ]
  },
  {
   "cell_type": "code",
   "execution_count": 250,
   "metadata": {},
   "outputs": [
    {
     "name": "stdout",
     "output_type": "stream",
     "text": [
      "Fitting 5 folds for each of 8 candidates, totalling 40 fits\n",
      "[CV] copy_X=True, fit_intercept=True, normalize=True .................\n",
      "[CV]  copy_X=True, fit_intercept=True, normalize=True, score=0.678, total=   0.0s\n",
      "[CV] copy_X=True, fit_intercept=True, normalize=True .................\n",
      "[CV]  copy_X=True, fit_intercept=True, normalize=True, score=0.645, total=   0.0s\n",
      "[CV] copy_X=True, fit_intercept=True, normalize=True .................\n",
      "[CV]  copy_X=True, fit_intercept=True, normalize=True, score=0.613, total=   0.0s\n",
      "[CV] copy_X=True, fit_intercept=True, normalize=True .................\n",
      "[CV]  copy_X=True, fit_intercept=True, normalize=True, score=0.661, total=   0.0s\n",
      "[CV] copy_X=True, fit_intercept=True, normalize=True .................\n",
      "[CV]  copy_X=True, fit_intercept=True, normalize=True, score=0.525, total=   0.0s\n",
      "[CV] copy_X=True, fit_intercept=True, normalize=False ................\n",
      "[CV]  copy_X=True, fit_intercept=True, normalize=False, score=0.678, total=   0.0s\n",
      "[CV] copy_X=True, fit_intercept=True, normalize=False ................\n",
      "[CV]  copy_X=True, fit_intercept=True, normalize=False, score=0.645, total=   0.0s\n",
      "[CV] copy_X=True, fit_intercept=True, normalize=False ................\n",
      "[CV]  copy_X=True, fit_intercept=True, normalize=False, score=0.613, total=   0.0s\n",
      "[CV] copy_X=True, fit_intercept=True, normalize=False ................\n",
      "[CV]  copy_X=True, fit_intercept=True, normalize=False, score=0.661, total=   0.0s\n",
      "[CV] copy_X=True, fit_intercept=True, normalize=False ................\n",
      "[CV]  copy_X=True, fit_intercept=True, normalize=False, score=0.525, total=   0.0s\n",
      "[CV] copy_X=True, fit_intercept=False, normalize=True ................\n",
      "[CV]  copy_X=True, fit_intercept=False, normalize=True, score=0.654, total=   0.0s\n",
      "[CV] copy_X=True, fit_intercept=False, normalize=True ................\n",
      "[CV]  copy_X=True, fit_intercept=False, normalize=True, score=0.621, total=   0.0s\n",
      "[CV] copy_X=True, fit_intercept=False, normalize=True ................\n",
      "[CV]  copy_X=True, fit_intercept=False, normalize=True, score=0.598, total=   0.0s\n",
      "[CV] copy_X=True, fit_intercept=False, normalize=True ................\n",
      "[CV]  copy_X=True, fit_intercept=False, normalize=True, score=0.625, total=   0.0s\n",
      "[CV] copy_X=True, fit_intercept=False, normalize=True ................\n",
      "[CV]  copy_X=True, fit_intercept=False, normalize=True, score=0.485, total=   0.0s\n",
      "[CV] copy_X=True, fit_intercept=False, normalize=False ...............\n",
      "[CV]  copy_X=True, fit_intercept=False, normalize=False, score=0.654, total=   0.0s\n",
      "[CV] copy_X=True, fit_intercept=False, normalize=False ...............\n",
      "[CV]  copy_X=True, fit_intercept=False, normalize=False, score=0.621, total=   0.0s\n",
      "[CV] copy_X=True, fit_intercept=False, normalize=False ...............\n",
      "[CV]  copy_X=True, fit_intercept=False, normalize=False, score=0.598, total=   0.0s\n",
      "[CV] copy_X=True, fit_intercept=False, normalize=False ...............\n",
      "[CV]  copy_X=True, fit_intercept=False, normalize=False, score=0.625, total=   0.0s\n",
      "[CV] copy_X=True, fit_intercept=False, normalize=False ...............\n",
      "[CV]  copy_X=True, fit_intercept=False, normalize=False, score=0.485, total=   0.0s\n",
      "[CV] copy_X=False, fit_intercept=True, normalize=True ................\n",
      "[CV]  copy_X=False, fit_intercept=True, normalize=True, score=0.678, total=   0.0s\n",
      "[CV] copy_X=False, fit_intercept=True, normalize=True ................\n",
      "[CV]  copy_X=False, fit_intercept=True, normalize=True, score=0.645, total=   0.0s\n",
      "[CV] copy_X=False, fit_intercept=True, normalize=True ................\n",
      "[CV]  copy_X=False, fit_intercept=True, normalize=True, score=0.613, total=   0.0s\n",
      "[CV] copy_X=False, fit_intercept=True, normalize=True ................\n",
      "[CV]  copy_X=False, fit_intercept=True, normalize=True, score=0.661, total=   0.0s\n",
      "[CV] copy_X=False, fit_intercept=True, normalize=True ................\n",
      "[CV]  copy_X=False, fit_intercept=True, normalize=True, score=0.525, total=   0.0s\n",
      "[CV] copy_X=False, fit_intercept=True, normalize=False ...............\n",
      "[CV]  copy_X=False, fit_intercept=True, normalize=False, score=0.678, total=   0.0s\n",
      "[CV] copy_X=False, fit_intercept=True, normalize=False ...............\n",
      "[CV]  copy_X=False, fit_intercept=True, normalize=False, score=0.645, total=   0.0s\n",
      "[CV] copy_X=False, fit_intercept=True, normalize=False ...............\n",
      "[CV]  copy_X=False, fit_intercept=True, normalize=False, score=0.613, total=   0.0s\n",
      "[CV] copy_X=False, fit_intercept=True, normalize=False ...............\n",
      "[CV]  copy_X=False, fit_intercept=True, normalize=False, score=0.661, total=   0.0s\n",
      "[CV] copy_X=False, fit_intercept=True, normalize=False ...............\n",
      "[CV]  copy_X=False, fit_intercept=True, normalize=False, score=0.525, total=   0.0s\n",
      "[CV] copy_X=False, fit_intercept=False, normalize=True ...............\n",
      "[CV]  copy_X=False, fit_intercept=False, normalize=True, score=0.654, total=   0.0s\n",
      "[CV] copy_X=False, fit_intercept=False, normalize=True ...............\n",
      "[CV]  copy_X=False, fit_intercept=False, normalize=True, score=0.621, total=   0.0s\n",
      "[CV] copy_X=False, fit_intercept=False, normalize=True ...............\n",
      "[CV]  copy_X=False, fit_intercept=False, normalize=True, score=0.598, total=   0.0s\n",
      "[CV] copy_X=False, fit_intercept=False, normalize=True ...............\n",
      "[CV]  copy_X=False, fit_intercept=False, normalize=True, score=0.625, total=   0.0s\n",
      "[CV] copy_X=False, fit_intercept=False, normalize=True ...............\n",
      "[CV]  copy_X=False, fit_intercept=False, normalize=True, score=0.485, total=   0.0s\n",
      "[CV] copy_X=False, fit_intercept=False, normalize=False ..............\n",
      "[CV]  copy_X=False, fit_intercept=False, normalize=False, score=0.654, total=   0.0s\n",
      "[CV] copy_X=False, fit_intercept=False, normalize=False ..............\n",
      "[CV]  copy_X=False, fit_intercept=False, normalize=False, score=0.621, total=   0.0s\n",
      "[CV] copy_X=False, fit_intercept=False, normalize=False ..............\n",
      "[CV]  copy_X=False, fit_intercept=False, normalize=False, score=0.598, total=   0.0s\n",
      "[CV] copy_X=False, fit_intercept=False, normalize=False ..............\n",
      "[CV]  copy_X=False, fit_intercept=False, normalize=False, score=0.625, total=   0.0s\n",
      "[CV] copy_X=False, fit_intercept=False, normalize=False ..............\n",
      "[CV]  copy_X=False, fit_intercept=False, normalize=False, score=0.485, total=   0.0s\n"
     ]
    },
    {
     "name": "stderr",
     "output_type": "stream",
     "text": [
      "[Parallel(n_jobs=1)]: Using backend SequentialBackend with 1 concurrent workers.\n",
      "[Parallel(n_jobs=1)]: Done   1 out of   1 | elapsed:    0.0s remaining:    0.0s\n",
      "[Parallel(n_jobs=1)]: Done   2 out of   2 | elapsed:    0.0s remaining:    0.0s\n",
      "[Parallel(n_jobs=1)]: Done  40 out of  40 | elapsed:    0.0s finished\n"
     ]
    },
    {
     "data": {
      "text/plain": [
       "GridSearchCV(cv=None, error_score=nan,\n",
       "             estimator=LinearRegression(copy_X=True, fit_intercept=True,\n",
       "                                        n_jobs=None, normalize=True),\n",
       "             iid='deprecated', n_jobs=None,\n",
       "             param_grid={'copy_X': [True, False],\n",
       "                         'fit_intercept': [True, False],\n",
       "                         'normalize': [True, False]},\n",
       "             pre_dispatch='2*n_jobs', refit=True, return_train_score=False,\n",
       "             scoring=None, verbose=3)"
      ]
     },
     "execution_count": 250,
     "metadata": {},
     "output_type": "execute_result"
    }
   ],
   "source": [
    "# Train the model with GridSearch\n",
    "grid5.fit(X_train,y_train)"
   ]
  },
  {
   "cell_type": "code",
   "execution_count": null,
   "metadata": {},
   "outputs": [],
   "source": []
  },
  {
   "cell_type": "code",
   "execution_count": 251,
   "metadata": {},
   "outputs": [],
   "source": [
    "ys = grid5.predict(X_test)"
   ]
  },
  {
   "cell_type": "code",
   "execution_count": 252,
   "metadata": {},
   "outputs": [],
   "source": [
    "model5_resid = (ys - y_test)**2"
   ]
  },
  {
   "cell_type": "code",
   "execution_count": 253,
   "metadata": {},
   "outputs": [],
   "source": [
    "import math"
   ]
  },
  {
   "cell_type": "code",
   "execution_count": 254,
   "metadata": {
    "scrolled": true
   },
   "outputs": [],
   "source": [
    "resid_Series5 = pd.Series(model5_resid.reshape(-1))"
   ]
  },
  {
   "cell_type": "code",
   "execution_count": 255,
   "metadata": {},
   "outputs": [],
   "source": [
    "errors5 = resid_Series5.apply(math.sqrt)"
   ]
  },
  {
   "cell_type": "code",
   "execution_count": 256,
   "metadata": {},
   "outputs": [
    {
     "data": {
      "text/plain": [
       "5.542879040495404"
      ]
     },
     "execution_count": 256,
     "metadata": {},
     "output_type": "execute_result"
    }
   ],
   "source": [
    "errors3.mean()"
   ]
  },
  {
   "cell_type": "code",
   "execution_count": 257,
   "metadata": {},
   "outputs": [
    {
     "data": {
      "text/plain": [
       "4.638590985045196"
      ]
     },
     "execution_count": 257,
     "metadata": {},
     "output_type": "execute_result"
    }
   ],
   "source": [
    "errors5.mean()"
   ]
  },
  {
   "cell_type": "code",
   "execution_count": null,
   "metadata": {},
   "outputs": [],
   "source": []
  }
 ],
 "metadata": {
  "kernelspec": {
   "display_name": "Python 3",
   "language": "python",
   "name": "python3"
  },
  "language_info": {
   "codemirror_mode": {
    "name": "ipython",
    "version": 3
   },
   "file_extension": ".py",
   "mimetype": "text/x-python",
   "name": "python",
   "nbconvert_exporter": "python",
   "pygments_lexer": "ipython3",
   "version": "3.7.1"
  }
 },
 "nbformat": 4,
 "nbformat_minor": 4
}
