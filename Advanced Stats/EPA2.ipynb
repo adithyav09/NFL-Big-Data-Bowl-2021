{
 "cells": [
  {
   "cell_type": "code",
   "execution_count": 1,
   "metadata": {},
   "outputs": [],
   "source": [
    "import pandas as pd\n",
    "import numpy as np\n",
    "import re "
   ]
  },
  {
   "cell_type": "code",
   "execution_count": 2,
   "metadata": {},
   "outputs": [],
   "source": [
    "df = pd.read_csv(\"epa2015_2020.csv\", index_col=0)"
   ]
  },
  {
   "cell_type": "code",
   "execution_count": 3,
   "metadata": {},
   "outputs": [
    {
     "data": {
      "text/html": [
       "<div>\n",
       "<style scoped>\n",
       "    .dataframe tbody tr th:only-of-type {\n",
       "        vertical-align: middle;\n",
       "    }\n",
       "\n",
       "    .dataframe tbody tr th {\n",
       "        vertical-align: top;\n",
       "    }\n",
       "\n",
       "    .dataframe thead th {\n",
       "        text-align: right;\n",
       "    }\n",
       "</style>\n",
       "<table border=\"1\" class=\"dataframe\">\n",
       "  <thead>\n",
       "    <tr style=\"text-align: right;\">\n",
       "      <th></th>\n",
       "      <th>Abbr</th>\n",
       "      <th>EPA/play</th>\n",
       "      <th>Success Rate (SR)</th>\n",
       "      <th>Dropback EPA</th>\n",
       "      <th>Dropback SR</th>\n",
       "      <th>Rush EPA</th>\n",
       "      <th>Rush SR</th>\n",
       "      <th>week</th>\n",
       "      <th>year</th>\n",
       "    </tr>\n",
       "  </thead>\n",
       "  <tbody>\n",
       "    <tr>\n",
       "      <th>0</th>\n",
       "      <td>BUF</td>\n",
       "      <td>0.427</td>\n",
       "      <td>51.0%</td>\n",
       "      <td>0.578</td>\n",
       "      <td>55.0%</td>\n",
       "      <td>0.329</td>\n",
       "      <td>48.4%</td>\n",
       "      <td>9</td>\n",
       "      <td>2015</td>\n",
       "    </tr>\n",
       "    <tr>\n",
       "      <th>1</th>\n",
       "      <td>CIN</td>\n",
       "      <td>0.280</td>\n",
       "      <td>48.4%</td>\n",
       "      <td>0.573</td>\n",
       "      <td>57.6%</td>\n",
       "      <td>-0.033</td>\n",
       "      <td>38.7%</td>\n",
       "      <td>9</td>\n",
       "      <td>2015</td>\n",
       "    </tr>\n",
       "    <tr>\n",
       "      <th>2</th>\n",
       "      <td>PHI</td>\n",
       "      <td>0.204</td>\n",
       "      <td>43.8%</td>\n",
       "      <td>0.101</td>\n",
       "      <td>38.5%</td>\n",
       "      <td>0.323</td>\n",
       "      <td>50.0%</td>\n",
       "      <td>9</td>\n",
       "      <td>2015</td>\n",
       "    </tr>\n",
       "    <tr>\n",
       "      <th>3</th>\n",
       "      <td>TEN</td>\n",
       "      <td>0.203</td>\n",
       "      <td>48.6%</td>\n",
       "      <td>0.591</td>\n",
       "      <td>60.0%</td>\n",
       "      <td>-0.313</td>\n",
       "      <td>33.3%</td>\n",
       "      <td>9</td>\n",
       "      <td>2015</td>\n",
       "    </tr>\n",
       "    <tr>\n",
       "      <th>4</th>\n",
       "      <td>NO</td>\n",
       "      <td>0.190</td>\n",
       "      <td>45.9%</td>\n",
       "      <td>0.420</td>\n",
       "      <td>57.1%</td>\n",
       "      <td>-0.260</td>\n",
       "      <td>24.0%</td>\n",
       "      <td>9</td>\n",
       "      <td>2015</td>\n",
       "    </tr>\n",
       "  </tbody>\n",
       "</table>\n",
       "</div>"
      ],
      "text/plain": [
       "  Abbr  EPA/play Success Rate (SR)  Dropback EPA Dropback SR  Rush EPA  \\\n",
       "0  BUF     0.427             51.0%         0.578       55.0%     0.329   \n",
       "1  CIN     0.280             48.4%         0.573       57.6%    -0.033   \n",
       "2  PHI     0.204             43.8%         0.101       38.5%     0.323   \n",
       "3  TEN     0.203             48.6%         0.591       60.0%    -0.313   \n",
       "4   NO     0.190             45.9%         0.420       57.1%    -0.260   \n",
       "\n",
       "  Rush SR  week  year  \n",
       "0   48.4%     9  2015  \n",
       "1   38.7%     9  2015  \n",
       "2   50.0%     9  2015  \n",
       "3   33.3%     9  2015  \n",
       "4   24.0%     9  2015  "
      ]
     },
     "execution_count": 3,
     "metadata": {},
     "output_type": "execute_result"
    }
   ],
   "source": [
    "df.head()"
   ]
  },
  {
   "cell_type": "code",
   "execution_count": 13,
   "metadata": {},
   "outputs": [],
   "source": [
    "parser = {'BUF': \"Buffalo Bills\",\n",
    "'CIN': 'Cincinnati Bengals',\n",
    "'PHI': 'Philadelphia Eagles',\n",
    "'TEN': 'Tennessee Titans',\n",
    "'NO': 'New Orleans Saints',\n",
    "'PIT': 'Pittsburgh Steelers',\n",
    "'MIA': 'Miami Dolphins',\n",
    "'LV': 'Oakland Raiders',\n",
    "'CHI': 'Chicago Bears',\n",
    "'IND': 'Indianapolis Colts',\n",
    "'NE': 'New England Patriots',\n",
    "'CAR': 'Carolina Panthers',\n",
    "'DAL': 'Dallas Cowboys',\n",
    "'SF': 'San Francisco 49ers',\n",
    "'DEN': 'Denver Broncos',\n",
    "'NYJ': 'New York Jets',\n",
    "'NYG': 'New York Giants',\n",
    "'JAX': 'Jacksonville Jaguars',\n",
    "'GB': 'Green Bay Packers',\n",
    "'LAC': \"San Diego Chargers\",\n",
    "'ATL': \"Atlanta Falcons\",\n",
    "'MIN': 'Minnesota Vikings',\n",
    "'LA': \"St. Louis Rams\",\n",
    "'CLE': 'Cleveland Browns',\n",
    "'TB': 'Tampa Bay Buccaneers',\n",
    "'WAS': 'Washington Redskins',\n",
    "'KC': 'Kansas City Chiefs',\n",
    "'BAL': 'Baltimore Ravens',\n",
    "'ARI': 'Arizona Cardinals',\n",
    "'SEA': \"Seattle Seahawks\",\n",
    "'HOU': 'Houston Texans',\n",
    "'DET': \"Detroit Lions\"\n",
    "}"
   ]
  },
  {
   "cell_type": "code",
   "execution_count": 5,
   "metadata": {},
   "outputs": [],
   "source": [
    "def getNames(teamCol):\n",
    "    dict_0 = {}\n",
    "    for team in teamCol:\n",
    "        if team in dict_0.keys():\n",
    "            dict_0[team] += 1\n",
    "        else:\n",
    "            dict_0[team] = 1\n",
    "    return dict_0"
   ]
  },
  {
   "cell_type": "code",
   "execution_count": 6,
   "metadata": {},
   "outputs": [],
   "source": [
    "d = getNames(df.Abbr)"
   ]
  },
  {
   "cell_type": "code",
   "execution_count": 11,
   "metadata": {},
   "outputs": [],
   "source": [
    "with open(\"dict.txt\", \"w\") as f:\n",
    "    f.write(str(d))"
   ]
  },
  {
   "cell_type": "code",
   "execution_count": 12,
   "metadata": {},
   "outputs": [],
   "source": [
    "f.close()"
   ]
  },
  {
   "cell_type": "code",
   "execution_count": null,
   "metadata": {},
   "outputs": [],
   "source": []
  },
  {
   "cell_type": "code",
   "execution_count": 17,
   "metadata": {},
   "outputs": [],
   "source": [
    "def cleanPer(p):\n",
    "    p = str(p)\n",
    "    p = p.replace(\"%\", \"\")\n",
    "    p = float(p) / 100\n",
    "    return p "
   ]
  },
  {
   "cell_type": "code",
   "execution_count": 19,
   "metadata": {},
   "outputs": [],
   "source": [
    "df = df.assign(OVR_SUCCESS_RATE = lambda x: x[\"Success Rate (SR)\"].apply(cleanPer))"
   ]
  },
  {
   "cell_type": "code",
   "execution_count": 22,
   "metadata": {},
   "outputs": [],
   "source": [
    "df = df.assign(DROPBACK_SR = lambda x: x[\"Dropback SR\"].apply(cleanPer))"
   ]
  },
  {
   "cell_type": "code",
   "execution_count": 24,
   "metadata": {},
   "outputs": [],
   "source": [
    "df = df.assign(RUN_SR = lambda x: x[\"Rush SR\"].apply(cleanPer))"
   ]
  },
  {
   "cell_type": "code",
   "execution_count": 25,
   "metadata": {},
   "outputs": [],
   "source": [
    "def cleannames(name):\n",
    "    c = parser[name]\n",
    "    return c"
   ]
  },
  {
   "cell_type": "code",
   "execution_count": 27,
   "metadata": {},
   "outputs": [],
   "source": [
    "df = df.assign(TEAM = lambda x: x[\"Abbr\"].apply(cleannames))"
   ]
  },
  {
   "cell_type": "code",
   "execution_count": 28,
   "metadata": {},
   "outputs": [
    {
     "data": {
      "text/plain": [
       "Index(['Abbr', 'EPA/play', 'Success Rate (SR)', 'Dropback EPA', 'Dropback SR',\n",
       "       'Rush EPA', 'Rush SR', 'week', 'year', 'OVR_SUCCESS_RATE',\n",
       "       'DROPBACK_SR', 'RUN_SR', 'TEAM'],\n",
       "      dtype='object')"
      ]
     },
     "execution_count": 28,
     "metadata": {},
     "output_type": "execute_result"
    }
   ],
   "source": [
    "df.columns"
   ]
  },
  {
   "cell_type": "code",
   "execution_count": 29,
   "metadata": {},
   "outputs": [],
   "source": [
    "df_2 = df.loc[:,['TEAM', 'Abbr', 'EPA/play', 'OVR_SUCCESS_RATE', 'Dropback EPA', 'DROPBACK_SR','Rush EPA', 'RUN_SR', 'week', 'year']]"
   ]
  },
  {
   "cell_type": "code",
   "execution_count": 32,
   "metadata": {},
   "outputs": [],
   "source": [
    "df_2.to_csv(\"epa2015_2020.csv\", index=False)"
   ]
  },
  {
   "cell_type": "markdown",
   "metadata": {},
   "source": [
    "### DVOA"
   ]
  },
  {
   "cell_type": "code",
   "execution_count": null,
   "metadata": {},
   "outputs": [],
   "source": []
  }
 ],
 "metadata": {
  "kernelspec": {
   "display_name": "Python 3",
   "language": "python",
   "name": "python3"
  },
  "language_info": {
   "codemirror_mode": {
    "name": "ipython",
    "version": 3
   },
   "file_extension": ".py",
   "mimetype": "text/x-python",
   "name": "python",
   "nbconvert_exporter": "python",
   "pygments_lexer": "ipython3",
   "version": "3.7.1"
  }
 },
 "nbformat": 4,
 "nbformat_minor": 4
}
