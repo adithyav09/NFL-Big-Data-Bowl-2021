{
 "cells": [
  {
   "cell_type": "code",
   "execution_count": 1,
   "metadata": {},
   "outputs": [],
   "source": [
    "import pandas as pd\n",
    "import numpy as np\n",
    "import re "
   ]
  },
  {
   "cell_type": "code",
   "execution_count": 2,
   "metadata": {},
   "outputs": [],
   "source": [
    "df = pd.read_csv(\"epa2015_2020.csv\", index_col=0)"
   ]
  },
  {
   "cell_type": "code",
   "execution_count": 3,
   "metadata": {},
   "outputs": [
    {
     "data": {
      "text/html": [
       "<div>\n",
       "<style scoped>\n",
       "    .dataframe tbody tr th:only-of-type {\n",
       "        vertical-align: middle;\n",
       "    }\n",
       "\n",
       "    .dataframe tbody tr th {\n",
       "        vertical-align: top;\n",
       "    }\n",
       "\n",
       "    .dataframe thead th {\n",
       "        text-align: right;\n",
       "    }\n",
       "</style>\n",
       "<table border=\"1\" class=\"dataframe\">\n",
       "  <thead>\n",
       "    <tr style=\"text-align: right;\">\n",
       "      <th></th>\n",
       "      <th>Abbr</th>\n",
       "      <th>EPA/play</th>\n",
       "      <th>Success Rate (SR)</th>\n",
       "      <th>Dropback EPA</th>\n",
       "      <th>Dropback SR</th>\n",
       "      <th>Rush EPA</th>\n",
       "      <th>Rush SR</th>\n",
       "      <th>week</th>\n",
       "      <th>year</th>\n",
       "    </tr>\n",
       "  </thead>\n",
       "  <tbody>\n",
       "    <tr>\n",
       "      <th>0</th>\n",
       "      <td>BUF</td>\n",
       "      <td>0.427</td>\n",
       "      <td>51.0%</td>\n",
       "      <td>0.578</td>\n",
       "      <td>55.0%</td>\n",
       "      <td>0.329</td>\n",
       "      <td>48.4%</td>\n",
       "      <td>9</td>\n",
       "      <td>2015</td>\n",
       "    </tr>\n",
       "    <tr>\n",
       "      <th>1</th>\n",
       "      <td>CIN</td>\n",
       "      <td>0.280</td>\n",
       "      <td>48.4%</td>\n",
       "      <td>0.573</td>\n",
       "      <td>57.6%</td>\n",
       "      <td>-0.033</td>\n",
       "      <td>38.7%</td>\n",
       "      <td>9</td>\n",
       "      <td>2015</td>\n",
       "    </tr>\n",
       "    <tr>\n",
       "      <th>2</th>\n",
       "      <td>PHI</td>\n",
       "      <td>0.204</td>\n",
       "      <td>43.8%</td>\n",
       "      <td>0.101</td>\n",
       "      <td>38.5%</td>\n",
       "      <td>0.323</td>\n",
       "      <td>50.0%</td>\n",
       "      <td>9</td>\n",
       "      <td>2015</td>\n",
       "    </tr>\n",
       "    <tr>\n",
       "      <th>3</th>\n",
       "      <td>TEN</td>\n",
       "      <td>0.203</td>\n",
       "      <td>48.6%</td>\n",
       "      <td>0.591</td>\n",
       "      <td>60.0%</td>\n",
       "      <td>-0.313</td>\n",
       "      <td>33.3%</td>\n",
       "      <td>9</td>\n",
       "      <td>2015</td>\n",
       "    </tr>\n",
       "    <tr>\n",
       "      <th>4</th>\n",
       "      <td>NO</td>\n",
       "      <td>0.190</td>\n",
       "      <td>45.9%</td>\n",
       "      <td>0.420</td>\n",
       "      <td>57.1%</td>\n",
       "      <td>-0.260</td>\n",
       "      <td>24.0%</td>\n",
       "      <td>9</td>\n",
       "      <td>2015</td>\n",
       "    </tr>\n",
       "  </tbody>\n",
       "</table>\n",
       "</div>"
      ],
      "text/plain": [
       "  Abbr  EPA/play Success Rate (SR)  Dropback EPA Dropback SR  Rush EPA  \\\n",
       "0  BUF     0.427             51.0%         0.578       55.0%     0.329   \n",
       "1  CIN     0.280             48.4%         0.573       57.6%    -0.033   \n",
       "2  PHI     0.204             43.8%         0.101       38.5%     0.323   \n",
       "3  TEN     0.203             48.6%         0.591       60.0%    -0.313   \n",
       "4   NO     0.190             45.9%         0.420       57.1%    -0.260   \n",
       "\n",
       "  Rush SR  week  year  \n",
       "0   48.4%     9  2015  \n",
       "1   38.7%     9  2015  \n",
       "2   50.0%     9  2015  \n",
       "3   33.3%     9  2015  \n",
       "4   24.0%     9  2015  "
      ]
     },
     "execution_count": 3,
     "metadata": {},
     "output_type": "execute_result"
    }
   ],
   "source": [
    "df.head()"
   ]
  },
  {
   "cell_type": "code",
   "execution_count": 8,
   "metadata": {},
   "outputs": [],
   "source": [
    "parser = {'BUF': \"Buffalo Bills\",\n",
    "'CIN': 'Cincinnati Bengals',\n",
    "'PHI': 'Philadelphia Eagles',\n",
    "'TEN': 'Tennessee Titans',\n",
    "'NO': 'New Orleans Saints',\n",
    "'PIT': 'Pittsburgh Steelers',\n",
    "'MIA': 'Miami Dolphins',\n",
    "'LV': 'Oakland Raiders',\n",
    "'CHI': 'Chicago Bears',\n",
    "'IND': 'Indianapolis Colts',\n",
    "'NE': 'New England Patriots',\n",
    "'CAR': 'Carolina Panthers',\n",
    "'DAL': 'Dallas Cowboys',\n",
    "'SF': 'San Francisco 49ers',\n",
    "'DEN': 'Denver Broncos',\n",
    "'NYJ': 'New York Jets',\n",
    "'NYG': 'New York Giants',\n",
    "'JAX': 'Jacksonville Jaguars',\n",
    "'GB': 'Green Bay Packers',\n",
    "'LAC': \"San Diego Chargers\",\n",
    "'ATL': \"Atlanta Falcons\",\n",
    "'MIN': 'Minnesota Vikings',\n",
    "'LA': \"St. Louis Rams\",\n",
    "'CLE': 'Cleveland Browns',\n",
    "'TB': 'Tampa Bay Buccaneers',\n",
    "'WAS': 'Washington Redskins',\n",
    "'KC': 'Kansas City Chiefs',\n",
    "'BAL': 'Baltimore Ravens',\n",
    "'ARI': 'Arizona Cardinals',\n",
    "'SEA': \"Seattle Seahawks\",\n",
    "'HOU': 'Houston Texans',\n",
    "'DET': \"Detroit Lions\"\n",
    "}"
   ]
  },
  {
   "cell_type": "code",
   "execution_count": 2,
   "metadata": {},
   "outputs": [],
   "source": [
    "def getNames(teamCol):\n",
    "    dict_0 = {}\n",
    "    for team in teamCol:\n",
    "        if team in dict_0.keys():\n",
    "            dict_0[team] += 1\n",
    "        else:\n",
    "            dict_0[team] = 1\n",
    "    return dict_0"
   ]
  },
  {
   "cell_type": "code",
   "execution_count": 6,
   "metadata": {},
   "outputs": [],
   "source": [
    "d = getNames(df.Abbr)"
   ]
  },
  {
   "cell_type": "code",
   "execution_count": 11,
   "metadata": {},
   "outputs": [],
   "source": [
    "with open(\"dict.txt\", \"w\") as f:\n",
    "    f.write(str(d))"
   ]
  },
  {
   "cell_type": "code",
   "execution_count": 12,
   "metadata": {},
   "outputs": [],
   "source": [
    "f.close()"
   ]
  },
  {
   "cell_type": "code",
   "execution_count": null,
   "metadata": {},
   "outputs": [],
   "source": []
  },
  {
   "cell_type": "code",
   "execution_count": 17,
   "metadata": {},
   "outputs": [],
   "source": [
    "def cleanPer(p):\n",
    "    p = str(p)\n",
    "    p = p.replace(\"%\", \"\")\n",
    "    p = float(p) / 100\n",
    "    return p "
   ]
  },
  {
   "cell_type": "code",
   "execution_count": 19,
   "metadata": {},
   "outputs": [],
   "source": [
    "df = df.assign(OVR_SUCCESS_RATE = lambda x: x[\"Success Rate (SR)\"].apply(cleanPer))"
   ]
  },
  {
   "cell_type": "code",
   "execution_count": 22,
   "metadata": {},
   "outputs": [],
   "source": [
    "df = df.assign(DROPBACK_SR = lambda x: x[\"Dropback SR\"].apply(cleanPer))"
   ]
  },
  {
   "cell_type": "code",
   "execution_count": 24,
   "metadata": {},
   "outputs": [],
   "source": [
    "df = df.assign(RUN_SR = lambda x: x[\"Rush SR\"].apply(cleanPer))"
   ]
  },
  {
   "cell_type": "code",
   "execution_count": 25,
   "metadata": {},
   "outputs": [],
   "source": [
    "def cleannames(name):\n",
    "    c = parser[name]\n",
    "    return c"
   ]
  },
  {
   "cell_type": "code",
   "execution_count": 27,
   "metadata": {},
   "outputs": [],
   "source": [
    "df = df.assign(TEAM = lambda x: x[\"Abbr\"].apply(cleannames))"
   ]
  },
  {
   "cell_type": "code",
   "execution_count": 28,
   "metadata": {},
   "outputs": [
    {
     "data": {
      "text/plain": [
       "Index(['Abbr', 'EPA/play', 'Success Rate (SR)', 'Dropback EPA', 'Dropback SR',\n",
       "       'Rush EPA', 'Rush SR', 'week', 'year', 'OVR_SUCCESS_RATE',\n",
       "       'DROPBACK_SR', 'RUN_SR', 'TEAM'],\n",
       "      dtype='object')"
      ]
     },
     "execution_count": 28,
     "metadata": {},
     "output_type": "execute_result"
    }
   ],
   "source": [
    "df.columns"
   ]
  },
  {
   "cell_type": "code",
   "execution_count": 29,
   "metadata": {},
   "outputs": [],
   "source": [
    "df_2 = df.loc[:,['TEAM', 'Abbr', 'EPA/play', 'OVR_SUCCESS_RATE', 'Dropback EPA', 'DROPBACK_SR','Rush EPA', 'RUN_SR', 'week', 'year']]"
   ]
  },
  {
   "cell_type": "code",
   "execution_count": 32,
   "metadata": {},
   "outputs": [],
   "source": [
    "df_2.to_csv(\"epa2015_2020.csv\", index=False)"
   ]
  },
  {
   "cell_type": "markdown",
   "metadata": {},
   "source": [
    "### DVOA"
   ]
  },
  {
   "cell_type": "code",
   "execution_count": 24,
   "metadata": {},
   "outputs": [],
   "source": [
    "import pandas as pd\n",
    "import numpy as np\n",
    "import re "
   ]
  },
  {
   "cell_type": "code",
   "execution_count": 25,
   "metadata": {},
   "outputs": [],
   "source": [
    "df_3 = pd.read_csv(\"DVOA.csv\")"
   ]
  },
  {
   "cell_type": "code",
   "execution_count": 26,
   "metadata": {},
   "outputs": [
    {
     "data": {
      "text/html": [
       "<div>\n",
       "<style scoped>\n",
       "    .dataframe tbody tr th:only-of-type {\n",
       "        vertical-align: middle;\n",
       "    }\n",
       "\n",
       "    .dataframe tbody tr th {\n",
       "        vertical-align: top;\n",
       "    }\n",
       "\n",
       "    .dataframe thead th {\n",
       "        text-align: right;\n",
       "    }\n",
       "</style>\n",
       "<table border=\"1\" class=\"dataframe\">\n",
       "  <thead>\n",
       "    <tr style=\"text-align: right;\">\n",
       "      <th></th>\n",
       "      <th>RK</th>\n",
       "      <th>TEAM</th>\n",
       "      <th>TOTAL DVOA</th>\n",
       "      <th>LAST WEEK</th>\n",
       "      <th>TOTAL DAVE</th>\n",
       "      <th>RANK</th>\n",
       "      <th>W-L</th>\n",
       "      <th>OFFENSE DVOA</th>\n",
       "      <th>OFF. RANK</th>\n",
       "      <th>DEFENSE DVOA</th>\n",
       "      <th>...</th>\n",
       "      <th>non-adj VOA</th>\n",
       "      <th>Last Year</th>\n",
       "      <th>ESTIM. WINS</th>\n",
       "      <th>EW RANK</th>\n",
       "      <th>SCHEDULE RANK</th>\n",
       "      <th>RANK.2</th>\n",
       "      <th>PYTH WINS</th>\n",
       "      <th>RANK.3</th>\n",
       "      <th>VAR.</th>\n",
       "      <th>RANK.4</th>\n",
       "    </tr>\n",
       "  </thead>\n",
       "  <tbody>\n",
       "    <tr>\n",
       "      <th>0</th>\n",
       "      <td>1</td>\n",
       "      <td>TEN</td>\n",
       "      <td>0.782</td>\n",
       "      <td>NaN</td>\n",
       "      <td>-0.053</td>\n",
       "      <td>25.0</td>\n",
       "      <td>1-0</td>\n",
       "      <td>0.340</td>\n",
       "      <td>7</td>\n",
       "      <td>-0.444</td>\n",
       "      <td>...</td>\n",
       "      <td>NaN</td>\n",
       "      <td>NaN</td>\n",
       "      <td>NaN</td>\n",
       "      <td>NaN</td>\n",
       "      <td>NaN</td>\n",
       "      <td>NaN</td>\n",
       "      <td>NaN</td>\n",
       "      <td>NaN</td>\n",
       "      <td>NaN</td>\n",
       "      <td>NaN</td>\n",
       "    </tr>\n",
       "    <tr>\n",
       "      <th>1</th>\n",
       "      <td>2</td>\n",
       "      <td>BUF</td>\n",
       "      <td>0.653</td>\n",
       "      <td>NaN</td>\n",
       "      <td>0.013</td>\n",
       "      <td>17.0</td>\n",
       "      <td>1-0</td>\n",
       "      <td>0.473</td>\n",
       "      <td>3</td>\n",
       "      <td>0.019</td>\n",
       "      <td>...</td>\n",
       "      <td>NaN</td>\n",
       "      <td>NaN</td>\n",
       "      <td>NaN</td>\n",
       "      <td>NaN</td>\n",
       "      <td>NaN</td>\n",
       "      <td>NaN</td>\n",
       "      <td>NaN</td>\n",
       "      <td>NaN</td>\n",
       "      <td>NaN</td>\n",
       "      <td>NaN</td>\n",
       "    </tr>\n",
       "    <tr>\n",
       "      <th>2</th>\n",
       "      <td>3</td>\n",
       "      <td>ARI</td>\n",
       "      <td>0.648</td>\n",
       "      <td>NaN</td>\n",
       "      <td>0.020</td>\n",
       "      <td>15.0</td>\n",
       "      <td>1-0</td>\n",
       "      <td>0.502</td>\n",
       "      <td>2</td>\n",
       "      <td>-0.085</td>\n",
       "      <td>...</td>\n",
       "      <td>NaN</td>\n",
       "      <td>NaN</td>\n",
       "      <td>NaN</td>\n",
       "      <td>NaN</td>\n",
       "      <td>NaN</td>\n",
       "      <td>NaN</td>\n",
       "      <td>NaN</td>\n",
       "      <td>NaN</td>\n",
       "      <td>NaN</td>\n",
       "      <td>NaN</td>\n",
       "    </tr>\n",
       "    <tr>\n",
       "      <th>3</th>\n",
       "      <td>4</td>\n",
       "      <td>CIN</td>\n",
       "      <td>0.583</td>\n",
       "      <td>NaN</td>\n",
       "      <td>0.113</td>\n",
       "      <td>5.0</td>\n",
       "      <td>1-0</td>\n",
       "      <td>0.386</td>\n",
       "      <td>6</td>\n",
       "      <td>-0.243</td>\n",
       "      <td>...</td>\n",
       "      <td>NaN</td>\n",
       "      <td>NaN</td>\n",
       "      <td>NaN</td>\n",
       "      <td>NaN</td>\n",
       "      <td>NaN</td>\n",
       "      <td>NaN</td>\n",
       "      <td>NaN</td>\n",
       "      <td>NaN</td>\n",
       "      <td>NaN</td>\n",
       "      <td>NaN</td>\n",
       "    </tr>\n",
       "    <tr>\n",
       "      <th>4</th>\n",
       "      <td>5</td>\n",
       "      <td>NYJ</td>\n",
       "      <td>0.565</td>\n",
       "      <td>NaN</td>\n",
       "      <td>0.056</td>\n",
       "      <td>9.0</td>\n",
       "      <td>1-0</td>\n",
       "      <td>0.228</td>\n",
       "      <td>10</td>\n",
       "      <td>-0.352</td>\n",
       "      <td>...</td>\n",
       "      <td>NaN</td>\n",
       "      <td>NaN</td>\n",
       "      <td>NaN</td>\n",
       "      <td>NaN</td>\n",
       "      <td>NaN</td>\n",
       "      <td>NaN</td>\n",
       "      <td>NaN</td>\n",
       "      <td>NaN</td>\n",
       "      <td>NaN</td>\n",
       "      <td>NaN</td>\n",
       "    </tr>\n",
       "  </tbody>\n",
       "</table>\n",
       "<p>5 rows × 27 columns</p>\n",
       "</div>"
      ],
      "text/plain": [
       "   RK TEAM  TOTAL DVOA  LAST WEEK  TOTAL DAVE  RANK  W-L  OFFENSE DVOA  \\\n",
       "0   1  TEN       0.782        NaN      -0.053  25.0  1-0         0.340   \n",
       "1   2  BUF       0.653        NaN       0.013  17.0  1-0         0.473   \n",
       "2   3  ARI       0.648        NaN       0.020  15.0  1-0         0.502   \n",
       "3   4  CIN       0.583        NaN       0.113   5.0  1-0         0.386   \n",
       "4   5  NYJ       0.565        NaN       0.056   9.0  1-0         0.228   \n",
       "\n",
       "   OFF. RANK  DEFENSE DVOA  ...  non-adj VOA  Last Year  ESTIM. WINS  EW RANK  \\\n",
       "0          7        -0.444  ...          NaN        NaN          NaN      NaN   \n",
       "1          3         0.019  ...          NaN        NaN          NaN      NaN   \n",
       "2          2        -0.085  ...          NaN        NaN          NaN      NaN   \n",
       "3          6        -0.243  ...          NaN        NaN          NaN      NaN   \n",
       "4         10        -0.352  ...          NaN        NaN          NaN      NaN   \n",
       "\n",
       "   SCHEDULE RANK  RANK.2  PYTH WINS  RANK.3  VAR.  RANK.4  \n",
       "0            NaN     NaN        NaN     NaN   NaN     NaN  \n",
       "1            NaN     NaN        NaN     NaN   NaN     NaN  \n",
       "2            NaN     NaN        NaN     NaN   NaN     NaN  \n",
       "3            NaN     NaN        NaN     NaN   NaN     NaN  \n",
       "4            NaN     NaN        NaN     NaN   NaN     NaN  \n",
       "\n",
       "[5 rows x 27 columns]"
      ]
     },
     "execution_count": 26,
     "metadata": {},
     "output_type": "execute_result"
    }
   ],
   "source": [
    "df_3.head()"
   ]
  },
  {
   "cell_type": "code",
   "execution_count": 27,
   "metadata": {},
   "outputs": [],
   "source": [
    "dd = getNames(df_3.TEAM)"
   ]
  },
  {
   "cell_type": "code",
   "execution_count": 28,
   "metadata": {},
   "outputs": [
    {
     "data": {
      "text/plain": [
       "{'TEN': 93,\n",
       " 'BUF': 93,\n",
       " 'ARI': 93,\n",
       " 'CIN': 93,\n",
       " 'NYJ': 93,\n",
       " 'GB': 93,\n",
       " 'SF': 93,\n",
       " 'KC': 93,\n",
       " 'NE': 93,\n",
       " 'SD': 33,\n",
       " 'STL': 16,\n",
       " 'DEN': 93,\n",
       " 'CAR': 93,\n",
       " 'MIA': 93,\n",
       " 'ATL': 93,\n",
       " 'DAL': 93,\n",
       " 'NYG': 93,\n",
       " 'BAL': 93,\n",
       " 'PHI': 93,\n",
       " 'DET': 93,\n",
       " 'PIT': 93,\n",
       " 'WAS': 93,\n",
       " 'JAC': 47,\n",
       " 'SEA': 93,\n",
       " 'HOU': 93,\n",
       " 'CHI': 93,\n",
       " 'IND': 93,\n",
       " 'CLE': 93,\n",
       " 'NO': 93,\n",
       " 'MIN': 93,\n",
       " 'OAK': 84,\n",
       " 'TB': 93,\n",
       " 'JAX': 46,\n",
       " 'LARM': 32,\n",
       " 'LAR': 45,\n",
       " 'LACH': 16,\n",
       " 'LAC': 44,\n",
       " 'LV': 9}"
      ]
     },
     "execution_count": 28,
     "metadata": {},
     "output_type": "execute_result"
    }
   ],
   "source": [
    "dd"
   ]
  },
  {
   "cell_type": "code",
   "execution_count": 29,
   "metadata": {},
   "outputs": [
    {
     "data": {
      "text/plain": [
       "{'BUF': 'Buffalo Bills',\n",
       " 'CIN': 'Cincinnati Bengals',\n",
       " 'PHI': 'Philadelphia Eagles',\n",
       " 'TEN': 'Tennessee Titans',\n",
       " 'NO': 'New Orleans Saints',\n",
       " 'PIT': 'Pittsburgh Steelers',\n",
       " 'MIA': 'Miami Dolphins',\n",
       " 'LV': 'Oakland Raiders',\n",
       " 'CHI': 'Chicago Bears',\n",
       " 'IND': 'Indianapolis Colts',\n",
       " 'NE': 'New England Patriots',\n",
       " 'CAR': 'Carolina Panthers',\n",
       " 'DAL': 'Dallas Cowboys',\n",
       " 'SF': 'San Francisco 49ers',\n",
       " 'DEN': 'Denver Broncos',\n",
       " 'NYJ': 'New York Jets',\n",
       " 'NYG': 'New York Giants',\n",
       " 'JAX': 'Jacksonville Jaguars',\n",
       " 'GB': 'Green Bay Packers',\n",
       " 'LAC': 'San Diego Chargers',\n",
       " 'ATL': 'Atlanta Falcons',\n",
       " 'MIN': 'Minnesota Vikings',\n",
       " 'LA': 'St. Louis Rams',\n",
       " 'CLE': 'Cleveland Browns',\n",
       " 'TB': 'Tampa Bay Buccaneers',\n",
       " 'WAS': 'Washington Redskins',\n",
       " 'KC': 'Kansas City Chiefs',\n",
       " 'BAL': 'Baltimore Ravens',\n",
       " 'ARI': 'Arizona Cardinals',\n",
       " 'SEA': 'Seattle Seahawks',\n",
       " 'HOU': 'Houston Texans',\n",
       " 'DET': 'Detroit Lions'}"
      ]
     },
     "execution_count": 29,
     "metadata": {},
     "output_type": "execute_result"
    }
   ],
   "source": [
    "parser"
   ]
  },
  {
   "cell_type": "code",
   "execution_count": 30,
   "metadata": {},
   "outputs": [],
   "source": [
    "new_keys = []\n",
    "for k in dd.keys():\n",
    "    if k in parser.keys():\n",
    "        next\n",
    "    else:\n",
    "        new_keys.append(k)"
   ]
  },
  {
   "cell_type": "code",
   "execution_count": 31,
   "metadata": {},
   "outputs": [
    {
     "data": {
      "text/plain": [
       "['SD', 'STL', 'JAC', 'OAK', 'LARM', 'LAR', 'LACH']"
      ]
     },
     "execution_count": 31,
     "metadata": {},
     "output_type": "execute_result"
    }
   ],
   "source": [
    "new_keys"
   ]
  },
  {
   "cell_type": "code",
   "execution_count": 32,
   "metadata": {},
   "outputs": [],
   "source": [
    "parser_d = {'BUF': 'Buffalo Bills',\n",
    " 'CIN': 'Cincinnati Bengals',\n",
    " 'PHI': 'Philadelphia Eagles',\n",
    " 'TEN': 'Tennessee Titans',\n",
    " 'NO': 'New Orleans Saints',\n",
    " 'PIT': 'Pittsburgh Steelers',\n",
    " 'MIA': 'Miami Dolphins',\n",
    " \"OAK\": \"Oakland Raiders\",\n",
    " 'LV': 'Oakland Raiders',\n",
    " 'CHI': 'Chicago Bears',\n",
    " 'IND': 'Indianapolis Colts',\n",
    " 'NE': 'New England Patriots',\n",
    " 'CAR': 'Carolina Panthers',\n",
    " 'DAL': 'Dallas Cowboys',\n",
    " 'SF': 'San Francisco 49ers',\n",
    " 'DEN': 'Denver Broncos',\n",
    " 'NYJ': 'New York Jets',\n",
    " 'NYG': 'New York Giants',\n",
    " \"JAC\": 'Jacksonville Jaguars',\n",
    " 'JAX': 'Jacksonville Jaguars',\n",
    " 'GB': 'Green Bay Packers',\n",
    " 'LAC': 'San Diego Chargers',\n",
    " 'LACH': 'San Diego Chargers',\n",
    " \"SD\":\"San Diego Chargers\",\n",
    " 'LAR': 'St. Louis Rams',\n",
    " 'LARM': 'St. Louis Rams',\n",
    " 'STL': 'St. Louis Rams',\n",
    " 'ATL': 'Atlanta Falcons',\n",
    " 'MIN': 'Minnesota Vikings',\n",
    " 'CLE': 'Cleveland Browns',\n",
    " 'TB': 'Tampa Bay Buccaneers',\n",
    " 'WAS': 'Washington Redskins',\n",
    " 'KC': 'Kansas City Chiefs',\n",
    " 'BAL': 'Baltimore Ravens',\n",
    " 'ARI': 'Arizona Cardinals',\n",
    " 'SEA': 'Seattle Seahawks',\n",
    " 'HOU': 'Houston Texans',\n",
    " 'DET': 'Detroit Lions'}"
   ]
  },
  {
   "cell_type": "code",
   "execution_count": 33,
   "metadata": {},
   "outputs": [],
   "source": [
    "new_keys = []\n",
    "for k in parser_d.keys():\n",
    "    if k in dd.keys():\n",
    "        next\n",
    "    else:\n",
    "        new_keys.append(k)"
   ]
  },
  {
   "cell_type": "code",
   "execution_count": 34,
   "metadata": {},
   "outputs": [
    {
     "data": {
      "text/plain": [
       "[]"
      ]
     },
     "execution_count": 34,
     "metadata": {},
     "output_type": "execute_result"
    }
   ],
   "source": [
    "new_keys"
   ]
  },
  {
   "cell_type": "code",
   "execution_count": 35,
   "metadata": {},
   "outputs": [],
   "source": [
    "def cleannames(name):\n",
    "    c = parser_d[name]\n",
    "    return c"
   ]
  },
  {
   "cell_type": "code",
   "execution_count": null,
   "metadata": {},
   "outputs": [],
   "source": []
  },
  {
   "cell_type": "code",
   "execution_count": 36,
   "metadata": {},
   "outputs": [],
   "source": [
    "df_3 = df_3.assign(TEAM_2 = lambda x: x[\"TEAM\"].apply(cleannames))"
   ]
  },
  {
   "cell_type": "code",
   "execution_count": 37,
   "metadata": {},
   "outputs": [],
   "source": [
    "df_3 = df_3.rename(columns={\"TEAM\": \"Abbr\", \"TEAM_2\": \"Team\"})"
   ]
  },
  {
   "cell_type": "code",
   "execution_count": 38,
   "metadata": {},
   "outputs": [
    {
     "data": {
      "text/plain": [
       "Index(['RK', 'Abbr', 'TOTAL DVOA', 'LAST WEEK', 'TOTAL DAVE', 'RANK', 'W-L',\n",
       "       'OFFENSE DVOA', 'OFF. RANK', 'DEFENSE DVOA', 'DEF. RANK', 'S.T. DVOA',\n",
       "       'S.T. RANK', 'WEEK', 'YEAR', 'WEIGHTED DVOA', 'RANK.1', 'non-adj VOA',\n",
       "       'Last Year', 'ESTIM. WINS', 'EW RANK', 'SCHEDULE RANK', 'RANK.2',\n",
       "       'PYTH WINS', 'RANK.3', 'VAR.', 'RANK.4', 'Team'],\n",
       "      dtype='object')"
      ]
     },
     "execution_count": 38,
     "metadata": {},
     "output_type": "execute_result"
    }
   ],
   "source": [
    "df_3.columns"
   ]
  },
  {
   "cell_type": "code",
   "execution_count": 40,
   "metadata": {},
   "outputs": [],
   "source": [
    "df_3 = df_3.loc[:, ['RK',  'Team', 'Abbr', 'TOTAL DVOA', 'LAST WEEK', 'TOTAL DAVE', 'RANK', 'W-L',\n",
    "       'OFFENSE DVOA', 'OFF. RANK', 'DEFENSE DVOA', 'DEF. RANK', 'S.T. DVOA',\n",
    "       'S.T. RANK', 'WEEK', 'YEAR', 'WEIGHTED DVOA', 'RANK.1', 'non-adj VOA',\n",
    "       'Last Year', 'ESTIM. WINS', 'EW RANK', 'SCHEDULE RANK', 'RANK.2',\n",
    "       'PYTH WINS', 'RANK.3', 'VAR.', 'RANK.4']]"
   ]
  },
  {
   "cell_type": "code",
   "execution_count": 41,
   "metadata": {},
   "outputs": [],
   "source": [
    "df_yearly = df_3[df_3.WEEK == 17]"
   ]
  },
  {
   "cell_type": "code",
   "execution_count": 42,
   "metadata": {},
   "outputs": [
    {
     "data": {
      "text/plain": [
       "(160, 28)"
      ]
     },
     "execution_count": 42,
     "metadata": {},
     "output_type": "execute_result"
    }
   ],
   "source": [
    "df_yearly.shape"
   ]
  },
  {
   "cell_type": "code",
   "execution_count": 43,
   "metadata": {},
   "outputs": [],
   "source": [
    "df_yearly = df_3[((df_3.YEAR == 2020) & (df_3.WEEK == 9)) | (df_3.WEEK == 17)]"
   ]
  },
  {
   "cell_type": "code",
   "execution_count": 44,
   "metadata": {},
   "outputs": [],
   "source": [
    "df_yearly.to_csv(\"DVOA_yearly.csv\", index=False)\n",
    "df_3.to_csv(\"DVOA_weekly.csv\", index=False)"
   ]
  },
  {
   "cell_type": "code",
   "execution_count": null,
   "metadata": {},
   "outputs": [],
   "source": []
  }
 ],
 "metadata": {
  "kernelspec": {
   "display_name": "Python 3",
   "language": "python",
   "name": "python3"
  },
  "language_info": {
   "codemirror_mode": {
    "name": "ipython",
    "version": 3
   },
   "file_extension": ".py",
   "mimetype": "text/x-python",
   "name": "python",
   "nbconvert_exporter": "python",
   "pygments_lexer": "ipython3",
   "version": "3.7.1"
  }
 },
 "nbformat": 4,
 "nbformat_minor": 4
}
