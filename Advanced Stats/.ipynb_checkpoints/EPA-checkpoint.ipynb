{
 "cells": [
  {
   "cell_type": "code",
   "execution_count": 1,
   "metadata": {},
   "outputs": [],
   "source": [
    "import os\n",
    "import pandas as pd\n",
    "import numpy as np"
   ]
  },
  {
   "cell_type": "code",
   "execution_count": 9,
   "metadata": {},
   "outputs": [],
   "source": [
    "os.chdir(r\"C:\\Users\\Kyle\\Downloads\\Stats\\EPA_Off\\2015\")"
   ]
  },
  {
   "cell_type": "code",
   "execution_count": 10,
   "metadata": {},
   "outputs": [
    {
     "data": {
      "text/plain": [
       "'C:\\\\Users\\\\Kyle\\\\Downloads\\\\Stats\\\\EPA_Off\\\\2015'"
      ]
     },
     "execution_count": 10,
     "metadata": {},
     "output_type": "execute_result"
    }
   ],
   "source": [
    "os.getcwd()"
   ]
  },
  {
   "cell_type": "code",
   "execution_count": 112,
   "metadata": {},
   "outputs": [],
   "source": [
    "files = os.walk(\".\")"
   ]
  },
  {
   "cell_type": "code",
   "execution_count": 113,
   "metadata": {},
   "outputs": [],
   "source": [
    "years = [r\".\\2015\", r\".\\2016\", r\".\\2017\", r\".\\2018\", r\"\\.2019\", r\".\\2020\"]"
   ]
  },
  {
   "cell_type": "code",
   "execution_count": 114,
   "metadata": {},
   "outputs": [
    {
     "data": {
      "text/plain": [
       "['.\\\\2015', '.\\\\2016', '.\\\\2017', '.\\\\2018', '\\\\.2019', '.\\\\2020']"
      ]
     },
     "execution_count": 114,
     "metadata": {},
     "output_type": "execute_result"
    }
   ],
   "source": [
    "years"
   ]
  },
  {
   "cell_type": "code",
   "execution_count": 115,
   "metadata": {},
   "outputs": [],
   "source": [
    "df = 0\n",
    "df_2 = 0"
   ]
  },
  {
   "cell_type": "code",
   "execution_count": 116,
   "metadata": {},
   "outputs": [],
   "source": [
    "import re"
   ]
  },
  {
   "cell_type": "code",
   "execution_count": 117,
   "metadata": {},
   "outputs": [],
   "source": [
    "reg = re.compile(\"\\d+\")"
   ]
  },
  {
   "cell_type": "code",
   "execution_count": 118,
   "metadata": {},
   "outputs": [
    {
     "data": {
      "text/plain": [
       "<re.Match object; span=(2, 4), match='11'>"
      ]
     },
     "execution_count": 118,
     "metadata": {},
     "output_type": "execute_result"
    }
   ],
   "source": [
    "reg.search(\".\\\\11\")"
   ]
  },
  {
   "cell_type": "code",
   "execution_count": 119,
   "metadata": {},
   "outputs": [
    {
     "name": "stdout",
     "output_type": "stream",
     "text": [
      "folder::::\n",
      ".\n",
      "Subfolder:::\n",
      "1\n",
      "10\n",
      "11\n",
      "12\n",
      "13\n",
      "14\n",
      "15\n",
      "16\n",
      "17\n",
      "18\n",
      "19\n",
      "2\n",
      "20\n",
      "21\n",
      "3\n",
      "4\n",
      "5\n",
      "6\n",
      "7\n",
      "8\n",
      "9\n",
      "Files:::\n",
      "no files\n",
      "folder::::\n",
      ".\\1\n",
      "Subfolder:::\n",
      "Files:::\n",
      "folder::::\n",
      ".\\10\n",
      "Subfolder:::\n",
      "Files:::\n",
      "folder::::\n",
      ".\\11\n",
      "Subfolder:::\n",
      "Files:::\n",
      "folder::::\n",
      ".\\12\n",
      "Subfolder:::\n",
      "Files:::\n",
      "folder::::\n",
      ".\\13\n",
      "Subfolder:::\n",
      "Files:::\n",
      "folder::::\n",
      ".\\14\n",
      "Subfolder:::\n",
      "Files:::\n",
      "folder::::\n",
      ".\\15\n",
      "Subfolder:::\n",
      "Files:::\n",
      "folder::::\n",
      ".\\16\n",
      "Subfolder:::\n",
      "Files:::\n",
      "folder::::\n",
      ".\\17\n",
      "Subfolder:::\n",
      "Files:::\n",
      "folder::::\n",
      ".\\18\n",
      "Subfolder:::\n",
      "Files:::\n",
      "folder::::\n",
      ".\\19\n",
      "Subfolder:::\n",
      "Files:::\n",
      "folder::::\n",
      ".\\2\n",
      "Subfolder:::\n",
      "Files:::\n",
      "folder::::\n",
      ".\\20\n",
      "Subfolder:::\n",
      "Files:::\n",
      "folder::::\n",
      ".\\21\n",
      "Subfolder:::\n",
      "Files:::\n",
      "folder::::\n",
      ".\\3\n",
      "Subfolder:::\n",
      "Files:::\n",
      "folder::::\n",
      ".\\4\n",
      "Subfolder:::\n",
      "Files:::\n",
      "folder::::\n",
      ".\\5\n",
      "Subfolder:::\n",
      "Files:::\n",
      "folder::::\n",
      ".\\6\n",
      "Subfolder:::\n",
      "Files:::\n",
      "folder::::\n",
      ".\\7\n",
      "Subfolder:::\n",
      "Files:::\n",
      "folder::::\n",
      ".\\8\n",
      "Subfolder:::\n",
      "Files:::\n",
      "folder::::\n",
      ".\\9\n",
      "Subfolder:::\n",
      "Files:::\n"
     ]
    }
   ],
   "source": [
    "for f in files:\n",
    "    print(\"folder::::\")\n",
    "    print(f[0])\n",
    "    print(\"Subfolder:::\")\n",
    "    for d in f[1]:\n",
    "        print(d)\n",
    "    print(\"Files:::\")\n",
    "    if f[2]:\n",
    "        name = f[0] + \"\\\\\" + f[2][0]\n",
    "        df = pd.read_csv(name, header=0, usecols=[\"Abbr\", \"EPA/play\", \"Success Rate (SR)\", \"Dropback EPA\", \"Dropback SR\", \"Rush EPA\", \"Rush SR\"])\n",
    "        week = reg.search(f[0])[0]\n",
    "        df = df.assign(week = week)\n",
    "        if type(df_2) == int:\n",
    "            df_2 = df\n",
    "        else:\n",
    "            df_2 = pd.concat([df, df_2], ignore_index=True)\n",
    "    else:\n",
    "        print(\"no files\")\n",
    "        "
   ]
  },
  {
   "cell_type": "code",
   "execution_count": 120,
   "metadata": {},
   "outputs": [
    {
     "data": {
      "text/plain": [
       "(534, 8)"
      ]
     },
     "execution_count": 120,
     "metadata": {},
     "output_type": "execute_result"
    }
   ],
   "source": [
    "df_2.shape"
   ]
  },
  {
   "cell_type": "code",
   "execution_count": 122,
   "metadata": {},
   "outputs": [
    {
     "data": {
      "text/html": [
       "<div>\n",
       "<style scoped>\n",
       "    .dataframe tbody tr th:only-of-type {\n",
       "        vertical-align: middle;\n",
       "    }\n",
       "\n",
       "    .dataframe tbody tr th {\n",
       "        vertical-align: top;\n",
       "    }\n",
       "\n",
       "    .dataframe thead th {\n",
       "        text-align: right;\n",
       "    }\n",
       "</style>\n",
       "<table border=\"1\" class=\"dataframe\">\n",
       "  <thead>\n",
       "    <tr style=\"text-align: right;\">\n",
       "      <th></th>\n",
       "      <th>Abbr</th>\n",
       "      <th>EPA/play</th>\n",
       "      <th>Success Rate (SR)</th>\n",
       "      <th>Dropback EPA</th>\n",
       "      <th>Dropback SR</th>\n",
       "      <th>Rush EPA</th>\n",
       "      <th>Rush SR</th>\n",
       "      <th>week</th>\n",
       "    </tr>\n",
       "  </thead>\n",
       "  <tbody>\n",
       "    <tr>\n",
       "      <th>529</th>\n",
       "      <td>CLE</td>\n",
       "      <td>-0.237</td>\n",
       "      <td>38.8%</td>\n",
       "      <td>-0.237</td>\n",
       "      <td>44.4%</td>\n",
       "      <td>-0.236</td>\n",
       "      <td>27.3%</td>\n",
       "      <td>1</td>\n",
       "    </tr>\n",
       "    <tr>\n",
       "      <th>530</th>\n",
       "      <td>TB</td>\n",
       "      <td>-0.290</td>\n",
       "      <td>33.3%</td>\n",
       "      <td>-0.203</td>\n",
       "      <td>31.1%</td>\n",
       "      <td>-0.452</td>\n",
       "      <td>37.5%</td>\n",
       "      <td>1</td>\n",
       "    </tr>\n",
       "    <tr>\n",
       "      <th>531</th>\n",
       "      <td>MIN</td>\n",
       "      <td>-0.316</td>\n",
       "      <td>34.5%</td>\n",
       "      <td>-0.421</td>\n",
       "      <td>36.6%</td>\n",
       "      <td>-0.007</td>\n",
       "      <td>28.6%</td>\n",
       "      <td>1</td>\n",
       "    </tr>\n",
       "    <tr>\n",
       "      <th>532</th>\n",
       "      <td>JAX</td>\n",
       "      <td>-0.322</td>\n",
       "      <td>39.4%</td>\n",
       "      <td>-0.445</td>\n",
       "      <td>36.2%</td>\n",
       "      <td>-0.017</td>\n",
       "      <td>47.4%</td>\n",
       "      <td>1</td>\n",
       "    </tr>\n",
       "    <tr>\n",
       "      <th>533</th>\n",
       "      <td>BAL</td>\n",
       "      <td>-0.362</td>\n",
       "      <td>29.3%</td>\n",
       "      <td>-0.476</td>\n",
       "      <td>28.6%</td>\n",
       "      <td>-0.190</td>\n",
       "      <td>30.4%</td>\n",
       "      <td>1</td>\n",
       "    </tr>\n",
       "  </tbody>\n",
       "</table>\n",
       "</div>"
      ],
      "text/plain": [
       "    Abbr  EPA/play Success Rate (SR)  Dropback EPA Dropback SR  Rush EPA  \\\n",
       "529  CLE    -0.237             38.8%        -0.237       44.4%    -0.236   \n",
       "530   TB    -0.290             33.3%        -0.203       31.1%    -0.452   \n",
       "531  MIN    -0.316             34.5%        -0.421       36.6%    -0.007   \n",
       "532  JAX    -0.322             39.4%        -0.445       36.2%    -0.017   \n",
       "533  BAL    -0.362             29.3%        -0.476       28.6%    -0.190   \n",
       "\n",
       "    Rush SR week  \n",
       "529   27.3%    1  \n",
       "530   37.5%    1  \n",
       "531   28.6%    1  \n",
       "532   47.4%    1  \n",
       "533   30.4%    1  "
      ]
     },
     "execution_count": 122,
     "metadata": {},
     "output_type": "execute_result"
    }
   ],
   "source": [
    "df_2.tail()"
   ]
  },
  {
   "cell_type": "code",
   "execution_count": 123,
   "metadata": {},
   "outputs": [],
   "source": [
    "df_2015 = df_2.copy(deep=True)"
   ]
  },
  {
   "cell_type": "code",
   "execution_count": 127,
   "metadata": {},
   "outputs": [],
   "source": [
    "os.chdir(r\"..\\2016\")"
   ]
  },
  {
   "cell_type": "code",
   "execution_count": 128,
   "metadata": {},
   "outputs": [
    {
     "data": {
      "text/plain": [
       "'C:\\\\Users\\\\Kyle\\\\Downloads\\\\Stats\\\\EPA_Off\\\\2016'"
      ]
     },
     "execution_count": 128,
     "metadata": {},
     "output_type": "execute_result"
    }
   ],
   "source": [
    "os.getcwd()"
   ]
  },
  {
   "cell_type": "code",
   "execution_count": 129,
   "metadata": {},
   "outputs": [
    {
     "name": "stdout",
     "output_type": "stream",
     "text": [
      "no files\n"
     ]
    }
   ],
   "source": [
    "df = 0\n",
    "df_2 = 0\n",
    "files = os.walk(\".\")\n",
    "for f in files:\n",
    "    #print(\"folder::::\")\n",
    "    #print(f[0])\n",
    "    #print(\"Subfolder:::\")\n",
    "    #for d in f[1]:\n",
    "        #print(d)\n",
    "    #print(\"Files:::\")\n",
    "    if f[2]:\n",
    "        name = f[0] + \"\\\\\" + f[2][0]\n",
    "        df = pd.read_csv(name, header=0, usecols=[\"Abbr\", \"EPA/play\", \"Success Rate (SR)\", \"Dropback EPA\", \"Dropback SR\", \"Rush EPA\", \"Rush SR\"])\n",
    "        week = reg.search(f[0])[0]\n",
    "        df = df.assign(week = week)\n",
    "        if type(df_2) == int:\n",
    "            df_2 = df\n",
    "        else:\n",
    "            df_2 = pd.concat([df, df_2], ignore_index=True)\n",
    "    else:\n",
    "        print(\"no files\")"
   ]
  },
  {
   "cell_type": "code",
   "execution_count": 131,
   "metadata": {},
   "outputs": [
    {
     "data": {
      "text/html": [
       "<div>\n",
       "<style scoped>\n",
       "    .dataframe tbody tr th:only-of-type {\n",
       "        vertical-align: middle;\n",
       "    }\n",
       "\n",
       "    .dataframe tbody tr th {\n",
       "        vertical-align: top;\n",
       "    }\n",
       "\n",
       "    .dataframe thead th {\n",
       "        text-align: right;\n",
       "    }\n",
       "</style>\n",
       "<table border=\"1\" class=\"dataframe\">\n",
       "  <thead>\n",
       "    <tr style=\"text-align: right;\">\n",
       "      <th></th>\n",
       "      <th>Abbr</th>\n",
       "      <th>EPA/play</th>\n",
       "      <th>Success Rate (SR)</th>\n",
       "      <th>Dropback EPA</th>\n",
       "      <th>Dropback SR</th>\n",
       "      <th>Rush EPA</th>\n",
       "      <th>Rush SR</th>\n",
       "      <th>week</th>\n",
       "    </tr>\n",
       "  </thead>\n",
       "  <tbody>\n",
       "    <tr>\n",
       "      <th>529</th>\n",
       "      <td>MIA</td>\n",
       "      <td>-0.185</td>\n",
       "      <td>29.6%</td>\n",
       "      <td>-0.161</td>\n",
       "      <td>23.5%</td>\n",
       "      <td>-0.226</td>\n",
       "      <td>40.0%</td>\n",
       "      <td>1</td>\n",
       "    </tr>\n",
       "    <tr>\n",
       "      <th>530</th>\n",
       "      <td>CHI</td>\n",
       "      <td>-0.186</td>\n",
       "      <td>38.6%</td>\n",
       "      <td>-0.105</td>\n",
       "      <td>37.8%</td>\n",
       "      <td>-0.334</td>\n",
       "      <td>40.0%</td>\n",
       "      <td>1</td>\n",
       "    </tr>\n",
       "    <tr>\n",
       "      <th>531</th>\n",
       "      <td>TEN</td>\n",
       "      <td>-0.243</td>\n",
       "      <td>51.5%</td>\n",
       "      <td>0.062</td>\n",
       "      <td>56.8%</td>\n",
       "      <td>-0.852</td>\n",
       "      <td>40.9%</td>\n",
       "      <td>1</td>\n",
       "    </tr>\n",
       "    <tr>\n",
       "      <th>532</th>\n",
       "      <td>CLE</td>\n",
       "      <td>-0.300</td>\n",
       "      <td>34.6%</td>\n",
       "      <td>-0.222</td>\n",
       "      <td>30.3%</td>\n",
       "      <td>-0.437</td>\n",
       "      <td>42.1%</td>\n",
       "      <td>1</td>\n",
       "    </tr>\n",
       "    <tr>\n",
       "      <th>533</th>\n",
       "      <td>LA</td>\n",
       "      <td>-0.477</td>\n",
       "      <td>26.7%</td>\n",
       "      <td>-0.629</td>\n",
       "      <td>20.5%</td>\n",
       "      <td>-0.196</td>\n",
       "      <td>38.1%</td>\n",
       "      <td>1</td>\n",
       "    </tr>\n",
       "  </tbody>\n",
       "</table>\n",
       "</div>"
      ],
      "text/plain": [
       "    Abbr  EPA/play Success Rate (SR)  Dropback EPA Dropback SR  Rush EPA  \\\n",
       "529  MIA    -0.185             29.6%        -0.161       23.5%    -0.226   \n",
       "530  CHI    -0.186             38.6%        -0.105       37.8%    -0.334   \n",
       "531  TEN    -0.243             51.5%         0.062       56.8%    -0.852   \n",
       "532  CLE    -0.300             34.6%        -0.222       30.3%    -0.437   \n",
       "533   LA    -0.477             26.7%        -0.629       20.5%    -0.196   \n",
       "\n",
       "    Rush SR week  \n",
       "529   40.0%    1  \n",
       "530   40.0%    1  \n",
       "531   40.9%    1  \n",
       "532   42.1%    1  \n",
       "533   38.1%    1  "
      ]
     },
     "execution_count": 131,
     "metadata": {},
     "output_type": "execute_result"
    }
   ],
   "source": [
    "df_2.tail()"
   ]
  },
  {
   "cell_type": "code",
   "execution_count": 134,
   "metadata": {},
   "outputs": [],
   "source": [
    "df_2015 = df_2015.assign(year = 2015)"
   ]
  },
  {
   "cell_type": "code",
   "execution_count": 135,
   "metadata": {},
   "outputs": [],
   "source": [
    "df_2016 = df_2.copy(deep=True)"
   ]
  },
  {
   "cell_type": "code",
   "execution_count": 136,
   "metadata": {},
   "outputs": [],
   "source": [
    "df_2016 = df_2016.assign(year = 2016)"
   ]
  },
  {
   "cell_type": "code",
   "execution_count": 137,
   "metadata": {},
   "outputs": [],
   "source": [
    "os.chdir(r\"..\\2017\")"
   ]
  },
  {
   "cell_type": "code",
   "execution_count": 138,
   "metadata": {},
   "outputs": [
    {
     "name": "stdout",
     "output_type": "stream",
     "text": [
      "no files\n"
     ]
    }
   ],
   "source": [
    "df = 0\n",
    "df_2 = 0\n",
    "files = os.walk(\".\")\n",
    "for f in files:\n",
    "    #print(\"folder::::\")\n",
    "    #print(f[0])\n",
    "    #print(\"Subfolder:::\")\n",
    "    #for d in f[1]:\n",
    "        #print(d)\n",
    "    #print(\"Files:::\")\n",
    "    if f[2]:\n",
    "        name = f[0] + \"\\\\\" + f[2][0]\n",
    "        df = pd.read_csv(name, header=0, usecols=[\"Abbr\", \"EPA/play\", \"Success Rate (SR)\", \"Dropback EPA\", \"Dropback SR\", \"Rush EPA\", \"Rush SR\"])\n",
    "        week = reg.search(f[0])[0]\n",
    "        df = df.assign(week = week)\n",
    "        if type(df_2) == int:\n",
    "            df_2 = df\n",
    "        else:\n",
    "            df_2 = pd.concat([df, df_2], ignore_index=True)\n",
    "    else:\n",
    "        print(\"no files\")\n",
    "\n",
    "df_2 = df_2.assign(year = 2017)"
   ]
  },
  {
   "cell_type": "code",
   "execution_count": 140,
   "metadata": {},
   "outputs": [],
   "source": [
    "df_2017 = df_2.copy(deep=True)"
   ]
  },
  {
   "cell_type": "code",
   "execution_count": 141,
   "metadata": {},
   "outputs": [],
   "source": [
    "os.chdir(r\"..\\2018\")"
   ]
  },
  {
   "cell_type": "code",
   "execution_count": 142,
   "metadata": {},
   "outputs": [
    {
     "name": "stdout",
     "output_type": "stream",
     "text": [
      "no files\n"
     ]
    }
   ],
   "source": [
    "df = 0\n",
    "df_2 = 0\n",
    "files = os.walk(\".\")\n",
    "for f in files:\n",
    "    #print(\"folder::::\")\n",
    "    #print(f[0])\n",
    "    #print(\"Subfolder:::\")\n",
    "    #for d in f[1]:\n",
    "        #print(d)\n",
    "    #print(\"Files:::\")\n",
    "    if f[2]:\n",
    "        name = f[0] + \"\\\\\" + f[2][0]\n",
    "        df = pd.read_csv(name, header=0, usecols=[\"Abbr\", \"EPA/play\", \"Success Rate (SR)\", \"Dropback EPA\", \"Dropback SR\", \"Rush EPA\", \"Rush SR\"])\n",
    "        week = reg.search(f[0])[0]\n",
    "        df = df.assign(week = week)\n",
    "        if type(df_2) == int:\n",
    "            df_2 = df\n",
    "        else:\n",
    "            df_2 = pd.concat([df, df_2], ignore_index=True)\n",
    "    else:\n",
    "        print(\"no files\")\n",
    "\n",
    "df_2 = df_2.assign(year = 2018)"
   ]
  },
  {
   "cell_type": "code",
   "execution_count": 145,
   "metadata": {},
   "outputs": [
    {
     "data": {
      "text/html": [
       "<div>\n",
       "<style scoped>\n",
       "    .dataframe tbody tr th:only-of-type {\n",
       "        vertical-align: middle;\n",
       "    }\n",
       "\n",
       "    .dataframe tbody tr th {\n",
       "        vertical-align: top;\n",
       "    }\n",
       "\n",
       "    .dataframe thead th {\n",
       "        text-align: right;\n",
       "    }\n",
       "</style>\n",
       "<table border=\"1\" class=\"dataframe\">\n",
       "  <thead>\n",
       "    <tr style=\"text-align: right;\">\n",
       "      <th></th>\n",
       "      <th>Abbr</th>\n",
       "      <th>EPA/play</th>\n",
       "      <th>Success Rate (SR)</th>\n",
       "      <th>Dropback EPA</th>\n",
       "      <th>Dropback SR</th>\n",
       "      <th>Rush EPA</th>\n",
       "      <th>Rush SR</th>\n",
       "      <th>week</th>\n",
       "      <th>year</th>\n",
       "    </tr>\n",
       "  </thead>\n",
       "  <tbody>\n",
       "    <tr>\n",
       "      <th>529</th>\n",
       "      <td>ATL</td>\n",
       "      <td>-0.214</td>\n",
       "      <td>35.7%</td>\n",
       "      <td>-0.171</td>\n",
       "      <td>36.5%</td>\n",
       "      <td>-0.337</td>\n",
       "      <td>33.3%</td>\n",
       "      <td>1</td>\n",
       "      <td>2018</td>\n",
       "    </tr>\n",
       "    <tr>\n",
       "      <th>530</th>\n",
       "      <td>SF</td>\n",
       "      <td>-0.263</td>\n",
       "      <td>39.4%</td>\n",
       "      <td>-0.165</td>\n",
       "      <td>45.2%</td>\n",
       "      <td>-0.434</td>\n",
       "      <td>29.2%</td>\n",
       "      <td>1</td>\n",
       "      <td>2018</td>\n",
       "    </tr>\n",
       "    <tr>\n",
       "      <th>531</th>\n",
       "      <td>TEN</td>\n",
       "      <td>-0.296</td>\n",
       "      <td>39.7%</td>\n",
       "      <td>-0.455</td>\n",
       "      <td>37.5%</td>\n",
       "      <td>-0.069</td>\n",
       "      <td>42.9%</td>\n",
       "      <td>1</td>\n",
       "      <td>2018</td>\n",
       "    </tr>\n",
       "    <tr>\n",
       "      <th>532</th>\n",
       "      <td>DET</td>\n",
       "      <td>-0.375</td>\n",
       "      <td>42.0%</td>\n",
       "      <td>-0.400</td>\n",
       "      <td>44.6%</td>\n",
       "      <td>-0.271</td>\n",
       "      <td>30.8%</td>\n",
       "      <td>1</td>\n",
       "      <td>2018</td>\n",
       "    </tr>\n",
       "    <tr>\n",
       "      <th>533</th>\n",
       "      <td>BUF</td>\n",
       "      <td>-0.615</td>\n",
       "      <td>16.9%</td>\n",
       "      <td>-0.562</td>\n",
       "      <td>20.5%</td>\n",
       "      <td>-0.725</td>\n",
       "      <td>9.5%</td>\n",
       "      <td>1</td>\n",
       "      <td>2018</td>\n",
       "    </tr>\n",
       "  </tbody>\n",
       "</table>\n",
       "</div>"
      ],
      "text/plain": [
       "    Abbr  EPA/play Success Rate (SR)  Dropback EPA Dropback SR  Rush EPA  \\\n",
       "529  ATL    -0.214             35.7%        -0.171       36.5%    -0.337   \n",
       "530   SF    -0.263             39.4%        -0.165       45.2%    -0.434   \n",
       "531  TEN    -0.296             39.7%        -0.455       37.5%    -0.069   \n",
       "532  DET    -0.375             42.0%        -0.400       44.6%    -0.271   \n",
       "533  BUF    -0.615             16.9%        -0.562       20.5%    -0.725   \n",
       "\n",
       "    Rush SR week  year  \n",
       "529   33.3%    1  2018  \n",
       "530   29.2%    1  2018  \n",
       "531   42.9%    1  2018  \n",
       "532   30.8%    1  2018  \n",
       "533    9.5%    1  2018  "
      ]
     },
     "execution_count": 145,
     "metadata": {},
     "output_type": "execute_result"
    }
   ],
   "source": [
    "df_2.tail()"
   ]
  },
  {
   "cell_type": "code",
   "execution_count": 146,
   "metadata": {},
   "outputs": [],
   "source": [
    "df_2018 = df_2.copy(deep=True)"
   ]
  },
  {
   "cell_type": "code",
   "execution_count": 147,
   "metadata": {},
   "outputs": [
    {
     "name": "stdout",
     "output_type": "stream",
     "text": [
      "no files\n"
     ]
    }
   ],
   "source": [
    "os.chdir(r\"..\\2019\")\n",
    "df = 0\n",
    "df_2 = 0\n",
    "files = os.walk(\".\")\n",
    "for f in files:\n",
    "    #print(\"folder::::\")\n",
    "    #print(f[0])\n",
    "    #print(\"Subfolder:::\")\n",
    "    #for d in f[1]:\n",
    "        #print(d)\n",
    "    #print(\"Files:::\")\n",
    "    if f[2]:\n",
    "        name = f[0] + \"\\\\\" + f[2][0]\n",
    "        df = pd.read_csv(name, header=0, usecols=[\"Abbr\", \"EPA/play\", \"Success Rate (SR)\", \"Dropback EPA\", \"Dropback SR\", \"Rush EPA\", \"Rush SR\"])\n",
    "        week = reg.search(f[0])[0]\n",
    "        df = df.assign(week = week)\n",
    "        if type(df_2) == int:\n",
    "            df_2 = df\n",
    "        else:\n",
    "            df_2 = pd.concat([df, df_2], ignore_index=True)\n",
    "    else:\n",
    "        print(\"no files\")\n",
    "\n",
    "df_2 = df_2.assign(year = 2019)"
   ]
  },
  {
   "cell_type": "code",
   "execution_count": 148,
   "metadata": {},
   "outputs": [],
   "source": [
    "df_2019 = df_2.copy(deep=True)"
   ]
  },
  {
   "cell_type": "code",
   "execution_count": 149,
   "metadata": {},
   "outputs": [
    {
     "name": "stdout",
     "output_type": "stream",
     "text": [
      "no files\n"
     ]
    }
   ],
   "source": [
    "os.chdir(r\"..\\2020\")\n",
    "df = 0\n",
    "df_2 = 0\n",
    "files = os.walk(\".\")\n",
    "for f in files:\n",
    "    #print(\"folder::::\")\n",
    "    #print(f[0])\n",
    "    #print(\"Subfolder:::\")\n",
    "    #for d in f[1]:\n",
    "        #print(d)\n",
    "    #print(\"Files:::\")\n",
    "    if f[2]:\n",
    "        name = f[0] + \"\\\\\" + f[2][0]\n",
    "        df = pd.read_csv(name, header=0, usecols=[\"Abbr\", \"EPA/play\", \"Success Rate (SR)\", \"Dropback EPA\", \"Dropback SR\", \"Rush EPA\", \"Rush SR\"])\n",
    "        week = reg.search(f[0])[0]\n",
    "        df = df.assign(week = week)\n",
    "        if type(df_2) == int:\n",
    "            df_2 = df\n",
    "        else:\n",
    "            df_2 = pd.concat([df, df_2], ignore_index=True)\n",
    "    else:\n",
    "        print(\"no files\")\n",
    "\n",
    "df_2 = df_2.assign(year = 2020)"
   ]
  },
  {
   "cell_type": "code",
   "execution_count": 150,
   "metadata": {},
   "outputs": [],
   "source": [
    "df_2020 = df_2.copy(deep=True)"
   ]
  },
  {
   "cell_type": "code",
   "execution_count": 152,
   "metadata": {},
   "outputs": [],
   "source": [
    "finished_df = pd.concat([df_2015, df_2016, df_2017, df_2018, df_2019, df_2020], ignore_index=True)"
   ]
  },
  {
   "cell_type": "code",
   "execution_count": 158,
   "metadata": {},
   "outputs": [],
   "source": [
    "os.chdir(\"..\\..\")"
   ]
  },
  {
   "cell_type": "code",
   "execution_count": 161,
   "metadata": {},
   "outputs": [],
   "source": [
    "os.chdir(r\"C:\\Users\\Kyle\\Desktop\\FootballFinalProject\\NFL-Big-Data-Bowl-2021\\Advanced Stats\")"
   ]
  },
  {
   "cell_type": "code",
   "execution_count": 162,
   "metadata": {},
   "outputs": [
    {
     "data": {
      "text/plain": [
       "'C:\\\\Users\\\\Kyle\\\\Desktop\\\\FootballFinalProject\\\\NFL-Big-Data-Bowl-2021\\\\Advanced Stats'"
      ]
     },
     "execution_count": 162,
     "metadata": {},
     "output_type": "execute_result"
    }
   ],
   "source": [
    "os.getcwd()"
   ]
  },
  {
   "cell_type": "code",
   "execution_count": 163,
   "metadata": {},
   "outputs": [],
   "source": [
    "finished_df.to_csv(\"epa2015_2020.csv\")"
   ]
  },
  {
   "cell_type": "code",
   "execution_count": null,
   "metadata": {},
   "outputs": [],
   "source": []
  }
 ],
 "metadata": {
  "kernelspec": {
   "display_name": "Python 3",
   "language": "python",
   "name": "python3"
  },
  "language_info": {
   "codemirror_mode": {
    "name": "ipython",
    "version": 3
   },
   "file_extension": ".py",
   "mimetype": "text/x-python",
   "name": "python",
   "nbconvert_exporter": "python",
   "pygments_lexer": "ipython3",
   "version": "3.7.1"
  }
 },
 "nbformat": 4,
 "nbformat_minor": 4
}
