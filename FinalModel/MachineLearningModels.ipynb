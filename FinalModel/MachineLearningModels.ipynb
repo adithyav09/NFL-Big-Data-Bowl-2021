{
 "cells": [
  {
   "cell_type": "code",
   "execution_count": 1,
   "metadata": {},
   "outputs": [],
   "source": [
    "import pandas as pd, numpy as np, os, math"
   ]
  },
  {
   "cell_type": "code",
   "execution_count": 3,
   "metadata": {},
   "outputs": [],
   "source": [
    "outstanding_games = pd.read_csv(\"2020GamesLeft.csv\")"
   ]
  },
  {
   "cell_type": "code",
   "execution_count": 4,
   "metadata": {},
   "outputs": [],
   "source": [
    "allTheStats = pd.read_csv(\"../perfectlyCleaned_Data.csv\")"
   ]
  },
  {
   "cell_type": "code",
   "execution_count": 7,
   "metadata": {},
   "outputs": [
    {
     "data": {
      "text/plain": [
       "Index(['Unnamed: 0', 'Year', 'Week_x', 'Abbr_RDBMS_Winner', 'Week2', 'Day',\n",
       "       'Date', 'Time', 'Home_Team', 'FINAL_TEAM_NAME', 'Opponent',\n",
       "       'TEAM_POINTS', 'TEAM_YARDS', 'TEAM_TURNOVERS',\n",
       "       'TEAM_TURNOVER_DIFFERENTIAL', 'OPPONENTS_POINTS', 'OPPONENTS_YARDS',\n",
       "       'OPPONENTS_TURNOVERS', 'OPPONENTS_TURNOVER_DIFFERENTIAL',\n",
       "       'TEAM_POINT_MARGIN', 'GAMEID', 'BINARY_WIN', 'W-L-T', 'Power Index FPI',\n",
       "       'Power Index RK', 'Power Index TREND', 'Power Index OFF',\n",
       "       'Power Index DEF', 'Power Index ST', 'Ranks SOS', 'Ranks REM SOS',\n",
       "       'Ranks AVGWP', 'DIVISION_538_Winner', 'ELO WITH QB_538_Winner',\n",
       "       'ELO CHANGE_538_Winner', 'CURRENT QB ADJ_538_Winner',\n",
       "       'Points_Diff_538_Winner', 'Playoffs_Prob_538_Winner',\n",
       "       'Division_Prob_538_Winner', 'Bye_Prob_538_Winner', 'SB_Prob_538_Winner',\n",
       "       'REAL_WINS2_538_Winner', 'REAL_LOSSES2_538_Winner',\n",
       "       'REAL_TIES_538_Winner', 'PROJ_WINS4_538_Winner',\n",
       "       'PROJ_LOSS4_538_Winner', 'EPA/play_RDBMS_Winner',\n",
       "       'OVR_SUCCESS_RATE_RDBMS_Winner', 'Dropback EPA_RDBMS_Winner',\n",
       "       'DROPBACK_SR_RDBMS_Winner', 'Rush EPA_RDBMS_Winner',\n",
       "       'RUN_SR_RDBMS_Winner', 'TOTAL DVOA_FO_WEEKLY_Winner',\n",
       "       'LAST WEEK_FO_WEEKLY_Winner', 'DAVE_WEI_DVOA_FO_WEEKLY_Winner',\n",
       "       'OFFENSE DVOA_FO_WEEKLY_Winner', 'DEFENSE DVOA_FO_WEEKLY_Winner',\n",
       "       'S.T. DVOA_FO_WEEKLY_Winner', 'RK_FO_ANNUAL_Winner',\n",
       "       'TOTAL DVOA_FO_ANNUAL_Winner', 'DAVE_WEI_DVOA_FO_ANNUAL_Winner',\n",
       "       'OFFENSE DVOA_FO_ANNUAL_Winner', 'DEFENSE DVOA_FO_ANNUAL_Winner',\n",
       "       'S.T. DVOA_FO_ANNUAL_Winner', 'non-adj VOA_FO_ANNUAL_Winner',\n",
       "       'Last Year_FO_ANNUAL_Winner', 'ESTIM. WINS_FO_ANNUAL_Winner',\n",
       "       'SCHEDULE RANK_FO_ANNUAL_Winner', 'VAR._FO_ANNUAL_Winner',\n",
       "       'TOTAL_GAME_POINTS', 'TOTAL_GAME_YARDS', 'TOTAL_GAME_TURNOVERS',\n",
       "       'PLAYOFFS_BINARY', 'GAME_TYPE'],\n",
       "      dtype='object')"
      ]
     },
     "execution_count": 7,
     "metadata": {},
     "output_type": "execute_result"
    }
   ],
   "source": [
    "allTheStats.columns"
   ]
  },
  {
   "cell_type": "code",
   "execution_count": 8,
   "metadata": {},
   "outputs": [
    {
     "data": {
      "text/plain": [
       "Index(['Year', 'Week2', 'Day', 'Date', 'Time', 'FINAL_TEAM_NAME', 'Opponent',\n",
       "       'TEAM_POINTS', 'TEAM_YARDS', 'TEAM_TURNOVERS',\n",
       "       'TEAM_TURNOVER_DIFFERENTIAL', 'TEAM_POINT_MARGIN', 'OPPONENTS_POINTS',\n",
       "       'OPPONENTS_YARDS', 'OPPONENTS_TURNOVERS',\n",
       "       'OPPONENTS_TURNOVER_DIFFERENTIAL', 'GAMEID', 'BINARY_WIN', 'Home_Team'],\n",
       "      dtype='object')"
      ]
     },
     "execution_count": 8,
     "metadata": {},
     "output_type": "execute_result"
    }
   ],
   "source": [
    "outstanding_games.columns"
   ]
  },
  {
   "cell_type": "markdown",
   "metadata": {},
   "source": [
    "## model1: OVERALL FPI (ESPN Team Eff Metric)"
   ]
  },
  {
   "cell_type": "code",
   "execution_count": 10,
   "metadata": {},
   "outputs": [],
   "source": [
    "#model1: just OVERALL FPI (ESPN Team Eff Metric)\n",
    "model_values = allTheStats.loc[:, [\"TEAM_POINTS\", \"Power Index FPI\"]]"
   ]
  },
  {
   "cell_type": "code",
   "execution_count": 11,
   "metadata": {},
   "outputs": [],
   "source": [
    "from sklearn.model_selection import train_test_split\n",
    "import sklearn.linear_model"
   ]
  },
  {
   "cell_type": "code",
   "execution_count": 15,
   "metadata": {},
   "outputs": [],
   "source": [
    "model_1 = sklearn.linear_model.LinearRegression()"
   ]
  },
  {
   "cell_type": "code",
   "execution_count": 13,
   "metadata": {},
   "outputs": [],
   "source": [
    "X = model_values.iloc[:,1].values\n",
    "y = model_values.iloc[:,0].values"
   ]
  },
  {
   "cell_type": "code",
   "execution_count": 14,
   "metadata": {},
   "outputs": [],
   "source": [
    "X_train, X_test, y_train, y_test = train_test_split(X,y)\n",
    "X_train = X_train.reshape(-1, 1)\n",
    "X_test = X_test.reshape(-1, 1)\n",
    "y_train = y_train.reshape(-1, 1)\n",
    "y_test = y_test.reshape(-1, 1)"
   ]
  },
  {
   "cell_type": "code",
   "execution_count": 17,
   "metadata": {},
   "outputs": [
    {
     "data": {
      "text/plain": [
       "LinearRegression(copy_X=True, fit_intercept=True, n_jobs=None, normalize=False)"
      ]
     },
     "execution_count": 17,
     "metadata": {},
     "output_type": "execute_result"
    }
   ],
   "source": [
    "model_1.fit(X_train, y_train)"
   ]
  },
  {
   "cell_type": "code",
   "execution_count": 19,
   "metadata": {},
   "outputs": [
    {
     "data": {
      "text/plain": [
       "0.11160052247107721"
      ]
     },
     "execution_count": 19,
     "metadata": {},
     "output_type": "execute_result"
    }
   ],
   "source": [
    "#R_sq Score\n",
    "model_1.score(X_train, y_train)"
   ]
  },
  {
   "cell_type": "code",
   "execution_count": 21,
   "metadata": {},
   "outputs": [
    {
     "data": {
      "text/plain": [
       "0.12100326484896597"
      ]
     },
     "execution_count": 21,
     "metadata": {},
     "output_type": "execute_result"
    }
   ],
   "source": [
    "model_1.score(X_test, y_test)"
   ]
  },
  {
   "cell_type": "code",
   "execution_count": 22,
   "metadata": {},
   "outputs": [
    {
     "data": {
      "text/plain": [
       "array([22.64165239])"
      ]
     },
     "execution_count": 22,
     "metadata": {},
     "output_type": "execute_result"
    }
   ],
   "source": [
    "model_1.intercept_"
   ]
  },
  {
   "cell_type": "code",
   "execution_count": 23,
   "metadata": {},
   "outputs": [
    {
     "data": {
      "text/plain": [
       "array([[0.64681882]])"
      ]
     },
     "execution_count": 23,
     "metadata": {},
     "output_type": "execute_result"
    }
   ],
   "source": [
    "model_1.coef_"
   ]
  },
  {
   "cell_type": "code",
   "execution_count": 25,
   "metadata": {},
   "outputs": [],
   "source": [
    "y_pred = model_1.predict(X_test)"
   ]
  },
  {
   "cell_type": "code",
   "execution_count": 26,
   "metadata": {},
   "outputs": [],
   "source": [
    "sq_resid = (y_pred - y_test)**2"
   ]
  },
  {
   "cell_type": "code",
   "execution_count": 27,
   "metadata": {},
   "outputs": [
    {
     "data": {
      "text/plain": [
       "7.449358973567071"
      ]
     },
     "execution_count": 27,
     "metadata": {},
     "output_type": "execute_result"
    }
   ],
   "source": [
    "# The Mean Squared Error\n",
    "pd.Series(sq_resid.reshape(-1)).apply(math.sqrt).mean()"
   ]
  },
  {
   "cell_type": "code",
   "execution_count": 30,
   "metadata": {},
   "outputs": [],
   "source": [
    "# Grid Search\n",
    "from sklearn.model_selection import GridSearchCV\n",
    "params = {'fit_intercept':[True,False], 'normalize':[True,False], 'copy_X':[True, False]}\n",
    "grid = GridSearchCV(model_1, params, verbose=3)"
   ]
  },
  {
   "cell_type": "code",
   "execution_count": 31,
   "metadata": {},
   "outputs": [
    {
     "name": "stdout",
     "output_type": "stream",
     "text": [
      "Fitting 5 folds for each of 8 candidates, totalling 40 fits\n",
      "[CV] copy_X=True, fit_intercept=True, normalize=True .................\n",
      "[CV]  copy_X=True, fit_intercept=True, normalize=True, score=0.131, total=   0.0s\n",
      "[CV] copy_X=True, fit_intercept=True, normalize=True .................\n",
      "[CV]  copy_X=True, fit_intercept=True, normalize=True, score=0.121, total=   0.0s\n",
      "[CV] copy_X=True, fit_intercept=True, normalize=True .................\n",
      "[CV]  copy_X=True, fit_intercept=True, normalize=True, score=0.131, total=   0.0s\n",
      "[CV] copy_X=True, fit_intercept=True, normalize=True .................\n",
      "[CV]  copy_X=True, fit_intercept=True, normalize=True, score=0.045, total=   0.0s\n",
      "[CV] copy_X=True, fit_intercept=True, normalize=True .................\n",
      "[CV]  copy_X=True, fit_intercept=True, normalize=True, score=0.105, total=   0.0s\n",
      "[CV] copy_X=True, fit_intercept=True, normalize=False ................\n",
      "[CV]  copy_X=True, fit_intercept=True, normalize=False, score=0.131, total=   0.0s\n",
      "[CV] copy_X=True, fit_intercept=True, normalize=False ................\n",
      "[CV]  copy_X=True, fit_intercept=True, normalize=False, score=0.121, total=   0.0s\n",
      "[CV] copy_X=True, fit_intercept=True, normalize=False ................\n",
      "[CV]  copy_X=True, fit_intercept=True, normalize=False, score=0.131, total=   0.0s\n",
      "[CV] copy_X=True, fit_intercept=True, normalize=False ................\n",
      "[CV]  copy_X=True, fit_intercept=True, normalize=False, score=0.045, total=   0.0s\n",
      "[CV] copy_X=True, fit_intercept=True, normalize=False ................\n",
      "[CV]  copy_X=True, fit_intercept=True, normalize=False, score=0.105, total=   0.0s\n",
      "[CV] copy_X=True, fit_intercept=False, normalize=True ................\n",
      "[CV]  copy_X=True, fit_intercept=False, normalize=True, score=-4.746, total=   0.0s\n",
      "[CV] copy_X=True, fit_intercept=False, normalize=True ................\n",
      "[CV]  copy_X=True, fit_intercept=False, normalize=True, score=-4.905, total=   0.0s\n",
      "[CV] copy_X=True, fit_intercept=False, normalize=True ................\n",
      "[CV]  copy_X=True, fit_intercept=False, normalize=True, score=-4.931, total=   0.0s\n",
      "[CV] copy_X=True, fit_intercept=False, normalize=True ................\n",
      "[CV]  copy_X=True, fit_intercept=False, normalize=True, score=-5.651, total=   0.0s\n",
      "[CV] copy_X=True, fit_intercept=False, normalize=True ................\n",
      "[CV]  copy_X=True, fit_intercept=False, normalize=True, score=-5.426, total=   0.0s\n",
      "[CV] copy_X=True, fit_intercept=False, normalize=False ...............\n",
      "[CV]  copy_X=True, fit_intercept=False, normalize=False, score=-4.746, total=   0.0s\n",
      "[CV] copy_X=True, fit_intercept=False, normalize=False ...............\n",
      "[CV]  copy_X=True, fit_intercept=False, normalize=False, score=-4.905, total=   0.0s\n",
      "[CV] copy_X=True, fit_intercept=False, normalize=False ...............\n",
      "[CV]  copy_X=True, fit_intercept=False, normalize=False, score=-4.931, total=   0.0s\n",
      "[CV] copy_X=True, fit_intercept=False, normalize=False ...............\n",
      "[CV]  copy_X=True, fit_intercept=False, normalize=False, score=-5.651, total=   0.0s\n",
      "[CV] copy_X=True, fit_intercept=False, normalize=False ...............\n",
      "[CV]  copy_X=True, fit_intercept=False, normalize=False, score=-5.426, total=   0.0s\n",
      "[CV] copy_X=False, fit_intercept=True, normalize=True ................\n",
      "[CV]  copy_X=False, fit_intercept=True, normalize=True, score=0.131, total=   0.0s\n",
      "[CV] copy_X=False, fit_intercept=True, normalize=True ................\n",
      "[CV]  copy_X=False, fit_intercept=True, normalize=True, score=0.121, total=   0.0s\n",
      "[CV] copy_X=False, fit_intercept=True, normalize=True ................\n",
      "[CV]  copy_X=False, fit_intercept=True, normalize=True, score=0.131, total=   0.0s\n",
      "[CV] copy_X=False, fit_intercept=True, normalize=True ................\n",
      "[CV]  copy_X=False, fit_intercept=True, normalize=True, score=0.045, total=   0.0s\n",
      "[CV] copy_X=False, fit_intercept=True, normalize=True ................\n",
      "[CV]  copy_X=False, fit_intercept=True, normalize=True, score=0.105, total=   0.0s\n",
      "[CV] copy_X=False, fit_intercept=True, normalize=False ...............\n",
      "[CV]  copy_X=False, fit_intercept=True, normalize=False, score=0.131, total=   0.0s\n",
      "[CV] copy_X=False, fit_intercept=True, normalize=False ...............\n",
      "[CV]  copy_X=False, fit_intercept=True, normalize=False, score=0.121, total=   0.0s\n",
      "[CV] copy_X=False, fit_intercept=True, normalize=False ...............\n",
      "[CV]  copy_X=False, fit_intercept=True, normalize=False, score=0.131, total=   0.0s\n",
      "[CV] copy_X=False, fit_intercept=True, normalize=False ...............\n",
      "[CV]  copy_X=False, fit_intercept=True, normalize=False, score=0.045, total=   0.0s\n",
      "[CV] copy_X=False, fit_intercept=True, normalize=False ...............\n",
      "[CV]  copy_X=False, fit_intercept=True, normalize=False, score=0.105, total=   0.0s\n",
      "[CV] copy_X=False, fit_intercept=False, normalize=True ...............\n",
      "[CV]  copy_X=False, fit_intercept=False, normalize=True, score=-4.746, total=   0.0s\n",
      "[CV] copy_X=False, fit_intercept=False, normalize=True ...............\n",
      "[CV]  copy_X=False, fit_intercept=False, normalize=True, score=-4.905, total=   0.0s\n",
      "[CV] copy_X=False, fit_intercept=False, normalize=True ...............\n",
      "[CV]  copy_X=False, fit_intercept=False, normalize=True, score=-4.931, total=   0.0s\n",
      "[CV] copy_X=False, fit_intercept=False, normalize=True ...............\n",
      "[CV]  copy_X=False, fit_intercept=False, normalize=True, score=-5.651, total=   0.0s\n",
      "[CV] copy_X=False, fit_intercept=False, normalize=True ...............\n",
      "[CV]  copy_X=False, fit_intercept=False, normalize=True, score=-5.426, total=   0.0s\n",
      "[CV] copy_X=False, fit_intercept=False, normalize=False ..............\n",
      "[CV]  copy_X=False, fit_intercept=False, normalize=False, score=-4.746, total=   0.0s\n",
      "[CV] copy_X=False, fit_intercept=False, normalize=False ..............\n",
      "[CV]  copy_X=False, fit_intercept=False, normalize=False, score=-4.905, total=   0.0s\n",
      "[CV] copy_X=False, fit_intercept=False, normalize=False ..............\n",
      "[CV]  copy_X=False, fit_intercept=False, normalize=False, score=-4.931, total=   0.0s\n",
      "[CV] copy_X=False, fit_intercept=False, normalize=False ..............\n",
      "[CV]  copy_X=False, fit_intercept=False, normalize=False, score=-5.651, total=   0.0s\n",
      "[CV] copy_X=False, fit_intercept=False, normalize=False ..............\n",
      "[CV]  copy_X=False, fit_intercept=False, normalize=False, score=-5.426, total=   0.0s\n"
     ]
    },
    {
     "name": "stderr",
     "output_type": "stream",
     "text": [
      "[Parallel(n_jobs=1)]: Using backend SequentialBackend with 1 concurrent workers.\n",
      "[Parallel(n_jobs=1)]: Done   1 out of   1 | elapsed:    0.0s remaining:    0.0s\n",
      "[Parallel(n_jobs=1)]: Done   2 out of   2 | elapsed:    0.0s remaining:    0.0s\n",
      "[Parallel(n_jobs=1)]: Done  40 out of  40 | elapsed:    0.0s finished\n"
     ]
    },
    {
     "data": {
      "text/plain": [
       "GridSearchCV(cv=None, error_score=nan,\n",
       "             estimator=LinearRegression(copy_X=True, fit_intercept=True,\n",
       "                                        n_jobs=None, normalize=False),\n",
       "             iid='deprecated', n_jobs=None,\n",
       "             param_grid={'copy_X': [True, False],\n",
       "                         'fit_intercept': [True, False],\n",
       "                         'normalize': [True, False]},\n",
       "             pre_dispatch='2*n_jobs', refit=True, return_train_score=False,\n",
       "             scoring=None, verbose=3)"
      ]
     },
     "execution_count": 31,
     "metadata": {},
     "output_type": "execute_result"
    }
   ],
   "source": [
    "# Train the model with GridSearch\n",
    "grid.fit(X_train,y_train)"
   ]
  },
  {
   "cell_type": "code",
   "execution_count": 33,
   "metadata": {},
   "outputs": [
    {
     "data": {
      "text/plain": [
       "0.10659290608447188"
      ]
     },
     "execution_count": 33,
     "metadata": {},
     "output_type": "execute_result"
    }
   ],
   "source": [
    "grid.best_score_"
   ]
  },
  {
   "cell_type": "code",
   "execution_count": 34,
   "metadata": {},
   "outputs": [],
   "source": [
    "ys = grid.predict(X_test)"
   ]
  },
  {
   "cell_type": "code",
   "execution_count": 35,
   "metadata": {},
   "outputs": [],
   "source": [
    "resids = (ys - y_test)**2"
   ]
  },
  {
   "cell_type": "code",
   "execution_count": 36,
   "metadata": {},
   "outputs": [
    {
     "data": {
      "text/plain": [
       "7.449358973567071"
      ]
     },
     "execution_count": 36,
     "metadata": {},
     "output_type": "execute_result"
    }
   ],
   "source": [
    "pd.Series(resids.reshape(-1)).apply(math.sqrt).mean()"
   ]
  },
  {
   "cell_type": "code",
   "execution_count": 37,
   "metadata": {},
   "outputs": [],
   "source": [
    "from sklearn.metrics import r2_score"
   ]
  },
  {
   "cell_type": "code",
   "execution_count": 39,
   "metadata": {},
   "outputs": [
    {
     "data": {
      "text/plain": [
       "0.12100326484896595"
      ]
     },
     "execution_count": 39,
     "metadata": {},
     "output_type": "execute_result"
    }
   ],
   "source": [
    "r2_score(y_test, ys)"
   ]
  },
  {
   "cell_type": "markdown",
   "metadata": {},
   "source": [
    "## model2:\n",
    "### OVERALL FPI + TEAM OFFENSIVE FPI + THE OPPOSING_TEAM'S DEFENSIVE FPI + TEAM SPECIAL TEAMS FPI + Strength of Schedule FPI + WP Ranks"
   ]
  },
  {
   "cell_type": "code",
   "execution_count": 40,
   "metadata": {},
   "outputs": [
    {
     "data": {
      "text/plain": [
       "Index(['Unnamed: 0', 'Year', 'Week_x', 'Abbr_RDBMS_Winner', 'Week2', 'Day',\n",
       "       'Date', 'Time', 'Home_Team', 'FINAL_TEAM_NAME', 'Opponent',\n",
       "       'TEAM_POINTS', 'TEAM_YARDS', 'TEAM_TURNOVERS',\n",
       "       'TEAM_TURNOVER_DIFFERENTIAL', 'OPPONENTS_POINTS', 'OPPONENTS_YARDS',\n",
       "       'OPPONENTS_TURNOVERS', 'OPPONENTS_TURNOVER_DIFFERENTIAL',\n",
       "       'TEAM_POINT_MARGIN', 'GAMEID', 'BINARY_WIN', 'W-L-T', 'Power Index FPI',\n",
       "       'Power Index RK', 'Power Index TREND', 'Power Index OFF',\n",
       "       'Power Index DEF', 'Power Index ST', 'Ranks SOS', 'Ranks REM SOS',\n",
       "       'Ranks AVGWP', 'DIVISION_538_Winner', 'ELO WITH QB_538_Winner',\n",
       "       'ELO CHANGE_538_Winner', 'CURRENT QB ADJ_538_Winner',\n",
       "       'Points_Diff_538_Winner', 'Playoffs_Prob_538_Winner',\n",
       "       'Division_Prob_538_Winner', 'Bye_Prob_538_Winner', 'SB_Prob_538_Winner',\n",
       "       'REAL_WINS2_538_Winner', 'REAL_LOSSES2_538_Winner',\n",
       "       'REAL_TIES_538_Winner', 'PROJ_WINS4_538_Winner',\n",
       "       'PROJ_LOSS4_538_Winner', 'EPA/play_RDBMS_Winner',\n",
       "       'OVR_SUCCESS_RATE_RDBMS_Winner', 'Dropback EPA_RDBMS_Winner',\n",
       "       'DROPBACK_SR_RDBMS_Winner', 'Rush EPA_RDBMS_Winner',\n",
       "       'RUN_SR_RDBMS_Winner', 'TOTAL DVOA_FO_WEEKLY_Winner',\n",
       "       'LAST WEEK_FO_WEEKLY_Winner', 'DAVE_WEI_DVOA_FO_WEEKLY_Winner',\n",
       "       'OFFENSE DVOA_FO_WEEKLY_Winner', 'DEFENSE DVOA_FO_WEEKLY_Winner',\n",
       "       'S.T. DVOA_FO_WEEKLY_Winner', 'RK_FO_ANNUAL_Winner',\n",
       "       'TOTAL DVOA_FO_ANNUAL_Winner', 'DAVE_WEI_DVOA_FO_ANNUAL_Winner',\n",
       "       'OFFENSE DVOA_FO_ANNUAL_Winner', 'DEFENSE DVOA_FO_ANNUAL_Winner',\n",
       "       'S.T. DVOA_FO_ANNUAL_Winner', 'non-adj VOA_FO_ANNUAL_Winner',\n",
       "       'Last Year_FO_ANNUAL_Winner', 'ESTIM. WINS_FO_ANNUAL_Winner',\n",
       "       'SCHEDULE RANK_FO_ANNUAL_Winner', 'VAR._FO_ANNUAL_Winner',\n",
       "       'TOTAL_GAME_POINTS', 'TOTAL_GAME_YARDS', 'TOTAL_GAME_TURNOVERS',\n",
       "       'PLAYOFFS_BINARY', 'GAME_TYPE'],\n",
       "      dtype='object')"
      ]
     },
     "execution_count": 40,
     "metadata": {},
     "output_type": "execute_result"
    }
   ],
   "source": [
    "allTheStats.columns"
   ]
  },
  {
   "cell_type": "code",
   "execution_count": 43,
   "metadata": {},
   "outputs": [],
   "source": [
    "allTheStats2 = allTheStats.copy(deep=True)"
   ]
  },
  {
   "cell_type": "code",
   "execution_count": 44,
   "metadata": {},
   "outputs": [],
   "source": [
    "#model2: All the ESPN EFF METRICS\n",
    "#model_values = allTheStats.loc[:, [\"TEAM_POINTS\", \"Power Index FPI\"]]"
   ]
  },
  {
   "cell_type": "code",
   "execution_count": 50,
   "metadata": {},
   "outputs": [],
   "source": [
    "opponentDef = allTheStats.loc[:, [\"FINAL_TEAM_NAME\", 'Power Index DEF', \"GAMEID\"]]"
   ]
  },
  {
   "cell_type": "code",
   "execution_count": 78,
   "metadata": {},
   "outputs": [],
   "source": [
    "model_values=pd.merge(allTheStats2, opponentDef, left_on=[\"GAMEID\", \"Opponent\"], right_on=[\"GAMEID\", \"FINAL_TEAM_NAME\"], suffixes=(\"\", \"_Opp\"))"
   ]
  },
  {
   "cell_type": "code",
   "execution_count": 80,
   "metadata": {},
   "outputs": [],
   "source": [
    "model_values=model_values.loc[:, [\"TEAM_POINTS\", \"Power Index FPI\", 'Power Index OFF','Power Index DEF_Opp', 'Power Index ST', 'Ranks SOS', 'Ranks AVGWP']]"
   ]
  },
  {
   "cell_type": "code",
   "execution_count": 74,
   "metadata": {},
   "outputs": [
    {
     "name": "stdout",
     "output_type": "stream",
     "text": [
      "<class 'pandas.core.frame.DataFrame'>\n",
      "Int64Index: 2902 entries, 0 to 2901\n",
      "Data columns (total 7 columns):\n",
      " #   Column               Non-Null Count  Dtype  \n",
      "---  ------               --------------  -----  \n",
      " 0   TEAM_POINTS          2902 non-null   float64\n",
      " 1   Power Index FPI      2902 non-null   float64\n",
      " 2   Power Index OFF      2902 non-null   float64\n",
      " 3   Power Index DEF_Opp  2902 non-null   float64\n",
      " 4   Power Index ST       2902 non-null   float64\n",
      " 5   Ranks SOS            2902 non-null   float64\n",
      " 6   Ranks AVGWP          2902 non-null   float64\n",
      "dtypes: float64(7)\n",
      "memory usage: 181.4 KB\n"
     ]
    }
   ],
   "source": [
    "model_values.info()"
   ]
  },
  {
   "cell_type": "code",
   "execution_count": 79,
   "metadata": {},
   "outputs": [
    {
     "data": {
      "text/html": [
       "<div>\n",
       "<style scoped>\n",
       "    .dataframe tbody tr th:only-of-type {\n",
       "        vertical-align: middle;\n",
       "    }\n",
       "\n",
       "    .dataframe tbody tr th {\n",
       "        vertical-align: top;\n",
       "    }\n",
       "\n",
       "    .dataframe thead th {\n",
       "        text-align: right;\n",
       "    }\n",
       "</style>\n",
       "<table border=\"1\" class=\"dataframe\">\n",
       "  <thead>\n",
       "    <tr style=\"text-align: right;\">\n",
       "      <th></th>\n",
       "      <th>FINAL_TEAM_NAME</th>\n",
       "      <th>Power Index DEF</th>\n",
       "      <th>Power Index DEF_Opp</th>\n",
       "    </tr>\n",
       "  </thead>\n",
       "  <tbody>\n",
       "    <tr>\n",
       "      <th>0</th>\n",
       "      <td>Detroit Lions</td>\n",
       "      <td>-2.4</td>\n",
       "      <td>-2.7</td>\n",
       "    </tr>\n",
       "    <tr>\n",
       "      <th>1</th>\n",
       "      <td>Chicago Bears</td>\n",
       "      <td>-2.7</td>\n",
       "      <td>-2.4</td>\n",
       "    </tr>\n",
       "    <tr>\n",
       "      <th>2</th>\n",
       "      <td>Chicago Bears</td>\n",
       "      <td>-2.7</td>\n",
       "      <td>-2.4</td>\n",
       "    </tr>\n",
       "    <tr>\n",
       "      <th>3</th>\n",
       "      <td>Detroit Lions</td>\n",
       "      <td>-2.4</td>\n",
       "      <td>-2.7</td>\n",
       "    </tr>\n",
       "    <tr>\n",
       "      <th>4</th>\n",
       "      <td>Washington Redskins</td>\n",
       "      <td>-2.2</td>\n",
       "      <td>-2.7</td>\n",
       "    </tr>\n",
       "    <tr>\n",
       "      <th>...</th>\n",
       "      <td>...</td>\n",
       "      <td>...</td>\n",
       "      <td>...</td>\n",
       "    </tr>\n",
       "    <tr>\n",
       "      <th>2897</th>\n",
       "      <td>Kansas City Chiefs</td>\n",
       "      <td>1.0</td>\n",
       "      <td>-0.2</td>\n",
       "    </tr>\n",
       "    <tr>\n",
       "      <th>2898</th>\n",
       "      <td>Oakland Raiders</td>\n",
       "      <td>-3.4</td>\n",
       "      <td>1.3</td>\n",
       "    </tr>\n",
       "    <tr>\n",
       "      <th>2899</th>\n",
       "      <td>New England Patriots</td>\n",
       "      <td>1.3</td>\n",
       "      <td>-3.4</td>\n",
       "    </tr>\n",
       "    <tr>\n",
       "      <th>2900</th>\n",
       "      <td>Buffalo Bills</td>\n",
       "      <td>-0.2</td>\n",
       "      <td>-3.4</td>\n",
       "    </tr>\n",
       "    <tr>\n",
       "      <th>2901</th>\n",
       "      <td>Oakland Raiders</td>\n",
       "      <td>-3.4</td>\n",
       "      <td>-0.2</td>\n",
       "    </tr>\n",
       "  </tbody>\n",
       "</table>\n",
       "<p>2902 rows × 3 columns</p>\n",
       "</div>"
      ],
      "text/plain": [
       "           FINAL_TEAM_NAME  Power Index DEF  Power Index DEF_Opp\n",
       "0            Detroit Lions             -2.4                 -2.7\n",
       "1            Chicago Bears             -2.7                 -2.4\n",
       "2            Chicago Bears             -2.7                 -2.4\n",
       "3            Detroit Lions             -2.4                 -2.7\n",
       "4      Washington Redskins             -2.2                 -2.7\n",
       "...                    ...              ...                  ...\n",
       "2897    Kansas City Chiefs              1.0                 -0.2\n",
       "2898       Oakland Raiders             -3.4                  1.3\n",
       "2899  New England Patriots              1.3                 -3.4\n",
       "2900         Buffalo Bills             -0.2                 -3.4\n",
       "2901       Oakland Raiders             -3.4                 -0.2\n",
       "\n",
       "[2902 rows x 3 columns]"
      ]
     },
     "execution_count": 79,
     "metadata": {},
     "output_type": "execute_result"
    }
   ],
   "source": [
    "model_values.loc[:, [\"FINAL_TEAM_NAME\", 'Power Index DEF', 'Power Index DEF_Opp']]"
   ]
  },
  {
   "cell_type": "code",
   "execution_count": 87,
   "metadata": {},
   "outputs": [],
   "source": [
    "model_2 = sklearn.linear_model.LinearRegression(normalize=True)"
   ]
  },
  {
   "cell_type": "code",
   "execution_count": null,
   "metadata": {},
   "outputs": [],
   "source": []
  },
  {
   "cell_type": "code",
   "execution_count": 88,
   "metadata": {},
   "outputs": [],
   "source": [
    "X = model_values.iloc[:,1:].values\n",
    "y = model_values.iloc[:,0].values"
   ]
  },
  {
   "cell_type": "code",
   "execution_count": null,
   "metadata": {},
   "outputs": [],
   "source": []
  },
  {
   "cell_type": "code",
   "execution_count": 90,
   "metadata": {},
   "outputs": [],
   "source": [
    "X_train, X_test, y_train, y_test = train_test_split(X,y)\n",
    "#X_train = X_train.reshape(-1)\n",
    "#X_test = X_test.reshape(-1)\n",
    "y_train = y_train.reshape(-1, 1)\n",
    "y_test = y_test.reshape(-1, 1)"
   ]
  },
  {
   "cell_type": "code",
   "execution_count": 91,
   "metadata": {},
   "outputs": [
    {
     "data": {
      "text/plain": [
       "LinearRegression(copy_X=True, fit_intercept=True, n_jobs=None, normalize=True)"
      ]
     },
     "execution_count": 91,
     "metadata": {},
     "output_type": "execute_result"
    }
   ],
   "source": [
    "model_2.fit(X_train, y_train)"
   ]
  },
  {
   "cell_type": "code",
   "execution_count": 92,
   "metadata": {},
   "outputs": [
    {
     "data": {
      "text/plain": [
       "0.2117845417196058"
      ]
     },
     "execution_count": 92,
     "metadata": {},
     "output_type": "execute_result"
    }
   ],
   "source": [
    "#R_sq Score\n",
    "model_2.score(X_train, y_train)"
   ]
  },
  {
   "cell_type": "code",
   "execution_count": 93,
   "metadata": {},
   "outputs": [
    {
     "data": {
      "text/plain": [
       "0.19001364187854686"
      ]
     },
     "execution_count": 93,
     "metadata": {},
     "output_type": "execute_result"
    }
   ],
   "source": [
    "model_2.score(X_test, y_test)"
   ]
  },
  {
   "cell_type": "code",
   "execution_count": 94,
   "metadata": {},
   "outputs": [
    {
     "data": {
      "text/plain": [
       "array([24.06222075])"
      ]
     },
     "execution_count": 94,
     "metadata": {},
     "output_type": "execute_result"
    }
   ],
   "source": [
    "model_2.intercept_"
   ]
  },
  {
   "cell_type": "code",
   "execution_count": 95,
   "metadata": {},
   "outputs": [
    {
     "data": {
      "text/plain": [
       "array([[ 0.04133081,  0.67166743, -0.95707838,  0.47373876,  0.00707634,\n",
       "        -0.09042084]])"
      ]
     },
     "execution_count": 95,
     "metadata": {},
     "output_type": "execute_result"
    }
   ],
   "source": [
    "model_2.coef_"
   ]
  },
  {
   "cell_type": "code",
   "execution_count": 96,
   "metadata": {},
   "outputs": [],
   "source": [
    "y_pred = model_2.predict(X_test)"
   ]
  },
  {
   "cell_type": "code",
   "execution_count": 97,
   "metadata": {},
   "outputs": [],
   "source": [
    "sq_resid = (y_pred - y_test)**2"
   ]
  },
  {
   "cell_type": "code",
   "execution_count": 98,
   "metadata": {},
   "outputs": [
    {
     "data": {
      "text/plain": [
       "6.950467849849554"
      ]
     },
     "execution_count": 98,
     "metadata": {},
     "output_type": "execute_result"
    }
   ],
   "source": [
    "# The Mean Squared Error\n",
    "pd.Series(sq_resid.reshape(-1)).apply(math.sqrt).mean()"
   ]
  },
  {
   "cell_type": "code",
   "execution_count": 99,
   "metadata": {},
   "outputs": [],
   "source": [
    "# Grid Search\n",
    "from sklearn.model_selection import GridSearchCV\n",
    "params = {'fit_intercept':[True,False], 'normalize':[True,False], 'copy_X':[True, False]}\n",
    "grid = GridSearchCV(model_2, params, verbose=3)"
   ]
  },
  {
   "cell_type": "code",
   "execution_count": 100,
   "metadata": {},
   "outputs": [
    {
     "name": "stdout",
     "output_type": "stream",
     "text": [
      "Fitting 5 folds for each of 8 candidates, totalling 40 fits\n",
      "[CV] copy_X=True, fit_intercept=True, normalize=True .................\n",
      "[CV]  copy_X=True, fit_intercept=True, normalize=True, score=0.245, total=   0.0s\n",
      "[CV] copy_X=True, fit_intercept=True, normalize=True .................\n",
      "[CV]  copy_X=True, fit_intercept=True, normalize=True, score=0.191, total=   0.0s\n",
      "[CV] copy_X=True, fit_intercept=True, normalize=True .................\n",
      "[CV]  copy_X=True, fit_intercept=True, normalize=True, score=0.228, total=   0.0s\n",
      "[CV] copy_X=True, fit_intercept=True, normalize=True .................\n",
      "[CV]  copy_X=True, fit_intercept=True, normalize=True, score=0.209, total=   0.0s\n",
      "[CV] copy_X=True, fit_intercept=True, normalize=True .................\n",
      "[CV]  copy_X=True, fit_intercept=True, normalize=True, score=0.153, total=   0.0s\n",
      "[CV] copy_X=True, fit_intercept=True, normalize=False ................\n",
      "[CV]  copy_X=True, fit_intercept=True, normalize=False, score=0.245, total=   0.0s\n",
      "[CV] copy_X=True, fit_intercept=True, normalize=False ................\n",
      "[CV]  copy_X=True, fit_intercept=True, normalize=False, score=0.191, total=   0.0s\n",
      "[CV] copy_X=True, fit_intercept=True, normalize=False ................\n",
      "[CV]  copy_X=True, fit_intercept=True, normalize=False, score=0.228, total=   0.0s\n",
      "[CV] copy_X=True, fit_intercept=True, normalize=False ................\n",
      "[CV]  copy_X=True, fit_intercept=True, normalize=False, score=0.209, total=   0.0s\n",
      "[CV] copy_X=True, fit_intercept=True, normalize=False ................\n",
      "[CV]  copy_X=True, fit_intercept=True, normalize=False, score=0.153, total=   0.0s\n",
      "[CV] copy_X=True, fit_intercept=False, normalize=True ................\n",
      "[CV]  copy_X=True, fit_intercept=False, normalize=True, score=-0.053, total=   0.0s\n",
      "[CV] copy_X=True, fit_intercept=False, normalize=True ................\n",
      "[CV]  copy_X=True, fit_intercept=False, normalize=True, score=-0.160, total=   0.0s\n",
      "[CV] copy_X=True, fit_intercept=False, normalize=True ................\n",
      "[CV]  copy_X=True, fit_intercept=False, normalize=True, score=-0.086, total=   0.0s\n",
      "[CV] copy_X=True, fit_intercept=False, normalize=True ................\n",
      "[CV]  copy_X=True, fit_intercept=False, normalize=True, score=-0.063, total=   0.0s\n",
      "[CV] copy_X=True, fit_intercept=False, normalize=True ................\n",
      "[CV]  copy_X=True, fit_intercept=False, normalize=True, score=-0.107, total=   0.0s\n",
      "[CV] copy_X=True, fit_intercept=False, normalize=False ...............\n",
      "[CV]  copy_X=True, fit_intercept=False, normalize=False, score=-0.053, total=   0.0s\n",
      "[CV] copy_X=True, fit_intercept=False, normalize=False ...............\n",
      "[CV]  copy_X=True, fit_intercept=False, normalize=False, score=-0.160, total=   0.0s\n",
      "[CV] copy_X=True, fit_intercept=False, normalize=False ...............\n",
      "[CV]  copy_X=True, fit_intercept=False, normalize=False, score=-0.086, total=   0.0s\n",
      "[CV] copy_X=True, fit_intercept=False, normalize=False ...............\n",
      "[CV]  copy_X=True, fit_intercept=False, normalize=False, score=-0.063, total=   0.0s\n",
      "[CV] copy_X=True, fit_intercept=False, normalize=False ...............\n",
      "[CV]  copy_X=True, fit_intercept=False, normalize=False, score=-0.107, total=   0.0s\n",
      "[CV] copy_X=False, fit_intercept=True, normalize=True ................\n",
      "[CV]  copy_X=False, fit_intercept=True, normalize=True, score=0.245, total=   0.0s\n",
      "[CV] copy_X=False, fit_intercept=True, normalize=True ................\n",
      "[CV]  copy_X=False, fit_intercept=True, normalize=True, score=0.191, total=   0.0s\n",
      "[CV] copy_X=False, fit_intercept=True, normalize=True ................\n",
      "[CV]  copy_X=False, fit_intercept=True, normalize=True, score=0.228, total=   0.0s\n",
      "[CV] copy_X=False, fit_intercept=True, normalize=True ................\n",
      "[CV]  copy_X=False, fit_intercept=True, normalize=True, score=0.209, total=   0.0s\n",
      "[CV] copy_X=False, fit_intercept=True, normalize=True ................\n",
      "[CV]  copy_X=False, fit_intercept=True, normalize=True, score=0.153, total=   0.0s\n",
      "[CV] copy_X=False, fit_intercept=True, normalize=False ...............\n",
      "[CV]  copy_X=False, fit_intercept=True, normalize=False, score=0.245, total=   0.0s\n",
      "[CV] copy_X=False, fit_intercept=True, normalize=False ...............\n",
      "[CV]  copy_X=False, fit_intercept=True, normalize=False, score=0.191, total=   0.0s\n",
      "[CV] copy_X=False, fit_intercept=True, normalize=False ...............\n",
      "[CV]  copy_X=False, fit_intercept=True, normalize=False, score=0.228, total=   0.0s\n",
      "[CV] copy_X=False, fit_intercept=True, normalize=False ...............\n",
      "[CV]  copy_X=False, fit_intercept=True, normalize=False, score=0.209, total=   0.0s\n",
      "[CV] copy_X=False, fit_intercept=True, normalize=False ...............\n",
      "[CV]  copy_X=False, fit_intercept=True, normalize=False, score=0.153, total=   0.0s\n",
      "[CV] copy_X=False, fit_intercept=False, normalize=True ...............\n",
      "[CV]  copy_X=False, fit_intercept=False, normalize=True, score=-0.053, total=   0.0s\n",
      "[CV] copy_X=False, fit_intercept=False, normalize=True ...............\n",
      "[CV]  copy_X=False, fit_intercept=False, normalize=True, score=-0.160, total=   0.0s\n",
      "[CV] copy_X=False, fit_intercept=False, normalize=True ...............\n",
      "[CV]  copy_X=False, fit_intercept=False, normalize=True, score=-0.086, total=   0.0s\n",
      "[CV] copy_X=False, fit_intercept=False, normalize=True ...............\n",
      "[CV]  copy_X=False, fit_intercept=False, normalize=True, score=-0.063, total=   0.0s\n",
      "[CV] copy_X=False, fit_intercept=False, normalize=True ...............\n",
      "[CV]  copy_X=False, fit_intercept=False, normalize=True, score=-0.107, total=   0.0s\n",
      "[CV] copy_X=False, fit_intercept=False, normalize=False ..............\n",
      "[CV]  copy_X=False, fit_intercept=False, normalize=False, score=-0.053, total=   0.0s\n",
      "[CV] copy_X=False, fit_intercept=False, normalize=False ..............\n",
      "[CV]  copy_X=False, fit_intercept=False, normalize=False, score=-0.160, total=   0.0s\n",
      "[CV] copy_X=False, fit_intercept=False, normalize=False ..............\n",
      "[CV]  copy_X=False, fit_intercept=False, normalize=False, score=-0.086, total=   0.0s\n",
      "[CV] copy_X=False, fit_intercept=False, normalize=False ..............\n",
      "[CV]  copy_X=False, fit_intercept=False, normalize=False, score=-0.063, total=   0.0s\n",
      "[CV] copy_X=False, fit_intercept=False, normalize=False ..............\n",
      "[CV]  copy_X=False, fit_intercept=False, normalize=False, score=-0.107, total=   0.0s\n"
     ]
    },
    {
     "name": "stderr",
     "output_type": "stream",
     "text": [
      "[Parallel(n_jobs=1)]: Using backend SequentialBackend with 1 concurrent workers.\n",
      "[Parallel(n_jobs=1)]: Done   1 out of   1 | elapsed:    0.0s remaining:    0.0s\n",
      "[Parallel(n_jobs=1)]: Done   2 out of   2 | elapsed:    0.0s remaining:    0.0s\n",
      "[Parallel(n_jobs=1)]: Done  40 out of  40 | elapsed:    0.0s finished\n"
     ]
    },
    {
     "data": {
      "text/plain": [
       "GridSearchCV(cv=None, error_score=nan,\n",
       "             estimator=LinearRegression(copy_X=True, fit_intercept=True,\n",
       "                                        n_jobs=None, normalize=True),\n",
       "             iid='deprecated', n_jobs=None,\n",
       "             param_grid={'copy_X': [True, False],\n",
       "                         'fit_intercept': [True, False],\n",
       "                         'normalize': [True, False]},\n",
       "             pre_dispatch='2*n_jobs', refit=True, return_train_score=False,\n",
       "             scoring=None, verbose=3)"
      ]
     },
     "execution_count": 100,
     "metadata": {},
     "output_type": "execute_result"
    }
   ],
   "source": [
    "# Train the model with GridSearch\n",
    "grid.fit(X_train,y_train)"
   ]
  },
  {
   "cell_type": "code",
   "execution_count": 101,
   "metadata": {},
   "outputs": [
    {
     "data": {
      "text/plain": [
       "0.20522667173526582"
      ]
     },
     "execution_count": 101,
     "metadata": {},
     "output_type": "execute_result"
    }
   ],
   "source": [
    "grid.best_score_"
   ]
  },
  {
   "cell_type": "code",
   "execution_count": 102,
   "metadata": {},
   "outputs": [],
   "source": [
    "ys = grid.predict(X_test)"
   ]
  },
  {
   "cell_type": "code",
   "execution_count": 103,
   "metadata": {},
   "outputs": [],
   "source": [
    "resids = (ys - y_test)**2"
   ]
  },
  {
   "cell_type": "code",
   "execution_count": 104,
   "metadata": {},
   "outputs": [
    {
     "data": {
      "text/plain": [
       "6.950467849849554"
      ]
     },
     "execution_count": 104,
     "metadata": {},
     "output_type": "execute_result"
    }
   ],
   "source": [
    "pd.Series(resids.reshape(-1)).apply(math.sqrt).mean()"
   ]
  },
  {
   "cell_type": "code",
   "execution_count": 105,
   "metadata": {},
   "outputs": [],
   "source": [
    "from sklearn.metrics import r2_score"
   ]
  },
  {
   "cell_type": "code",
   "execution_count": 106,
   "metadata": {},
   "outputs": [
    {
     "data": {
      "text/plain": [
       "0.19001364187854686"
      ]
     },
     "execution_count": 106,
     "metadata": {},
     "output_type": "execute_result"
    }
   ],
   "source": [
    "r2_score(y_test, ys)"
   ]
  },
  {
   "cell_type": "markdown",
   "metadata": {},
   "source": [
    "## Model 3:\n",
    "### Past FPI and Introducing Yards and Turnovers"
   ]
  },
  {
   "cell_type": "code",
   "execution_count": 107,
   "metadata": {},
   "outputs": [
    {
     "data": {
      "text/plain": [
       "Index(['Unnamed: 0', 'Year', 'Week_x', 'Abbr_RDBMS_Winner', 'Week2', 'Day',\n",
       "       'Date', 'Time', 'Home_Team', 'FINAL_TEAM_NAME', 'Opponent',\n",
       "       'TEAM_POINTS', 'TEAM_YARDS', 'TEAM_TURNOVERS',\n",
       "       'TEAM_TURNOVER_DIFFERENTIAL', 'OPPONENTS_POINTS', 'OPPONENTS_YARDS',\n",
       "       'OPPONENTS_TURNOVERS', 'OPPONENTS_TURNOVER_DIFFERENTIAL',\n",
       "       'TEAM_POINT_MARGIN', 'GAMEID', 'BINARY_WIN', 'W-L-T', 'Power Index FPI',\n",
       "       'Power Index RK', 'Power Index TREND', 'Power Index OFF',\n",
       "       'Power Index DEF', 'Power Index ST', 'Ranks SOS', 'Ranks REM SOS',\n",
       "       'Ranks AVGWP', 'DIVISION_538_Winner', 'ELO WITH QB_538_Winner',\n",
       "       'ELO CHANGE_538_Winner', 'CURRENT QB ADJ_538_Winner',\n",
       "       'Points_Diff_538_Winner', 'Playoffs_Prob_538_Winner',\n",
       "       'Division_Prob_538_Winner', 'Bye_Prob_538_Winner', 'SB_Prob_538_Winner',\n",
       "       'REAL_WINS2_538_Winner', 'REAL_LOSSES2_538_Winner',\n",
       "       'REAL_TIES_538_Winner', 'PROJ_WINS4_538_Winner',\n",
       "       'PROJ_LOSS4_538_Winner', 'EPA/play_RDBMS_Winner',\n",
       "       'OVR_SUCCESS_RATE_RDBMS_Winner', 'Dropback EPA_RDBMS_Winner',\n",
       "       'DROPBACK_SR_RDBMS_Winner', 'Rush EPA_RDBMS_Winner',\n",
       "       'RUN_SR_RDBMS_Winner', 'TOTAL DVOA_FO_WEEKLY_Winner',\n",
       "       'LAST WEEK_FO_WEEKLY_Winner', 'DAVE_WEI_DVOA_FO_WEEKLY_Winner',\n",
       "       'OFFENSE DVOA_FO_WEEKLY_Winner', 'DEFENSE DVOA_FO_WEEKLY_Winner',\n",
       "       'S.T. DVOA_FO_WEEKLY_Winner', 'RK_FO_ANNUAL_Winner',\n",
       "       'TOTAL DVOA_FO_ANNUAL_Winner', 'DAVE_WEI_DVOA_FO_ANNUAL_Winner',\n",
       "       'OFFENSE DVOA_FO_ANNUAL_Winner', 'DEFENSE DVOA_FO_ANNUAL_Winner',\n",
       "       'S.T. DVOA_FO_ANNUAL_Winner', 'non-adj VOA_FO_ANNUAL_Winner',\n",
       "       'Last Year_FO_ANNUAL_Winner', 'ESTIM. WINS_FO_ANNUAL_Winner',\n",
       "       'SCHEDULE RANK_FO_ANNUAL_Winner', 'VAR._FO_ANNUAL_Winner',\n",
       "       'TOTAL_GAME_POINTS', 'TOTAL_GAME_YARDS', 'TOTAL_GAME_TURNOVERS',\n",
       "       'PLAYOFFS_BINARY', 'GAME_TYPE'],\n",
       "      dtype='object')"
      ]
     },
     "execution_count": 107,
     "metadata": {},
     "output_type": "execute_result"
    }
   ],
   "source": [
    "allTheStats2.columns"
   ]
  },
  {
   "cell_type": "code",
   "execution_count": 108,
   "metadata": {},
   "outputs": [],
   "source": [
    "opponentDef = allTheStats2.loc[:, [\"FINAL_TEAM_NAME\", 'Power Index DEF', \"GAMEID\"]]"
   ]
  },
  {
   "cell_type": "code",
   "execution_count": 109,
   "metadata": {},
   "outputs": [],
   "source": [
    "model_values=pd.merge(allTheStats2, opponentDef, left_on=[\"GAMEID\", \"Opponent\"], right_on=[\"GAMEID\", \"FINAL_TEAM_NAME\"], suffixes=(\"\", \"_Opp\"))"
   ]
  },
  {
   "cell_type": "code",
   "execution_count": 112,
   "metadata": {},
   "outputs": [],
   "source": [
    "allTheStats3=pd.merge(allTheStats2, opponentDef, left_on=[\"GAMEID\", \"Opponent\"], right_on=[\"GAMEID\", \"FINAL_TEAM_NAME\"], suffixes=(\"\", \"_Opp\"))"
   ]
  },
  {
   "cell_type": "code",
   "execution_count": 110,
   "metadata": {},
   "outputs": [],
   "source": [
    "model_values=model_values.loc[:, [\"TEAM_POINTS\", \"Power Index FPI\", 'Power Index OFF','Power Index DEF_Opp', 'Power Index ST', 'Ranks SOS', 'Ranks AVGWP',\n",
    "                                 \"TEAM_YARDS\", \"TEAM_TURNOVERS\"]]"
   ]
  },
  {
   "cell_type": "code",
   "execution_count": 111,
   "metadata": {},
   "outputs": [
    {
     "name": "stdout",
     "output_type": "stream",
     "text": [
      "<class 'pandas.core.frame.DataFrame'>\n",
      "Int64Index: 2902 entries, 0 to 2901\n",
      "Data columns (total 9 columns):\n",
      " #   Column               Non-Null Count  Dtype  \n",
      "---  ------               --------------  -----  \n",
      " 0   TEAM_POINTS          2902 non-null   float64\n",
      " 1   Power Index FPI      2902 non-null   float64\n",
      " 2   Power Index OFF      2902 non-null   float64\n",
      " 3   Power Index DEF_Opp  2902 non-null   float64\n",
      " 4   Power Index ST       2902 non-null   float64\n",
      " 5   Ranks SOS            2902 non-null   float64\n",
      " 6   Ranks AVGWP          2902 non-null   float64\n",
      " 7   TEAM_YARDS           2902 non-null   float64\n",
      " 8   TEAM_TURNOVERS       2902 non-null   float64\n",
      "dtypes: float64(9)\n",
      "memory usage: 226.7 KB\n"
     ]
    }
   ],
   "source": [
    "model_values.info()"
   ]
  },
  {
   "cell_type": "code",
   "execution_count": null,
   "metadata": {},
   "outputs": [],
   "source": []
  },
  {
   "cell_type": "code",
   "execution_count": 113,
   "metadata": {},
   "outputs": [],
   "source": [
    "model_3 = sklearn.linear_model.LinearRegression(normalize=True)"
   ]
  },
  {
   "cell_type": "code",
   "execution_count": null,
   "metadata": {},
   "outputs": [],
   "source": []
  },
  {
   "cell_type": "code",
   "execution_count": 114,
   "metadata": {},
   "outputs": [],
   "source": [
    "X = model_values.iloc[:,1:].values\n",
    "y = model_values.iloc[:,0].values"
   ]
  },
  {
   "cell_type": "code",
   "execution_count": null,
   "metadata": {},
   "outputs": [],
   "source": []
  },
  {
   "cell_type": "code",
   "execution_count": 118,
   "metadata": {},
   "outputs": [],
   "source": [
    "X_train, X_test, y_train, y_test = train_test_split(X,y)\n",
    "#X_train = X_train.reshape(-1)\n",
    "#X_test = X_test.reshape(-1)\n",
    "y_train = y_train.reshape(-1, 1)\n",
    "y_test = y_test.reshape(-1, 1)"
   ]
  },
  {
   "cell_type": "code",
   "execution_count": 120,
   "metadata": {},
   "outputs": [
    {
     "data": {
      "text/plain": [
       "LinearRegression(copy_X=True, fit_intercept=True, n_jobs=None, normalize=True)"
      ]
     },
     "execution_count": 120,
     "metadata": {},
     "output_type": "execute_result"
    }
   ],
   "source": [
    "model_3.fit(X_train, y_train)"
   ]
  },
  {
   "cell_type": "code",
   "execution_count": 121,
   "metadata": {},
   "outputs": [
    {
     "data": {
      "text/plain": [
       "0.4887859670361537"
      ]
     },
     "execution_count": 121,
     "metadata": {},
     "output_type": "execute_result"
    }
   ],
   "source": [
    "#R_sq Score\n",
    "model_3.score(X_train, y_train)"
   ]
  },
  {
   "cell_type": "code",
   "execution_count": 122,
   "metadata": {},
   "outputs": [
    {
     "data": {
      "text/plain": [
       "0.5273383363155932"
      ]
     },
     "execution_count": 122,
     "metadata": {},
     "output_type": "execute_result"
    }
   ],
   "source": [
    "model_3.score(X_test, y_test)"
   ]
  },
  {
   "cell_type": "code",
   "execution_count": 123,
   "metadata": {},
   "outputs": [
    {
     "data": {
      "text/plain": [
       "array([4.07569457])"
      ]
     },
     "execution_count": 123,
     "metadata": {},
     "output_type": "execute_result"
    }
   ],
   "source": [
    "model_3.intercept_"
   ]
  },
  {
   "cell_type": "code",
   "execution_count": 124,
   "metadata": {},
   "outputs": [
    {
     "data": {
      "text/plain": [
       "array([[ 0.08343974,  0.11082988, -0.34514904,  0.36145503,  0.01845262,\n",
       "        -0.08814872,  0.0644413 , -1.81601954]])"
      ]
     },
     "execution_count": 124,
     "metadata": {},
     "output_type": "execute_result"
    }
   ],
   "source": [
    "model_3.coef_"
   ]
  },
  {
   "cell_type": "code",
   "execution_count": 125,
   "metadata": {},
   "outputs": [],
   "source": [
    "y_pred = model_3.predict(X_test)"
   ]
  },
  {
   "cell_type": "code",
   "execution_count": 126,
   "metadata": {},
   "outputs": [],
   "source": [
    "sq_resid = (y_pred - y_test)**2"
   ]
  },
  {
   "cell_type": "code",
   "execution_count": 127,
   "metadata": {},
   "outputs": [
    {
     "data": {
      "text/plain": [
       "5.284216415845227"
      ]
     },
     "execution_count": 127,
     "metadata": {},
     "output_type": "execute_result"
    }
   ],
   "source": [
    "# The Mean Squared Error\n",
    "pd.Series(sq_resid.reshape(-1)).apply(math.sqrt).mean()"
   ]
  },
  {
   "cell_type": "code",
   "execution_count": 128,
   "metadata": {},
   "outputs": [],
   "source": [
    "# Grid Search\n",
    "from sklearn.model_selection import GridSearchCV\n",
    "params = {'fit_intercept':[True,False], 'normalize':[True,False], 'copy_X':[True, False]}\n",
    "grid = GridSearchCV(model_3, params, verbose=3)"
   ]
  },
  {
   "cell_type": "code",
   "execution_count": 129,
   "metadata": {},
   "outputs": [
    {
     "name": "stdout",
     "output_type": "stream",
     "text": [
      "Fitting 5 folds for each of 8 candidates, totalling 40 fits\n",
      "[CV] copy_X=True, fit_intercept=True, normalize=True .................\n",
      "[CV]  copy_X=True, fit_intercept=True, normalize=True, score=0.401, total=   0.0s\n",
      "[CV] copy_X=True, fit_intercept=True, normalize=True .................\n",
      "[CV]  copy_X=True, fit_intercept=True, normalize=True, score=0.495, total=   0.0s\n",
      "[CV] copy_X=True, fit_intercept=True, normalize=True .................\n",
      "[CV]  copy_X=True, fit_intercept=True, normalize=True, score=0.477, total=   0.0s\n",
      "[CV] copy_X=True, fit_intercept=True, normalize=True .................\n",
      "[CV]  copy_X=True, fit_intercept=True, normalize=True, score=0.508, total=   0.0s\n",
      "[CV] copy_X=True, fit_intercept=True, normalize=True .................\n",
      "[CV]  copy_X=True, fit_intercept=True, normalize=True, score=0.513, total=   0.0s\n",
      "[CV] copy_X=True, fit_intercept=True, normalize=False ................\n",
      "[CV]  copy_X=True, fit_intercept=True, normalize=False, score=0.401, total=   0.0s\n",
      "[CV] copy_X=True, fit_intercept=True, normalize=False ................\n",
      "[CV]  copy_X=True, fit_intercept=True, normalize=False, score=0.495, total=   0.0s\n",
      "[CV] copy_X=True, fit_intercept=True, normalize=False ................\n",
      "[CV]  copy_X=True, fit_intercept=True, normalize=False, score=0.477, total=   0.0s\n",
      "[CV] copy_X=True, fit_intercept=True, normalize=False ................\n",
      "[CV]  copy_X=True, fit_intercept=True, normalize=False, score=0.508, total=   0.0s\n",
      "[CV] copy_X=True, fit_intercept=True, normalize=False ................\n",
      "[CV]  copy_X=True, fit_intercept=True, normalize=False, score=0.513, total=   0.0s\n",
      "[CV] copy_X=True, fit_intercept=False, normalize=True ................\n",
      "[CV]  copy_X=True, fit_intercept=False, normalize=True, score=0.392, total=   0.0s\n",
      "[CV] copy_X=True, fit_intercept=False, normalize=True ................\n",
      "[CV]  copy_X=True, fit_intercept=False, normalize=True, score=0.493, total=   0.0s\n",
      "[CV] copy_X=True, fit_intercept=False, normalize=True ................\n",
      "[CV]  copy_X=True, fit_intercept=False, normalize=True, score=0.470, total=   0.0s\n",
      "[CV] copy_X=True, fit_intercept=False, normalize=True ................\n",
      "[CV]  copy_X=True, fit_intercept=False, normalize=True, score=0.504, total=   0.0s\n",
      "[CV] copy_X=True, fit_intercept=False, normalize=True ................\n",
      "[CV]  copy_X=True, fit_intercept=False, normalize=True, score=0.514, total=   0.0s\n",
      "[CV] copy_X=True, fit_intercept=False, normalize=False ...............\n",
      "[CV]  copy_X=True, fit_intercept=False, normalize=False, score=0.392, total=   0.0s\n",
      "[CV] copy_X=True, fit_intercept=False, normalize=False ...............\n",
      "[CV]  copy_X=True, fit_intercept=False, normalize=False, score=0.493, total=   0.0s\n",
      "[CV] copy_X=True, fit_intercept=False, normalize=False ...............\n",
      "[CV]  copy_X=True, fit_intercept=False, normalize=False, score=0.470, total=   0.0s\n",
      "[CV] copy_X=True, fit_intercept=False, normalize=False ...............\n",
      "[CV]  copy_X=True, fit_intercept=False, normalize=False, score=0.504, total=   0.0s\n",
      "[CV] copy_X=True, fit_intercept=False, normalize=False ...............\n",
      "[CV]  copy_X=True, fit_intercept=False, normalize=False, score=0.514, total=   0.0s\n",
      "[CV] copy_X=False, fit_intercept=True, normalize=True ................\n",
      "[CV]  copy_X=False, fit_intercept=True, normalize=True, score=0.401, total=   0.0s\n",
      "[CV] copy_X=False, fit_intercept=True, normalize=True ................\n",
      "[CV]  copy_X=False, fit_intercept=True, normalize=True, score=0.495, total=   0.0s\n",
      "[CV] copy_X=False, fit_intercept=True, normalize=True ................\n",
      "[CV]  copy_X=False, fit_intercept=True, normalize=True, score=0.477, total=   0.0s\n",
      "[CV] copy_X=False, fit_intercept=True, normalize=True ................\n",
      "[CV]  copy_X=False, fit_intercept=True, normalize=True, score=0.508, total=   0.0s\n",
      "[CV] copy_X=False, fit_intercept=True, normalize=True ................\n",
      "[CV]  copy_X=False, fit_intercept=True, normalize=True, score=0.513, total=   0.0s\n",
      "[CV] copy_X=False, fit_intercept=True, normalize=False ...............\n",
      "[CV]  copy_X=False, fit_intercept=True, normalize=False, score=0.401, total=   0.0s\n",
      "[CV] copy_X=False, fit_intercept=True, normalize=False ...............\n",
      "[CV]  copy_X=False, fit_intercept=True, normalize=False, score=0.495, total=   0.0s\n",
      "[CV] copy_X=False, fit_intercept=True, normalize=False ...............\n",
      "[CV]  copy_X=False, fit_intercept=True, normalize=False, score=0.477, total=   0.0s\n",
      "[CV] copy_X=False, fit_intercept=True, normalize=False ...............\n",
      "[CV]  copy_X=False, fit_intercept=True, normalize=False, score=0.508, total=   0.0s\n",
      "[CV] copy_X=False, fit_intercept=True, normalize=False ...............\n",
      "[CV]  copy_X=False, fit_intercept=True, normalize=False, score=0.513, total=   0.0s\n",
      "[CV] copy_X=False, fit_intercept=False, normalize=True ...............\n",
      "[CV]  copy_X=False, fit_intercept=False, normalize=True, score=0.392, total=   0.0s\n",
      "[CV] copy_X=False, fit_intercept=False, normalize=True ...............\n",
      "[CV]  copy_X=False, fit_intercept=False, normalize=True, score=0.493, total=   0.0s\n",
      "[CV] copy_X=False, fit_intercept=False, normalize=True ...............\n",
      "[CV]  copy_X=False, fit_intercept=False, normalize=True, score=0.470, total=   0.0s\n",
      "[CV] copy_X=False, fit_intercept=False, normalize=True ...............\n",
      "[CV]  copy_X=False, fit_intercept=False, normalize=True, score=0.504, total=   0.0s\n",
      "[CV] copy_X=False, fit_intercept=False, normalize=True ...............\n",
      "[CV]  copy_X=False, fit_intercept=False, normalize=True, score=0.514, total=   0.0s\n",
      "[CV] copy_X=False, fit_intercept=False, normalize=False ..............\n",
      "[CV]  copy_X=False, fit_intercept=False, normalize=False, score=0.392, total=   0.0s\n",
      "[CV] copy_X=False, fit_intercept=False, normalize=False ..............\n",
      "[CV]  copy_X=False, fit_intercept=False, normalize=False, score=0.493, total=   0.0s\n",
      "[CV] copy_X=False, fit_intercept=False, normalize=False ..............\n",
      "[CV]  copy_X=False, fit_intercept=False, normalize=False, score=0.470, total=   0.0s\n",
      "[CV] copy_X=False, fit_intercept=False, normalize=False ..............\n",
      "[CV]  copy_X=False, fit_intercept=False, normalize=False, score=0.504, total=   0.0s\n",
      "[CV] copy_X=False, fit_intercept=False, normalize=False ..............\n",
      "[CV]  copy_X=False, fit_intercept=False, normalize=False, score=0.514, total=   0.0s\n"
     ]
    },
    {
     "name": "stderr",
     "output_type": "stream",
     "text": [
      "[Parallel(n_jobs=1)]: Using backend SequentialBackend with 1 concurrent workers.\n",
      "[Parallel(n_jobs=1)]: Done   1 out of   1 | elapsed:    0.0s remaining:    0.0s\n",
      "[Parallel(n_jobs=1)]: Done   2 out of   2 | elapsed:    0.0s remaining:    0.0s\n",
      "[Parallel(n_jobs=1)]: Done  40 out of  40 | elapsed:    0.0s finished\n"
     ]
    },
    {
     "data": {
      "text/plain": [
       "GridSearchCV(cv=None, error_score=nan,\n",
       "             estimator=LinearRegression(copy_X=True, fit_intercept=True,\n",
       "                                        n_jobs=None, normalize=True),\n",
       "             iid='deprecated', n_jobs=None,\n",
       "             param_grid={'copy_X': [True, False],\n",
       "                         'fit_intercept': [True, False],\n",
       "                         'normalize': [True, False]},\n",
       "             pre_dispatch='2*n_jobs', refit=True, return_train_score=False,\n",
       "             scoring=None, verbose=3)"
      ]
     },
     "execution_count": 129,
     "metadata": {},
     "output_type": "execute_result"
    }
   ],
   "source": [
    "# Train the model with GridSearch\n",
    "grid.fit(X_train,y_train)"
   ]
  },
  {
   "cell_type": "code",
   "execution_count": 130,
   "metadata": {},
   "outputs": [
    {
     "data": {
      "text/plain": [
       "0.4785656440179504"
      ]
     },
     "execution_count": 130,
     "metadata": {},
     "output_type": "execute_result"
    }
   ],
   "source": [
    "grid.best_score_"
   ]
  },
  {
   "cell_type": "code",
   "execution_count": 131,
   "metadata": {},
   "outputs": [],
   "source": [
    "ys = grid.predict(X_test)"
   ]
  },
  {
   "cell_type": "code",
   "execution_count": 132,
   "metadata": {},
   "outputs": [],
   "source": [
    "resids = (ys - y_test)**2"
   ]
  },
  {
   "cell_type": "code",
   "execution_count": 133,
   "metadata": {},
   "outputs": [
    {
     "data": {
      "text/plain": [
       "5.284216415845227"
      ]
     },
     "execution_count": 133,
     "metadata": {},
     "output_type": "execute_result"
    }
   ],
   "source": [
    "pd.Series(resids.reshape(-1)).apply(math.sqrt).mean()"
   ]
  },
  {
   "cell_type": "code",
   "execution_count": 134,
   "metadata": {},
   "outputs": [],
   "source": [
    "from sklearn.metrics import r2_score"
   ]
  },
  {
   "cell_type": "code",
   "execution_count": 135,
   "metadata": {},
   "outputs": [
    {
     "data": {
      "text/plain": [
       "0.5273383363155932"
      ]
     },
     "execution_count": 135,
     "metadata": {},
     "output_type": "execute_result"
    }
   ],
   "source": [
    "r2_score(y_test, ys)"
   ]
  },
  {
   "cell_type": "markdown",
   "metadata": {},
   "source": [
    "## Model 4:\n",
    "### Could A Classifier Work For a Regression Problem (Random Forest)"
   ]
  },
  {
   "cell_type": "code",
   "execution_count": 136,
   "metadata": {},
   "outputs": [
    {
     "data": {
      "text/plain": [
       "Index(['Unnamed: 0', 'Year', 'Week_x', 'Abbr_RDBMS_Winner', 'Week2', 'Day',\n",
       "       'Date', 'Time', 'Home_Team', 'FINAL_TEAM_NAME', 'Opponent',\n",
       "       'TEAM_POINTS', 'TEAM_YARDS', 'TEAM_TURNOVERS',\n",
       "       'TEAM_TURNOVER_DIFFERENTIAL', 'OPPONENTS_POINTS', 'OPPONENTS_YARDS',\n",
       "       'OPPONENTS_TURNOVERS', 'OPPONENTS_TURNOVER_DIFFERENTIAL',\n",
       "       'TEAM_POINT_MARGIN', 'GAMEID', 'BINARY_WIN', 'W-L-T', 'Power Index FPI',\n",
       "       'Power Index RK', 'Power Index TREND', 'Power Index OFF',\n",
       "       'Power Index DEF', 'Power Index ST', 'Ranks SOS', 'Ranks REM SOS',\n",
       "       'Ranks AVGWP', 'DIVISION_538_Winner', 'ELO WITH QB_538_Winner',\n",
       "       'ELO CHANGE_538_Winner', 'CURRENT QB ADJ_538_Winner',\n",
       "       'Points_Diff_538_Winner', 'Playoffs_Prob_538_Winner',\n",
       "       'Division_Prob_538_Winner', 'Bye_Prob_538_Winner', 'SB_Prob_538_Winner',\n",
       "       'REAL_WINS2_538_Winner', 'REAL_LOSSES2_538_Winner',\n",
       "       'REAL_TIES_538_Winner', 'PROJ_WINS4_538_Winner',\n",
       "       'PROJ_LOSS4_538_Winner', 'EPA/play_RDBMS_Winner',\n",
       "       'OVR_SUCCESS_RATE_RDBMS_Winner', 'Dropback EPA_RDBMS_Winner',\n",
       "       'DROPBACK_SR_RDBMS_Winner', 'Rush EPA_RDBMS_Winner',\n",
       "       'RUN_SR_RDBMS_Winner', 'TOTAL DVOA_FO_WEEKLY_Winner',\n",
       "       'LAST WEEK_FO_WEEKLY_Winner', 'DAVE_WEI_DVOA_FO_WEEKLY_Winner',\n",
       "       'OFFENSE DVOA_FO_WEEKLY_Winner', 'DEFENSE DVOA_FO_WEEKLY_Winner',\n",
       "       'S.T. DVOA_FO_WEEKLY_Winner', 'RK_FO_ANNUAL_Winner',\n",
       "       'TOTAL DVOA_FO_ANNUAL_Winner', 'DAVE_WEI_DVOA_FO_ANNUAL_Winner',\n",
       "       'OFFENSE DVOA_FO_ANNUAL_Winner', 'DEFENSE DVOA_FO_ANNUAL_Winner',\n",
       "       'S.T. DVOA_FO_ANNUAL_Winner', 'non-adj VOA_FO_ANNUAL_Winner',\n",
       "       'Last Year_FO_ANNUAL_Winner', 'ESTIM. WINS_FO_ANNUAL_Winner',\n",
       "       'SCHEDULE RANK_FO_ANNUAL_Winner', 'VAR._FO_ANNUAL_Winner',\n",
       "       'TOTAL_GAME_POINTS', 'TOTAL_GAME_YARDS', 'TOTAL_GAME_TURNOVERS',\n",
       "       'PLAYOFFS_BINARY', 'GAME_TYPE', 'FINAL_TEAM_NAME_Opp',\n",
       "       'Power Index DEF_Opp'],\n",
       "      dtype='object')"
      ]
     },
     "execution_count": 136,
     "metadata": {},
     "output_type": "execute_result"
    }
   ],
   "source": [
    "allTheStats3.columns"
   ]
  },
  {
   "cell_type": "code",
   "execution_count": 137,
   "metadata": {},
   "outputs": [],
   "source": [
    "model_values=allTheStats3.loc[:, [\"TEAM_POINTS\", \"Power Index FPI\", 'Power Index OFF','Power Index DEF_Opp', 'Power Index ST', 'Ranks SOS', 'Ranks AVGWP',\n",
    "                                 \"TEAM_YARDS\", \"TEAM_TURNOVERS\"]]"
   ]
  },
  {
   "cell_type": "code",
   "execution_count": 138,
   "metadata": {},
   "outputs": [
    {
     "name": "stdout",
     "output_type": "stream",
     "text": [
      "<class 'pandas.core.frame.DataFrame'>\n",
      "Int64Index: 2902 entries, 0 to 2901\n",
      "Data columns (total 9 columns):\n",
      " #   Column               Non-Null Count  Dtype  \n",
      "---  ------               --------------  -----  \n",
      " 0   TEAM_POINTS          2902 non-null   float64\n",
      " 1   Power Index FPI      2902 non-null   float64\n",
      " 2   Power Index OFF      2902 non-null   float64\n",
      " 3   Power Index DEF_Opp  2902 non-null   float64\n",
      " 4   Power Index ST       2902 non-null   float64\n",
      " 5   Ranks SOS            2902 non-null   float64\n",
      " 6   Ranks AVGWP          2902 non-null   float64\n",
      " 7   TEAM_YARDS           2902 non-null   float64\n",
      " 8   TEAM_TURNOVERS       2902 non-null   float64\n",
      "dtypes: float64(9)\n",
      "memory usage: 226.7 KB\n"
     ]
    }
   ],
   "source": [
    "model_values.info()"
   ]
  },
  {
   "cell_type": "code",
   "execution_count": 139,
   "metadata": {},
   "outputs": [],
   "source": [
    "from sklearn.ensemble import RandomForestClassifier"
   ]
  },
  {
   "cell_type": "code",
   "execution_count": 140,
   "metadata": {},
   "outputs": [],
   "source": [
    "rf = RandomForestClassifier(n_estimators=4000, criterion=\"entropy\", max_depth=5)"
   ]
  },
  {
   "cell_type": "code",
   "execution_count": null,
   "metadata": {},
   "outputs": [],
   "source": []
  },
  {
   "cell_type": "code",
   "execution_count": 141,
   "metadata": {},
   "outputs": [],
   "source": [
    "X = model_values.iloc[:,1:].values\n",
    "y = model_values.iloc[:,0].values"
   ]
  },
  {
   "cell_type": "code",
   "execution_count": null,
   "metadata": {},
   "outputs": [],
   "source": []
  },
  {
   "cell_type": "code",
   "execution_count": 142,
   "metadata": {},
   "outputs": [],
   "source": [
    "X_train, X_test, y_train, y_test = train_test_split(X,y)\n",
    "#X_train = X_train.reshape(-1)\n",
    "#X_test = X_test.reshape(-1)\n",
    "y_train = y_train.reshape(-1, 1)\n",
    "y_test = y_test.reshape(-1, 1)"
   ]
  },
  {
   "cell_type": "code",
   "execution_count": 143,
   "metadata": {},
   "outputs": [
    {
     "name": "stderr",
     "output_type": "stream",
     "text": [
      "C:\\Users\\Kyle\\anaconda3\\lib\\site-packages\\ipykernel_launcher.py:1: DataConversionWarning: A column-vector y was passed when a 1d array was expected. Please change the shape of y to (n_samples,), for example using ravel().\n",
      "  \"\"\"Entry point for launching an IPython kernel.\n"
     ]
    },
    {
     "data": {
      "text/plain": [
       "RandomForestClassifier(bootstrap=True, ccp_alpha=0.0, class_weight=None,\n",
       "                       criterion='entropy', max_depth=5, max_features='auto',\n",
       "                       max_leaf_nodes=None, max_samples=None,\n",
       "                       min_impurity_decrease=0.0, min_impurity_split=None,\n",
       "                       min_samples_leaf=1, min_samples_split=2,\n",
       "                       min_weight_fraction_leaf=0.0, n_estimators=4000,\n",
       "                       n_jobs=None, oob_score=False, random_state=None,\n",
       "                       verbose=0, warm_start=False)"
      ]
     },
     "execution_count": 143,
     "metadata": {},
     "output_type": "execute_result"
    }
   ],
   "source": [
    "rf.fit(X_train, y_train)"
   ]
  },
  {
   "cell_type": "code",
   "execution_count": 144,
   "metadata": {},
   "outputs": [
    {
     "data": {
      "text/plain": [
       "0.25505514705882354"
      ]
     },
     "execution_count": 144,
     "metadata": {},
     "output_type": "execute_result"
    }
   ],
   "source": [
    "#R_sq Score\n",
    "rf.score(X_train, y_train)"
   ]
  },
  {
   "cell_type": "code",
   "execution_count": 145,
   "metadata": {},
   "outputs": [
    {
     "data": {
      "text/plain": [
       "0.08677685950413223"
      ]
     },
     "execution_count": 145,
     "metadata": {},
     "output_type": "execute_result"
    }
   ],
   "source": [
    "rf.score(X_test, y_test)"
   ]
  },
  {
   "cell_type": "code",
   "execution_count": 146,
   "metadata": {},
   "outputs": [
    {
     "data": {
      "text/plain": [
       "array([ 0.,  3.,  5.,  6.,  7.,  8.,  9., 10., 11., 12., 13., 14., 15.,\n",
       "       16., 17., 18., 19., 20., 21., 22., 23., 24., 25., 26., 27., 28.,\n",
       "       29., 30., 31., 32., 33., 34., 35., 36., 37., 38., 39., 40., 41.,\n",
       "       42., 43., 44., 45., 46., 47., 48., 49., 51., 52., 54., 55., 57.,\n",
       "       59.])"
      ]
     },
     "execution_count": 146,
     "metadata": {},
     "output_type": "execute_result"
    }
   ],
   "source": [
    "rf.classes_"
   ]
  },
  {
   "cell_type": "code",
   "execution_count": null,
   "metadata": {},
   "outputs": [],
   "source": []
  },
  {
   "cell_type": "code",
   "execution_count": 152,
   "metadata": {},
   "outputs": [],
   "source": [
    "y_pred = rf.predict(X_test)"
   ]
  },
  {
   "cell_type": "code",
   "execution_count": 153,
   "metadata": {},
   "outputs": [],
   "source": [
    "sq_resid = (y_pred - y_test)**2"
   ]
  },
  {
   "cell_type": "code",
   "execution_count": 154,
   "metadata": {},
   "outputs": [
    {
     "data": {
      "text/plain": [
       "9.420603480333007"
      ]
     },
     "execution_count": 154,
     "metadata": {},
     "output_type": "execute_result"
    }
   ],
   "source": [
    "# The Mean Squared Error\n",
    "pd.Series(sq_resid.reshape(-1)).apply(math.sqrt).mean()"
   ]
  },
  {
   "cell_type": "code",
   "execution_count": 155,
   "metadata": {},
   "outputs": [],
   "source": [
    "## STOP POINT FOR RF ##"
   ]
  },
  {
   "cell_type": "code",
   "execution_count": 162,
   "metadata": {},
   "outputs": [],
   "source": [
    "from sklearn.model_selection import RandomizedSearchCV"
   ]
  },
  {
   "cell_type": "code",
   "execution_count": 163,
   "metadata": {},
   "outputs": [],
   "source": [
    "# Grid Search\n",
    "from sklearn.model_selection import RandomizedSearchCV\n",
    "params = {'n_estimators':[4,40,400,4000,8000], 'criterion':[\"gini\", \"entropy\"], \"max_depth\":[2, 5, 10]}\n",
    "grid = RandomizedSearchCV(rf, params, verbose=3)"
   ]
  },
  {
   "cell_type": "code",
   "execution_count": 164,
   "metadata": {
    "scrolled": true
   },
   "outputs": [
    {
     "name": "stdout",
     "output_type": "stream",
     "text": [
      "Fitting 5 folds for each of 10 candidates, totalling 50 fits\n",
      "[CV] n_estimators=4000, max_depth=2, criterion=entropy ...............\n"
     ]
    },
    {
     "name": "stderr",
     "output_type": "stream",
     "text": [
      "C:\\Users\\Kyle\\anaconda3\\lib\\site-packages\\sklearn\\model_selection\\_split.py:667: UserWarning: The least populated class in y has only 1 members, which is less than n_splits=5.\n",
      "  % (min_groups, self.n_splits)), UserWarning)\n",
      "[Parallel(n_jobs=1)]: Using backend SequentialBackend with 1 concurrent workers.\n",
      "C:\\Users\\Kyle\\anaconda3\\lib\\site-packages\\sklearn\\model_selection\\_validation.py:515: DataConversionWarning: A column-vector y was passed when a 1d array was expected. Please change the shape of y to (n_samples,), for example using ravel().\n",
      "  estimator.fit(X_train, y_train, **fit_params)\n"
     ]
    },
    {
     "name": "stdout",
     "output_type": "stream",
     "text": [
      "[CV]  n_estimators=4000, max_depth=2, criterion=entropy, score=0.078, total=  29.3s\n",
      "[CV] n_estimators=4000, max_depth=2, criterion=entropy ...............\n"
     ]
    },
    {
     "name": "stderr",
     "output_type": "stream",
     "text": [
      "[Parallel(n_jobs=1)]: Done   1 out of   1 | elapsed:   29.2s remaining:    0.0s\n",
      "C:\\Users\\Kyle\\anaconda3\\lib\\site-packages\\sklearn\\model_selection\\_validation.py:515: DataConversionWarning: A column-vector y was passed when a 1d array was expected. Please change the shape of y to (n_samples,), for example using ravel().\n",
      "  estimator.fit(X_train, y_train, **fit_params)\n"
     ]
    },
    {
     "name": "stdout",
     "output_type": "stream",
     "text": [
      "[CV]  n_estimators=4000, max_depth=2, criterion=entropy, score=0.078, total=  31.3s\n",
      "[CV] n_estimators=4000, max_depth=2, criterion=entropy ...............\n"
     ]
    },
    {
     "name": "stderr",
     "output_type": "stream",
     "text": [
      "[Parallel(n_jobs=1)]: Done   2 out of   2 | elapsed:  1.0min remaining:    0.0s\n",
      "C:\\Users\\Kyle\\anaconda3\\lib\\site-packages\\sklearn\\model_selection\\_validation.py:515: DataConversionWarning: A column-vector y was passed when a 1d array was expected. Please change the shape of y to (n_samples,), for example using ravel().\n",
      "  estimator.fit(X_train, y_train, **fit_params)\n"
     ]
    },
    {
     "name": "stdout",
     "output_type": "stream",
     "text": [
      "[CV]  n_estimators=4000, max_depth=2, criterion=entropy, score=0.085, total=   7.2s\n",
      "[CV] n_estimators=4000, max_depth=2, criterion=entropy ...............\n"
     ]
    },
    {
     "name": "stderr",
     "output_type": "stream",
     "text": [
      "C:\\Users\\Kyle\\anaconda3\\lib\\site-packages\\sklearn\\model_selection\\_validation.py:515: DataConversionWarning: A column-vector y was passed when a 1d array was expected. Please change the shape of y to (n_samples,), for example using ravel().\n",
      "  estimator.fit(X_train, y_train, **fit_params)\n"
     ]
    },
    {
     "name": "stdout",
     "output_type": "stream",
     "text": [
      "[CV]  n_estimators=4000, max_depth=2, criterion=entropy, score=0.094, total=   7.3s\n",
      "[CV] n_estimators=4000, max_depth=2, criterion=entropy ...............\n"
     ]
    },
    {
     "name": "stderr",
     "output_type": "stream",
     "text": [
      "C:\\Users\\Kyle\\anaconda3\\lib\\site-packages\\sklearn\\model_selection\\_validation.py:515: DataConversionWarning: A column-vector y was passed when a 1d array was expected. Please change the shape of y to (n_samples,), for example using ravel().\n",
      "  estimator.fit(X_train, y_train, **fit_params)\n"
     ]
    },
    {
     "name": "stdout",
     "output_type": "stream",
     "text": [
      "[CV]  n_estimators=4000, max_depth=2, criterion=entropy, score=0.078, total=   7.4s\n",
      "[CV] n_estimators=4000, max_depth=10, criterion=gini .................\n"
     ]
    },
    {
     "name": "stderr",
     "output_type": "stream",
     "text": [
      "C:\\Users\\Kyle\\anaconda3\\lib\\site-packages\\sklearn\\model_selection\\_validation.py:515: DataConversionWarning: A column-vector y was passed when a 1d array was expected. Please change the shape of y to (n_samples,), for example using ravel().\n",
      "  estimator.fit(X_train, y_train, **fit_params)\n"
     ]
    },
    {
     "name": "stdout",
     "output_type": "stream",
     "text": [
      "[CV]  n_estimators=4000, max_depth=10, criterion=gini, score=0.110, total=  10.9s\n",
      "[CV] n_estimators=4000, max_depth=10, criterion=gini .................\n"
     ]
    },
    {
     "name": "stderr",
     "output_type": "stream",
     "text": [
      "C:\\Users\\Kyle\\anaconda3\\lib\\site-packages\\sklearn\\model_selection\\_validation.py:515: DataConversionWarning: A column-vector y was passed when a 1d array was expected. Please change the shape of y to (n_samples,), for example using ravel().\n",
      "  estimator.fit(X_train, y_train, **fit_params)\n"
     ]
    },
    {
     "name": "stdout",
     "output_type": "stream",
     "text": [
      "[CV]  n_estimators=4000, max_depth=10, criterion=gini, score=0.080, total=  10.9s\n",
      "[CV] n_estimators=4000, max_depth=10, criterion=gini .................\n"
     ]
    },
    {
     "name": "stderr",
     "output_type": "stream",
     "text": [
      "C:\\Users\\Kyle\\anaconda3\\lib\\site-packages\\sklearn\\model_selection\\_validation.py:515: DataConversionWarning: A column-vector y was passed when a 1d array was expected. Please change the shape of y to (n_samples,), for example using ravel().\n",
      "  estimator.fit(X_train, y_train, **fit_params)\n"
     ]
    },
    {
     "name": "stdout",
     "output_type": "stream",
     "text": [
      "[CV]  n_estimators=4000, max_depth=10, criterion=gini, score=0.106, total=  11.1s\n",
      "[CV] n_estimators=4000, max_depth=10, criterion=gini .................\n"
     ]
    },
    {
     "name": "stderr",
     "output_type": "stream",
     "text": [
      "C:\\Users\\Kyle\\anaconda3\\lib\\site-packages\\sklearn\\model_selection\\_validation.py:515: DataConversionWarning: A column-vector y was passed when a 1d array was expected. Please change the shape of y to (n_samples,), for example using ravel().\n",
      "  estimator.fit(X_train, y_train, **fit_params)\n"
     ]
    },
    {
     "name": "stdout",
     "output_type": "stream",
     "text": [
      "[CV]  n_estimators=4000, max_depth=10, criterion=gini, score=0.078, total=  10.9s\n",
      "[CV] n_estimators=4000, max_depth=10, criterion=gini .................\n"
     ]
    },
    {
     "name": "stderr",
     "output_type": "stream",
     "text": [
      "C:\\Users\\Kyle\\anaconda3\\lib\\site-packages\\sklearn\\model_selection\\_validation.py:515: DataConversionWarning: A column-vector y was passed when a 1d array was expected. Please change the shape of y to (n_samples,), for example using ravel().\n",
      "  estimator.fit(X_train, y_train, **fit_params)\n"
     ]
    },
    {
     "name": "stdout",
     "output_type": "stream",
     "text": [
      "[CV]  n_estimators=4000, max_depth=10, criterion=gini, score=0.092, total=  11.2s\n",
      "[CV] n_estimators=4, max_depth=5, criterion=entropy ..................\n",
      "[CV]  n_estimators=4, max_depth=5, criterion=entropy, score=0.067, total=   0.0s\n",
      "[CV] n_estimators=4, max_depth=5, criterion=entropy ..................\n",
      "[CV]  n_estimators=4, max_depth=5, criterion=entropy, score=0.078, total=   0.0s\n",
      "[CV] n_estimators=4, max_depth=5, criterion=entropy ..................\n"
     ]
    },
    {
     "name": "stderr",
     "output_type": "stream",
     "text": [
      "C:\\Users\\Kyle\\anaconda3\\lib\\site-packages\\sklearn\\model_selection\\_validation.py:515: DataConversionWarning: A column-vector y was passed when a 1d array was expected. Please change the shape of y to (n_samples,), for example using ravel().\n",
      "  estimator.fit(X_train, y_train, **fit_params)\n",
      "C:\\Users\\Kyle\\anaconda3\\lib\\site-packages\\sklearn\\model_selection\\_validation.py:515: DataConversionWarning: A column-vector y was passed when a 1d array was expected. Please change the shape of y to (n_samples,), for example using ravel().\n",
      "  estimator.fit(X_train, y_train, **fit_params)\n",
      "C:\\Users\\Kyle\\anaconda3\\lib\\site-packages\\sklearn\\model_selection\\_validation.py:515: DataConversionWarning: A column-vector y was passed when a 1d array was expected. Please change the shape of y to (n_samples,), for example using ravel().\n",
      "  estimator.fit(X_train, y_train, **fit_params)\n",
      "C:\\Users\\Kyle\\anaconda3\\lib\\site-packages\\sklearn\\model_selection\\_validation.py:515: DataConversionWarning: A column-vector y was passed when a 1d array was expected. Please change the shape of y to (n_samples,), for example using ravel().\n",
      "  estimator.fit(X_train, y_train, **fit_params)\n",
      "C:\\Users\\Kyle\\anaconda3\\lib\\site-packages\\sklearn\\model_selection\\_validation.py:515: DataConversionWarning: A column-vector y was passed when a 1d array was expected. Please change the shape of y to (n_samples,), for example using ravel().\n",
      "  estimator.fit(X_train, y_train, **fit_params)\n",
      "C:\\Users\\Kyle\\anaconda3\\lib\\site-packages\\sklearn\\model_selection\\_validation.py:515: DataConversionWarning: A column-vector y was passed when a 1d array was expected. Please change the shape of y to (n_samples,), for example using ravel().\n",
      "  estimator.fit(X_train, y_train, **fit_params)\n"
     ]
    },
    {
     "name": "stdout",
     "output_type": "stream",
     "text": [
      "[CV]  n_estimators=4, max_depth=5, criterion=entropy, score=0.067, total=   0.0s\n",
      "[CV] n_estimators=4, max_depth=5, criterion=entropy ..................\n",
      "[CV]  n_estimators=4, max_depth=5, criterion=entropy, score=0.101, total=   0.0s\n",
      "[CV] n_estimators=4, max_depth=5, criterion=entropy ..................\n",
      "[CV]  n_estimators=4, max_depth=5, criterion=entropy, score=0.074, total=   0.0s\n",
      "[CV] n_estimators=8000, max_depth=5, criterion=gini ..................\n",
      "[CV]  n_estimators=8000, max_depth=5, criterion=gini, score=0.078, total=  13.9s\n",
      "[CV] n_estimators=8000, max_depth=5, criterion=gini ..................\n"
     ]
    },
    {
     "name": "stderr",
     "output_type": "stream",
     "text": [
      "C:\\Users\\Kyle\\anaconda3\\lib\\site-packages\\sklearn\\model_selection\\_validation.py:515: DataConversionWarning: A column-vector y was passed when a 1d array was expected. Please change the shape of y to (n_samples,), for example using ravel().\n",
      "  estimator.fit(X_train, y_train, **fit_params)\n"
     ]
    },
    {
     "name": "stdout",
     "output_type": "stream",
     "text": [
      "[CV]  n_estimators=8000, max_depth=5, criterion=gini, score=0.090, total=  13.9s\n",
      "[CV] n_estimators=8000, max_depth=5, criterion=gini ..................\n"
     ]
    },
    {
     "name": "stderr",
     "output_type": "stream",
     "text": [
      "C:\\Users\\Kyle\\anaconda3\\lib\\site-packages\\sklearn\\model_selection\\_validation.py:515: DataConversionWarning: A column-vector y was passed when a 1d array was expected. Please change the shape of y to (n_samples,), for example using ravel().\n",
      "  estimator.fit(X_train, y_train, **fit_params)\n"
     ]
    },
    {
     "name": "stdout",
     "output_type": "stream",
     "text": [
      "[CV]  n_estimators=8000, max_depth=5, criterion=gini, score=0.097, total=  13.9s\n",
      "[CV] n_estimators=8000, max_depth=5, criterion=gini ..................\n"
     ]
    },
    {
     "name": "stderr",
     "output_type": "stream",
     "text": [
      "C:\\Users\\Kyle\\anaconda3\\lib\\site-packages\\sklearn\\model_selection\\_validation.py:515: DataConversionWarning: A column-vector y was passed when a 1d array was expected. Please change the shape of y to (n_samples,), for example using ravel().\n",
      "  estimator.fit(X_train, y_train, **fit_params)\n"
     ]
    },
    {
     "name": "stdout",
     "output_type": "stream",
     "text": [
      "[CV]  n_estimators=8000, max_depth=5, criterion=gini, score=0.090, total=  13.9s\n",
      "[CV] n_estimators=8000, max_depth=5, criterion=gini ..................\n"
     ]
    },
    {
     "name": "stderr",
     "output_type": "stream",
     "text": [
      "C:\\Users\\Kyle\\anaconda3\\lib\\site-packages\\sklearn\\model_selection\\_validation.py:515: DataConversionWarning: A column-vector y was passed when a 1d array was expected. Please change the shape of y to (n_samples,), for example using ravel().\n",
      "  estimator.fit(X_train, y_train, **fit_params)\n"
     ]
    },
    {
     "name": "stdout",
     "output_type": "stream",
     "text": [
      "[CV]  n_estimators=8000, max_depth=5, criterion=gini, score=0.090, total=  14.0s\n",
      "[CV] n_estimators=4, max_depth=10, criterion=entropy .................\n",
      "[CV]  n_estimators=4, max_depth=10, criterion=entropy, score=0.057, total=   0.0s\n",
      "[CV] n_estimators=4, max_depth=10, criterion=entropy .................\n",
      "[CV]  n_estimators=4, max_depth=10, criterion=entropy, score=0.069, total=   0.0s\n",
      "[CV] n_estimators=4, max_depth=10, criterion=entropy .................\n",
      "[CV]  n_estimators=4, max_depth=10, criterion=entropy, score=0.067, total=   0.0s\n",
      "[CV] n_estimators=4, max_depth=10, criterion=entropy .................\n",
      "[CV]  n_estimators=4, max_depth=10, criterion=entropy, score=0.060, total=   0.0s\n",
      "[CV] n_estimators=4, max_depth=10, criterion=entropy .................\n",
      "[CV]  n_estimators=4, max_depth=10, criterion=entropy, score=0.062, total=   0.0s\n",
      "[CV] n_estimators=40, max_depth=10, criterion=gini ...................\n"
     ]
    },
    {
     "name": "stderr",
     "output_type": "stream",
     "text": [
      "C:\\Users\\Kyle\\anaconda3\\lib\\site-packages\\sklearn\\model_selection\\_validation.py:515: DataConversionWarning: A column-vector y was passed when a 1d array was expected. Please change the shape of y to (n_samples,), for example using ravel().\n",
      "  estimator.fit(X_train, y_train, **fit_params)\n",
      "C:\\Users\\Kyle\\anaconda3\\lib\\site-packages\\sklearn\\model_selection\\_validation.py:515: DataConversionWarning: A column-vector y was passed when a 1d array was expected. Please change the shape of y to (n_samples,), for example using ravel().\n",
      "  estimator.fit(X_train, y_train, **fit_params)\n",
      "C:\\Users\\Kyle\\anaconda3\\lib\\site-packages\\sklearn\\model_selection\\_validation.py:515: DataConversionWarning: A column-vector y was passed when a 1d array was expected. Please change the shape of y to (n_samples,), for example using ravel().\n",
      "  estimator.fit(X_train, y_train, **fit_params)\n",
      "C:\\Users\\Kyle\\anaconda3\\lib\\site-packages\\sklearn\\model_selection\\_validation.py:515: DataConversionWarning: A column-vector y was passed when a 1d array was expected. Please change the shape of y to (n_samples,), for example using ravel().\n",
      "  estimator.fit(X_train, y_train, **fit_params)\n",
      "C:\\Users\\Kyle\\anaconda3\\lib\\site-packages\\sklearn\\model_selection\\_validation.py:515: DataConversionWarning: A column-vector y was passed when a 1d array was expected. Please change the shape of y to (n_samples,), for example using ravel().\n",
      "  estimator.fit(X_train, y_train, **fit_params)\n",
      "C:\\Users\\Kyle\\anaconda3\\lib\\site-packages\\sklearn\\model_selection\\_validation.py:515: DataConversionWarning: A column-vector y was passed when a 1d array was expected. Please change the shape of y to (n_samples,), for example using ravel().\n",
      "  estimator.fit(X_train, y_train, **fit_params)\n"
     ]
    },
    {
     "name": "stdout",
     "output_type": "stream",
     "text": [
      "[CV]  n_estimators=40, max_depth=10, criterion=gini, score=0.087, total=   0.1s\n",
      "[CV] n_estimators=40, max_depth=10, criterion=gini ...................\n",
      "[CV]  n_estimators=40, max_depth=10, criterion=gini, score=0.080, total=   0.1s\n",
      "[CV] n_estimators=40, max_depth=10, criterion=gini ...................\n"
     ]
    },
    {
     "name": "stderr",
     "output_type": "stream",
     "text": [
      "C:\\Users\\Kyle\\anaconda3\\lib\\site-packages\\sklearn\\model_selection\\_validation.py:515: DataConversionWarning: A column-vector y was passed when a 1d array was expected. Please change the shape of y to (n_samples,), for example using ravel().\n",
      "  estimator.fit(X_train, y_train, **fit_params)\n",
      "C:\\Users\\Kyle\\anaconda3\\lib\\site-packages\\sklearn\\model_selection\\_validation.py:515: DataConversionWarning: A column-vector y was passed when a 1d array was expected. Please change the shape of y to (n_samples,), for example using ravel().\n",
      "  estimator.fit(X_train, y_train, **fit_params)\n"
     ]
    },
    {
     "name": "stdout",
     "output_type": "stream",
     "text": [
      "[CV]  n_estimators=40, max_depth=10, criterion=gini, score=0.083, total=   0.1s\n",
      "[CV] n_estimators=40, max_depth=10, criterion=gini ...................\n",
      "[CV]  n_estimators=40, max_depth=10, criterion=gini, score=0.080, total=   0.1s\n",
      "[CV] n_estimators=40, max_depth=10, criterion=gini ...................\n"
     ]
    },
    {
     "name": "stderr",
     "output_type": "stream",
     "text": [
      "C:\\Users\\Kyle\\anaconda3\\lib\\site-packages\\sklearn\\model_selection\\_validation.py:515: DataConversionWarning: A column-vector y was passed when a 1d array was expected. Please change the shape of y to (n_samples,), for example using ravel().\n",
      "  estimator.fit(X_train, y_train, **fit_params)\n",
      "C:\\Users\\Kyle\\anaconda3\\lib\\site-packages\\sklearn\\model_selection\\_validation.py:515: DataConversionWarning: A column-vector y was passed when a 1d array was expected. Please change the shape of y to (n_samples,), for example using ravel().\n",
      "  estimator.fit(X_train, y_train, **fit_params)\n"
     ]
    },
    {
     "name": "stdout",
     "output_type": "stream",
     "text": [
      "[CV]  n_estimators=40, max_depth=10, criterion=gini, score=0.085, total=   0.1s\n",
      "[CV] n_estimators=4, max_depth=2, criterion=entropy ..................\n",
      "[CV]  n_estimators=4, max_depth=2, criterion=entropy, score=0.055, total=   0.0s\n",
      "[CV] n_estimators=4, max_depth=2, criterion=entropy ..................\n",
      "[CV]  n_estimators=4, max_depth=2, criterion=entropy, score=0.083, total=   0.0s\n",
      "[CV] n_estimators=4, max_depth=2, criterion=entropy ..................\n",
      "[CV]  n_estimators=4, max_depth=2, criterion=entropy, score=0.062, total=   0.0s\n",
      "[CV] n_estimators=4, max_depth=2, criterion=entropy ..................\n",
      "[CV]  n_estimators=4, max_depth=2, criterion=entropy, score=0.078, total=   0.0s\n",
      "[CV] n_estimators=4, max_depth=2, criterion=entropy ..................\n",
      "[CV]  n_estimators=4, max_depth=2, criterion=entropy, score=0.094, total=   0.0s\n",
      "[CV] n_estimators=40, max_depth=2, criterion=entropy .................\n",
      "[CV]  n_estimators=40, max_depth=2, criterion=entropy, score=0.076, total=   0.1s\n",
      "[CV] n_estimators=40, max_depth=2, criterion=entropy .................\n",
      "[CV]  n_estimators=40, max_depth=2, criterion=entropy, score=0.087, total=   0.1s"
     ]
    },
    {
     "name": "stderr",
     "output_type": "stream",
     "text": [
      "C:\\Users\\Kyle\\anaconda3\\lib\\site-packages\\sklearn\\model_selection\\_validation.py:515: DataConversionWarning: A column-vector y was passed when a 1d array was expected. Please change the shape of y to (n_samples,), for example using ravel().\n",
      "  estimator.fit(X_train, y_train, **fit_params)\n",
      "C:\\Users\\Kyle\\anaconda3\\lib\\site-packages\\sklearn\\model_selection\\_validation.py:515: DataConversionWarning: A column-vector y was passed when a 1d array was expected. Please change the shape of y to (n_samples,), for example using ravel().\n",
      "  estimator.fit(X_train, y_train, **fit_params)\n",
      "C:\\Users\\Kyle\\anaconda3\\lib\\site-packages\\sklearn\\model_selection\\_validation.py:515: DataConversionWarning: A column-vector y was passed when a 1d array was expected. Please change the shape of y to (n_samples,), for example using ravel().\n",
      "  estimator.fit(X_train, y_train, **fit_params)\n",
      "C:\\Users\\Kyle\\anaconda3\\lib\\site-packages\\sklearn\\model_selection\\_validation.py:515: DataConversionWarning: A column-vector y was passed when a 1d array was expected. Please change the shape of y to (n_samples,), for example using ravel().\n",
      "  estimator.fit(X_train, y_train, **fit_params)\n",
      "C:\\Users\\Kyle\\anaconda3\\lib\\site-packages\\sklearn\\model_selection\\_validation.py:515: DataConversionWarning: A column-vector y was passed when a 1d array was expected. Please change the shape of y to (n_samples,), for example using ravel().\n",
      "  estimator.fit(X_train, y_train, **fit_params)\n",
      "C:\\Users\\Kyle\\anaconda3\\lib\\site-packages\\sklearn\\model_selection\\_validation.py:515: DataConversionWarning: A column-vector y was passed when a 1d array was expected. Please change the shape of y to (n_samples,), for example using ravel().\n",
      "  estimator.fit(X_train, y_train, **fit_params)\n",
      "C:\\Users\\Kyle\\anaconda3\\lib\\site-packages\\sklearn\\model_selection\\_validation.py:515: DataConversionWarning: A column-vector y was passed when a 1d array was expected. Please change the shape of y to (n_samples,), for example using ravel().\n",
      "  estimator.fit(X_train, y_train, **fit_params)\n"
     ]
    },
    {
     "name": "stdout",
     "output_type": "stream",
     "text": [
      "\n",
      "[CV] n_estimators=40, max_depth=2, criterion=entropy .................\n",
      "[CV]  n_estimators=40, max_depth=2, criterion=entropy, score=0.062, total=   0.1s\n",
      "[CV] n_estimators=40, max_depth=2, criterion=entropy .................\n",
      "[CV]  n_estimators=40, max_depth=2, criterion=entropy, score=0.094, total=   0.1s\n",
      "[CV] n_estimators=40, max_depth=2, criterion=entropy .................\n"
     ]
    },
    {
     "name": "stderr",
     "output_type": "stream",
     "text": [
      "C:\\Users\\Kyle\\anaconda3\\lib\\site-packages\\sklearn\\model_selection\\_validation.py:515: DataConversionWarning: A column-vector y was passed when a 1d array was expected. Please change the shape of y to (n_samples,), for example using ravel().\n",
      "  estimator.fit(X_train, y_train, **fit_params)\n",
      "C:\\Users\\Kyle\\anaconda3\\lib\\site-packages\\sklearn\\model_selection\\_validation.py:515: DataConversionWarning: A column-vector y was passed when a 1d array was expected. Please change the shape of y to (n_samples,), for example using ravel().\n",
      "  estimator.fit(X_train, y_train, **fit_params)\n",
      "C:\\Users\\Kyle\\anaconda3\\lib\\site-packages\\sklearn\\model_selection\\_validation.py:515: DataConversionWarning: A column-vector y was passed when a 1d array was expected. Please change the shape of y to (n_samples,), for example using ravel().\n",
      "  estimator.fit(X_train, y_train, **fit_params)\n"
     ]
    },
    {
     "name": "stdout",
     "output_type": "stream",
     "text": [
      "[CV]  n_estimators=40, max_depth=2, criterion=entropy, score=0.083, total=   0.1s\n",
      "[CV] n_estimators=8000, max_depth=2, criterion=gini ..................\n"
     ]
    },
    {
     "name": "stderr",
     "output_type": "stream",
     "text": [
      "C:\\Users\\Kyle\\anaconda3\\lib\\site-packages\\sklearn\\model_selection\\_validation.py:515: DataConversionWarning: A column-vector y was passed when a 1d array was expected. Please change the shape of y to (n_samples,), for example using ravel().\n",
      "  estimator.fit(X_train, y_train, **fit_params)\n"
     ]
    },
    {
     "name": "stdout",
     "output_type": "stream",
     "text": [
      "[CV]  n_estimators=8000, max_depth=2, criterion=gini, score=0.073, total=  10.9s\n",
      "[CV] n_estimators=8000, max_depth=2, criterion=gini ..................\n"
     ]
    },
    {
     "name": "stderr",
     "output_type": "stream",
     "text": [
      "C:\\Users\\Kyle\\anaconda3\\lib\\site-packages\\sklearn\\model_selection\\_validation.py:515: DataConversionWarning: A column-vector y was passed when a 1d array was expected. Please change the shape of y to (n_samples,), for example using ravel().\n",
      "  estimator.fit(X_train, y_train, **fit_params)\n"
     ]
    },
    {
     "name": "stdout",
     "output_type": "stream",
     "text": [
      "[CV]  n_estimators=8000, max_depth=2, criterion=gini, score=0.090, total=  10.8s\n",
      "[CV] n_estimators=8000, max_depth=2, criterion=gini ..................\n"
     ]
    },
    {
     "name": "stderr",
     "output_type": "stream",
     "text": [
      "C:\\Users\\Kyle\\anaconda3\\lib\\site-packages\\sklearn\\model_selection\\_validation.py:515: DataConversionWarning: A column-vector y was passed when a 1d array was expected. Please change the shape of y to (n_samples,), for example using ravel().\n",
      "  estimator.fit(X_train, y_train, **fit_params)\n"
     ]
    },
    {
     "name": "stdout",
     "output_type": "stream",
     "text": [
      "[CV]  n_estimators=8000, max_depth=2, criterion=gini, score=0.080, total=  10.9s\n",
      "[CV] n_estimators=8000, max_depth=2, criterion=gini ..................\n"
     ]
    },
    {
     "name": "stderr",
     "output_type": "stream",
     "text": [
      "C:\\Users\\Kyle\\anaconda3\\lib\\site-packages\\sklearn\\model_selection\\_validation.py:515: DataConversionWarning: A column-vector y was passed when a 1d array was expected. Please change the shape of y to (n_samples,), for example using ravel().\n",
      "  estimator.fit(X_train, y_train, **fit_params)\n"
     ]
    },
    {
     "name": "stdout",
     "output_type": "stream",
     "text": [
      "[CV]  n_estimators=8000, max_depth=2, criterion=gini, score=0.078, total=  10.9s\n",
      "[CV] n_estimators=8000, max_depth=2, criterion=gini ..................\n"
     ]
    },
    {
     "name": "stderr",
     "output_type": "stream",
     "text": [
      "C:\\Users\\Kyle\\anaconda3\\lib\\site-packages\\sklearn\\model_selection\\_validation.py:515: DataConversionWarning: A column-vector y was passed when a 1d array was expected. Please change the shape of y to (n_samples,), for example using ravel().\n",
      "  estimator.fit(X_train, y_train, **fit_params)\n"
     ]
    },
    {
     "name": "stdout",
     "output_type": "stream",
     "text": [
      "[CV]  n_estimators=8000, max_depth=2, criterion=gini, score=0.087, total=  10.8s\n",
      "[CV] n_estimators=8000, max_depth=10, criterion=gini .................\n"
     ]
    },
    {
     "name": "stderr",
     "output_type": "stream",
     "text": [
      "C:\\Users\\Kyle\\anaconda3\\lib\\site-packages\\sklearn\\model_selection\\_validation.py:515: DataConversionWarning: A column-vector y was passed when a 1d array was expected. Please change the shape of y to (n_samples,), for example using ravel().\n",
      "  estimator.fit(X_train, y_train, **fit_params)\n"
     ]
    },
    {
     "name": "stdout",
     "output_type": "stream",
     "text": [
      "[CV]  n_estimators=8000, max_depth=10, criterion=gini, score=0.108, total=  24.9s\n",
      "[CV] n_estimators=8000, max_depth=10, criterion=gini .................\n"
     ]
    },
    {
     "name": "stderr",
     "output_type": "stream",
     "text": [
      "C:\\Users\\Kyle\\anaconda3\\lib\\site-packages\\sklearn\\model_selection\\_validation.py:515: DataConversionWarning: A column-vector y was passed when a 1d array was expected. Please change the shape of y to (n_samples,), for example using ravel().\n",
      "  estimator.fit(X_train, y_train, **fit_params)\n"
     ]
    },
    {
     "name": "stdout",
     "output_type": "stream",
     "text": [
      "[CV]  n_estimators=8000, max_depth=10, criterion=gini, score=0.080, total=  24.4s\n",
      "[CV] n_estimators=8000, max_depth=10, criterion=gini .................\n"
     ]
    },
    {
     "name": "stderr",
     "output_type": "stream",
     "text": [
      "C:\\Users\\Kyle\\anaconda3\\lib\\site-packages\\sklearn\\model_selection\\_validation.py:515: DataConversionWarning: A column-vector y was passed when a 1d array was expected. Please change the shape of y to (n_samples,), for example using ravel().\n",
      "  estimator.fit(X_train, y_train, **fit_params)\n"
     ]
    },
    {
     "name": "stdout",
     "output_type": "stream",
     "text": [
      "[CV]  n_estimators=8000, max_depth=10, criterion=gini, score=0.103, total=  24.6s\n",
      "[CV] n_estimators=8000, max_depth=10, criterion=gini .................\n"
     ]
    },
    {
     "name": "stderr",
     "output_type": "stream",
     "text": [
      "C:\\Users\\Kyle\\anaconda3\\lib\\site-packages\\sklearn\\model_selection\\_validation.py:515: DataConversionWarning: A column-vector y was passed when a 1d array was expected. Please change the shape of y to (n_samples,), for example using ravel().\n",
      "  estimator.fit(X_train, y_train, **fit_params)\n"
     ]
    },
    {
     "name": "stdout",
     "output_type": "stream",
     "text": [
      "[CV]  n_estimators=8000, max_depth=10, criterion=gini, score=0.074, total=  24.5s\n",
      "[CV] n_estimators=8000, max_depth=10, criterion=gini .................\n"
     ]
    },
    {
     "name": "stderr",
     "output_type": "stream",
     "text": [
      "C:\\Users\\Kyle\\anaconda3\\lib\\site-packages\\sklearn\\model_selection\\_validation.py:515: DataConversionWarning: A column-vector y was passed when a 1d array was expected. Please change the shape of y to (n_samples,), for example using ravel().\n",
      "  estimator.fit(X_train, y_train, **fit_params)\n"
     ]
    },
    {
     "name": "stdout",
     "output_type": "stream",
     "text": [
      "[CV]  n_estimators=8000, max_depth=10, criterion=gini, score=0.092, total=  24.3s\n"
     ]
    },
    {
     "name": "stderr",
     "output_type": "stream",
     "text": [
      "[Parallel(n_jobs=1)]: Done  50 out of  50 | elapsed:  6.5min finished\n",
      "C:\\Users\\Kyle\\anaconda3\\lib\\site-packages\\sklearn\\model_selection\\_search.py:739: DataConversionWarning: A column-vector y was passed when a 1d array was expected. Please change the shape of y to (n_samples,), for example using ravel().\n",
      "  self.best_estimator_.fit(X, y, **fit_params)\n"
     ]
    },
    {
     "data": {
      "text/plain": [
       "RandomizedSearchCV(cv=None, error_score=nan,\n",
       "                   estimator=RandomForestClassifier(bootstrap=True,\n",
       "                                                    ccp_alpha=0.0,\n",
       "                                                    class_weight=None,\n",
       "                                                    criterion='entropy',\n",
       "                                                    max_depth=5,\n",
       "                                                    max_features='auto',\n",
       "                                                    max_leaf_nodes=None,\n",
       "                                                    max_samples=None,\n",
       "                                                    min_impurity_decrease=0.0,\n",
       "                                                    min_impurity_split=None,\n",
       "                                                    min_samples_leaf=1,\n",
       "                                                    min_samples_split=2,\n",
       "                                                    min_weight_fraction_leaf=0.0,\n",
       "                                                    n_estimators=4000,\n",
       "                                                    n_jobs=None,\n",
       "                                                    oob_score=False,\n",
       "                                                    random_state=None,\n",
       "                                                    verbose=0,\n",
       "                                                    warm_start=False),\n",
       "                   iid='deprecated', n_iter=10, n_jobs=None,\n",
       "                   param_distributions={'criterion': ['gini', 'entropy'],\n",
       "                                        'max_depth': [2, 5, 10],\n",
       "                                        'n_estimators': [4, 40, 400, 4000,\n",
       "                                                         8000]},\n",
       "                   pre_dispatch='2*n_jobs', random_state=None, refit=True,\n",
       "                   return_train_score=False, scoring=None, verbose=3)"
      ]
     },
     "execution_count": 164,
     "metadata": {},
     "output_type": "execute_result"
    }
   ],
   "source": [
    "# Train the model with GridSearch\n",
    "grid.fit(X_train,y_train)"
   ]
  },
  {
   "cell_type": "code",
   "execution_count": 165,
   "metadata": {},
   "outputs": [
    {
     "data": {
      "text/plain": [
       "0.09328271643994517"
      ]
     },
     "execution_count": 165,
     "metadata": {},
     "output_type": "execute_result"
    }
   ],
   "source": [
    "grid.best_score_"
   ]
  },
  {
   "cell_type": "code",
   "execution_count": 166,
   "metadata": {},
   "outputs": [],
   "source": [
    "ys = grid.predict(X_test)"
   ]
  },
  {
   "cell_type": "code",
   "execution_count": 167,
   "metadata": {},
   "outputs": [],
   "source": [
    "resids = (ys - y_test)**2"
   ]
  },
  {
   "cell_type": "code",
   "execution_count": 168,
   "metadata": {},
   "outputs": [
    {
     "data": {
      "text/plain": [
       "9.918588590639681"
      ]
     },
     "execution_count": 168,
     "metadata": {},
     "output_type": "execute_result"
    }
   ],
   "source": [
    "pd.Series(resids.reshape(-1)).apply(math.sqrt).mean()"
   ]
  },
  {
   "cell_type": "code",
   "execution_count": 169,
   "metadata": {},
   "outputs": [],
   "source": [
    "from sklearn.metrics import r2_score"
   ]
  },
  {
   "cell_type": "code",
   "execution_count": 170,
   "metadata": {},
   "outputs": [
    {
     "data": {
      "text/plain": [
       "0.214525684460524"
      ]
     },
     "execution_count": 170,
     "metadata": {},
     "output_type": "execute_result"
    }
   ],
   "source": [
    "r2_score(y_test, ys)"
   ]
  },
  {
   "cell_type": "markdown",
   "metadata": {},
   "source": [
    "## Model 5:\n",
    "### FPI, Yards, Turnovers + Expected Points Added per Play (EPA) and Success Rate for Offense overall and Pass EPA vs. Run EPA"
   ]
  },
  {
   "cell_type": "code",
   "execution_count": 171,
   "metadata": {},
   "outputs": [
    {
     "data": {
      "text/plain": [
       "Index(['Unnamed: 0', 'Year', 'Week_x', 'Abbr_RDBMS_Winner', 'Week2', 'Day',\n",
       "       'Date', 'Time', 'Home_Team', 'FINAL_TEAM_NAME', 'Opponent',\n",
       "       'TEAM_POINTS', 'TEAM_YARDS', 'TEAM_TURNOVERS',\n",
       "       'TEAM_TURNOVER_DIFFERENTIAL', 'OPPONENTS_POINTS', 'OPPONENTS_YARDS',\n",
       "       'OPPONENTS_TURNOVERS', 'OPPONENTS_TURNOVER_DIFFERENTIAL',\n",
       "       'TEAM_POINT_MARGIN', 'GAMEID', 'BINARY_WIN', 'W-L-T', 'Power Index FPI',\n",
       "       'Power Index RK', 'Power Index TREND', 'Power Index OFF',\n",
       "       'Power Index DEF', 'Power Index ST', 'Ranks SOS', 'Ranks REM SOS',\n",
       "       'Ranks AVGWP', 'DIVISION_538_Winner', 'ELO WITH QB_538_Winner',\n",
       "       'ELO CHANGE_538_Winner', 'CURRENT QB ADJ_538_Winner',\n",
       "       'Points_Diff_538_Winner', 'Playoffs_Prob_538_Winner',\n",
       "       'Division_Prob_538_Winner', 'Bye_Prob_538_Winner', 'SB_Prob_538_Winner',\n",
       "       'REAL_WINS2_538_Winner', 'REAL_LOSSES2_538_Winner',\n",
       "       'REAL_TIES_538_Winner', 'PROJ_WINS4_538_Winner',\n",
       "       'PROJ_LOSS4_538_Winner', 'EPA/play_RDBMS_Winner',\n",
       "       'OVR_SUCCESS_RATE_RDBMS_Winner', 'Dropback EPA_RDBMS_Winner',\n",
       "       'DROPBACK_SR_RDBMS_Winner', 'Rush EPA_RDBMS_Winner',\n",
       "       'RUN_SR_RDBMS_Winner', 'TOTAL DVOA_FO_WEEKLY_Winner',\n",
       "       'LAST WEEK_FO_WEEKLY_Winner', 'DAVE_WEI_DVOA_FO_WEEKLY_Winner',\n",
       "       'OFFENSE DVOA_FO_WEEKLY_Winner', 'DEFENSE DVOA_FO_WEEKLY_Winner',\n",
       "       'S.T. DVOA_FO_WEEKLY_Winner', 'RK_FO_ANNUAL_Winner',\n",
       "       'TOTAL DVOA_FO_ANNUAL_Winner', 'DAVE_WEI_DVOA_FO_ANNUAL_Winner',\n",
       "       'OFFENSE DVOA_FO_ANNUAL_Winner', 'DEFENSE DVOA_FO_ANNUAL_Winner',\n",
       "       'S.T. DVOA_FO_ANNUAL_Winner', 'non-adj VOA_FO_ANNUAL_Winner',\n",
       "       'Last Year_FO_ANNUAL_Winner', 'ESTIM. WINS_FO_ANNUAL_Winner',\n",
       "       'SCHEDULE RANK_FO_ANNUAL_Winner', 'VAR._FO_ANNUAL_Winner',\n",
       "       'TOTAL_GAME_POINTS', 'TOTAL_GAME_YARDS', 'TOTAL_GAME_TURNOVERS',\n",
       "       'PLAYOFFS_BINARY', 'GAME_TYPE', 'FINAL_TEAM_NAME_Opp',\n",
       "       'Power Index DEF_Opp'],\n",
       "      dtype='object')"
      ]
     },
     "execution_count": 171,
     "metadata": {},
     "output_type": "execute_result"
    }
   ],
   "source": [
    "allTheStats3.columns"
   ]
  },
  {
   "cell_type": "code",
   "execution_count": 173,
   "metadata": {},
   "outputs": [],
   "source": [
    "model_values=allTheStats3.loc[:, [\"TEAM_POINTS\", \"Power Index FPI\", 'Power Index OFF','Power Index DEF_Opp', 'Power Index ST', 'Ranks SOS', 'Ranks AVGWP',\n",
    "                                 \"TEAM_YARDS\", \"TEAM_TURNOVERS\",  'EPA/play_RDBMS_Winner', 'OVR_SUCCESS_RATE_RDBMS_Winner', 'Dropback EPA_RDBMS_Winner',\n",
    "                                  'DROPBACK_SR_RDBMS_Winner', 'Rush EPA_RDBMS_Winner', 'RUN_SR_RDBMS_Winner']]"
   ]
  },
  {
   "cell_type": "code",
   "execution_count": 174,
   "metadata": {},
   "outputs": [
    {
     "name": "stdout",
     "output_type": "stream",
     "text": [
      "<class 'pandas.core.frame.DataFrame'>\n",
      "Int64Index: 2902 entries, 0 to 2901\n",
      "Data columns (total 15 columns):\n",
      " #   Column                         Non-Null Count  Dtype  \n",
      "---  ------                         --------------  -----  \n",
      " 0   TEAM_POINTS                    2902 non-null   float64\n",
      " 1   Power Index FPI                2902 non-null   float64\n",
      " 2   Power Index OFF                2902 non-null   float64\n",
      " 3   Power Index DEF_Opp            2902 non-null   float64\n",
      " 4   Power Index ST                 2902 non-null   float64\n",
      " 5   Ranks SOS                      2902 non-null   float64\n",
      " 6   Ranks AVGWP                    2902 non-null   float64\n",
      " 7   TEAM_YARDS                     2902 non-null   float64\n",
      " 8   TEAM_TURNOVERS                 2902 non-null   float64\n",
      " 9   EPA/play_RDBMS_Winner          2902 non-null   float64\n",
      " 10  OVR_SUCCESS_RATE_RDBMS_Winner  2902 non-null   float64\n",
      " 11  Dropback EPA_RDBMS_Winner      2902 non-null   float64\n",
      " 12  DROPBACK_SR_RDBMS_Winner       2902 non-null   float64\n",
      " 13  Rush EPA_RDBMS_Winner          2902 non-null   float64\n",
      " 14  RUN_SR_RDBMS_Winner            2902 non-null   float64\n",
      "dtypes: float64(15)\n",
      "memory usage: 362.8 KB\n"
     ]
    }
   ],
   "source": [
    "model_values.info()"
   ]
  },
  {
   "cell_type": "code",
   "execution_count": null,
   "metadata": {},
   "outputs": [],
   "source": []
  },
  {
   "cell_type": "code",
   "execution_count": 175,
   "metadata": {},
   "outputs": [],
   "source": [
    "model_5= sklearn.linear_model.LinearRegression(normalize=True)"
   ]
  },
  {
   "cell_type": "code",
   "execution_count": null,
   "metadata": {},
   "outputs": [],
   "source": []
  },
  {
   "cell_type": "code",
   "execution_count": 176,
   "metadata": {},
   "outputs": [],
   "source": [
    "X = model_values.iloc[:,1:].values\n",
    "y = model_values.iloc[:,0].values"
   ]
  },
  {
   "cell_type": "code",
   "execution_count": null,
   "metadata": {},
   "outputs": [],
   "source": []
  },
  {
   "cell_type": "code",
   "execution_count": 177,
   "metadata": {},
   "outputs": [],
   "source": [
    "X_train, X_test, y_train, y_test = train_test_split(X,y)\n",
    "#X_train = X_train.reshape(-1)\n",
    "#X_test = X_test.reshape(-1)\n",
    "y_train = y_train.reshape(-1, 1)\n",
    "y_test = y_test.reshape(-1, 1)"
   ]
  },
  {
   "cell_type": "code",
   "execution_count": 178,
   "metadata": {},
   "outputs": [
    {
     "data": {
      "text/plain": [
       "LinearRegression(copy_X=True, fit_intercept=True, n_jobs=None, normalize=True)"
      ]
     },
     "execution_count": 178,
     "metadata": {},
     "output_type": "execute_result"
    }
   ],
   "source": [
    "model_5.fit(X_train, y_train)"
   ]
  },
  {
   "cell_type": "code",
   "execution_count": 179,
   "metadata": {},
   "outputs": [
    {
     "data": {
      "text/plain": [
       "0.6302700899587667"
      ]
     },
     "execution_count": 179,
     "metadata": {},
     "output_type": "execute_result"
    }
   ],
   "source": [
    "#R_sq Score\n",
    "model_5.score(X_train, y_train)"
   ]
  },
  {
   "cell_type": "code",
   "execution_count": 180,
   "metadata": {},
   "outputs": [
    {
     "data": {
      "text/plain": [
       "0.6277712268609107"
      ]
     },
     "execution_count": 180,
     "metadata": {},
     "output_type": "execute_result"
    }
   ],
   "source": [
    "model_5.score(X_test, y_test)"
   ]
  },
  {
   "cell_type": "code",
   "execution_count": 181,
   "metadata": {},
   "outputs": [
    {
     "data": {
      "text/plain": [
       "array([19.35315188])"
      ]
     },
     "execution_count": 181,
     "metadata": {},
     "output_type": "execute_result"
    }
   ],
   "source": [
    "model_5.intercept_"
   ]
  },
  {
   "cell_type": "code",
   "execution_count": 182,
   "metadata": {},
   "outputs": [
    {
     "data": {
      "text/plain": [
       "array([[ 1.30057265e-01, -8.14878619e-02, -2.34768717e-02,\n",
       "         8.55711147e-01,  2.11939999e-02, -5.30486944e-02,\n",
       "         2.24907272e-02,  5.33776096e-01,  2.75554251e+01,\n",
       "        -3.30534744e+01,  4.57205456e+00,  1.49555454e+01,\n",
       "         2.51527195e+00,  7.17865874e+00]])"
      ]
     },
     "execution_count": 182,
     "metadata": {},
     "output_type": "execute_result"
    }
   ],
   "source": [
    "model_5.coef_"
   ]
  },
  {
   "cell_type": "code",
   "execution_count": 204,
   "metadata": {},
   "outputs": [
    {
     "data": {
      "text/html": [
       "<div>\n",
       "<style scoped>\n",
       "    .dataframe tbody tr th:only-of-type {\n",
       "        vertical-align: middle;\n",
       "    }\n",
       "\n",
       "    .dataframe tbody tr th {\n",
       "        vertical-align: top;\n",
       "    }\n",
       "\n",
       "    .dataframe thead th {\n",
       "        text-align: right;\n",
       "    }\n",
       "</style>\n",
       "<table border=\"1\" class=\"dataframe\">\n",
       "  <thead>\n",
       "    <tr style=\"text-align: right;\">\n",
       "      <th></th>\n",
       "      <th>TEAM_POINTS</th>\n",
       "      <th>Power Index FPI</th>\n",
       "      <th>Power Index OFF</th>\n",
       "      <th>Power Index DEF_Opp</th>\n",
       "      <th>Power Index ST</th>\n",
       "      <th>Ranks SOS</th>\n",
       "      <th>Ranks AVGWP</th>\n",
       "      <th>TEAM_YARDS</th>\n",
       "      <th>TEAM_TURNOVERS</th>\n",
       "      <th>EPA/play_RDBMS_Winner</th>\n",
       "      <th>OVR_SUCCESS_RATE_RDBMS_Winner</th>\n",
       "      <th>Dropback EPA_RDBMS_Winner</th>\n",
       "      <th>DROPBACK_SR_RDBMS_Winner</th>\n",
       "      <th>Rush EPA_RDBMS_Winner</th>\n",
       "      <th>RUN_SR_RDBMS_Winner</th>\n",
       "    </tr>\n",
       "  </thead>\n",
       "  <tbody>\n",
       "    <tr>\n",
       "      <th>0</th>\n",
       "      <td>24.0</td>\n",
       "      <td>-2.0</td>\n",
       "      <td>0.9</td>\n",
       "      <td>-2.7</td>\n",
       "      <td>-0.5</td>\n",
       "      <td>15.0</td>\n",
       "      <td>13.0</td>\n",
       "      <td>349.0</td>\n",
       "      <td>0.0</td>\n",
       "      <td>0.180</td>\n",
       "      <td>0.468</td>\n",
       "      <td>0.257</td>\n",
       "      <td>0.500</td>\n",
       "      <td>-0.041</td>\n",
       "      <td>0.375</td>\n",
       "    </tr>\n",
       "    <tr>\n",
       "      <th>1</th>\n",
       "      <td>20.0</td>\n",
       "      <td>-2.6</td>\n",
       "      <td>0.1</td>\n",
       "      <td>-2.4</td>\n",
       "      <td>0.0</td>\n",
       "      <td>12.0</td>\n",
       "      <td>27.0</td>\n",
       "      <td>345.0</td>\n",
       "      <td>3.0</td>\n",
       "      <td>-0.008</td>\n",
       "      <td>0.442</td>\n",
       "      <td>-0.009</td>\n",
       "      <td>0.483</td>\n",
       "      <td>-0.007</td>\n",
       "      <td>0.391</td>\n",
       "    </tr>\n",
       "    <tr>\n",
       "      <th>2</th>\n",
       "      <td>34.0</td>\n",
       "      <td>-2.6</td>\n",
       "      <td>0.1</td>\n",
       "      <td>-2.4</td>\n",
       "      <td>0.0</td>\n",
       "      <td>12.0</td>\n",
       "      <td>27.0</td>\n",
       "      <td>444.0</td>\n",
       "      <td>1.0</td>\n",
       "      <td>0.053</td>\n",
       "      <td>0.436</td>\n",
       "      <td>0.227</td>\n",
       "      <td>0.543</td>\n",
       "      <td>-0.198</td>\n",
       "      <td>0.281</td>\n",
       "    </tr>\n",
       "    <tr>\n",
       "      <th>3</th>\n",
       "      <td>37.0</td>\n",
       "      <td>-2.0</td>\n",
       "      <td>0.9</td>\n",
       "      <td>-2.7</td>\n",
       "      <td>-0.5</td>\n",
       "      <td>15.0</td>\n",
       "      <td>13.0</td>\n",
       "      <td>546.0</td>\n",
       "      <td>3.0</td>\n",
       "      <td>0.151</td>\n",
       "      <td>0.476</td>\n",
       "      <td>0.286</td>\n",
       "      <td>0.491</td>\n",
       "      <td>-0.095</td>\n",
       "      <td>0.448</td>\n",
       "    </tr>\n",
       "    <tr>\n",
       "      <th>4</th>\n",
       "      <td>24.0</td>\n",
       "      <td>-2.8</td>\n",
       "      <td>-0.4</td>\n",
       "      <td>-2.7</td>\n",
       "      <td>-0.2</td>\n",
       "      <td>25.0</td>\n",
       "      <td>10.0</td>\n",
       "      <td>374.0</td>\n",
       "      <td>1.0</td>\n",
       "      <td>0.195</td>\n",
       "      <td>0.551</td>\n",
       "      <td>0.428</td>\n",
       "      <td>0.676</td>\n",
       "      <td>-0.075</td>\n",
       "      <td>0.406</td>\n",
       "    </tr>\n",
       "    <tr>\n",
       "      <th>...</th>\n",
       "      <td>...</td>\n",
       "      <td>...</td>\n",
       "      <td>...</td>\n",
       "      <td>...</td>\n",
       "      <td>...</td>\n",
       "      <td>...</td>\n",
       "      <td>...</td>\n",
       "      <td>...</td>\n",
       "      <td>...</td>\n",
       "      <td>...</td>\n",
       "      <td>...</td>\n",
       "      <td>...</td>\n",
       "      <td>...</td>\n",
       "      <td>...</td>\n",
       "      <td>...</td>\n",
       "    </tr>\n",
       "    <tr>\n",
       "      <th>2897</th>\n",
       "      <td>26.0</td>\n",
       "      <td>10.3</td>\n",
       "      <td>9.5</td>\n",
       "      <td>-0.2</td>\n",
       "      <td>-0.2</td>\n",
       "      <td>26.0</td>\n",
       "      <td>2.0</td>\n",
       "      <td>466.0</td>\n",
       "      <td>1.0</td>\n",
       "      <td>0.332</td>\n",
       "      <td>0.620</td>\n",
       "      <td>0.507</td>\n",
       "      <td>0.667</td>\n",
       "      <td>0.180</td>\n",
       "      <td>0.579</td>\n",
       "    </tr>\n",
       "    <tr>\n",
       "      <th>2898</th>\n",
       "      <td>20.0</td>\n",
       "      <td>-0.2</td>\n",
       "      <td>3.4</td>\n",
       "      <td>1.3</td>\n",
       "      <td>-0.1</td>\n",
       "      <td>1.0</td>\n",
       "      <td>20.0</td>\n",
       "      <td>375.0</td>\n",
       "      <td>3.0</td>\n",
       "      <td>-0.036</td>\n",
       "      <td>0.525</td>\n",
       "      <td>-0.001</td>\n",
       "      <td>0.564</td>\n",
       "      <td>-0.106</td>\n",
       "      <td>0.450</td>\n",
       "    </tr>\n",
       "    <tr>\n",
       "      <th>2899</th>\n",
       "      <td>36.0</td>\n",
       "      <td>-0.1</td>\n",
       "      <td>-1.8</td>\n",
       "      <td>-3.4</td>\n",
       "      <td>0.5</td>\n",
       "      <td>12.0</td>\n",
       "      <td>26.0</td>\n",
       "      <td>406.0</td>\n",
       "      <td>1.0</td>\n",
       "      <td>0.151</td>\n",
       "      <td>0.500</td>\n",
       "      <td>-0.057</td>\n",
       "      <td>0.469</td>\n",
       "      <td>0.346</td>\n",
       "      <td>0.529</td>\n",
       "    </tr>\n",
       "    <tr>\n",
       "      <th>2900</th>\n",
       "      <td>30.0</td>\n",
       "      <td>1.9</td>\n",
       "      <td>2.2</td>\n",
       "      <td>-3.4</td>\n",
       "      <td>-0.2</td>\n",
       "      <td>16.0</td>\n",
       "      <td>5.0</td>\n",
       "      <td>337.0</td>\n",
       "      <td>0.0</td>\n",
       "      <td>0.232</td>\n",
       "      <td>0.475</td>\n",
       "      <td>0.487</td>\n",
       "      <td>0.583</td>\n",
       "      <td>-0.169</td>\n",
       "      <td>0.304</td>\n",
       "    </tr>\n",
       "    <tr>\n",
       "      <th>2901</th>\n",
       "      <td>23.0</td>\n",
       "      <td>-0.2</td>\n",
       "      <td>3.4</td>\n",
       "      <td>-0.2</td>\n",
       "      <td>-0.1</td>\n",
       "      <td>1.0</td>\n",
       "      <td>20.0</td>\n",
       "      <td>383.0</td>\n",
       "      <td>2.0</td>\n",
       "      <td>0.007</td>\n",
       "      <td>0.486</td>\n",
       "      <td>0.174</td>\n",
       "      <td>0.538</td>\n",
       "      <td>-0.429</td>\n",
       "      <td>0.350</td>\n",
       "    </tr>\n",
       "  </tbody>\n",
       "</table>\n",
       "<p>2902 rows × 15 columns</p>\n",
       "</div>"
      ],
      "text/plain": [
       "      TEAM_POINTS  Power Index FPI  Power Index OFF  Power Index DEF_Opp  \\\n",
       "0            24.0             -2.0              0.9                 -2.7   \n",
       "1            20.0             -2.6              0.1                 -2.4   \n",
       "2            34.0             -2.6              0.1                 -2.4   \n",
       "3            37.0             -2.0              0.9                 -2.7   \n",
       "4            24.0             -2.8             -0.4                 -2.7   \n",
       "...           ...              ...              ...                  ...   \n",
       "2897         26.0             10.3              9.5                 -0.2   \n",
       "2898         20.0             -0.2              3.4                  1.3   \n",
       "2899         36.0             -0.1             -1.8                 -3.4   \n",
       "2900         30.0              1.9              2.2                 -3.4   \n",
       "2901         23.0             -0.2              3.4                 -0.2   \n",
       "\n",
       "      Power Index ST  Ranks SOS  Ranks AVGWP  TEAM_YARDS  TEAM_TURNOVERS  \\\n",
       "0               -0.5       15.0         13.0       349.0             0.0   \n",
       "1                0.0       12.0         27.0       345.0             3.0   \n",
       "2                0.0       12.0         27.0       444.0             1.0   \n",
       "3               -0.5       15.0         13.0       546.0             3.0   \n",
       "4               -0.2       25.0         10.0       374.0             1.0   \n",
       "...              ...        ...          ...         ...             ...   \n",
       "2897            -0.2       26.0          2.0       466.0             1.0   \n",
       "2898            -0.1        1.0         20.0       375.0             3.0   \n",
       "2899             0.5       12.0         26.0       406.0             1.0   \n",
       "2900            -0.2       16.0          5.0       337.0             0.0   \n",
       "2901            -0.1        1.0         20.0       383.0             2.0   \n",
       "\n",
       "      EPA/play_RDBMS_Winner  OVR_SUCCESS_RATE_RDBMS_Winner  \\\n",
       "0                     0.180                          0.468   \n",
       "1                    -0.008                          0.442   \n",
       "2                     0.053                          0.436   \n",
       "3                     0.151                          0.476   \n",
       "4                     0.195                          0.551   \n",
       "...                     ...                            ...   \n",
       "2897                  0.332                          0.620   \n",
       "2898                 -0.036                          0.525   \n",
       "2899                  0.151                          0.500   \n",
       "2900                  0.232                          0.475   \n",
       "2901                  0.007                          0.486   \n",
       "\n",
       "      Dropback EPA_RDBMS_Winner  DROPBACK_SR_RDBMS_Winner  \\\n",
       "0                         0.257                     0.500   \n",
       "1                        -0.009                     0.483   \n",
       "2                         0.227                     0.543   \n",
       "3                         0.286                     0.491   \n",
       "4                         0.428                     0.676   \n",
       "...                         ...                       ...   \n",
       "2897                      0.507                     0.667   \n",
       "2898                     -0.001                     0.564   \n",
       "2899                     -0.057                     0.469   \n",
       "2900                      0.487                     0.583   \n",
       "2901                      0.174                     0.538   \n",
       "\n",
       "      Rush EPA_RDBMS_Winner  RUN_SR_RDBMS_Winner  \n",
       "0                    -0.041                0.375  \n",
       "1                    -0.007                0.391  \n",
       "2                    -0.198                0.281  \n",
       "3                    -0.095                0.448  \n",
       "4                    -0.075                0.406  \n",
       "...                     ...                  ...  \n",
       "2897                  0.180                0.579  \n",
       "2898                 -0.106                0.450  \n",
       "2899                  0.346                0.529  \n",
       "2900                 -0.169                0.304  \n",
       "2901                 -0.429                0.350  \n",
       "\n",
       "[2902 rows x 15 columns]"
      ]
     },
     "execution_count": 204,
     "metadata": {},
     "output_type": "execute_result"
    }
   ],
   "source": [
    "model_values"
   ]
  },
  {
   "cell_type": "code",
   "execution_count": 183,
   "metadata": {},
   "outputs": [],
   "source": [
    "y_pred = model_5.predict(X_test)"
   ]
  },
  {
   "cell_type": "code",
   "execution_count": 184,
   "metadata": {},
   "outputs": [],
   "source": [
    "sq_resid = (y_pred - y_test)**2"
   ]
  },
  {
   "cell_type": "code",
   "execution_count": 185,
   "metadata": {},
   "outputs": [
    {
     "data": {
      "text/plain": [
       "4.647672409034977"
      ]
     },
     "execution_count": 185,
     "metadata": {},
     "output_type": "execute_result"
    }
   ],
   "source": [
    "# The Mean Squared Error\n",
    "pd.Series(sq_resid.reshape(-1)).apply(math.sqrt).mean()"
   ]
  },
  {
   "cell_type": "code",
   "execution_count": 186,
   "metadata": {},
   "outputs": [],
   "source": [
    "# Grid Search\n",
    "from sklearn.model_selection import GridSearchCV\n",
    "params = {'fit_intercept':[True,False], 'normalize':[True,False], 'copy_X':[True, False]}\n",
    "grid = GridSearchCV(model_3, params, verbose=3)"
   ]
  },
  {
   "cell_type": "code",
   "execution_count": 189,
   "metadata": {},
   "outputs": [
    {
     "name": "stdout",
     "output_type": "stream",
     "text": [
      "Fitting 5 folds for each of 8 candidates, totalling 40 fits\n",
      "[CV] copy_X=True, fit_intercept=True, normalize=True .................\n",
      "[CV]  copy_X=True, fit_intercept=True, normalize=True, score=0.582, total=   0.0s\n",
      "[CV] copy_X=True, fit_intercept=True, normalize=True .................\n",
      "[CV]  copy_X=True, fit_intercept=True, normalize=True, score=0.616, total=   0.0s\n",
      "[CV] copy_X=True, fit_intercept=True, normalize=True .................\n",
      "[CV]  copy_X=True, fit_intercept=True, normalize=True, score=0.647, total=   0.0s\n",
      "[CV] copy_X=True, fit_intercept=True, normalize=True .................\n",
      "[CV]  copy_X=True, fit_intercept=True, normalize=True, score=0.607, total=   0.0s\n",
      "[CV] copy_X=True, fit_intercept=True, normalize=True .................\n",
      "[CV]  copy_X=True, fit_intercept=True, normalize=True, score=0.645, total=   0.0s\n",
      "[CV] copy_X=True, fit_intercept=True, normalize=False ................\n",
      "[CV]  copy_X=True, fit_intercept=True, normalize=False, score=0.582, total=   0.0s\n",
      "[CV] copy_X=True, fit_intercept=True, normalize=False ................\n",
      "[CV]  copy_X=True, fit_intercept=True, normalize=False, score=0.616, total=   0.0s\n",
      "[CV] copy_X=True, fit_intercept=True, normalize=False ................\n",
      "[CV]  copy_X=True, fit_intercept=True, normalize=False, score=0.647, total=   0.0s\n",
      "[CV] copy_X=True, fit_intercept=True, normalize=False ................\n",
      "[CV]  copy_X=True, fit_intercept=True, normalize=False, score=0.607, total=   0.0s\n",
      "[CV] copy_X=True, fit_intercept=True, normalize=False ................\n",
      "[CV]  copy_X=True, fit_intercept=True, normalize=False, score=0.645, total=   0.0s\n",
      "[CV] copy_X=True, fit_intercept=False, normalize=True ................\n",
      "[CV]  copy_X=True, fit_intercept=False, normalize=True, score=0.571, total=   0.0s\n",
      "[CV] copy_X=True, fit_intercept=False, normalize=True ................\n",
      "[CV]  copy_X=True, fit_intercept=False, normalize=True, score=0.591, total=   0.0s\n",
      "[CV] copy_X=True, fit_intercept=False, normalize=True ................\n",
      "[CV]  copy_X=True, fit_intercept=False, normalize=True, score=0.628, total=   0.0s\n",
      "[CV] copy_X=True, fit_intercept=False, normalize=True ................\n",
      "[CV]  copy_X=True, fit_intercept=False, normalize=True, score=0.552, total=   0.0s\n",
      "[CV] copy_X=True, fit_intercept=False, normalize=True ................\n",
      "[CV]  copy_X=True, fit_intercept=False, normalize=True, score=0.605, total=   0.0s\n",
      "[CV] copy_X=True, fit_intercept=False, normalize=False ...............\n",
      "[CV]  copy_X=True, fit_intercept=False, normalize=False, score=0.571, total=   0.0s\n",
      "[CV] copy_X=True, fit_intercept=False, normalize=False ...............\n",
      "[CV]  copy_X=True, fit_intercept=False, normalize=False, score=0.591, total=   0.0s\n",
      "[CV] copy_X=True, fit_intercept=False, normalize=False ...............\n",
      "[CV]  copy_X=True, fit_intercept=False, normalize=False, score=0.628, total=   0.0s\n",
      "[CV] copy_X=True, fit_intercept=False, normalize=False ...............\n",
      "[CV]  copy_X=True, fit_intercept=False, normalize=False, score=0.552, total=   0.0s\n",
      "[CV] copy_X=True, fit_intercept=False, normalize=False ...............\n",
      "[CV]  copy_X=True, fit_intercept=False, normalize=False, score=0.605, total=   0.0s\n",
      "[CV] copy_X=False, fit_intercept=True, normalize=True ................\n",
      "[CV]  copy_X=False, fit_intercept=True, normalize=True, score=0.582, total=   0.0s\n",
      "[CV] copy_X=False, fit_intercept=True, normalize=True ................\n",
      "[CV]  copy_X=False, fit_intercept=True, normalize=True, score=0.616, total=   0.0s\n",
      "[CV] copy_X=False, fit_intercept=True, normalize=True ................\n",
      "[CV]  copy_X=False, fit_intercept=True, normalize=True, score=0.647, total=   0.0s\n",
      "[CV] copy_X=False, fit_intercept=True, normalize=True ................\n",
      "[CV]  copy_X=False, fit_intercept=True, normalize=True, score=0.607, total=   0.0s\n",
      "[CV] copy_X=False, fit_intercept=True, normalize=True ................\n",
      "[CV]  copy_X=False, fit_intercept=True, normalize=True, score=0.645, total=   0.0s\n",
      "[CV] copy_X=False, fit_intercept=True, normalize=False ...............\n",
      "[CV]  copy_X=False, fit_intercept=True, normalize=False, score=0.582, total=   0.0s\n",
      "[CV] copy_X=False, fit_intercept=True, normalize=False ...............\n",
      "[CV]  copy_X=False, fit_intercept=True, normalize=False, score=0.616, total=   0.0s\n",
      "[CV] copy_X=False, fit_intercept=True, normalize=False ...............\n",
      "[CV]  copy_X=False, fit_intercept=True, normalize=False, score=0.647, total=   0.0s\n",
      "[CV] copy_X=False, fit_intercept=True, normalize=False ...............\n",
      "[CV]  copy_X=False, fit_intercept=True, normalize=False, score=0.607, total=   0.0s\n",
      "[CV] copy_X=False, fit_intercept=True, normalize=False ...............\n",
      "[CV]  copy_X=False, fit_intercept=True, normalize=False, score=0.645, total=   0.0s\n",
      "[CV] copy_X=False, fit_intercept=False, normalize=True ...............\n",
      "[CV]  copy_X=False, fit_intercept=False, normalize=True, score=0.571, total=   0.0s\n",
      "[CV] copy_X=False, fit_intercept=False, normalize=True ...............\n",
      "[CV]  copy_X=False, fit_intercept=False, normalize=True, score=0.591, total=   0.0s\n",
      "[CV] copy_X=False, fit_intercept=False, normalize=True ...............\n",
      "[CV]  copy_X=False, fit_intercept=False, normalize=True, score=0.628, total=   0.0s\n",
      "[CV] copy_X=False, fit_intercept=False, normalize=True ...............\n",
      "[CV]  copy_X=False, fit_intercept=False, normalize=True, score=0.552, total=   0.0s\n",
      "[CV] copy_X=False, fit_intercept=False, normalize=True ...............\n",
      "[CV]  copy_X=False, fit_intercept=False, normalize=True, score=0.605, total=   0.0s\n",
      "[CV] copy_X=False, fit_intercept=False, normalize=False ..............\n",
      "[CV]  copy_X=False, fit_intercept=False, normalize=False, score=0.571, total=   0.0s\n",
      "[CV] copy_X=False, fit_intercept=False, normalize=False ..............\n",
      "[CV]  copy_X=False, fit_intercept=False, normalize=False, score=0.591, total=   0.0s\n",
      "[CV] copy_X=False, fit_intercept=False, normalize=False ..............\n",
      "[CV]  copy_X=False, fit_intercept=False, normalize=False, score=0.628, total=   0.0s\n",
      "[CV] copy_X=False, fit_intercept=False, normalize=False ..............\n",
      "[CV]  copy_X=False, fit_intercept=False, normalize=False, score=0.552, total=   0.0s\n",
      "[CV] copy_X=False, fit_intercept=False, normalize=False ..............\n",
      "[CV]  copy_X=False, fit_intercept=False, normalize=False, score=0.605, total=   0.0s\n"
     ]
    },
    {
     "name": "stderr",
     "output_type": "stream",
     "text": [
      "[Parallel(n_jobs=1)]: Using backend SequentialBackend with 1 concurrent workers.\n",
      "[Parallel(n_jobs=1)]: Done   1 out of   1 | elapsed:    0.0s remaining:    0.0s\n",
      "[Parallel(n_jobs=1)]: Done   2 out of   2 | elapsed:    0.0s remaining:    0.0s\n",
      "[Parallel(n_jobs=1)]: Done  40 out of  40 | elapsed:    0.0s finished\n"
     ]
    },
    {
     "data": {
      "text/plain": [
       "GridSearchCV(cv=None, error_score=nan,\n",
       "             estimator=LinearRegression(copy_X=True, fit_intercept=True,\n",
       "                                        n_jobs=None, normalize=True),\n",
       "             iid='deprecated', n_jobs=None,\n",
       "             param_grid={'copy_X': [True, False],\n",
       "                         'fit_intercept': [True, False],\n",
       "                         'normalize': [True, False]},\n",
       "             pre_dispatch='2*n_jobs', refit=True, return_train_score=False,\n",
       "             scoring=None, verbose=3)"
      ]
     },
     "execution_count": 189,
     "metadata": {},
     "output_type": "execute_result"
    }
   ],
   "source": [
    "# Train the model with GridSearch\n",
    "grid.fit(X_train,y_train)"
   ]
  },
  {
   "cell_type": "code",
   "execution_count": 190,
   "metadata": {},
   "outputs": [
    {
     "data": {
      "text/plain": [
       "0.6193625275279359"
      ]
     },
     "execution_count": 190,
     "metadata": {},
     "output_type": "execute_result"
    }
   ],
   "source": [
    "grid.best_score_"
   ]
  },
  {
   "cell_type": "code",
   "execution_count": 191,
   "metadata": {},
   "outputs": [],
   "source": [
    "ys = grid.predict(X_test)"
   ]
  },
  {
   "cell_type": "code",
   "execution_count": 192,
   "metadata": {},
   "outputs": [],
   "source": [
    "resids = (ys - y_test)**2"
   ]
  },
  {
   "cell_type": "code",
   "execution_count": 193,
   "metadata": {},
   "outputs": [
    {
     "data": {
      "text/plain": [
       "4.647672409034978"
      ]
     },
     "execution_count": 193,
     "metadata": {},
     "output_type": "execute_result"
    }
   ],
   "source": [
    "pd.Series(resids.reshape(-1)).apply(math.sqrt).mean()"
   ]
  },
  {
   "cell_type": "code",
   "execution_count": 194,
   "metadata": {},
   "outputs": [],
   "source": [
    "from sklearn.metrics import r2_score"
   ]
  },
  {
   "cell_type": "code",
   "execution_count": 195,
   "metadata": {},
   "outputs": [
    {
     "data": {
      "text/plain": [
       "0.6277712268609108"
      ]
     },
     "execution_count": 195,
     "metadata": {},
     "output_type": "execute_result"
    }
   ],
   "source": [
    "r2_score(y_test, ys)"
   ]
  },
  {
   "cell_type": "code",
   "execution_count": 197,
   "metadata": {},
   "outputs": [],
   "source": [
    "!cd .."
   ]
  },
  {
   "cell_type": "code",
   "execution_count": 202,
   "metadata": {},
   "outputs": [
    {
     "name": "stdout",
     "output_type": "stream",
     "text": [
      "2020GamesLeft.csv\n",
      "MachineLearningModels.ipynb\n"
     ]
    }
   ],
   "source": [
    "!ls"
   ]
  },
  {
   "cell_type": "code",
   "execution_count": 203,
   "metadata": {},
   "outputs": [
    {
     "data": {
      "text/plain": [
       "Index(['Unnamed: 0', 'Year', 'Week_x', 'Abbr_RDBMS_Winner', 'Week2', 'Day',\n",
       "       'Date', 'Time', 'Home_Team', 'FINAL_TEAM_NAME', 'Opponent',\n",
       "       'TEAM_POINTS', 'TEAM_YARDS', 'TEAM_TURNOVERS',\n",
       "       'TEAM_TURNOVER_DIFFERENTIAL', 'OPPONENTS_POINTS', 'OPPONENTS_YARDS',\n",
       "       'OPPONENTS_TURNOVERS', 'OPPONENTS_TURNOVER_DIFFERENTIAL',\n",
       "       'TEAM_POINT_MARGIN', 'GAMEID', 'BINARY_WIN', 'W-L-T', 'Power Index FPI',\n",
       "       'Power Index RK', 'Power Index TREND', 'Power Index OFF',\n",
       "       'Power Index DEF', 'Power Index ST', 'Ranks SOS', 'Ranks REM SOS',\n",
       "       'Ranks AVGWP', 'DIVISION_538_Winner', 'ELO WITH QB_538_Winner',\n",
       "       'ELO CHANGE_538_Winner', 'CURRENT QB ADJ_538_Winner',\n",
       "       'Points_Diff_538_Winner', 'Playoffs_Prob_538_Winner',\n",
       "       'Division_Prob_538_Winner', 'Bye_Prob_538_Winner', 'SB_Prob_538_Winner',\n",
       "       'REAL_WINS2_538_Winner', 'REAL_LOSSES2_538_Winner',\n",
       "       'REAL_TIES_538_Winner', 'PROJ_WINS4_538_Winner',\n",
       "       'PROJ_LOSS4_538_Winner', 'EPA/play_RDBMS_Winner',\n",
       "       'OVR_SUCCESS_RATE_RDBMS_Winner', 'Dropback EPA_RDBMS_Winner',\n",
       "       'DROPBACK_SR_RDBMS_Winner', 'Rush EPA_RDBMS_Winner',\n",
       "       'RUN_SR_RDBMS_Winner', 'TOTAL DVOA_FO_WEEKLY_Winner',\n",
       "       'LAST WEEK_FO_WEEKLY_Winner', 'DAVE_WEI_DVOA_FO_WEEKLY_Winner',\n",
       "       'OFFENSE DVOA_FO_WEEKLY_Winner', 'DEFENSE DVOA_FO_WEEKLY_Winner',\n",
       "       'S.T. DVOA_FO_WEEKLY_Winner', 'RK_FO_ANNUAL_Winner',\n",
       "       'TOTAL DVOA_FO_ANNUAL_Winner', 'DAVE_WEI_DVOA_FO_ANNUAL_Winner',\n",
       "       'OFFENSE DVOA_FO_ANNUAL_Winner', 'DEFENSE DVOA_FO_ANNUAL_Winner',\n",
       "       'S.T. DVOA_FO_ANNUAL_Winner', 'non-adj VOA_FO_ANNUAL_Winner',\n",
       "       'Last Year_FO_ANNUAL_Winner', 'ESTIM. WINS_FO_ANNUAL_Winner',\n",
       "       'SCHEDULE RANK_FO_ANNUAL_Winner', 'VAR._FO_ANNUAL_Winner',\n",
       "       'TOTAL_GAME_POINTS', 'TOTAL_GAME_YARDS', 'TOTAL_GAME_TURNOVERS',\n",
       "       'PLAYOFFS_BINARY', 'GAME_TYPE', 'FINAL_TEAM_NAME_Opp',\n",
       "       'Power Index DEF_Opp'],\n",
       "      dtype='object')"
      ]
     },
     "execution_count": 203,
     "metadata": {},
     "output_type": "execute_result"
    }
   ],
   "source": [
    "allTheStats3.columns"
   ]
  },
  {
   "cell_type": "code",
   "execution_count": 205,
   "metadata": {},
   "outputs": [
    {
     "data": {
      "text/html": [
       "<div>\n",
       "<style scoped>\n",
       "    .dataframe tbody tr th:only-of-type {\n",
       "        vertical-align: middle;\n",
       "    }\n",
       "\n",
       "    .dataframe tbody tr th {\n",
       "        vertical-align: top;\n",
       "    }\n",
       "\n",
       "    .dataframe thead th {\n",
       "        text-align: right;\n",
       "    }\n",
       "</style>\n",
       "<table border=\"1\" class=\"dataframe\">\n",
       "  <thead>\n",
       "    <tr style=\"text-align: right;\">\n",
       "      <th></th>\n",
       "      <th>Unnamed: 0</th>\n",
       "      <th>Year</th>\n",
       "      <th>Week_x</th>\n",
       "      <th>Abbr_RDBMS_Winner</th>\n",
       "      <th>Week2</th>\n",
       "      <th>Day</th>\n",
       "      <th>Date</th>\n",
       "      <th>Time</th>\n",
       "      <th>Home_Team</th>\n",
       "      <th>Opponent</th>\n",
       "      <th>...</th>\n",
       "      <th>ESTIM. WINS_FO_ANNUAL_Winner</th>\n",
       "      <th>SCHEDULE RANK_FO_ANNUAL_Winner</th>\n",
       "      <th>VAR._FO_ANNUAL_Winner</th>\n",
       "      <th>TOTAL_GAME_POINTS</th>\n",
       "      <th>TOTAL_GAME_YARDS</th>\n",
       "      <th>TOTAL_GAME_TURNOVERS</th>\n",
       "      <th>PLAYOFFS_BINARY</th>\n",
       "      <th>GAME_TYPE</th>\n",
       "      <th>FINAL_TEAM_NAME_Opp</th>\n",
       "      <th>Power Index DEF_Opp</th>\n",
       "    </tr>\n",
       "    <tr>\n",
       "      <th>FINAL_TEAM_NAME</th>\n",
       "      <th></th>\n",
       "      <th></th>\n",
       "      <th></th>\n",
       "      <th></th>\n",
       "      <th></th>\n",
       "      <th></th>\n",
       "      <th></th>\n",
       "      <th></th>\n",
       "      <th></th>\n",
       "      <th></th>\n",
       "      <th></th>\n",
       "      <th></th>\n",
       "      <th></th>\n",
       "      <th></th>\n",
       "      <th></th>\n",
       "      <th></th>\n",
       "      <th></th>\n",
       "      <th></th>\n",
       "      <th></th>\n",
       "      <th></th>\n",
       "      <th></th>\n",
       "    </tr>\n",
       "  </thead>\n",
       "  <tbody>\n",
       "    <tr>\n",
       "      <th>Arizona Cardinals</th>\n",
       "      <td>90</td>\n",
       "      <td>90</td>\n",
       "      <td>90</td>\n",
       "      <td>90</td>\n",
       "      <td>90</td>\n",
       "      <td>90</td>\n",
       "      <td>90</td>\n",
       "      <td>90</td>\n",
       "      <td>90</td>\n",
       "      <td>90</td>\n",
       "      <td>...</td>\n",
       "      <td>90</td>\n",
       "      <td>90</td>\n",
       "      <td>90</td>\n",
       "      <td>90</td>\n",
       "      <td>90</td>\n",
       "      <td>90</td>\n",
       "      <td>90</td>\n",
       "      <td>90</td>\n",
       "      <td>90</td>\n",
       "      <td>90</td>\n",
       "    </tr>\n",
       "    <tr>\n",
       "      <th>Atlanta Falcons</th>\n",
       "      <td>94</td>\n",
       "      <td>94</td>\n",
       "      <td>94</td>\n",
       "      <td>94</td>\n",
       "      <td>94</td>\n",
       "      <td>94</td>\n",
       "      <td>94</td>\n",
       "      <td>94</td>\n",
       "      <td>94</td>\n",
       "      <td>94</td>\n",
       "      <td>...</td>\n",
       "      <td>94</td>\n",
       "      <td>94</td>\n",
       "      <td>94</td>\n",
       "      <td>94</td>\n",
       "      <td>94</td>\n",
       "      <td>94</td>\n",
       "      <td>94</td>\n",
       "      <td>94</td>\n",
       "      <td>94</td>\n",
       "      <td>94</td>\n",
       "    </tr>\n",
       "    <tr>\n",
       "      <th>Baltimore Ravens</th>\n",
       "      <td>90</td>\n",
       "      <td>90</td>\n",
       "      <td>90</td>\n",
       "      <td>90</td>\n",
       "      <td>90</td>\n",
       "      <td>90</td>\n",
       "      <td>90</td>\n",
       "      <td>90</td>\n",
       "      <td>90</td>\n",
       "      <td>90</td>\n",
       "      <td>...</td>\n",
       "      <td>90</td>\n",
       "      <td>90</td>\n",
       "      <td>90</td>\n",
       "      <td>90</td>\n",
       "      <td>90</td>\n",
       "      <td>90</td>\n",
       "      <td>90</td>\n",
       "      <td>90</td>\n",
       "      <td>90</td>\n",
       "      <td>90</td>\n",
       "    </tr>\n",
       "    <tr>\n",
       "      <th>Buffalo Bills</th>\n",
       "      <td>90</td>\n",
       "      <td>90</td>\n",
       "      <td>90</td>\n",
       "      <td>90</td>\n",
       "      <td>90</td>\n",
       "      <td>90</td>\n",
       "      <td>90</td>\n",
       "      <td>90</td>\n",
       "      <td>90</td>\n",
       "      <td>90</td>\n",
       "      <td>...</td>\n",
       "      <td>90</td>\n",
       "      <td>90</td>\n",
       "      <td>90</td>\n",
       "      <td>90</td>\n",
       "      <td>90</td>\n",
       "      <td>90</td>\n",
       "      <td>90</td>\n",
       "      <td>90</td>\n",
       "      <td>90</td>\n",
       "      <td>90</td>\n",
       "    </tr>\n",
       "    <tr>\n",
       "      <th>Carolina Panthers</th>\n",
       "      <td>92</td>\n",
       "      <td>92</td>\n",
       "      <td>92</td>\n",
       "      <td>92</td>\n",
       "      <td>92</td>\n",
       "      <td>92</td>\n",
       "      <td>92</td>\n",
       "      <td>92</td>\n",
       "      <td>92</td>\n",
       "      <td>92</td>\n",
       "      <td>...</td>\n",
       "      <td>92</td>\n",
       "      <td>92</td>\n",
       "      <td>92</td>\n",
       "      <td>92</td>\n",
       "      <td>92</td>\n",
       "      <td>92</td>\n",
       "      <td>92</td>\n",
       "      <td>92</td>\n",
       "      <td>92</td>\n",
       "      <td>92</td>\n",
       "    </tr>\n",
       "    <tr>\n",
       "      <th>Chicago Bears</th>\n",
       "      <td>88</td>\n",
       "      <td>88</td>\n",
       "      <td>88</td>\n",
       "      <td>88</td>\n",
       "      <td>88</td>\n",
       "      <td>88</td>\n",
       "      <td>88</td>\n",
       "      <td>88</td>\n",
       "      <td>88</td>\n",
       "      <td>88</td>\n",
       "      <td>...</td>\n",
       "      <td>88</td>\n",
       "      <td>88</td>\n",
       "      <td>88</td>\n",
       "      <td>88</td>\n",
       "      <td>88</td>\n",
       "      <td>88</td>\n",
       "      <td>88</td>\n",
       "      <td>88</td>\n",
       "      <td>88</td>\n",
       "      <td>88</td>\n",
       "    </tr>\n",
       "    <tr>\n",
       "      <th>Cincinnati Bengals</th>\n",
       "      <td>88</td>\n",
       "      <td>88</td>\n",
       "      <td>88</td>\n",
       "      <td>88</td>\n",
       "      <td>88</td>\n",
       "      <td>88</td>\n",
       "      <td>88</td>\n",
       "      <td>88</td>\n",
       "      <td>88</td>\n",
       "      <td>88</td>\n",
       "      <td>...</td>\n",
       "      <td>88</td>\n",
       "      <td>88</td>\n",
       "      <td>88</td>\n",
       "      <td>88</td>\n",
       "      <td>88</td>\n",
       "      <td>88</td>\n",
       "      <td>88</td>\n",
       "      <td>88</td>\n",
       "      <td>88</td>\n",
       "      <td>88</td>\n",
       "    </tr>\n",
       "    <tr>\n",
       "      <th>Cleveland Browns</th>\n",
       "      <td>88</td>\n",
       "      <td>88</td>\n",
       "      <td>88</td>\n",
       "      <td>88</td>\n",
       "      <td>88</td>\n",
       "      <td>88</td>\n",
       "      <td>88</td>\n",
       "      <td>88</td>\n",
       "      <td>88</td>\n",
       "      <td>88</td>\n",
       "      <td>...</td>\n",
       "      <td>88</td>\n",
       "      <td>88</td>\n",
       "      <td>88</td>\n",
       "      <td>88</td>\n",
       "      <td>88</td>\n",
       "      <td>88</td>\n",
       "      <td>88</td>\n",
       "      <td>88</td>\n",
       "      <td>88</td>\n",
       "      <td>88</td>\n",
       "    </tr>\n",
       "    <tr>\n",
       "      <th>Dallas Cowboys</th>\n",
       "      <td>92</td>\n",
       "      <td>92</td>\n",
       "      <td>92</td>\n",
       "      <td>92</td>\n",
       "      <td>92</td>\n",
       "      <td>92</td>\n",
       "      <td>92</td>\n",
       "      <td>92</td>\n",
       "      <td>92</td>\n",
       "      <td>92</td>\n",
       "      <td>...</td>\n",
       "      <td>92</td>\n",
       "      <td>92</td>\n",
       "      <td>92</td>\n",
       "      <td>92</td>\n",
       "      <td>92</td>\n",
       "      <td>92</td>\n",
       "      <td>92</td>\n",
       "      <td>92</td>\n",
       "      <td>92</td>\n",
       "      <td>92</td>\n",
       "    </tr>\n",
       "    <tr>\n",
       "      <th>Denver Broncos</th>\n",
       "      <td>89</td>\n",
       "      <td>89</td>\n",
       "      <td>89</td>\n",
       "      <td>89</td>\n",
       "      <td>89</td>\n",
       "      <td>89</td>\n",
       "      <td>89</td>\n",
       "      <td>89</td>\n",
       "      <td>89</td>\n",
       "      <td>89</td>\n",
       "      <td>...</td>\n",
       "      <td>89</td>\n",
       "      <td>89</td>\n",
       "      <td>89</td>\n",
       "      <td>89</td>\n",
       "      <td>89</td>\n",
       "      <td>89</td>\n",
       "      <td>89</td>\n",
       "      <td>89</td>\n",
       "      <td>89</td>\n",
       "      <td>89</td>\n",
       "    </tr>\n",
       "    <tr>\n",
       "      <th>Detroit Lions</th>\n",
       "      <td>89</td>\n",
       "      <td>89</td>\n",
       "      <td>89</td>\n",
       "      <td>89</td>\n",
       "      <td>89</td>\n",
       "      <td>89</td>\n",
       "      <td>89</td>\n",
       "      <td>89</td>\n",
       "      <td>89</td>\n",
       "      <td>89</td>\n",
       "      <td>...</td>\n",
       "      <td>89</td>\n",
       "      <td>89</td>\n",
       "      <td>89</td>\n",
       "      <td>89</td>\n",
       "      <td>89</td>\n",
       "      <td>89</td>\n",
       "      <td>89</td>\n",
       "      <td>89</td>\n",
       "      <td>89</td>\n",
       "      <td>89</td>\n",
       "    </tr>\n",
       "    <tr>\n",
       "      <th>Green Bay Packers</th>\n",
       "      <td>94</td>\n",
       "      <td>94</td>\n",
       "      <td>94</td>\n",
       "      <td>94</td>\n",
       "      <td>94</td>\n",
       "      <td>94</td>\n",
       "      <td>94</td>\n",
       "      <td>94</td>\n",
       "      <td>94</td>\n",
       "      <td>94</td>\n",
       "      <td>...</td>\n",
       "      <td>94</td>\n",
       "      <td>94</td>\n",
       "      <td>94</td>\n",
       "      <td>94</td>\n",
       "      <td>94</td>\n",
       "      <td>94</td>\n",
       "      <td>94</td>\n",
       "      <td>94</td>\n",
       "      <td>94</td>\n",
       "      <td>94</td>\n",
       "    </tr>\n",
       "    <tr>\n",
       "      <th>Houston Texans</th>\n",
       "      <td>93</td>\n",
       "      <td>93</td>\n",
       "      <td>93</td>\n",
       "      <td>93</td>\n",
       "      <td>93</td>\n",
       "      <td>93</td>\n",
       "      <td>93</td>\n",
       "      <td>93</td>\n",
       "      <td>93</td>\n",
       "      <td>93</td>\n",
       "      <td>...</td>\n",
       "      <td>93</td>\n",
       "      <td>93</td>\n",
       "      <td>93</td>\n",
       "      <td>93</td>\n",
       "      <td>93</td>\n",
       "      <td>93</td>\n",
       "      <td>93</td>\n",
       "      <td>93</td>\n",
       "      <td>93</td>\n",
       "      <td>93</td>\n",
       "    </tr>\n",
       "    <tr>\n",
       "      <th>Indianapolis Colts</th>\n",
       "      <td>90</td>\n",
       "      <td>90</td>\n",
       "      <td>90</td>\n",
       "      <td>90</td>\n",
       "      <td>90</td>\n",
       "      <td>90</td>\n",
       "      <td>90</td>\n",
       "      <td>90</td>\n",
       "      <td>90</td>\n",
       "      <td>90</td>\n",
       "      <td>...</td>\n",
       "      <td>90</td>\n",
       "      <td>90</td>\n",
       "      <td>90</td>\n",
       "      <td>90</td>\n",
       "      <td>90</td>\n",
       "      <td>90</td>\n",
       "      <td>90</td>\n",
       "      <td>90</td>\n",
       "      <td>90</td>\n",
       "      <td>90</td>\n",
       "    </tr>\n",
       "    <tr>\n",
       "      <th>Jacksonville Jaguars</th>\n",
       "      <td>90</td>\n",
       "      <td>90</td>\n",
       "      <td>90</td>\n",
       "      <td>90</td>\n",
       "      <td>90</td>\n",
       "      <td>90</td>\n",
       "      <td>90</td>\n",
       "      <td>90</td>\n",
       "      <td>90</td>\n",
       "      <td>90</td>\n",
       "      <td>...</td>\n",
       "      <td>90</td>\n",
       "      <td>90</td>\n",
       "      <td>90</td>\n",
       "      <td>90</td>\n",
       "      <td>90</td>\n",
       "      <td>90</td>\n",
       "      <td>90</td>\n",
       "      <td>90</td>\n",
       "      <td>90</td>\n",
       "      <td>90</td>\n",
       "    </tr>\n",
       "    <tr>\n",
       "      <th>Kansas City Chiefs</th>\n",
       "      <td>98</td>\n",
       "      <td>98</td>\n",
       "      <td>98</td>\n",
       "      <td>98</td>\n",
       "      <td>98</td>\n",
       "      <td>98</td>\n",
       "      <td>98</td>\n",
       "      <td>98</td>\n",
       "      <td>98</td>\n",
       "      <td>98</td>\n",
       "      <td>...</td>\n",
       "      <td>98</td>\n",
       "      <td>98</td>\n",
       "      <td>98</td>\n",
       "      <td>98</td>\n",
       "      <td>98</td>\n",
       "      <td>98</td>\n",
       "      <td>98</td>\n",
       "      <td>98</td>\n",
       "      <td>98</td>\n",
       "      <td>98</td>\n",
       "    </tr>\n",
       "    <tr>\n",
       "      <th>Miami Dolphins</th>\n",
       "      <td>89</td>\n",
       "      <td>89</td>\n",
       "      <td>89</td>\n",
       "      <td>89</td>\n",
       "      <td>89</td>\n",
       "      <td>89</td>\n",
       "      <td>89</td>\n",
       "      <td>89</td>\n",
       "      <td>89</td>\n",
       "      <td>89</td>\n",
       "      <td>...</td>\n",
       "      <td>89</td>\n",
       "      <td>89</td>\n",
       "      <td>89</td>\n",
       "      <td>89</td>\n",
       "      <td>89</td>\n",
       "      <td>89</td>\n",
       "      <td>89</td>\n",
       "      <td>89</td>\n",
       "      <td>89</td>\n",
       "      <td>89</td>\n",
       "    </tr>\n",
       "    <tr>\n",
       "      <th>Minnesota Vikings</th>\n",
       "      <td>92</td>\n",
       "      <td>92</td>\n",
       "      <td>92</td>\n",
       "      <td>92</td>\n",
       "      <td>92</td>\n",
       "      <td>92</td>\n",
       "      <td>92</td>\n",
       "      <td>92</td>\n",
       "      <td>92</td>\n",
       "      <td>92</td>\n",
       "      <td>...</td>\n",
       "      <td>92</td>\n",
       "      <td>92</td>\n",
       "      <td>92</td>\n",
       "      <td>92</td>\n",
       "      <td>92</td>\n",
       "      <td>92</td>\n",
       "      <td>92</td>\n",
       "      <td>92</td>\n",
       "      <td>92</td>\n",
       "      <td>92</td>\n",
       "    </tr>\n",
       "    <tr>\n",
       "      <th>New England Patriots</th>\n",
       "      <td>100</td>\n",
       "      <td>100</td>\n",
       "      <td>100</td>\n",
       "      <td>100</td>\n",
       "      <td>100</td>\n",
       "      <td>100</td>\n",
       "      <td>100</td>\n",
       "      <td>100</td>\n",
       "      <td>100</td>\n",
       "      <td>100</td>\n",
       "      <td>...</td>\n",
       "      <td>100</td>\n",
       "      <td>100</td>\n",
       "      <td>100</td>\n",
       "      <td>100</td>\n",
       "      <td>100</td>\n",
       "      <td>100</td>\n",
       "      <td>100</td>\n",
       "      <td>100</td>\n",
       "      <td>100</td>\n",
       "      <td>100</td>\n",
       "    </tr>\n",
       "    <tr>\n",
       "      <th>New Orleans Saints</th>\n",
       "      <td>91</td>\n",
       "      <td>91</td>\n",
       "      <td>91</td>\n",
       "      <td>91</td>\n",
       "      <td>91</td>\n",
       "      <td>91</td>\n",
       "      <td>91</td>\n",
       "      <td>91</td>\n",
       "      <td>91</td>\n",
       "      <td>91</td>\n",
       "      <td>...</td>\n",
       "      <td>91</td>\n",
       "      <td>91</td>\n",
       "      <td>91</td>\n",
       "      <td>91</td>\n",
       "      <td>91</td>\n",
       "      <td>91</td>\n",
       "      <td>91</td>\n",
       "      <td>91</td>\n",
       "      <td>91</td>\n",
       "      <td>91</td>\n",
       "    </tr>\n",
       "    <tr>\n",
       "      <th>New York Giants</th>\n",
       "      <td>89</td>\n",
       "      <td>89</td>\n",
       "      <td>89</td>\n",
       "      <td>89</td>\n",
       "      <td>89</td>\n",
       "      <td>89</td>\n",
       "      <td>89</td>\n",
       "      <td>89</td>\n",
       "      <td>89</td>\n",
       "      <td>89</td>\n",
       "      <td>...</td>\n",
       "      <td>89</td>\n",
       "      <td>89</td>\n",
       "      <td>89</td>\n",
       "      <td>89</td>\n",
       "      <td>89</td>\n",
       "      <td>89</td>\n",
       "      <td>89</td>\n",
       "      <td>89</td>\n",
       "      <td>89</td>\n",
       "      <td>89</td>\n",
       "    </tr>\n",
       "    <tr>\n",
       "      <th>New York Jets</th>\n",
       "      <td>89</td>\n",
       "      <td>89</td>\n",
       "      <td>89</td>\n",
       "      <td>89</td>\n",
       "      <td>89</td>\n",
       "      <td>89</td>\n",
       "      <td>89</td>\n",
       "      <td>89</td>\n",
       "      <td>89</td>\n",
       "      <td>89</td>\n",
       "      <td>...</td>\n",
       "      <td>89</td>\n",
       "      <td>89</td>\n",
       "      <td>89</td>\n",
       "      <td>89</td>\n",
       "      <td>89</td>\n",
       "      <td>89</td>\n",
       "      <td>89</td>\n",
       "      <td>89</td>\n",
       "      <td>89</td>\n",
       "      <td>89</td>\n",
       "    </tr>\n",
       "    <tr>\n",
       "      <th>Oakland Raiders</th>\n",
       "      <td>88</td>\n",
       "      <td>88</td>\n",
       "      <td>88</td>\n",
       "      <td>88</td>\n",
       "      <td>88</td>\n",
       "      <td>88</td>\n",
       "      <td>88</td>\n",
       "      <td>88</td>\n",
       "      <td>88</td>\n",
       "      <td>88</td>\n",
       "      <td>...</td>\n",
       "      <td>88</td>\n",
       "      <td>88</td>\n",
       "      <td>88</td>\n",
       "      <td>88</td>\n",
       "      <td>88</td>\n",
       "      <td>88</td>\n",
       "      <td>88</td>\n",
       "      <td>88</td>\n",
       "      <td>88</td>\n",
       "      <td>88</td>\n",
       "    </tr>\n",
       "    <tr>\n",
       "      <th>Philadelphia Eagles</th>\n",
       "      <td>94</td>\n",
       "      <td>94</td>\n",
       "      <td>94</td>\n",
       "      <td>94</td>\n",
       "      <td>94</td>\n",
       "      <td>94</td>\n",
       "      <td>94</td>\n",
       "      <td>94</td>\n",
       "      <td>94</td>\n",
       "      <td>94</td>\n",
       "      <td>...</td>\n",
       "      <td>94</td>\n",
       "      <td>94</td>\n",
       "      <td>94</td>\n",
       "      <td>94</td>\n",
       "      <td>94</td>\n",
       "      <td>94</td>\n",
       "      <td>94</td>\n",
       "      <td>94</td>\n",
       "      <td>94</td>\n",
       "      <td>94</td>\n",
       "    </tr>\n",
       "    <tr>\n",
       "      <th>Pittsburgh Steelers</th>\n",
       "      <td>93</td>\n",
       "      <td>93</td>\n",
       "      <td>93</td>\n",
       "      <td>93</td>\n",
       "      <td>93</td>\n",
       "      <td>93</td>\n",
       "      <td>93</td>\n",
       "      <td>93</td>\n",
       "      <td>93</td>\n",
       "      <td>93</td>\n",
       "      <td>...</td>\n",
       "      <td>93</td>\n",
       "      <td>93</td>\n",
       "      <td>93</td>\n",
       "      <td>93</td>\n",
       "      <td>93</td>\n",
       "      <td>93</td>\n",
       "      <td>93</td>\n",
       "      <td>93</td>\n",
       "      <td>93</td>\n",
       "      <td>93</td>\n",
       "    </tr>\n",
       "    <tr>\n",
       "      <th>San Diego Chargers</th>\n",
       "      <td>89</td>\n",
       "      <td>89</td>\n",
       "      <td>89</td>\n",
       "      <td>89</td>\n",
       "      <td>89</td>\n",
       "      <td>89</td>\n",
       "      <td>89</td>\n",
       "      <td>89</td>\n",
       "      <td>89</td>\n",
       "      <td>89</td>\n",
       "      <td>...</td>\n",
       "      <td>89</td>\n",
       "      <td>89</td>\n",
       "      <td>89</td>\n",
       "      <td>89</td>\n",
       "      <td>89</td>\n",
       "      <td>89</td>\n",
       "      <td>89</td>\n",
       "      <td>89</td>\n",
       "      <td>89</td>\n",
       "      <td>89</td>\n",
       "    </tr>\n",
       "    <tr>\n",
       "      <th>San Francisco 49ers</th>\n",
       "      <td>92</td>\n",
       "      <td>92</td>\n",
       "      <td>92</td>\n",
       "      <td>92</td>\n",
       "      <td>92</td>\n",
       "      <td>92</td>\n",
       "      <td>92</td>\n",
       "      <td>92</td>\n",
       "      <td>92</td>\n",
       "      <td>92</td>\n",
       "      <td>...</td>\n",
       "      <td>92</td>\n",
       "      <td>92</td>\n",
       "      <td>92</td>\n",
       "      <td>92</td>\n",
       "      <td>92</td>\n",
       "      <td>92</td>\n",
       "      <td>92</td>\n",
       "      <td>92</td>\n",
       "      <td>92</td>\n",
       "      <td>92</td>\n",
       "    </tr>\n",
       "    <tr>\n",
       "      <th>Seattle Seahawks</th>\n",
       "      <td>95</td>\n",
       "      <td>95</td>\n",
       "      <td>95</td>\n",
       "      <td>95</td>\n",
       "      <td>95</td>\n",
       "      <td>95</td>\n",
       "      <td>95</td>\n",
       "      <td>95</td>\n",
       "      <td>95</td>\n",
       "      <td>95</td>\n",
       "      <td>...</td>\n",
       "      <td>95</td>\n",
       "      <td>95</td>\n",
       "      <td>95</td>\n",
       "      <td>95</td>\n",
       "      <td>95</td>\n",
       "      <td>95</td>\n",
       "      <td>95</td>\n",
       "      <td>95</td>\n",
       "      <td>95</td>\n",
       "      <td>95</td>\n",
       "    </tr>\n",
       "    <tr>\n",
       "      <th>St. Louis Rams</th>\n",
       "      <td>92</td>\n",
       "      <td>92</td>\n",
       "      <td>92</td>\n",
       "      <td>92</td>\n",
       "      <td>92</td>\n",
       "      <td>92</td>\n",
       "      <td>92</td>\n",
       "      <td>92</td>\n",
       "      <td>92</td>\n",
       "      <td>92</td>\n",
       "      <td>...</td>\n",
       "      <td>92</td>\n",
       "      <td>92</td>\n",
       "      <td>92</td>\n",
       "      <td>92</td>\n",
       "      <td>92</td>\n",
       "      <td>92</td>\n",
       "      <td>92</td>\n",
       "      <td>92</td>\n",
       "      <td>92</td>\n",
       "      <td>92</td>\n",
       "    </tr>\n",
       "    <tr>\n",
       "      <th>Tampa Bay Buccaneers</th>\n",
       "      <td>80</td>\n",
       "      <td>80</td>\n",
       "      <td>80</td>\n",
       "      <td>80</td>\n",
       "      <td>80</td>\n",
       "      <td>80</td>\n",
       "      <td>80</td>\n",
       "      <td>80</td>\n",
       "      <td>80</td>\n",
       "      <td>80</td>\n",
       "      <td>...</td>\n",
       "      <td>80</td>\n",
       "      <td>80</td>\n",
       "      <td>80</td>\n",
       "      <td>80</td>\n",
       "      <td>80</td>\n",
       "      <td>80</td>\n",
       "      <td>80</td>\n",
       "      <td>80</td>\n",
       "      <td>80</td>\n",
       "      <td>80</td>\n",
       "    </tr>\n",
       "    <tr>\n",
       "      <th>Tennessee Titans</th>\n",
       "      <td>85</td>\n",
       "      <td>85</td>\n",
       "      <td>85</td>\n",
       "      <td>85</td>\n",
       "      <td>85</td>\n",
       "      <td>85</td>\n",
       "      <td>85</td>\n",
       "      <td>85</td>\n",
       "      <td>85</td>\n",
       "      <td>85</td>\n",
       "      <td>...</td>\n",
       "      <td>85</td>\n",
       "      <td>85</td>\n",
       "      <td>85</td>\n",
       "      <td>85</td>\n",
       "      <td>85</td>\n",
       "      <td>85</td>\n",
       "      <td>85</td>\n",
       "      <td>85</td>\n",
       "      <td>85</td>\n",
       "      <td>85</td>\n",
       "    </tr>\n",
       "    <tr>\n",
       "      <th>Washington Redskins</th>\n",
       "      <td>89</td>\n",
       "      <td>89</td>\n",
       "      <td>89</td>\n",
       "      <td>89</td>\n",
       "      <td>89</td>\n",
       "      <td>89</td>\n",
       "      <td>89</td>\n",
       "      <td>89</td>\n",
       "      <td>89</td>\n",
       "      <td>89</td>\n",
       "      <td>...</td>\n",
       "      <td>89</td>\n",
       "      <td>89</td>\n",
       "      <td>89</td>\n",
       "      <td>89</td>\n",
       "      <td>89</td>\n",
       "      <td>89</td>\n",
       "      <td>89</td>\n",
       "      <td>89</td>\n",
       "      <td>89</td>\n",
       "      <td>89</td>\n",
       "    </tr>\n",
       "  </tbody>\n",
       "</table>\n",
       "<p>32 rows × 75 columns</p>\n",
       "</div>"
      ],
      "text/plain": [
       "                      Unnamed: 0  Year  Week_x  Abbr_RDBMS_Winner  Week2  Day  \\\n",
       "FINAL_TEAM_NAME                                                                 \n",
       "Arizona Cardinals             90    90      90                 90     90   90   \n",
       "Atlanta Falcons               94    94      94                 94     94   94   \n",
       "Baltimore Ravens              90    90      90                 90     90   90   \n",
       "Buffalo Bills                 90    90      90                 90     90   90   \n",
       "Carolina Panthers             92    92      92                 92     92   92   \n",
       "Chicago Bears                 88    88      88                 88     88   88   \n",
       "Cincinnati Bengals            88    88      88                 88     88   88   \n",
       "Cleveland Browns              88    88      88                 88     88   88   \n",
       "Dallas Cowboys                92    92      92                 92     92   92   \n",
       "Denver Broncos                89    89      89                 89     89   89   \n",
       "Detroit Lions                 89    89      89                 89     89   89   \n",
       "Green Bay Packers             94    94      94                 94     94   94   \n",
       "Houston Texans                93    93      93                 93     93   93   \n",
       "Indianapolis Colts            90    90      90                 90     90   90   \n",
       "Jacksonville Jaguars          90    90      90                 90     90   90   \n",
       "Kansas City Chiefs            98    98      98                 98     98   98   \n",
       "Miami Dolphins                89    89      89                 89     89   89   \n",
       "Minnesota Vikings             92    92      92                 92     92   92   \n",
       "New England Patriots         100   100     100                100    100  100   \n",
       "New Orleans Saints            91    91      91                 91     91   91   \n",
       "New York Giants               89    89      89                 89     89   89   \n",
       "New York Jets                 89    89      89                 89     89   89   \n",
       "Oakland Raiders               88    88      88                 88     88   88   \n",
       "Philadelphia Eagles           94    94      94                 94     94   94   \n",
       "Pittsburgh Steelers           93    93      93                 93     93   93   \n",
       "San Diego Chargers            89    89      89                 89     89   89   \n",
       "San Francisco 49ers           92    92      92                 92     92   92   \n",
       "Seattle Seahawks              95    95      95                 95     95   95   \n",
       "St. Louis Rams                92    92      92                 92     92   92   \n",
       "Tampa Bay Buccaneers          80    80      80                 80     80   80   \n",
       "Tennessee Titans              85    85      85                 85     85   85   \n",
       "Washington Redskins           89    89      89                 89     89   89   \n",
       "\n",
       "                      Date  Time  Home_Team  Opponent  ...  \\\n",
       "FINAL_TEAM_NAME                                        ...   \n",
       "Arizona Cardinals       90    90         90        90  ...   \n",
       "Atlanta Falcons         94    94         94        94  ...   \n",
       "Baltimore Ravens        90    90         90        90  ...   \n",
       "Buffalo Bills           90    90         90        90  ...   \n",
       "Carolina Panthers       92    92         92        92  ...   \n",
       "Chicago Bears           88    88         88        88  ...   \n",
       "Cincinnati Bengals      88    88         88        88  ...   \n",
       "Cleveland Browns        88    88         88        88  ...   \n",
       "Dallas Cowboys          92    92         92        92  ...   \n",
       "Denver Broncos          89    89         89        89  ...   \n",
       "Detroit Lions           89    89         89        89  ...   \n",
       "Green Bay Packers       94    94         94        94  ...   \n",
       "Houston Texans          93    93         93        93  ...   \n",
       "Indianapolis Colts      90    90         90        90  ...   \n",
       "Jacksonville Jaguars    90    90         90        90  ...   \n",
       "Kansas City Chiefs      98    98         98        98  ...   \n",
       "Miami Dolphins          89    89         89        89  ...   \n",
       "Minnesota Vikings       92    92         92        92  ...   \n",
       "New England Patriots   100   100        100       100  ...   \n",
       "New Orleans Saints      91    91         91        91  ...   \n",
       "New York Giants         89    89         89        89  ...   \n",
       "New York Jets           89    89         89        89  ...   \n",
       "Oakland Raiders         88    88         88        88  ...   \n",
       "Philadelphia Eagles     94    94         94        94  ...   \n",
       "Pittsburgh Steelers     93    93         93        93  ...   \n",
       "San Diego Chargers      89    89         89        89  ...   \n",
       "San Francisco 49ers     92    92         92        92  ...   \n",
       "Seattle Seahawks        95    95         95        95  ...   \n",
       "St. Louis Rams          92    92         92        92  ...   \n",
       "Tampa Bay Buccaneers    80    80         80        80  ...   \n",
       "Tennessee Titans        85    85         85        85  ...   \n",
       "Washington Redskins     89    89         89        89  ...   \n",
       "\n",
       "                      ESTIM. WINS_FO_ANNUAL_Winner  \\\n",
       "FINAL_TEAM_NAME                                      \n",
       "Arizona Cardinals                               90   \n",
       "Atlanta Falcons                                 94   \n",
       "Baltimore Ravens                                90   \n",
       "Buffalo Bills                                   90   \n",
       "Carolina Panthers                               92   \n",
       "Chicago Bears                                   88   \n",
       "Cincinnati Bengals                              88   \n",
       "Cleveland Browns                                88   \n",
       "Dallas Cowboys                                  92   \n",
       "Denver Broncos                                  89   \n",
       "Detroit Lions                                   89   \n",
       "Green Bay Packers                               94   \n",
       "Houston Texans                                  93   \n",
       "Indianapolis Colts                              90   \n",
       "Jacksonville Jaguars                            90   \n",
       "Kansas City Chiefs                              98   \n",
       "Miami Dolphins                                  89   \n",
       "Minnesota Vikings                               92   \n",
       "New England Patriots                           100   \n",
       "New Orleans Saints                              91   \n",
       "New York Giants                                 89   \n",
       "New York Jets                                   89   \n",
       "Oakland Raiders                                 88   \n",
       "Philadelphia Eagles                             94   \n",
       "Pittsburgh Steelers                             93   \n",
       "San Diego Chargers                              89   \n",
       "San Francisco 49ers                             92   \n",
       "Seattle Seahawks                                95   \n",
       "St. Louis Rams                                  92   \n",
       "Tampa Bay Buccaneers                            80   \n",
       "Tennessee Titans                                85   \n",
       "Washington Redskins                             89   \n",
       "\n",
       "                      SCHEDULE RANK_FO_ANNUAL_Winner  VAR._FO_ANNUAL_Winner  \\\n",
       "FINAL_TEAM_NAME                                                               \n",
       "Arizona Cardinals                                 90                     90   \n",
       "Atlanta Falcons                                   94                     94   \n",
       "Baltimore Ravens                                  90                     90   \n",
       "Buffalo Bills                                     90                     90   \n",
       "Carolina Panthers                                 92                     92   \n",
       "Chicago Bears                                     88                     88   \n",
       "Cincinnati Bengals                                88                     88   \n",
       "Cleveland Browns                                  88                     88   \n",
       "Dallas Cowboys                                    92                     92   \n",
       "Denver Broncos                                    89                     89   \n",
       "Detroit Lions                                     89                     89   \n",
       "Green Bay Packers                                 94                     94   \n",
       "Houston Texans                                    93                     93   \n",
       "Indianapolis Colts                                90                     90   \n",
       "Jacksonville Jaguars                              90                     90   \n",
       "Kansas City Chiefs                                98                     98   \n",
       "Miami Dolphins                                    89                     89   \n",
       "Minnesota Vikings                                 92                     92   \n",
       "New England Patriots                             100                    100   \n",
       "New Orleans Saints                                91                     91   \n",
       "New York Giants                                   89                     89   \n",
       "New York Jets                                     89                     89   \n",
       "Oakland Raiders                                   88                     88   \n",
       "Philadelphia Eagles                               94                     94   \n",
       "Pittsburgh Steelers                               93                     93   \n",
       "San Diego Chargers                                89                     89   \n",
       "San Francisco 49ers                               92                     92   \n",
       "Seattle Seahawks                                  95                     95   \n",
       "St. Louis Rams                                    92                     92   \n",
       "Tampa Bay Buccaneers                              80                     80   \n",
       "Tennessee Titans                                  85                     85   \n",
       "Washington Redskins                               89                     89   \n",
       "\n",
       "                      TOTAL_GAME_POINTS  TOTAL_GAME_YARDS  \\\n",
       "FINAL_TEAM_NAME                                             \n",
       "Arizona Cardinals                    90                90   \n",
       "Atlanta Falcons                      94                94   \n",
       "Baltimore Ravens                     90                90   \n",
       "Buffalo Bills                        90                90   \n",
       "Carolina Panthers                    92                92   \n",
       "Chicago Bears                        88                88   \n",
       "Cincinnati Bengals                   88                88   \n",
       "Cleveland Browns                     88                88   \n",
       "Dallas Cowboys                       92                92   \n",
       "Denver Broncos                       89                89   \n",
       "Detroit Lions                        89                89   \n",
       "Green Bay Packers                    94                94   \n",
       "Houston Texans                       93                93   \n",
       "Indianapolis Colts                   90                90   \n",
       "Jacksonville Jaguars                 90                90   \n",
       "Kansas City Chiefs                   98                98   \n",
       "Miami Dolphins                       89                89   \n",
       "Minnesota Vikings                    92                92   \n",
       "New England Patriots                100               100   \n",
       "New Orleans Saints                   91                91   \n",
       "New York Giants                      89                89   \n",
       "New York Jets                        89                89   \n",
       "Oakland Raiders                      88                88   \n",
       "Philadelphia Eagles                  94                94   \n",
       "Pittsburgh Steelers                  93                93   \n",
       "San Diego Chargers                   89                89   \n",
       "San Francisco 49ers                  92                92   \n",
       "Seattle Seahawks                     95                95   \n",
       "St. Louis Rams                       92                92   \n",
       "Tampa Bay Buccaneers                 80                80   \n",
       "Tennessee Titans                     85                85   \n",
       "Washington Redskins                  89                89   \n",
       "\n",
       "                      TOTAL_GAME_TURNOVERS  PLAYOFFS_BINARY  GAME_TYPE  \\\n",
       "FINAL_TEAM_NAME                                                          \n",
       "Arizona Cardinals                       90               90         90   \n",
       "Atlanta Falcons                         94               94         94   \n",
       "Baltimore Ravens                        90               90         90   \n",
       "Buffalo Bills                           90               90         90   \n",
       "Carolina Panthers                       92               92         92   \n",
       "Chicago Bears                           88               88         88   \n",
       "Cincinnati Bengals                      88               88         88   \n",
       "Cleveland Browns                        88               88         88   \n",
       "Dallas Cowboys                          92               92         92   \n",
       "Denver Broncos                          89               89         89   \n",
       "Detroit Lions                           89               89         89   \n",
       "Green Bay Packers                       94               94         94   \n",
       "Houston Texans                          93               93         93   \n",
       "Indianapolis Colts                      90               90         90   \n",
       "Jacksonville Jaguars                    90               90         90   \n",
       "Kansas City Chiefs                      98               98         98   \n",
       "Miami Dolphins                          89               89         89   \n",
       "Minnesota Vikings                       92               92         92   \n",
       "New England Patriots                   100              100        100   \n",
       "New Orleans Saints                      91               91         91   \n",
       "New York Giants                         89               89         89   \n",
       "New York Jets                           89               89         89   \n",
       "Oakland Raiders                         88               88         88   \n",
       "Philadelphia Eagles                     94               94         94   \n",
       "Pittsburgh Steelers                     93               93         93   \n",
       "San Diego Chargers                      89               89         89   \n",
       "San Francisco 49ers                     92               92         92   \n",
       "Seattle Seahawks                        95               95         95   \n",
       "St. Louis Rams                          92               92         92   \n",
       "Tampa Bay Buccaneers                    80               80         80   \n",
       "Tennessee Titans                        85               85         85   \n",
       "Washington Redskins                     89               89         89   \n",
       "\n",
       "                      FINAL_TEAM_NAME_Opp  Power Index DEF_Opp  \n",
       "FINAL_TEAM_NAME                                                 \n",
       "Arizona Cardinals                      90                   90  \n",
       "Atlanta Falcons                        94                   94  \n",
       "Baltimore Ravens                       90                   90  \n",
       "Buffalo Bills                          90                   90  \n",
       "Carolina Panthers                      92                   92  \n",
       "Chicago Bears                          88                   88  \n",
       "Cincinnati Bengals                     88                   88  \n",
       "Cleveland Browns                       88                   88  \n",
       "Dallas Cowboys                         92                   92  \n",
       "Denver Broncos                         89                   89  \n",
       "Detroit Lions                          89                   89  \n",
       "Green Bay Packers                      94                   94  \n",
       "Houston Texans                         93                   93  \n",
       "Indianapolis Colts                     90                   90  \n",
       "Jacksonville Jaguars                   90                   90  \n",
       "Kansas City Chiefs                     98                   98  \n",
       "Miami Dolphins                         89                   89  \n",
       "Minnesota Vikings                      92                   92  \n",
       "New England Patriots                  100                  100  \n",
       "New Orleans Saints                     91                   91  \n",
       "New York Giants                        89                   89  \n",
       "New York Jets                          89                   89  \n",
       "Oakland Raiders                        88                   88  \n",
       "Philadelphia Eagles                    94                   94  \n",
       "Pittsburgh Steelers                    93                   93  \n",
       "San Diego Chargers                     89                   89  \n",
       "San Francisco 49ers                    92                   92  \n",
       "Seattle Seahawks                       95                   95  \n",
       "St. Louis Rams                         92                   92  \n",
       "Tampa Bay Buccaneers                   80                   80  \n",
       "Tennessee Titans                       85                   85  \n",
       "Washington Redskins                    89                   89  \n",
       "\n",
       "[32 rows x 75 columns]"
      ]
     },
     "execution_count": 205,
     "metadata": {},
     "output_type": "execute_result"
    }
   ],
   "source": [
    "allTheStats3.groupby([\"FINAL_TEAM_NAME\"]).count()"
   ]
  },
  {
   "cell_type": "code",
   "execution_count": null,
   "metadata": {},
   "outputs": [],
   "source": []
  }
 ],
 "metadata": {
  "kernelspec": {
   "display_name": "Python 3",
   "language": "python",
   "name": "python3"
  },
  "language_info": {
   "codemirror_mode": {
    "name": "ipython",
    "version": 3
   },
   "file_extension": ".py",
   "mimetype": "text/x-python",
   "name": "python",
   "nbconvert_exporter": "python",
   "pygments_lexer": "ipython3",
   "version": "3.7.1"
  }
 },
 "nbformat": 4,
 "nbformat_minor": 4
}
