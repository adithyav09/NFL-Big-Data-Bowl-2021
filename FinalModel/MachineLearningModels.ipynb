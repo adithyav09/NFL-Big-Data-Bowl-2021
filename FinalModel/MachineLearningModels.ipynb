{
 "cells": [
  {
   "cell_type": "code",
   "execution_count": 2,
   "metadata": {},
   "outputs": [],
   "source": [
    "import pandas as pd, numpy as np, os, math"
   ]
  },
  {
   "cell_type": "code",
   "execution_count": 3,
   "metadata": {},
   "outputs": [],
   "source": [
    "outstanding_games = pd.read_csv(\"2020GamesLeft.csv\")"
   ]
  },
  {
   "cell_type": "code",
   "execution_count": 4,
   "metadata": {},
   "outputs": [],
   "source": [
    "allTheStats = pd.read_csv(\"../perfectlyCleaned_Data.csv\")"
   ]
  },
  {
   "cell_type": "code",
   "execution_count": 7,
   "metadata": {},
   "outputs": [
    {
     "data": {
      "text/plain": [
       "Index(['Unnamed: 0', 'Year', 'Week_x', 'Abbr_RDBMS_Winner', 'Week2', 'Day',\n",
       "       'Date', 'Time', 'Home_Team', 'FINAL_TEAM_NAME', 'Opponent',\n",
       "       'TEAM_POINTS', 'TEAM_YARDS', 'TEAM_TURNOVERS',\n",
       "       'TEAM_TURNOVER_DIFFERENTIAL', 'OPPONENTS_POINTS', 'OPPONENTS_YARDS',\n",
       "       'OPPONENTS_TURNOVERS', 'OPPONENTS_TURNOVER_DIFFERENTIAL',\n",
       "       'TEAM_POINT_MARGIN', 'GAMEID', 'BINARY_WIN', 'W-L-T', 'Power Index FPI',\n",
       "       'Power Index RK', 'Power Index TREND', 'Power Index OFF',\n",
       "       'Power Index DEF', 'Power Index ST', 'Ranks SOS', 'Ranks REM SOS',\n",
       "       'Ranks AVGWP', 'DIVISION_538_Winner', 'ELO WITH QB_538_Winner',\n",
       "       'ELO CHANGE_538_Winner', 'CURRENT QB ADJ_538_Winner',\n",
       "       'Points_Diff_538_Winner', 'Playoffs_Prob_538_Winner',\n",
       "       'Division_Prob_538_Winner', 'Bye_Prob_538_Winner', 'SB_Prob_538_Winner',\n",
       "       'REAL_WINS2_538_Winner', 'REAL_LOSSES2_538_Winner',\n",
       "       'REAL_TIES_538_Winner', 'PROJ_WINS4_538_Winner',\n",
       "       'PROJ_LOSS4_538_Winner', 'EPA/play_RDBMS_Winner',\n",
       "       'OVR_SUCCESS_RATE_RDBMS_Winner', 'Dropback EPA_RDBMS_Winner',\n",
       "       'DROPBACK_SR_RDBMS_Winner', 'Rush EPA_RDBMS_Winner',\n",
       "       'RUN_SR_RDBMS_Winner', 'TOTAL DVOA_FO_WEEKLY_Winner',\n",
       "       'LAST WEEK_FO_WEEKLY_Winner', 'DAVE_WEI_DVOA_FO_WEEKLY_Winner',\n",
       "       'OFFENSE DVOA_FO_WEEKLY_Winner', 'DEFENSE DVOA_FO_WEEKLY_Winner',\n",
       "       'S.T. DVOA_FO_WEEKLY_Winner', 'RK_FO_ANNUAL_Winner',\n",
       "       'TOTAL DVOA_FO_ANNUAL_Winner', 'DAVE_WEI_DVOA_FO_ANNUAL_Winner',\n",
       "       'OFFENSE DVOA_FO_ANNUAL_Winner', 'DEFENSE DVOA_FO_ANNUAL_Winner',\n",
       "       'S.T. DVOA_FO_ANNUAL_Winner', 'non-adj VOA_FO_ANNUAL_Winner',\n",
       "       'Last Year_FO_ANNUAL_Winner', 'ESTIM. WINS_FO_ANNUAL_Winner',\n",
       "       'SCHEDULE RANK_FO_ANNUAL_Winner', 'VAR._FO_ANNUAL_Winner',\n",
       "       'TOTAL_GAME_POINTS', 'TOTAL_GAME_YARDS', 'TOTAL_GAME_TURNOVERS',\n",
       "       'PLAYOFFS_BINARY', 'GAME_TYPE'],\n",
       "      dtype='object')"
      ]
     },
     "execution_count": 7,
     "metadata": {},
     "output_type": "execute_result"
    }
   ],
   "source": [
    "allTheStats.columns"
   ]
  },
  {
   "cell_type": "code",
   "execution_count": 8,
   "metadata": {},
   "outputs": [
    {
     "data": {
      "text/plain": [
       "Index(['Year', 'Week2', 'Day', 'Date', 'Time', 'FINAL_TEAM_NAME', 'Opponent',\n",
       "       'TEAM_POINTS', 'TEAM_YARDS', 'TEAM_TURNOVERS',\n",
       "       'TEAM_TURNOVER_DIFFERENTIAL', 'TEAM_POINT_MARGIN', 'OPPONENTS_POINTS',\n",
       "       'OPPONENTS_YARDS', 'OPPONENTS_TURNOVERS',\n",
       "       'OPPONENTS_TURNOVER_DIFFERENTIAL', 'GAMEID', 'BINARY_WIN', 'Home_Team'],\n",
       "      dtype='object')"
      ]
     },
     "execution_count": 8,
     "metadata": {},
     "output_type": "execute_result"
    }
   ],
   "source": [
    "outstanding_games.columns"
   ]
  },
  {
   "cell_type": "markdown",
   "metadata": {},
   "source": [
    "## model1: OVERALL FPI (ESPN Team Eff Metric)"
   ]
  },
  {
   "cell_type": "code",
   "execution_count": 10,
   "metadata": {},
   "outputs": [],
   "source": [
    "#model1: just OVERALL FPI (ESPN Team Eff Metric)\n",
    "model_values = allTheStats.loc[:, [\"TEAM_POINTS\", \"Power Index FPI\"]]"
   ]
  },
  {
   "cell_type": "code",
   "execution_count": 11,
   "metadata": {},
   "outputs": [],
   "source": [
    "from sklearn.model_selection import train_test_split\n",
    "import sklearn.linear_model"
   ]
  },
  {
   "cell_type": "code",
   "execution_count": 15,
   "metadata": {},
   "outputs": [],
   "source": [
    "model_1 = sklearn.linear_model.LinearRegression()"
   ]
  },
  {
   "cell_type": "code",
   "execution_count": 13,
   "metadata": {},
   "outputs": [],
   "source": [
    "X = model_values.iloc[:,1].values\n",
    "y = model_values.iloc[:,0].values"
   ]
  },
  {
   "cell_type": "code",
   "execution_count": 14,
   "metadata": {},
   "outputs": [],
   "source": [
    "X_train, X_test, y_train, y_test = train_test_split(X,y)\n",
    "X_train = X_train.reshape(-1, 1)\n",
    "X_test = X_test.reshape(-1, 1)\n",
    "y_train = y_train.reshape(-1, 1)\n",
    "y_test = y_test.reshape(-1, 1)"
   ]
  },
  {
   "cell_type": "code",
   "execution_count": 17,
   "metadata": {},
   "outputs": [
    {
     "data": {
      "text/plain": [
       "LinearRegression(copy_X=True, fit_intercept=True, n_jobs=None, normalize=False)"
      ]
     },
     "execution_count": 17,
     "metadata": {},
     "output_type": "execute_result"
    }
   ],
   "source": [
    "model_1.fit(X_train, y_train)"
   ]
  },
  {
   "cell_type": "code",
   "execution_count": 19,
   "metadata": {},
   "outputs": [
    {
     "data": {
      "text/plain": [
       "0.11160052247107721"
      ]
     },
     "execution_count": 19,
     "metadata": {},
     "output_type": "execute_result"
    }
   ],
   "source": [
    "#R_sq Score\n",
    "model_1.score(X_train, y_train)"
   ]
  },
  {
   "cell_type": "code",
   "execution_count": 21,
   "metadata": {},
   "outputs": [
    {
     "data": {
      "text/plain": [
       "0.12100326484896597"
      ]
     },
     "execution_count": 21,
     "metadata": {},
     "output_type": "execute_result"
    }
   ],
   "source": [
    "model_1.score(X_test, y_test)"
   ]
  },
  {
   "cell_type": "code",
   "execution_count": 22,
   "metadata": {},
   "outputs": [
    {
     "data": {
      "text/plain": [
       "array([22.64165239])"
      ]
     },
     "execution_count": 22,
     "metadata": {},
     "output_type": "execute_result"
    }
   ],
   "source": [
    "model_1.intercept_"
   ]
  },
  {
   "cell_type": "code",
   "execution_count": 23,
   "metadata": {},
   "outputs": [
    {
     "data": {
      "text/plain": [
       "array([[0.64681882]])"
      ]
     },
     "execution_count": 23,
     "metadata": {},
     "output_type": "execute_result"
    }
   ],
   "source": [
    "model_1.coef_"
   ]
  },
  {
   "cell_type": "code",
   "execution_count": 25,
   "metadata": {},
   "outputs": [],
   "source": [
    "y_pred = model_1.predict(X_test)"
   ]
  },
  {
   "cell_type": "code",
   "execution_count": 26,
   "metadata": {},
   "outputs": [],
   "source": [
    "sq_resid = (y_pred - y_test)**2"
   ]
  },
  {
   "cell_type": "code",
   "execution_count": 27,
   "metadata": {},
   "outputs": [
    {
     "data": {
      "text/plain": [
       "7.449358973567071"
      ]
     },
     "execution_count": 27,
     "metadata": {},
     "output_type": "execute_result"
    }
   ],
   "source": [
    "# The Mean Squared Error\n",
    "pd.Series(sq_resid.reshape(-1)).apply(math.sqrt).mean()"
   ]
  },
  {
   "cell_type": "code",
   "execution_count": 30,
   "metadata": {},
   "outputs": [],
   "source": [
    "# Grid Search\n",
    "from sklearn.model_selection import GridSearchCV\n",
    "params = {'fit_intercept':[True,False], 'normalize':[True,False], 'copy_X':[True, False]}\n",
    "grid = GridSearchCV(model_1, params, verbose=3)"
   ]
  },
  {
   "cell_type": "code",
   "execution_count": 31,
   "metadata": {},
   "outputs": [
    {
     "name": "stdout",
     "output_type": "stream",
     "text": [
      "Fitting 5 folds for each of 8 candidates, totalling 40 fits\n",
      "[CV] copy_X=True, fit_intercept=True, normalize=True .................\n",
      "[CV]  copy_X=True, fit_intercept=True, normalize=True, score=0.131, total=   0.0s\n",
      "[CV] copy_X=True, fit_intercept=True, normalize=True .................\n",
      "[CV]  copy_X=True, fit_intercept=True, normalize=True, score=0.121, total=   0.0s\n",
      "[CV] copy_X=True, fit_intercept=True, normalize=True .................\n",
      "[CV]  copy_X=True, fit_intercept=True, normalize=True, score=0.131, total=   0.0s\n",
      "[CV] copy_X=True, fit_intercept=True, normalize=True .................\n",
      "[CV]  copy_X=True, fit_intercept=True, normalize=True, score=0.045, total=   0.0s\n",
      "[CV] copy_X=True, fit_intercept=True, normalize=True .................\n",
      "[CV]  copy_X=True, fit_intercept=True, normalize=True, score=0.105, total=   0.0s\n",
      "[CV] copy_X=True, fit_intercept=True, normalize=False ................\n",
      "[CV]  copy_X=True, fit_intercept=True, normalize=False, score=0.131, total=   0.0s\n",
      "[CV] copy_X=True, fit_intercept=True, normalize=False ................\n",
      "[CV]  copy_X=True, fit_intercept=True, normalize=False, score=0.121, total=   0.0s\n",
      "[CV] copy_X=True, fit_intercept=True, normalize=False ................\n",
      "[CV]  copy_X=True, fit_intercept=True, normalize=False, score=0.131, total=   0.0s\n",
      "[CV] copy_X=True, fit_intercept=True, normalize=False ................\n",
      "[CV]  copy_X=True, fit_intercept=True, normalize=False, score=0.045, total=   0.0s\n",
      "[CV] copy_X=True, fit_intercept=True, normalize=False ................\n",
      "[CV]  copy_X=True, fit_intercept=True, normalize=False, score=0.105, total=   0.0s\n",
      "[CV] copy_X=True, fit_intercept=False, normalize=True ................\n",
      "[CV]  copy_X=True, fit_intercept=False, normalize=True, score=-4.746, total=   0.0s\n",
      "[CV] copy_X=True, fit_intercept=False, normalize=True ................\n",
      "[CV]  copy_X=True, fit_intercept=False, normalize=True, score=-4.905, total=   0.0s\n",
      "[CV] copy_X=True, fit_intercept=False, normalize=True ................\n",
      "[CV]  copy_X=True, fit_intercept=False, normalize=True, score=-4.931, total=   0.0s\n",
      "[CV] copy_X=True, fit_intercept=False, normalize=True ................\n",
      "[CV]  copy_X=True, fit_intercept=False, normalize=True, score=-5.651, total=   0.0s\n",
      "[CV] copy_X=True, fit_intercept=False, normalize=True ................\n",
      "[CV]  copy_X=True, fit_intercept=False, normalize=True, score=-5.426, total=   0.0s\n",
      "[CV] copy_X=True, fit_intercept=False, normalize=False ...............\n",
      "[CV]  copy_X=True, fit_intercept=False, normalize=False, score=-4.746, total=   0.0s\n",
      "[CV] copy_X=True, fit_intercept=False, normalize=False ...............\n",
      "[CV]  copy_X=True, fit_intercept=False, normalize=False, score=-4.905, total=   0.0s\n",
      "[CV] copy_X=True, fit_intercept=False, normalize=False ...............\n",
      "[CV]  copy_X=True, fit_intercept=False, normalize=False, score=-4.931, total=   0.0s\n",
      "[CV] copy_X=True, fit_intercept=False, normalize=False ...............\n",
      "[CV]  copy_X=True, fit_intercept=False, normalize=False, score=-5.651, total=   0.0s\n",
      "[CV] copy_X=True, fit_intercept=False, normalize=False ...............\n",
      "[CV]  copy_X=True, fit_intercept=False, normalize=False, score=-5.426, total=   0.0s\n",
      "[CV] copy_X=False, fit_intercept=True, normalize=True ................\n",
      "[CV]  copy_X=False, fit_intercept=True, normalize=True, score=0.131, total=   0.0s\n",
      "[CV] copy_X=False, fit_intercept=True, normalize=True ................\n",
      "[CV]  copy_X=False, fit_intercept=True, normalize=True, score=0.121, total=   0.0s\n",
      "[CV] copy_X=False, fit_intercept=True, normalize=True ................\n",
      "[CV]  copy_X=False, fit_intercept=True, normalize=True, score=0.131, total=   0.0s\n",
      "[CV] copy_X=False, fit_intercept=True, normalize=True ................\n",
      "[CV]  copy_X=False, fit_intercept=True, normalize=True, score=0.045, total=   0.0s\n",
      "[CV] copy_X=False, fit_intercept=True, normalize=True ................\n",
      "[CV]  copy_X=False, fit_intercept=True, normalize=True, score=0.105, total=   0.0s\n",
      "[CV] copy_X=False, fit_intercept=True, normalize=False ...............\n",
      "[CV]  copy_X=False, fit_intercept=True, normalize=False, score=0.131, total=   0.0s\n",
      "[CV] copy_X=False, fit_intercept=True, normalize=False ...............\n",
      "[CV]  copy_X=False, fit_intercept=True, normalize=False, score=0.121, total=   0.0s\n",
      "[CV] copy_X=False, fit_intercept=True, normalize=False ...............\n",
      "[CV]  copy_X=False, fit_intercept=True, normalize=False, score=0.131, total=   0.0s\n",
      "[CV] copy_X=False, fit_intercept=True, normalize=False ...............\n",
      "[CV]  copy_X=False, fit_intercept=True, normalize=False, score=0.045, total=   0.0s\n",
      "[CV] copy_X=False, fit_intercept=True, normalize=False ...............\n",
      "[CV]  copy_X=False, fit_intercept=True, normalize=False, score=0.105, total=   0.0s\n",
      "[CV] copy_X=False, fit_intercept=False, normalize=True ...............\n",
      "[CV]  copy_X=False, fit_intercept=False, normalize=True, score=-4.746, total=   0.0s\n",
      "[CV] copy_X=False, fit_intercept=False, normalize=True ...............\n",
      "[CV]  copy_X=False, fit_intercept=False, normalize=True, score=-4.905, total=   0.0s\n",
      "[CV] copy_X=False, fit_intercept=False, normalize=True ...............\n",
      "[CV]  copy_X=False, fit_intercept=False, normalize=True, score=-4.931, total=   0.0s\n",
      "[CV] copy_X=False, fit_intercept=False, normalize=True ...............\n",
      "[CV]  copy_X=False, fit_intercept=False, normalize=True, score=-5.651, total=   0.0s\n",
      "[CV] copy_X=False, fit_intercept=False, normalize=True ...............\n",
      "[CV]  copy_X=False, fit_intercept=False, normalize=True, score=-5.426, total=   0.0s\n",
      "[CV] copy_X=False, fit_intercept=False, normalize=False ..............\n",
      "[CV]  copy_X=False, fit_intercept=False, normalize=False, score=-4.746, total=   0.0s\n",
      "[CV] copy_X=False, fit_intercept=False, normalize=False ..............\n",
      "[CV]  copy_X=False, fit_intercept=False, normalize=False, score=-4.905, total=   0.0s\n",
      "[CV] copy_X=False, fit_intercept=False, normalize=False ..............\n",
      "[CV]  copy_X=False, fit_intercept=False, normalize=False, score=-4.931, total=   0.0s\n",
      "[CV] copy_X=False, fit_intercept=False, normalize=False ..............\n",
      "[CV]  copy_X=False, fit_intercept=False, normalize=False, score=-5.651, total=   0.0s\n",
      "[CV] copy_X=False, fit_intercept=False, normalize=False ..............\n",
      "[CV]  copy_X=False, fit_intercept=False, normalize=False, score=-5.426, total=   0.0s\n"
     ]
    },
    {
     "name": "stderr",
     "output_type": "stream",
     "text": [
      "[Parallel(n_jobs=1)]: Using backend SequentialBackend with 1 concurrent workers.\n",
      "[Parallel(n_jobs=1)]: Done   1 out of   1 | elapsed:    0.0s remaining:    0.0s\n",
      "[Parallel(n_jobs=1)]: Done   2 out of   2 | elapsed:    0.0s remaining:    0.0s\n",
      "[Parallel(n_jobs=1)]: Done  40 out of  40 | elapsed:    0.0s finished\n"
     ]
    },
    {
     "data": {
      "text/plain": [
       "GridSearchCV(cv=None, error_score=nan,\n",
       "             estimator=LinearRegression(copy_X=True, fit_intercept=True,\n",
       "                                        n_jobs=None, normalize=False),\n",
       "             iid='deprecated', n_jobs=None,\n",
       "             param_grid={'copy_X': [True, False],\n",
       "                         'fit_intercept': [True, False],\n",
       "                         'normalize': [True, False]},\n",
       "             pre_dispatch='2*n_jobs', refit=True, return_train_score=False,\n",
       "             scoring=None, verbose=3)"
      ]
     },
     "execution_count": 31,
     "metadata": {},
     "output_type": "execute_result"
    }
   ],
   "source": [
    "# Train the model with GridSearch\n",
    "grid.fit(X_train,y_train)"
   ]
  },
  {
   "cell_type": "code",
   "execution_count": 33,
   "metadata": {},
   "outputs": [
    {
     "data": {
      "text/plain": [
       "0.10659290608447188"
      ]
     },
     "execution_count": 33,
     "metadata": {},
     "output_type": "execute_result"
    }
   ],
   "source": [
    "grid.best_score_"
   ]
  },
  {
   "cell_type": "code",
   "execution_count": 34,
   "metadata": {},
   "outputs": [],
   "source": [
    "ys = grid.predict(X_test)"
   ]
  },
  {
   "cell_type": "code",
   "execution_count": 35,
   "metadata": {},
   "outputs": [],
   "source": [
    "resids = (ys - y_test)**2"
   ]
  },
  {
   "cell_type": "code",
   "execution_count": 36,
   "metadata": {},
   "outputs": [
    {
     "data": {
      "text/plain": [
       "7.449358973567071"
      ]
     },
     "execution_count": 36,
     "metadata": {},
     "output_type": "execute_result"
    }
   ],
   "source": [
    "pd.Series(resids.reshape(-1)).apply(math.sqrt).mean()"
   ]
  },
  {
   "cell_type": "code",
   "execution_count": 37,
   "metadata": {},
   "outputs": [],
   "source": [
    "from sklearn.metrics import r2_score"
   ]
  },
  {
   "cell_type": "code",
   "execution_count": 39,
   "metadata": {},
   "outputs": [
    {
     "data": {
      "text/plain": [
       "0.12100326484896595"
      ]
     },
     "execution_count": 39,
     "metadata": {},
     "output_type": "execute_result"
    }
   ],
   "source": [
    "r2_score(y_test, ys)"
   ]
  },
  {
   "cell_type": "markdown",
   "metadata": {},
   "source": [
    "## model2:\n",
    "### OVERALL FPI + TEAM OFFENSIVE FPI + THE OPPOSING_TEAM'S DEFENSIVE FPI + TEAM SPECIAL TEAMS FPI + Strength of Schedule FPI + WP Ranks"
   ]
  },
  {
   "cell_type": "code",
   "execution_count": 40,
   "metadata": {},
   "outputs": [
    {
     "data": {
      "text/plain": [
       "Index(['Unnamed: 0', 'Year', 'Week_x', 'Abbr_RDBMS_Winner', 'Week2', 'Day',\n",
       "       'Date', 'Time', 'Home_Team', 'FINAL_TEAM_NAME', 'Opponent',\n",
       "       'TEAM_POINTS', 'TEAM_YARDS', 'TEAM_TURNOVERS',\n",
       "       'TEAM_TURNOVER_DIFFERENTIAL', 'OPPONENTS_POINTS', 'OPPONENTS_YARDS',\n",
       "       'OPPONENTS_TURNOVERS', 'OPPONENTS_TURNOVER_DIFFERENTIAL',\n",
       "       'TEAM_POINT_MARGIN', 'GAMEID', 'BINARY_WIN', 'W-L-T', 'Power Index FPI',\n",
       "       'Power Index RK', 'Power Index TREND', 'Power Index OFF',\n",
       "       'Power Index DEF', 'Power Index ST', 'Ranks SOS', 'Ranks REM SOS',\n",
       "       'Ranks AVGWP', 'DIVISION_538_Winner', 'ELO WITH QB_538_Winner',\n",
       "       'ELO CHANGE_538_Winner', 'CURRENT QB ADJ_538_Winner',\n",
       "       'Points_Diff_538_Winner', 'Playoffs_Prob_538_Winner',\n",
       "       'Division_Prob_538_Winner', 'Bye_Prob_538_Winner', 'SB_Prob_538_Winner',\n",
       "       'REAL_WINS2_538_Winner', 'REAL_LOSSES2_538_Winner',\n",
       "       'REAL_TIES_538_Winner', 'PROJ_WINS4_538_Winner',\n",
       "       'PROJ_LOSS4_538_Winner', 'EPA/play_RDBMS_Winner',\n",
       "       'OVR_SUCCESS_RATE_RDBMS_Winner', 'Dropback EPA_RDBMS_Winner',\n",
       "       'DROPBACK_SR_RDBMS_Winner', 'Rush EPA_RDBMS_Winner',\n",
       "       'RUN_SR_RDBMS_Winner', 'TOTAL DVOA_FO_WEEKLY_Winner',\n",
       "       'LAST WEEK_FO_WEEKLY_Winner', 'DAVE_WEI_DVOA_FO_WEEKLY_Winner',\n",
       "       'OFFENSE DVOA_FO_WEEKLY_Winner', 'DEFENSE DVOA_FO_WEEKLY_Winner',\n",
       "       'S.T. DVOA_FO_WEEKLY_Winner', 'RK_FO_ANNUAL_Winner',\n",
       "       'TOTAL DVOA_FO_ANNUAL_Winner', 'DAVE_WEI_DVOA_FO_ANNUAL_Winner',\n",
       "       'OFFENSE DVOA_FO_ANNUAL_Winner', 'DEFENSE DVOA_FO_ANNUAL_Winner',\n",
       "       'S.T. DVOA_FO_ANNUAL_Winner', 'non-adj VOA_FO_ANNUAL_Winner',\n",
       "       'Last Year_FO_ANNUAL_Winner', 'ESTIM. WINS_FO_ANNUAL_Winner',\n",
       "       'SCHEDULE RANK_FO_ANNUAL_Winner', 'VAR._FO_ANNUAL_Winner',\n",
       "       'TOTAL_GAME_POINTS', 'TOTAL_GAME_YARDS', 'TOTAL_GAME_TURNOVERS',\n",
       "       'PLAYOFFS_BINARY', 'GAME_TYPE'],\n",
       "      dtype='object')"
      ]
     },
     "execution_count": 40,
     "metadata": {},
     "output_type": "execute_result"
    }
   ],
   "source": [
    "allTheStats.columns"
   ]
  },
  {
   "cell_type": "code",
   "execution_count": 43,
   "metadata": {},
   "outputs": [],
   "source": [
    "allTheStats2 = allTheStats.copy(deep=True)"
   ]
  },
  {
   "cell_type": "code",
   "execution_count": 44,
   "metadata": {},
   "outputs": [],
   "source": [
    "#model2: All the ESPN EFF METRICS\n",
    "#model_values = allTheStats.loc[:, [\"TEAM_POINTS\", \"Power Index FPI\"]]"
   ]
  },
  {
   "cell_type": "code",
   "execution_count": 50,
   "metadata": {},
   "outputs": [],
   "source": [
    "opponentDef = allTheStats.loc[:, [\"FINAL_TEAM_NAME\", 'Power Index DEF', \"GAMEID\"]]"
   ]
  },
  {
   "cell_type": "code",
   "execution_count": 78,
   "metadata": {},
   "outputs": [],
   "source": [
    "model_values=pd.merge(allTheStats2, opponentDef, left_on=[\"GAMEID\", \"Opponent\"], right_on=[\"GAMEID\", \"FINAL_TEAM_NAME\"], suffixes=(\"\", \"_Opp\"))"
   ]
  },
  {
   "cell_type": "code",
   "execution_count": 80,
   "metadata": {},
   "outputs": [],
   "source": [
    "model_values=model_values.loc[:, [\"TEAM_POINTS\", \"Power Index FPI\", 'Power Index OFF','Power Index DEF_Opp', 'Power Index ST', 'Ranks SOS', 'Ranks AVGWP']]"
   ]
  },
  {
   "cell_type": "code",
   "execution_count": 74,
   "metadata": {},
   "outputs": [
    {
     "name": "stdout",
     "output_type": "stream",
     "text": [
      "<class 'pandas.core.frame.DataFrame'>\n",
      "Int64Index: 2902 entries, 0 to 2901\n",
      "Data columns (total 7 columns):\n",
      " #   Column               Non-Null Count  Dtype  \n",
      "---  ------               --------------  -----  \n",
      " 0   TEAM_POINTS          2902 non-null   float64\n",
      " 1   Power Index FPI      2902 non-null   float64\n",
      " 2   Power Index OFF      2902 non-null   float64\n",
      " 3   Power Index DEF_Opp  2902 non-null   float64\n",
      " 4   Power Index ST       2902 non-null   float64\n",
      " 5   Ranks SOS            2902 non-null   float64\n",
      " 6   Ranks AVGWP          2902 non-null   float64\n",
      "dtypes: float64(7)\n",
      "memory usage: 181.4 KB\n"
     ]
    }
   ],
   "source": [
    "model_values.info()"
   ]
  },
  {
   "cell_type": "code",
   "execution_count": 79,
   "metadata": {},
   "outputs": [
    {
     "data": {
      "text/html": [
       "<div>\n",
       "<style scoped>\n",
       "    .dataframe tbody tr th:only-of-type {\n",
       "        vertical-align: middle;\n",
       "    }\n",
       "\n",
       "    .dataframe tbody tr th {\n",
       "        vertical-align: top;\n",
       "    }\n",
       "\n",
       "    .dataframe thead th {\n",
       "        text-align: right;\n",
       "    }\n",
       "</style>\n",
       "<table border=\"1\" class=\"dataframe\">\n",
       "  <thead>\n",
       "    <tr style=\"text-align: right;\">\n",
       "      <th></th>\n",
       "      <th>FINAL_TEAM_NAME</th>\n",
       "      <th>Power Index DEF</th>\n",
       "      <th>Power Index DEF_Opp</th>\n",
       "    </tr>\n",
       "  </thead>\n",
       "  <tbody>\n",
       "    <tr>\n",
       "      <th>0</th>\n",
       "      <td>Detroit Lions</td>\n",
       "      <td>-2.4</td>\n",
       "      <td>-2.7</td>\n",
       "    </tr>\n",
       "    <tr>\n",
       "      <th>1</th>\n",
       "      <td>Chicago Bears</td>\n",
       "      <td>-2.7</td>\n",
       "      <td>-2.4</td>\n",
       "    </tr>\n",
       "    <tr>\n",
       "      <th>2</th>\n",
       "      <td>Chicago Bears</td>\n",
       "      <td>-2.7</td>\n",
       "      <td>-2.4</td>\n",
       "    </tr>\n",
       "    <tr>\n",
       "      <th>3</th>\n",
       "      <td>Detroit Lions</td>\n",
       "      <td>-2.4</td>\n",
       "      <td>-2.7</td>\n",
       "    </tr>\n",
       "    <tr>\n",
       "      <th>4</th>\n",
       "      <td>Washington Redskins</td>\n",
       "      <td>-2.2</td>\n",
       "      <td>-2.7</td>\n",
       "    </tr>\n",
       "    <tr>\n",
       "      <th>...</th>\n",
       "      <td>...</td>\n",
       "      <td>...</td>\n",
       "      <td>...</td>\n",
       "    </tr>\n",
       "    <tr>\n",
       "      <th>2897</th>\n",
       "      <td>Kansas City Chiefs</td>\n",
       "      <td>1.0</td>\n",
       "      <td>-0.2</td>\n",
       "    </tr>\n",
       "    <tr>\n",
       "      <th>2898</th>\n",
       "      <td>Oakland Raiders</td>\n",
       "      <td>-3.4</td>\n",
       "      <td>1.3</td>\n",
       "    </tr>\n",
       "    <tr>\n",
       "      <th>2899</th>\n",
       "      <td>New England Patriots</td>\n",
       "      <td>1.3</td>\n",
       "      <td>-3.4</td>\n",
       "    </tr>\n",
       "    <tr>\n",
       "      <th>2900</th>\n",
       "      <td>Buffalo Bills</td>\n",
       "      <td>-0.2</td>\n",
       "      <td>-3.4</td>\n",
       "    </tr>\n",
       "    <tr>\n",
       "      <th>2901</th>\n",
       "      <td>Oakland Raiders</td>\n",
       "      <td>-3.4</td>\n",
       "      <td>-0.2</td>\n",
       "    </tr>\n",
       "  </tbody>\n",
       "</table>\n",
       "<p>2902 rows × 3 columns</p>\n",
       "</div>"
      ],
      "text/plain": [
       "           FINAL_TEAM_NAME  Power Index DEF  Power Index DEF_Opp\n",
       "0            Detroit Lions             -2.4                 -2.7\n",
       "1            Chicago Bears             -2.7                 -2.4\n",
       "2            Chicago Bears             -2.7                 -2.4\n",
       "3            Detroit Lions             -2.4                 -2.7\n",
       "4      Washington Redskins             -2.2                 -2.7\n",
       "...                    ...              ...                  ...\n",
       "2897    Kansas City Chiefs              1.0                 -0.2\n",
       "2898       Oakland Raiders             -3.4                  1.3\n",
       "2899  New England Patriots              1.3                 -3.4\n",
       "2900         Buffalo Bills             -0.2                 -3.4\n",
       "2901       Oakland Raiders             -3.4                 -0.2\n",
       "\n",
       "[2902 rows x 3 columns]"
      ]
     },
     "execution_count": 79,
     "metadata": {},
     "output_type": "execute_result"
    }
   ],
   "source": [
    "model_values.loc[:, [\"FINAL_TEAM_NAME\", 'Power Index DEF', 'Power Index DEF_Opp']]"
   ]
  },
  {
   "cell_type": "code",
   "execution_count": 87,
   "metadata": {},
   "outputs": [],
   "source": [
    "model_2 = sklearn.linear_model.LinearRegression(normalize=True)"
   ]
  },
  {
   "cell_type": "code",
   "execution_count": null,
   "metadata": {},
   "outputs": [],
   "source": []
  },
  {
   "cell_type": "code",
   "execution_count": 88,
   "metadata": {},
   "outputs": [],
   "source": [
    "X = model_values.iloc[:,1:].values\n",
    "y = model_values.iloc[:,0].values"
   ]
  },
  {
   "cell_type": "code",
   "execution_count": null,
   "metadata": {},
   "outputs": [],
   "source": []
  },
  {
   "cell_type": "code",
   "execution_count": 90,
   "metadata": {},
   "outputs": [],
   "source": [
    "X_train, X_test, y_train, y_test = train_test_split(X,y)\n",
    "#X_train = X_train.reshape(-1)\n",
    "#X_test = X_test.reshape(-1)\n",
    "y_train = y_train.reshape(-1, 1)\n",
    "y_test = y_test.reshape(-1, 1)"
   ]
  },
  {
   "cell_type": "code",
   "execution_count": 91,
   "metadata": {},
   "outputs": [
    {
     "data": {
      "text/plain": [
       "LinearRegression(copy_X=True, fit_intercept=True, n_jobs=None, normalize=True)"
      ]
     },
     "execution_count": 91,
     "metadata": {},
     "output_type": "execute_result"
    }
   ],
   "source": [
    "model_2.fit(X_train, y_train)"
   ]
  },
  {
   "cell_type": "code",
   "execution_count": 92,
   "metadata": {},
   "outputs": [
    {
     "data": {
      "text/plain": [
       "0.2117845417196058"
      ]
     },
     "execution_count": 92,
     "metadata": {},
     "output_type": "execute_result"
    }
   ],
   "source": [
    "#R_sq Score\n",
    "model_2.score(X_train, y_train)"
   ]
  },
  {
   "cell_type": "code",
   "execution_count": 93,
   "metadata": {},
   "outputs": [
    {
     "data": {
      "text/plain": [
       "0.19001364187854686"
      ]
     },
     "execution_count": 93,
     "metadata": {},
     "output_type": "execute_result"
    }
   ],
   "source": [
    "model_2.score(X_test, y_test)"
   ]
  },
  {
   "cell_type": "code",
   "execution_count": 94,
   "metadata": {},
   "outputs": [
    {
     "data": {
      "text/plain": [
       "array([24.06222075])"
      ]
     },
     "execution_count": 94,
     "metadata": {},
     "output_type": "execute_result"
    }
   ],
   "source": [
    "model_2.intercept_"
   ]
  },
  {
   "cell_type": "code",
   "execution_count": 95,
   "metadata": {},
   "outputs": [
    {
     "data": {
      "text/plain": [
       "array([[ 0.04133081,  0.67166743, -0.95707838,  0.47373876,  0.00707634,\n",
       "        -0.09042084]])"
      ]
     },
     "execution_count": 95,
     "metadata": {},
     "output_type": "execute_result"
    }
   ],
   "source": [
    "model_2.coef_"
   ]
  },
  {
   "cell_type": "code",
   "execution_count": 96,
   "metadata": {},
   "outputs": [],
   "source": [
    "y_pred = model_2.predict(X_test)"
   ]
  },
  {
   "cell_type": "code",
   "execution_count": 97,
   "metadata": {},
   "outputs": [],
   "source": [
    "sq_resid = (y_pred - y_test)**2"
   ]
  },
  {
   "cell_type": "code",
   "execution_count": 98,
   "metadata": {},
   "outputs": [
    {
     "data": {
      "text/plain": [
       "6.950467849849554"
      ]
     },
     "execution_count": 98,
     "metadata": {},
     "output_type": "execute_result"
    }
   ],
   "source": [
    "# The Mean Squared Error\n",
    "pd.Series(sq_resid.reshape(-1)).apply(math.sqrt).mean()"
   ]
  },
  {
   "cell_type": "code",
   "execution_count": 99,
   "metadata": {},
   "outputs": [],
   "source": [
    "# Grid Search\n",
    "from sklearn.model_selection import GridSearchCV\n",
    "params = {'fit_intercept':[True,False], 'normalize':[True,False], 'copy_X':[True, False]}\n",
    "grid = GridSearchCV(model_2, params, verbose=3)"
   ]
  },
  {
   "cell_type": "code",
   "execution_count": 100,
   "metadata": {},
   "outputs": [
    {
     "name": "stdout",
     "output_type": "stream",
     "text": [
      "Fitting 5 folds for each of 8 candidates, totalling 40 fits\n",
      "[CV] copy_X=True, fit_intercept=True, normalize=True .................\n",
      "[CV]  copy_X=True, fit_intercept=True, normalize=True, score=0.245, total=   0.0s\n",
      "[CV] copy_X=True, fit_intercept=True, normalize=True .................\n",
      "[CV]  copy_X=True, fit_intercept=True, normalize=True, score=0.191, total=   0.0s\n",
      "[CV] copy_X=True, fit_intercept=True, normalize=True .................\n",
      "[CV]  copy_X=True, fit_intercept=True, normalize=True, score=0.228, total=   0.0s\n",
      "[CV] copy_X=True, fit_intercept=True, normalize=True .................\n",
      "[CV]  copy_X=True, fit_intercept=True, normalize=True, score=0.209, total=   0.0s\n",
      "[CV] copy_X=True, fit_intercept=True, normalize=True .................\n",
      "[CV]  copy_X=True, fit_intercept=True, normalize=True, score=0.153, total=   0.0s\n",
      "[CV] copy_X=True, fit_intercept=True, normalize=False ................\n",
      "[CV]  copy_X=True, fit_intercept=True, normalize=False, score=0.245, total=   0.0s\n",
      "[CV] copy_X=True, fit_intercept=True, normalize=False ................\n",
      "[CV]  copy_X=True, fit_intercept=True, normalize=False, score=0.191, total=   0.0s\n",
      "[CV] copy_X=True, fit_intercept=True, normalize=False ................\n",
      "[CV]  copy_X=True, fit_intercept=True, normalize=False, score=0.228, total=   0.0s\n",
      "[CV] copy_X=True, fit_intercept=True, normalize=False ................\n",
      "[CV]  copy_X=True, fit_intercept=True, normalize=False, score=0.209, total=   0.0s\n",
      "[CV] copy_X=True, fit_intercept=True, normalize=False ................\n",
      "[CV]  copy_X=True, fit_intercept=True, normalize=False, score=0.153, total=   0.0s\n",
      "[CV] copy_X=True, fit_intercept=False, normalize=True ................\n",
      "[CV]  copy_X=True, fit_intercept=False, normalize=True, score=-0.053, total=   0.0s\n",
      "[CV] copy_X=True, fit_intercept=False, normalize=True ................\n",
      "[CV]  copy_X=True, fit_intercept=False, normalize=True, score=-0.160, total=   0.0s\n",
      "[CV] copy_X=True, fit_intercept=False, normalize=True ................\n",
      "[CV]  copy_X=True, fit_intercept=False, normalize=True, score=-0.086, total=   0.0s\n",
      "[CV] copy_X=True, fit_intercept=False, normalize=True ................\n",
      "[CV]  copy_X=True, fit_intercept=False, normalize=True, score=-0.063, total=   0.0s\n",
      "[CV] copy_X=True, fit_intercept=False, normalize=True ................\n",
      "[CV]  copy_X=True, fit_intercept=False, normalize=True, score=-0.107, total=   0.0s\n",
      "[CV] copy_X=True, fit_intercept=False, normalize=False ...............\n",
      "[CV]  copy_X=True, fit_intercept=False, normalize=False, score=-0.053, total=   0.0s\n",
      "[CV] copy_X=True, fit_intercept=False, normalize=False ...............\n",
      "[CV]  copy_X=True, fit_intercept=False, normalize=False, score=-0.160, total=   0.0s\n",
      "[CV] copy_X=True, fit_intercept=False, normalize=False ...............\n",
      "[CV]  copy_X=True, fit_intercept=False, normalize=False, score=-0.086, total=   0.0s\n",
      "[CV] copy_X=True, fit_intercept=False, normalize=False ...............\n",
      "[CV]  copy_X=True, fit_intercept=False, normalize=False, score=-0.063, total=   0.0s\n",
      "[CV] copy_X=True, fit_intercept=False, normalize=False ...............\n",
      "[CV]  copy_X=True, fit_intercept=False, normalize=False, score=-0.107, total=   0.0s\n",
      "[CV] copy_X=False, fit_intercept=True, normalize=True ................\n",
      "[CV]  copy_X=False, fit_intercept=True, normalize=True, score=0.245, total=   0.0s\n",
      "[CV] copy_X=False, fit_intercept=True, normalize=True ................\n",
      "[CV]  copy_X=False, fit_intercept=True, normalize=True, score=0.191, total=   0.0s\n",
      "[CV] copy_X=False, fit_intercept=True, normalize=True ................\n",
      "[CV]  copy_X=False, fit_intercept=True, normalize=True, score=0.228, total=   0.0s\n",
      "[CV] copy_X=False, fit_intercept=True, normalize=True ................\n",
      "[CV]  copy_X=False, fit_intercept=True, normalize=True, score=0.209, total=   0.0s\n",
      "[CV] copy_X=False, fit_intercept=True, normalize=True ................\n",
      "[CV]  copy_X=False, fit_intercept=True, normalize=True, score=0.153, total=   0.0s\n",
      "[CV] copy_X=False, fit_intercept=True, normalize=False ...............\n",
      "[CV]  copy_X=False, fit_intercept=True, normalize=False, score=0.245, total=   0.0s\n",
      "[CV] copy_X=False, fit_intercept=True, normalize=False ...............\n",
      "[CV]  copy_X=False, fit_intercept=True, normalize=False, score=0.191, total=   0.0s\n",
      "[CV] copy_X=False, fit_intercept=True, normalize=False ...............\n",
      "[CV]  copy_X=False, fit_intercept=True, normalize=False, score=0.228, total=   0.0s\n",
      "[CV] copy_X=False, fit_intercept=True, normalize=False ...............\n",
      "[CV]  copy_X=False, fit_intercept=True, normalize=False, score=0.209, total=   0.0s\n",
      "[CV] copy_X=False, fit_intercept=True, normalize=False ...............\n",
      "[CV]  copy_X=False, fit_intercept=True, normalize=False, score=0.153, total=   0.0s\n",
      "[CV] copy_X=False, fit_intercept=False, normalize=True ...............\n",
      "[CV]  copy_X=False, fit_intercept=False, normalize=True, score=-0.053, total=   0.0s\n",
      "[CV] copy_X=False, fit_intercept=False, normalize=True ...............\n",
      "[CV]  copy_X=False, fit_intercept=False, normalize=True, score=-0.160, total=   0.0s\n",
      "[CV] copy_X=False, fit_intercept=False, normalize=True ...............\n",
      "[CV]  copy_X=False, fit_intercept=False, normalize=True, score=-0.086, total=   0.0s\n",
      "[CV] copy_X=False, fit_intercept=False, normalize=True ...............\n",
      "[CV]  copy_X=False, fit_intercept=False, normalize=True, score=-0.063, total=   0.0s\n",
      "[CV] copy_X=False, fit_intercept=False, normalize=True ...............\n",
      "[CV]  copy_X=False, fit_intercept=False, normalize=True, score=-0.107, total=   0.0s\n",
      "[CV] copy_X=False, fit_intercept=False, normalize=False ..............\n",
      "[CV]  copy_X=False, fit_intercept=False, normalize=False, score=-0.053, total=   0.0s\n",
      "[CV] copy_X=False, fit_intercept=False, normalize=False ..............\n",
      "[CV]  copy_X=False, fit_intercept=False, normalize=False, score=-0.160, total=   0.0s\n",
      "[CV] copy_X=False, fit_intercept=False, normalize=False ..............\n",
      "[CV]  copy_X=False, fit_intercept=False, normalize=False, score=-0.086, total=   0.0s\n",
      "[CV] copy_X=False, fit_intercept=False, normalize=False ..............\n",
      "[CV]  copy_X=False, fit_intercept=False, normalize=False, score=-0.063, total=   0.0s\n",
      "[CV] copy_X=False, fit_intercept=False, normalize=False ..............\n",
      "[CV]  copy_X=False, fit_intercept=False, normalize=False, score=-0.107, total=   0.0s\n"
     ]
    },
    {
     "name": "stderr",
     "output_type": "stream",
     "text": [
      "[Parallel(n_jobs=1)]: Using backend SequentialBackend with 1 concurrent workers.\n",
      "[Parallel(n_jobs=1)]: Done   1 out of   1 | elapsed:    0.0s remaining:    0.0s\n",
      "[Parallel(n_jobs=1)]: Done   2 out of   2 | elapsed:    0.0s remaining:    0.0s\n",
      "[Parallel(n_jobs=1)]: Done  40 out of  40 | elapsed:    0.0s finished\n"
     ]
    },
    {
     "data": {
      "text/plain": [
       "GridSearchCV(cv=None, error_score=nan,\n",
       "             estimator=LinearRegression(copy_X=True, fit_intercept=True,\n",
       "                                        n_jobs=None, normalize=True),\n",
       "             iid='deprecated', n_jobs=None,\n",
       "             param_grid={'copy_X': [True, False],\n",
       "                         'fit_intercept': [True, False],\n",
       "                         'normalize': [True, False]},\n",
       "             pre_dispatch='2*n_jobs', refit=True, return_train_score=False,\n",
       "             scoring=None, verbose=3)"
      ]
     },
     "execution_count": 100,
     "metadata": {},
     "output_type": "execute_result"
    }
   ],
   "source": [
    "# Train the model with GridSearch\n",
    "grid.fit(X_train,y_train)"
   ]
  },
  {
   "cell_type": "code",
   "execution_count": 101,
   "metadata": {},
   "outputs": [
    {
     "data": {
      "text/plain": [
       "0.20522667173526582"
      ]
     },
     "execution_count": 101,
     "metadata": {},
     "output_type": "execute_result"
    }
   ],
   "source": [
    "grid.best_score_"
   ]
  },
  {
   "cell_type": "code",
   "execution_count": 102,
   "metadata": {},
   "outputs": [],
   "source": [
    "ys = grid.predict(X_test)"
   ]
  },
  {
   "cell_type": "code",
   "execution_count": 103,
   "metadata": {},
   "outputs": [],
   "source": [
    "resids = (ys - y_test)**2"
   ]
  },
  {
   "cell_type": "code",
   "execution_count": 104,
   "metadata": {},
   "outputs": [
    {
     "data": {
      "text/plain": [
       "6.950467849849554"
      ]
     },
     "execution_count": 104,
     "metadata": {},
     "output_type": "execute_result"
    }
   ],
   "source": [
    "pd.Series(resids.reshape(-1)).apply(math.sqrt).mean()"
   ]
  },
  {
   "cell_type": "code",
   "execution_count": 105,
   "metadata": {},
   "outputs": [],
   "source": [
    "from sklearn.metrics import r2_score"
   ]
  },
  {
   "cell_type": "code",
   "execution_count": 106,
   "metadata": {},
   "outputs": [
    {
     "data": {
      "text/plain": [
       "0.19001364187854686"
      ]
     },
     "execution_count": 106,
     "metadata": {},
     "output_type": "execute_result"
    }
   ],
   "source": [
    "r2_score(y_test, ys)"
   ]
  },
  {
   "cell_type": "markdown",
   "metadata": {},
   "source": [
    "## Model 3:\n",
    "### Past FPI and Introducing Yards and Turnovers"
   ]
  },
  {
   "cell_type": "code",
   "execution_count": 107,
   "metadata": {},
   "outputs": [
    {
     "data": {
      "text/plain": [
       "Index(['Unnamed: 0', 'Year', 'Week_x', 'Abbr_RDBMS_Winner', 'Week2', 'Day',\n",
       "       'Date', 'Time', 'Home_Team', 'FINAL_TEAM_NAME', 'Opponent',\n",
       "       'TEAM_POINTS', 'TEAM_YARDS', 'TEAM_TURNOVERS',\n",
       "       'TEAM_TURNOVER_DIFFERENTIAL', 'OPPONENTS_POINTS', 'OPPONENTS_YARDS',\n",
       "       'OPPONENTS_TURNOVERS', 'OPPONENTS_TURNOVER_DIFFERENTIAL',\n",
       "       'TEAM_POINT_MARGIN', 'GAMEID', 'BINARY_WIN', 'W-L-T', 'Power Index FPI',\n",
       "       'Power Index RK', 'Power Index TREND', 'Power Index OFF',\n",
       "       'Power Index DEF', 'Power Index ST', 'Ranks SOS', 'Ranks REM SOS',\n",
       "       'Ranks AVGWP', 'DIVISION_538_Winner', 'ELO WITH QB_538_Winner',\n",
       "       'ELO CHANGE_538_Winner', 'CURRENT QB ADJ_538_Winner',\n",
       "       'Points_Diff_538_Winner', 'Playoffs_Prob_538_Winner',\n",
       "       'Division_Prob_538_Winner', 'Bye_Prob_538_Winner', 'SB_Prob_538_Winner',\n",
       "       'REAL_WINS2_538_Winner', 'REAL_LOSSES2_538_Winner',\n",
       "       'REAL_TIES_538_Winner', 'PROJ_WINS4_538_Winner',\n",
       "       'PROJ_LOSS4_538_Winner', 'EPA/play_RDBMS_Winner',\n",
       "       'OVR_SUCCESS_RATE_RDBMS_Winner', 'Dropback EPA_RDBMS_Winner',\n",
       "       'DROPBACK_SR_RDBMS_Winner', 'Rush EPA_RDBMS_Winner',\n",
       "       'RUN_SR_RDBMS_Winner', 'TOTAL DVOA_FO_WEEKLY_Winner',\n",
       "       'LAST WEEK_FO_WEEKLY_Winner', 'DAVE_WEI_DVOA_FO_WEEKLY_Winner',\n",
       "       'OFFENSE DVOA_FO_WEEKLY_Winner', 'DEFENSE DVOA_FO_WEEKLY_Winner',\n",
       "       'S.T. DVOA_FO_WEEKLY_Winner', 'RK_FO_ANNUAL_Winner',\n",
       "       'TOTAL DVOA_FO_ANNUAL_Winner', 'DAVE_WEI_DVOA_FO_ANNUAL_Winner',\n",
       "       'OFFENSE DVOA_FO_ANNUAL_Winner', 'DEFENSE DVOA_FO_ANNUAL_Winner',\n",
       "       'S.T. DVOA_FO_ANNUAL_Winner', 'non-adj VOA_FO_ANNUAL_Winner',\n",
       "       'Last Year_FO_ANNUAL_Winner', 'ESTIM. WINS_FO_ANNUAL_Winner',\n",
       "       'SCHEDULE RANK_FO_ANNUAL_Winner', 'VAR._FO_ANNUAL_Winner',\n",
       "       'TOTAL_GAME_POINTS', 'TOTAL_GAME_YARDS', 'TOTAL_GAME_TURNOVERS',\n",
       "       'PLAYOFFS_BINARY', 'GAME_TYPE'],\n",
       "      dtype='object')"
      ]
     },
     "execution_count": 107,
     "metadata": {},
     "output_type": "execute_result"
    }
   ],
   "source": [
    "allTheStats2.columns"
   ]
  },
  {
   "cell_type": "code",
   "execution_count": 108,
   "metadata": {},
   "outputs": [],
   "source": [
    "opponentDef = allTheStats2.loc[:, [\"FINAL_TEAM_NAME\", 'Power Index DEF', \"GAMEID\"]]"
   ]
  },
  {
   "cell_type": "code",
   "execution_count": 109,
   "metadata": {},
   "outputs": [],
   "source": [
    "model_values=pd.merge(allTheStats2, opponentDef, left_on=[\"GAMEID\", \"Opponent\"], right_on=[\"GAMEID\", \"FINAL_TEAM_NAME\"], suffixes=(\"\", \"_Opp\"))"
   ]
  },
  {
   "cell_type": "code",
   "execution_count": 112,
   "metadata": {},
   "outputs": [],
   "source": [
    "allTheStats3=pd.merge(allTheStats2, opponentDef, left_on=[\"GAMEID\", \"Opponent\"], right_on=[\"GAMEID\", \"FINAL_TEAM_NAME\"], suffixes=(\"\", \"_Opp\"))"
   ]
  },
  {
   "cell_type": "code",
   "execution_count": 110,
   "metadata": {},
   "outputs": [],
   "source": [
    "model_values=model_values.loc[:, [\"TEAM_POINTS\", \"Power Index FPI\", 'Power Index OFF','Power Index DEF_Opp', 'Power Index ST', 'Ranks SOS', 'Ranks AVGWP',\n",
    "                                 \"TEAM_YARDS\", \"TEAM_TURNOVERS\"]]"
   ]
  },
  {
   "cell_type": "code",
   "execution_count": 111,
   "metadata": {},
   "outputs": [
    {
     "name": "stdout",
     "output_type": "stream",
     "text": [
      "<class 'pandas.core.frame.DataFrame'>\n",
      "Int64Index: 2902 entries, 0 to 2901\n",
      "Data columns (total 9 columns):\n",
      " #   Column               Non-Null Count  Dtype  \n",
      "---  ------               --------------  -----  \n",
      " 0   TEAM_POINTS          2902 non-null   float64\n",
      " 1   Power Index FPI      2902 non-null   float64\n",
      " 2   Power Index OFF      2902 non-null   float64\n",
      " 3   Power Index DEF_Opp  2902 non-null   float64\n",
      " 4   Power Index ST       2902 non-null   float64\n",
      " 5   Ranks SOS            2902 non-null   float64\n",
      " 6   Ranks AVGWP          2902 non-null   float64\n",
      " 7   TEAM_YARDS           2902 non-null   float64\n",
      " 8   TEAM_TURNOVERS       2902 non-null   float64\n",
      "dtypes: float64(9)\n",
      "memory usage: 226.7 KB\n"
     ]
    }
   ],
   "source": [
    "model_values.info()"
   ]
  },
  {
   "cell_type": "code",
   "execution_count": null,
   "metadata": {},
   "outputs": [],
   "source": []
  },
  {
   "cell_type": "code",
   "execution_count": 113,
   "metadata": {},
   "outputs": [],
   "source": [
    "model_3 = sklearn.linear_model.LinearRegression(normalize=True)"
   ]
  },
  {
   "cell_type": "code",
   "execution_count": null,
   "metadata": {},
   "outputs": [],
   "source": []
  },
  {
   "cell_type": "code",
   "execution_count": 114,
   "metadata": {},
   "outputs": [],
   "source": [
    "X = model_values.iloc[:,1:].values\n",
    "y = model_values.iloc[:,0].values"
   ]
  },
  {
   "cell_type": "code",
   "execution_count": null,
   "metadata": {},
   "outputs": [],
   "source": []
  },
  {
   "cell_type": "code",
   "execution_count": 118,
   "metadata": {},
   "outputs": [],
   "source": [
    "X_train, X_test, y_train, y_test = train_test_split(X,y)\n",
    "#X_train = X_train.reshape(-1)\n",
    "#X_test = X_test.reshape(-1)\n",
    "y_train = y_train.reshape(-1, 1)\n",
    "y_test = y_test.reshape(-1, 1)"
   ]
  },
  {
   "cell_type": "code",
   "execution_count": 120,
   "metadata": {},
   "outputs": [
    {
     "data": {
      "text/plain": [
       "LinearRegression(copy_X=True, fit_intercept=True, n_jobs=None, normalize=True)"
      ]
     },
     "execution_count": 120,
     "metadata": {},
     "output_type": "execute_result"
    }
   ],
   "source": [
    "model_3.fit(X_train, y_train)"
   ]
  },
  {
   "cell_type": "code",
   "execution_count": 121,
   "metadata": {},
   "outputs": [
    {
     "data": {
      "text/plain": [
       "0.4887859670361537"
      ]
     },
     "execution_count": 121,
     "metadata": {},
     "output_type": "execute_result"
    }
   ],
   "source": [
    "#R_sq Score\n",
    "model_3.score(X_train, y_train)"
   ]
  },
  {
   "cell_type": "code",
   "execution_count": 122,
   "metadata": {},
   "outputs": [
    {
     "data": {
      "text/plain": [
       "0.5273383363155932"
      ]
     },
     "execution_count": 122,
     "metadata": {},
     "output_type": "execute_result"
    }
   ],
   "source": [
    "model_3.score(X_test, y_test)"
   ]
  },
  {
   "cell_type": "code",
   "execution_count": 123,
   "metadata": {},
   "outputs": [
    {
     "data": {
      "text/plain": [
       "array([4.07569457])"
      ]
     },
     "execution_count": 123,
     "metadata": {},
     "output_type": "execute_result"
    }
   ],
   "source": [
    "model_3.intercept_"
   ]
  },
  {
   "cell_type": "code",
   "execution_count": 124,
   "metadata": {},
   "outputs": [
    {
     "data": {
      "text/plain": [
       "array([[ 0.08343974,  0.11082988, -0.34514904,  0.36145503,  0.01845262,\n",
       "        -0.08814872,  0.0644413 , -1.81601954]])"
      ]
     },
     "execution_count": 124,
     "metadata": {},
     "output_type": "execute_result"
    }
   ],
   "source": [
    "model_3.coef_"
   ]
  },
  {
   "cell_type": "code",
   "execution_count": 125,
   "metadata": {},
   "outputs": [],
   "source": [
    "y_pred = model_3.predict(X_test)"
   ]
  },
  {
   "cell_type": "code",
   "execution_count": 126,
   "metadata": {},
   "outputs": [],
   "source": [
    "sq_resid = (y_pred - y_test)**2"
   ]
  },
  {
   "cell_type": "code",
   "execution_count": 127,
   "metadata": {},
   "outputs": [
    {
     "data": {
      "text/plain": [
       "5.284216415845227"
      ]
     },
     "execution_count": 127,
     "metadata": {},
     "output_type": "execute_result"
    }
   ],
   "source": [
    "# The Mean Squared Error\n",
    "pd.Series(sq_resid.reshape(-1)).apply(math.sqrt).mean()"
   ]
  },
  {
   "cell_type": "code",
   "execution_count": 128,
   "metadata": {},
   "outputs": [],
   "source": [
    "# Grid Search\n",
    "from sklearn.model_selection import GridSearchCV\n",
    "params = {'fit_intercept':[True,False], 'normalize':[True,False], 'copy_X':[True, False]}\n",
    "grid = GridSearchCV(model_3, params, verbose=3)"
   ]
  },
  {
   "cell_type": "code",
   "execution_count": 129,
   "metadata": {},
   "outputs": [
    {
     "name": "stdout",
     "output_type": "stream",
     "text": [
      "Fitting 5 folds for each of 8 candidates, totalling 40 fits\n",
      "[CV] copy_X=True, fit_intercept=True, normalize=True .................\n",
      "[CV]  copy_X=True, fit_intercept=True, normalize=True, score=0.401, total=   0.0s\n",
      "[CV] copy_X=True, fit_intercept=True, normalize=True .................\n",
      "[CV]  copy_X=True, fit_intercept=True, normalize=True, score=0.495, total=   0.0s\n",
      "[CV] copy_X=True, fit_intercept=True, normalize=True .................\n",
      "[CV]  copy_X=True, fit_intercept=True, normalize=True, score=0.477, total=   0.0s\n",
      "[CV] copy_X=True, fit_intercept=True, normalize=True .................\n",
      "[CV]  copy_X=True, fit_intercept=True, normalize=True, score=0.508, total=   0.0s\n",
      "[CV] copy_X=True, fit_intercept=True, normalize=True .................\n",
      "[CV]  copy_X=True, fit_intercept=True, normalize=True, score=0.513, total=   0.0s\n",
      "[CV] copy_X=True, fit_intercept=True, normalize=False ................\n",
      "[CV]  copy_X=True, fit_intercept=True, normalize=False, score=0.401, total=   0.0s\n",
      "[CV] copy_X=True, fit_intercept=True, normalize=False ................\n",
      "[CV]  copy_X=True, fit_intercept=True, normalize=False, score=0.495, total=   0.0s\n",
      "[CV] copy_X=True, fit_intercept=True, normalize=False ................\n",
      "[CV]  copy_X=True, fit_intercept=True, normalize=False, score=0.477, total=   0.0s\n",
      "[CV] copy_X=True, fit_intercept=True, normalize=False ................\n",
      "[CV]  copy_X=True, fit_intercept=True, normalize=False, score=0.508, total=   0.0s\n",
      "[CV] copy_X=True, fit_intercept=True, normalize=False ................\n",
      "[CV]  copy_X=True, fit_intercept=True, normalize=False, score=0.513, total=   0.0s\n",
      "[CV] copy_X=True, fit_intercept=False, normalize=True ................\n",
      "[CV]  copy_X=True, fit_intercept=False, normalize=True, score=0.392, total=   0.0s\n",
      "[CV] copy_X=True, fit_intercept=False, normalize=True ................\n",
      "[CV]  copy_X=True, fit_intercept=False, normalize=True, score=0.493, total=   0.0s\n",
      "[CV] copy_X=True, fit_intercept=False, normalize=True ................\n",
      "[CV]  copy_X=True, fit_intercept=False, normalize=True, score=0.470, total=   0.0s\n",
      "[CV] copy_X=True, fit_intercept=False, normalize=True ................\n",
      "[CV]  copy_X=True, fit_intercept=False, normalize=True, score=0.504, total=   0.0s\n",
      "[CV] copy_X=True, fit_intercept=False, normalize=True ................\n",
      "[CV]  copy_X=True, fit_intercept=False, normalize=True, score=0.514, total=   0.0s\n",
      "[CV] copy_X=True, fit_intercept=False, normalize=False ...............\n",
      "[CV]  copy_X=True, fit_intercept=False, normalize=False, score=0.392, total=   0.0s\n",
      "[CV] copy_X=True, fit_intercept=False, normalize=False ...............\n",
      "[CV]  copy_X=True, fit_intercept=False, normalize=False, score=0.493, total=   0.0s\n",
      "[CV] copy_X=True, fit_intercept=False, normalize=False ...............\n",
      "[CV]  copy_X=True, fit_intercept=False, normalize=False, score=0.470, total=   0.0s\n",
      "[CV] copy_X=True, fit_intercept=False, normalize=False ...............\n",
      "[CV]  copy_X=True, fit_intercept=False, normalize=False, score=0.504, total=   0.0s\n",
      "[CV] copy_X=True, fit_intercept=False, normalize=False ...............\n",
      "[CV]  copy_X=True, fit_intercept=False, normalize=False, score=0.514, total=   0.0s\n",
      "[CV] copy_X=False, fit_intercept=True, normalize=True ................\n",
      "[CV]  copy_X=False, fit_intercept=True, normalize=True, score=0.401, total=   0.0s\n",
      "[CV] copy_X=False, fit_intercept=True, normalize=True ................\n",
      "[CV]  copy_X=False, fit_intercept=True, normalize=True, score=0.495, total=   0.0s\n",
      "[CV] copy_X=False, fit_intercept=True, normalize=True ................\n",
      "[CV]  copy_X=False, fit_intercept=True, normalize=True, score=0.477, total=   0.0s\n",
      "[CV] copy_X=False, fit_intercept=True, normalize=True ................\n",
      "[CV]  copy_X=False, fit_intercept=True, normalize=True, score=0.508, total=   0.0s\n",
      "[CV] copy_X=False, fit_intercept=True, normalize=True ................\n",
      "[CV]  copy_X=False, fit_intercept=True, normalize=True, score=0.513, total=   0.0s\n",
      "[CV] copy_X=False, fit_intercept=True, normalize=False ...............\n",
      "[CV]  copy_X=False, fit_intercept=True, normalize=False, score=0.401, total=   0.0s\n",
      "[CV] copy_X=False, fit_intercept=True, normalize=False ...............\n",
      "[CV]  copy_X=False, fit_intercept=True, normalize=False, score=0.495, total=   0.0s\n",
      "[CV] copy_X=False, fit_intercept=True, normalize=False ...............\n",
      "[CV]  copy_X=False, fit_intercept=True, normalize=False, score=0.477, total=   0.0s\n",
      "[CV] copy_X=False, fit_intercept=True, normalize=False ...............\n",
      "[CV]  copy_X=False, fit_intercept=True, normalize=False, score=0.508, total=   0.0s\n",
      "[CV] copy_X=False, fit_intercept=True, normalize=False ...............\n",
      "[CV]  copy_X=False, fit_intercept=True, normalize=False, score=0.513, total=   0.0s\n",
      "[CV] copy_X=False, fit_intercept=False, normalize=True ...............\n",
      "[CV]  copy_X=False, fit_intercept=False, normalize=True, score=0.392, total=   0.0s\n",
      "[CV] copy_X=False, fit_intercept=False, normalize=True ...............\n",
      "[CV]  copy_X=False, fit_intercept=False, normalize=True, score=0.493, total=   0.0s\n",
      "[CV] copy_X=False, fit_intercept=False, normalize=True ...............\n",
      "[CV]  copy_X=False, fit_intercept=False, normalize=True, score=0.470, total=   0.0s\n",
      "[CV] copy_X=False, fit_intercept=False, normalize=True ...............\n",
      "[CV]  copy_X=False, fit_intercept=False, normalize=True, score=0.504, total=   0.0s\n",
      "[CV] copy_X=False, fit_intercept=False, normalize=True ...............\n",
      "[CV]  copy_X=False, fit_intercept=False, normalize=True, score=0.514, total=   0.0s\n",
      "[CV] copy_X=False, fit_intercept=False, normalize=False ..............\n",
      "[CV]  copy_X=False, fit_intercept=False, normalize=False, score=0.392, total=   0.0s\n",
      "[CV] copy_X=False, fit_intercept=False, normalize=False ..............\n",
      "[CV]  copy_X=False, fit_intercept=False, normalize=False, score=0.493, total=   0.0s\n",
      "[CV] copy_X=False, fit_intercept=False, normalize=False ..............\n",
      "[CV]  copy_X=False, fit_intercept=False, normalize=False, score=0.470, total=   0.0s\n",
      "[CV] copy_X=False, fit_intercept=False, normalize=False ..............\n",
      "[CV]  copy_X=False, fit_intercept=False, normalize=False, score=0.504, total=   0.0s\n",
      "[CV] copy_X=False, fit_intercept=False, normalize=False ..............\n",
      "[CV]  copy_X=False, fit_intercept=False, normalize=False, score=0.514, total=   0.0s\n"
     ]
    },
    {
     "name": "stderr",
     "output_type": "stream",
     "text": [
      "[Parallel(n_jobs=1)]: Using backend SequentialBackend with 1 concurrent workers.\n",
      "[Parallel(n_jobs=1)]: Done   1 out of   1 | elapsed:    0.0s remaining:    0.0s\n",
      "[Parallel(n_jobs=1)]: Done   2 out of   2 | elapsed:    0.0s remaining:    0.0s\n",
      "[Parallel(n_jobs=1)]: Done  40 out of  40 | elapsed:    0.0s finished\n"
     ]
    },
    {
     "data": {
      "text/plain": [
       "GridSearchCV(cv=None, error_score=nan,\n",
       "             estimator=LinearRegression(copy_X=True, fit_intercept=True,\n",
       "                                        n_jobs=None, normalize=True),\n",
       "             iid='deprecated', n_jobs=None,\n",
       "             param_grid={'copy_X': [True, False],\n",
       "                         'fit_intercept': [True, False],\n",
       "                         'normalize': [True, False]},\n",
       "             pre_dispatch='2*n_jobs', refit=True, return_train_score=False,\n",
       "             scoring=None, verbose=3)"
      ]
     },
     "execution_count": 129,
     "metadata": {},
     "output_type": "execute_result"
    }
   ],
   "source": [
    "# Train the model with GridSearch\n",
    "grid.fit(X_train,y_train)"
   ]
  },
  {
   "cell_type": "code",
   "execution_count": 130,
   "metadata": {},
   "outputs": [
    {
     "data": {
      "text/plain": [
       "0.4785656440179504"
      ]
     },
     "execution_count": 130,
     "metadata": {},
     "output_type": "execute_result"
    }
   ],
   "source": [
    "grid.best_score_"
   ]
  },
  {
   "cell_type": "code",
   "execution_count": 131,
   "metadata": {},
   "outputs": [],
   "source": [
    "ys = grid.predict(X_test)"
   ]
  },
  {
   "cell_type": "code",
   "execution_count": 132,
   "metadata": {},
   "outputs": [],
   "source": [
    "resids = (ys - y_test)**2"
   ]
  },
  {
   "cell_type": "code",
   "execution_count": 133,
   "metadata": {},
   "outputs": [
    {
     "data": {
      "text/plain": [
       "5.284216415845227"
      ]
     },
     "execution_count": 133,
     "metadata": {},
     "output_type": "execute_result"
    }
   ],
   "source": [
    "pd.Series(resids.reshape(-1)).apply(math.sqrt).mean()"
   ]
  },
  {
   "cell_type": "code",
   "execution_count": 134,
   "metadata": {},
   "outputs": [],
   "source": [
    "from sklearn.metrics import r2_score"
   ]
  },
  {
   "cell_type": "code",
   "execution_count": 135,
   "metadata": {},
   "outputs": [
    {
     "data": {
      "text/plain": [
       "0.5273383363155932"
      ]
     },
     "execution_count": 135,
     "metadata": {},
     "output_type": "execute_result"
    }
   ],
   "source": [
    "r2_score(y_test, ys)"
   ]
  },
  {
   "cell_type": "markdown",
   "metadata": {},
   "source": [
    "## Model 4:\n",
    "### Could A Classifier Work For a Regression Problem (Random Forest)"
   ]
  },
  {
   "cell_type": "code",
   "execution_count": 136,
   "metadata": {},
   "outputs": [
    {
     "data": {
      "text/plain": [
       "Index(['Unnamed: 0', 'Year', 'Week_x', 'Abbr_RDBMS_Winner', 'Week2', 'Day',\n",
       "       'Date', 'Time', 'Home_Team', 'FINAL_TEAM_NAME', 'Opponent',\n",
       "       'TEAM_POINTS', 'TEAM_YARDS', 'TEAM_TURNOVERS',\n",
       "       'TEAM_TURNOVER_DIFFERENTIAL', 'OPPONENTS_POINTS', 'OPPONENTS_YARDS',\n",
       "       'OPPONENTS_TURNOVERS', 'OPPONENTS_TURNOVER_DIFFERENTIAL',\n",
       "       'TEAM_POINT_MARGIN', 'GAMEID', 'BINARY_WIN', 'W-L-T', 'Power Index FPI',\n",
       "       'Power Index RK', 'Power Index TREND', 'Power Index OFF',\n",
       "       'Power Index DEF', 'Power Index ST', 'Ranks SOS', 'Ranks REM SOS',\n",
       "       'Ranks AVGWP', 'DIVISION_538_Winner', 'ELO WITH QB_538_Winner',\n",
       "       'ELO CHANGE_538_Winner', 'CURRENT QB ADJ_538_Winner',\n",
       "       'Points_Diff_538_Winner', 'Playoffs_Prob_538_Winner',\n",
       "       'Division_Prob_538_Winner', 'Bye_Prob_538_Winner', 'SB_Prob_538_Winner',\n",
       "       'REAL_WINS2_538_Winner', 'REAL_LOSSES2_538_Winner',\n",
       "       'REAL_TIES_538_Winner', 'PROJ_WINS4_538_Winner',\n",
       "       'PROJ_LOSS4_538_Winner', 'EPA/play_RDBMS_Winner',\n",
       "       'OVR_SUCCESS_RATE_RDBMS_Winner', 'Dropback EPA_RDBMS_Winner',\n",
       "       'DROPBACK_SR_RDBMS_Winner', 'Rush EPA_RDBMS_Winner',\n",
       "       'RUN_SR_RDBMS_Winner', 'TOTAL DVOA_FO_WEEKLY_Winner',\n",
       "       'LAST WEEK_FO_WEEKLY_Winner', 'DAVE_WEI_DVOA_FO_WEEKLY_Winner',\n",
       "       'OFFENSE DVOA_FO_WEEKLY_Winner', 'DEFENSE DVOA_FO_WEEKLY_Winner',\n",
       "       'S.T. DVOA_FO_WEEKLY_Winner', 'RK_FO_ANNUAL_Winner',\n",
       "       'TOTAL DVOA_FO_ANNUAL_Winner', 'DAVE_WEI_DVOA_FO_ANNUAL_Winner',\n",
       "       'OFFENSE DVOA_FO_ANNUAL_Winner', 'DEFENSE DVOA_FO_ANNUAL_Winner',\n",
       "       'S.T. DVOA_FO_ANNUAL_Winner', 'non-adj VOA_FO_ANNUAL_Winner',\n",
       "       'Last Year_FO_ANNUAL_Winner', 'ESTIM. WINS_FO_ANNUAL_Winner',\n",
       "       'SCHEDULE RANK_FO_ANNUAL_Winner', 'VAR._FO_ANNUAL_Winner',\n",
       "       'TOTAL_GAME_POINTS', 'TOTAL_GAME_YARDS', 'TOTAL_GAME_TURNOVERS',\n",
       "       'PLAYOFFS_BINARY', 'GAME_TYPE', 'FINAL_TEAM_NAME_Opp',\n",
       "       'Power Index DEF_Opp'],\n",
       "      dtype='object')"
      ]
     },
     "execution_count": 136,
     "metadata": {},
     "output_type": "execute_result"
    }
   ],
   "source": [
    "allTheStats3.columns"
   ]
  },
  {
   "cell_type": "code",
   "execution_count": 137,
   "metadata": {},
   "outputs": [],
   "source": [
    "model_values=allTheStats3.loc[:, [\"TEAM_POINTS\", \"Power Index FPI\", 'Power Index OFF','Power Index DEF_Opp', 'Power Index ST', 'Ranks SOS', 'Ranks AVGWP',\n",
    "                                 \"TEAM_YARDS\", \"TEAM_TURNOVERS\"]]"
   ]
  },
  {
   "cell_type": "code",
   "execution_count": 138,
   "metadata": {},
   "outputs": [
    {
     "name": "stdout",
     "output_type": "stream",
     "text": [
      "<class 'pandas.core.frame.DataFrame'>\n",
      "Int64Index: 2902 entries, 0 to 2901\n",
      "Data columns (total 9 columns):\n",
      " #   Column               Non-Null Count  Dtype  \n",
      "---  ------               --------------  -----  \n",
      " 0   TEAM_POINTS          2902 non-null   float64\n",
      " 1   Power Index FPI      2902 non-null   float64\n",
      " 2   Power Index OFF      2902 non-null   float64\n",
      " 3   Power Index DEF_Opp  2902 non-null   float64\n",
      " 4   Power Index ST       2902 non-null   float64\n",
      " 5   Ranks SOS            2902 non-null   float64\n",
      " 6   Ranks AVGWP          2902 non-null   float64\n",
      " 7   TEAM_YARDS           2902 non-null   float64\n",
      " 8   TEAM_TURNOVERS       2902 non-null   float64\n",
      "dtypes: float64(9)\n",
      "memory usage: 226.7 KB\n"
     ]
    }
   ],
   "source": [
    "model_values.info()"
   ]
  },
  {
   "cell_type": "code",
   "execution_count": 139,
   "metadata": {},
   "outputs": [],
   "source": [
    "from sklearn.ensemble import RandomForestClassifier"
   ]
  },
  {
   "cell_type": "code",
   "execution_count": 140,
   "metadata": {},
   "outputs": [],
   "source": [
    "rf = RandomForestClassifier(n_estimators=4000, criterion=\"entropy\", max_depth=5)"
   ]
  },
  {
   "cell_type": "code",
   "execution_count": null,
   "metadata": {},
   "outputs": [],
   "source": []
  },
  {
   "cell_type": "code",
   "execution_count": 141,
   "metadata": {},
   "outputs": [],
   "source": [
    "X = model_values.iloc[:,1:].values\n",
    "y = model_values.iloc[:,0].values"
   ]
  },
  {
   "cell_type": "code",
   "execution_count": null,
   "metadata": {},
   "outputs": [],
   "source": []
  },
  {
   "cell_type": "code",
   "execution_count": 142,
   "metadata": {},
   "outputs": [],
   "source": [
    "X_train, X_test, y_train, y_test = train_test_split(X,y)\n",
    "#X_train = X_train.reshape(-1)\n",
    "#X_test = X_test.reshape(-1)\n",
    "y_train = y_train.reshape(-1, 1)\n",
    "y_test = y_test.reshape(-1, 1)"
   ]
  },
  {
   "cell_type": "code",
   "execution_count": 143,
   "metadata": {},
   "outputs": [
    {
     "name": "stderr",
     "output_type": "stream",
     "text": [
      "C:\\Users\\Kyle\\anaconda3\\lib\\site-packages\\ipykernel_launcher.py:1: DataConversionWarning: A column-vector y was passed when a 1d array was expected. Please change the shape of y to (n_samples,), for example using ravel().\n",
      "  \"\"\"Entry point for launching an IPython kernel.\n"
     ]
    },
    {
     "data": {
      "text/plain": [
       "RandomForestClassifier(bootstrap=True, ccp_alpha=0.0, class_weight=None,\n",
       "                       criterion='entropy', max_depth=5, max_features='auto',\n",
       "                       max_leaf_nodes=None, max_samples=None,\n",
       "                       min_impurity_decrease=0.0, min_impurity_split=None,\n",
       "                       min_samples_leaf=1, min_samples_split=2,\n",
       "                       min_weight_fraction_leaf=0.0, n_estimators=4000,\n",
       "                       n_jobs=None, oob_score=False, random_state=None,\n",
       "                       verbose=0, warm_start=False)"
      ]
     },
     "execution_count": 143,
     "metadata": {},
     "output_type": "execute_result"
    }
   ],
   "source": [
    "rf.fit(X_train, y_train)"
   ]
  },
  {
   "cell_type": "code",
   "execution_count": 144,
   "metadata": {},
   "outputs": [
    {
     "data": {
      "text/plain": [
       "0.25505514705882354"
      ]
     },
     "execution_count": 144,
     "metadata": {},
     "output_type": "execute_result"
    }
   ],
   "source": [
    "#R_sq Score\n",
    "rf.score(X_train, y_train)"
   ]
  },
  {
   "cell_type": "code",
   "execution_count": 145,
   "metadata": {},
   "outputs": [
    {
     "data": {
      "text/plain": [
       "0.08677685950413223"
      ]
     },
     "execution_count": 145,
     "metadata": {},
     "output_type": "execute_result"
    }
   ],
   "source": [
    "rf.score(X_test, y_test)"
   ]
  },
  {
   "cell_type": "code",
   "execution_count": 146,
   "metadata": {},
   "outputs": [
    {
     "data": {
      "text/plain": [
       "array([ 0.,  3.,  5.,  6.,  7.,  8.,  9., 10., 11., 12., 13., 14., 15.,\n",
       "       16., 17., 18., 19., 20., 21., 22., 23., 24., 25., 26., 27., 28.,\n",
       "       29., 30., 31., 32., 33., 34., 35., 36., 37., 38., 39., 40., 41.,\n",
       "       42., 43., 44., 45., 46., 47., 48., 49., 51., 52., 54., 55., 57.,\n",
       "       59.])"
      ]
     },
     "execution_count": 146,
     "metadata": {},
     "output_type": "execute_result"
    }
   ],
   "source": [
    "rf.classes_"
   ]
  },
  {
   "cell_type": "code",
   "execution_count": null,
   "metadata": {},
   "outputs": [],
   "source": []
  },
  {
   "cell_type": "code",
   "execution_count": 152,
   "metadata": {},
   "outputs": [],
   "source": [
    "y_pred = rf.predict(X_test)"
   ]
  },
  {
   "cell_type": "code",
   "execution_count": 153,
   "metadata": {},
   "outputs": [],
   "source": [
    "sq_resid = (y_pred - y_test)**2"
   ]
  },
  {
   "cell_type": "code",
   "execution_count": 154,
   "metadata": {},
   "outputs": [
    {
     "data": {
      "text/plain": [
       "9.420603480333007"
      ]
     },
     "execution_count": 154,
     "metadata": {},
     "output_type": "execute_result"
    }
   ],
   "source": [
    "# The Mean Squared Error\n",
    "pd.Series(sq_resid.reshape(-1)).apply(math.sqrt).mean()"
   ]
  },
  {
   "cell_type": "code",
   "execution_count": 155,
   "metadata": {},
   "outputs": [],
   "source": [
    "## STOP POINT FOR RF ##"
   ]
  },
  {
   "cell_type": "code",
   "execution_count": 162,
   "metadata": {},
   "outputs": [],
   "source": [
    "from sklearn.model_selection import RandomizedSearchCV"
   ]
  },
  {
   "cell_type": "code",
   "execution_count": 163,
   "metadata": {},
   "outputs": [],
   "source": [
    "# Grid Search\n",
    "from sklearn.model_selection import RandomizedSearchCV\n",
    "params = {'n_estimators':[4,40,400,4000,8000], 'criterion':[\"gini\", \"entropy\"], \"max_depth\":[2, 5, 10]}\n",
    "grid = RandomizedSearchCV(rf, params, verbose=3)"
   ]
  },
  {
   "cell_type": "code",
   "execution_count": 164,
   "metadata": {
    "scrolled": true
   },
   "outputs": [
    {
     "name": "stdout",
     "output_type": "stream",
     "text": [
      "Fitting 5 folds for each of 10 candidates, totalling 50 fits\n",
      "[CV] n_estimators=4000, max_depth=2, criterion=entropy ...............\n"
     ]
    },
    {
     "name": "stderr",
     "output_type": "stream",
     "text": [
      "C:\\Users\\Kyle\\anaconda3\\lib\\site-packages\\sklearn\\model_selection\\_split.py:667: UserWarning: The least populated class in y has only 1 members, which is less than n_splits=5.\n",
      "  % (min_groups, self.n_splits)), UserWarning)\n",
      "[Parallel(n_jobs=1)]: Using backend SequentialBackend with 1 concurrent workers.\n",
      "C:\\Users\\Kyle\\anaconda3\\lib\\site-packages\\sklearn\\model_selection\\_validation.py:515: DataConversionWarning: A column-vector y was passed when a 1d array was expected. Please change the shape of y to (n_samples,), for example using ravel().\n",
      "  estimator.fit(X_train, y_train, **fit_params)\n"
     ]
    },
    {
     "name": "stdout",
     "output_type": "stream",
     "text": [
      "[CV]  n_estimators=4000, max_depth=2, criterion=entropy, score=0.078, total=  29.3s\n",
      "[CV] n_estimators=4000, max_depth=2, criterion=entropy ...............\n"
     ]
    },
    {
     "name": "stderr",
     "output_type": "stream",
     "text": [
      "[Parallel(n_jobs=1)]: Done   1 out of   1 | elapsed:   29.2s remaining:    0.0s\n",
      "C:\\Users\\Kyle\\anaconda3\\lib\\site-packages\\sklearn\\model_selection\\_validation.py:515: DataConversionWarning: A column-vector y was passed when a 1d array was expected. Please change the shape of y to (n_samples,), for example using ravel().\n",
      "  estimator.fit(X_train, y_train, **fit_params)\n"
     ]
    },
    {
     "name": "stdout",
     "output_type": "stream",
     "text": [
      "[CV]  n_estimators=4000, max_depth=2, criterion=entropy, score=0.078, total=  31.3s\n",
      "[CV] n_estimators=4000, max_depth=2, criterion=entropy ...............\n"
     ]
    },
    {
     "name": "stderr",
     "output_type": "stream",
     "text": [
      "[Parallel(n_jobs=1)]: Done   2 out of   2 | elapsed:  1.0min remaining:    0.0s\n",
      "C:\\Users\\Kyle\\anaconda3\\lib\\site-packages\\sklearn\\model_selection\\_validation.py:515: DataConversionWarning: A column-vector y was passed when a 1d array was expected. Please change the shape of y to (n_samples,), for example using ravel().\n",
      "  estimator.fit(X_train, y_train, **fit_params)\n"
     ]
    },
    {
     "name": "stdout",
     "output_type": "stream",
     "text": [
      "[CV]  n_estimators=4000, max_depth=2, criterion=entropy, score=0.085, total=   7.2s\n",
      "[CV] n_estimators=4000, max_depth=2, criterion=entropy ...............\n"
     ]
    },
    {
     "name": "stderr",
     "output_type": "stream",
     "text": [
      "C:\\Users\\Kyle\\anaconda3\\lib\\site-packages\\sklearn\\model_selection\\_validation.py:515: DataConversionWarning: A column-vector y was passed when a 1d array was expected. Please change the shape of y to (n_samples,), for example using ravel().\n",
      "  estimator.fit(X_train, y_train, **fit_params)\n"
     ]
    },
    {
     "name": "stdout",
     "output_type": "stream",
     "text": [
      "[CV]  n_estimators=4000, max_depth=2, criterion=entropy, score=0.094, total=   7.3s\n",
      "[CV] n_estimators=4000, max_depth=2, criterion=entropy ...............\n"
     ]
    },
    {
     "name": "stderr",
     "output_type": "stream",
     "text": [
      "C:\\Users\\Kyle\\anaconda3\\lib\\site-packages\\sklearn\\model_selection\\_validation.py:515: DataConversionWarning: A column-vector y was passed when a 1d array was expected. Please change the shape of y to (n_samples,), for example using ravel().\n",
      "  estimator.fit(X_train, y_train, **fit_params)\n"
     ]
    },
    {
     "name": "stdout",
     "output_type": "stream",
     "text": [
      "[CV]  n_estimators=4000, max_depth=2, criterion=entropy, score=0.078, total=   7.4s\n",
      "[CV] n_estimators=4000, max_depth=10, criterion=gini .................\n"
     ]
    },
    {
     "name": "stderr",
     "output_type": "stream",
     "text": [
      "C:\\Users\\Kyle\\anaconda3\\lib\\site-packages\\sklearn\\model_selection\\_validation.py:515: DataConversionWarning: A column-vector y was passed when a 1d array was expected. Please change the shape of y to (n_samples,), for example using ravel().\n",
      "  estimator.fit(X_train, y_train, **fit_params)\n"
     ]
    },
    {
     "name": "stdout",
     "output_type": "stream",
     "text": [
      "[CV]  n_estimators=4000, max_depth=10, criterion=gini, score=0.110, total=  10.9s\n",
      "[CV] n_estimators=4000, max_depth=10, criterion=gini .................\n"
     ]
    },
    {
     "name": "stderr",
     "output_type": "stream",
     "text": [
      "C:\\Users\\Kyle\\anaconda3\\lib\\site-packages\\sklearn\\model_selection\\_validation.py:515: DataConversionWarning: A column-vector y was passed when a 1d array was expected. Please change the shape of y to (n_samples,), for example using ravel().\n",
      "  estimator.fit(X_train, y_train, **fit_params)\n"
     ]
    },
    {
     "name": "stdout",
     "output_type": "stream",
     "text": [
      "[CV]  n_estimators=4000, max_depth=10, criterion=gini, score=0.080, total=  10.9s\n",
      "[CV] n_estimators=4000, max_depth=10, criterion=gini .................\n"
     ]
    },
    {
     "name": "stderr",
     "output_type": "stream",
     "text": [
      "C:\\Users\\Kyle\\anaconda3\\lib\\site-packages\\sklearn\\model_selection\\_validation.py:515: DataConversionWarning: A column-vector y was passed when a 1d array was expected. Please change the shape of y to (n_samples,), for example using ravel().\n",
      "  estimator.fit(X_train, y_train, **fit_params)\n"
     ]
    },
    {
     "name": "stdout",
     "output_type": "stream",
     "text": [
      "[CV]  n_estimators=4000, max_depth=10, criterion=gini, score=0.106, total=  11.1s\n",
      "[CV] n_estimators=4000, max_depth=10, criterion=gini .................\n"
     ]
    },
    {
     "name": "stderr",
     "output_type": "stream",
     "text": [
      "C:\\Users\\Kyle\\anaconda3\\lib\\site-packages\\sklearn\\model_selection\\_validation.py:515: DataConversionWarning: A column-vector y was passed when a 1d array was expected. Please change the shape of y to (n_samples,), for example using ravel().\n",
      "  estimator.fit(X_train, y_train, **fit_params)\n"
     ]
    },
    {
     "name": "stdout",
     "output_type": "stream",
     "text": [
      "[CV]  n_estimators=4000, max_depth=10, criterion=gini, score=0.078, total=  10.9s\n",
      "[CV] n_estimators=4000, max_depth=10, criterion=gini .................\n"
     ]
    },
    {
     "name": "stderr",
     "output_type": "stream",
     "text": [
      "C:\\Users\\Kyle\\anaconda3\\lib\\site-packages\\sklearn\\model_selection\\_validation.py:515: DataConversionWarning: A column-vector y was passed when a 1d array was expected. Please change the shape of y to (n_samples,), for example using ravel().\n",
      "  estimator.fit(X_train, y_train, **fit_params)\n"
     ]
    },
    {
     "name": "stdout",
     "output_type": "stream",
     "text": [
      "[CV]  n_estimators=4000, max_depth=10, criterion=gini, score=0.092, total=  11.2s\n",
      "[CV] n_estimators=4, max_depth=5, criterion=entropy ..................\n",
      "[CV]  n_estimators=4, max_depth=5, criterion=entropy, score=0.067, total=   0.0s\n",
      "[CV] n_estimators=4, max_depth=5, criterion=entropy ..................\n",
      "[CV]  n_estimators=4, max_depth=5, criterion=entropy, score=0.078, total=   0.0s\n",
      "[CV] n_estimators=4, max_depth=5, criterion=entropy ..................\n"
     ]
    },
    {
     "name": "stderr",
     "output_type": "stream",
     "text": [
      "C:\\Users\\Kyle\\anaconda3\\lib\\site-packages\\sklearn\\model_selection\\_validation.py:515: DataConversionWarning: A column-vector y was passed when a 1d array was expected. Please change the shape of y to (n_samples,), for example using ravel().\n",
      "  estimator.fit(X_train, y_train, **fit_params)\n",
      "C:\\Users\\Kyle\\anaconda3\\lib\\site-packages\\sklearn\\model_selection\\_validation.py:515: DataConversionWarning: A column-vector y was passed when a 1d array was expected. Please change the shape of y to (n_samples,), for example using ravel().\n",
      "  estimator.fit(X_train, y_train, **fit_params)\n",
      "C:\\Users\\Kyle\\anaconda3\\lib\\site-packages\\sklearn\\model_selection\\_validation.py:515: DataConversionWarning: A column-vector y was passed when a 1d array was expected. Please change the shape of y to (n_samples,), for example using ravel().\n",
      "  estimator.fit(X_train, y_train, **fit_params)\n",
      "C:\\Users\\Kyle\\anaconda3\\lib\\site-packages\\sklearn\\model_selection\\_validation.py:515: DataConversionWarning: A column-vector y was passed when a 1d array was expected. Please change the shape of y to (n_samples,), for example using ravel().\n",
      "  estimator.fit(X_train, y_train, **fit_params)\n",
      "C:\\Users\\Kyle\\anaconda3\\lib\\site-packages\\sklearn\\model_selection\\_validation.py:515: DataConversionWarning: A column-vector y was passed when a 1d array was expected. Please change the shape of y to (n_samples,), for example using ravel().\n",
      "  estimator.fit(X_train, y_train, **fit_params)\n",
      "C:\\Users\\Kyle\\anaconda3\\lib\\site-packages\\sklearn\\model_selection\\_validation.py:515: DataConversionWarning: A column-vector y was passed when a 1d array was expected. Please change the shape of y to (n_samples,), for example using ravel().\n",
      "  estimator.fit(X_train, y_train, **fit_params)\n"
     ]
    },
    {
     "name": "stdout",
     "output_type": "stream",
     "text": [
      "[CV]  n_estimators=4, max_depth=5, criterion=entropy, score=0.067, total=   0.0s\n",
      "[CV] n_estimators=4, max_depth=5, criterion=entropy ..................\n",
      "[CV]  n_estimators=4, max_depth=5, criterion=entropy, score=0.101, total=   0.0s\n",
      "[CV] n_estimators=4, max_depth=5, criterion=entropy ..................\n",
      "[CV]  n_estimators=4, max_depth=5, criterion=entropy, score=0.074, total=   0.0s\n",
      "[CV] n_estimators=8000, max_depth=5, criterion=gini ..................\n",
      "[CV]  n_estimators=8000, max_depth=5, criterion=gini, score=0.078, total=  13.9s\n",
      "[CV] n_estimators=8000, max_depth=5, criterion=gini ..................\n"
     ]
    },
    {
     "name": "stderr",
     "output_type": "stream",
     "text": [
      "C:\\Users\\Kyle\\anaconda3\\lib\\site-packages\\sklearn\\model_selection\\_validation.py:515: DataConversionWarning: A column-vector y was passed when a 1d array was expected. Please change the shape of y to (n_samples,), for example using ravel().\n",
      "  estimator.fit(X_train, y_train, **fit_params)\n"
     ]
    },
    {
     "name": "stdout",
     "output_type": "stream",
     "text": [
      "[CV]  n_estimators=8000, max_depth=5, criterion=gini, score=0.090, total=  13.9s\n",
      "[CV] n_estimators=8000, max_depth=5, criterion=gini ..................\n"
     ]
    },
    {
     "name": "stderr",
     "output_type": "stream",
     "text": [
      "C:\\Users\\Kyle\\anaconda3\\lib\\site-packages\\sklearn\\model_selection\\_validation.py:515: DataConversionWarning: A column-vector y was passed when a 1d array was expected. Please change the shape of y to (n_samples,), for example using ravel().\n",
      "  estimator.fit(X_train, y_train, **fit_params)\n"
     ]
    },
    {
     "name": "stdout",
     "output_type": "stream",
     "text": [
      "[CV]  n_estimators=8000, max_depth=5, criterion=gini, score=0.097, total=  13.9s\n",
      "[CV] n_estimators=8000, max_depth=5, criterion=gini ..................\n"
     ]
    },
    {
     "name": "stderr",
     "output_type": "stream",
     "text": [
      "C:\\Users\\Kyle\\anaconda3\\lib\\site-packages\\sklearn\\model_selection\\_validation.py:515: DataConversionWarning: A column-vector y was passed when a 1d array was expected. Please change the shape of y to (n_samples,), for example using ravel().\n",
      "  estimator.fit(X_train, y_train, **fit_params)\n"
     ]
    },
    {
     "name": "stdout",
     "output_type": "stream",
     "text": [
      "[CV]  n_estimators=8000, max_depth=5, criterion=gini, score=0.090, total=  13.9s\n",
      "[CV] n_estimators=8000, max_depth=5, criterion=gini ..................\n"
     ]
    },
    {
     "name": "stderr",
     "output_type": "stream",
     "text": [
      "C:\\Users\\Kyle\\anaconda3\\lib\\site-packages\\sklearn\\model_selection\\_validation.py:515: DataConversionWarning: A column-vector y was passed when a 1d array was expected. Please change the shape of y to (n_samples,), for example using ravel().\n",
      "  estimator.fit(X_train, y_train, **fit_params)\n"
     ]
    },
    {
     "name": "stdout",
     "output_type": "stream",
     "text": [
      "[CV]  n_estimators=8000, max_depth=5, criterion=gini, score=0.090, total=  14.0s\n",
      "[CV] n_estimators=4, max_depth=10, criterion=entropy .................\n",
      "[CV]  n_estimators=4, max_depth=10, criterion=entropy, score=0.057, total=   0.0s\n",
      "[CV] n_estimators=4, max_depth=10, criterion=entropy .................\n",
      "[CV]  n_estimators=4, max_depth=10, criterion=entropy, score=0.069, total=   0.0s\n",
      "[CV] n_estimators=4, max_depth=10, criterion=entropy .................\n",
      "[CV]  n_estimators=4, max_depth=10, criterion=entropy, score=0.067, total=   0.0s\n",
      "[CV] n_estimators=4, max_depth=10, criterion=entropy .................\n",
      "[CV]  n_estimators=4, max_depth=10, criterion=entropy, score=0.060, total=   0.0s\n",
      "[CV] n_estimators=4, max_depth=10, criterion=entropy .................\n",
      "[CV]  n_estimators=4, max_depth=10, criterion=entropy, score=0.062, total=   0.0s\n",
      "[CV] n_estimators=40, max_depth=10, criterion=gini ...................\n"
     ]
    },
    {
     "name": "stderr",
     "output_type": "stream",
     "text": [
      "C:\\Users\\Kyle\\anaconda3\\lib\\site-packages\\sklearn\\model_selection\\_validation.py:515: DataConversionWarning: A column-vector y was passed when a 1d array was expected. Please change the shape of y to (n_samples,), for example using ravel().\n",
      "  estimator.fit(X_train, y_train, **fit_params)\n",
      "C:\\Users\\Kyle\\anaconda3\\lib\\site-packages\\sklearn\\model_selection\\_validation.py:515: DataConversionWarning: A column-vector y was passed when a 1d array was expected. Please change the shape of y to (n_samples,), for example using ravel().\n",
      "  estimator.fit(X_train, y_train, **fit_params)\n",
      "C:\\Users\\Kyle\\anaconda3\\lib\\site-packages\\sklearn\\model_selection\\_validation.py:515: DataConversionWarning: A column-vector y was passed when a 1d array was expected. Please change the shape of y to (n_samples,), for example using ravel().\n",
      "  estimator.fit(X_train, y_train, **fit_params)\n",
      "C:\\Users\\Kyle\\anaconda3\\lib\\site-packages\\sklearn\\model_selection\\_validation.py:515: DataConversionWarning: A column-vector y was passed when a 1d array was expected. Please change the shape of y to (n_samples,), for example using ravel().\n",
      "  estimator.fit(X_train, y_train, **fit_params)\n",
      "C:\\Users\\Kyle\\anaconda3\\lib\\site-packages\\sklearn\\model_selection\\_validation.py:515: DataConversionWarning: A column-vector y was passed when a 1d array was expected. Please change the shape of y to (n_samples,), for example using ravel().\n",
      "  estimator.fit(X_train, y_train, **fit_params)\n",
      "C:\\Users\\Kyle\\anaconda3\\lib\\site-packages\\sklearn\\model_selection\\_validation.py:515: DataConversionWarning: A column-vector y was passed when a 1d array was expected. Please change the shape of y to (n_samples,), for example using ravel().\n",
      "  estimator.fit(X_train, y_train, **fit_params)\n"
     ]
    },
    {
     "name": "stdout",
     "output_type": "stream",
     "text": [
      "[CV]  n_estimators=40, max_depth=10, criterion=gini, score=0.087, total=   0.1s\n",
      "[CV] n_estimators=40, max_depth=10, criterion=gini ...................\n",
      "[CV]  n_estimators=40, max_depth=10, criterion=gini, score=0.080, total=   0.1s\n",
      "[CV] n_estimators=40, max_depth=10, criterion=gini ...................\n"
     ]
    },
    {
     "name": "stderr",
     "output_type": "stream",
     "text": [
      "C:\\Users\\Kyle\\anaconda3\\lib\\site-packages\\sklearn\\model_selection\\_validation.py:515: DataConversionWarning: A column-vector y was passed when a 1d array was expected. Please change the shape of y to (n_samples,), for example using ravel().\n",
      "  estimator.fit(X_train, y_train, **fit_params)\n",
      "C:\\Users\\Kyle\\anaconda3\\lib\\site-packages\\sklearn\\model_selection\\_validation.py:515: DataConversionWarning: A column-vector y was passed when a 1d array was expected. Please change the shape of y to (n_samples,), for example using ravel().\n",
      "  estimator.fit(X_train, y_train, **fit_params)\n"
     ]
    },
    {
     "name": "stdout",
     "output_type": "stream",
     "text": [
      "[CV]  n_estimators=40, max_depth=10, criterion=gini, score=0.083, total=   0.1s\n",
      "[CV] n_estimators=40, max_depth=10, criterion=gini ...................\n",
      "[CV]  n_estimators=40, max_depth=10, criterion=gini, score=0.080, total=   0.1s\n",
      "[CV] n_estimators=40, max_depth=10, criterion=gini ...................\n"
     ]
    },
    {
     "name": "stderr",
     "output_type": "stream",
     "text": [
      "C:\\Users\\Kyle\\anaconda3\\lib\\site-packages\\sklearn\\model_selection\\_validation.py:515: DataConversionWarning: A column-vector y was passed when a 1d array was expected. Please change the shape of y to (n_samples,), for example using ravel().\n",
      "  estimator.fit(X_train, y_train, **fit_params)\n",
      "C:\\Users\\Kyle\\anaconda3\\lib\\site-packages\\sklearn\\model_selection\\_validation.py:515: DataConversionWarning: A column-vector y was passed when a 1d array was expected. Please change the shape of y to (n_samples,), for example using ravel().\n",
      "  estimator.fit(X_train, y_train, **fit_params)\n"
     ]
    },
    {
     "name": "stdout",
     "output_type": "stream",
     "text": [
      "[CV]  n_estimators=40, max_depth=10, criterion=gini, score=0.085, total=   0.1s\n",
      "[CV] n_estimators=4, max_depth=2, criterion=entropy ..................\n",
      "[CV]  n_estimators=4, max_depth=2, criterion=entropy, score=0.055, total=   0.0s\n",
      "[CV] n_estimators=4, max_depth=2, criterion=entropy ..................\n",
      "[CV]  n_estimators=4, max_depth=2, criterion=entropy, score=0.083, total=   0.0s\n",
      "[CV] n_estimators=4, max_depth=2, criterion=entropy ..................\n",
      "[CV]  n_estimators=4, max_depth=2, criterion=entropy, score=0.062, total=   0.0s\n",
      "[CV] n_estimators=4, max_depth=2, criterion=entropy ..................\n",
      "[CV]  n_estimators=4, max_depth=2, criterion=entropy, score=0.078, total=   0.0s\n",
      "[CV] n_estimators=4, max_depth=2, criterion=entropy ..................\n",
      "[CV]  n_estimators=4, max_depth=2, criterion=entropy, score=0.094, total=   0.0s\n",
      "[CV] n_estimators=40, max_depth=2, criterion=entropy .................\n",
      "[CV]  n_estimators=40, max_depth=2, criterion=entropy, score=0.076, total=   0.1s\n",
      "[CV] n_estimators=40, max_depth=2, criterion=entropy .................\n",
      "[CV]  n_estimators=40, max_depth=2, criterion=entropy, score=0.087, total=   0.1s"
     ]
    },
    {
     "name": "stderr",
     "output_type": "stream",
     "text": [
      "C:\\Users\\Kyle\\anaconda3\\lib\\site-packages\\sklearn\\model_selection\\_validation.py:515: DataConversionWarning: A column-vector y was passed when a 1d array was expected. Please change the shape of y to (n_samples,), for example using ravel().\n",
      "  estimator.fit(X_train, y_train, **fit_params)\n",
      "C:\\Users\\Kyle\\anaconda3\\lib\\site-packages\\sklearn\\model_selection\\_validation.py:515: DataConversionWarning: A column-vector y was passed when a 1d array was expected. Please change the shape of y to (n_samples,), for example using ravel().\n",
      "  estimator.fit(X_train, y_train, **fit_params)\n",
      "C:\\Users\\Kyle\\anaconda3\\lib\\site-packages\\sklearn\\model_selection\\_validation.py:515: DataConversionWarning: A column-vector y was passed when a 1d array was expected. Please change the shape of y to (n_samples,), for example using ravel().\n",
      "  estimator.fit(X_train, y_train, **fit_params)\n",
      "C:\\Users\\Kyle\\anaconda3\\lib\\site-packages\\sklearn\\model_selection\\_validation.py:515: DataConversionWarning: A column-vector y was passed when a 1d array was expected. Please change the shape of y to (n_samples,), for example using ravel().\n",
      "  estimator.fit(X_train, y_train, **fit_params)\n",
      "C:\\Users\\Kyle\\anaconda3\\lib\\site-packages\\sklearn\\model_selection\\_validation.py:515: DataConversionWarning: A column-vector y was passed when a 1d array was expected. Please change the shape of y to (n_samples,), for example using ravel().\n",
      "  estimator.fit(X_train, y_train, **fit_params)\n",
      "C:\\Users\\Kyle\\anaconda3\\lib\\site-packages\\sklearn\\model_selection\\_validation.py:515: DataConversionWarning: A column-vector y was passed when a 1d array was expected. Please change the shape of y to (n_samples,), for example using ravel().\n",
      "  estimator.fit(X_train, y_train, **fit_params)\n",
      "C:\\Users\\Kyle\\anaconda3\\lib\\site-packages\\sklearn\\model_selection\\_validation.py:515: DataConversionWarning: A column-vector y was passed when a 1d array was expected. Please change the shape of y to (n_samples,), for example using ravel().\n",
      "  estimator.fit(X_train, y_train, **fit_params)\n"
     ]
    },
    {
     "name": "stdout",
     "output_type": "stream",
     "text": [
      "\n",
      "[CV] n_estimators=40, max_depth=2, criterion=entropy .................\n",
      "[CV]  n_estimators=40, max_depth=2, criterion=entropy, score=0.062, total=   0.1s\n",
      "[CV] n_estimators=40, max_depth=2, criterion=entropy .................\n",
      "[CV]  n_estimators=40, max_depth=2, criterion=entropy, score=0.094, total=   0.1s\n",
      "[CV] n_estimators=40, max_depth=2, criterion=entropy .................\n"
     ]
    },
    {
     "name": "stderr",
     "output_type": "stream",
     "text": [
      "C:\\Users\\Kyle\\anaconda3\\lib\\site-packages\\sklearn\\model_selection\\_validation.py:515: DataConversionWarning: A column-vector y was passed when a 1d array was expected. Please change the shape of y to (n_samples,), for example using ravel().\n",
      "  estimator.fit(X_train, y_train, **fit_params)\n",
      "C:\\Users\\Kyle\\anaconda3\\lib\\site-packages\\sklearn\\model_selection\\_validation.py:515: DataConversionWarning: A column-vector y was passed when a 1d array was expected. Please change the shape of y to (n_samples,), for example using ravel().\n",
      "  estimator.fit(X_train, y_train, **fit_params)\n",
      "C:\\Users\\Kyle\\anaconda3\\lib\\site-packages\\sklearn\\model_selection\\_validation.py:515: DataConversionWarning: A column-vector y was passed when a 1d array was expected. Please change the shape of y to (n_samples,), for example using ravel().\n",
      "  estimator.fit(X_train, y_train, **fit_params)\n"
     ]
    },
    {
     "name": "stdout",
     "output_type": "stream",
     "text": [
      "[CV]  n_estimators=40, max_depth=2, criterion=entropy, score=0.083, total=   0.1s\n",
      "[CV] n_estimators=8000, max_depth=2, criterion=gini ..................\n"
     ]
    },
    {
     "name": "stderr",
     "output_type": "stream",
     "text": [
      "C:\\Users\\Kyle\\anaconda3\\lib\\site-packages\\sklearn\\model_selection\\_validation.py:515: DataConversionWarning: A column-vector y was passed when a 1d array was expected. Please change the shape of y to (n_samples,), for example using ravel().\n",
      "  estimator.fit(X_train, y_train, **fit_params)\n"
     ]
    },
    {
     "name": "stdout",
     "output_type": "stream",
     "text": [
      "[CV]  n_estimators=8000, max_depth=2, criterion=gini, score=0.073, total=  10.9s\n",
      "[CV] n_estimators=8000, max_depth=2, criterion=gini ..................\n"
     ]
    },
    {
     "name": "stderr",
     "output_type": "stream",
     "text": [
      "C:\\Users\\Kyle\\anaconda3\\lib\\site-packages\\sklearn\\model_selection\\_validation.py:515: DataConversionWarning: A column-vector y was passed when a 1d array was expected. Please change the shape of y to (n_samples,), for example using ravel().\n",
      "  estimator.fit(X_train, y_train, **fit_params)\n"
     ]
    },
    {
     "name": "stdout",
     "output_type": "stream",
     "text": [
      "[CV]  n_estimators=8000, max_depth=2, criterion=gini, score=0.090, total=  10.8s\n",
      "[CV] n_estimators=8000, max_depth=2, criterion=gini ..................\n"
     ]
    },
    {
     "name": "stderr",
     "output_type": "stream",
     "text": [
      "C:\\Users\\Kyle\\anaconda3\\lib\\site-packages\\sklearn\\model_selection\\_validation.py:515: DataConversionWarning: A column-vector y was passed when a 1d array was expected. Please change the shape of y to (n_samples,), for example using ravel().\n",
      "  estimator.fit(X_train, y_train, **fit_params)\n"
     ]
    },
    {
     "name": "stdout",
     "output_type": "stream",
     "text": [
      "[CV]  n_estimators=8000, max_depth=2, criterion=gini, score=0.080, total=  10.9s\n",
      "[CV] n_estimators=8000, max_depth=2, criterion=gini ..................\n"
     ]
    },
    {
     "name": "stderr",
     "output_type": "stream",
     "text": [
      "C:\\Users\\Kyle\\anaconda3\\lib\\site-packages\\sklearn\\model_selection\\_validation.py:515: DataConversionWarning: A column-vector y was passed when a 1d array was expected. Please change the shape of y to (n_samples,), for example using ravel().\n",
      "  estimator.fit(X_train, y_train, **fit_params)\n"
     ]
    },
    {
     "name": "stdout",
     "output_type": "stream",
     "text": [
      "[CV]  n_estimators=8000, max_depth=2, criterion=gini, score=0.078, total=  10.9s\n",
      "[CV] n_estimators=8000, max_depth=2, criterion=gini ..................\n"
     ]
    },
    {
     "name": "stderr",
     "output_type": "stream",
     "text": [
      "C:\\Users\\Kyle\\anaconda3\\lib\\site-packages\\sklearn\\model_selection\\_validation.py:515: DataConversionWarning: A column-vector y was passed when a 1d array was expected. Please change the shape of y to (n_samples,), for example using ravel().\n",
      "  estimator.fit(X_train, y_train, **fit_params)\n"
     ]
    },
    {
     "name": "stdout",
     "output_type": "stream",
     "text": [
      "[CV]  n_estimators=8000, max_depth=2, criterion=gini, score=0.087, total=  10.8s\n",
      "[CV] n_estimators=8000, max_depth=10, criterion=gini .................\n"
     ]
    },
    {
     "name": "stderr",
     "output_type": "stream",
     "text": [
      "C:\\Users\\Kyle\\anaconda3\\lib\\site-packages\\sklearn\\model_selection\\_validation.py:515: DataConversionWarning: A column-vector y was passed when a 1d array was expected. Please change the shape of y to (n_samples,), for example using ravel().\n",
      "  estimator.fit(X_train, y_train, **fit_params)\n"
     ]
    },
    {
     "name": "stdout",
     "output_type": "stream",
     "text": [
      "[CV]  n_estimators=8000, max_depth=10, criterion=gini, score=0.108, total=  24.9s\n",
      "[CV] n_estimators=8000, max_depth=10, criterion=gini .................\n"
     ]
    },
    {
     "name": "stderr",
     "output_type": "stream",
     "text": [
      "C:\\Users\\Kyle\\anaconda3\\lib\\site-packages\\sklearn\\model_selection\\_validation.py:515: DataConversionWarning: A column-vector y was passed when a 1d array was expected. Please change the shape of y to (n_samples,), for example using ravel().\n",
      "  estimator.fit(X_train, y_train, **fit_params)\n"
     ]
    },
    {
     "name": "stdout",
     "output_type": "stream",
     "text": [
      "[CV]  n_estimators=8000, max_depth=10, criterion=gini, score=0.080, total=  24.4s\n",
      "[CV] n_estimators=8000, max_depth=10, criterion=gini .................\n"
     ]
    },
    {
     "name": "stderr",
     "output_type": "stream",
     "text": [
      "C:\\Users\\Kyle\\anaconda3\\lib\\site-packages\\sklearn\\model_selection\\_validation.py:515: DataConversionWarning: A column-vector y was passed when a 1d array was expected. Please change the shape of y to (n_samples,), for example using ravel().\n",
      "  estimator.fit(X_train, y_train, **fit_params)\n"
     ]
    },
    {
     "name": "stdout",
     "output_type": "stream",
     "text": [
      "[CV]  n_estimators=8000, max_depth=10, criterion=gini, score=0.103, total=  24.6s\n",
      "[CV] n_estimators=8000, max_depth=10, criterion=gini .................\n"
     ]
    },
    {
     "name": "stderr",
     "output_type": "stream",
     "text": [
      "C:\\Users\\Kyle\\anaconda3\\lib\\site-packages\\sklearn\\model_selection\\_validation.py:515: DataConversionWarning: A column-vector y was passed when a 1d array was expected. Please change the shape of y to (n_samples,), for example using ravel().\n",
      "  estimator.fit(X_train, y_train, **fit_params)\n"
     ]
    },
    {
     "name": "stdout",
     "output_type": "stream",
     "text": [
      "[CV]  n_estimators=8000, max_depth=10, criterion=gini, score=0.074, total=  24.5s\n",
      "[CV] n_estimators=8000, max_depth=10, criterion=gini .................\n"
     ]
    },
    {
     "name": "stderr",
     "output_type": "stream",
     "text": [
      "C:\\Users\\Kyle\\anaconda3\\lib\\site-packages\\sklearn\\model_selection\\_validation.py:515: DataConversionWarning: A column-vector y was passed when a 1d array was expected. Please change the shape of y to (n_samples,), for example using ravel().\n",
      "  estimator.fit(X_train, y_train, **fit_params)\n"
     ]
    },
    {
     "name": "stdout",
     "output_type": "stream",
     "text": [
      "[CV]  n_estimators=8000, max_depth=10, criterion=gini, score=0.092, total=  24.3s\n"
     ]
    },
    {
     "name": "stderr",
     "output_type": "stream",
     "text": [
      "[Parallel(n_jobs=1)]: Done  50 out of  50 | elapsed:  6.5min finished\n",
      "C:\\Users\\Kyle\\anaconda3\\lib\\site-packages\\sklearn\\model_selection\\_search.py:739: DataConversionWarning: A column-vector y was passed when a 1d array was expected. Please change the shape of y to (n_samples,), for example using ravel().\n",
      "  self.best_estimator_.fit(X, y, **fit_params)\n"
     ]
    },
    {
     "data": {
      "text/plain": [
       "RandomizedSearchCV(cv=None, error_score=nan,\n",
       "                   estimator=RandomForestClassifier(bootstrap=True,\n",
       "                                                    ccp_alpha=0.0,\n",
       "                                                    class_weight=None,\n",
       "                                                    criterion='entropy',\n",
       "                                                    max_depth=5,\n",
       "                                                    max_features='auto',\n",
       "                                                    max_leaf_nodes=None,\n",
       "                                                    max_samples=None,\n",
       "                                                    min_impurity_decrease=0.0,\n",
       "                                                    min_impurity_split=None,\n",
       "                                                    min_samples_leaf=1,\n",
       "                                                    min_samples_split=2,\n",
       "                                                    min_weight_fraction_leaf=0.0,\n",
       "                                                    n_estimators=4000,\n",
       "                                                    n_jobs=None,\n",
       "                                                    oob_score=False,\n",
       "                                                    random_state=None,\n",
       "                                                    verbose=0,\n",
       "                                                    warm_start=False),\n",
       "                   iid='deprecated', n_iter=10, n_jobs=None,\n",
       "                   param_distributions={'criterion': ['gini', 'entropy'],\n",
       "                                        'max_depth': [2, 5, 10],\n",
       "                                        'n_estimators': [4, 40, 400, 4000,\n",
       "                                                         8000]},\n",
       "                   pre_dispatch='2*n_jobs', random_state=None, refit=True,\n",
       "                   return_train_score=False, scoring=None, verbose=3)"
      ]
     },
     "execution_count": 164,
     "metadata": {},
     "output_type": "execute_result"
    }
   ],
   "source": [
    "# Train the model with GridSearch\n",
    "grid.fit(X_train,y_train)"
   ]
  },
  {
   "cell_type": "code",
   "execution_count": 165,
   "metadata": {},
   "outputs": [
    {
     "data": {
      "text/plain": [
       "0.09328271643994517"
      ]
     },
     "execution_count": 165,
     "metadata": {},
     "output_type": "execute_result"
    }
   ],
   "source": [
    "grid.best_score_"
   ]
  },
  {
   "cell_type": "code",
   "execution_count": 166,
   "metadata": {},
   "outputs": [],
   "source": [
    "ys = grid.predict(X_test)"
   ]
  },
  {
   "cell_type": "code",
   "execution_count": 167,
   "metadata": {},
   "outputs": [],
   "source": [
    "resids = (ys - y_test)**2"
   ]
  },
  {
   "cell_type": "code",
   "execution_count": 168,
   "metadata": {},
   "outputs": [
    {
     "data": {
      "text/plain": [
       "9.918588590639681"
      ]
     },
     "execution_count": 168,
     "metadata": {},
     "output_type": "execute_result"
    }
   ],
   "source": [
    "pd.Series(resids.reshape(-1)).apply(math.sqrt).mean()"
   ]
  },
  {
   "cell_type": "code",
   "execution_count": 169,
   "metadata": {},
   "outputs": [],
   "source": [
    "from sklearn.metrics import r2_score"
   ]
  },
  {
   "cell_type": "code",
   "execution_count": 170,
   "metadata": {},
   "outputs": [
    {
     "data": {
      "text/plain": [
       "0.214525684460524"
      ]
     },
     "execution_count": 170,
     "metadata": {},
     "output_type": "execute_result"
    }
   ],
   "source": [
    "r2_score(y_test, ys)"
   ]
  },
  {
   "cell_type": "markdown",
   "metadata": {},
   "source": [
    "## Model 5:\n",
    "### FPI, Yards, Turnovers + Expected Points Added per Play (EPA) and Success Rate for Offense overall and Pass EPA vs. Run EPA"
   ]
  },
  {
   "cell_type": "code",
   "execution_count": 171,
   "metadata": {},
   "outputs": [
    {
     "data": {
      "text/plain": [
       "Index(['Unnamed: 0', 'Year', 'Week_x', 'Abbr_RDBMS_Winner', 'Week2', 'Day',\n",
       "       'Date', 'Time', 'Home_Team', 'FINAL_TEAM_NAME', 'Opponent',\n",
       "       'TEAM_POINTS', 'TEAM_YARDS', 'TEAM_TURNOVERS',\n",
       "       'TEAM_TURNOVER_DIFFERENTIAL', 'OPPONENTS_POINTS', 'OPPONENTS_YARDS',\n",
       "       'OPPONENTS_TURNOVERS', 'OPPONENTS_TURNOVER_DIFFERENTIAL',\n",
       "       'TEAM_POINT_MARGIN', 'GAMEID', 'BINARY_WIN', 'W-L-T', 'Power Index FPI',\n",
       "       'Power Index RK', 'Power Index TREND', 'Power Index OFF',\n",
       "       'Power Index DEF', 'Power Index ST', 'Ranks SOS', 'Ranks REM SOS',\n",
       "       'Ranks AVGWP', 'DIVISION_538_Winner', 'ELO WITH QB_538_Winner',\n",
       "       'ELO CHANGE_538_Winner', 'CURRENT QB ADJ_538_Winner',\n",
       "       'Points_Diff_538_Winner', 'Playoffs_Prob_538_Winner',\n",
       "       'Division_Prob_538_Winner', 'Bye_Prob_538_Winner', 'SB_Prob_538_Winner',\n",
       "       'REAL_WINS2_538_Winner', 'REAL_LOSSES2_538_Winner',\n",
       "       'REAL_TIES_538_Winner', 'PROJ_WINS4_538_Winner',\n",
       "       'PROJ_LOSS4_538_Winner', 'EPA/play_RDBMS_Winner',\n",
       "       'OVR_SUCCESS_RATE_RDBMS_Winner', 'Dropback EPA_RDBMS_Winner',\n",
       "       'DROPBACK_SR_RDBMS_Winner', 'Rush EPA_RDBMS_Winner',\n",
       "       'RUN_SR_RDBMS_Winner', 'TOTAL DVOA_FO_WEEKLY_Winner',\n",
       "       'LAST WEEK_FO_WEEKLY_Winner', 'DAVE_WEI_DVOA_FO_WEEKLY_Winner',\n",
       "       'OFFENSE DVOA_FO_WEEKLY_Winner', 'DEFENSE DVOA_FO_WEEKLY_Winner',\n",
       "       'S.T. DVOA_FO_WEEKLY_Winner', 'RK_FO_ANNUAL_Winner',\n",
       "       'TOTAL DVOA_FO_ANNUAL_Winner', 'DAVE_WEI_DVOA_FO_ANNUAL_Winner',\n",
       "       'OFFENSE DVOA_FO_ANNUAL_Winner', 'DEFENSE DVOA_FO_ANNUAL_Winner',\n",
       "       'S.T. DVOA_FO_ANNUAL_Winner', 'non-adj VOA_FO_ANNUAL_Winner',\n",
       "       'Last Year_FO_ANNUAL_Winner', 'ESTIM. WINS_FO_ANNUAL_Winner',\n",
       "       'SCHEDULE RANK_FO_ANNUAL_Winner', 'VAR._FO_ANNUAL_Winner',\n",
       "       'TOTAL_GAME_POINTS', 'TOTAL_GAME_YARDS', 'TOTAL_GAME_TURNOVERS',\n",
       "       'PLAYOFFS_BINARY', 'GAME_TYPE', 'FINAL_TEAM_NAME_Opp',\n",
       "       'Power Index DEF_Opp'],\n",
       "      dtype='object')"
      ]
     },
     "execution_count": 171,
     "metadata": {},
     "output_type": "execute_result"
    }
   ],
   "source": [
    "allTheStats3.columns"
   ]
  },
  {
   "cell_type": "code",
   "execution_count": 173,
   "metadata": {},
   "outputs": [],
   "source": [
    "model_values=allTheStats3.loc[:, [\"TEAM_POINTS\", \"Power Index FPI\", 'Power Index OFF','Power Index DEF_Opp', 'Power Index ST', 'Ranks SOS', 'Ranks AVGWP',\n",
    "                                 \"TEAM_YARDS\", \"TEAM_TURNOVERS\",  'EPA/play_RDBMS_Winner', 'OVR_SUCCESS_RATE_RDBMS_Winner', 'Dropback EPA_RDBMS_Winner',\n",
    "                                  'DROPBACK_SR_RDBMS_Winner', 'Rush EPA_RDBMS_Winner', 'RUN_SR_RDBMS_Winner']]"
   ]
  },
  {
   "cell_type": "code",
   "execution_count": 174,
   "metadata": {},
   "outputs": [
    {
     "name": "stdout",
     "output_type": "stream",
     "text": [
      "<class 'pandas.core.frame.DataFrame'>\n",
      "Int64Index: 2902 entries, 0 to 2901\n",
      "Data columns (total 15 columns):\n",
      " #   Column                         Non-Null Count  Dtype  \n",
      "---  ------                         --------------  -----  \n",
      " 0   TEAM_POINTS                    2902 non-null   float64\n",
      " 1   Power Index FPI                2902 non-null   float64\n",
      " 2   Power Index OFF                2902 non-null   float64\n",
      " 3   Power Index DEF_Opp            2902 non-null   float64\n",
      " 4   Power Index ST                 2902 non-null   float64\n",
      " 5   Ranks SOS                      2902 non-null   float64\n",
      " 6   Ranks AVGWP                    2902 non-null   float64\n",
      " 7   TEAM_YARDS                     2902 non-null   float64\n",
      " 8   TEAM_TURNOVERS                 2902 non-null   float64\n",
      " 9   EPA/play_RDBMS_Winner          2902 non-null   float64\n",
      " 10  OVR_SUCCESS_RATE_RDBMS_Winner  2902 non-null   float64\n",
      " 11  Dropback EPA_RDBMS_Winner      2902 non-null   float64\n",
      " 12  DROPBACK_SR_RDBMS_Winner       2902 non-null   float64\n",
      " 13  Rush EPA_RDBMS_Winner          2902 non-null   float64\n",
      " 14  RUN_SR_RDBMS_Winner            2902 non-null   float64\n",
      "dtypes: float64(15)\n",
      "memory usage: 362.8 KB\n"
     ]
    }
   ],
   "source": [
    "model_values.info()"
   ]
  },
  {
   "cell_type": "code",
   "execution_count": null,
   "metadata": {},
   "outputs": [],
   "source": []
  },
  {
   "cell_type": "code",
   "execution_count": 175,
   "metadata": {},
   "outputs": [],
   "source": [
    "model_5= sklearn.linear_model.LinearRegression(normalize=True)"
   ]
  },
  {
   "cell_type": "code",
   "execution_count": null,
   "metadata": {},
   "outputs": [],
   "source": []
  },
  {
   "cell_type": "code",
   "execution_count": 176,
   "metadata": {},
   "outputs": [],
   "source": [
    "X = model_values.iloc[:,1:].values\n",
    "y = model_values.iloc[:,0].values"
   ]
  },
  {
   "cell_type": "code",
   "execution_count": null,
   "metadata": {},
   "outputs": [],
   "source": []
  },
  {
   "cell_type": "code",
   "execution_count": 177,
   "metadata": {},
   "outputs": [],
   "source": [
    "X_train, X_test, y_train, y_test = train_test_split(X,y)\n",
    "#X_train = X_train.reshape(-1)\n",
    "#X_test = X_test.reshape(-1)\n",
    "y_train = y_train.reshape(-1, 1)\n",
    "y_test = y_test.reshape(-1, 1)"
   ]
  },
  {
   "cell_type": "code",
   "execution_count": 178,
   "metadata": {},
   "outputs": [
    {
     "data": {
      "text/plain": [
       "LinearRegression(copy_X=True, fit_intercept=True, n_jobs=None, normalize=True)"
      ]
     },
     "execution_count": 178,
     "metadata": {},
     "output_type": "execute_result"
    }
   ],
   "source": [
    "model_5.fit(X_train, y_train)"
   ]
  },
  {
   "cell_type": "code",
   "execution_count": 179,
   "metadata": {},
   "outputs": [
    {
     "data": {
      "text/plain": [
       "0.6302700899587667"
      ]
     },
     "execution_count": 179,
     "metadata": {},
     "output_type": "execute_result"
    }
   ],
   "source": [
    "#R_sq Score\n",
    "model_5.score(X_train, y_train)"
   ]
  },
  {
   "cell_type": "code",
   "execution_count": 180,
   "metadata": {},
   "outputs": [
    {
     "data": {
      "text/plain": [
       "0.6277712268609107"
      ]
     },
     "execution_count": 180,
     "metadata": {},
     "output_type": "execute_result"
    }
   ],
   "source": [
    "model_5.score(X_test, y_test)"
   ]
  },
  {
   "cell_type": "code",
   "execution_count": 181,
   "metadata": {},
   "outputs": [
    {
     "data": {
      "text/plain": [
       "array([19.35315188])"
      ]
     },
     "execution_count": 181,
     "metadata": {},
     "output_type": "execute_result"
    }
   ],
   "source": [
    "model_5.intercept_"
   ]
  },
  {
   "cell_type": "code",
   "execution_count": 182,
   "metadata": {},
   "outputs": [
    {
     "data": {
      "text/plain": [
       "array([[ 1.30057265e-01, -8.14878619e-02, -2.34768717e-02,\n",
       "         8.55711147e-01,  2.11939999e-02, -5.30486944e-02,\n",
       "         2.24907272e-02,  5.33776096e-01,  2.75554251e+01,\n",
       "        -3.30534744e+01,  4.57205456e+00,  1.49555454e+01,\n",
       "         2.51527195e+00,  7.17865874e+00]])"
      ]
     },
     "execution_count": 182,
     "metadata": {},
     "output_type": "execute_result"
    }
   ],
   "source": [
    "model_5.coef_"
   ]
  },
  {
   "cell_type": "code",
   "execution_count": 204,
   "metadata": {},
   "outputs": [
    {
     "data": {
      "text/html": [
       "<div>\n",
       "<style scoped>\n",
       "    .dataframe tbody tr th:only-of-type {\n",
       "        vertical-align: middle;\n",
       "    }\n",
       "\n",
       "    .dataframe tbody tr th {\n",
       "        vertical-align: top;\n",
       "    }\n",
       "\n",
       "    .dataframe thead th {\n",
       "        text-align: right;\n",
       "    }\n",
       "</style>\n",
       "<table border=\"1\" class=\"dataframe\">\n",
       "  <thead>\n",
       "    <tr style=\"text-align: right;\">\n",
       "      <th></th>\n",
       "      <th>TEAM_POINTS</th>\n",
       "      <th>Power Index FPI</th>\n",
       "      <th>Power Index OFF</th>\n",
       "      <th>Power Index DEF_Opp</th>\n",
       "      <th>Power Index ST</th>\n",
       "      <th>Ranks SOS</th>\n",
       "      <th>Ranks AVGWP</th>\n",
       "      <th>TEAM_YARDS</th>\n",
       "      <th>TEAM_TURNOVERS</th>\n",
       "      <th>EPA/play_RDBMS_Winner</th>\n",
       "      <th>OVR_SUCCESS_RATE_RDBMS_Winner</th>\n",
       "      <th>Dropback EPA_RDBMS_Winner</th>\n",
       "      <th>DROPBACK_SR_RDBMS_Winner</th>\n",
       "      <th>Rush EPA_RDBMS_Winner</th>\n",
       "      <th>RUN_SR_RDBMS_Winner</th>\n",
       "    </tr>\n",
       "  </thead>\n",
       "  <tbody>\n",
       "    <tr>\n",
       "      <th>0</th>\n",
       "      <td>24.0</td>\n",
       "      <td>-2.0</td>\n",
       "      <td>0.9</td>\n",
       "      <td>-2.7</td>\n",
       "      <td>-0.5</td>\n",
       "      <td>15.0</td>\n",
       "      <td>13.0</td>\n",
       "      <td>349.0</td>\n",
       "      <td>0.0</td>\n",
       "      <td>0.180</td>\n",
       "      <td>0.468</td>\n",
       "      <td>0.257</td>\n",
       "      <td>0.500</td>\n",
       "      <td>-0.041</td>\n",
       "      <td>0.375</td>\n",
       "    </tr>\n",
       "    <tr>\n",
       "      <th>1</th>\n",
       "      <td>20.0</td>\n",
       "      <td>-2.6</td>\n",
       "      <td>0.1</td>\n",
       "      <td>-2.4</td>\n",
       "      <td>0.0</td>\n",
       "      <td>12.0</td>\n",
       "      <td>27.0</td>\n",
       "      <td>345.0</td>\n",
       "      <td>3.0</td>\n",
       "      <td>-0.008</td>\n",
       "      <td>0.442</td>\n",
       "      <td>-0.009</td>\n",
       "      <td>0.483</td>\n",
       "      <td>-0.007</td>\n",
       "      <td>0.391</td>\n",
       "    </tr>\n",
       "    <tr>\n",
       "      <th>2</th>\n",
       "      <td>34.0</td>\n",
       "      <td>-2.6</td>\n",
       "      <td>0.1</td>\n",
       "      <td>-2.4</td>\n",
       "      <td>0.0</td>\n",
       "      <td>12.0</td>\n",
       "      <td>27.0</td>\n",
       "      <td>444.0</td>\n",
       "      <td>1.0</td>\n",
       "      <td>0.053</td>\n",
       "      <td>0.436</td>\n",
       "      <td>0.227</td>\n",
       "      <td>0.543</td>\n",
       "      <td>-0.198</td>\n",
       "      <td>0.281</td>\n",
       "    </tr>\n",
       "    <tr>\n",
       "      <th>3</th>\n",
       "      <td>37.0</td>\n",
       "      <td>-2.0</td>\n",
       "      <td>0.9</td>\n",
       "      <td>-2.7</td>\n",
       "      <td>-0.5</td>\n",
       "      <td>15.0</td>\n",
       "      <td>13.0</td>\n",
       "      <td>546.0</td>\n",
       "      <td>3.0</td>\n",
       "      <td>0.151</td>\n",
       "      <td>0.476</td>\n",
       "      <td>0.286</td>\n",
       "      <td>0.491</td>\n",
       "      <td>-0.095</td>\n",
       "      <td>0.448</td>\n",
       "    </tr>\n",
       "    <tr>\n",
       "      <th>4</th>\n",
       "      <td>24.0</td>\n",
       "      <td>-2.8</td>\n",
       "      <td>-0.4</td>\n",
       "      <td>-2.7</td>\n",
       "      <td>-0.2</td>\n",
       "      <td>25.0</td>\n",
       "      <td>10.0</td>\n",
       "      <td>374.0</td>\n",
       "      <td>1.0</td>\n",
       "      <td>0.195</td>\n",
       "      <td>0.551</td>\n",
       "      <td>0.428</td>\n",
       "      <td>0.676</td>\n",
       "      <td>-0.075</td>\n",
       "      <td>0.406</td>\n",
       "    </tr>\n",
       "    <tr>\n",
       "      <th>...</th>\n",
       "      <td>...</td>\n",
       "      <td>...</td>\n",
       "      <td>...</td>\n",
       "      <td>...</td>\n",
       "      <td>...</td>\n",
       "      <td>...</td>\n",
       "      <td>...</td>\n",
       "      <td>...</td>\n",
       "      <td>...</td>\n",
       "      <td>...</td>\n",
       "      <td>...</td>\n",
       "      <td>...</td>\n",
       "      <td>...</td>\n",
       "      <td>...</td>\n",
       "      <td>...</td>\n",
       "    </tr>\n",
       "    <tr>\n",
       "      <th>2897</th>\n",
       "      <td>26.0</td>\n",
       "      <td>10.3</td>\n",
       "      <td>9.5</td>\n",
       "      <td>-0.2</td>\n",
       "      <td>-0.2</td>\n",
       "      <td>26.0</td>\n",
       "      <td>2.0</td>\n",
       "      <td>466.0</td>\n",
       "      <td>1.0</td>\n",
       "      <td>0.332</td>\n",
       "      <td>0.620</td>\n",
       "      <td>0.507</td>\n",
       "      <td>0.667</td>\n",
       "      <td>0.180</td>\n",
       "      <td>0.579</td>\n",
       "    </tr>\n",
       "    <tr>\n",
       "      <th>2898</th>\n",
       "      <td>20.0</td>\n",
       "      <td>-0.2</td>\n",
       "      <td>3.4</td>\n",
       "      <td>1.3</td>\n",
       "      <td>-0.1</td>\n",
       "      <td>1.0</td>\n",
       "      <td>20.0</td>\n",
       "      <td>375.0</td>\n",
       "      <td>3.0</td>\n",
       "      <td>-0.036</td>\n",
       "      <td>0.525</td>\n",
       "      <td>-0.001</td>\n",
       "      <td>0.564</td>\n",
       "      <td>-0.106</td>\n",
       "      <td>0.450</td>\n",
       "    </tr>\n",
       "    <tr>\n",
       "      <th>2899</th>\n",
       "      <td>36.0</td>\n",
       "      <td>-0.1</td>\n",
       "      <td>-1.8</td>\n",
       "      <td>-3.4</td>\n",
       "      <td>0.5</td>\n",
       "      <td>12.0</td>\n",
       "      <td>26.0</td>\n",
       "      <td>406.0</td>\n",
       "      <td>1.0</td>\n",
       "      <td>0.151</td>\n",
       "      <td>0.500</td>\n",
       "      <td>-0.057</td>\n",
       "      <td>0.469</td>\n",
       "      <td>0.346</td>\n",
       "      <td>0.529</td>\n",
       "    </tr>\n",
       "    <tr>\n",
       "      <th>2900</th>\n",
       "      <td>30.0</td>\n",
       "      <td>1.9</td>\n",
       "      <td>2.2</td>\n",
       "      <td>-3.4</td>\n",
       "      <td>-0.2</td>\n",
       "      <td>16.0</td>\n",
       "      <td>5.0</td>\n",
       "      <td>337.0</td>\n",
       "      <td>0.0</td>\n",
       "      <td>0.232</td>\n",
       "      <td>0.475</td>\n",
       "      <td>0.487</td>\n",
       "      <td>0.583</td>\n",
       "      <td>-0.169</td>\n",
       "      <td>0.304</td>\n",
       "    </tr>\n",
       "    <tr>\n",
       "      <th>2901</th>\n",
       "      <td>23.0</td>\n",
       "      <td>-0.2</td>\n",
       "      <td>3.4</td>\n",
       "      <td>-0.2</td>\n",
       "      <td>-0.1</td>\n",
       "      <td>1.0</td>\n",
       "      <td>20.0</td>\n",
       "      <td>383.0</td>\n",
       "      <td>2.0</td>\n",
       "      <td>0.007</td>\n",
       "      <td>0.486</td>\n",
       "      <td>0.174</td>\n",
       "      <td>0.538</td>\n",
       "      <td>-0.429</td>\n",
       "      <td>0.350</td>\n",
       "    </tr>\n",
       "  </tbody>\n",
       "</table>\n",
       "<p>2902 rows × 15 columns</p>\n",
       "</div>"
      ],
      "text/plain": [
       "      TEAM_POINTS  Power Index FPI  Power Index OFF  Power Index DEF_Opp  \\\n",
       "0            24.0             -2.0              0.9                 -2.7   \n",
       "1            20.0             -2.6              0.1                 -2.4   \n",
       "2            34.0             -2.6              0.1                 -2.4   \n",
       "3            37.0             -2.0              0.9                 -2.7   \n",
       "4            24.0             -2.8             -0.4                 -2.7   \n",
       "...           ...              ...              ...                  ...   \n",
       "2897         26.0             10.3              9.5                 -0.2   \n",
       "2898         20.0             -0.2              3.4                  1.3   \n",
       "2899         36.0             -0.1             -1.8                 -3.4   \n",
       "2900         30.0              1.9              2.2                 -3.4   \n",
       "2901         23.0             -0.2              3.4                 -0.2   \n",
       "\n",
       "      Power Index ST  Ranks SOS  Ranks AVGWP  TEAM_YARDS  TEAM_TURNOVERS  \\\n",
       "0               -0.5       15.0         13.0       349.0             0.0   \n",
       "1                0.0       12.0         27.0       345.0             3.0   \n",
       "2                0.0       12.0         27.0       444.0             1.0   \n",
       "3               -0.5       15.0         13.0       546.0             3.0   \n",
       "4               -0.2       25.0         10.0       374.0             1.0   \n",
       "...              ...        ...          ...         ...             ...   \n",
       "2897            -0.2       26.0          2.0       466.0             1.0   \n",
       "2898            -0.1        1.0         20.0       375.0             3.0   \n",
       "2899             0.5       12.0         26.0       406.0             1.0   \n",
       "2900            -0.2       16.0          5.0       337.0             0.0   \n",
       "2901            -0.1        1.0         20.0       383.0             2.0   \n",
       "\n",
       "      EPA/play_RDBMS_Winner  OVR_SUCCESS_RATE_RDBMS_Winner  \\\n",
       "0                     0.180                          0.468   \n",
       "1                    -0.008                          0.442   \n",
       "2                     0.053                          0.436   \n",
       "3                     0.151                          0.476   \n",
       "4                     0.195                          0.551   \n",
       "...                     ...                            ...   \n",
       "2897                  0.332                          0.620   \n",
       "2898                 -0.036                          0.525   \n",
       "2899                  0.151                          0.500   \n",
       "2900                  0.232                          0.475   \n",
       "2901                  0.007                          0.486   \n",
       "\n",
       "      Dropback EPA_RDBMS_Winner  DROPBACK_SR_RDBMS_Winner  \\\n",
       "0                         0.257                     0.500   \n",
       "1                        -0.009                     0.483   \n",
       "2                         0.227                     0.543   \n",
       "3                         0.286                     0.491   \n",
       "4                         0.428                     0.676   \n",
       "...                         ...                       ...   \n",
       "2897                      0.507                     0.667   \n",
       "2898                     -0.001                     0.564   \n",
       "2899                     -0.057                     0.469   \n",
       "2900                      0.487                     0.583   \n",
       "2901                      0.174                     0.538   \n",
       "\n",
       "      Rush EPA_RDBMS_Winner  RUN_SR_RDBMS_Winner  \n",
       "0                    -0.041                0.375  \n",
       "1                    -0.007                0.391  \n",
       "2                    -0.198                0.281  \n",
       "3                    -0.095                0.448  \n",
       "4                    -0.075                0.406  \n",
       "...                     ...                  ...  \n",
       "2897                  0.180                0.579  \n",
       "2898                 -0.106                0.450  \n",
       "2899                  0.346                0.529  \n",
       "2900                 -0.169                0.304  \n",
       "2901                 -0.429                0.350  \n",
       "\n",
       "[2902 rows x 15 columns]"
      ]
     },
     "execution_count": 204,
     "metadata": {},
     "output_type": "execute_result"
    }
   ],
   "source": [
    "model_values"
   ]
  },
  {
   "cell_type": "code",
   "execution_count": 183,
   "metadata": {},
   "outputs": [],
   "source": [
    "y_pred = model_5.predict(X_test)"
   ]
  },
  {
   "cell_type": "code",
   "execution_count": 184,
   "metadata": {},
   "outputs": [],
   "source": [
    "sq_resid = (y_pred - y_test)**2"
   ]
  },
  {
   "cell_type": "code",
   "execution_count": 185,
   "metadata": {},
   "outputs": [
    {
     "data": {
      "text/plain": [
       "4.647672409034977"
      ]
     },
     "execution_count": 185,
     "metadata": {},
     "output_type": "execute_result"
    }
   ],
   "source": [
    "# The Mean Squared Error\n",
    "pd.Series(sq_resid.reshape(-1)).apply(math.sqrt).mean()"
   ]
  },
  {
   "cell_type": "code",
   "execution_count": 186,
   "metadata": {},
   "outputs": [],
   "source": [
    "# Grid Search\n",
    "from sklearn.model_selection import GridSearchCV\n",
    "params = {'fit_intercept':[True,False], 'normalize':[True,False], 'copy_X':[True, False]}\n",
    "grid = GridSearchCV(model_3, params, verbose=3)"
   ]
  },
  {
   "cell_type": "code",
   "execution_count": 189,
   "metadata": {},
   "outputs": [
    {
     "name": "stdout",
     "output_type": "stream",
     "text": [
      "Fitting 5 folds for each of 8 candidates, totalling 40 fits\n",
      "[CV] copy_X=True, fit_intercept=True, normalize=True .................\n",
      "[CV]  copy_X=True, fit_intercept=True, normalize=True, score=0.582, total=   0.0s\n",
      "[CV] copy_X=True, fit_intercept=True, normalize=True .................\n",
      "[CV]  copy_X=True, fit_intercept=True, normalize=True, score=0.616, total=   0.0s\n",
      "[CV] copy_X=True, fit_intercept=True, normalize=True .................\n",
      "[CV]  copy_X=True, fit_intercept=True, normalize=True, score=0.647, total=   0.0s\n",
      "[CV] copy_X=True, fit_intercept=True, normalize=True .................\n",
      "[CV]  copy_X=True, fit_intercept=True, normalize=True, score=0.607, total=   0.0s\n",
      "[CV] copy_X=True, fit_intercept=True, normalize=True .................\n",
      "[CV]  copy_X=True, fit_intercept=True, normalize=True, score=0.645, total=   0.0s\n",
      "[CV] copy_X=True, fit_intercept=True, normalize=False ................\n",
      "[CV]  copy_X=True, fit_intercept=True, normalize=False, score=0.582, total=   0.0s\n",
      "[CV] copy_X=True, fit_intercept=True, normalize=False ................\n",
      "[CV]  copy_X=True, fit_intercept=True, normalize=False, score=0.616, total=   0.0s\n",
      "[CV] copy_X=True, fit_intercept=True, normalize=False ................\n",
      "[CV]  copy_X=True, fit_intercept=True, normalize=False, score=0.647, total=   0.0s\n",
      "[CV] copy_X=True, fit_intercept=True, normalize=False ................\n",
      "[CV]  copy_X=True, fit_intercept=True, normalize=False, score=0.607, total=   0.0s\n",
      "[CV] copy_X=True, fit_intercept=True, normalize=False ................\n",
      "[CV]  copy_X=True, fit_intercept=True, normalize=False, score=0.645, total=   0.0s\n",
      "[CV] copy_X=True, fit_intercept=False, normalize=True ................\n",
      "[CV]  copy_X=True, fit_intercept=False, normalize=True, score=0.571, total=   0.0s\n",
      "[CV] copy_X=True, fit_intercept=False, normalize=True ................\n",
      "[CV]  copy_X=True, fit_intercept=False, normalize=True, score=0.591, total=   0.0s\n",
      "[CV] copy_X=True, fit_intercept=False, normalize=True ................\n",
      "[CV]  copy_X=True, fit_intercept=False, normalize=True, score=0.628, total=   0.0s\n",
      "[CV] copy_X=True, fit_intercept=False, normalize=True ................\n",
      "[CV]  copy_X=True, fit_intercept=False, normalize=True, score=0.552, total=   0.0s\n",
      "[CV] copy_X=True, fit_intercept=False, normalize=True ................\n",
      "[CV]  copy_X=True, fit_intercept=False, normalize=True, score=0.605, total=   0.0s\n",
      "[CV] copy_X=True, fit_intercept=False, normalize=False ...............\n",
      "[CV]  copy_X=True, fit_intercept=False, normalize=False, score=0.571, total=   0.0s\n",
      "[CV] copy_X=True, fit_intercept=False, normalize=False ...............\n",
      "[CV]  copy_X=True, fit_intercept=False, normalize=False, score=0.591, total=   0.0s\n",
      "[CV] copy_X=True, fit_intercept=False, normalize=False ...............\n",
      "[CV]  copy_X=True, fit_intercept=False, normalize=False, score=0.628, total=   0.0s\n",
      "[CV] copy_X=True, fit_intercept=False, normalize=False ...............\n",
      "[CV]  copy_X=True, fit_intercept=False, normalize=False, score=0.552, total=   0.0s\n",
      "[CV] copy_X=True, fit_intercept=False, normalize=False ...............\n",
      "[CV]  copy_X=True, fit_intercept=False, normalize=False, score=0.605, total=   0.0s\n",
      "[CV] copy_X=False, fit_intercept=True, normalize=True ................\n",
      "[CV]  copy_X=False, fit_intercept=True, normalize=True, score=0.582, total=   0.0s\n",
      "[CV] copy_X=False, fit_intercept=True, normalize=True ................\n",
      "[CV]  copy_X=False, fit_intercept=True, normalize=True, score=0.616, total=   0.0s\n",
      "[CV] copy_X=False, fit_intercept=True, normalize=True ................\n",
      "[CV]  copy_X=False, fit_intercept=True, normalize=True, score=0.647, total=   0.0s\n",
      "[CV] copy_X=False, fit_intercept=True, normalize=True ................\n",
      "[CV]  copy_X=False, fit_intercept=True, normalize=True, score=0.607, total=   0.0s\n",
      "[CV] copy_X=False, fit_intercept=True, normalize=True ................\n",
      "[CV]  copy_X=False, fit_intercept=True, normalize=True, score=0.645, total=   0.0s\n",
      "[CV] copy_X=False, fit_intercept=True, normalize=False ...............\n",
      "[CV]  copy_X=False, fit_intercept=True, normalize=False, score=0.582, total=   0.0s\n",
      "[CV] copy_X=False, fit_intercept=True, normalize=False ...............\n",
      "[CV]  copy_X=False, fit_intercept=True, normalize=False, score=0.616, total=   0.0s\n",
      "[CV] copy_X=False, fit_intercept=True, normalize=False ...............\n",
      "[CV]  copy_X=False, fit_intercept=True, normalize=False, score=0.647, total=   0.0s\n",
      "[CV] copy_X=False, fit_intercept=True, normalize=False ...............\n",
      "[CV]  copy_X=False, fit_intercept=True, normalize=False, score=0.607, total=   0.0s\n",
      "[CV] copy_X=False, fit_intercept=True, normalize=False ...............\n",
      "[CV]  copy_X=False, fit_intercept=True, normalize=False, score=0.645, total=   0.0s\n",
      "[CV] copy_X=False, fit_intercept=False, normalize=True ...............\n",
      "[CV]  copy_X=False, fit_intercept=False, normalize=True, score=0.571, total=   0.0s\n",
      "[CV] copy_X=False, fit_intercept=False, normalize=True ...............\n",
      "[CV]  copy_X=False, fit_intercept=False, normalize=True, score=0.591, total=   0.0s\n",
      "[CV] copy_X=False, fit_intercept=False, normalize=True ...............\n",
      "[CV]  copy_X=False, fit_intercept=False, normalize=True, score=0.628, total=   0.0s\n",
      "[CV] copy_X=False, fit_intercept=False, normalize=True ...............\n",
      "[CV]  copy_X=False, fit_intercept=False, normalize=True, score=0.552, total=   0.0s\n",
      "[CV] copy_X=False, fit_intercept=False, normalize=True ...............\n",
      "[CV]  copy_X=False, fit_intercept=False, normalize=True, score=0.605, total=   0.0s\n",
      "[CV] copy_X=False, fit_intercept=False, normalize=False ..............\n",
      "[CV]  copy_X=False, fit_intercept=False, normalize=False, score=0.571, total=   0.0s\n",
      "[CV] copy_X=False, fit_intercept=False, normalize=False ..............\n",
      "[CV]  copy_X=False, fit_intercept=False, normalize=False, score=0.591, total=   0.0s\n",
      "[CV] copy_X=False, fit_intercept=False, normalize=False ..............\n",
      "[CV]  copy_X=False, fit_intercept=False, normalize=False, score=0.628, total=   0.0s\n",
      "[CV] copy_X=False, fit_intercept=False, normalize=False ..............\n",
      "[CV]  copy_X=False, fit_intercept=False, normalize=False, score=0.552, total=   0.0s\n",
      "[CV] copy_X=False, fit_intercept=False, normalize=False ..............\n",
      "[CV]  copy_X=False, fit_intercept=False, normalize=False, score=0.605, total=   0.0s\n"
     ]
    },
    {
     "name": "stderr",
     "output_type": "stream",
     "text": [
      "[Parallel(n_jobs=1)]: Using backend SequentialBackend with 1 concurrent workers.\n",
      "[Parallel(n_jobs=1)]: Done   1 out of   1 | elapsed:    0.0s remaining:    0.0s\n",
      "[Parallel(n_jobs=1)]: Done   2 out of   2 | elapsed:    0.0s remaining:    0.0s\n",
      "[Parallel(n_jobs=1)]: Done  40 out of  40 | elapsed:    0.0s finished\n"
     ]
    },
    {
     "data": {
      "text/plain": [
       "GridSearchCV(cv=None, error_score=nan,\n",
       "             estimator=LinearRegression(copy_X=True, fit_intercept=True,\n",
       "                                        n_jobs=None, normalize=True),\n",
       "             iid='deprecated', n_jobs=None,\n",
       "             param_grid={'copy_X': [True, False],\n",
       "                         'fit_intercept': [True, False],\n",
       "                         'normalize': [True, False]},\n",
       "             pre_dispatch='2*n_jobs', refit=True, return_train_score=False,\n",
       "             scoring=None, verbose=3)"
      ]
     },
     "execution_count": 189,
     "metadata": {},
     "output_type": "execute_result"
    }
   ],
   "source": [
    "# Train the model with GridSearch\n",
    "grid.fit(X_train,y_train)"
   ]
  },
  {
   "cell_type": "code",
   "execution_count": 190,
   "metadata": {},
   "outputs": [
    {
     "data": {
      "text/plain": [
       "0.6193625275279359"
      ]
     },
     "execution_count": 190,
     "metadata": {},
     "output_type": "execute_result"
    }
   ],
   "source": [
    "grid.best_score_"
   ]
  },
  {
   "cell_type": "code",
   "execution_count": 191,
   "metadata": {},
   "outputs": [],
   "source": [
    "ys = grid.predict(X_test)"
   ]
  },
  {
   "cell_type": "code",
   "execution_count": 192,
   "metadata": {},
   "outputs": [],
   "source": [
    "resids = (ys - y_test)**2"
   ]
  },
  {
   "cell_type": "code",
   "execution_count": 193,
   "metadata": {},
   "outputs": [
    {
     "data": {
      "text/plain": [
       "4.647672409034978"
      ]
     },
     "execution_count": 193,
     "metadata": {},
     "output_type": "execute_result"
    }
   ],
   "source": [
    "pd.Series(resids.reshape(-1)).apply(math.sqrt).mean()"
   ]
  },
  {
   "cell_type": "code",
   "execution_count": 194,
   "metadata": {},
   "outputs": [],
   "source": [
    "from sklearn.metrics import r2_score"
   ]
  },
  {
   "cell_type": "code",
   "execution_count": 195,
   "metadata": {},
   "outputs": [
    {
     "data": {
      "text/plain": [
       "0.6277712268609108"
      ]
     },
     "execution_count": 195,
     "metadata": {},
     "output_type": "execute_result"
    }
   ],
   "source": [
    "r2_score(y_test, ys)"
   ]
  },
  {
   "cell_type": "code",
   "execution_count": 197,
   "metadata": {},
   "outputs": [],
   "source": [
    "!cd .."
   ]
  },
  {
   "cell_type": "code",
   "execution_count": 202,
   "metadata": {},
   "outputs": [
    {
     "name": "stdout",
     "output_type": "stream",
     "text": [
      "2020GamesLeft.csv\n",
      "MachineLearningModels.ipynb\n"
     ]
    }
   ],
   "source": [
    "!ls"
   ]
  },
  {
   "cell_type": "code",
   "execution_count": 203,
   "metadata": {},
   "outputs": [
    {
     "data": {
      "text/plain": [
       "Index(['Unnamed: 0', 'Year', 'Week_x', 'Abbr_RDBMS_Winner', 'Week2', 'Day',\n",
       "       'Date', 'Time', 'Home_Team', 'FINAL_TEAM_NAME', 'Opponent',\n",
       "       'TEAM_POINTS', 'TEAM_YARDS', 'TEAM_TURNOVERS',\n",
       "       'TEAM_TURNOVER_DIFFERENTIAL', 'OPPONENTS_POINTS', 'OPPONENTS_YARDS',\n",
       "       'OPPONENTS_TURNOVERS', 'OPPONENTS_TURNOVER_DIFFERENTIAL',\n",
       "       'TEAM_POINT_MARGIN', 'GAMEID', 'BINARY_WIN', 'W-L-T', 'Power Index FPI',\n",
       "       'Power Index RK', 'Power Index TREND', 'Power Index OFF',\n",
       "       'Power Index DEF', 'Power Index ST', 'Ranks SOS', 'Ranks REM SOS',\n",
       "       'Ranks AVGWP', 'DIVISION_538_Winner', 'ELO WITH QB_538_Winner',\n",
       "       'ELO CHANGE_538_Winner', 'CURRENT QB ADJ_538_Winner',\n",
       "       'Points_Diff_538_Winner', 'Playoffs_Prob_538_Winner',\n",
       "       'Division_Prob_538_Winner', 'Bye_Prob_538_Winner', 'SB_Prob_538_Winner',\n",
       "       'REAL_WINS2_538_Winner', 'REAL_LOSSES2_538_Winner',\n",
       "       'REAL_TIES_538_Winner', 'PROJ_WINS4_538_Winner',\n",
       "       'PROJ_LOSS4_538_Winner', 'EPA/play_RDBMS_Winner',\n",
       "       'OVR_SUCCESS_RATE_RDBMS_Winner', 'Dropback EPA_RDBMS_Winner',\n",
       "       'DROPBACK_SR_RDBMS_Winner', 'Rush EPA_RDBMS_Winner',\n",
       "       'RUN_SR_RDBMS_Winner', 'TOTAL DVOA_FO_WEEKLY_Winner',\n",
       "       'LAST WEEK_FO_WEEKLY_Winner', 'DAVE_WEI_DVOA_FO_WEEKLY_Winner',\n",
       "       'OFFENSE DVOA_FO_WEEKLY_Winner', 'DEFENSE DVOA_FO_WEEKLY_Winner',\n",
       "       'S.T. DVOA_FO_WEEKLY_Winner', 'RK_FO_ANNUAL_Winner',\n",
       "       'TOTAL DVOA_FO_ANNUAL_Winner', 'DAVE_WEI_DVOA_FO_ANNUAL_Winner',\n",
       "       'OFFENSE DVOA_FO_ANNUAL_Winner', 'DEFENSE DVOA_FO_ANNUAL_Winner',\n",
       "       'S.T. DVOA_FO_ANNUAL_Winner', 'non-adj VOA_FO_ANNUAL_Winner',\n",
       "       'Last Year_FO_ANNUAL_Winner', 'ESTIM. WINS_FO_ANNUAL_Winner',\n",
       "       'SCHEDULE RANK_FO_ANNUAL_Winner', 'VAR._FO_ANNUAL_Winner',\n",
       "       'TOTAL_GAME_POINTS', 'TOTAL_GAME_YARDS', 'TOTAL_GAME_TURNOVERS',\n",
       "       'PLAYOFFS_BINARY', 'GAME_TYPE', 'FINAL_TEAM_NAME_Opp',\n",
       "       'Power Index DEF_Opp'],\n",
       "      dtype='object')"
      ]
     },
     "execution_count": 203,
     "metadata": {},
     "output_type": "execute_result"
    }
   ],
   "source": [
    "allTheStats3.columns"
   ]
  },
  {
   "cell_type": "code",
   "execution_count": 209,
   "metadata": {},
   "outputs": [
    {
     "data": {
      "text/html": [
       "<div>\n",
       "<style scoped>\n",
       "    .dataframe tbody tr th:only-of-type {\n",
       "        vertical-align: middle;\n",
       "    }\n",
       "\n",
       "    .dataframe tbody tr th {\n",
       "        vertical-align: top;\n",
       "    }\n",
       "\n",
       "    .dataframe thead th {\n",
       "        text-align: right;\n",
       "    }\n",
       "</style>\n",
       "<table border=\"1\" class=\"dataframe\">\n",
       "  <thead>\n",
       "    <tr style=\"text-align: right;\">\n",
       "      <th></th>\n",
       "      <th>Unnamed: 0</th>\n",
       "      <th>Year</th>\n",
       "      <th>Week_x</th>\n",
       "      <th>Abbr_RDBMS_Winner</th>\n",
       "      <th>Week2</th>\n",
       "      <th>Day</th>\n",
       "      <th>Date</th>\n",
       "      <th>Time</th>\n",
       "      <th>Home_Team</th>\n",
       "      <th>Opponent</th>\n",
       "      <th>...</th>\n",
       "      <th>ESTIM. WINS_FO_ANNUAL_Winner</th>\n",
       "      <th>SCHEDULE RANK_FO_ANNUAL_Winner</th>\n",
       "      <th>VAR._FO_ANNUAL_Winner</th>\n",
       "      <th>TOTAL_GAME_POINTS</th>\n",
       "      <th>TOTAL_GAME_YARDS</th>\n",
       "      <th>TOTAL_GAME_TURNOVERS</th>\n",
       "      <th>PLAYOFFS_BINARY</th>\n",
       "      <th>GAME_TYPE</th>\n",
       "      <th>FINAL_TEAM_NAME_Opp</th>\n",
       "      <th>Power Index DEF_Opp</th>\n",
       "    </tr>\n",
       "    <tr>\n",
       "      <th>FINAL_TEAM_NAME</th>\n",
       "      <th></th>\n",
       "      <th></th>\n",
       "      <th></th>\n",
       "      <th></th>\n",
       "      <th></th>\n",
       "      <th></th>\n",
       "      <th></th>\n",
       "      <th></th>\n",
       "      <th></th>\n",
       "      <th></th>\n",
       "      <th></th>\n",
       "      <th></th>\n",
       "      <th></th>\n",
       "      <th></th>\n",
       "      <th></th>\n",
       "      <th></th>\n",
       "      <th></th>\n",
       "      <th></th>\n",
       "      <th></th>\n",
       "      <th></th>\n",
       "      <th></th>\n",
       "    </tr>\n",
       "  </thead>\n",
       "  <tbody>\n",
       "    <tr>\n",
       "      <th>Arizona Cardinals</th>\n",
       "      <td>90</td>\n",
       "      <td>90</td>\n",
       "      <td>90</td>\n",
       "      <td>90</td>\n",
       "      <td>90</td>\n",
       "      <td>90</td>\n",
       "      <td>90</td>\n",
       "      <td>90</td>\n",
       "      <td>90</td>\n",
       "      <td>90</td>\n",
       "      <td>...</td>\n",
       "      <td>90</td>\n",
       "      <td>90</td>\n",
       "      <td>90</td>\n",
       "      <td>90</td>\n",
       "      <td>90</td>\n",
       "      <td>90</td>\n",
       "      <td>90</td>\n",
       "      <td>90</td>\n",
       "      <td>90</td>\n",
       "      <td>90</td>\n",
       "    </tr>\n",
       "    <tr>\n",
       "      <th>Atlanta Falcons</th>\n",
       "      <td>94</td>\n",
       "      <td>94</td>\n",
       "      <td>94</td>\n",
       "      <td>94</td>\n",
       "      <td>94</td>\n",
       "      <td>94</td>\n",
       "      <td>94</td>\n",
       "      <td>94</td>\n",
       "      <td>94</td>\n",
       "      <td>94</td>\n",
       "      <td>...</td>\n",
       "      <td>94</td>\n",
       "      <td>94</td>\n",
       "      <td>94</td>\n",
       "      <td>94</td>\n",
       "      <td>94</td>\n",
       "      <td>94</td>\n",
       "      <td>94</td>\n",
       "      <td>94</td>\n",
       "      <td>94</td>\n",
       "      <td>94</td>\n",
       "    </tr>\n",
       "    <tr>\n",
       "      <th>Baltimore Ravens</th>\n",
       "      <td>90</td>\n",
       "      <td>90</td>\n",
       "      <td>90</td>\n",
       "      <td>90</td>\n",
       "      <td>90</td>\n",
       "      <td>90</td>\n",
       "      <td>90</td>\n",
       "      <td>90</td>\n",
       "      <td>90</td>\n",
       "      <td>90</td>\n",
       "      <td>...</td>\n",
       "      <td>90</td>\n",
       "      <td>90</td>\n",
       "      <td>90</td>\n",
       "      <td>90</td>\n",
       "      <td>90</td>\n",
       "      <td>90</td>\n",
       "      <td>90</td>\n",
       "      <td>90</td>\n",
       "      <td>90</td>\n",
       "      <td>90</td>\n",
       "    </tr>\n",
       "    <tr>\n",
       "      <th>Buffalo Bills</th>\n",
       "      <td>90</td>\n",
       "      <td>90</td>\n",
       "      <td>90</td>\n",
       "      <td>90</td>\n",
       "      <td>90</td>\n",
       "      <td>90</td>\n",
       "      <td>90</td>\n",
       "      <td>90</td>\n",
       "      <td>90</td>\n",
       "      <td>90</td>\n",
       "      <td>...</td>\n",
       "      <td>90</td>\n",
       "      <td>90</td>\n",
       "      <td>90</td>\n",
       "      <td>90</td>\n",
       "      <td>90</td>\n",
       "      <td>90</td>\n",
       "      <td>90</td>\n",
       "      <td>90</td>\n",
       "      <td>90</td>\n",
       "      <td>90</td>\n",
       "    </tr>\n",
       "    <tr>\n",
       "      <th>Carolina Panthers</th>\n",
       "      <td>92</td>\n",
       "      <td>92</td>\n",
       "      <td>92</td>\n",
       "      <td>92</td>\n",
       "      <td>92</td>\n",
       "      <td>92</td>\n",
       "      <td>92</td>\n",
       "      <td>92</td>\n",
       "      <td>92</td>\n",
       "      <td>92</td>\n",
       "      <td>...</td>\n",
       "      <td>92</td>\n",
       "      <td>92</td>\n",
       "      <td>92</td>\n",
       "      <td>92</td>\n",
       "      <td>92</td>\n",
       "      <td>92</td>\n",
       "      <td>92</td>\n",
       "      <td>92</td>\n",
       "      <td>92</td>\n",
       "      <td>92</td>\n",
       "    </tr>\n",
       "    <tr>\n",
       "      <th>Chicago Bears</th>\n",
       "      <td>88</td>\n",
       "      <td>88</td>\n",
       "      <td>88</td>\n",
       "      <td>88</td>\n",
       "      <td>88</td>\n",
       "      <td>88</td>\n",
       "      <td>88</td>\n",
       "      <td>88</td>\n",
       "      <td>88</td>\n",
       "      <td>88</td>\n",
       "      <td>...</td>\n",
       "      <td>88</td>\n",
       "      <td>88</td>\n",
       "      <td>88</td>\n",
       "      <td>88</td>\n",
       "      <td>88</td>\n",
       "      <td>88</td>\n",
       "      <td>88</td>\n",
       "      <td>88</td>\n",
       "      <td>88</td>\n",
       "      <td>88</td>\n",
       "    </tr>\n",
       "    <tr>\n",
       "      <th>Cincinnati Bengals</th>\n",
       "      <td>88</td>\n",
       "      <td>88</td>\n",
       "      <td>88</td>\n",
       "      <td>88</td>\n",
       "      <td>88</td>\n",
       "      <td>88</td>\n",
       "      <td>88</td>\n",
       "      <td>88</td>\n",
       "      <td>88</td>\n",
       "      <td>88</td>\n",
       "      <td>...</td>\n",
       "      <td>88</td>\n",
       "      <td>88</td>\n",
       "      <td>88</td>\n",
       "      <td>88</td>\n",
       "      <td>88</td>\n",
       "      <td>88</td>\n",
       "      <td>88</td>\n",
       "      <td>88</td>\n",
       "      <td>88</td>\n",
       "      <td>88</td>\n",
       "    </tr>\n",
       "    <tr>\n",
       "      <th>Cleveland Browns</th>\n",
       "      <td>88</td>\n",
       "      <td>88</td>\n",
       "      <td>88</td>\n",
       "      <td>88</td>\n",
       "      <td>88</td>\n",
       "      <td>88</td>\n",
       "      <td>88</td>\n",
       "      <td>88</td>\n",
       "      <td>88</td>\n",
       "      <td>88</td>\n",
       "      <td>...</td>\n",
       "      <td>88</td>\n",
       "      <td>88</td>\n",
       "      <td>88</td>\n",
       "      <td>88</td>\n",
       "      <td>88</td>\n",
       "      <td>88</td>\n",
       "      <td>88</td>\n",
       "      <td>88</td>\n",
       "      <td>88</td>\n",
       "      <td>88</td>\n",
       "    </tr>\n",
       "    <tr>\n",
       "      <th>Dallas Cowboys</th>\n",
       "      <td>92</td>\n",
       "      <td>92</td>\n",
       "      <td>92</td>\n",
       "      <td>92</td>\n",
       "      <td>92</td>\n",
       "      <td>92</td>\n",
       "      <td>92</td>\n",
       "      <td>92</td>\n",
       "      <td>92</td>\n",
       "      <td>92</td>\n",
       "      <td>...</td>\n",
       "      <td>92</td>\n",
       "      <td>92</td>\n",
       "      <td>92</td>\n",
       "      <td>92</td>\n",
       "      <td>92</td>\n",
       "      <td>92</td>\n",
       "      <td>92</td>\n",
       "      <td>92</td>\n",
       "      <td>92</td>\n",
       "      <td>92</td>\n",
       "    </tr>\n",
       "    <tr>\n",
       "      <th>Denver Broncos</th>\n",
       "      <td>89</td>\n",
       "      <td>89</td>\n",
       "      <td>89</td>\n",
       "      <td>89</td>\n",
       "      <td>89</td>\n",
       "      <td>89</td>\n",
       "      <td>89</td>\n",
       "      <td>89</td>\n",
       "      <td>89</td>\n",
       "      <td>89</td>\n",
       "      <td>...</td>\n",
       "      <td>89</td>\n",
       "      <td>89</td>\n",
       "      <td>89</td>\n",
       "      <td>89</td>\n",
       "      <td>89</td>\n",
       "      <td>89</td>\n",
       "      <td>89</td>\n",
       "      <td>89</td>\n",
       "      <td>89</td>\n",
       "      <td>89</td>\n",
       "    </tr>\n",
       "    <tr>\n",
       "      <th>Detroit Lions</th>\n",
       "      <td>89</td>\n",
       "      <td>89</td>\n",
       "      <td>89</td>\n",
       "      <td>89</td>\n",
       "      <td>89</td>\n",
       "      <td>89</td>\n",
       "      <td>89</td>\n",
       "      <td>89</td>\n",
       "      <td>89</td>\n",
       "      <td>89</td>\n",
       "      <td>...</td>\n",
       "      <td>89</td>\n",
       "      <td>89</td>\n",
       "      <td>89</td>\n",
       "      <td>89</td>\n",
       "      <td>89</td>\n",
       "      <td>89</td>\n",
       "      <td>89</td>\n",
       "      <td>89</td>\n",
       "      <td>89</td>\n",
       "      <td>89</td>\n",
       "    </tr>\n",
       "    <tr>\n",
       "      <th>Green Bay Packers</th>\n",
       "      <td>94</td>\n",
       "      <td>94</td>\n",
       "      <td>94</td>\n",
       "      <td>94</td>\n",
       "      <td>94</td>\n",
       "      <td>94</td>\n",
       "      <td>94</td>\n",
       "      <td>94</td>\n",
       "      <td>94</td>\n",
       "      <td>94</td>\n",
       "      <td>...</td>\n",
       "      <td>94</td>\n",
       "      <td>94</td>\n",
       "      <td>94</td>\n",
       "      <td>94</td>\n",
       "      <td>94</td>\n",
       "      <td>94</td>\n",
       "      <td>94</td>\n",
       "      <td>94</td>\n",
       "      <td>94</td>\n",
       "      <td>94</td>\n",
       "    </tr>\n",
       "    <tr>\n",
       "      <th>Houston Texans</th>\n",
       "      <td>93</td>\n",
       "      <td>93</td>\n",
       "      <td>93</td>\n",
       "      <td>93</td>\n",
       "      <td>93</td>\n",
       "      <td>93</td>\n",
       "      <td>93</td>\n",
       "      <td>93</td>\n",
       "      <td>93</td>\n",
       "      <td>93</td>\n",
       "      <td>...</td>\n",
       "      <td>93</td>\n",
       "      <td>93</td>\n",
       "      <td>93</td>\n",
       "      <td>93</td>\n",
       "      <td>93</td>\n",
       "      <td>93</td>\n",
       "      <td>93</td>\n",
       "      <td>93</td>\n",
       "      <td>93</td>\n",
       "      <td>93</td>\n",
       "    </tr>\n",
       "    <tr>\n",
       "      <th>Indianapolis Colts</th>\n",
       "      <td>90</td>\n",
       "      <td>90</td>\n",
       "      <td>90</td>\n",
       "      <td>90</td>\n",
       "      <td>90</td>\n",
       "      <td>90</td>\n",
       "      <td>90</td>\n",
       "      <td>90</td>\n",
       "      <td>90</td>\n",
       "      <td>90</td>\n",
       "      <td>...</td>\n",
       "      <td>90</td>\n",
       "      <td>90</td>\n",
       "      <td>90</td>\n",
       "      <td>90</td>\n",
       "      <td>90</td>\n",
       "      <td>90</td>\n",
       "      <td>90</td>\n",
       "      <td>90</td>\n",
       "      <td>90</td>\n",
       "      <td>90</td>\n",
       "    </tr>\n",
       "    <tr>\n",
       "      <th>Jacksonville Jaguars</th>\n",
       "      <td>90</td>\n",
       "      <td>90</td>\n",
       "      <td>90</td>\n",
       "      <td>90</td>\n",
       "      <td>90</td>\n",
       "      <td>90</td>\n",
       "      <td>90</td>\n",
       "      <td>90</td>\n",
       "      <td>90</td>\n",
       "      <td>90</td>\n",
       "      <td>...</td>\n",
       "      <td>90</td>\n",
       "      <td>90</td>\n",
       "      <td>90</td>\n",
       "      <td>90</td>\n",
       "      <td>90</td>\n",
       "      <td>90</td>\n",
       "      <td>90</td>\n",
       "      <td>90</td>\n",
       "      <td>90</td>\n",
       "      <td>90</td>\n",
       "    </tr>\n",
       "    <tr>\n",
       "      <th>Kansas City Chiefs</th>\n",
       "      <td>98</td>\n",
       "      <td>98</td>\n",
       "      <td>98</td>\n",
       "      <td>98</td>\n",
       "      <td>98</td>\n",
       "      <td>98</td>\n",
       "      <td>98</td>\n",
       "      <td>98</td>\n",
       "      <td>98</td>\n",
       "      <td>98</td>\n",
       "      <td>...</td>\n",
       "      <td>98</td>\n",
       "      <td>98</td>\n",
       "      <td>98</td>\n",
       "      <td>98</td>\n",
       "      <td>98</td>\n",
       "      <td>98</td>\n",
       "      <td>98</td>\n",
       "      <td>98</td>\n",
       "      <td>98</td>\n",
       "      <td>98</td>\n",
       "    </tr>\n",
       "    <tr>\n",
       "      <th>Miami Dolphins</th>\n",
       "      <td>89</td>\n",
       "      <td>89</td>\n",
       "      <td>89</td>\n",
       "      <td>89</td>\n",
       "      <td>89</td>\n",
       "      <td>89</td>\n",
       "      <td>89</td>\n",
       "      <td>89</td>\n",
       "      <td>89</td>\n",
       "      <td>89</td>\n",
       "      <td>...</td>\n",
       "      <td>89</td>\n",
       "      <td>89</td>\n",
       "      <td>89</td>\n",
       "      <td>89</td>\n",
       "      <td>89</td>\n",
       "      <td>89</td>\n",
       "      <td>89</td>\n",
       "      <td>89</td>\n",
       "      <td>89</td>\n",
       "      <td>89</td>\n",
       "    </tr>\n",
       "    <tr>\n",
       "      <th>Minnesota Vikings</th>\n",
       "      <td>92</td>\n",
       "      <td>92</td>\n",
       "      <td>92</td>\n",
       "      <td>92</td>\n",
       "      <td>92</td>\n",
       "      <td>92</td>\n",
       "      <td>92</td>\n",
       "      <td>92</td>\n",
       "      <td>92</td>\n",
       "      <td>92</td>\n",
       "      <td>...</td>\n",
       "      <td>92</td>\n",
       "      <td>92</td>\n",
       "      <td>92</td>\n",
       "      <td>92</td>\n",
       "      <td>92</td>\n",
       "      <td>92</td>\n",
       "      <td>92</td>\n",
       "      <td>92</td>\n",
       "      <td>92</td>\n",
       "      <td>92</td>\n",
       "    </tr>\n",
       "    <tr>\n",
       "      <th>New England Patriots</th>\n",
       "      <td>100</td>\n",
       "      <td>100</td>\n",
       "      <td>100</td>\n",
       "      <td>100</td>\n",
       "      <td>100</td>\n",
       "      <td>100</td>\n",
       "      <td>100</td>\n",
       "      <td>100</td>\n",
       "      <td>100</td>\n",
       "      <td>100</td>\n",
       "      <td>...</td>\n",
       "      <td>100</td>\n",
       "      <td>100</td>\n",
       "      <td>100</td>\n",
       "      <td>100</td>\n",
       "      <td>100</td>\n",
       "      <td>100</td>\n",
       "      <td>100</td>\n",
       "      <td>100</td>\n",
       "      <td>100</td>\n",
       "      <td>100</td>\n",
       "    </tr>\n",
       "    <tr>\n",
       "      <th>New Orleans Saints</th>\n",
       "      <td>91</td>\n",
       "      <td>91</td>\n",
       "      <td>91</td>\n",
       "      <td>91</td>\n",
       "      <td>91</td>\n",
       "      <td>91</td>\n",
       "      <td>91</td>\n",
       "      <td>91</td>\n",
       "      <td>91</td>\n",
       "      <td>91</td>\n",
       "      <td>...</td>\n",
       "      <td>91</td>\n",
       "      <td>91</td>\n",
       "      <td>91</td>\n",
       "      <td>91</td>\n",
       "      <td>91</td>\n",
       "      <td>91</td>\n",
       "      <td>91</td>\n",
       "      <td>91</td>\n",
       "      <td>91</td>\n",
       "      <td>91</td>\n",
       "    </tr>\n",
       "    <tr>\n",
       "      <th>New York Giants</th>\n",
       "      <td>89</td>\n",
       "      <td>89</td>\n",
       "      <td>89</td>\n",
       "      <td>89</td>\n",
       "      <td>89</td>\n",
       "      <td>89</td>\n",
       "      <td>89</td>\n",
       "      <td>89</td>\n",
       "      <td>89</td>\n",
       "      <td>89</td>\n",
       "      <td>...</td>\n",
       "      <td>89</td>\n",
       "      <td>89</td>\n",
       "      <td>89</td>\n",
       "      <td>89</td>\n",
       "      <td>89</td>\n",
       "      <td>89</td>\n",
       "      <td>89</td>\n",
       "      <td>89</td>\n",
       "      <td>89</td>\n",
       "      <td>89</td>\n",
       "    </tr>\n",
       "    <tr>\n",
       "      <th>New York Jets</th>\n",
       "      <td>89</td>\n",
       "      <td>89</td>\n",
       "      <td>89</td>\n",
       "      <td>89</td>\n",
       "      <td>89</td>\n",
       "      <td>89</td>\n",
       "      <td>89</td>\n",
       "      <td>89</td>\n",
       "      <td>89</td>\n",
       "      <td>89</td>\n",
       "      <td>...</td>\n",
       "      <td>89</td>\n",
       "      <td>89</td>\n",
       "      <td>89</td>\n",
       "      <td>89</td>\n",
       "      <td>89</td>\n",
       "      <td>89</td>\n",
       "      <td>89</td>\n",
       "      <td>89</td>\n",
       "      <td>89</td>\n",
       "      <td>89</td>\n",
       "    </tr>\n",
       "    <tr>\n",
       "      <th>Oakland Raiders</th>\n",
       "      <td>88</td>\n",
       "      <td>88</td>\n",
       "      <td>88</td>\n",
       "      <td>88</td>\n",
       "      <td>88</td>\n",
       "      <td>88</td>\n",
       "      <td>88</td>\n",
       "      <td>88</td>\n",
       "      <td>88</td>\n",
       "      <td>88</td>\n",
       "      <td>...</td>\n",
       "      <td>88</td>\n",
       "      <td>88</td>\n",
       "      <td>88</td>\n",
       "      <td>88</td>\n",
       "      <td>88</td>\n",
       "      <td>88</td>\n",
       "      <td>88</td>\n",
       "      <td>88</td>\n",
       "      <td>88</td>\n",
       "      <td>88</td>\n",
       "    </tr>\n",
       "    <tr>\n",
       "      <th>Philadelphia Eagles</th>\n",
       "      <td>94</td>\n",
       "      <td>94</td>\n",
       "      <td>94</td>\n",
       "      <td>94</td>\n",
       "      <td>94</td>\n",
       "      <td>94</td>\n",
       "      <td>94</td>\n",
       "      <td>94</td>\n",
       "      <td>94</td>\n",
       "      <td>94</td>\n",
       "      <td>...</td>\n",
       "      <td>94</td>\n",
       "      <td>94</td>\n",
       "      <td>94</td>\n",
       "      <td>94</td>\n",
       "      <td>94</td>\n",
       "      <td>94</td>\n",
       "      <td>94</td>\n",
       "      <td>94</td>\n",
       "      <td>94</td>\n",
       "      <td>94</td>\n",
       "    </tr>\n",
       "    <tr>\n",
       "      <th>Pittsburgh Steelers</th>\n",
       "      <td>93</td>\n",
       "      <td>93</td>\n",
       "      <td>93</td>\n",
       "      <td>93</td>\n",
       "      <td>93</td>\n",
       "      <td>93</td>\n",
       "      <td>93</td>\n",
       "      <td>93</td>\n",
       "      <td>93</td>\n",
       "      <td>93</td>\n",
       "      <td>...</td>\n",
       "      <td>93</td>\n",
       "      <td>93</td>\n",
       "      <td>93</td>\n",
       "      <td>93</td>\n",
       "      <td>93</td>\n",
       "      <td>93</td>\n",
       "      <td>93</td>\n",
       "      <td>93</td>\n",
       "      <td>93</td>\n",
       "      <td>93</td>\n",
       "    </tr>\n",
       "    <tr>\n",
       "      <th>San Diego Chargers</th>\n",
       "      <td>89</td>\n",
       "      <td>89</td>\n",
       "      <td>89</td>\n",
       "      <td>89</td>\n",
       "      <td>89</td>\n",
       "      <td>89</td>\n",
       "      <td>89</td>\n",
       "      <td>89</td>\n",
       "      <td>89</td>\n",
       "      <td>89</td>\n",
       "      <td>...</td>\n",
       "      <td>89</td>\n",
       "      <td>89</td>\n",
       "      <td>89</td>\n",
       "      <td>89</td>\n",
       "      <td>89</td>\n",
       "      <td>89</td>\n",
       "      <td>89</td>\n",
       "      <td>89</td>\n",
       "      <td>89</td>\n",
       "      <td>89</td>\n",
       "    </tr>\n",
       "    <tr>\n",
       "      <th>San Francisco 49ers</th>\n",
       "      <td>92</td>\n",
       "      <td>92</td>\n",
       "      <td>92</td>\n",
       "      <td>92</td>\n",
       "      <td>92</td>\n",
       "      <td>92</td>\n",
       "      <td>92</td>\n",
       "      <td>92</td>\n",
       "      <td>92</td>\n",
       "      <td>92</td>\n",
       "      <td>...</td>\n",
       "      <td>92</td>\n",
       "      <td>92</td>\n",
       "      <td>92</td>\n",
       "      <td>92</td>\n",
       "      <td>92</td>\n",
       "      <td>92</td>\n",
       "      <td>92</td>\n",
       "      <td>92</td>\n",
       "      <td>92</td>\n",
       "      <td>92</td>\n",
       "    </tr>\n",
       "    <tr>\n",
       "      <th>Seattle Seahawks</th>\n",
       "      <td>95</td>\n",
       "      <td>95</td>\n",
       "      <td>95</td>\n",
       "      <td>95</td>\n",
       "      <td>95</td>\n",
       "      <td>95</td>\n",
       "      <td>95</td>\n",
       "      <td>95</td>\n",
       "      <td>95</td>\n",
       "      <td>95</td>\n",
       "      <td>...</td>\n",
       "      <td>95</td>\n",
       "      <td>95</td>\n",
       "      <td>95</td>\n",
       "      <td>95</td>\n",
       "      <td>95</td>\n",
       "      <td>95</td>\n",
       "      <td>95</td>\n",
       "      <td>95</td>\n",
       "      <td>95</td>\n",
       "      <td>95</td>\n",
       "    </tr>\n",
       "    <tr>\n",
       "      <th>St. Louis Rams</th>\n",
       "      <td>92</td>\n",
       "      <td>92</td>\n",
       "      <td>92</td>\n",
       "      <td>92</td>\n",
       "      <td>92</td>\n",
       "      <td>92</td>\n",
       "      <td>92</td>\n",
       "      <td>92</td>\n",
       "      <td>92</td>\n",
       "      <td>92</td>\n",
       "      <td>...</td>\n",
       "      <td>92</td>\n",
       "      <td>92</td>\n",
       "      <td>92</td>\n",
       "      <td>92</td>\n",
       "      <td>92</td>\n",
       "      <td>92</td>\n",
       "      <td>92</td>\n",
       "      <td>92</td>\n",
       "      <td>92</td>\n",
       "      <td>92</td>\n",
       "    </tr>\n",
       "    <tr>\n",
       "      <th>Tampa Bay Buccaneers</th>\n",
       "      <td>80</td>\n",
       "      <td>80</td>\n",
       "      <td>80</td>\n",
       "      <td>80</td>\n",
       "      <td>80</td>\n",
       "      <td>80</td>\n",
       "      <td>80</td>\n",
       "      <td>80</td>\n",
       "      <td>80</td>\n",
       "      <td>80</td>\n",
       "      <td>...</td>\n",
       "      <td>80</td>\n",
       "      <td>80</td>\n",
       "      <td>80</td>\n",
       "      <td>80</td>\n",
       "      <td>80</td>\n",
       "      <td>80</td>\n",
       "      <td>80</td>\n",
       "      <td>80</td>\n",
       "      <td>80</td>\n",
       "      <td>80</td>\n",
       "    </tr>\n",
       "    <tr>\n",
       "      <th>Tennessee Titans</th>\n",
       "      <td>85</td>\n",
       "      <td>85</td>\n",
       "      <td>85</td>\n",
       "      <td>85</td>\n",
       "      <td>85</td>\n",
       "      <td>85</td>\n",
       "      <td>85</td>\n",
       "      <td>85</td>\n",
       "      <td>85</td>\n",
       "      <td>85</td>\n",
       "      <td>...</td>\n",
       "      <td>85</td>\n",
       "      <td>85</td>\n",
       "      <td>85</td>\n",
       "      <td>85</td>\n",
       "      <td>85</td>\n",
       "      <td>85</td>\n",
       "      <td>85</td>\n",
       "      <td>85</td>\n",
       "      <td>85</td>\n",
       "      <td>85</td>\n",
       "    </tr>\n",
       "    <tr>\n",
       "      <th>Washington Redskins</th>\n",
       "      <td>89</td>\n",
       "      <td>89</td>\n",
       "      <td>89</td>\n",
       "      <td>89</td>\n",
       "      <td>89</td>\n",
       "      <td>89</td>\n",
       "      <td>89</td>\n",
       "      <td>89</td>\n",
       "      <td>89</td>\n",
       "      <td>89</td>\n",
       "      <td>...</td>\n",
       "      <td>89</td>\n",
       "      <td>89</td>\n",
       "      <td>89</td>\n",
       "      <td>89</td>\n",
       "      <td>89</td>\n",
       "      <td>89</td>\n",
       "      <td>89</td>\n",
       "      <td>89</td>\n",
       "      <td>89</td>\n",
       "      <td>89</td>\n",
       "    </tr>\n",
       "  </tbody>\n",
       "</table>\n",
       "<p>32 rows × 75 columns</p>\n",
       "</div>"
      ],
      "text/plain": [
       "                      Unnamed: 0  Year  Week_x  Abbr_RDBMS_Winner  Week2  Day  \\\n",
       "FINAL_TEAM_NAME                                                                 \n",
       "Arizona Cardinals             90    90      90                 90     90   90   \n",
       "Atlanta Falcons               94    94      94                 94     94   94   \n",
       "Baltimore Ravens              90    90      90                 90     90   90   \n",
       "Buffalo Bills                 90    90      90                 90     90   90   \n",
       "Carolina Panthers             92    92      92                 92     92   92   \n",
       "Chicago Bears                 88    88      88                 88     88   88   \n",
       "Cincinnati Bengals            88    88      88                 88     88   88   \n",
       "Cleveland Browns              88    88      88                 88     88   88   \n",
       "Dallas Cowboys                92    92      92                 92     92   92   \n",
       "Denver Broncos                89    89      89                 89     89   89   \n",
       "Detroit Lions                 89    89      89                 89     89   89   \n",
       "Green Bay Packers             94    94      94                 94     94   94   \n",
       "Houston Texans                93    93      93                 93     93   93   \n",
       "Indianapolis Colts            90    90      90                 90     90   90   \n",
       "Jacksonville Jaguars          90    90      90                 90     90   90   \n",
       "Kansas City Chiefs            98    98      98                 98     98   98   \n",
       "Miami Dolphins                89    89      89                 89     89   89   \n",
       "Minnesota Vikings             92    92      92                 92     92   92   \n",
       "New England Patriots         100   100     100                100    100  100   \n",
       "New Orleans Saints            91    91      91                 91     91   91   \n",
       "New York Giants               89    89      89                 89     89   89   \n",
       "New York Jets                 89    89      89                 89     89   89   \n",
       "Oakland Raiders               88    88      88                 88     88   88   \n",
       "Philadelphia Eagles           94    94      94                 94     94   94   \n",
       "Pittsburgh Steelers           93    93      93                 93     93   93   \n",
       "San Diego Chargers            89    89      89                 89     89   89   \n",
       "San Francisco 49ers           92    92      92                 92     92   92   \n",
       "Seattle Seahawks              95    95      95                 95     95   95   \n",
       "St. Louis Rams                92    92      92                 92     92   92   \n",
       "Tampa Bay Buccaneers          80    80      80                 80     80   80   \n",
       "Tennessee Titans              85    85      85                 85     85   85   \n",
       "Washington Redskins           89    89      89                 89     89   89   \n",
       "\n",
       "                      Date  Time  Home_Team  Opponent  ...  \\\n",
       "FINAL_TEAM_NAME                                        ...   \n",
       "Arizona Cardinals       90    90         90        90  ...   \n",
       "Atlanta Falcons         94    94         94        94  ...   \n",
       "Baltimore Ravens        90    90         90        90  ...   \n",
       "Buffalo Bills           90    90         90        90  ...   \n",
       "Carolina Panthers       92    92         92        92  ...   \n",
       "Chicago Bears           88    88         88        88  ...   \n",
       "Cincinnati Bengals      88    88         88        88  ...   \n",
       "Cleveland Browns        88    88         88        88  ...   \n",
       "Dallas Cowboys          92    92         92        92  ...   \n",
       "Denver Broncos          89    89         89        89  ...   \n",
       "Detroit Lions           89    89         89        89  ...   \n",
       "Green Bay Packers       94    94         94        94  ...   \n",
       "Houston Texans          93    93         93        93  ...   \n",
       "Indianapolis Colts      90    90         90        90  ...   \n",
       "Jacksonville Jaguars    90    90         90        90  ...   \n",
       "Kansas City Chiefs      98    98         98        98  ...   \n",
       "Miami Dolphins          89    89         89        89  ...   \n",
       "Minnesota Vikings       92    92         92        92  ...   \n",
       "New England Patriots   100   100        100       100  ...   \n",
       "New Orleans Saints      91    91         91        91  ...   \n",
       "New York Giants         89    89         89        89  ...   \n",
       "New York Jets           89    89         89        89  ...   \n",
       "Oakland Raiders         88    88         88        88  ...   \n",
       "Philadelphia Eagles     94    94         94        94  ...   \n",
       "Pittsburgh Steelers     93    93         93        93  ...   \n",
       "San Diego Chargers      89    89         89        89  ...   \n",
       "San Francisco 49ers     92    92         92        92  ...   \n",
       "Seattle Seahawks        95    95         95        95  ...   \n",
       "St. Louis Rams          92    92         92        92  ...   \n",
       "Tampa Bay Buccaneers    80    80         80        80  ...   \n",
       "Tennessee Titans        85    85         85        85  ...   \n",
       "Washington Redskins     89    89         89        89  ...   \n",
       "\n",
       "                      ESTIM. WINS_FO_ANNUAL_Winner  \\\n",
       "FINAL_TEAM_NAME                                      \n",
       "Arizona Cardinals                               90   \n",
       "Atlanta Falcons                                 94   \n",
       "Baltimore Ravens                                90   \n",
       "Buffalo Bills                                   90   \n",
       "Carolina Panthers                               92   \n",
       "Chicago Bears                                   88   \n",
       "Cincinnati Bengals                              88   \n",
       "Cleveland Browns                                88   \n",
       "Dallas Cowboys                                  92   \n",
       "Denver Broncos                                  89   \n",
       "Detroit Lions                                   89   \n",
       "Green Bay Packers                               94   \n",
       "Houston Texans                                  93   \n",
       "Indianapolis Colts                              90   \n",
       "Jacksonville Jaguars                            90   \n",
       "Kansas City Chiefs                              98   \n",
       "Miami Dolphins                                  89   \n",
       "Minnesota Vikings                               92   \n",
       "New England Patriots                           100   \n",
       "New Orleans Saints                              91   \n",
       "New York Giants                                 89   \n",
       "New York Jets                                   89   \n",
       "Oakland Raiders                                 88   \n",
       "Philadelphia Eagles                             94   \n",
       "Pittsburgh Steelers                             93   \n",
       "San Diego Chargers                              89   \n",
       "San Francisco 49ers                             92   \n",
       "Seattle Seahawks                                95   \n",
       "St. Louis Rams                                  92   \n",
       "Tampa Bay Buccaneers                            80   \n",
       "Tennessee Titans                                85   \n",
       "Washington Redskins                             89   \n",
       "\n",
       "                      SCHEDULE RANK_FO_ANNUAL_Winner  VAR._FO_ANNUAL_Winner  \\\n",
       "FINAL_TEAM_NAME                                                               \n",
       "Arizona Cardinals                                 90                     90   \n",
       "Atlanta Falcons                                   94                     94   \n",
       "Baltimore Ravens                                  90                     90   \n",
       "Buffalo Bills                                     90                     90   \n",
       "Carolina Panthers                                 92                     92   \n",
       "Chicago Bears                                     88                     88   \n",
       "Cincinnati Bengals                                88                     88   \n",
       "Cleveland Browns                                  88                     88   \n",
       "Dallas Cowboys                                    92                     92   \n",
       "Denver Broncos                                    89                     89   \n",
       "Detroit Lions                                     89                     89   \n",
       "Green Bay Packers                                 94                     94   \n",
       "Houston Texans                                    93                     93   \n",
       "Indianapolis Colts                                90                     90   \n",
       "Jacksonville Jaguars                              90                     90   \n",
       "Kansas City Chiefs                                98                     98   \n",
       "Miami Dolphins                                    89                     89   \n",
       "Minnesota Vikings                                 92                     92   \n",
       "New England Patriots                             100                    100   \n",
       "New Orleans Saints                                91                     91   \n",
       "New York Giants                                   89                     89   \n",
       "New York Jets                                     89                     89   \n",
       "Oakland Raiders                                   88                     88   \n",
       "Philadelphia Eagles                               94                     94   \n",
       "Pittsburgh Steelers                               93                     93   \n",
       "San Diego Chargers                                89                     89   \n",
       "San Francisco 49ers                               92                     92   \n",
       "Seattle Seahawks                                  95                     95   \n",
       "St. Louis Rams                                    92                     92   \n",
       "Tampa Bay Buccaneers                              80                     80   \n",
       "Tennessee Titans                                  85                     85   \n",
       "Washington Redskins                               89                     89   \n",
       "\n",
       "                      TOTAL_GAME_POINTS  TOTAL_GAME_YARDS  \\\n",
       "FINAL_TEAM_NAME                                             \n",
       "Arizona Cardinals                    90                90   \n",
       "Atlanta Falcons                      94                94   \n",
       "Baltimore Ravens                     90                90   \n",
       "Buffalo Bills                        90                90   \n",
       "Carolina Panthers                    92                92   \n",
       "Chicago Bears                        88                88   \n",
       "Cincinnati Bengals                   88                88   \n",
       "Cleveland Browns                     88                88   \n",
       "Dallas Cowboys                       92                92   \n",
       "Denver Broncos                       89                89   \n",
       "Detroit Lions                        89                89   \n",
       "Green Bay Packers                    94                94   \n",
       "Houston Texans                       93                93   \n",
       "Indianapolis Colts                   90                90   \n",
       "Jacksonville Jaguars                 90                90   \n",
       "Kansas City Chiefs                   98                98   \n",
       "Miami Dolphins                       89                89   \n",
       "Minnesota Vikings                    92                92   \n",
       "New England Patriots                100               100   \n",
       "New Orleans Saints                   91                91   \n",
       "New York Giants                      89                89   \n",
       "New York Jets                        89                89   \n",
       "Oakland Raiders                      88                88   \n",
       "Philadelphia Eagles                  94                94   \n",
       "Pittsburgh Steelers                  93                93   \n",
       "San Diego Chargers                   89                89   \n",
       "San Francisco 49ers                  92                92   \n",
       "Seattle Seahawks                     95                95   \n",
       "St. Louis Rams                       92                92   \n",
       "Tampa Bay Buccaneers                 80                80   \n",
       "Tennessee Titans                     85                85   \n",
       "Washington Redskins                  89                89   \n",
       "\n",
       "                      TOTAL_GAME_TURNOVERS  PLAYOFFS_BINARY  GAME_TYPE  \\\n",
       "FINAL_TEAM_NAME                                                          \n",
       "Arizona Cardinals                       90               90         90   \n",
       "Atlanta Falcons                         94               94         94   \n",
       "Baltimore Ravens                        90               90         90   \n",
       "Buffalo Bills                           90               90         90   \n",
       "Carolina Panthers                       92               92         92   \n",
       "Chicago Bears                           88               88         88   \n",
       "Cincinnati Bengals                      88               88         88   \n",
       "Cleveland Browns                        88               88         88   \n",
       "Dallas Cowboys                          92               92         92   \n",
       "Denver Broncos                          89               89         89   \n",
       "Detroit Lions                           89               89         89   \n",
       "Green Bay Packers                       94               94         94   \n",
       "Houston Texans                          93               93         93   \n",
       "Indianapolis Colts                      90               90         90   \n",
       "Jacksonville Jaguars                    90               90         90   \n",
       "Kansas City Chiefs                      98               98         98   \n",
       "Miami Dolphins                          89               89         89   \n",
       "Minnesota Vikings                       92               92         92   \n",
       "New England Patriots                   100              100        100   \n",
       "New Orleans Saints                      91               91         91   \n",
       "New York Giants                         89               89         89   \n",
       "New York Jets                           89               89         89   \n",
       "Oakland Raiders                         88               88         88   \n",
       "Philadelphia Eagles                     94               94         94   \n",
       "Pittsburgh Steelers                     93               93         93   \n",
       "San Diego Chargers                      89               89         89   \n",
       "San Francisco 49ers                     92               92         92   \n",
       "Seattle Seahawks                        95               95         95   \n",
       "St. Louis Rams                          92               92         92   \n",
       "Tampa Bay Buccaneers                    80               80         80   \n",
       "Tennessee Titans                        85               85         85   \n",
       "Washington Redskins                     89               89         89   \n",
       "\n",
       "                      FINAL_TEAM_NAME_Opp  Power Index DEF_Opp  \n",
       "FINAL_TEAM_NAME                                                 \n",
       "Arizona Cardinals                      90                   90  \n",
       "Atlanta Falcons                        94                   94  \n",
       "Baltimore Ravens                       90                   90  \n",
       "Buffalo Bills                          90                   90  \n",
       "Carolina Panthers                      92                   92  \n",
       "Chicago Bears                          88                   88  \n",
       "Cincinnati Bengals                     88                   88  \n",
       "Cleveland Browns                       88                   88  \n",
       "Dallas Cowboys                         92                   92  \n",
       "Denver Broncos                         89                   89  \n",
       "Detroit Lions                          89                   89  \n",
       "Green Bay Packers                      94                   94  \n",
       "Houston Texans                         93                   93  \n",
       "Indianapolis Colts                     90                   90  \n",
       "Jacksonville Jaguars                   90                   90  \n",
       "Kansas City Chiefs                     98                   98  \n",
       "Miami Dolphins                         89                   89  \n",
       "Minnesota Vikings                      92                   92  \n",
       "New England Patriots                  100                  100  \n",
       "New Orleans Saints                     91                   91  \n",
       "New York Giants                        89                   89  \n",
       "New York Jets                          89                   89  \n",
       "Oakland Raiders                        88                   88  \n",
       "Philadelphia Eagles                    94                   94  \n",
       "Pittsburgh Steelers                    93                   93  \n",
       "San Diego Chargers                     89                   89  \n",
       "San Francisco 49ers                    92                   92  \n",
       "Seattle Seahawks                       95                   95  \n",
       "St. Louis Rams                         92                   92  \n",
       "Tampa Bay Buccaneers                   80                   80  \n",
       "Tennessee Titans                       85                   85  \n",
       "Washington Redskins                    89                   89  \n",
       "\n",
       "[32 rows x 75 columns]"
      ]
     },
     "execution_count": 209,
     "metadata": {},
     "output_type": "execute_result"
    }
   ],
   "source": [
    "allTheStats3.groupby([\"FINAL_TEAM_NAME\"]).count()"
   ]
  },
  {
   "cell_type": "code",
   "execution_count": 211,
   "metadata": {},
   "outputs": [],
   "source": [
    "elo = pd.read_csv(\"../Advanced Stats/538.csv\")"
   ]
  },
  {
   "cell_type": "code",
   "execution_count": 217,
   "metadata": {},
   "outputs": [],
   "source": [
    "fpi = pd.read_csv(\"../2015-2020_FPI.csv\")"
   ]
  },
  {
   "cell_type": "code",
   "execution_count": 220,
   "metadata": {},
   "outputs": [],
   "source": [
    "fpi=fpi.dropna(how=\"all\")"
   ]
  },
  {
   "cell_type": "code",
   "execution_count": 219,
   "metadata": {},
   "outputs": [
    {
     "data": {
      "text/plain": [
       "Index(['Unnamed: 0', 'Year', 'Week_x', 'Abbr_RDBMS_Winner', 'Week2', 'Day',\n",
       "       'Date', 'Time', 'Home_Team', 'FINAL_TEAM_NAME', 'Opponent',\n",
       "       'TEAM_POINTS', 'TEAM_YARDS', 'TEAM_TURNOVERS',\n",
       "       'TEAM_TURNOVER_DIFFERENTIAL', 'OPPONENTS_POINTS', 'OPPONENTS_YARDS',\n",
       "       'OPPONENTS_TURNOVERS', 'OPPONENTS_TURNOVER_DIFFERENTIAL',\n",
       "       'TEAM_POINT_MARGIN', 'GAMEID', 'BINARY_WIN', 'W-L-T', 'Power Index FPI',\n",
       "       'Power Index RK', 'Power Index TREND', 'Power Index OFF',\n",
       "       'Power Index DEF', 'Power Index ST', 'Ranks SOS', 'Ranks REM SOS',\n",
       "       'Ranks AVGWP', 'DIVISION_538_Winner', 'ELO WITH QB_538_Winner',\n",
       "       'ELO CHANGE_538_Winner', 'CURRENT QB ADJ_538_Winner',\n",
       "       'Points_Diff_538_Winner', 'Playoffs_Prob_538_Winner',\n",
       "       'Division_Prob_538_Winner', 'Bye_Prob_538_Winner', 'SB_Prob_538_Winner',\n",
       "       'REAL_WINS2_538_Winner', 'REAL_LOSSES2_538_Winner',\n",
       "       'REAL_TIES_538_Winner', 'PROJ_WINS4_538_Winner',\n",
       "       'PROJ_LOSS4_538_Winner', 'EPA/play_RDBMS_Winner',\n",
       "       'OVR_SUCCESS_RATE_RDBMS_Winner', 'Dropback EPA_RDBMS_Winner',\n",
       "       'DROPBACK_SR_RDBMS_Winner', 'Rush EPA_RDBMS_Winner',\n",
       "       'RUN_SR_RDBMS_Winner', 'TOTAL DVOA_FO_WEEKLY_Winner',\n",
       "       'LAST WEEK_FO_WEEKLY_Winner', 'DAVE_WEI_DVOA_FO_WEEKLY_Winner',\n",
       "       'OFFENSE DVOA_FO_WEEKLY_Winner', 'DEFENSE DVOA_FO_WEEKLY_Winner',\n",
       "       'S.T. DVOA_FO_WEEKLY_Winner', 'RK_FO_ANNUAL_Winner',\n",
       "       'TOTAL DVOA_FO_ANNUAL_Winner', 'DAVE_WEI_DVOA_FO_ANNUAL_Winner',\n",
       "       'OFFENSE DVOA_FO_ANNUAL_Winner', 'DEFENSE DVOA_FO_ANNUAL_Winner',\n",
       "       'S.T. DVOA_FO_ANNUAL_Winner', 'non-adj VOA_FO_ANNUAL_Winner',\n",
       "       'Last Year_FO_ANNUAL_Winner', 'ESTIM. WINS_FO_ANNUAL_Winner',\n",
       "       'SCHEDULE RANK_FO_ANNUAL_Winner', 'VAR._FO_ANNUAL_Winner',\n",
       "       'TOTAL_GAME_POINTS', 'TOTAL_GAME_YARDS', 'TOTAL_GAME_TURNOVERS',\n",
       "       'PLAYOFFS_BINARY', 'GAME_TYPE', 'FINAL_TEAM_NAME_Opp',\n",
       "       'Power Index DEF_Opp'],\n",
       "      dtype='object')"
      ]
     },
     "execution_count": 219,
     "metadata": {},
     "output_type": "execute_result"
    }
   ],
   "source": [
    "allTheStats3.columns"
   ]
  },
  {
   "cell_type": "code",
   "execution_count": 223,
   "metadata": {},
   "outputs": [],
   "source": [
    "#fpi[\"Ranks REM SOS\"]\n",
    "#fpi[\"Power Index TREND\"]\n",
    "def cleanme(c):\n",
    "    if c == \"--\":\n",
    "        return 0\n",
    "    else:\n",
    "        return int(c)"
   ]
  },
  {
   "cell_type": "code",
   "execution_count": 227,
   "metadata": {},
   "outputs": [],
   "source": [
    "fpi[\"Ranks REM SOS\"]=fpi[\"Ranks REM SOS\"].apply(cleanme)"
   ]
  },
  {
   "cell_type": "code",
   "execution_count": 229,
   "metadata": {},
   "outputs": [],
   "source": [
    "fpi[\"Power Index TREND\"]=fpi[\"Power Index TREND\"].apply(cleanme)"
   ]
  },
  {
   "cell_type": "code",
   "execution_count": 230,
   "metadata": {},
   "outputs": [],
   "source": [
    "epa = pd.read_csv(\"../Advanced Stats/epa2015_2020.csv\")"
   ]
  },
  {
   "cell_type": "code",
   "execution_count": 231,
   "metadata": {},
   "outputs": [
    {
     "name": "stdout",
     "output_type": "stream",
     "text": [
      "<class 'pandas.core.frame.DataFrame'>\n",
      "RangeIndex: 2936 entries, 0 to 2935\n",
      "Data columns (total 10 columns):\n",
      " #   Column            Non-Null Count  Dtype  \n",
      "---  ------            --------------  -----  \n",
      " 0   TEAM              2936 non-null   object \n",
      " 1   Abbr              2936 non-null   object \n",
      " 2   EPA/play          2936 non-null   float64\n",
      " 3   OVR_SUCCESS_RATE  2936 non-null   float64\n",
      " 4   Dropback EPA      2936 non-null   float64\n",
      " 5   DROPBACK_SR       2936 non-null   float64\n",
      " 6   Rush EPA          2936 non-null   float64\n",
      " 7   RUN_SR            2936 non-null   float64\n",
      " 8   week              2936 non-null   int64  \n",
      " 9   year              2936 non-null   int64  \n",
      "dtypes: float64(6), int64(2), object(2)\n",
      "memory usage: 229.5+ KB\n"
     ]
    }
   ],
   "source": [
    "epa.info()"
   ]
  },
  {
   "cell_type": "code",
   "execution_count": 232,
   "metadata": {},
   "outputs": [],
   "source": [
    "DVOA_Y = pd.read_csv(\"../Advanced Stats/DVOA_yearly.csv\")"
   ]
  },
  {
   "cell_type": "code",
   "execution_count": 233,
   "metadata": {},
   "outputs": [],
   "source": [
    "DVOA_W = pd.read_csv(\"../Advanced Stats/DVOA_weekly.csv\")"
   ]
  },
  {
   "cell_type": "code",
   "execution_count": 237,
   "metadata": {},
   "outputs": [],
   "source": [
    "DVOA_W=DVOA_W.iloc[:, :16]"
   ]
  },
  {
   "cell_type": "code",
   "execution_count": 239,
   "metadata": {},
   "outputs": [
    {
     "data": {
      "text/plain": [
       "Index(['RK', 'Team', 'Abbr', 'TOTAL DVOA', 'LAST WEEK', 'DAVE_WEI_DVOA',\n",
       "       'RANK', 'W-L', 'OFFENSE DVOA', 'OFF. RANK', 'DEFENSE DVOA', 'DEF. RANK',\n",
       "       'S.T. DVOA', 'S.T. RANK', 'WEEK', 'YEAR', 'WEIGHTED DVOA', 'RANK.1',\n",
       "       'non-adj VOA', 'Last Year', 'ESTIM. WINS', 'EW RANK', 'SCHEDULE RANK',\n",
       "       'RANK.2', 'PYTH WINS', 'RANK.3', 'VAR.', 'RANK.4'],\n",
       "      dtype='object')"
      ]
     },
     "execution_count": 239,
     "metadata": {},
     "output_type": "execute_result"
    }
   ],
   "source": [
    "DVOA_Y.columns"
   ]
  },
  {
   "cell_type": "code",
   "execution_count": 240,
   "metadata": {},
   "outputs": [],
   "source": [
    "ycols = ['RK', 'Team', 'Abbr', 'TOTAL DVOA', 'DAVE_WEI_DVOA',\n",
    "       'RANK', 'W-L', 'OFFENSE DVOA', 'OFF. RANK', 'DEFENSE DVOA', 'DEF. RANK',\n",
    "       'S.T. DVOA', 'S.T. RANK', 'WEEK', 'YEAR', 'WEIGHTED DVOA', 'RANK.1',\n",
    "       'non-adj VOA', 'Last Year', 'ESTIM. WINS', 'EW RANK', 'VAR.']"
   ]
  },
  {
   "cell_type": "code",
   "execution_count": 242,
   "metadata": {},
   "outputs": [],
   "source": [
    "DVOA_Y = DVOA_Y.loc[:, ycols]"
   ]
  },
  {
   "cell_type": "code",
   "execution_count": 251,
   "metadata": {},
   "outputs": [
    {
     "data": {
      "text/plain": [
       "Index(['RK', 'Team', 'Abbr', 'TOTAL DVOA', 'LAST WEEK', 'DAVE_WEI_DVOA',\n",
       "       'RANK', 'W-L', 'OFFENSE DVOA', 'OFF. RANK', 'DEFENSE DVOA', 'DEF. RANK',\n",
       "       'S.T. DVOA', 'S.T. RANK', 'WEEK', 'YEAR', 'WEIGHTED DVOA', 'RANK.1',\n",
       "       'non-adj VOA', 'Last Year', 'ESTIM. WINS', 'EW RANK', 'SCHEDULE RANK',\n",
       "       'RANK.2', 'PYTH WINS', 'RANK.3', 'VAR.', 'RANK.4'],\n",
       "      dtype='object')"
      ]
     },
     "execution_count": 251,
     "metadata": {},
     "output_type": "execute_result"
    }
   ],
   "source": [
    "DVOA_Y.columns"
   ]
  },
  {
   "cell_type": "code",
   "execution_count": 260,
   "metadata": {},
   "outputs": [
    {
     "data": {
      "text/plain": [
       "Index(['TEAM', 'Year ', 'W-L-T', 'Power Index FPI', 'Power Index RK',\n",
       "       'Power Index TREND', 'Power Index OFF', 'Power Index DEF',\n",
       "       'Power Index ST', 'Ranks SOS', 'Ranks REM SOS', 'Ranks AVGWP'],\n",
       "      dtype='object')"
      ]
     },
     "execution_count": 260,
     "metadata": {},
     "output_type": "execute_result"
    }
   ],
   "source": [
    "fpi.columns"
   ]
  },
  {
   "cell_type": "code",
   "execution_count": 256,
   "metadata": {},
   "outputs": [
    {
     "data": {
      "text/plain": [
       "Index(['ELO WITH QB', 'ELO CHANGE', 'CURRENT QB ADJ', 'TEAM', 'DIVISION',\n",
       "       'PROJ WINS', 'PROJ LOSES', 'POINT DIFF', 'MAKE PLAYOFFS',\n",
       "       'WIN DIVISION', '1st-Round Bye', 'Win Superbowl', 'Before Week',\n",
       "       'Year'],\n",
       "      dtype='object')"
      ]
     },
     "execution_count": 256,
     "metadata": {},
     "output_type": "execute_result"
    }
   ],
   "source": [
    "elo.columns"
   ]
  },
  {
   "cell_type": "code",
   "execution_count": 254,
   "metadata": {},
   "outputs": [
    {
     "data": {
      "text/plain": [
       "Index(['RK', 'Team', 'Abbr', 'TOTAL DVOA', 'LAST WEEK', 'DAVE_WEI_DVOA',\n",
       "       'RANK', 'W-L', 'OFFENSE DVOA', 'OFF. RANK', 'DEFENSE DVOA', 'DEF. RANK',\n",
       "       'S.T. DVOA', 'S.T. RANK', 'WEEK', 'YEAR'],\n",
       "      dtype='object')"
      ]
     },
     "execution_count": 254,
     "metadata": {},
     "output_type": "execute_result"
    }
   ],
   "source": [
    "DVOA_W.columns"
   ]
  },
  {
   "cell_type": "code",
   "execution_count": 277,
   "metadata": {},
   "outputs": [],
   "source": [
    "remain = pd.read_csv(\"leftovers.csv\")"
   ]
  },
  {
   "cell_type": "code",
   "execution_count": 262,
   "metadata": {},
   "outputs": [
    {
     "data": {
      "text/plain": [
       "Index(['Year', 'Week', 'Day', 'Date', 'Time', 'FINAL_TEAM_NAME', 'TEAM_POINTS',\n",
       "       'TEAM_YARDS', 'TEAM_TURNOVERS', 'TEAM_TODiff', 'GAMEID', 'Opponent',\n",
       "       'Opponent_PTS', 'Opponent_Yds', 'Opponents_TO', 'Opponent_TODiff',\n",
       "       'HOME_TEAM', 'BINARY_WIN'],\n",
       "      dtype='object')"
      ]
     },
     "execution_count": 262,
     "metadata": {},
     "output_type": "execute_result"
    }
   ],
   "source": [
    "remain.columns"
   ]
  },
  {
   "cell_type": "code",
   "execution_count": 278,
   "metadata": {},
   "outputs": [],
   "source": [
    "remain2 = pd.merge(remain, DVOA_Y, left_on=[\"FINAL_TEAM_NAME\", \"Year\"], right_on=[\"Team\", \"YEAR\"])"
   ]
  },
  {
   "cell_type": "code",
   "execution_count": 279,
   "metadata": {},
   "outputs": [],
   "source": [
    "remain3 = pd.merge(remain2, DVOA_W, left_on=[\"FINAL_TEAM_NAME\", \"Year\", \"Week\"], right_on=[\"Team\", \"YEAR\", \"WEEK\"])"
   ]
  },
  {
   "cell_type": "code",
   "execution_count": 265,
   "metadata": {},
   "outputs": [],
   "source": [
    "#remain4 = pd.merge(remain3, elo, left_on=[\"FINAL_TEAM_NAME\", \"Year\", \"Week\"], right_on=[\"TEAM\", \"Year\", \"Before Week\"])"
   ]
  },
  {
   "cell_type": "code",
   "execution_count": 280,
   "metadata": {},
   "outputs": [],
   "source": [
    "remain5 = pd.merge(remain3, fpi, left_on=[\"FINAL_TEAM_NAME\", \"Year\"], right_on=[\"TEAM\", \"Year \"])"
   ]
  },
  {
   "cell_type": "code",
   "execution_count": 281,
   "metadata": {},
   "outputs": [
    {
     "data": {
      "text/plain": [
       "(32, 74)"
      ]
     },
     "execution_count": 281,
     "metadata": {},
     "output_type": "execute_result"
    }
   ],
   "source": [
    "remain5.shape"
   ]
  },
  {
   "cell_type": "code",
   "execution_count": 275,
   "metadata": {},
   "outputs": [],
   "source": [
    "remain5.to_csv(\"remain22.csv\", index=False)"
   ]
  },
  {
   "cell_type": "code",
   "execution_count": 276,
   "metadata": {},
   "outputs": [
    {
     "data": {
      "text/plain": [
       "Index(['Year', 'Week', 'Day', 'Date', 'Time', 'FINAL_TEAM_NAME', 'TEAM_POINTS',\n",
       "       'TEAM_YARDS', 'TEAM_TURNOVERS', 'TEAM_TODiff', 'GAMEID', 'Opponent',\n",
       "       'Opponent_PTS', 'Opponent_Yds', 'Opponents_TO', 'Opponent_TODiff',\n",
       "       'HOME_TEAM', 'BINARY_WIN', 'RK_x', 'Team_x', 'Abbr_x', 'TOTAL DVOA_x',\n",
       "       'LAST WEEK_x', 'DAVE_WEI_DVOA_x', 'RANK_x', 'W-L_x', 'OFFENSE DVOA_x',\n",
       "       'OFF. RANK_x', 'DEFENSE DVOA_x', 'DEF. RANK_x', 'S.T. DVOA_x',\n",
       "       'S.T. RANK_x', 'WEEK_x', 'YEAR_x', 'WEIGHTED DVOA', 'RANK.1',\n",
       "       'non-adj VOA', 'Last Year', 'ESTIM. WINS', 'EW RANK', 'SCHEDULE RANK',\n",
       "       'RANK.2', 'PYTH WINS', 'RANK.3', 'VAR.', 'RANK.4', 'RK_y', 'Team_y',\n",
       "       'Abbr_y', 'TOTAL DVOA_y', 'LAST WEEK_y', 'DAVE_WEI_DVOA_y', 'RANK_y',\n",
       "       'W-L_y', 'OFFENSE DVOA_y', 'OFF. RANK_y', 'DEFENSE DVOA_y',\n",
       "       'DEF. RANK_y', 'S.T. DVOA_y', 'S.T. RANK_y', 'WEEK_y', 'YEAR_y', 'TEAM',\n",
       "       'Year ', 'W-L-T', 'Power Index FPI', 'Power Index RK',\n",
       "       'Power Index TREND', 'Power Index OFF', 'Power Index DEF',\n",
       "       'Power Index ST', 'Ranks SOS', 'Ranks REM SOS', 'Ranks AVGWP'],\n",
       "      dtype='object')"
      ]
     },
     "execution_count": 276,
     "metadata": {},
     "output_type": "execute_result"
    }
   ],
   "source": [
    "remain5.columns"
   ]
  },
  {
   "cell_type": "code",
   "execution_count": 3,
   "metadata": {},
   "outputs": [],
   "source": [
    "final_df3 = pd.read_csv(\"perfectlyCleanedData2.csv\")"
   ]
  },
  {
   "cell_type": "code",
   "execution_count": 13,
   "metadata": {},
   "outputs": [],
   "source": [
    "ty = final_df3.iloc[0, 21]"
   ]
  },
  {
   "cell_type": "code",
   "execution_count": 11,
   "metadata": {},
   "outputs": [],
   "source": [
    "import re"
   ]
  },
  {
   "cell_type": "code",
   "execution_count": 21,
   "metadata": {},
   "outputs": [],
   "source": [
    "regex = re.compile(\".+/.+/\")"
   ]
  },
  {
   "cell_type": "code",
   "execution_count": 39,
   "metadata": {},
   "outputs": [
    {
     "data": {
      "text/plain": [
       "<re.Match object; span=(0, 4), match='7/2/'>"
      ]
     },
     "execution_count": 39,
     "metadata": {},
     "output_type": "execute_result"
    }
   ],
   "source": [
    "regex.search(\"7/2/2000\")#[0][:-1].replace(\"/\", \"-\")"
   ]
  },
  {
   "cell_type": "code",
   "execution_count": 42,
   "metadata": {},
   "outputs": [],
   "source": [
    "def cleanDate(d):\n",
    "    match = regex.search(d)\n",
    "    if match != None:\n",
    "        match = match[0][:-1]\n",
    "        match = match.replace(\"/\", \"-\")\n",
    "        return match\n",
    "    else:\n",
    "        return d"
   ]
  },
  {
   "cell_type": "code",
   "execution_count": 44,
   "metadata": {},
   "outputs": [],
   "source": [
    "final_df3[\"W-L-T\"]=final_df3[\"W-L-T\"].apply(cleanDate)"
   ]
  },
  {
   "cell_type": "code",
   "execution_count": 46,
   "metadata": {},
   "outputs": [],
   "source": [
    "final_df3.to_csv(\"perfectlyCleanedData3.csv\", index=False)"
   ]
  },
  {
   "cell_type": "code",
   "execution_count": null,
   "metadata": {},
   "outputs": [],
   "source": []
  },
  {
   "cell_type": "markdown",
   "metadata": {},
   "source": [
    "## Redux"
   ]
  },
  {
   "cell_type": "code",
   "execution_count": 1,
   "metadata": {},
   "outputs": [],
   "source": [
    "import pandas as pd, numpy as np, os, math"
   ]
  },
  {
   "cell_type": "code",
   "execution_count": 3,
   "metadata": {},
   "outputs": [],
   "source": [
    "allTheStats = pd.read_csv(\"perfectlyCleanedData3.csv\")"
   ]
  },
  {
   "cell_type": "code",
   "execution_count": 4,
   "metadata": {},
   "outputs": [
    {
     "data": {
      "text/plain": [
       "Index(['Year', 'Week_x', 'Abbr_RDBMS_Winner', 'Week2', 'Day', 'Date', 'Time',\n",
       "       'Home_Team', 'FINAL_TEAM_NAME', 'Opponent', 'TEAM_POINTS', 'TEAM_YARDS',\n",
       "       'TEAM_TURNOVERS', 'TEAM_TURNOVER_DIFFERENTIAL', 'OPPONENTS_POINTS',\n",
       "       'OPPONENTS_YARDS', 'OPPONENTS_TURNOVERS',\n",
       "       'OPPONENTS_TURNOVER_DIFFERENTIAL', 'TEAM_POINT_MARGIN', 'GAMEID',\n",
       "       'BINARY_WIN', 'W-L-T', 'Power Index FPI', 'Power Index RK',\n",
       "       'Power Index TREND', 'Power Index OFF', 'Power Index DEF',\n",
       "       'Power Index ST', 'Ranks SOS', 'Ranks REM SOS', 'Ranks AVGWP',\n",
       "       'DIVISION_538_Winner', 'ELO WITH QB_538_Winner',\n",
       "       'ELO CHANGE_538_Winner', 'CURRENT QB ADJ_538_Winner',\n",
       "       'Points_Diff_538_Winner', 'Playoffs_Prob_538_Winner',\n",
       "       'Division_Prob_538_Winner', 'Bye_Prob_538_Winner', 'SB_Prob_538_Winner',\n",
       "       'REAL_WINS2_538_Winner', 'REAL_LOSSES2_538_Winner',\n",
       "       'REAL_TIES_538_Winner', 'PROJ_WINS4_538_Winner',\n",
       "       'PROJ_LOSS4_538_Winner', 'EPA/play_RDBMS_Winner',\n",
       "       'OVR_SUCCESS_RATE_RDBMS_Winner', 'Dropback EPA_RDBMS_Winner',\n",
       "       'DROPBACK_SR_RDBMS_Winner', 'Rush EPA_RDBMS_Winner',\n",
       "       'RUN_SR_RDBMS_Winner', 'TOTAL DVOA_FO_WEEKLY_Winner',\n",
       "       'LAST WEEK_FO_WEEKLY_Winner', 'DAVE_WEI_DVOA_FO_WEEKLY_Winner',\n",
       "       'OFFENSE DVOA_FO_WEEKLY_Winner', 'DEFENSE DVOA_FO_WEEKLY_Winner',\n",
       "       'S.T. DVOA_FO_WEEKLY_Winner', 'RK_FO_ANNUAL_Winner',\n",
       "       'TOTAL DVOA_FO_ANNUAL_Winner', 'DAVE_WEI_DVOA_FO_ANNUAL_Winner',\n",
       "       'OFFENSE DVOA_FO_ANNUAL_Winner', 'DEFENSE DVOA_FO_ANNUAL_Winner',\n",
       "       'S.T. DVOA_FO_ANNUAL_Winner', 'non-adj VOA_FO_ANNUAL_Winner',\n",
       "       'Last Year_FO_ANNUAL_Winner', 'ESTIM. WINS_FO_ANNUAL_Winner',\n",
       "       'SCHEDULE RANK_FO_ANNUAL_Winner', 'VAR._FO_ANNUAL_Winner',\n",
       "       'TOTAL_GAME_POINTS', 'TOTAL_GAME_YARDS', 'TOTAL_GAME_TURNOVERS',\n",
       "       'PLAYOFFS_BINARY', 'GAME_TYPE'],\n",
       "      dtype='object')"
      ]
     },
     "execution_count": 4,
     "metadata": {},
     "output_type": "execute_result"
    }
   ],
   "source": [
    "allTheStats.columns"
   ]
  },
  {
   "cell_type": "markdown",
   "metadata": {},
   "source": [
    "## model1: OVERALL FPI (ESPN Team Eff Metric)"
   ]
  },
  {
   "cell_type": "code",
   "execution_count": 5,
   "metadata": {},
   "outputs": [],
   "source": [
    "#model1: just OVERALL FPI (ESPN Team Eff Metric)\n",
    "model_values = allTheStats.loc[:, [\"TEAM_POINTS\", \"Power Index FPI\"]]"
   ]
  },
  {
   "cell_type": "code",
   "execution_count": 6,
   "metadata": {},
   "outputs": [],
   "source": [
    "from sklearn.model_selection import train_test_split\n",
    "import sklearn.linear_model"
   ]
  },
  {
   "cell_type": "code",
   "execution_count": 7,
   "metadata": {},
   "outputs": [],
   "source": [
    "model_1 = sklearn.linear_model.LinearRegression()"
   ]
  },
  {
   "cell_type": "code",
   "execution_count": 8,
   "metadata": {},
   "outputs": [],
   "source": [
    "X = model_values.iloc[:,1].values\n",
    "y = model_values.iloc[:,0].values"
   ]
  },
  {
   "cell_type": "code",
   "execution_count": 9,
   "metadata": {},
   "outputs": [],
   "source": [
    "X_train, X_test, y_train, y_test = train_test_split(X,y)\n",
    "X_train = X_train.reshape(-1, 1)\n",
    "X_test = X_test.reshape(-1, 1)\n",
    "y_train = y_train.reshape(-1, 1)\n",
    "y_test = y_test.reshape(-1, 1)"
   ]
  },
  {
   "cell_type": "code",
   "execution_count": 10,
   "metadata": {},
   "outputs": [
    {
     "data": {
      "text/plain": [
       "LinearRegression(copy_X=True, fit_intercept=True, n_jobs=None, normalize=False)"
      ]
     },
     "execution_count": 10,
     "metadata": {},
     "output_type": "execute_result"
    }
   ],
   "source": [
    "model_1.fit(X_train, y_train)"
   ]
  },
  {
   "cell_type": "code",
   "execution_count": 11,
   "metadata": {},
   "outputs": [
    {
     "data": {
      "text/plain": [
       "0.12837775897102"
      ]
     },
     "execution_count": 11,
     "metadata": {},
     "output_type": "execute_result"
    }
   ],
   "source": [
    "#R_sq Score\n",
    "model_1.score(X_train, y_train)"
   ]
  },
  {
   "cell_type": "code",
   "execution_count": 12,
   "metadata": {},
   "outputs": [
    {
     "data": {
      "text/plain": [
       "0.07136027439629333"
      ]
     },
     "execution_count": 12,
     "metadata": {},
     "output_type": "execute_result"
    }
   ],
   "source": [
    "model_1.score(X_test, y_test)"
   ]
  },
  {
   "cell_type": "code",
   "execution_count": 13,
   "metadata": {},
   "outputs": [
    {
     "data": {
      "text/plain": [
       "array([22.78005983])"
      ]
     },
     "execution_count": 13,
     "metadata": {},
     "output_type": "execute_result"
    }
   ],
   "source": [
    "model_1.intercept_"
   ]
  },
  {
   "cell_type": "code",
   "execution_count": 14,
   "metadata": {},
   "outputs": [
    {
     "data": {
      "text/plain": [
       "array([[0.69949756]])"
      ]
     },
     "execution_count": 14,
     "metadata": {},
     "output_type": "execute_result"
    }
   ],
   "source": [
    "model_1.coef_"
   ]
  },
  {
   "cell_type": "code",
   "execution_count": 15,
   "metadata": {},
   "outputs": [],
   "source": [
    "y_pred = model_1.predict(X_test)"
   ]
  },
  {
   "cell_type": "code",
   "execution_count": 16,
   "metadata": {},
   "outputs": [],
   "source": [
    "sq_resid = (y_pred - y_test)**2"
   ]
  },
  {
   "cell_type": "code",
   "execution_count": 17,
   "metadata": {},
   "outputs": [
    {
     "data": {
      "text/plain": [
       "7.321622897853451"
      ]
     },
     "execution_count": 17,
     "metadata": {},
     "output_type": "execute_result"
    }
   ],
   "source": [
    "# The Mean Squared Error\n",
    "pd.Series(sq_resid.reshape(-1)).apply(math.sqrt).mean()"
   ]
  },
  {
   "cell_type": "code",
   "execution_count": 18,
   "metadata": {},
   "outputs": [],
   "source": [
    "# Grid Search\n",
    "from sklearn.model_selection import GridSearchCV\n",
    "params = {'fit_intercept':[True,False], 'normalize':[True,False], 'copy_X':[True, False]}\n",
    "grid = GridSearchCV(model_1, params, verbose=3)"
   ]
  },
  {
   "cell_type": "code",
   "execution_count": 19,
   "metadata": {},
   "outputs": [
    {
     "name": "stdout",
     "output_type": "stream",
     "text": [
      "Fitting 5 folds for each of 8 candidates, totalling 40 fits\n",
      "[CV] copy_X=True, fit_intercept=True, normalize=True .................\n",
      "[CV]  copy_X=True, fit_intercept=True, normalize=True, score=0.105, total=   0.0s\n",
      "[CV] copy_X=True, fit_intercept=True, normalize=True .................\n",
      "[CV]  copy_X=True, fit_intercept=True, normalize=True, score=0.116, total=   0.0s\n",
      "[CV] copy_X=True, fit_intercept=True, normalize=True .................\n",
      "[CV]  copy_X=True, fit_intercept=True, normalize=True, score=0.138, total=   0.0s\n",
      "[CV] copy_X=True, fit_intercept=True, normalize=True .................\n",
      "[CV]  copy_X=True, fit_intercept=True, normalize=True, score=0.137, total=   0.0s\n",
      "[CV] copy_X=True, fit_intercept=True, normalize=True .................\n",
      "[CV]  copy_X=True, fit_intercept=True, normalize=True, score=0.135, total=   0.0s\n",
      "[CV] copy_X=True, fit_intercept=True, normalize=False ................\n",
      "[CV]  copy_X=True, fit_intercept=True, normalize=False, score=0.105, total=   0.0s\n",
      "[CV] copy_X=True, fit_intercept=True, normalize=False ................\n",
      "[CV]  copy_X=True, fit_intercept=True, normalize=False, score=0.116, total=   0.0s\n",
      "[CV] copy_X=True, fit_intercept=True, normalize=False ................\n",
      "[CV]  copy_X=True, fit_intercept=True, normalize=False, score=0.138, total=   0.0s\n",
      "[CV] copy_X=True, fit_intercept=True, normalize=False ................\n",
      "[CV]  copy_X=True, fit_intercept=True, normalize=False, score=0.137, total=   0.0s\n",
      "[CV] copy_X=True, fit_intercept=True, normalize=False ................\n",
      "[CV]  copy_X=True, fit_intercept=True, normalize=False, score=0.135, total=   0.0s\n",
      "[CV] copy_X=True, fit_intercept=False, normalize=True ................\n",
      "[CV]  copy_X=True, fit_intercept=False, normalize=True, score=-5.263, total=   0.0s\n",
      "[CV] copy_X=True, fit_intercept=False, normalize=True ................\n",
      "[CV]  copy_X=True, fit_intercept=False, normalize=True, score=-5.848, total=   0.0s\n",
      "[CV] copy_X=True, fit_intercept=False, normalize=True ................\n",
      "[CV]  copy_X=True, fit_intercept=False, normalize=True, score=-4.685, total=   0.0s\n",
      "[CV] copy_X=True, fit_intercept=False, normalize=True ................\n",
      "[CV]  copy_X=True, fit_intercept=False, normalize=True, score=-4.840, total=   0.0s\n",
      "[CV] copy_X=True, fit_intercept=False, normalize=True ................\n",
      "[CV]  copy_X=True, fit_intercept=False, normalize=True, score=-4.599, total=   0.0s\n",
      "[CV] copy_X=True, fit_intercept=False, normalize=False ...............\n",
      "[CV]  copy_X=True, fit_intercept=False, normalize=False, score=-5.263, total=   0.0s\n",
      "[CV] copy_X=True, fit_intercept=False, normalize=False ...............\n",
      "[CV]  copy_X=True, fit_intercept=False, normalize=False, score=-5.848, total=   0.0s\n",
      "[CV] copy_X=True, fit_intercept=False, normalize=False ...............\n",
      "[CV]  copy_X=True, fit_intercept=False, normalize=False, score=-4.685, total=   0.0s\n",
      "[CV] copy_X=True, fit_intercept=False, normalize=False ...............\n",
      "[CV]  copy_X=True, fit_intercept=False, normalize=False, score=-4.840, total=   0.0s\n",
      "[CV] copy_X=True, fit_intercept=False, normalize=False ...............\n",
      "[CV]  copy_X=True, fit_intercept=False, normalize=False, score=-4.599, total=   0.0s\n",
      "[CV] copy_X=False, fit_intercept=True, normalize=True ................\n",
      "[CV]  copy_X=False, fit_intercept=True, normalize=True, score=0.105, total=   0.0s\n",
      "[CV] copy_X=False, fit_intercept=True, normalize=True ................\n",
      "[CV]  copy_X=False, fit_intercept=True, normalize=True, score=0.116, total=   0.0s\n",
      "[CV] copy_X=False, fit_intercept=True, normalize=True ................\n",
      "[CV]  copy_X=False, fit_intercept=True, normalize=True, score=0.138, total=   0.0s\n",
      "[CV] copy_X=False, fit_intercept=True, normalize=True ................\n",
      "[CV]  copy_X=False, fit_intercept=True, normalize=True, score=0.137, total=   0.0s\n",
      "[CV] copy_X=False, fit_intercept=True, normalize=True ................\n",
      "[CV]  copy_X=False, fit_intercept=True, normalize=True, score=0.135, total=   0.0s\n",
      "[CV] copy_X=False, fit_intercept=True, normalize=False ...............\n",
      "[CV]  copy_X=False, fit_intercept=True, normalize=False, score=0.105, total=   0.0s\n",
      "[CV] copy_X=False, fit_intercept=True, normalize=False ...............\n",
      "[CV]  copy_X=False, fit_intercept=True, normalize=False, score=0.116, total=   0.0s\n",
      "[CV] copy_X=False, fit_intercept=True, normalize=False ...............\n",
      "[CV]  copy_X=False, fit_intercept=True, normalize=False, score=0.138, total=   0.0s\n",
      "[CV] copy_X=False, fit_intercept=True, normalize=False ...............\n",
      "[CV]  copy_X=False, fit_intercept=True, normalize=False, score=0.137, total=   0.0s\n",
      "[CV] copy_X=False, fit_intercept=True, normalize=False ...............\n",
      "[CV]  copy_X=False, fit_intercept=True, normalize=False, score=0.135, total=   0.0s\n",
      "[CV] copy_X=False, fit_intercept=False, normalize=True ...............\n",
      "[CV]  copy_X=False, fit_intercept=False, normalize=True, score=-5.263, total=   0.0s\n",
      "[CV] copy_X=False, fit_intercept=False, normalize=True ...............\n",
      "[CV]  copy_X=False, fit_intercept=False, normalize=True, score=-5.848, total=   0.0s\n",
      "[CV] copy_X=False, fit_intercept=False, normalize=True ...............\n",
      "[CV]  copy_X=False, fit_intercept=False, normalize=True, score=-4.685, total=   0.0s\n",
      "[CV] copy_X=False, fit_intercept=False, normalize=True ...............\n",
      "[CV]  copy_X=False, fit_intercept=False, normalize=True, score=-4.840, total=   0.0s\n",
      "[CV] copy_X=False, fit_intercept=False, normalize=True ...............\n",
      "[CV]  copy_X=False, fit_intercept=False, normalize=True, score=-4.599, total=   0.0s\n",
      "[CV] copy_X=False, fit_intercept=False, normalize=False ..............\n",
      "[CV]  copy_X=False, fit_intercept=False, normalize=False, score=-5.263, total=   0.0s\n",
      "[CV] copy_X=False, fit_intercept=False, normalize=False ..............\n",
      "[CV]  copy_X=False, fit_intercept=False, normalize=False, score=-5.848, total=   0.0s\n",
      "[CV] copy_X=False, fit_intercept=False, normalize=False ..............\n",
      "[CV]  copy_X=False, fit_intercept=False, normalize=False, score=-4.685, total=   0.0s\n",
      "[CV] copy_X=False, fit_intercept=False, normalize=False ..............\n",
      "[CV]  copy_X=False, fit_intercept=False, normalize=False, score=-4.840, total=   0.0s\n",
      "[CV] copy_X=False, fit_intercept=False, normalize=False ..............\n",
      "[CV]  copy_X=False, fit_intercept=False, normalize=False, score=-4.599, total=   0.0s\n"
     ]
    },
    {
     "name": "stderr",
     "output_type": "stream",
     "text": [
      "[Parallel(n_jobs=1)]: Using backend SequentialBackend with 1 concurrent workers.\n",
      "[Parallel(n_jobs=1)]: Done   1 out of   1 | elapsed:    0.0s remaining:    0.0s\n",
      "[Parallel(n_jobs=1)]: Done   2 out of   2 | elapsed:    0.0s remaining:    0.0s\n",
      "[Parallel(n_jobs=1)]: Done  40 out of  40 | elapsed:    0.0s finished\n"
     ]
    },
    {
     "data": {
      "text/plain": [
       "GridSearchCV(cv=None, error_score=nan,\n",
       "             estimator=LinearRegression(copy_X=True, fit_intercept=True,\n",
       "                                        n_jobs=None, normalize=False),\n",
       "             iid='deprecated', n_jobs=None,\n",
       "             param_grid={'copy_X': [True, False],\n",
       "                         'fit_intercept': [True, False],\n",
       "                         'normalize': [True, False]},\n",
       "             pre_dispatch='2*n_jobs', refit=True, return_train_score=False,\n",
       "             scoring=None, verbose=3)"
      ]
     },
     "execution_count": 19,
     "metadata": {},
     "output_type": "execute_result"
    }
   ],
   "source": [
    "# Train the model with GridSearch\n",
    "grid.fit(X_train,y_train)"
   ]
  },
  {
   "cell_type": "code",
   "execution_count": 20,
   "metadata": {},
   "outputs": [
    {
     "data": {
      "text/plain": [
       "0.12621251574894304"
      ]
     },
     "execution_count": 20,
     "metadata": {},
     "output_type": "execute_result"
    }
   ],
   "source": [
    "grid.best_score_"
   ]
  },
  {
   "cell_type": "code",
   "execution_count": 21,
   "metadata": {},
   "outputs": [],
   "source": [
    "ys = grid.predict(X_test)"
   ]
  },
  {
   "cell_type": "code",
   "execution_count": 22,
   "metadata": {},
   "outputs": [],
   "source": [
    "resids = (ys - y_test)**2"
   ]
  },
  {
   "cell_type": "code",
   "execution_count": 23,
   "metadata": {},
   "outputs": [
    {
     "data": {
      "text/plain": [
       "7.321622897853449"
      ]
     },
     "execution_count": 23,
     "metadata": {},
     "output_type": "execute_result"
    }
   ],
   "source": [
    "pd.Series(resids.reshape(-1)).apply(math.sqrt).mean()"
   ]
  },
  {
   "cell_type": "code",
   "execution_count": 24,
   "metadata": {},
   "outputs": [],
   "source": [
    "from sklearn.metrics import r2_score"
   ]
  },
  {
   "cell_type": "code",
   "execution_count": 25,
   "metadata": {},
   "outputs": [
    {
     "data": {
      "text/plain": [
       "0.07136027439629322"
      ]
     },
     "execution_count": 25,
     "metadata": {},
     "output_type": "execute_result"
    }
   ],
   "source": [
    "r2_score(y_test, ys)"
   ]
  },
  {
   "cell_type": "markdown",
   "metadata": {},
   "source": [
    "## model2:\n",
    "### OVERALL FPI + TEAM OFFENSIVE FPI + THE OPPOSING_TEAM'S DEFENSIVE FPI + TEAM SPECIAL TEAMS FPI + Strength of Schedule FPI + WP Ranks"
   ]
  },
  {
   "cell_type": "code",
   "execution_count": 26,
   "metadata": {},
   "outputs": [
    {
     "data": {
      "text/plain": [
       "Index(['Year', 'Week_x', 'Abbr_RDBMS_Winner', 'Week2', 'Day', 'Date', 'Time',\n",
       "       'Home_Team', 'FINAL_TEAM_NAME', 'Opponent', 'TEAM_POINTS', 'TEAM_YARDS',\n",
       "       'TEAM_TURNOVERS', 'TEAM_TURNOVER_DIFFERENTIAL', 'OPPONENTS_POINTS',\n",
       "       'OPPONENTS_YARDS', 'OPPONENTS_TURNOVERS',\n",
       "       'OPPONENTS_TURNOVER_DIFFERENTIAL', 'TEAM_POINT_MARGIN', 'GAMEID',\n",
       "       'BINARY_WIN', 'W-L-T', 'Power Index FPI', 'Power Index RK',\n",
       "       'Power Index TREND', 'Power Index OFF', 'Power Index DEF',\n",
       "       'Power Index ST', 'Ranks SOS', 'Ranks REM SOS', 'Ranks AVGWP',\n",
       "       'DIVISION_538_Winner', 'ELO WITH QB_538_Winner',\n",
       "       'ELO CHANGE_538_Winner', 'CURRENT QB ADJ_538_Winner',\n",
       "       'Points_Diff_538_Winner', 'Playoffs_Prob_538_Winner',\n",
       "       'Division_Prob_538_Winner', 'Bye_Prob_538_Winner', 'SB_Prob_538_Winner',\n",
       "       'REAL_WINS2_538_Winner', 'REAL_LOSSES2_538_Winner',\n",
       "       'REAL_TIES_538_Winner', 'PROJ_WINS4_538_Winner',\n",
       "       'PROJ_LOSS4_538_Winner', 'EPA/play_RDBMS_Winner',\n",
       "       'OVR_SUCCESS_RATE_RDBMS_Winner', 'Dropback EPA_RDBMS_Winner',\n",
       "       'DROPBACK_SR_RDBMS_Winner', 'Rush EPA_RDBMS_Winner',\n",
       "       'RUN_SR_RDBMS_Winner', 'TOTAL DVOA_FO_WEEKLY_Winner',\n",
       "       'LAST WEEK_FO_WEEKLY_Winner', 'DAVE_WEI_DVOA_FO_WEEKLY_Winner',\n",
       "       'OFFENSE DVOA_FO_WEEKLY_Winner', 'DEFENSE DVOA_FO_WEEKLY_Winner',\n",
       "       'S.T. DVOA_FO_WEEKLY_Winner', 'RK_FO_ANNUAL_Winner',\n",
       "       'TOTAL DVOA_FO_ANNUAL_Winner', 'DAVE_WEI_DVOA_FO_ANNUAL_Winner',\n",
       "       'OFFENSE DVOA_FO_ANNUAL_Winner', 'DEFENSE DVOA_FO_ANNUAL_Winner',\n",
       "       'S.T. DVOA_FO_ANNUAL_Winner', 'non-adj VOA_FO_ANNUAL_Winner',\n",
       "       'Last Year_FO_ANNUAL_Winner', 'ESTIM. WINS_FO_ANNUAL_Winner',\n",
       "       'SCHEDULE RANK_FO_ANNUAL_Winner', 'VAR._FO_ANNUAL_Winner',\n",
       "       'TOTAL_GAME_POINTS', 'TOTAL_GAME_YARDS', 'TOTAL_GAME_TURNOVERS',\n",
       "       'PLAYOFFS_BINARY', 'GAME_TYPE'],\n",
       "      dtype='object')"
      ]
     },
     "execution_count": 26,
     "metadata": {},
     "output_type": "execute_result"
    }
   ],
   "source": [
    "allTheStats.columns"
   ]
  },
  {
   "cell_type": "code",
   "execution_count": 27,
   "metadata": {},
   "outputs": [],
   "source": [
    "allTheStats2 = allTheStats.copy(deep=True)"
   ]
  },
  {
   "cell_type": "code",
   "execution_count": 28,
   "metadata": {},
   "outputs": [],
   "source": [
    "#model2: All the ESPN EFF METRICS\n",
    "#model_values = allTheStats.loc[:, [\"TEAM_POINTS\", \"Power Index FPI\"]]"
   ]
  },
  {
   "cell_type": "code",
   "execution_count": 29,
   "metadata": {},
   "outputs": [],
   "source": [
    "opponentDef = allTheStats.loc[:, [\"FINAL_TEAM_NAME\", 'Power Index DEF', \"GAMEID\"]]"
   ]
  },
  {
   "cell_type": "code",
   "execution_count": 30,
   "metadata": {},
   "outputs": [],
   "source": [
    "model_values=pd.merge(allTheStats2, opponentDef, left_on=[\"GAMEID\", \"Opponent\"], right_on=[\"GAMEID\", \"FINAL_TEAM_NAME\"], suffixes=(\"\", \"_Opp\"))"
   ]
  },
  {
   "cell_type": "code",
   "execution_count": 31,
   "metadata": {},
   "outputs": [],
   "source": [
    "model_values=model_values.loc[:, [\"TEAM_POINTS\", \"Power Index FPI\", 'Power Index OFF','Power Index DEF_Opp', 'Power Index ST', 'Ranks SOS', 'Ranks AVGWP']]"
   ]
  },
  {
   "cell_type": "code",
   "execution_count": 32,
   "metadata": {},
   "outputs": [
    {
     "name": "stdout",
     "output_type": "stream",
     "text": [
      "<class 'pandas.core.frame.DataFrame'>\n",
      "Int64Index: 2932 entries, 0 to 2931\n",
      "Data columns (total 7 columns):\n",
      " #   Column               Non-Null Count  Dtype  \n",
      "---  ------               --------------  -----  \n",
      " 0   TEAM_POINTS          2932 non-null   int64  \n",
      " 1   Power Index FPI      2932 non-null   float64\n",
      " 2   Power Index OFF      2932 non-null   float64\n",
      " 3   Power Index DEF_Opp  2932 non-null   float64\n",
      " 4   Power Index ST       2932 non-null   float64\n",
      " 5   Ranks SOS            2932 non-null   int64  \n",
      " 6   Ranks AVGWP          2932 non-null   int64  \n",
      "dtypes: float64(4), int64(3)\n",
      "memory usage: 183.2 KB\n"
     ]
    }
   ],
   "source": [
    "model_values.info()"
   ]
  },
  {
   "cell_type": "code",
   "execution_count": 35,
   "metadata": {},
   "outputs": [
    {
     "data": {
      "text/html": [
       "<div>\n",
       "<style scoped>\n",
       "    .dataframe tbody tr th:only-of-type {\n",
       "        vertical-align: middle;\n",
       "    }\n",
       "\n",
       "    .dataframe tbody tr th {\n",
       "        vertical-align: top;\n",
       "    }\n",
       "\n",
       "    .dataframe thead th {\n",
       "        text-align: right;\n",
       "    }\n",
       "</style>\n",
       "<table border=\"1\" class=\"dataframe\">\n",
       "  <thead>\n",
       "    <tr style=\"text-align: right;\">\n",
       "      <th></th>\n",
       "      <th>TEAM_POINTS</th>\n",
       "      <th>Power Index OFF</th>\n",
       "      <th>Power Index DEF_Opp</th>\n",
       "    </tr>\n",
       "  </thead>\n",
       "  <tbody>\n",
       "    <tr>\n",
       "      <th>0</th>\n",
       "      <td>24</td>\n",
       "      <td>0.9</td>\n",
       "      <td>-2.7</td>\n",
       "    </tr>\n",
       "    <tr>\n",
       "      <th>1</th>\n",
       "      <td>20</td>\n",
       "      <td>0.1</td>\n",
       "      <td>-2.4</td>\n",
       "    </tr>\n",
       "    <tr>\n",
       "      <th>2</th>\n",
       "      <td>34</td>\n",
       "      <td>0.1</td>\n",
       "      <td>-2.4</td>\n",
       "    </tr>\n",
       "    <tr>\n",
       "      <th>3</th>\n",
       "      <td>37</td>\n",
       "      <td>0.9</td>\n",
       "      <td>-2.7</td>\n",
       "    </tr>\n",
       "    <tr>\n",
       "      <th>4</th>\n",
       "      <td>24</td>\n",
       "      <td>-0.4</td>\n",
       "      <td>-2.7</td>\n",
       "    </tr>\n",
       "    <tr>\n",
       "      <th>...</th>\n",
       "      <td>...</td>\n",
       "      <td>...</td>\n",
       "      <td>...</td>\n",
       "    </tr>\n",
       "    <tr>\n",
       "      <th>2927</th>\n",
       "      <td>31</td>\n",
       "      <td>2.4</td>\n",
       "      <td>-2.2</td>\n",
       "    </tr>\n",
       "    <tr>\n",
       "      <th>2928</th>\n",
       "      <td>42</td>\n",
       "      <td>2.2</td>\n",
       "      <td>-2.2</td>\n",
       "    </tr>\n",
       "    <tr>\n",
       "      <th>2929</th>\n",
       "      <td>42</td>\n",
       "      <td>1.6</td>\n",
       "      <td>-2.2</td>\n",
       "    </tr>\n",
       "    <tr>\n",
       "      <th>2930</th>\n",
       "      <td>38</td>\n",
       "      <td>6.4</td>\n",
       "      <td>5.1</td>\n",
       "    </tr>\n",
       "    <tr>\n",
       "      <th>2931</th>\n",
       "      <td>25</td>\n",
       "      <td>-3.6</td>\n",
       "      <td>5.1</td>\n",
       "    </tr>\n",
       "  </tbody>\n",
       "</table>\n",
       "<p>2932 rows × 3 columns</p>\n",
       "</div>"
      ],
      "text/plain": [
       "      TEAM_POINTS  Power Index OFF  Power Index DEF_Opp\n",
       "0              24              0.9                 -2.7\n",
       "1              20              0.1                 -2.4\n",
       "2              34              0.1                 -2.4\n",
       "3              37              0.9                 -2.7\n",
       "4              24             -0.4                 -2.7\n",
       "...           ...              ...                  ...\n",
       "2927           31              2.4                 -2.2\n",
       "2928           42              2.2                 -2.2\n",
       "2929           42              1.6                 -2.2\n",
       "2930           38              6.4                  5.1\n",
       "2931           25             -3.6                  5.1\n",
       "\n",
       "[2932 rows x 3 columns]"
      ]
     },
     "execution_count": 35,
     "metadata": {},
     "output_type": "execute_result"
    }
   ],
   "source": [
    "model_values.loc[:, [\"TEAM_POINTS\",'Power Index OFF', 'Power Index DEF_Opp']]"
   ]
  },
  {
   "cell_type": "code",
   "execution_count": 36,
   "metadata": {},
   "outputs": [],
   "source": [
    "model_2 = sklearn.linear_model.LinearRegression(normalize=True)"
   ]
  },
  {
   "cell_type": "code",
   "execution_count": null,
   "metadata": {},
   "outputs": [],
   "source": []
  },
  {
   "cell_type": "code",
   "execution_count": 37,
   "metadata": {},
   "outputs": [],
   "source": [
    "X = model_values.iloc[:,1:].values\n",
    "y = model_values.iloc[:,0].values"
   ]
  },
  {
   "cell_type": "code",
   "execution_count": null,
   "metadata": {},
   "outputs": [],
   "source": []
  },
  {
   "cell_type": "code",
   "execution_count": 38,
   "metadata": {},
   "outputs": [],
   "source": [
    "X_train, X_test, y_train, y_test = train_test_split(X,y)\n",
    "#X_train = X_train.reshape(-1)\n",
    "#X_test = X_test.reshape(-1)\n",
    "y_train = y_train.reshape(-1, 1)\n",
    "y_test = y_test.reshape(-1, 1)"
   ]
  },
  {
   "cell_type": "code",
   "execution_count": 39,
   "metadata": {},
   "outputs": [
    {
     "data": {
      "text/plain": [
       "LinearRegression(copy_X=True, fit_intercept=True, n_jobs=None, normalize=True)"
      ]
     },
     "execution_count": 39,
     "metadata": {},
     "output_type": "execute_result"
    }
   ],
   "source": [
    "model_2.fit(X_train, y_train)"
   ]
  },
  {
   "cell_type": "code",
   "execution_count": 40,
   "metadata": {},
   "outputs": [
    {
     "data": {
      "text/plain": [
       "0.20154513906522328"
      ]
     },
     "execution_count": 40,
     "metadata": {},
     "output_type": "execute_result"
    }
   ],
   "source": [
    "#R_sq Score\n",
    "model_2.score(X_train, y_train)"
   ]
  },
  {
   "cell_type": "code",
   "execution_count": 41,
   "metadata": {},
   "outputs": [
    {
     "data": {
      "text/plain": [
       "0.21883076204876128"
      ]
     },
     "execution_count": 41,
     "metadata": {},
     "output_type": "execute_result"
    }
   ],
   "source": [
    "model_2.score(X_test, y_test)"
   ]
  },
  {
   "cell_type": "code",
   "execution_count": 42,
   "metadata": {},
   "outputs": [
    {
     "data": {
      "text/plain": [
       "array([24.05059979])"
      ]
     },
     "execution_count": 42,
     "metadata": {},
     "output_type": "execute_result"
    }
   ],
   "source": [
    "model_2.intercept_"
   ]
  },
  {
   "cell_type": "code",
   "execution_count": 43,
   "metadata": {},
   "outputs": [
    {
     "data": {
      "text/plain": [
       "array([[ 0.09374783,  0.59316021, -0.92479362, -0.04941855,  0.03119231,\n",
       "        -0.09964679]])"
      ]
     },
     "execution_count": 43,
     "metadata": {},
     "output_type": "execute_result"
    }
   ],
   "source": [
    "model_2.coef_"
   ]
  },
  {
   "cell_type": "code",
   "execution_count": 44,
   "metadata": {},
   "outputs": [],
   "source": [
    "y_pred = model_2.predict(X_test)"
   ]
  },
  {
   "cell_type": "code",
   "execution_count": 45,
   "metadata": {},
   "outputs": [],
   "source": [
    "sq_resid = (y_pred - y_test)**2"
   ]
  },
  {
   "cell_type": "code",
   "execution_count": 46,
   "metadata": {},
   "outputs": [
    {
     "data": {
      "text/plain": [
       "7.008383989531295"
      ]
     },
     "execution_count": 46,
     "metadata": {},
     "output_type": "execute_result"
    }
   ],
   "source": [
    "# The Mean Squared Error\n",
    "pd.Series(sq_resid.reshape(-1)).apply(math.sqrt).mean()"
   ]
  },
  {
   "cell_type": "code",
   "execution_count": 47,
   "metadata": {},
   "outputs": [],
   "source": [
    "# Grid Search\n",
    "from sklearn.model_selection import GridSearchCV\n",
    "params = {'fit_intercept':[True,False], 'normalize':[True,False], 'copy_X':[True, False]}\n",
    "grid = GridSearchCV(model_2, params, verbose=3)"
   ]
  },
  {
   "cell_type": "code",
   "execution_count": 48,
   "metadata": {},
   "outputs": [
    {
     "name": "stdout",
     "output_type": "stream",
     "text": [
      "Fitting 5 folds for each of 8 candidates, totalling 40 fits\n",
      "[CV] copy_X=True, fit_intercept=True, normalize=True .................\n",
      "[CV]  copy_X=True, fit_intercept=True, normalize=True, score=0.140, total=   0.0s\n",
      "[CV] copy_X=True, fit_intercept=True, normalize=True .................\n",
      "[CV]  copy_X=True, fit_intercept=True, normalize=True, score=0.195, total=   0.0s\n",
      "[CV] copy_X=True, fit_intercept=True, normalize=True .................\n",
      "[CV]  copy_X=True, fit_intercept=True, normalize=True, score=0.195, total=   0.0s\n",
      "[CV] copy_X=True, fit_intercept=True, normalize=True .................\n",
      "[CV]  copy_X=True, fit_intercept=True, normalize=True, score=0.275, total=   0.0s\n",
      "[CV] copy_X=True, fit_intercept=True, normalize=True .................\n",
      "[CV]  copy_X=True, fit_intercept=True, normalize=True, score=0.169, total=   0.0s\n",
      "[CV] copy_X=True, fit_intercept=True, normalize=False ................\n",
      "[CV]  copy_X=True, fit_intercept=True, normalize=False, score=0.140, total=   0.0s\n",
      "[CV] copy_X=True, fit_intercept=True, normalize=False ................\n",
      "[CV]  copy_X=True, fit_intercept=True, normalize=False, score=0.195, total=   0.0s\n",
      "[CV] copy_X=True, fit_intercept=True, normalize=False ................\n",
      "[CV]  copy_X=True, fit_intercept=True, normalize=False, score=0.195, total=   0.0s\n",
      "[CV] copy_X=True, fit_intercept=True, normalize=False ................\n",
      "[CV]  copy_X=True, fit_intercept=True, normalize=False, score=0.275, total=   0.0s\n",
      "[CV] copy_X=True, fit_intercept=True, normalize=False ................\n",
      "[CV]  copy_X=True, fit_intercept=True, normalize=False, score=0.169, total=   0.0s\n",
      "[CV] copy_X=True, fit_intercept=False, normalize=True ................\n",
      "[CV]  copy_X=True, fit_intercept=False, normalize=True, score=-0.208, total=   0.0s\n",
      "[CV] copy_X=True, fit_intercept=False, normalize=True ................\n",
      "[CV]  copy_X=True, fit_intercept=False, normalize=True, score=-0.097, total=   0.0s\n",
      "[CV] copy_X=True, fit_intercept=False, normalize=True ................\n",
      "[CV]  copy_X=True, fit_intercept=False, normalize=True, score=-0.103, total=   0.0s\n",
      "[CV] copy_X=True, fit_intercept=False, normalize=True ................\n",
      "[CV]  copy_X=True, fit_intercept=False, normalize=True, score=-0.058, total=   0.0s\n",
      "[CV] copy_X=True, fit_intercept=False, normalize=True ................\n",
      "[CV]  copy_X=True, fit_intercept=False, normalize=True, score=-0.105, total=   0.0s\n",
      "[CV] copy_X=True, fit_intercept=False, normalize=False ...............\n",
      "[CV]  copy_X=True, fit_intercept=False, normalize=False, score=-0.208, total=   0.0s\n",
      "[CV] copy_X=True, fit_intercept=False, normalize=False ...............\n",
      "[CV]  copy_X=True, fit_intercept=False, normalize=False, score=-0.097, total=   0.0s\n",
      "[CV] copy_X=True, fit_intercept=False, normalize=False ...............\n",
      "[CV]  copy_X=True, fit_intercept=False, normalize=False, score=-0.103, total=   0.0s\n",
      "[CV] copy_X=True, fit_intercept=False, normalize=False ...............\n",
      "[CV]  copy_X=True, fit_intercept=False, normalize=False, score=-0.058, total=   0.0s\n",
      "[CV] copy_X=True, fit_intercept=False, normalize=False ...............\n",
      "[CV]  copy_X=True, fit_intercept=False, normalize=False, score=-0.105, total=   0.0s\n",
      "[CV] copy_X=False, fit_intercept=True, normalize=True ................\n",
      "[CV]  copy_X=False, fit_intercept=True, normalize=True, score=0.140, total=   0.0s\n",
      "[CV] copy_X=False, fit_intercept=True, normalize=True ................\n",
      "[CV]  copy_X=False, fit_intercept=True, normalize=True, score=0.195, total=   0.0s\n",
      "[CV] copy_X=False, fit_intercept=True, normalize=True ................\n",
      "[CV]  copy_X=False, fit_intercept=True, normalize=True, score=0.195, total=   0.0s\n",
      "[CV] copy_X=False, fit_intercept=True, normalize=True ................\n",
      "[CV]  copy_X=False, fit_intercept=True, normalize=True, score=0.275, total=   0.0s\n",
      "[CV] copy_X=False, fit_intercept=True, normalize=True ................\n",
      "[CV]  copy_X=False, fit_intercept=True, normalize=True, score=0.169, total=   0.0s\n",
      "[CV] copy_X=False, fit_intercept=True, normalize=False ...............\n",
      "[CV]  copy_X=False, fit_intercept=True, normalize=False, score=0.140, total=   0.0s\n",
      "[CV] copy_X=False, fit_intercept=True, normalize=False ...............\n",
      "[CV]  copy_X=False, fit_intercept=True, normalize=False, score=0.195, total=   0.0s\n",
      "[CV] copy_X=False, fit_intercept=True, normalize=False ...............\n",
      "[CV]  copy_X=False, fit_intercept=True, normalize=False, score=0.195, total=   0.0s\n",
      "[CV] copy_X=False, fit_intercept=True, normalize=False ...............\n",
      "[CV]  copy_X=False, fit_intercept=True, normalize=False, score=0.275, total=   0.0s\n",
      "[CV] copy_X=False, fit_intercept=True, normalize=False ...............\n",
      "[CV]  copy_X=False, fit_intercept=True, normalize=False, score=0.169, total=   0.0s\n",
      "[CV] copy_X=False, fit_intercept=False, normalize=True ...............\n",
      "[CV]  copy_X=False, fit_intercept=False, normalize=True, score=-0.208, total=   0.0s\n",
      "[CV] copy_X=False, fit_intercept=False, normalize=True ...............\n",
      "[CV]  copy_X=False, fit_intercept=False, normalize=True, score=-0.097, total=   0.0s\n",
      "[CV] copy_X=False, fit_intercept=False, normalize=True ...............\n",
      "[CV]  copy_X=False, fit_intercept=False, normalize=True, score=-0.103, total=   0.0s\n",
      "[CV] copy_X=False, fit_intercept=False, normalize=True ...............\n",
      "[CV]  copy_X=False, fit_intercept=False, normalize=True, score=-0.058, total=   0.0s\n",
      "[CV] copy_X=False, fit_intercept=False, normalize=True ...............\n",
      "[CV]  copy_X=False, fit_intercept=False, normalize=True, score=-0.105, total=   0.0s\n",
      "[CV] copy_X=False, fit_intercept=False, normalize=False ..............\n",
      "[CV]  copy_X=False, fit_intercept=False, normalize=False, score=-0.208, total=   0.0s\n",
      "[CV] copy_X=False, fit_intercept=False, normalize=False ..............\n",
      "[CV]  copy_X=False, fit_intercept=False, normalize=False, score=-0.097, total=   0.0s\n",
      "[CV] copy_X=False, fit_intercept=False, normalize=False ..............\n",
      "[CV]  copy_X=False, fit_intercept=False, normalize=False, score=-0.103, total=   0.0s\n",
      "[CV] copy_X=False, fit_intercept=False, normalize=False ..............\n",
      "[CV]  copy_X=False, fit_intercept=False, normalize=False, score=-0.058, total=   0.0s\n",
      "[CV] copy_X=False, fit_intercept=False, normalize=False ..............\n",
      "[CV]  copy_X=False, fit_intercept=False, normalize=False, score=-0.105, total=   0.0s\n"
     ]
    },
    {
     "name": "stderr",
     "output_type": "stream",
     "text": [
      "[Parallel(n_jobs=1)]: Using backend SequentialBackend with 1 concurrent workers.\n",
      "[Parallel(n_jobs=1)]: Done   1 out of   1 | elapsed:    0.0s remaining:    0.0s\n",
      "[Parallel(n_jobs=1)]: Done   2 out of   2 | elapsed:    0.0s remaining:    0.0s\n",
      "[Parallel(n_jobs=1)]: Done  40 out of  40 | elapsed:    0.0s finished\n"
     ]
    },
    {
     "data": {
      "text/plain": [
       "GridSearchCV(cv=None, error_score=nan,\n",
       "             estimator=LinearRegression(copy_X=True, fit_intercept=True,\n",
       "                                        n_jobs=None, normalize=True),\n",
       "             iid='deprecated', n_jobs=None,\n",
       "             param_grid={'copy_X': [True, False],\n",
       "                         'fit_intercept': [True, False],\n",
       "                         'normalize': [True, False]},\n",
       "             pre_dispatch='2*n_jobs', refit=True, return_train_score=False,\n",
       "             scoring=None, verbose=3)"
      ]
     },
     "execution_count": 48,
     "metadata": {},
     "output_type": "execute_result"
    }
   ],
   "source": [
    "# Train the model with GridSearch\n",
    "grid.fit(X_train,y_train)"
   ]
  },
  {
   "cell_type": "code",
   "execution_count": 49,
   "metadata": {},
   "outputs": [
    {
     "data": {
      "text/plain": [
       "0.19516793987880796"
      ]
     },
     "execution_count": 49,
     "metadata": {},
     "output_type": "execute_result"
    }
   ],
   "source": [
    "grid.best_score_"
   ]
  },
  {
   "cell_type": "code",
   "execution_count": 50,
   "metadata": {},
   "outputs": [],
   "source": [
    "ys = grid.predict(X_test)"
   ]
  },
  {
   "cell_type": "code",
   "execution_count": 51,
   "metadata": {},
   "outputs": [],
   "source": [
    "resids = (ys - y_test)**2"
   ]
  },
  {
   "cell_type": "code",
   "execution_count": 52,
   "metadata": {},
   "outputs": [
    {
     "data": {
      "text/plain": [
       "7.008383989531295"
      ]
     },
     "execution_count": 52,
     "metadata": {},
     "output_type": "execute_result"
    }
   ],
   "source": [
    "pd.Series(resids.reshape(-1)).apply(math.sqrt).mean()"
   ]
  },
  {
   "cell_type": "code",
   "execution_count": 53,
   "metadata": {},
   "outputs": [],
   "source": [
    "from sklearn.metrics import r2_score"
   ]
  },
  {
   "cell_type": "code",
   "execution_count": 54,
   "metadata": {},
   "outputs": [
    {
     "data": {
      "text/plain": [
       "0.21883076204876128"
      ]
     },
     "execution_count": 54,
     "metadata": {},
     "output_type": "execute_result"
    }
   ],
   "source": [
    "r2_score(y_test, ys)"
   ]
  },
  {
   "cell_type": "markdown",
   "metadata": {},
   "source": [
    "## Model 3:\n",
    "### Past FPI and Introducing Yards and Turnovers"
   ]
  },
  {
   "cell_type": "code",
   "execution_count": 55,
   "metadata": {},
   "outputs": [
    {
     "data": {
      "text/plain": [
       "Index(['Year', 'Week_x', 'Abbr_RDBMS_Winner', 'Week2', 'Day', 'Date', 'Time',\n",
       "       'Home_Team', 'FINAL_TEAM_NAME', 'Opponent', 'TEAM_POINTS', 'TEAM_YARDS',\n",
       "       'TEAM_TURNOVERS', 'TEAM_TURNOVER_DIFFERENTIAL', 'OPPONENTS_POINTS',\n",
       "       'OPPONENTS_YARDS', 'OPPONENTS_TURNOVERS',\n",
       "       'OPPONENTS_TURNOVER_DIFFERENTIAL', 'TEAM_POINT_MARGIN', 'GAMEID',\n",
       "       'BINARY_WIN', 'W-L-T', 'Power Index FPI', 'Power Index RK',\n",
       "       'Power Index TREND', 'Power Index OFF', 'Power Index DEF',\n",
       "       'Power Index ST', 'Ranks SOS', 'Ranks REM SOS', 'Ranks AVGWP',\n",
       "       'DIVISION_538_Winner', 'ELO WITH QB_538_Winner',\n",
       "       'ELO CHANGE_538_Winner', 'CURRENT QB ADJ_538_Winner',\n",
       "       'Points_Diff_538_Winner', 'Playoffs_Prob_538_Winner',\n",
       "       'Division_Prob_538_Winner', 'Bye_Prob_538_Winner', 'SB_Prob_538_Winner',\n",
       "       'REAL_WINS2_538_Winner', 'REAL_LOSSES2_538_Winner',\n",
       "       'REAL_TIES_538_Winner', 'PROJ_WINS4_538_Winner',\n",
       "       'PROJ_LOSS4_538_Winner', 'EPA/play_RDBMS_Winner',\n",
       "       'OVR_SUCCESS_RATE_RDBMS_Winner', 'Dropback EPA_RDBMS_Winner',\n",
       "       'DROPBACK_SR_RDBMS_Winner', 'Rush EPA_RDBMS_Winner',\n",
       "       'RUN_SR_RDBMS_Winner', 'TOTAL DVOA_FO_WEEKLY_Winner',\n",
       "       'LAST WEEK_FO_WEEKLY_Winner', 'DAVE_WEI_DVOA_FO_WEEKLY_Winner',\n",
       "       'OFFENSE DVOA_FO_WEEKLY_Winner', 'DEFENSE DVOA_FO_WEEKLY_Winner',\n",
       "       'S.T. DVOA_FO_WEEKLY_Winner', 'RK_FO_ANNUAL_Winner',\n",
       "       'TOTAL DVOA_FO_ANNUAL_Winner', 'DAVE_WEI_DVOA_FO_ANNUAL_Winner',\n",
       "       'OFFENSE DVOA_FO_ANNUAL_Winner', 'DEFENSE DVOA_FO_ANNUAL_Winner',\n",
       "       'S.T. DVOA_FO_ANNUAL_Winner', 'non-adj VOA_FO_ANNUAL_Winner',\n",
       "       'Last Year_FO_ANNUAL_Winner', 'ESTIM. WINS_FO_ANNUAL_Winner',\n",
       "       'SCHEDULE RANK_FO_ANNUAL_Winner', 'VAR._FO_ANNUAL_Winner',\n",
       "       'TOTAL_GAME_POINTS', 'TOTAL_GAME_YARDS', 'TOTAL_GAME_TURNOVERS',\n",
       "       'PLAYOFFS_BINARY', 'GAME_TYPE'],\n",
       "      dtype='object')"
      ]
     },
     "execution_count": 55,
     "metadata": {},
     "output_type": "execute_result"
    }
   ],
   "source": [
    "allTheStats2.columns"
   ]
  },
  {
   "cell_type": "code",
   "execution_count": 56,
   "metadata": {},
   "outputs": [],
   "source": [
    "opponentDef = allTheStats2.loc[:, [\"FINAL_TEAM_NAME\", 'Power Index DEF', \"GAMEID\"]]"
   ]
  },
  {
   "cell_type": "code",
   "execution_count": 57,
   "metadata": {},
   "outputs": [],
   "source": [
    "model_values=pd.merge(allTheStats2, opponentDef, left_on=[\"GAMEID\", \"Opponent\"], right_on=[\"GAMEID\", \"FINAL_TEAM_NAME\"], suffixes=(\"\", \"_Opp\"))"
   ]
  },
  {
   "cell_type": "code",
   "execution_count": 58,
   "metadata": {},
   "outputs": [],
   "source": [
    "allTheStats3=pd.merge(allTheStats2, opponentDef, left_on=[\"GAMEID\", \"Opponent\"], right_on=[\"GAMEID\", \"FINAL_TEAM_NAME\"], suffixes=(\"\", \"_Opp\"))"
   ]
  },
  {
   "cell_type": "code",
   "execution_count": 59,
   "metadata": {},
   "outputs": [],
   "source": [
    "model_values=model_values.loc[:, [\"TEAM_POINTS\", \"Power Index FPI\", 'Power Index OFF','Power Index DEF_Opp', 'Power Index ST', 'Ranks SOS', 'Ranks AVGWP',\n",
    "                                 \"TEAM_YARDS\", \"TEAM_TURNOVERS\"]]"
   ]
  },
  {
   "cell_type": "code",
   "execution_count": 60,
   "metadata": {},
   "outputs": [
    {
     "name": "stdout",
     "output_type": "stream",
     "text": [
      "<class 'pandas.core.frame.DataFrame'>\n",
      "Int64Index: 2932 entries, 0 to 2931\n",
      "Data columns (total 9 columns):\n",
      " #   Column               Non-Null Count  Dtype  \n",
      "---  ------               --------------  -----  \n",
      " 0   TEAM_POINTS          2932 non-null   int64  \n",
      " 1   Power Index FPI      2932 non-null   float64\n",
      " 2   Power Index OFF      2932 non-null   float64\n",
      " 3   Power Index DEF_Opp  2932 non-null   float64\n",
      " 4   Power Index ST       2932 non-null   float64\n",
      " 5   Ranks SOS            2932 non-null   int64  \n",
      " 6   Ranks AVGWP          2932 non-null   int64  \n",
      " 7   TEAM_YARDS           2932 non-null   int64  \n",
      " 8   TEAM_TURNOVERS       2932 non-null   int64  \n",
      "dtypes: float64(4), int64(5)\n",
      "memory usage: 229.1 KB\n"
     ]
    }
   ],
   "source": [
    "model_values.info()"
   ]
  },
  {
   "cell_type": "code",
   "execution_count": null,
   "metadata": {},
   "outputs": [],
   "source": []
  },
  {
   "cell_type": "code",
   "execution_count": 61,
   "metadata": {},
   "outputs": [],
   "source": [
    "model_3 = sklearn.linear_model.LinearRegression(normalize=True)"
   ]
  },
  {
   "cell_type": "code",
   "execution_count": null,
   "metadata": {},
   "outputs": [],
   "source": []
  },
  {
   "cell_type": "code",
   "execution_count": 62,
   "metadata": {},
   "outputs": [],
   "source": [
    "X = model_values.iloc[:,1:].values\n",
    "y = model_values.iloc[:,0].values"
   ]
  },
  {
   "cell_type": "code",
   "execution_count": null,
   "metadata": {},
   "outputs": [],
   "source": []
  },
  {
   "cell_type": "code",
   "execution_count": 63,
   "metadata": {},
   "outputs": [],
   "source": [
    "X_train, X_test, y_train, y_test = train_test_split(X,y)\n",
    "#X_train = X_train.reshape(-1)\n",
    "#X_test = X_test.reshape(-1)\n",
    "y_train = y_train.reshape(-1, 1)\n",
    "y_test = y_test.reshape(-1, 1)"
   ]
  },
  {
   "cell_type": "code",
   "execution_count": 64,
   "metadata": {},
   "outputs": [
    {
     "data": {
      "text/plain": [
       "LinearRegression(copy_X=True, fit_intercept=True, n_jobs=None, normalize=True)"
      ]
     },
     "execution_count": 64,
     "metadata": {},
     "output_type": "execute_result"
    }
   ],
   "source": [
    "model_3.fit(X_train, y_train)"
   ]
  },
  {
   "cell_type": "code",
   "execution_count": 65,
   "metadata": {},
   "outputs": [
    {
     "data": {
      "text/plain": [
       "0.4844359762627359"
      ]
     },
     "execution_count": 65,
     "metadata": {},
     "output_type": "execute_result"
    }
   ],
   "source": [
    "#R_sq Score\n",
    "model_3.score(X_train, y_train)"
   ]
  },
  {
   "cell_type": "code",
   "execution_count": 66,
   "metadata": {},
   "outputs": [
    {
     "data": {
      "text/plain": [
       "0.5343930244400317"
      ]
     },
     "execution_count": 66,
     "metadata": {},
     "output_type": "execute_result"
    }
   ],
   "source": [
    "model_3.score(X_test, y_test)"
   ]
  },
  {
   "cell_type": "code",
   "execution_count": 67,
   "metadata": {},
   "outputs": [
    {
     "data": {
      "text/plain": [
       "array([4.46879657])"
      ]
     },
     "execution_count": 67,
     "metadata": {},
     "output_type": "execute_result"
    }
   ],
   "source": [
    "model_3.intercept_"
   ]
  },
  {
   "cell_type": "code",
   "execution_count": 68,
   "metadata": {},
   "outputs": [
    {
     "data": {
      "text/plain": [
       "array([[ 0.09629109,  0.07018035, -0.25159812,  0.17847358,  0.00694826,\n",
       "        -0.10720859,  0.06490841, -1.87130443]])"
      ]
     },
     "execution_count": 68,
     "metadata": {},
     "output_type": "execute_result"
    }
   ],
   "source": [
    "model_3.coef_"
   ]
  },
  {
   "cell_type": "code",
   "execution_count": 69,
   "metadata": {},
   "outputs": [],
   "source": [
    "y_pred = model_3.predict(X_test)"
   ]
  },
  {
   "cell_type": "code",
   "execution_count": 70,
   "metadata": {},
   "outputs": [],
   "source": [
    "sq_resid = (y_pred - y_test)**2"
   ]
  },
  {
   "cell_type": "code",
   "execution_count": 71,
   "metadata": {},
   "outputs": [
    {
     "data": {
      "text/plain": [
       "5.36006083235951"
      ]
     },
     "execution_count": 71,
     "metadata": {},
     "output_type": "execute_result"
    }
   ],
   "source": [
    "# The Mean Squared Error\n",
    "pd.Series(sq_resid.reshape(-1)).apply(math.sqrt).mean()"
   ]
  },
  {
   "cell_type": "code",
   "execution_count": 72,
   "metadata": {},
   "outputs": [],
   "source": [
    "# Grid Search\n",
    "from sklearn.model_selection import GridSearchCV\n",
    "params = {'fit_intercept':[True,False], 'normalize':[True,False], 'copy_X':[True, False]}\n",
    "grid = GridSearchCV(model_3, params, verbose=3)"
   ]
  },
  {
   "cell_type": "code",
   "execution_count": 73,
   "metadata": {},
   "outputs": [
    {
     "name": "stdout",
     "output_type": "stream",
     "text": [
      "Fitting 5 folds for each of 8 candidates, totalling 40 fits\n",
      "[CV] copy_X=True, fit_intercept=True, normalize=True .................\n",
      "[CV]  copy_X=True, fit_intercept=True, normalize=True, score=0.541, total=   0.0s\n",
      "[CV] copy_X=True, fit_intercept=True, normalize=True .................\n",
      "[CV]  copy_X=True, fit_intercept=True, normalize=True, score=0.488, total=   0.0s\n",
      "[CV] copy_X=True, fit_intercept=True, normalize=True .................\n",
      "[CV]  copy_X=True, fit_intercept=True, normalize=True, score=0.445, total=   0.0s\n",
      "[CV] copy_X=True, fit_intercept=True, normalize=True .................\n",
      "[CV]  copy_X=True, fit_intercept=True, normalize=True, score=0.479, total=   0.0s\n",
      "[CV] copy_X=True, fit_intercept=True, normalize=True .................\n",
      "[CV]  copy_X=True, fit_intercept=True, normalize=True, score=0.440, total=   0.0s\n",
      "[CV] copy_X=True, fit_intercept=True, normalize=False ................\n",
      "[CV]  copy_X=True, fit_intercept=True, normalize=False, score=0.541, total=   0.0s\n",
      "[CV] copy_X=True, fit_intercept=True, normalize=False ................\n",
      "[CV]  copy_X=True, fit_intercept=True, normalize=False, score=0.488, total=   0.0s\n",
      "[CV] copy_X=True, fit_intercept=True, normalize=False ................\n",
      "[CV]  copy_X=True, fit_intercept=True, normalize=False, score=0.445, total=   0.0s\n",
      "[CV] copy_X=True, fit_intercept=True, normalize=False ................\n",
      "[CV]  copy_X=True, fit_intercept=True, normalize=False, score=0.479, total=   0.0s\n",
      "[CV] copy_X=True, fit_intercept=True, normalize=False ................\n",
      "[CV]  copy_X=True, fit_intercept=True, normalize=False, score=0.440, total=   0.0s\n",
      "[CV] copy_X=True, fit_intercept=False, normalize=True ................\n",
      "[CV]  copy_X=True, fit_intercept=False, normalize=True, score=0.541, total=   0.0s\n",
      "[CV] copy_X=True, fit_intercept=False, normalize=True ................\n",
      "[CV]  copy_X=True, fit_intercept=False, normalize=True, score=0.485, total=   0.0s\n",
      "[CV] copy_X=True, fit_intercept=False, normalize=True ................\n",
      "[CV]  copy_X=True, fit_intercept=False, normalize=True, score=0.436, total=   0.0s\n",
      "[CV] copy_X=True, fit_intercept=False, normalize=True ................\n",
      "[CV]  copy_X=True, fit_intercept=False, normalize=True, score=0.470, total=   0.0s\n",
      "[CV] copy_X=True, fit_intercept=False, normalize=True ................\n",
      "[CV]  copy_X=True, fit_intercept=False, normalize=True, score=0.434, total=   0.0s\n",
      "[CV] copy_X=True, fit_intercept=False, normalize=False ...............\n",
      "[CV]  copy_X=True, fit_intercept=False, normalize=False, score=0.541, total=   0.0s\n",
      "[CV] copy_X=True, fit_intercept=False, normalize=False ...............\n",
      "[CV]  copy_X=True, fit_intercept=False, normalize=False, score=0.485, total=   0.0s\n",
      "[CV] copy_X=True, fit_intercept=False, normalize=False ...............\n",
      "[CV]  copy_X=True, fit_intercept=False, normalize=False, score=0.436, total=   0.0s\n",
      "[CV] copy_X=True, fit_intercept=False, normalize=False ...............\n",
      "[CV]  copy_X=True, fit_intercept=False, normalize=False, score=0.470, total=   0.0s\n",
      "[CV] copy_X=True, fit_intercept=False, normalize=False ...............\n",
      "[CV]  copy_X=True, fit_intercept=False, normalize=False, score=0.434, total=   0.0s\n",
      "[CV] copy_X=False, fit_intercept=True, normalize=True ................\n",
      "[CV]  copy_X=False, fit_intercept=True, normalize=True, score=0.541, total=   0.0s\n",
      "[CV] copy_X=False, fit_intercept=True, normalize=True ................\n",
      "[CV]  copy_X=False, fit_intercept=True, normalize=True, score=0.488, total=   0.0s\n",
      "[CV] copy_X=False, fit_intercept=True, normalize=True ................\n",
      "[CV]  copy_X=False, fit_intercept=True, normalize=True, score=0.445, total=   0.0s\n",
      "[CV] copy_X=False, fit_intercept=True, normalize=True ................\n",
      "[CV]  copy_X=False, fit_intercept=True, normalize=True, score=0.479, total=   0.0s\n",
      "[CV] copy_X=False, fit_intercept=True, normalize=True ................\n",
      "[CV]  copy_X=False, fit_intercept=True, normalize=True, score=0.440, total=   0.0s\n",
      "[CV] copy_X=False, fit_intercept=True, normalize=False ...............\n",
      "[CV]  copy_X=False, fit_intercept=True, normalize=False, score=0.541, total=   0.0s\n",
      "[CV] copy_X=False, fit_intercept=True, normalize=False ...............\n",
      "[CV]  copy_X=False, fit_intercept=True, normalize=False, score=0.488, total=   0.0s\n",
      "[CV] copy_X=False, fit_intercept=True, normalize=False ...............\n",
      "[CV]  copy_X=False, fit_intercept=True, normalize=False, score=0.445, total=   0.0s\n",
      "[CV] copy_X=False, fit_intercept=True, normalize=False ...............\n",
      "[CV]  copy_X=False, fit_intercept=True, normalize=False, score=0.479, total=   0.0s\n",
      "[CV] copy_X=False, fit_intercept=True, normalize=False ...............\n",
      "[CV]  copy_X=False, fit_intercept=True, normalize=False, score=0.440, total=   0.0s\n",
      "[CV] copy_X=False, fit_intercept=False, normalize=True ...............\n",
      "[CV]  copy_X=False, fit_intercept=False, normalize=True, score=0.541, total=   0.0s\n",
      "[CV] copy_X=False, fit_intercept=False, normalize=True ...............\n",
      "[CV]  copy_X=False, fit_intercept=False, normalize=True, score=0.485, total=   0.0s\n",
      "[CV] copy_X=False, fit_intercept=False, normalize=True ...............\n",
      "[CV]  copy_X=False, fit_intercept=False, normalize=True, score=0.436, total=   0.0s\n",
      "[CV] copy_X=False, fit_intercept=False, normalize=True ...............\n",
      "[CV]  copy_X=False, fit_intercept=False, normalize=True, score=0.470, total=   0.0s\n",
      "[CV] copy_X=False, fit_intercept=False, normalize=True ...............\n",
      "[CV]  copy_X=False, fit_intercept=False, normalize=True, score=0.434, total=   0.0s\n",
      "[CV] copy_X=False, fit_intercept=False, normalize=False ..............\n",
      "[CV]  copy_X=False, fit_intercept=False, normalize=False, score=0.541, total=   0.0s\n",
      "[CV] copy_X=False, fit_intercept=False, normalize=False ..............\n",
      "[CV]  copy_X=False, fit_intercept=False, normalize=False, score=0.485, total=   0.0s\n",
      "[CV] copy_X=False, fit_intercept=False, normalize=False ..............\n",
      "[CV]  copy_X=False, fit_intercept=False, normalize=False, score=0.436, total=   0.0s\n",
      "[CV] copy_X=False, fit_intercept=False, normalize=False ..............\n",
      "[CV]  copy_X=False, fit_intercept=False, normalize=False, score=0.470, total=   0.0s\n",
      "[CV] copy_X=False, fit_intercept=False, normalize=False ..............\n",
      "[CV]  copy_X=False, fit_intercept=False, normalize=False, score=0.434, total=   0.0s\n"
     ]
    },
    {
     "name": "stderr",
     "output_type": "stream",
     "text": [
      "[Parallel(n_jobs=1)]: Using backend SequentialBackend with 1 concurrent workers.\n",
      "[Parallel(n_jobs=1)]: Done   1 out of   1 | elapsed:    0.0s remaining:    0.0s\n",
      "[Parallel(n_jobs=1)]: Done   2 out of   2 | elapsed:    0.0s remaining:    0.0s\n",
      "[Parallel(n_jobs=1)]: Done  40 out of  40 | elapsed:    0.0s finished\n"
     ]
    },
    {
     "data": {
      "text/plain": [
       "GridSearchCV(cv=None, error_score=nan,\n",
       "             estimator=LinearRegression(copy_X=True, fit_intercept=True,\n",
       "                                        n_jobs=None, normalize=True),\n",
       "             iid='deprecated', n_jobs=None,\n",
       "             param_grid={'copy_X': [True, False],\n",
       "                         'fit_intercept': [True, False],\n",
       "                         'normalize': [True, False]},\n",
       "             pre_dispatch='2*n_jobs', refit=True, return_train_score=False,\n",
       "             scoring=None, verbose=3)"
      ]
     },
     "execution_count": 73,
     "metadata": {},
     "output_type": "execute_result"
    }
   ],
   "source": [
    "# Train the model with GridSearch\n",
    "grid.fit(X_train,y_train)"
   ]
  },
  {
   "cell_type": "code",
   "execution_count": 74,
   "metadata": {},
   "outputs": [
    {
     "data": {
      "text/plain": [
       "0.47870269881686944"
      ]
     },
     "execution_count": 74,
     "metadata": {},
     "output_type": "execute_result"
    }
   ],
   "source": [
    "grid.best_score_"
   ]
  },
  {
   "cell_type": "code",
   "execution_count": 75,
   "metadata": {},
   "outputs": [],
   "source": [
    "ys = grid.predict(X_test)"
   ]
  },
  {
   "cell_type": "code",
   "execution_count": 76,
   "metadata": {},
   "outputs": [],
   "source": [
    "resids = (ys - y_test)**2"
   ]
  },
  {
   "cell_type": "code",
   "execution_count": 77,
   "metadata": {},
   "outputs": [
    {
     "data": {
      "text/plain": [
       "5.36006083235951"
      ]
     },
     "execution_count": 77,
     "metadata": {},
     "output_type": "execute_result"
    }
   ],
   "source": [
    "pd.Series(resids.reshape(-1)).apply(math.sqrt).mean()"
   ]
  },
  {
   "cell_type": "code",
   "execution_count": 78,
   "metadata": {},
   "outputs": [],
   "source": [
    "from sklearn.metrics import r2_score"
   ]
  },
  {
   "cell_type": "code",
   "execution_count": 79,
   "metadata": {},
   "outputs": [
    {
     "data": {
      "text/plain": [
       "0.5343930244400317"
      ]
     },
     "execution_count": 79,
     "metadata": {},
     "output_type": "execute_result"
    }
   ],
   "source": [
    "r2_score(y_test, ys)"
   ]
  },
  {
   "cell_type": "markdown",
   "metadata": {},
   "source": [
    "## Model 4:\n",
    "### Could A Classifier Work For a Regression Problem (Random Forest)"
   ]
  },
  {
   "cell_type": "code",
   "execution_count": 80,
   "metadata": {},
   "outputs": [
    {
     "data": {
      "text/plain": [
       "Index(['Year', 'Week_x', 'Abbr_RDBMS_Winner', 'Week2', 'Day', 'Date', 'Time',\n",
       "       'Home_Team', 'FINAL_TEAM_NAME', 'Opponent', 'TEAM_POINTS', 'TEAM_YARDS',\n",
       "       'TEAM_TURNOVERS', 'TEAM_TURNOVER_DIFFERENTIAL', 'OPPONENTS_POINTS',\n",
       "       'OPPONENTS_YARDS', 'OPPONENTS_TURNOVERS',\n",
       "       'OPPONENTS_TURNOVER_DIFFERENTIAL', 'TEAM_POINT_MARGIN', 'GAMEID',\n",
       "       'BINARY_WIN', 'W-L-T', 'Power Index FPI', 'Power Index RK',\n",
       "       'Power Index TREND', 'Power Index OFF', 'Power Index DEF',\n",
       "       'Power Index ST', 'Ranks SOS', 'Ranks REM SOS', 'Ranks AVGWP',\n",
       "       'DIVISION_538_Winner', 'ELO WITH QB_538_Winner',\n",
       "       'ELO CHANGE_538_Winner', 'CURRENT QB ADJ_538_Winner',\n",
       "       'Points_Diff_538_Winner', 'Playoffs_Prob_538_Winner',\n",
       "       'Division_Prob_538_Winner', 'Bye_Prob_538_Winner', 'SB_Prob_538_Winner',\n",
       "       'REAL_WINS2_538_Winner', 'REAL_LOSSES2_538_Winner',\n",
       "       'REAL_TIES_538_Winner', 'PROJ_WINS4_538_Winner',\n",
       "       'PROJ_LOSS4_538_Winner', 'EPA/play_RDBMS_Winner',\n",
       "       'OVR_SUCCESS_RATE_RDBMS_Winner', 'Dropback EPA_RDBMS_Winner',\n",
       "       'DROPBACK_SR_RDBMS_Winner', 'Rush EPA_RDBMS_Winner',\n",
       "       'RUN_SR_RDBMS_Winner', 'TOTAL DVOA_FO_WEEKLY_Winner',\n",
       "       'LAST WEEK_FO_WEEKLY_Winner', 'DAVE_WEI_DVOA_FO_WEEKLY_Winner',\n",
       "       'OFFENSE DVOA_FO_WEEKLY_Winner', 'DEFENSE DVOA_FO_WEEKLY_Winner',\n",
       "       'S.T. DVOA_FO_WEEKLY_Winner', 'RK_FO_ANNUAL_Winner',\n",
       "       'TOTAL DVOA_FO_ANNUAL_Winner', 'DAVE_WEI_DVOA_FO_ANNUAL_Winner',\n",
       "       'OFFENSE DVOA_FO_ANNUAL_Winner', 'DEFENSE DVOA_FO_ANNUAL_Winner',\n",
       "       'S.T. DVOA_FO_ANNUAL_Winner', 'non-adj VOA_FO_ANNUAL_Winner',\n",
       "       'Last Year_FO_ANNUAL_Winner', 'ESTIM. WINS_FO_ANNUAL_Winner',\n",
       "       'SCHEDULE RANK_FO_ANNUAL_Winner', 'VAR._FO_ANNUAL_Winner',\n",
       "       'TOTAL_GAME_POINTS', 'TOTAL_GAME_YARDS', 'TOTAL_GAME_TURNOVERS',\n",
       "       'PLAYOFFS_BINARY', 'GAME_TYPE', 'FINAL_TEAM_NAME_Opp',\n",
       "       'Power Index DEF_Opp'],\n",
       "      dtype='object')"
      ]
     },
     "execution_count": 80,
     "metadata": {},
     "output_type": "execute_result"
    }
   ],
   "source": [
    "allTheStats3.columns"
   ]
  },
  {
   "cell_type": "code",
   "execution_count": 81,
   "metadata": {},
   "outputs": [],
   "source": [
    "model_values=allTheStats3.loc[:, [\"TEAM_POINTS\", \"Power Index FPI\", 'Power Index OFF','Power Index DEF_Opp', 'Power Index ST', 'Ranks SOS', 'Ranks AVGWP',\n",
    "                                 \"TEAM_YARDS\", \"TEAM_TURNOVERS\"]]"
   ]
  },
  {
   "cell_type": "code",
   "execution_count": 82,
   "metadata": {},
   "outputs": [
    {
     "name": "stdout",
     "output_type": "stream",
     "text": [
      "<class 'pandas.core.frame.DataFrame'>\n",
      "Int64Index: 2932 entries, 0 to 2931\n",
      "Data columns (total 9 columns):\n",
      " #   Column               Non-Null Count  Dtype  \n",
      "---  ------               --------------  -----  \n",
      " 0   TEAM_POINTS          2932 non-null   int64  \n",
      " 1   Power Index FPI      2932 non-null   float64\n",
      " 2   Power Index OFF      2932 non-null   float64\n",
      " 3   Power Index DEF_Opp  2932 non-null   float64\n",
      " 4   Power Index ST       2932 non-null   float64\n",
      " 5   Ranks SOS            2932 non-null   int64  \n",
      " 6   Ranks AVGWP          2932 non-null   int64  \n",
      " 7   TEAM_YARDS           2932 non-null   int64  \n",
      " 8   TEAM_TURNOVERS       2932 non-null   int64  \n",
      "dtypes: float64(4), int64(5)\n",
      "memory usage: 229.1 KB\n"
     ]
    }
   ],
   "source": [
    "model_values.info()"
   ]
  },
  {
   "cell_type": "code",
   "execution_count": 83,
   "metadata": {},
   "outputs": [],
   "source": [
    "from sklearn.ensemble import RandomForestClassifier"
   ]
  },
  {
   "cell_type": "code",
   "execution_count": 84,
   "metadata": {},
   "outputs": [],
   "source": [
    "rf = RandomForestClassifier(n_estimators=4000, criterion=\"entropy\", max_depth=5)"
   ]
  },
  {
   "cell_type": "code",
   "execution_count": null,
   "metadata": {},
   "outputs": [],
   "source": []
  },
  {
   "cell_type": "code",
   "execution_count": 85,
   "metadata": {},
   "outputs": [],
   "source": [
    "X = model_values.iloc[:,1:].values\n",
    "y = model_values.iloc[:,0].values"
   ]
  },
  {
   "cell_type": "code",
   "execution_count": null,
   "metadata": {},
   "outputs": [],
   "source": []
  },
  {
   "cell_type": "code",
   "execution_count": 86,
   "metadata": {},
   "outputs": [],
   "source": [
    "X_train, X_test, y_train, y_test = train_test_split(X,y)\n",
    "#X_train = X_train.reshape(-1)\n",
    "#X_test = X_test.reshape(-1)\n",
    "y_train = y_train.reshape(-1, 1)\n",
    "y_test = y_test.reshape(-1, 1)"
   ]
  },
  {
   "cell_type": "code",
   "execution_count": 87,
   "metadata": {},
   "outputs": [
    {
     "name": "stderr",
     "output_type": "stream",
     "text": [
      "C:\\Users\\Kyle\\anaconda3\\lib\\site-packages\\ipykernel_launcher.py:1: DataConversionWarning: A column-vector y was passed when a 1d array was expected. Please change the shape of y to (n_samples,), for example using ravel().\n",
      "  \"\"\"Entry point for launching an IPython kernel.\n"
     ]
    },
    {
     "data": {
      "text/plain": [
       "RandomForestClassifier(bootstrap=True, ccp_alpha=0.0, class_weight=None,\n",
       "                       criterion='entropy', max_depth=5, max_features='auto',\n",
       "                       max_leaf_nodes=None, max_samples=None,\n",
       "                       min_impurity_decrease=0.0, min_impurity_split=None,\n",
       "                       min_samples_leaf=1, min_samples_split=2,\n",
       "                       min_weight_fraction_leaf=0.0, n_estimators=4000,\n",
       "                       n_jobs=None, oob_score=False, random_state=None,\n",
       "                       verbose=0, warm_start=False)"
      ]
     },
     "execution_count": 87,
     "metadata": {},
     "output_type": "execute_result"
    }
   ],
   "source": [
    "rf.fit(X_train, y_train)"
   ]
  },
  {
   "cell_type": "code",
   "execution_count": 88,
   "metadata": {},
   "outputs": [
    {
     "data": {
      "text/plain": [
       "0.24010914051841747"
      ]
     },
     "execution_count": 88,
     "metadata": {},
     "output_type": "execute_result"
    }
   ],
   "source": [
    "#R_sq Score\n",
    "rf.score(X_train, y_train)"
   ]
  },
  {
   "cell_type": "code",
   "execution_count": 89,
   "metadata": {},
   "outputs": [
    {
     "data": {
      "text/plain": [
       "0.07503410641200546"
      ]
     },
     "execution_count": 89,
     "metadata": {},
     "output_type": "execute_result"
    }
   ],
   "source": [
    "rf.score(X_test, y_test)"
   ]
  },
  {
   "cell_type": "code",
   "execution_count": 90,
   "metadata": {},
   "outputs": [
    {
     "data": {
      "text/plain": [
       "array([ 0,  3,  5,  6,  7,  8,  9, 10, 11, 12, 13, 14, 15, 16, 17, 18, 19,\n",
       "       20, 21, 22, 23, 24, 25, 26, 27, 28, 29, 30, 31, 32, 33, 34, 35, 36,\n",
       "       37, 38, 39, 40, 41, 42, 43, 44, 45, 46, 47, 48, 49, 51, 52, 54, 55,\n",
       "       57], dtype=int64)"
      ]
     },
     "execution_count": 90,
     "metadata": {},
     "output_type": "execute_result"
    }
   ],
   "source": [
    "rf.classes_"
   ]
  },
  {
   "cell_type": "code",
   "execution_count": null,
   "metadata": {},
   "outputs": [],
   "source": []
  },
  {
   "cell_type": "code",
   "execution_count": 91,
   "metadata": {},
   "outputs": [],
   "source": [
    "y_pred = rf.predict(X_test)"
   ]
  },
  {
   "cell_type": "code",
   "execution_count": 92,
   "metadata": {},
   "outputs": [],
   "source": [
    "sq_resid = (y_pred - y_test)**2"
   ]
  },
  {
   "cell_type": "code",
   "execution_count": 93,
   "metadata": {},
   "outputs": [
    {
     "data": {
      "text/plain": [
       "9.319375606051864"
      ]
     },
     "execution_count": 93,
     "metadata": {},
     "output_type": "execute_result"
    }
   ],
   "source": [
    "# The Mean Squared Error\n",
    "pd.Series(sq_resid.reshape(-1)).apply(math.sqrt).mean()"
   ]
  },
  {
   "cell_type": "code",
   "execution_count": 94,
   "metadata": {},
   "outputs": [],
   "source": [
    "## STOP POINT FOR RF ##"
   ]
  },
  {
   "cell_type": "code",
   "execution_count": 95,
   "metadata": {},
   "outputs": [],
   "source": [
    "from sklearn.model_selection import RandomizedSearchCV"
   ]
  },
  {
   "cell_type": "code",
   "execution_count": 96,
   "metadata": {},
   "outputs": [],
   "source": [
    "# Grid Search\n",
    "from sklearn.model_selection import RandomizedSearchCV\n",
    "params = {'n_estimators':[4,40,400,4000,8000], 'criterion':[\"gini\", \"entropy\"], \"max_depth\":[2, 5, 10]}\n",
    "grid = RandomizedSearchCV(rf, params, verbose=3)"
   ]
  },
  {
   "cell_type": "code",
   "execution_count": 97,
   "metadata": {
    "scrolled": true
   },
   "outputs": [
    {
     "name": "stdout",
     "output_type": "stream",
     "text": [
      "Fitting 5 folds for each of 10 candidates, totalling 50 fits\n",
      "[CV] n_estimators=40, max_depth=10, criterion=entropy ................\n"
     ]
    },
    {
     "name": "stderr",
     "output_type": "stream",
     "text": [
      "C:\\Users\\Kyle\\anaconda3\\lib\\site-packages\\sklearn\\model_selection\\_split.py:667: UserWarning: The least populated class in y has only 1 members, which is less than n_splits=5.\n",
      "  % (min_groups, self.n_splits)), UserWarning)\n",
      "[Parallel(n_jobs=1)]: Using backend SequentialBackend with 1 concurrent workers.\n",
      "C:\\Users\\Kyle\\anaconda3\\lib\\site-packages\\sklearn\\model_selection\\_validation.py:515: DataConversionWarning: A column-vector y was passed when a 1d array was expected. Please change the shape of y to (n_samples,), for example using ravel().\n",
      "  estimator.fit(X_train, y_train, **fit_params)\n"
     ]
    },
    {
     "name": "stdout",
     "output_type": "stream",
     "text": [
      "[CV]  n_estimators=40, max_depth=10, criterion=entropy, score=0.061, total=   0.2s\n",
      "[CV] n_estimators=40, max_depth=10, criterion=entropy ................\n"
     ]
    },
    {
     "name": "stderr",
     "output_type": "stream",
     "text": [
      "[Parallel(n_jobs=1)]: Done   1 out of   1 | elapsed:    0.1s remaining:    0.0s\n",
      "C:\\Users\\Kyle\\anaconda3\\lib\\site-packages\\sklearn\\model_selection\\_validation.py:515: DataConversionWarning: A column-vector y was passed when a 1d array was expected. Please change the shape of y to (n_samples,), for example using ravel().\n",
      "  estimator.fit(X_train, y_train, **fit_params)\n"
     ]
    },
    {
     "name": "stdout",
     "output_type": "stream",
     "text": [
      "[CV]  n_estimators=40, max_depth=10, criterion=entropy, score=0.075, total=   0.2s\n",
      "[CV] n_estimators=40, max_depth=10, criterion=entropy ................\n"
     ]
    },
    {
     "name": "stderr",
     "output_type": "stream",
     "text": [
      "[Parallel(n_jobs=1)]: Done   2 out of   2 | elapsed:    0.4s remaining:    0.0s\n",
      "C:\\Users\\Kyle\\anaconda3\\lib\\site-packages\\sklearn\\model_selection\\_validation.py:515: DataConversionWarning: A column-vector y was passed when a 1d array was expected. Please change the shape of y to (n_samples,), for example using ravel().\n",
      "  estimator.fit(X_train, y_train, **fit_params)\n"
     ]
    },
    {
     "name": "stdout",
     "output_type": "stream",
     "text": [
      "[CV]  n_estimators=40, max_depth=10, criterion=entropy, score=0.066, total=   0.2s\n",
      "[CV] n_estimators=40, max_depth=10, criterion=entropy ................\n"
     ]
    },
    {
     "name": "stderr",
     "output_type": "stream",
     "text": [
      "C:\\Users\\Kyle\\anaconda3\\lib\\site-packages\\sklearn\\model_selection\\_validation.py:515: DataConversionWarning: A column-vector y was passed when a 1d array was expected. Please change the shape of y to (n_samples,), for example using ravel().\n",
      "  estimator.fit(X_train, y_train, **fit_params)\n"
     ]
    },
    {
     "name": "stdout",
     "output_type": "stream",
     "text": [
      "[CV]  n_estimators=40, max_depth=10, criterion=entropy, score=0.064, total=   0.2s\n",
      "[CV] n_estimators=40, max_depth=10, criterion=entropy ................\n"
     ]
    },
    {
     "name": "stderr",
     "output_type": "stream",
     "text": [
      "C:\\Users\\Kyle\\anaconda3\\lib\\site-packages\\sklearn\\model_selection\\_validation.py:515: DataConversionWarning: A column-vector y was passed when a 1d array was expected. Please change the shape of y to (n_samples,), for example using ravel().\n",
      "  estimator.fit(X_train, y_train, **fit_params)\n"
     ]
    },
    {
     "name": "stdout",
     "output_type": "stream",
     "text": [
      "[CV]  n_estimators=40, max_depth=10, criterion=entropy, score=0.071, total=   0.2s\n",
      "[CV] n_estimators=40, max_depth=5, criterion=gini ....................\n",
      "[CV]  n_estimators=40, max_depth=5, criterion=gini, score=0.082, total=   0.1s\n",
      "[CV] n_estimators=40, max_depth=5, criterion=gini ....................\n",
      "[CV]  n_estimators=40, max_depth=5, criterion=gini, score=0.075, total=   0.1s\n",
      "[CV] n_estimators=40, max_depth=5, criterion=gini ....................\n"
     ]
    },
    {
     "name": "stderr",
     "output_type": "stream",
     "text": [
      "C:\\Users\\Kyle\\anaconda3\\lib\\site-packages\\sklearn\\model_selection\\_validation.py:515: DataConversionWarning: A column-vector y was passed when a 1d array was expected. Please change the shape of y to (n_samples,), for example using ravel().\n",
      "  estimator.fit(X_train, y_train, **fit_params)\n",
      "C:\\Users\\Kyle\\anaconda3\\lib\\site-packages\\sklearn\\model_selection\\_validation.py:515: DataConversionWarning: A column-vector y was passed when a 1d array was expected. Please change the shape of y to (n_samples,), for example using ravel().\n",
      "  estimator.fit(X_train, y_train, **fit_params)\n",
      "C:\\Users\\Kyle\\anaconda3\\lib\\site-packages\\sklearn\\model_selection\\_validation.py:515: DataConversionWarning: A column-vector y was passed when a 1d array was expected. Please change the shape of y to (n_samples,), for example using ravel().\n",
      "  estimator.fit(X_train, y_train, **fit_params)\n"
     ]
    },
    {
     "name": "stdout",
     "output_type": "stream",
     "text": [
      "[CV]  n_estimators=40, max_depth=5, criterion=gini, score=0.105, total=   0.1s\n",
      "[CV] n_estimators=40, max_depth=5, criterion=gini ....................\n",
      "[CV]  n_estimators=40, max_depth=5, criterion=gini, score=0.120, total=   0.1s\n",
      "[CV] n_estimators=40, max_depth=5, criterion=gini ....................\n",
      "[CV]  n_estimators=40, max_depth=5, criterion=gini, score=0.096, total=   0.1s\n",
      "[CV] n_estimators=4, max_depth=2, criterion=gini .....................\n",
      "[CV]  n_estimators=4, max_depth=2, criterion=gini, score=0.070, total=   0.0s\n",
      "[CV] n_estimators=4, max_depth=2, criterion=gini .....................\n",
      "[CV]  n_estimators=4, max_depth=2, criterion=gini, score=0.095, total=   0.0s\n",
      "[CV] n_estimators=4, max_depth=2, criterion=gini .....................\n",
      "[CV]  n_estimators=4, max_depth=2, criterion=gini, score=0.068, total=   0.0s\n",
      "[CV] n_estimators=4, max_depth=2, criterion=gini .....................\n",
      "[CV]  n_estimators=4, max_depth=2, criterion=gini, score=0.095, total=   0.0s\n",
      "[CV] n_estimators=4, max_depth=2, criterion=gini .....................\n",
      "[CV]  n_estimators=4, max_depth=2, criterion=gini, score=0.080, total=   0.0s\n",
      "[CV] n_estimators=40, max_depth=5, criterion=entropy .................\n"
     ]
    },
    {
     "name": "stderr",
     "output_type": "stream",
     "text": [
      "C:\\Users\\Kyle\\anaconda3\\lib\\site-packages\\sklearn\\model_selection\\_validation.py:515: DataConversionWarning: A column-vector y was passed when a 1d array was expected. Please change the shape of y to (n_samples,), for example using ravel().\n",
      "  estimator.fit(X_train, y_train, **fit_params)\n",
      "C:\\Users\\Kyle\\anaconda3\\lib\\site-packages\\sklearn\\model_selection\\_validation.py:515: DataConversionWarning: A column-vector y was passed when a 1d array was expected. Please change the shape of y to (n_samples,), for example using ravel().\n",
      "  estimator.fit(X_train, y_train, **fit_params)\n",
      "C:\\Users\\Kyle\\anaconda3\\lib\\site-packages\\sklearn\\model_selection\\_validation.py:515: DataConversionWarning: A column-vector y was passed when a 1d array was expected. Please change the shape of y to (n_samples,), for example using ravel().\n",
      "  estimator.fit(X_train, y_train, **fit_params)\n",
      "C:\\Users\\Kyle\\anaconda3\\lib\\site-packages\\sklearn\\model_selection\\_validation.py:515: DataConversionWarning: A column-vector y was passed when a 1d array was expected. Please change the shape of y to (n_samples,), for example using ravel().\n",
      "  estimator.fit(X_train, y_train, **fit_params)\n",
      "C:\\Users\\Kyle\\anaconda3\\lib\\site-packages\\sklearn\\model_selection\\_validation.py:515: DataConversionWarning: A column-vector y was passed when a 1d array was expected. Please change the shape of y to (n_samples,), for example using ravel().\n",
      "  estimator.fit(X_train, y_train, **fit_params)\n",
      "C:\\Users\\Kyle\\anaconda3\\lib\\site-packages\\sklearn\\model_selection\\_validation.py:515: DataConversionWarning: A column-vector y was passed when a 1d array was expected. Please change the shape of y to (n_samples,), for example using ravel().\n",
      "  estimator.fit(X_train, y_train, **fit_params)\n",
      "C:\\Users\\Kyle\\anaconda3\\lib\\site-packages\\sklearn\\model_selection\\_validation.py:515: DataConversionWarning: A column-vector y was passed when a 1d array was expected. Please change the shape of y to (n_samples,), for example using ravel().\n",
      "  estimator.fit(X_train, y_train, **fit_params)\n",
      "C:\\Users\\Kyle\\anaconda3\\lib\\site-packages\\sklearn\\model_selection\\_validation.py:515: DataConversionWarning: A column-vector y was passed when a 1d array was expected. Please change the shape of y to (n_samples,), for example using ravel().\n",
      "  estimator.fit(X_train, y_train, **fit_params)\n"
     ]
    },
    {
     "name": "stdout",
     "output_type": "stream",
     "text": [
      "[CV]  n_estimators=40, max_depth=5, criterion=entropy, score=0.075, total=   0.1s\n",
      "[CV] n_estimators=40, max_depth=5, criterion=entropy .................\n",
      "[CV]  n_estimators=40, max_depth=5, criterion=entropy, score=0.093, total=   0.1s\n",
      "[CV] n_estimators=40, max_depth=5, criterion=entropy .................\n"
     ]
    },
    {
     "name": "stderr",
     "output_type": "stream",
     "text": [
      "C:\\Users\\Kyle\\anaconda3\\lib\\site-packages\\sklearn\\model_selection\\_validation.py:515: DataConversionWarning: A column-vector y was passed when a 1d array was expected. Please change the shape of y to (n_samples,), for example using ravel().\n",
      "  estimator.fit(X_train, y_train, **fit_params)\n",
      "C:\\Users\\Kyle\\anaconda3\\lib\\site-packages\\sklearn\\model_selection\\_validation.py:515: DataConversionWarning: A column-vector y was passed when a 1d array was expected. Please change the shape of y to (n_samples,), for example using ravel().\n",
      "  estimator.fit(X_train, y_train, **fit_params)\n"
     ]
    },
    {
     "name": "stdout",
     "output_type": "stream",
     "text": [
      "[CV]  n_estimators=40, max_depth=5, criterion=entropy, score=0.091, total=   0.1s\n",
      "[CV] n_estimators=40, max_depth=5, criterion=entropy .................\n",
      "[CV]  n_estimators=40, max_depth=5, criterion=entropy, score=0.091, total=   0.1s\n",
      "[CV] n_estimators=40, max_depth=5, criterion=entropy .................\n"
     ]
    },
    {
     "name": "stderr",
     "output_type": "stream",
     "text": [
      "C:\\Users\\Kyle\\anaconda3\\lib\\site-packages\\sklearn\\model_selection\\_validation.py:515: DataConversionWarning: A column-vector y was passed when a 1d array was expected. Please change the shape of y to (n_samples,), for example using ravel().\n",
      "  estimator.fit(X_train, y_train, **fit_params)\n",
      "C:\\Users\\Kyle\\anaconda3\\lib\\site-packages\\sklearn\\model_selection\\_validation.py:515: DataConversionWarning: A column-vector y was passed when a 1d array was expected. Please change the shape of y to (n_samples,), for example using ravel().\n",
      "  estimator.fit(X_train, y_train, **fit_params)\n"
     ]
    },
    {
     "name": "stdout",
     "output_type": "stream",
     "text": [
      "[CV]  n_estimators=40, max_depth=5, criterion=entropy, score=0.089, total=   0.1s\n",
      "[CV] n_estimators=40, max_depth=2, criterion=entropy .................\n",
      "[CV]  n_estimators=40, max_depth=2, criterion=entropy, score=0.080, total=   0.1s\n",
      "[CV] n_estimators=40, max_depth=2, criterion=entropy .................\n",
      "[CV]  n_estimators=40, max_depth=2, criterion=entropy, score=0.084, total=   0.1s\n",
      "[CV] n_estimators=40, max_depth=2, criterion=entropy .................\n"
     ]
    },
    {
     "name": "stderr",
     "output_type": "stream",
     "text": [
      "C:\\Users\\Kyle\\anaconda3\\lib\\site-packages\\sklearn\\model_selection\\_validation.py:515: DataConversionWarning: A column-vector y was passed when a 1d array was expected. Please change the shape of y to (n_samples,), for example using ravel().\n",
      "  estimator.fit(X_train, y_train, **fit_params)\n",
      "C:\\Users\\Kyle\\anaconda3\\lib\\site-packages\\sklearn\\model_selection\\_validation.py:515: DataConversionWarning: A column-vector y was passed when a 1d array was expected. Please change the shape of y to (n_samples,), for example using ravel().\n",
      "  estimator.fit(X_train, y_train, **fit_params)\n",
      "C:\\Users\\Kyle\\anaconda3\\lib\\site-packages\\sklearn\\model_selection\\_validation.py:515: DataConversionWarning: A column-vector y was passed when a 1d array was expected. Please change the shape of y to (n_samples,), for example using ravel().\n",
      "  estimator.fit(X_train, y_train, **fit_params)\n"
     ]
    },
    {
     "name": "stdout",
     "output_type": "stream",
     "text": [
      "[CV]  n_estimators=40, max_depth=2, criterion=entropy, score=0.095, total=   0.1s\n",
      "[CV] n_estimators=40, max_depth=2, criterion=entropy .................\n",
      "[CV]  n_estimators=40, max_depth=2, criterion=entropy, score=0.114, total=   0.1s\n",
      "[CV] n_estimators=40, max_depth=2, criterion=entropy .................\n",
      "[CV]  n_estimators=40, max_depth=2, criterion=entropy, score=0.071, total=   0.1s\n",
      "[CV] n_estimators=8000, max_depth=5, criterion=entropy ...............\n"
     ]
    },
    {
     "name": "stderr",
     "output_type": "stream",
     "text": [
      "C:\\Users\\Kyle\\anaconda3\\lib\\site-packages\\sklearn\\model_selection\\_validation.py:515: DataConversionWarning: A column-vector y was passed when a 1d array was expected. Please change the shape of y to (n_samples,), for example using ravel().\n",
      "  estimator.fit(X_train, y_train, **fit_params)\n",
      "C:\\Users\\Kyle\\anaconda3\\lib\\site-packages\\sklearn\\model_selection\\_validation.py:515: DataConversionWarning: A column-vector y was passed when a 1d array was expected. Please change the shape of y to (n_samples,), for example using ravel().\n",
      "  estimator.fit(X_train, y_train, **fit_params)\n",
      "C:\\Users\\Kyle\\anaconda3\\lib\\site-packages\\sklearn\\model_selection\\_validation.py:515: DataConversionWarning: A column-vector y was passed when a 1d array was expected. Please change the shape of y to (n_samples,), for example using ravel().\n",
      "  estimator.fit(X_train, y_train, **fit_params)\n"
     ]
    },
    {
     "name": "stdout",
     "output_type": "stream",
     "text": [
      "[CV]  n_estimators=8000, max_depth=5, criterion=entropy, score=0.075, total=  25.5s\n",
      "[CV] n_estimators=8000, max_depth=5, criterion=entropy ...............\n"
     ]
    },
    {
     "name": "stderr",
     "output_type": "stream",
     "text": [
      "C:\\Users\\Kyle\\anaconda3\\lib\\site-packages\\sklearn\\model_selection\\_validation.py:515: DataConversionWarning: A column-vector y was passed when a 1d array was expected. Please change the shape of y to (n_samples,), for example using ravel().\n",
      "  estimator.fit(X_train, y_train, **fit_params)\n"
     ]
    },
    {
     "name": "stdout",
     "output_type": "stream",
     "text": [
      "[CV]  n_estimators=8000, max_depth=5, criterion=entropy, score=0.091, total=  25.2s\n",
      "[CV] n_estimators=8000, max_depth=5, criterion=entropy ...............\n"
     ]
    },
    {
     "name": "stderr",
     "output_type": "stream",
     "text": [
      "C:\\Users\\Kyle\\anaconda3\\lib\\site-packages\\sklearn\\model_selection\\_validation.py:515: DataConversionWarning: A column-vector y was passed when a 1d array was expected. Please change the shape of y to (n_samples,), for example using ravel().\n",
      "  estimator.fit(X_train, y_train, **fit_params)\n"
     ]
    },
    {
     "name": "stdout",
     "output_type": "stream",
     "text": [
      "[CV]  n_estimators=8000, max_depth=5, criterion=entropy, score=0.105, total=  25.5s\n",
      "[CV] n_estimators=8000, max_depth=5, criterion=entropy ...............\n"
     ]
    },
    {
     "name": "stderr",
     "output_type": "stream",
     "text": [
      "C:\\Users\\Kyle\\anaconda3\\lib\\site-packages\\sklearn\\model_selection\\_validation.py:515: DataConversionWarning: A column-vector y was passed when a 1d array was expected. Please change the shape of y to (n_samples,), for example using ravel().\n",
      "  estimator.fit(X_train, y_train, **fit_params)\n"
     ]
    },
    {
     "name": "stdout",
     "output_type": "stream",
     "text": [
      "[CV]  n_estimators=8000, max_depth=5, criterion=entropy, score=0.116, total=  25.7s\n",
      "[CV] n_estimators=8000, max_depth=5, criterion=entropy ...............\n"
     ]
    },
    {
     "name": "stderr",
     "output_type": "stream",
     "text": [
      "C:\\Users\\Kyle\\anaconda3\\lib\\site-packages\\sklearn\\model_selection\\_validation.py:515: DataConversionWarning: A column-vector y was passed when a 1d array was expected. Please change the shape of y to (n_samples,), for example using ravel().\n",
      "  estimator.fit(X_train, y_train, **fit_params)\n"
     ]
    },
    {
     "name": "stdout",
     "output_type": "stream",
     "text": [
      "[CV]  n_estimators=8000, max_depth=5, criterion=entropy, score=0.091, total=  25.3s\n",
      "[CV] n_estimators=400, max_depth=2, criterion=gini ...................\n"
     ]
    },
    {
     "name": "stderr",
     "output_type": "stream",
     "text": [
      "C:\\Users\\Kyle\\anaconda3\\lib\\site-packages\\sklearn\\model_selection\\_validation.py:515: DataConversionWarning: A column-vector y was passed when a 1d array was expected. Please change the shape of y to (n_samples,), for example using ravel().\n",
      "  estimator.fit(X_train, y_train, **fit_params)\n"
     ]
    },
    {
     "name": "stdout",
     "output_type": "stream",
     "text": [
      "[CV]  n_estimators=400, max_depth=2, criterion=gini, score=0.082, total=   0.6s\n",
      "[CV] n_estimators=400, max_depth=2, criterion=gini ...................\n"
     ]
    },
    {
     "name": "stderr",
     "output_type": "stream",
     "text": [
      "C:\\Users\\Kyle\\anaconda3\\lib\\site-packages\\sklearn\\model_selection\\_validation.py:515: DataConversionWarning: A column-vector y was passed when a 1d array was expected. Please change the shape of y to (n_samples,), for example using ravel().\n",
      "  estimator.fit(X_train, y_train, **fit_params)\n"
     ]
    },
    {
     "name": "stdout",
     "output_type": "stream",
     "text": [
      "[CV]  n_estimators=400, max_depth=2, criterion=gini, score=0.093, total=   0.6s\n",
      "[CV] n_estimators=400, max_depth=2, criterion=gini ...................\n"
     ]
    },
    {
     "name": "stderr",
     "output_type": "stream",
     "text": [
      "C:\\Users\\Kyle\\anaconda3\\lib\\site-packages\\sklearn\\model_selection\\_validation.py:515: DataConversionWarning: A column-vector y was passed when a 1d array was expected. Please change the shape of y to (n_samples,), for example using ravel().\n",
      "  estimator.fit(X_train, y_train, **fit_params)\n"
     ]
    },
    {
     "name": "stdout",
     "output_type": "stream",
     "text": [
      "[CV]  n_estimators=400, max_depth=2, criterion=gini, score=0.089, total=   0.5s\n",
      "[CV] n_estimators=400, max_depth=2, criterion=gini ...................\n"
     ]
    },
    {
     "name": "stderr",
     "output_type": "stream",
     "text": [
      "C:\\Users\\Kyle\\anaconda3\\lib\\site-packages\\sklearn\\model_selection\\_validation.py:515: DataConversionWarning: A column-vector y was passed when a 1d array was expected. Please change the shape of y to (n_samples,), for example using ravel().\n",
      "  estimator.fit(X_train, y_train, **fit_params)\n"
     ]
    },
    {
     "name": "stdout",
     "output_type": "stream",
     "text": [
      "[CV]  n_estimators=400, max_depth=2, criterion=gini, score=0.114, total=   0.5s\n",
      "[CV] n_estimators=400, max_depth=2, criterion=gini ...................\n"
     ]
    },
    {
     "name": "stderr",
     "output_type": "stream",
     "text": [
      "C:\\Users\\Kyle\\anaconda3\\lib\\site-packages\\sklearn\\model_selection\\_validation.py:515: DataConversionWarning: A column-vector y was passed when a 1d array was expected. Please change the shape of y to (n_samples,), for example using ravel().\n",
      "  estimator.fit(X_train, y_train, **fit_params)\n"
     ]
    },
    {
     "name": "stdout",
     "output_type": "stream",
     "text": [
      "[CV]  n_estimators=400, max_depth=2, criterion=gini, score=0.077, total=   0.5s\n",
      "[CV] n_estimators=4000, max_depth=2, criterion=entropy ...............\n"
     ]
    },
    {
     "name": "stderr",
     "output_type": "stream",
     "text": [
      "C:\\Users\\Kyle\\anaconda3\\lib\\site-packages\\sklearn\\model_selection\\_validation.py:515: DataConversionWarning: A column-vector y was passed when a 1d array was expected. Please change the shape of y to (n_samples,), for example using ravel().\n",
      "  estimator.fit(X_train, y_train, **fit_params)\n"
     ]
    },
    {
     "name": "stdout",
     "output_type": "stream",
     "text": [
      "[CV]  n_estimators=4000, max_depth=2, criterion=entropy, score=0.080, total=   7.2s\n",
      "[CV] n_estimators=4000, max_depth=2, criterion=entropy ...............\n"
     ]
    },
    {
     "name": "stderr",
     "output_type": "stream",
     "text": [
      "C:\\Users\\Kyle\\anaconda3\\lib\\site-packages\\sklearn\\model_selection\\_validation.py:515: DataConversionWarning: A column-vector y was passed when a 1d array was expected. Please change the shape of y to (n_samples,), for example using ravel().\n",
      "  estimator.fit(X_train, y_train, **fit_params)\n"
     ]
    },
    {
     "name": "stdout",
     "output_type": "stream",
     "text": [
      "[CV]  n_estimators=4000, max_depth=2, criterion=entropy, score=0.098, total=   7.1s\n",
      "[CV] n_estimators=4000, max_depth=2, criterion=entropy ...............\n"
     ]
    },
    {
     "name": "stderr",
     "output_type": "stream",
     "text": [
      "C:\\Users\\Kyle\\anaconda3\\lib\\site-packages\\sklearn\\model_selection\\_validation.py:515: DataConversionWarning: A column-vector y was passed when a 1d array was expected. Please change the shape of y to (n_samples,), for example using ravel().\n",
      "  estimator.fit(X_train, y_train, **fit_params)\n"
     ]
    },
    {
     "name": "stdout",
     "output_type": "stream",
     "text": [
      "[CV]  n_estimators=4000, max_depth=2, criterion=entropy, score=0.107, total=   7.1s\n",
      "[CV] n_estimators=4000, max_depth=2, criterion=entropy ...............\n"
     ]
    },
    {
     "name": "stderr",
     "output_type": "stream",
     "text": [
      "C:\\Users\\Kyle\\anaconda3\\lib\\site-packages\\sklearn\\model_selection\\_validation.py:515: DataConversionWarning: A column-vector y was passed when a 1d array was expected. Please change the shape of y to (n_samples,), for example using ravel().\n",
      "  estimator.fit(X_train, y_train, **fit_params)\n"
     ]
    },
    {
     "name": "stdout",
     "output_type": "stream",
     "text": [
      "[CV]  n_estimators=4000, max_depth=2, criterion=entropy, score=0.116, total=   7.2s\n",
      "[CV] n_estimators=4000, max_depth=2, criterion=entropy ...............\n"
     ]
    },
    {
     "name": "stderr",
     "output_type": "stream",
     "text": [
      "C:\\Users\\Kyle\\anaconda3\\lib\\site-packages\\sklearn\\model_selection\\_validation.py:515: DataConversionWarning: A column-vector y was passed when a 1d array was expected. Please change the shape of y to (n_samples,), for example using ravel().\n",
      "  estimator.fit(X_train, y_train, **fit_params)\n"
     ]
    },
    {
     "name": "stdout",
     "output_type": "stream",
     "text": [
      "[CV]  n_estimators=4000, max_depth=2, criterion=entropy, score=0.080, total=   7.2s\n",
      "[CV] n_estimators=8000, max_depth=2, criterion=entropy ...............\n"
     ]
    },
    {
     "name": "stderr",
     "output_type": "stream",
     "text": [
      "C:\\Users\\Kyle\\anaconda3\\lib\\site-packages\\sklearn\\model_selection\\_validation.py:515: DataConversionWarning: A column-vector y was passed when a 1d array was expected. Please change the shape of y to (n_samples,), for example using ravel().\n",
      "  estimator.fit(X_train, y_train, **fit_params)\n"
     ]
    },
    {
     "name": "stdout",
     "output_type": "stream",
     "text": [
      "[CV]  n_estimators=8000, max_depth=2, criterion=entropy, score=0.080, total=  14.5s\n",
      "[CV] n_estimators=8000, max_depth=2, criterion=entropy ...............\n"
     ]
    },
    {
     "name": "stderr",
     "output_type": "stream",
     "text": [
      "C:\\Users\\Kyle\\anaconda3\\lib\\site-packages\\sklearn\\model_selection\\_validation.py:515: DataConversionWarning: A column-vector y was passed when a 1d array was expected. Please change the shape of y to (n_samples,), for example using ravel().\n",
      "  estimator.fit(X_train, y_train, **fit_params)\n"
     ]
    },
    {
     "name": "stdout",
     "output_type": "stream",
     "text": [
      "[CV]  n_estimators=8000, max_depth=2, criterion=entropy, score=0.098, total=  14.3s\n",
      "[CV] n_estimators=8000, max_depth=2, criterion=entropy ...............\n"
     ]
    },
    {
     "name": "stderr",
     "output_type": "stream",
     "text": [
      "C:\\Users\\Kyle\\anaconda3\\lib\\site-packages\\sklearn\\model_selection\\_validation.py:515: DataConversionWarning: A column-vector y was passed when a 1d array was expected. Please change the shape of y to (n_samples,), for example using ravel().\n",
      "  estimator.fit(X_train, y_train, **fit_params)\n"
     ]
    },
    {
     "name": "stdout",
     "output_type": "stream",
     "text": [
      "[CV]  n_estimators=8000, max_depth=2, criterion=entropy, score=0.102, total=  14.3s\n",
      "[CV] n_estimators=8000, max_depth=2, criterion=entropy ...............\n"
     ]
    },
    {
     "name": "stderr",
     "output_type": "stream",
     "text": [
      "C:\\Users\\Kyle\\anaconda3\\lib\\site-packages\\sklearn\\model_selection\\_validation.py:515: DataConversionWarning: A column-vector y was passed when a 1d array was expected. Please change the shape of y to (n_samples,), for example using ravel().\n",
      "  estimator.fit(X_train, y_train, **fit_params)\n"
     ]
    },
    {
     "name": "stdout",
     "output_type": "stream",
     "text": [
      "[CV]  n_estimators=8000, max_depth=2, criterion=entropy, score=0.109, total=  14.3s\n",
      "[CV] n_estimators=8000, max_depth=2, criterion=entropy ...............\n"
     ]
    },
    {
     "name": "stderr",
     "output_type": "stream",
     "text": [
      "C:\\Users\\Kyle\\anaconda3\\lib\\site-packages\\sklearn\\model_selection\\_validation.py:515: DataConversionWarning: A column-vector y was passed when a 1d array was expected. Please change the shape of y to (n_samples,), for example using ravel().\n",
      "  estimator.fit(X_train, y_train, **fit_params)\n"
     ]
    },
    {
     "name": "stdout",
     "output_type": "stream",
     "text": [
      "[CV]  n_estimators=8000, max_depth=2, criterion=entropy, score=0.082, total=  14.2s\n",
      "[CV] n_estimators=4, max_depth=5, criterion=gini .....................\n",
      "[CV]  n_estimators=4, max_depth=5, criterion=gini, score=0.070, total=   0.0s\n",
      "[CV] n_estimators=4, max_depth=5, criterion=gini .....................\n",
      "[CV]  n_estimators=4, max_depth=5, criterion=gini, score=0.077, total=   0.0s\n",
      "[CV] n_estimators=4, max_depth=5, criterion=gini .....................\n",
      "[CV]  n_estimators=4, max_depth=5, criterion=gini, score=0.091, total=   0.0s\n",
      "[CV] n_estimators=4, max_depth=5, criterion=gini .....................\n",
      "[CV]  n_estimators=4, max_depth=5, criterion=gini, score=0.114, total=   0.0s\n",
      "[CV] n_estimators=4, max_depth=5, criterion=gini .....................\n",
      "[CV]  n_estimators=4, max_depth=5, criterion=gini, score=0.075, total=   0.0s\n"
     ]
    },
    {
     "name": "stderr",
     "output_type": "stream",
     "text": [
      "C:\\Users\\Kyle\\anaconda3\\lib\\site-packages\\sklearn\\model_selection\\_validation.py:515: DataConversionWarning: A column-vector y was passed when a 1d array was expected. Please change the shape of y to (n_samples,), for example using ravel().\n",
      "  estimator.fit(X_train, y_train, **fit_params)\n",
      "C:\\Users\\Kyle\\anaconda3\\lib\\site-packages\\sklearn\\model_selection\\_validation.py:515: DataConversionWarning: A column-vector y was passed when a 1d array was expected. Please change the shape of y to (n_samples,), for example using ravel().\n",
      "  estimator.fit(X_train, y_train, **fit_params)\n",
      "C:\\Users\\Kyle\\anaconda3\\lib\\site-packages\\sklearn\\model_selection\\_validation.py:515: DataConversionWarning: A column-vector y was passed when a 1d array was expected. Please change the shape of y to (n_samples,), for example using ravel().\n",
      "  estimator.fit(X_train, y_train, **fit_params)\n",
      "C:\\Users\\Kyle\\anaconda3\\lib\\site-packages\\sklearn\\model_selection\\_validation.py:515: DataConversionWarning: A column-vector y was passed when a 1d array was expected. Please change the shape of y to (n_samples,), for example using ravel().\n",
      "  estimator.fit(X_train, y_train, **fit_params)\n",
      "C:\\Users\\Kyle\\anaconda3\\lib\\site-packages\\sklearn\\model_selection\\_validation.py:515: DataConversionWarning: A column-vector y was passed when a 1d array was expected. Please change the shape of y to (n_samples,), for example using ravel().\n",
      "  estimator.fit(X_train, y_train, **fit_params)\n",
      "[Parallel(n_jobs=1)]: Done  50 out of  50 | elapsed:  4.0min finished\n",
      "C:\\Users\\Kyle\\anaconda3\\lib\\site-packages\\sklearn\\model_selection\\_search.py:739: DataConversionWarning: A column-vector y was passed when a 1d array was expected. Please change the shape of y to (n_samples,), for example using ravel().\n",
      "  self.best_estimator_.fit(X, y, **fit_params)\n"
     ]
    },
    {
     "data": {
      "text/plain": [
       "RandomizedSearchCV(cv=None, error_score=nan,\n",
       "                   estimator=RandomForestClassifier(bootstrap=True,\n",
       "                                                    ccp_alpha=0.0,\n",
       "                                                    class_weight=None,\n",
       "                                                    criterion='entropy',\n",
       "                                                    max_depth=5,\n",
       "                                                    max_features='auto',\n",
       "                                                    max_leaf_nodes=None,\n",
       "                                                    max_samples=None,\n",
       "                                                    min_impurity_decrease=0.0,\n",
       "                                                    min_impurity_split=None,\n",
       "                                                    min_samples_leaf=1,\n",
       "                                                    min_samples_split=2,\n",
       "                                                    min_weight_fraction_leaf=0.0,\n",
       "                                                    n_estimators=4000,\n",
       "                                                    n_jobs=None,\n",
       "                                                    oob_score=False,\n",
       "                                                    random_state=None,\n",
       "                                                    verbose=0,\n",
       "                                                    warm_start=False),\n",
       "                   iid='deprecated', n_iter=10, n_jobs=None,\n",
       "                   param_distributions={'criterion': ['gini', 'entropy'],\n",
       "                                        'max_depth': [2, 5, 10],\n",
       "                                        'n_estimators': [4, 40, 400, 4000,\n",
       "                                                         8000]},\n",
       "                   pre_dispatch='2*n_jobs', random_state=None, refit=True,\n",
       "                   return_train_score=False, scoring=None, verbose=3)"
      ]
     },
     "execution_count": 97,
     "metadata": {},
     "output_type": "execute_result"
    }
   ],
   "source": [
    "# Train the model with GridSearch\n",
    "grid.fit(X_train,y_train)"
   ]
  },
  {
   "cell_type": "code",
   "execution_count": 98,
   "metadata": {},
   "outputs": [
    {
     "data": {
      "text/plain": [
       "0.09594533029612755"
      ]
     },
     "execution_count": 98,
     "metadata": {},
     "output_type": "execute_result"
    }
   ],
   "source": [
    "grid.best_score_"
   ]
  },
  {
   "cell_type": "code",
   "execution_count": 166,
   "metadata": {},
   "outputs": [],
   "source": [
    "ys = grid.predict(X_test)"
   ]
  },
  {
   "cell_type": "code",
   "execution_count": 167,
   "metadata": {},
   "outputs": [],
   "source": [
    "resids = (ys - y_test)**2"
   ]
  },
  {
   "cell_type": "code",
   "execution_count": 168,
   "metadata": {},
   "outputs": [
    {
     "data": {
      "text/plain": [
       "9.918588590639681"
      ]
     },
     "execution_count": 168,
     "metadata": {},
     "output_type": "execute_result"
    }
   ],
   "source": [
    "pd.Series(resids.reshape(-1)).apply(math.sqrt).mean()"
   ]
  },
  {
   "cell_type": "code",
   "execution_count": 169,
   "metadata": {},
   "outputs": [],
   "source": [
    "from sklearn.metrics import r2_score"
   ]
  },
  {
   "cell_type": "code",
   "execution_count": 170,
   "metadata": {},
   "outputs": [
    {
     "data": {
      "text/plain": [
       "0.214525684460524"
      ]
     },
     "execution_count": 170,
     "metadata": {},
     "output_type": "execute_result"
    }
   ],
   "source": [
    "r2_score(y_test, ys)"
   ]
  },
  {
   "cell_type": "code",
   "execution_count": 99,
   "metadata": {},
   "outputs": [],
   "source": [
    "rf2 = RandomForestClassifier(n_estimators=40, criterion=\"gini\", max_depth=5)"
   ]
  },
  {
   "cell_type": "code",
   "execution_count": 100,
   "metadata": {},
   "outputs": [
    {
     "name": "stderr",
     "output_type": "stream",
     "text": [
      "C:\\Users\\Kyle\\anaconda3\\lib\\site-packages\\ipykernel_launcher.py:1: DataConversionWarning: A column-vector y was passed when a 1d array was expected. Please change the shape of y to (n_samples,), for example using ravel().\n",
      "  \"\"\"Entry point for launching an IPython kernel.\n"
     ]
    },
    {
     "data": {
      "text/plain": [
       "RandomForestClassifier(bootstrap=True, ccp_alpha=0.0, class_weight=None,\n",
       "                       criterion='gini', max_depth=5, max_features='auto',\n",
       "                       max_leaf_nodes=None, max_samples=None,\n",
       "                       min_impurity_decrease=0.0, min_impurity_split=None,\n",
       "                       min_samples_leaf=1, min_samples_split=2,\n",
       "                       min_weight_fraction_leaf=0.0, n_estimators=40,\n",
       "                       n_jobs=None, oob_score=False, random_state=None,\n",
       "                       verbose=0, warm_start=False)"
      ]
     },
     "execution_count": 100,
     "metadata": {},
     "output_type": "execute_result"
    }
   ],
   "source": [
    "rf2.fit(X_train, y_train)"
   ]
  },
  {
   "cell_type": "code",
   "execution_count": 101,
   "metadata": {},
   "outputs": [
    {
     "data": {
      "text/plain": [
       "0.24874943155979992"
      ]
     },
     "execution_count": 101,
     "metadata": {},
     "output_type": "execute_result"
    }
   ],
   "source": [
    "rf2.score(X_train, y_train)"
   ]
  },
  {
   "cell_type": "code",
   "execution_count": 102,
   "metadata": {},
   "outputs": [
    {
     "data": {
      "text/plain": [
       "0.07776261937244201"
      ]
     },
     "execution_count": 102,
     "metadata": {},
     "output_type": "execute_result"
    }
   ],
   "source": [
    "rf2.score(X_test, y_test)"
   ]
  },
  {
   "cell_type": "code",
   "execution_count": 103,
   "metadata": {},
   "outputs": [],
   "source": [
    "y_pred = rf2.predict(X_test)"
   ]
  },
  {
   "cell_type": "code",
   "execution_count": 104,
   "metadata": {},
   "outputs": [],
   "source": [
    "sq_resid = (y_pred - y_test)**2"
   ]
  },
  {
   "cell_type": "code",
   "execution_count": 105,
   "metadata": {},
   "outputs": [
    {
     "data": {
      "text/plain": [
       "9.431611292991295"
      ]
     },
     "execution_count": 105,
     "metadata": {},
     "output_type": "execute_result"
    }
   ],
   "source": [
    "# The Mean Squared Error\n",
    "pd.Series(sq_resid.reshape(-1)).apply(math.sqrt).mean()"
   ]
  },
  {
   "cell_type": "markdown",
   "metadata": {},
   "source": [
    "## Model 5:\n",
    "### FPI, Yards, Turnovers + Expected Points Added per Play (EPA) and Success Rate for Offense overall and Pass EPA vs. Run EPA"
   ]
  },
  {
   "cell_type": "code",
   "execution_count": 106,
   "metadata": {},
   "outputs": [
    {
     "data": {
      "text/plain": [
       "Index(['Year', 'Week_x', 'Abbr_RDBMS_Winner', 'Week2', 'Day', 'Date', 'Time',\n",
       "       'Home_Team', 'FINAL_TEAM_NAME', 'Opponent', 'TEAM_POINTS', 'TEAM_YARDS',\n",
       "       'TEAM_TURNOVERS', 'TEAM_TURNOVER_DIFFERENTIAL', 'OPPONENTS_POINTS',\n",
       "       'OPPONENTS_YARDS', 'OPPONENTS_TURNOVERS',\n",
       "       'OPPONENTS_TURNOVER_DIFFERENTIAL', 'TEAM_POINT_MARGIN', 'GAMEID',\n",
       "       'BINARY_WIN', 'W-L-T', 'Power Index FPI', 'Power Index RK',\n",
       "       'Power Index TREND', 'Power Index OFF', 'Power Index DEF',\n",
       "       'Power Index ST', 'Ranks SOS', 'Ranks REM SOS', 'Ranks AVGWP',\n",
       "       'DIVISION_538_Winner', 'ELO WITH QB_538_Winner',\n",
       "       'ELO CHANGE_538_Winner', 'CURRENT QB ADJ_538_Winner',\n",
       "       'Points_Diff_538_Winner', 'Playoffs_Prob_538_Winner',\n",
       "       'Division_Prob_538_Winner', 'Bye_Prob_538_Winner', 'SB_Prob_538_Winner',\n",
       "       'REAL_WINS2_538_Winner', 'REAL_LOSSES2_538_Winner',\n",
       "       'REAL_TIES_538_Winner', 'PROJ_WINS4_538_Winner',\n",
       "       'PROJ_LOSS4_538_Winner', 'EPA/play_RDBMS_Winner',\n",
       "       'OVR_SUCCESS_RATE_RDBMS_Winner', 'Dropback EPA_RDBMS_Winner',\n",
       "       'DROPBACK_SR_RDBMS_Winner', 'Rush EPA_RDBMS_Winner',\n",
       "       'RUN_SR_RDBMS_Winner', 'TOTAL DVOA_FO_WEEKLY_Winner',\n",
       "       'LAST WEEK_FO_WEEKLY_Winner', 'DAVE_WEI_DVOA_FO_WEEKLY_Winner',\n",
       "       'OFFENSE DVOA_FO_WEEKLY_Winner', 'DEFENSE DVOA_FO_WEEKLY_Winner',\n",
       "       'S.T. DVOA_FO_WEEKLY_Winner', 'RK_FO_ANNUAL_Winner',\n",
       "       'TOTAL DVOA_FO_ANNUAL_Winner', 'DAVE_WEI_DVOA_FO_ANNUAL_Winner',\n",
       "       'OFFENSE DVOA_FO_ANNUAL_Winner', 'DEFENSE DVOA_FO_ANNUAL_Winner',\n",
       "       'S.T. DVOA_FO_ANNUAL_Winner', 'non-adj VOA_FO_ANNUAL_Winner',\n",
       "       'Last Year_FO_ANNUAL_Winner', 'ESTIM. WINS_FO_ANNUAL_Winner',\n",
       "       'SCHEDULE RANK_FO_ANNUAL_Winner', 'VAR._FO_ANNUAL_Winner',\n",
       "       'TOTAL_GAME_POINTS', 'TOTAL_GAME_YARDS', 'TOTAL_GAME_TURNOVERS',\n",
       "       'PLAYOFFS_BINARY', 'GAME_TYPE', 'FINAL_TEAM_NAME_Opp',\n",
       "       'Power Index DEF_Opp'],\n",
       "      dtype='object')"
      ]
     },
     "execution_count": 106,
     "metadata": {},
     "output_type": "execute_result"
    }
   ],
   "source": [
    "allTheStats3.columns"
   ]
  },
  {
   "cell_type": "code",
   "execution_count": 107,
   "metadata": {},
   "outputs": [],
   "source": [
    "model_values=allTheStats3.loc[:, [\"TEAM_POINTS\", \"Power Index FPI\", 'Power Index OFF','Power Index DEF_Opp', 'Power Index ST', 'Ranks SOS', 'Ranks AVGWP',\n",
    "                                 \"TEAM_YARDS\", \"TEAM_TURNOVERS\",  'EPA/play_RDBMS_Winner', 'OVR_SUCCESS_RATE_RDBMS_Winner', 'Dropback EPA_RDBMS_Winner',\n",
    "                                  'DROPBACK_SR_RDBMS_Winner', 'Rush EPA_RDBMS_Winner', 'RUN_SR_RDBMS_Winner']]"
   ]
  },
  {
   "cell_type": "code",
   "execution_count": 108,
   "metadata": {},
   "outputs": [
    {
     "name": "stdout",
     "output_type": "stream",
     "text": [
      "<class 'pandas.core.frame.DataFrame'>\n",
      "Int64Index: 2932 entries, 0 to 2931\n",
      "Data columns (total 15 columns):\n",
      " #   Column                         Non-Null Count  Dtype  \n",
      "---  ------                         --------------  -----  \n",
      " 0   TEAM_POINTS                    2932 non-null   int64  \n",
      " 1   Power Index FPI                2932 non-null   float64\n",
      " 2   Power Index OFF                2932 non-null   float64\n",
      " 3   Power Index DEF_Opp            2932 non-null   float64\n",
      " 4   Power Index ST                 2932 non-null   float64\n",
      " 5   Ranks SOS                      2932 non-null   int64  \n",
      " 6   Ranks AVGWP                    2932 non-null   int64  \n",
      " 7   TEAM_YARDS                     2932 non-null   int64  \n",
      " 8   TEAM_TURNOVERS                 2932 non-null   int64  \n",
      " 9   EPA/play_RDBMS_Winner          2932 non-null   float64\n",
      " 10  OVR_SUCCESS_RATE_RDBMS_Winner  2932 non-null   float64\n",
      " 11  Dropback EPA_RDBMS_Winner      2932 non-null   float64\n",
      " 12  DROPBACK_SR_RDBMS_Winner       2932 non-null   float64\n",
      " 13  Rush EPA_RDBMS_Winner          2932 non-null   float64\n",
      " 14  RUN_SR_RDBMS_Winner            2932 non-null   float64\n",
      "dtypes: float64(10), int64(5)\n",
      "memory usage: 366.5 KB\n"
     ]
    }
   ],
   "source": [
    "model_values.info()"
   ]
  },
  {
   "cell_type": "code",
   "execution_count": null,
   "metadata": {},
   "outputs": [],
   "source": []
  },
  {
   "cell_type": "code",
   "execution_count": 109,
   "metadata": {},
   "outputs": [],
   "source": [
    "model_5= sklearn.linear_model.LinearRegression(normalize=True)"
   ]
  },
  {
   "cell_type": "code",
   "execution_count": null,
   "metadata": {},
   "outputs": [],
   "source": []
  },
  {
   "cell_type": "code",
   "execution_count": 110,
   "metadata": {},
   "outputs": [],
   "source": [
    "X = model_values.iloc[:,1:].values\n",
    "y = model_values.iloc[:,0].values"
   ]
  },
  {
   "cell_type": "code",
   "execution_count": null,
   "metadata": {},
   "outputs": [],
   "source": []
  },
  {
   "cell_type": "code",
   "execution_count": 111,
   "metadata": {},
   "outputs": [],
   "source": [
    "X_train, X_test, y_train, y_test = train_test_split(X,y)\n",
    "#X_train = X_train.reshape(-1)\n",
    "#X_test = X_test.reshape(-1)\n",
    "y_train = y_train.reshape(-1, 1)\n",
    "y_test = y_test.reshape(-1, 1)"
   ]
  },
  {
   "cell_type": "code",
   "execution_count": 112,
   "metadata": {},
   "outputs": [
    {
     "data": {
      "text/plain": [
       "LinearRegression(copy_X=True, fit_intercept=True, n_jobs=None, normalize=True)"
      ]
     },
     "execution_count": 112,
     "metadata": {},
     "output_type": "execute_result"
    }
   ],
   "source": [
    "model_5.fit(X_train, y_train)"
   ]
  },
  {
   "cell_type": "code",
   "execution_count": 113,
   "metadata": {},
   "outputs": [
    {
     "data": {
      "text/plain": [
       "0.6248639025345639"
      ]
     },
     "execution_count": 113,
     "metadata": {},
     "output_type": "execute_result"
    }
   ],
   "source": [
    "#R_sq Score\n",
    "model_5.score(X_train, y_train)"
   ]
  },
  {
   "cell_type": "code",
   "execution_count": 114,
   "metadata": {},
   "outputs": [
    {
     "data": {
      "text/plain": [
       "0.612299807470251"
      ]
     },
     "execution_count": 114,
     "metadata": {},
     "output_type": "execute_result"
    }
   ],
   "source": [
    "model_5.score(X_test, y_test)"
   ]
  },
  {
   "cell_type": "code",
   "execution_count": 115,
   "metadata": {},
   "outputs": [
    {
     "data": {
      "text/plain": [
       "array([19.25145464])"
      ]
     },
     "execution_count": 115,
     "metadata": {},
     "output_type": "execute_result"
    }
   ],
   "source": [
    "model_5.intercept_"
   ]
  },
  {
   "cell_type": "code",
   "execution_count": 116,
   "metadata": {},
   "outputs": [
    {
     "data": {
      "text/plain": [
       "array([[ 1.37686281e-01, -7.08405747e-02, -6.34908984e-02,\n",
       "         6.95595163e-01,  3.26944863e-02, -4.09261346e-02,\n",
       "         2.15664307e-02,  5.02436037e-01,  2.74083846e+01,\n",
       "        -2.43643998e+01,  4.94395420e+00,  9.57538835e+00,\n",
       "         2.60905471e+00,  4.11135591e+00]])"
      ]
     },
     "execution_count": 116,
     "metadata": {},
     "output_type": "execute_result"
    }
   ],
   "source": [
    "model_5.coef_"
   ]
  },
  {
   "cell_type": "code",
   "execution_count": 117,
   "metadata": {},
   "outputs": [
    {
     "data": {
      "text/html": [
       "<div>\n",
       "<style scoped>\n",
       "    .dataframe tbody tr th:only-of-type {\n",
       "        vertical-align: middle;\n",
       "    }\n",
       "\n",
       "    .dataframe tbody tr th {\n",
       "        vertical-align: top;\n",
       "    }\n",
       "\n",
       "    .dataframe thead th {\n",
       "        text-align: right;\n",
       "    }\n",
       "</style>\n",
       "<table border=\"1\" class=\"dataframe\">\n",
       "  <thead>\n",
       "    <tr style=\"text-align: right;\">\n",
       "      <th></th>\n",
       "      <th>TEAM_POINTS</th>\n",
       "      <th>Power Index FPI</th>\n",
       "      <th>Power Index OFF</th>\n",
       "      <th>Power Index DEF_Opp</th>\n",
       "      <th>Power Index ST</th>\n",
       "      <th>Ranks SOS</th>\n",
       "      <th>Ranks AVGWP</th>\n",
       "      <th>TEAM_YARDS</th>\n",
       "      <th>TEAM_TURNOVERS</th>\n",
       "      <th>EPA/play_RDBMS_Winner</th>\n",
       "      <th>OVR_SUCCESS_RATE_RDBMS_Winner</th>\n",
       "      <th>Dropback EPA_RDBMS_Winner</th>\n",
       "      <th>DROPBACK_SR_RDBMS_Winner</th>\n",
       "      <th>Rush EPA_RDBMS_Winner</th>\n",
       "      <th>RUN_SR_RDBMS_Winner</th>\n",
       "    </tr>\n",
       "  </thead>\n",
       "  <tbody>\n",
       "    <tr>\n",
       "      <th>0</th>\n",
       "      <td>24</td>\n",
       "      <td>-2.0</td>\n",
       "      <td>0.9</td>\n",
       "      <td>-2.7</td>\n",
       "      <td>-0.5</td>\n",
       "      <td>15</td>\n",
       "      <td>13</td>\n",
       "      <td>349</td>\n",
       "      <td>0</td>\n",
       "      <td>0.180</td>\n",
       "      <td>0.468</td>\n",
       "      <td>0.257</td>\n",
       "      <td>0.500</td>\n",
       "      <td>-0.041</td>\n",
       "      <td>0.375</td>\n",
       "    </tr>\n",
       "    <tr>\n",
       "      <th>1</th>\n",
       "      <td>20</td>\n",
       "      <td>-2.6</td>\n",
       "      <td>0.1</td>\n",
       "      <td>-2.4</td>\n",
       "      <td>0.0</td>\n",
       "      <td>12</td>\n",
       "      <td>27</td>\n",
       "      <td>345</td>\n",
       "      <td>3</td>\n",
       "      <td>-0.008</td>\n",
       "      <td>0.442</td>\n",
       "      <td>-0.009</td>\n",
       "      <td>0.483</td>\n",
       "      <td>-0.007</td>\n",
       "      <td>0.391</td>\n",
       "    </tr>\n",
       "    <tr>\n",
       "      <th>2</th>\n",
       "      <td>34</td>\n",
       "      <td>-2.6</td>\n",
       "      <td>0.1</td>\n",
       "      <td>-2.4</td>\n",
       "      <td>0.0</td>\n",
       "      <td>12</td>\n",
       "      <td>27</td>\n",
       "      <td>444</td>\n",
       "      <td>1</td>\n",
       "      <td>0.053</td>\n",
       "      <td>0.436</td>\n",
       "      <td>0.227</td>\n",
       "      <td>0.543</td>\n",
       "      <td>-0.198</td>\n",
       "      <td>0.281</td>\n",
       "    </tr>\n",
       "    <tr>\n",
       "      <th>3</th>\n",
       "      <td>37</td>\n",
       "      <td>-2.0</td>\n",
       "      <td>0.9</td>\n",
       "      <td>-2.7</td>\n",
       "      <td>-0.5</td>\n",
       "      <td>15</td>\n",
       "      <td>13</td>\n",
       "      <td>546</td>\n",
       "      <td>3</td>\n",
       "      <td>0.151</td>\n",
       "      <td>0.476</td>\n",
       "      <td>0.286</td>\n",
       "      <td>0.491</td>\n",
       "      <td>-0.095</td>\n",
       "      <td>0.448</td>\n",
       "    </tr>\n",
       "    <tr>\n",
       "      <th>4</th>\n",
       "      <td>24</td>\n",
       "      <td>-2.8</td>\n",
       "      <td>-0.4</td>\n",
       "      <td>-2.7</td>\n",
       "      <td>-0.2</td>\n",
       "      <td>25</td>\n",
       "      <td>10</td>\n",
       "      <td>374</td>\n",
       "      <td>1</td>\n",
       "      <td>0.195</td>\n",
       "      <td>0.551</td>\n",
       "      <td>0.428</td>\n",
       "      <td>0.676</td>\n",
       "      <td>-0.075</td>\n",
       "      <td>0.406</td>\n",
       "    </tr>\n",
       "    <tr>\n",
       "      <th>...</th>\n",
       "      <td>...</td>\n",
       "      <td>...</td>\n",
       "      <td>...</td>\n",
       "      <td>...</td>\n",
       "      <td>...</td>\n",
       "      <td>...</td>\n",
       "      <td>...</td>\n",
       "      <td>...</td>\n",
       "      <td>...</td>\n",
       "      <td>...</td>\n",
       "      <td>...</td>\n",
       "      <td>...</td>\n",
       "      <td>...</td>\n",
       "      <td>...</td>\n",
       "      <td>...</td>\n",
       "    </tr>\n",
       "    <tr>\n",
       "      <th>2927</th>\n",
       "      <td>31</td>\n",
       "      <td>1.9</td>\n",
       "      <td>2.4</td>\n",
       "      <td>-2.2</td>\n",
       "      <td>-0.5</td>\n",
       "      <td>9</td>\n",
       "      <td>17</td>\n",
       "      <td>444</td>\n",
       "      <td>1</td>\n",
       "      <td>0.057</td>\n",
       "      <td>0.453</td>\n",
       "      <td>0.204</td>\n",
       "      <td>0.484</td>\n",
       "      <td>-0.081</td>\n",
       "      <td>0.424</td>\n",
       "    </tr>\n",
       "    <tr>\n",
       "      <th>2928</th>\n",
       "      <td>42</td>\n",
       "      <td>1.9</td>\n",
       "      <td>2.2</td>\n",
       "      <td>-2.2</td>\n",
       "      <td>-0.2</td>\n",
       "      <td>16</td>\n",
       "      <td>5</td>\n",
       "      <td>334</td>\n",
       "      <td>0</td>\n",
       "      <td>0.030</td>\n",
       "      <td>0.514</td>\n",
       "      <td>0.018</td>\n",
       "      <td>0.560</td>\n",
       "      <td>0.060</td>\n",
       "      <td>0.400</td>\n",
       "    </tr>\n",
       "    <tr>\n",
       "      <th>2929</th>\n",
       "      <td>42</td>\n",
       "      <td>-2.4</td>\n",
       "      <td>1.6</td>\n",
       "      <td>-2.2</td>\n",
       "      <td>0.2</td>\n",
       "      <td>7</td>\n",
       "      <td>27</td>\n",
       "      <td>607</td>\n",
       "      <td>2</td>\n",
       "      <td>0.299</td>\n",
       "      <td>0.478</td>\n",
       "      <td>0.567</td>\n",
       "      <td>0.581</td>\n",
       "      <td>-0.144</td>\n",
       "      <td>0.308</td>\n",
       "    </tr>\n",
       "    <tr>\n",
       "      <th>2930</th>\n",
       "      <td>38</td>\n",
       "      <td>4.7</td>\n",
       "      <td>6.4</td>\n",
       "      <td>5.1</td>\n",
       "      <td>-0.4</td>\n",
       "      <td>2</td>\n",
       "      <td>3</td>\n",
       "      <td>324</td>\n",
       "      <td>0</td>\n",
       "      <td>-0.314</td>\n",
       "      <td>0.339</td>\n",
       "      <td>-0.366</td>\n",
       "      <td>0.357</td>\n",
       "      <td>-0.205</td>\n",
       "      <td>0.300</td>\n",
       "    </tr>\n",
       "    <tr>\n",
       "      <th>2931</th>\n",
       "      <td>25</td>\n",
       "      <td>-5.4</td>\n",
       "      <td>-3.6</td>\n",
       "      <td>5.1</td>\n",
       "      <td>0.1</td>\n",
       "      <td>11</td>\n",
       "      <td>22</td>\n",
       "      <td>344</td>\n",
       "      <td>1</td>\n",
       "      <td>0.005</td>\n",
       "      <td>0.431</td>\n",
       "      <td>0.090</td>\n",
       "      <td>0.479</td>\n",
       "      <td>-0.166</td>\n",
       "      <td>0.333</td>\n",
       "    </tr>\n",
       "  </tbody>\n",
       "</table>\n",
       "<p>2932 rows × 15 columns</p>\n",
       "</div>"
      ],
      "text/plain": [
       "      TEAM_POINTS  Power Index FPI  Power Index OFF  Power Index DEF_Opp  \\\n",
       "0              24             -2.0              0.9                 -2.7   \n",
       "1              20             -2.6              0.1                 -2.4   \n",
       "2              34             -2.6              0.1                 -2.4   \n",
       "3              37             -2.0              0.9                 -2.7   \n",
       "4              24             -2.8             -0.4                 -2.7   \n",
       "...           ...              ...              ...                  ...   \n",
       "2927           31              1.9              2.4                 -2.2   \n",
       "2928           42              1.9              2.2                 -2.2   \n",
       "2929           42             -2.4              1.6                 -2.2   \n",
       "2930           38              4.7              6.4                  5.1   \n",
       "2931           25             -5.4             -3.6                  5.1   \n",
       "\n",
       "      Power Index ST  Ranks SOS  Ranks AVGWP  TEAM_YARDS  TEAM_TURNOVERS  \\\n",
       "0               -0.5         15           13         349               0   \n",
       "1                0.0         12           27         345               3   \n",
       "2                0.0         12           27         444               1   \n",
       "3               -0.5         15           13         546               3   \n",
       "4               -0.2         25           10         374               1   \n",
       "...              ...        ...          ...         ...             ...   \n",
       "2927            -0.5          9           17         444               1   \n",
       "2928            -0.2         16            5         334               0   \n",
       "2929             0.2          7           27         607               2   \n",
       "2930            -0.4          2            3         324               0   \n",
       "2931             0.1         11           22         344               1   \n",
       "\n",
       "      EPA/play_RDBMS_Winner  OVR_SUCCESS_RATE_RDBMS_Winner  \\\n",
       "0                     0.180                          0.468   \n",
       "1                    -0.008                          0.442   \n",
       "2                     0.053                          0.436   \n",
       "3                     0.151                          0.476   \n",
       "4                     0.195                          0.551   \n",
       "...                     ...                            ...   \n",
       "2927                  0.057                          0.453   \n",
       "2928                  0.030                          0.514   \n",
       "2929                  0.299                          0.478   \n",
       "2930                 -0.314                          0.339   \n",
       "2931                  0.005                          0.431   \n",
       "\n",
       "      Dropback EPA_RDBMS_Winner  DROPBACK_SR_RDBMS_Winner  \\\n",
       "0                         0.257                     0.500   \n",
       "1                        -0.009                     0.483   \n",
       "2                         0.227                     0.543   \n",
       "3                         0.286                     0.491   \n",
       "4                         0.428                     0.676   \n",
       "...                         ...                       ...   \n",
       "2927                      0.204                     0.484   \n",
       "2928                      0.018                     0.560   \n",
       "2929                      0.567                     0.581   \n",
       "2930                     -0.366                     0.357   \n",
       "2931                      0.090                     0.479   \n",
       "\n",
       "      Rush EPA_RDBMS_Winner  RUN_SR_RDBMS_Winner  \n",
       "0                    -0.041                0.375  \n",
       "1                    -0.007                0.391  \n",
       "2                    -0.198                0.281  \n",
       "3                    -0.095                0.448  \n",
       "4                    -0.075                0.406  \n",
       "...                     ...                  ...  \n",
       "2927                 -0.081                0.424  \n",
       "2928                  0.060                0.400  \n",
       "2929                 -0.144                0.308  \n",
       "2930                 -0.205                0.300  \n",
       "2931                 -0.166                0.333  \n",
       "\n",
       "[2932 rows x 15 columns]"
      ]
     },
     "execution_count": 117,
     "metadata": {},
     "output_type": "execute_result"
    }
   ],
   "source": [
    "model_values"
   ]
  },
  {
   "cell_type": "code",
   "execution_count": 118,
   "metadata": {},
   "outputs": [],
   "source": [
    "y_pred = model_5.predict(X_test)"
   ]
  },
  {
   "cell_type": "code",
   "execution_count": 119,
   "metadata": {},
   "outputs": [],
   "source": [
    "sq_resid = (y_pred - y_test)**2"
   ]
  },
  {
   "cell_type": "code",
   "execution_count": 120,
   "metadata": {},
   "outputs": [
    {
     "data": {
      "text/plain": [
       "4.7839731537685095"
      ]
     },
     "execution_count": 120,
     "metadata": {},
     "output_type": "execute_result"
    }
   ],
   "source": [
    "# The Mean Squared Error\n",
    "pd.Series(sq_resid.reshape(-1)).apply(math.sqrt).mean()"
   ]
  },
  {
   "cell_type": "code",
   "execution_count": 123,
   "metadata": {},
   "outputs": [],
   "source": [
    "# Grid Search\n",
    "from sklearn.model_selection import GridSearchCV\n",
    "params = {'fit_intercept':[True,False], 'normalize':[True,False], 'copy_X':[True, False]}\n",
    "grid = GridSearchCV(model_5, params, verbose=3)"
   ]
  },
  {
   "cell_type": "code",
   "execution_count": 124,
   "metadata": {},
   "outputs": [
    {
     "name": "stdout",
     "output_type": "stream",
     "text": [
      "Fitting 5 folds for each of 8 candidates, totalling 40 fits\n",
      "[CV] copy_X=True, fit_intercept=True, normalize=True .................\n",
      "[CV]  copy_X=True, fit_intercept=True, normalize=True, score=0.634, total=   0.0s\n",
      "[CV] copy_X=True, fit_intercept=True, normalize=True .................\n",
      "[CV]  copy_X=True, fit_intercept=True, normalize=True, score=0.625, total=   0.0s\n",
      "[CV] copy_X=True, fit_intercept=True, normalize=True .................\n",
      "[CV]  copy_X=True, fit_intercept=True, normalize=True, score=0.586, total=   0.0s\n",
      "[CV] copy_X=True, fit_intercept=True, normalize=True .................\n",
      "[CV]  copy_X=True, fit_intercept=True, normalize=True, score=0.615, total=   0.0s\n",
      "[CV] copy_X=True, fit_intercept=True, normalize=True .................\n",
      "[CV]  copy_X=True, fit_intercept=True, normalize=True, score=0.634, total=   0.0s\n",
      "[CV] copy_X=True, fit_intercept=True, normalize=False ................\n",
      "[CV]  copy_X=True, fit_intercept=True, normalize=False, score=0.634, total=   0.0s\n",
      "[CV] copy_X=True, fit_intercept=True, normalize=False ................\n",
      "[CV]  copy_X=True, fit_intercept=True, normalize=False, score=0.625, total=   0.0s\n",
      "[CV] copy_X=True, fit_intercept=True, normalize=False ................\n",
      "[CV]  copy_X=True, fit_intercept=True, normalize=False, score=0.586, total=   0.0s\n",
      "[CV] copy_X=True, fit_intercept=True, normalize=False ................\n",
      "[CV]  copy_X=True, fit_intercept=True, normalize=False, score=0.615, total=   0.0s\n",
      "[CV] copy_X=True, fit_intercept=True, normalize=False ................\n",
      "[CV]  copy_X=True, fit_intercept=True, normalize=False, score=0.634, total=   0.0s\n",
      "[CV] copy_X=True, fit_intercept=False, normalize=True ................\n",
      "[CV]  copy_X=True, fit_intercept=False, normalize=True, score=0.613, total=   0.0s\n",
      "[CV] copy_X=True, fit_intercept=False, normalize=True ................\n",
      "[CV]  copy_X=True, fit_intercept=False, normalize=True, score=0.572, total=   0.0s\n",
      "[CV] copy_X=True, fit_intercept=False, normalize=True ................\n",
      "[CV]  copy_X=True, fit_intercept=False, normalize=True, score=0.566, total=   0.0s\n",
      "[CV] copy_X=True, fit_intercept=False, normalize=True ................\n",
      "[CV]  copy_X=True, fit_intercept=False, normalize=True, score=0.601, total=   0.0s\n",
      "[CV] copy_X=True, fit_intercept=False, normalize=True ................\n",
      "[CV]  copy_X=True, fit_intercept=False, normalize=True, score=0.595, total=   0.0s\n",
      "[CV] copy_X=True, fit_intercept=False, normalize=False ...............\n",
      "[CV]  copy_X=True, fit_intercept=False, normalize=False, score=0.613, total=   0.0s\n",
      "[CV] copy_X=True, fit_intercept=False, normalize=False ...............\n",
      "[CV]  copy_X=True, fit_intercept=False, normalize=False, score=0.572, total=   0.0s\n",
      "[CV] copy_X=True, fit_intercept=False, normalize=False ...............\n",
      "[CV]  copy_X=True, fit_intercept=False, normalize=False, score=0.566, total=   0.0s\n",
      "[CV] copy_X=True, fit_intercept=False, normalize=False ...............\n",
      "[CV]  copy_X=True, fit_intercept=False, normalize=False, score=0.601, total=   0.0s\n",
      "[CV] copy_X=True, fit_intercept=False, normalize=False ...............\n",
      "[CV]  copy_X=True, fit_intercept=False, normalize=False, score=0.595, total=   0.0s\n",
      "[CV] copy_X=False, fit_intercept=True, normalize=True ................\n",
      "[CV]  copy_X=False, fit_intercept=True, normalize=True, score=0.634, total=   0.0s\n",
      "[CV] copy_X=False, fit_intercept=True, normalize=True ................\n",
      "[CV]  copy_X=False, fit_intercept=True, normalize=True, score=0.625, total=   0.0s\n",
      "[CV] copy_X=False, fit_intercept=True, normalize=True ................\n",
      "[CV]  copy_X=False, fit_intercept=True, normalize=True, score=0.586, total=   0.0s\n",
      "[CV] copy_X=False, fit_intercept=True, normalize=True ................\n",
      "[CV]  copy_X=False, fit_intercept=True, normalize=True, score=0.615, total=   0.0s\n",
      "[CV] copy_X=False, fit_intercept=True, normalize=True ................\n",
      "[CV]  copy_X=False, fit_intercept=True, normalize=True, score=0.634, total=   0.0s\n",
      "[CV] copy_X=False, fit_intercept=True, normalize=False ...............\n",
      "[CV]  copy_X=False, fit_intercept=True, normalize=False, score=0.634, total=   0.0s\n",
      "[CV] copy_X=False, fit_intercept=True, normalize=False ...............\n",
      "[CV]  copy_X=False, fit_intercept=True, normalize=False, score=0.625, total=   0.0s\n",
      "[CV] copy_X=False, fit_intercept=True, normalize=False ...............\n",
      "[CV]  copy_X=False, fit_intercept=True, normalize=False, score=0.586, total=   0.0s\n",
      "[CV] copy_X=False, fit_intercept=True, normalize=False ...............\n",
      "[CV]  copy_X=False, fit_intercept=True, normalize=False, score=0.615, total=   0.0s\n",
      "[CV] copy_X=False, fit_intercept=True, normalize=False ...............\n",
      "[CV]  copy_X=False, fit_intercept=True, normalize=False, score=0.634, total=   0.0s\n",
      "[CV] copy_X=False, fit_intercept=False, normalize=True ...............\n",
      "[CV]  copy_X=False, fit_intercept=False, normalize=True, score=0.613, total=   0.0s\n",
      "[CV] copy_X=False, fit_intercept=False, normalize=True ...............\n",
      "[CV]  copy_X=False, fit_intercept=False, normalize=True, score=0.572, total=   0.0s\n",
      "[CV] copy_X=False, fit_intercept=False, normalize=True ...............\n",
      "[CV]  copy_X=False, fit_intercept=False, normalize=True, score=0.566, total=   0.0s\n",
      "[CV] copy_X=False, fit_intercept=False, normalize=True ...............\n",
      "[CV]  copy_X=False, fit_intercept=False, normalize=True, score=0.601, total=   0.0s\n",
      "[CV] copy_X=False, fit_intercept=False, normalize=True ...............\n",
      "[CV]  copy_X=False, fit_intercept=False, normalize=True, score=0.595, total=   0.0s\n",
      "[CV] copy_X=False, fit_intercept=False, normalize=False ..............\n",
      "[CV]  copy_X=False, fit_intercept=False, normalize=False, score=0.613, total=   0.0s\n",
      "[CV] copy_X=False, fit_intercept=False, normalize=False ..............\n",
      "[CV]  copy_X=False, fit_intercept=False, normalize=False, score=0.572, total=   0.0s\n",
      "[CV] copy_X=False, fit_intercept=False, normalize=False ..............\n",
      "[CV]  copy_X=False, fit_intercept=False, normalize=False, score=0.566, total=   0.0s\n",
      "[CV] copy_X=False, fit_intercept=False, normalize=False ..............\n",
      "[CV]  copy_X=False, fit_intercept=False, normalize=False, score=0.601, total=   0.0s\n",
      "[CV] copy_X=False, fit_intercept=False, normalize=False ..............\n",
      "[CV]  copy_X=False, fit_intercept=False, normalize=False, score=0.595, total=   0.0s\n"
     ]
    },
    {
     "name": "stderr",
     "output_type": "stream",
     "text": [
      "[Parallel(n_jobs=1)]: Using backend SequentialBackend with 1 concurrent workers.\n",
      "[Parallel(n_jobs=1)]: Done   1 out of   1 | elapsed:    0.0s remaining:    0.0s\n",
      "[Parallel(n_jobs=1)]: Done   2 out of   2 | elapsed:    0.0s remaining:    0.0s\n",
      "[Parallel(n_jobs=1)]: Done  40 out of  40 | elapsed:    0.0s finished\n"
     ]
    },
    {
     "data": {
      "text/plain": [
       "GridSearchCV(cv=None, error_score=nan,\n",
       "             estimator=LinearRegression(copy_X=True, fit_intercept=True,\n",
       "                                        n_jobs=None, normalize=True),\n",
       "             iid='deprecated', n_jobs=None,\n",
       "             param_grid={'copy_X': [True, False],\n",
       "                         'fit_intercept': [True, False],\n",
       "                         'normalize': [True, False]},\n",
       "             pre_dispatch='2*n_jobs', refit=True, return_train_score=False,\n",
       "             scoring=None, verbose=3)"
      ]
     },
     "execution_count": 124,
     "metadata": {},
     "output_type": "execute_result"
    }
   ],
   "source": [
    "# Train the model with GridSearch\n",
    "grid.fit(X_train,y_train)"
   ]
  },
  {
   "cell_type": "code",
   "execution_count": 125,
   "metadata": {},
   "outputs": [
    {
     "data": {
      "text/plain": [
       "0.6188779739484955"
      ]
     },
     "execution_count": 125,
     "metadata": {},
     "output_type": "execute_result"
    }
   ],
   "source": [
    "grid.best_score_"
   ]
  },
  {
   "cell_type": "code",
   "execution_count": 126,
   "metadata": {},
   "outputs": [],
   "source": [
    "ys = grid.predict(X_test)"
   ]
  },
  {
   "cell_type": "code",
   "execution_count": 127,
   "metadata": {},
   "outputs": [],
   "source": [
    "resids = (ys - y_test)**2"
   ]
  },
  {
   "cell_type": "code",
   "execution_count": 128,
   "metadata": {},
   "outputs": [
    {
     "data": {
      "text/plain": [
       "4.7839731537685095"
      ]
     },
     "execution_count": 128,
     "metadata": {},
     "output_type": "execute_result"
    }
   ],
   "source": [
    "pd.Series(resids.reshape(-1)).apply(math.sqrt).mean()"
   ]
  },
  {
   "cell_type": "code",
   "execution_count": 129,
   "metadata": {},
   "outputs": [],
   "source": [
    "from sklearn.metrics import r2_score"
   ]
  },
  {
   "cell_type": "code",
   "execution_count": 130,
   "metadata": {},
   "outputs": [
    {
     "data": {
      "text/plain": [
       "0.612299807470251"
      ]
     },
     "execution_count": 130,
     "metadata": {},
     "output_type": "execute_result"
    }
   ],
   "source": [
    "r2_score(y_test, ys)"
   ]
  },
  {
   "cell_type": "code",
   "execution_count": 203,
   "metadata": {},
   "outputs": [
    {
     "data": {
      "text/plain": [
       "Index(['Unnamed: 0', 'Year', 'Week_x', 'Abbr_RDBMS_Winner', 'Week2', 'Day',\n",
       "       'Date', 'Time', 'Home_Team', 'FINAL_TEAM_NAME', 'Opponent',\n",
       "       'TEAM_POINTS', 'TEAM_YARDS', 'TEAM_TURNOVERS',\n",
       "       'TEAM_TURNOVER_DIFFERENTIAL', 'OPPONENTS_POINTS', 'OPPONENTS_YARDS',\n",
       "       'OPPONENTS_TURNOVERS', 'OPPONENTS_TURNOVER_DIFFERENTIAL',\n",
       "       'TEAM_POINT_MARGIN', 'GAMEID', 'BINARY_WIN', 'W-L-T', 'Power Index FPI',\n",
       "       'Power Index RK', 'Power Index TREND', 'Power Index OFF',\n",
       "       'Power Index DEF', 'Power Index ST', 'Ranks SOS', 'Ranks REM SOS',\n",
       "       'Ranks AVGWP', 'DIVISION_538_Winner', 'ELO WITH QB_538_Winner',\n",
       "       'ELO CHANGE_538_Winner', 'CURRENT QB ADJ_538_Winner',\n",
       "       'Points_Diff_538_Winner', 'Playoffs_Prob_538_Winner',\n",
       "       'Division_Prob_538_Winner', 'Bye_Prob_538_Winner', 'SB_Prob_538_Winner',\n",
       "       'REAL_WINS2_538_Winner', 'REAL_LOSSES2_538_Winner',\n",
       "       'REAL_TIES_538_Winner', 'PROJ_WINS4_538_Winner',\n",
       "       'PROJ_LOSS4_538_Winner', 'EPA/play_RDBMS_Winner',\n",
       "       'OVR_SUCCESS_RATE_RDBMS_Winner', 'Dropback EPA_RDBMS_Winner',\n",
       "       'DROPBACK_SR_RDBMS_Winner', 'Rush EPA_RDBMS_Winner',\n",
       "       'RUN_SR_RDBMS_Winner', 'TOTAL DVOA_FO_WEEKLY_Winner',\n",
       "       'LAST WEEK_FO_WEEKLY_Winner', 'DAVE_WEI_DVOA_FO_WEEKLY_Winner',\n",
       "       'OFFENSE DVOA_FO_WEEKLY_Winner', 'DEFENSE DVOA_FO_WEEKLY_Winner',\n",
       "       'S.T. DVOA_FO_WEEKLY_Winner', 'RK_FO_ANNUAL_Winner',\n",
       "       'TOTAL DVOA_FO_ANNUAL_Winner', 'DAVE_WEI_DVOA_FO_ANNUAL_Winner',\n",
       "       'OFFENSE DVOA_FO_ANNUAL_Winner', 'DEFENSE DVOA_FO_ANNUAL_Winner',\n",
       "       'S.T. DVOA_FO_ANNUAL_Winner', 'non-adj VOA_FO_ANNUAL_Winner',\n",
       "       'Last Year_FO_ANNUAL_Winner', 'ESTIM. WINS_FO_ANNUAL_Winner',\n",
       "       'SCHEDULE RANK_FO_ANNUAL_Winner', 'VAR._FO_ANNUAL_Winner',\n",
       "       'TOTAL_GAME_POINTS', 'TOTAL_GAME_YARDS', 'TOTAL_GAME_TURNOVERS',\n",
       "       'PLAYOFFS_BINARY', 'GAME_TYPE', 'FINAL_TEAM_NAME_Opp',\n",
       "       'Power Index DEF_Opp'],\n",
       "      dtype='object')"
      ]
     },
     "execution_count": 203,
     "metadata": {},
     "output_type": "execute_result"
    }
   ],
   "source": [
    "allTheStats3.columns"
   ]
  },
  {
   "cell_type": "code",
   "execution_count": 2,
   "metadata": {},
   "outputs": [],
   "source": [
    "import pandas as pd, numpy as np, os, math"
   ]
  },
  {
   "cell_type": "code",
   "execution_count": 3,
   "metadata": {},
   "outputs": [],
   "source": [
    "outstanding_games = pd.read_csv(\"2020GamesLeft.csv\")"
   ]
  },
  {
   "cell_type": "code",
   "execution_count": 131,
   "metadata": {},
   "outputs": [],
   "source": [
    "allTheStats = pd.read_csv(\"../perfectlyCleaned_Data.csv\")"
   ]
  },
  {
   "cell_type": "code",
   "execution_count": 132,
   "metadata": {},
   "outputs": [
    {
     "data": {
      "text/plain": [
       "Index(['Unnamed: 0', 'Year', 'Week_x', 'Abbr_RDBMS_Winner', 'Week2', 'Day',\n",
       "       'Date', 'Time', 'Home_Team', 'FINAL_TEAM_NAME', 'Opponent',\n",
       "       'TEAM_POINTS', 'TEAM_YARDS', 'TEAM_TURNOVERS',\n",
       "       'TEAM_TURNOVER_DIFFERENTIAL', 'OPPONENTS_POINTS', 'OPPONENTS_YARDS',\n",
       "       'OPPONENTS_TURNOVERS', 'OPPONENTS_TURNOVER_DIFFERENTIAL',\n",
       "       'TEAM_POINT_MARGIN', 'GAMEID', 'BINARY_WIN', 'W-L-T', 'Power Index FPI',\n",
       "       'Power Index RK', 'Power Index TREND', 'Power Index OFF',\n",
       "       'Power Index DEF', 'Power Index ST', 'Ranks SOS', 'Ranks REM SOS',\n",
       "       'Ranks AVGWP', 'DIVISION_538_Winner', 'ELO WITH QB_538_Winner',\n",
       "       'ELO CHANGE_538_Winner', 'CURRENT QB ADJ_538_Winner',\n",
       "       'Points_Diff_538_Winner', 'Playoffs_Prob_538_Winner',\n",
       "       'Division_Prob_538_Winner', 'Bye_Prob_538_Winner', 'SB_Prob_538_Winner',\n",
       "       'REAL_WINS2_538_Winner', 'REAL_LOSSES2_538_Winner',\n",
       "       'REAL_TIES_538_Winner', 'PROJ_WINS4_538_Winner',\n",
       "       'PROJ_LOSS4_538_Winner', 'EPA/play_RDBMS_Winner',\n",
       "       'OVR_SUCCESS_RATE_RDBMS_Winner', 'Dropback EPA_RDBMS_Winner',\n",
       "       'DROPBACK_SR_RDBMS_Winner', 'Rush EPA_RDBMS_Winner',\n",
       "       'RUN_SR_RDBMS_Winner', 'TOTAL DVOA_FO_WEEKLY_Winner',\n",
       "       'LAST WEEK_FO_WEEKLY_Winner', 'DAVE_WEI_DVOA_FO_WEEKLY_Winner',\n",
       "       'OFFENSE DVOA_FO_WEEKLY_Winner', 'DEFENSE DVOA_FO_WEEKLY_Winner',\n",
       "       'S.T. DVOA_FO_WEEKLY_Winner', 'RK_FO_ANNUAL_Winner',\n",
       "       'TOTAL DVOA_FO_ANNUAL_Winner', 'DAVE_WEI_DVOA_FO_ANNUAL_Winner',\n",
       "       'OFFENSE DVOA_FO_ANNUAL_Winner', 'DEFENSE DVOA_FO_ANNUAL_Winner',\n",
       "       'S.T. DVOA_FO_ANNUAL_Winner', 'non-adj VOA_FO_ANNUAL_Winner',\n",
       "       'Last Year_FO_ANNUAL_Winner', 'ESTIM. WINS_FO_ANNUAL_Winner',\n",
       "       'SCHEDULE RANK_FO_ANNUAL_Winner', 'VAR._FO_ANNUAL_Winner',\n",
       "       'TOTAL_GAME_POINTS', 'TOTAL_GAME_YARDS', 'TOTAL_GAME_TURNOVERS',\n",
       "       'PLAYOFFS_BINARY', 'GAME_TYPE'],\n",
       "      dtype='object')"
      ]
     },
     "execution_count": 132,
     "metadata": {},
     "output_type": "execute_result"
    }
   ],
   "source": [
    "allTheStats.columns"
   ]
  },
  {
   "cell_type": "code",
   "execution_count": 133,
   "metadata": {},
   "outputs": [
    {
     "ename": "NameError",
     "evalue": "name 'outstanding_games' is not defined",
     "output_type": "error",
     "traceback": [
      "\u001b[1;31m---------------------------------------------------------------------------\u001b[0m",
      "\u001b[1;31mNameError\u001b[0m                                 Traceback (most recent call last)",
      "\u001b[1;32m<ipython-input-133-fb93c9974668>\u001b[0m in \u001b[0;36m<module>\u001b[1;34m\u001b[0m\n\u001b[1;32m----> 1\u001b[1;33m \u001b[0moutstanding_games\u001b[0m\u001b[1;33m.\u001b[0m\u001b[0mcolumns\u001b[0m\u001b[1;33m\u001b[0m\u001b[1;33m\u001b[0m\u001b[0m\n\u001b[0m",
      "\u001b[1;31mNameError\u001b[0m: name 'outstanding_games' is not defined"
     ]
    }
   ],
   "source": [
    "outstanding_games.columns"
   ]
  },
  {
   "cell_type": "markdown",
   "metadata": {},
   "source": [
    "## model1: OVERALL FPI (ESPN Team Eff Metric)"
   ]
  },
  {
   "cell_type": "code",
   "execution_count": 134,
   "metadata": {},
   "outputs": [],
   "source": [
    "#model1: just OVERALL FPI (ESPN Team Eff Metric)\n",
    "model_values = allTheStats.loc[:, [\"TEAM_POINTS\", \"Power Index FPI\"]]"
   ]
  },
  {
   "cell_type": "code",
   "execution_count": 135,
   "metadata": {},
   "outputs": [],
   "source": [
    "from sklearn.model_selection import train_test_split\n",
    "import sklearn.linear_model"
   ]
  },
  {
   "cell_type": "code",
   "execution_count": 136,
   "metadata": {},
   "outputs": [],
   "source": [
    "model_1 = sklearn.linear_model.LinearRegression()"
   ]
  },
  {
   "cell_type": "code",
   "execution_count": 137,
   "metadata": {},
   "outputs": [],
   "source": [
    "X = model_values.iloc[:,1].values\n",
    "y = model_values.iloc[:,0].values"
   ]
  },
  {
   "cell_type": "code",
   "execution_count": 143,
   "metadata": {},
   "outputs": [],
   "source": [
    "X_train, X_test, y_train, y_test = train_test_split(X,y)\n",
    "X_train = X_train.reshape(-1, 1)\n",
    "X_test = X_test.reshape(-1, 1)\n",
    "y_train = y_train.reshape(-1, 1)\n",
    "y_test = y_test.reshape(-1, 1)"
   ]
  },
  {
   "cell_type": "code",
   "execution_count": 144,
   "metadata": {},
   "outputs": [
    {
     "data": {
      "text/plain": [
       "LinearRegression(copy_X=True, fit_intercept=True, n_jobs=None, normalize=False)"
      ]
     },
     "execution_count": 144,
     "metadata": {},
     "output_type": "execute_result"
    }
   ],
   "source": [
    "model_1.fit(X_train, y_train)"
   ]
  },
  {
   "cell_type": "code",
   "execution_count": 145,
   "metadata": {},
   "outputs": [
    {
     "data": {
      "text/plain": [
       "0.11185919136742972"
      ]
     },
     "execution_count": 145,
     "metadata": {},
     "output_type": "execute_result"
    }
   ],
   "source": [
    "#R_sq Score 11.16\n",
    "model_1.score(X_train, y_train)"
   ]
  },
  {
   "cell_type": "code",
   "execution_count": 146,
   "metadata": {},
   "outputs": [
    {
     "data": {
      "text/plain": [
       "0.1236776812910152"
      ]
     },
     "execution_count": 146,
     "metadata": {},
     "output_type": "execute_result"
    }
   ],
   "source": [
    "#R_sq 12.10\n",
    "model_1.score(X_test, y_test)"
   ]
  },
  {
   "cell_type": "code",
   "execution_count": 147,
   "metadata": {},
   "outputs": [
    {
     "data": {
      "text/plain": [
       "array([22.76800928])"
      ]
     },
     "execution_count": 147,
     "metadata": {},
     "output_type": "execute_result"
    }
   ],
   "source": [
    "model_1.intercept_"
   ]
  },
  {
   "cell_type": "code",
   "execution_count": 148,
   "metadata": {},
   "outputs": [
    {
     "data": {
      "text/plain": [
       "array([[0.6385831]])"
      ]
     },
     "execution_count": 148,
     "metadata": {},
     "output_type": "execute_result"
    }
   ],
   "source": [
    "model_1.coef_"
   ]
  },
  {
   "cell_type": "code",
   "execution_count": 149,
   "metadata": {},
   "outputs": [],
   "source": [
    "y_pred = model_1.predict(X_test)"
   ]
  },
  {
   "cell_type": "code",
   "execution_count": 150,
   "metadata": {},
   "outputs": [],
   "source": [
    "sq_resid = (y_pred - y_test)**2"
   ]
  },
  {
   "cell_type": "code",
   "execution_count": 151,
   "metadata": {},
   "outputs": [
    {
     "data": {
      "text/plain": [
       "7.527513175375787"
      ]
     },
     "execution_count": 151,
     "metadata": {},
     "output_type": "execute_result"
    }
   ],
   "source": [
    "# The Mean Squared Error\n",
    "pd.Series(sq_resid.reshape(-1)).apply(math.sqrt).mean()"
   ]
  },
  {
   "cell_type": "code",
   "execution_count": 161,
   "metadata": {},
   "outputs": [],
   "source": [
    "X = X.reshape(-1, 1)"
   ]
  },
  {
   "cell_type": "code",
   "execution_count": 162,
   "metadata": {},
   "outputs": [],
   "source": [
    "y_prediction1 = model_1.predict(X)"
   ]
  },
  {
   "cell_type": "code",
   "execution_count": 171,
   "metadata": {},
   "outputs": [],
   "source": [
    "predictions = pd.Series(y_prediction1.reshape(-1), name=\"Model1_Prediction\")"
   ]
  },
  {
   "cell_type": "code",
   "execution_count": 173,
   "metadata": {},
   "outputs": [],
   "source": [
    "model_predictions_1 = pd.concat([allTheStats.loc[:, [\"GAMEID\", \"FINAL_TEAM_NAME\"]], predictions], axis=1)"
   ]
  },
  {
   "cell_type": "markdown",
   "metadata": {},
   "source": [
    "## model2:\n",
    "### OVERALL FPI + TEAM OFFENSIVE FPI + THE OPPOSING_TEAM'S DEFENSIVE FPI + TEAM SPECIAL TEAMS FPI + Strength of Schedule FPI + WP Ranks"
   ]
  },
  {
   "cell_type": "code",
   "execution_count": 174,
   "metadata": {},
   "outputs": [
    {
     "data": {
      "text/plain": [
       "Index(['Unnamed: 0', 'Year', 'Week_x', 'Abbr_RDBMS_Winner', 'Week2', 'Day',\n",
       "       'Date', 'Time', 'Home_Team', 'FINAL_TEAM_NAME', 'Opponent',\n",
       "       'TEAM_POINTS', 'TEAM_YARDS', 'TEAM_TURNOVERS',\n",
       "       'TEAM_TURNOVER_DIFFERENTIAL', 'OPPONENTS_POINTS', 'OPPONENTS_YARDS',\n",
       "       'OPPONENTS_TURNOVERS', 'OPPONENTS_TURNOVER_DIFFERENTIAL',\n",
       "       'TEAM_POINT_MARGIN', 'GAMEID', 'BINARY_WIN', 'W-L-T', 'Power Index FPI',\n",
       "       'Power Index RK', 'Power Index TREND', 'Power Index OFF',\n",
       "       'Power Index DEF', 'Power Index ST', 'Ranks SOS', 'Ranks REM SOS',\n",
       "       'Ranks AVGWP', 'DIVISION_538_Winner', 'ELO WITH QB_538_Winner',\n",
       "       'ELO CHANGE_538_Winner', 'CURRENT QB ADJ_538_Winner',\n",
       "       'Points_Diff_538_Winner', 'Playoffs_Prob_538_Winner',\n",
       "       'Division_Prob_538_Winner', 'Bye_Prob_538_Winner', 'SB_Prob_538_Winner',\n",
       "       'REAL_WINS2_538_Winner', 'REAL_LOSSES2_538_Winner',\n",
       "       'REAL_TIES_538_Winner', 'PROJ_WINS4_538_Winner',\n",
       "       'PROJ_LOSS4_538_Winner', 'EPA/play_RDBMS_Winner',\n",
       "       'OVR_SUCCESS_RATE_RDBMS_Winner', 'Dropback EPA_RDBMS_Winner',\n",
       "       'DROPBACK_SR_RDBMS_Winner', 'Rush EPA_RDBMS_Winner',\n",
       "       'RUN_SR_RDBMS_Winner', 'TOTAL DVOA_FO_WEEKLY_Winner',\n",
       "       'LAST WEEK_FO_WEEKLY_Winner', 'DAVE_WEI_DVOA_FO_WEEKLY_Winner',\n",
       "       'OFFENSE DVOA_FO_WEEKLY_Winner', 'DEFENSE DVOA_FO_WEEKLY_Winner',\n",
       "       'S.T. DVOA_FO_WEEKLY_Winner', 'RK_FO_ANNUAL_Winner',\n",
       "       'TOTAL DVOA_FO_ANNUAL_Winner', 'DAVE_WEI_DVOA_FO_ANNUAL_Winner',\n",
       "       'OFFENSE DVOA_FO_ANNUAL_Winner', 'DEFENSE DVOA_FO_ANNUAL_Winner',\n",
       "       'S.T. DVOA_FO_ANNUAL_Winner', 'non-adj VOA_FO_ANNUAL_Winner',\n",
       "       'Last Year_FO_ANNUAL_Winner', 'ESTIM. WINS_FO_ANNUAL_Winner',\n",
       "       'SCHEDULE RANK_FO_ANNUAL_Winner', 'VAR._FO_ANNUAL_Winner',\n",
       "       'TOTAL_GAME_POINTS', 'TOTAL_GAME_YARDS', 'TOTAL_GAME_TURNOVERS',\n",
       "       'PLAYOFFS_BINARY', 'GAME_TYPE'],\n",
       "      dtype='object')"
      ]
     },
     "execution_count": 174,
     "metadata": {},
     "output_type": "execute_result"
    }
   ],
   "source": [
    "allTheStats.columns"
   ]
  },
  {
   "cell_type": "code",
   "execution_count": 182,
   "metadata": {},
   "outputs": [],
   "source": [
    "allTheStats2 = allTheStats.copy(deep=True)"
   ]
  },
  {
   "cell_type": "code",
   "execution_count": 44,
   "metadata": {},
   "outputs": [],
   "source": [
    "#model2: All the ESPN EFF METRICS\n",
    "#model_values = allTheStats.loc[:, [\"TEAM_POINTS\", \"Power Index FPI\"]]"
   ]
  },
  {
   "cell_type": "code",
   "execution_count": 195,
   "metadata": {},
   "outputs": [],
   "source": [
    "opponentDef = allTheStats.loc[:, [\"FINAL_TEAM_NAME\", 'Power Index DEF', \"GAMEID\"]]"
   ]
  },
  {
   "cell_type": "code",
   "execution_count": 196,
   "metadata": {},
   "outputs": [],
   "source": [
    "model_values=pd.merge(allTheStats2, opponentDef, left_on=[\"GAMEID\", \"Opponent\"], right_on=[\"GAMEID\", \"FINAL_TEAM_NAME\"], suffixes=(\"\", \"_Opp\"))"
   ]
  },
  {
   "cell_type": "code",
   "execution_count": 197,
   "metadata": {},
   "outputs": [],
   "source": [
    "model_values=model_values.loc[:, [\"TEAM_POINTS\", \"Power Index FPI\", 'Power Index OFF','Power Index DEF_Opp', 'Power Index ST', 'Ranks SOS', 'Ranks AVGWP']]"
   ]
  },
  {
   "cell_type": "code",
   "execution_count": 198,
   "metadata": {},
   "outputs": [
    {
     "name": "stdout",
     "output_type": "stream",
     "text": [
      "<class 'pandas.core.frame.DataFrame'>\n",
      "Int64Index: 2902 entries, 0 to 2901\n",
      "Data columns (total 7 columns):\n",
      " #   Column               Non-Null Count  Dtype  \n",
      "---  ------               --------------  -----  \n",
      " 0   TEAM_POINTS          2902 non-null   float64\n",
      " 1   Power Index FPI      2902 non-null   float64\n",
      " 2   Power Index OFF      2902 non-null   float64\n",
      " 3   Power Index DEF_Opp  2902 non-null   float64\n",
      " 4   Power Index ST       2902 non-null   float64\n",
      " 5   Ranks SOS            2902 non-null   float64\n",
      " 6   Ranks AVGWP          2902 non-null   float64\n",
      "dtypes: float64(7)\n",
      "memory usage: 181.4 KB\n"
     ]
    }
   ],
   "source": [
    "model_values.info()"
   ]
  },
  {
   "cell_type": "code",
   "execution_count": 188,
   "metadata": {},
   "outputs": [
    {
     "data": {
      "text/html": [
       "<div>\n",
       "<style scoped>\n",
       "    .dataframe tbody tr th:only-of-type {\n",
       "        vertical-align: middle;\n",
       "    }\n",
       "\n",
       "    .dataframe tbody tr th {\n",
       "        vertical-align: top;\n",
       "    }\n",
       "\n",
       "    .dataframe thead th {\n",
       "        text-align: right;\n",
       "    }\n",
       "</style>\n",
       "<table border=\"1\" class=\"dataframe\">\n",
       "  <thead>\n",
       "    <tr style=\"text-align: right;\">\n",
       "      <th></th>\n",
       "      <th>FINAL_TEAM_NAME</th>\n",
       "      <th>Power Index OFF</th>\n",
       "      <th>Power Index DEF_Opp</th>\n",
       "    </tr>\n",
       "  </thead>\n",
       "  <tbody>\n",
       "    <tr>\n",
       "      <th>0</th>\n",
       "      <td>Detroit Lions</td>\n",
       "      <td>0.9</td>\n",
       "      <td>-2.7</td>\n",
       "    </tr>\n",
       "    <tr>\n",
       "      <th>1</th>\n",
       "      <td>Chicago Bears</td>\n",
       "      <td>0.1</td>\n",
       "      <td>-2.4</td>\n",
       "    </tr>\n",
       "    <tr>\n",
       "      <th>2</th>\n",
       "      <td>Chicago Bears</td>\n",
       "      <td>0.1</td>\n",
       "      <td>-2.4</td>\n",
       "    </tr>\n",
       "    <tr>\n",
       "      <th>3</th>\n",
       "      <td>Detroit Lions</td>\n",
       "      <td>0.9</td>\n",
       "      <td>-2.7</td>\n",
       "    </tr>\n",
       "    <tr>\n",
       "      <th>4</th>\n",
       "      <td>Washington Redskins</td>\n",
       "      <td>-0.4</td>\n",
       "      <td>-2.7</td>\n",
       "    </tr>\n",
       "    <tr>\n",
       "      <th>...</th>\n",
       "      <td>...</td>\n",
       "      <td>...</td>\n",
       "      <td>...</td>\n",
       "    </tr>\n",
       "    <tr>\n",
       "      <th>2897</th>\n",
       "      <td>Kansas City Chiefs</td>\n",
       "      <td>9.5</td>\n",
       "      <td>-0.2</td>\n",
       "    </tr>\n",
       "    <tr>\n",
       "      <th>2898</th>\n",
       "      <td>Oakland Raiders</td>\n",
       "      <td>3.4</td>\n",
       "      <td>1.3</td>\n",
       "    </tr>\n",
       "    <tr>\n",
       "      <th>2899</th>\n",
       "      <td>New England Patriots</td>\n",
       "      <td>-1.8</td>\n",
       "      <td>-3.4</td>\n",
       "    </tr>\n",
       "    <tr>\n",
       "      <th>2900</th>\n",
       "      <td>Buffalo Bills</td>\n",
       "      <td>2.2</td>\n",
       "      <td>-3.4</td>\n",
       "    </tr>\n",
       "    <tr>\n",
       "      <th>2901</th>\n",
       "      <td>Oakland Raiders</td>\n",
       "      <td>3.4</td>\n",
       "      <td>-0.2</td>\n",
       "    </tr>\n",
       "  </tbody>\n",
       "</table>\n",
       "<p>2902 rows × 3 columns</p>\n",
       "</div>"
      ],
      "text/plain": [
       "           FINAL_TEAM_NAME  Power Index OFF  Power Index DEF_Opp\n",
       "0            Detroit Lions              0.9                 -2.7\n",
       "1            Chicago Bears              0.1                 -2.4\n",
       "2            Chicago Bears              0.1                 -2.4\n",
       "3            Detroit Lions              0.9                 -2.7\n",
       "4      Washington Redskins             -0.4                 -2.7\n",
       "...                    ...              ...                  ...\n",
       "2897    Kansas City Chiefs              9.5                 -0.2\n",
       "2898       Oakland Raiders              3.4                  1.3\n",
       "2899  New England Patriots             -1.8                 -3.4\n",
       "2900         Buffalo Bills              2.2                 -3.4\n",
       "2901       Oakland Raiders              3.4                 -0.2\n",
       "\n",
       "[2902 rows x 3 columns]"
      ]
     },
     "execution_count": 188,
     "metadata": {},
     "output_type": "execute_result"
    }
   ],
   "source": [
    "model_values.loc[:, [\"FINAL_TEAM_NAME\", 'Power Index OFF', 'Power Index DEF_Opp']]"
   ]
  },
  {
   "cell_type": "code",
   "execution_count": 199,
   "metadata": {},
   "outputs": [],
   "source": [
    "model_2 = sklearn.linear_model.LinearRegression(normalize=True)"
   ]
  },
  {
   "cell_type": "code",
   "execution_count": 200,
   "metadata": {},
   "outputs": [
    {
     "data": {
      "text/plain": [
       "(2902, 7)"
      ]
     },
     "execution_count": 200,
     "metadata": {},
     "output_type": "execute_result"
    }
   ],
   "source": [
    "model_values.shape"
   ]
  },
  {
   "cell_type": "code",
   "execution_count": 231,
   "metadata": {},
   "outputs": [],
   "source": [
    "X = model_values.iloc[:,1:].values\n",
    "y = model_values.iloc[:,0].values"
   ]
  },
  {
   "cell_type": "code",
   "execution_count": null,
   "metadata": {},
   "outputs": [],
   "source": []
  },
  {
   "cell_type": "code",
   "execution_count": 209,
   "metadata": {},
   "outputs": [],
   "source": [
    "X_train, X_test, y_train, y_test = train_test_split(X,y)\n",
    "#X_train = X_train.reshape(-1)\n",
    "#X_test = X_test.reshape(-1)\n",
    "y_train = y_train.reshape(-1, 1)\n",
    "y_test = y_test.reshape(-1, 1)"
   ]
  },
  {
   "cell_type": "code",
   "execution_count": 210,
   "metadata": {},
   "outputs": [
    {
     "data": {
      "text/plain": [
       "LinearRegression(copy_X=True, fit_intercept=True, n_jobs=None, normalize=True)"
      ]
     },
     "execution_count": 210,
     "metadata": {},
     "output_type": "execute_result"
    }
   ],
   "source": [
    "model_2.fit(X_train, y_train)"
   ]
  },
  {
   "cell_type": "code",
   "execution_count": 211,
   "metadata": {},
   "outputs": [
    {
     "data": {
      "text/plain": [
       "0.2038363076355726"
      ]
     },
     "execution_count": 211,
     "metadata": {},
     "output_type": "execute_result"
    }
   ],
   "source": [
    "#R_sq Score\n",
    "model_2.score(X_train, y_train)"
   ]
  },
  {
   "cell_type": "code",
   "execution_count": 212,
   "metadata": {},
   "outputs": [
    {
     "data": {
      "text/plain": [
       "0.21541019805453554"
      ]
     },
     "execution_count": 212,
     "metadata": {},
     "output_type": "execute_result"
    }
   ],
   "source": [
    "model_2.score(X_test, y_test)"
   ]
  },
  {
   "cell_type": "code",
   "execution_count": 213,
   "metadata": {},
   "outputs": [
    {
     "data": {
      "text/plain": [
       "array([24.54785568])"
      ]
     },
     "execution_count": 213,
     "metadata": {},
     "output_type": "execute_result"
    }
   ],
   "source": [
    "model_2.intercept_"
   ]
  },
  {
   "cell_type": "code",
   "execution_count": 214,
   "metadata": {},
   "outputs": [
    {
     "data": {
      "text/plain": [
       "array([[ 0.06087359,  0.58311624, -1.00594342,  0.65866892, -0.01333301,\n",
       "        -0.09084559]])"
      ]
     },
     "execution_count": 214,
     "metadata": {},
     "output_type": "execute_result"
    }
   ],
   "source": [
    "model_2.coef_"
   ]
  },
  {
   "cell_type": "code",
   "execution_count": 215,
   "metadata": {},
   "outputs": [],
   "source": [
    "y_pred = model_2.predict(X_test)"
   ]
  },
  {
   "cell_type": "code",
   "execution_count": 216,
   "metadata": {},
   "outputs": [],
   "source": [
    "sq_resid = (y_pred - y_test)**2"
   ]
  },
  {
   "cell_type": "code",
   "execution_count": 217,
   "metadata": {},
   "outputs": [
    {
     "data": {
      "text/plain": [
       "7.1567476109864545"
      ]
     },
     "execution_count": 217,
     "metadata": {},
     "output_type": "execute_result"
    }
   ],
   "source": [
    "# The Mean Squared Error\n",
    "pd.Series(sq_resid.reshape(-1)).apply(math.sqrt).mean()"
   ]
  },
  {
   "cell_type": "code",
   "execution_count": 218,
   "metadata": {},
   "outputs": [],
   "source": [
    "# Grid Search\n",
    "from sklearn.model_selection import GridSearchCV\n",
    "params = {'fit_intercept':[True,False], 'normalize':[True,False], 'copy_X':[True, False]}\n",
    "grid = GridSearchCV(model_2, params, verbose=3)"
   ]
  },
  {
   "cell_type": "code",
   "execution_count": 221,
   "metadata": {},
   "outputs": [
    {
     "name": "stdout",
     "output_type": "stream",
     "text": [
      "Fitting 5 folds for each of 8 candidates, totalling 40 fits\n",
      "[CV] copy_X=True, fit_intercept=True, normalize=True .................\n",
      "[CV]  copy_X=True, fit_intercept=True, normalize=True, score=0.184, total=   0.0s\n",
      "[CV] copy_X=True, fit_intercept=True, normalize=True .................\n",
      "[CV]  copy_X=True, fit_intercept=True, normalize=True, score=0.233, total=   0.0s\n",
      "[CV] copy_X=True, fit_intercept=True, normalize=True .................\n",
      "[CV]  copy_X=True, fit_intercept=True, normalize=True, score=0.246, total=   0.0s\n",
      "[CV] copy_X=True, fit_intercept=True, normalize=True .................\n",
      "[CV]  copy_X=True, fit_intercept=True, normalize=True, score=0.202, total=   0.0s\n",
      "[CV] copy_X=True, fit_intercept=True, normalize=True .................\n",
      "[CV]  copy_X=True, fit_intercept=True, normalize=True, score=0.118, total=   0.0s\n",
      "[CV] copy_X=True, fit_intercept=True, normalize=False ................\n",
      "[CV]  copy_X=True, fit_intercept=True, normalize=False, score=0.184, total=   0.0s\n",
      "[CV] copy_X=True, fit_intercept=True, normalize=False ................\n",
      "[CV]  copy_X=True, fit_intercept=True, normalize=False, score=0.233, total=   0.0s\n",
      "[CV] copy_X=True, fit_intercept=True, normalize=False ................\n",
      "[CV]  copy_X=True, fit_intercept=True, normalize=False, score=0.246, total=   0.0s\n",
      "[CV] copy_X=True, fit_intercept=True, normalize=False ................\n",
      "[CV]  copy_X=True, fit_intercept=True, normalize=False, score=0.202, total=   0.0s\n",
      "[CV] copy_X=True, fit_intercept=True, normalize=False ................\n",
      "[CV]  copy_X=True, fit_intercept=True, normalize=False, score=0.118, total=   0.0s\n",
      "[CV] copy_X=True, fit_intercept=False, normalize=True ................\n",
      "[CV]  copy_X=True, fit_intercept=False, normalize=True, score=-0.175, total=   0.0s\n",
      "[CV] copy_X=True, fit_intercept=False, normalize=True ................\n",
      "[CV]  copy_X=True, fit_intercept=False, normalize=True, score=-0.049, total=   0.0s\n",
      "[CV] copy_X=True, fit_intercept=False, normalize=True ................\n",
      "[CV]  copy_X=True, fit_intercept=False, normalize=True, score=-0.117, total=   0.0s\n",
      "[CV] copy_X=True, fit_intercept=False, normalize=True ................\n",
      "[CV]  copy_X=True, fit_intercept=False, normalize=True, score=-0.117, total=   0.0s\n",
      "[CV] copy_X=True, fit_intercept=False, normalize=True ................\n",
      "[CV]  copy_X=True, fit_intercept=False, normalize=True, score=-0.217, total=   0.0s\n",
      "[CV] copy_X=True, fit_intercept=False, normalize=False ...............\n",
      "[CV]  copy_X=True, fit_intercept=False, normalize=False, score=-0.175, total=   0.0s\n",
      "[CV] copy_X=True, fit_intercept=False, normalize=False ...............\n",
      "[CV]  copy_X=True, fit_intercept=False, normalize=False, score=-0.049, total=   0.0s\n",
      "[CV] copy_X=True, fit_intercept=False, normalize=False ...............\n",
      "[CV]  copy_X=True, fit_intercept=False, normalize=False, score=-0.117, total=   0.0s\n",
      "[CV] copy_X=True, fit_intercept=False, normalize=False ...............\n",
      "[CV]  copy_X=True, fit_intercept=False, normalize=False, score=-0.117, total=   0.0s\n",
      "[CV] copy_X=True, fit_intercept=False, normalize=False ...............\n",
      "[CV]  copy_X=True, fit_intercept=False, normalize=False, score=-0.217, total=   0.0s\n",
      "[CV] copy_X=False, fit_intercept=True, normalize=True ................\n",
      "[CV]  copy_X=False, fit_intercept=True, normalize=True, score=0.184, total=   0.0s\n",
      "[CV] copy_X=False, fit_intercept=True, normalize=True ................\n",
      "[CV]  copy_X=False, fit_intercept=True, normalize=True, score=0.233, total=   0.0s\n",
      "[CV] copy_X=False, fit_intercept=True, normalize=True ................\n",
      "[CV]  copy_X=False, fit_intercept=True, normalize=True, score=0.246, total=   0.0s\n",
      "[CV] copy_X=False, fit_intercept=True, normalize=True ................\n",
      "[CV]  copy_X=False, fit_intercept=True, normalize=True, score=0.202, total=   0.0s\n",
      "[CV] copy_X=False, fit_intercept=True, normalize=True ................\n",
      "[CV]  copy_X=False, fit_intercept=True, normalize=True, score=0.118, total=   0.0s\n",
      "[CV] copy_X=False, fit_intercept=True, normalize=False ...............\n",
      "[CV]  copy_X=False, fit_intercept=True, normalize=False, score=0.184, total=   0.0s\n",
      "[CV] copy_X=False, fit_intercept=True, normalize=False ...............\n",
      "[CV]  copy_X=False, fit_intercept=True, normalize=False, score=0.233, total=   0.0s\n",
      "[CV] copy_X=False, fit_intercept=True, normalize=False ...............\n",
      "[CV]  copy_X=False, fit_intercept=True, normalize=False, score=0.246, total=   0.0s\n",
      "[CV] copy_X=False, fit_intercept=True, normalize=False ...............\n",
      "[CV]  copy_X=False, fit_intercept=True, normalize=False, score=0.202, total=   0.0s\n",
      "[CV] copy_X=False, fit_intercept=True, normalize=False ...............\n",
      "[CV]  copy_X=False, fit_intercept=True, normalize=False, score=0.118, total=   0.0s\n",
      "[CV] copy_X=False, fit_intercept=False, normalize=True ...............\n",
      "[CV]  copy_X=False, fit_intercept=False, normalize=True, score=-0.175, total=   0.0s\n",
      "[CV] copy_X=False, fit_intercept=False, normalize=True ...............\n",
      "[CV]  copy_X=False, fit_intercept=False, normalize=True, score=-0.049, total=   0.0s\n",
      "[CV] copy_X=False, fit_intercept=False, normalize=True ...............\n",
      "[CV]  copy_X=False, fit_intercept=False, normalize=True, score=-0.117, total=   0.0s\n",
      "[CV] copy_X=False, fit_intercept=False, normalize=True ...............\n",
      "[CV]  copy_X=False, fit_intercept=False, normalize=True, score=-0.117, total=   0.0s\n",
      "[CV] copy_X=False, fit_intercept=False, normalize=True ...............\n",
      "[CV]  copy_X=False, fit_intercept=False, normalize=True, score=-0.217, total=   0.0s\n",
      "[CV] copy_X=False, fit_intercept=False, normalize=False ..............\n",
      "[CV]  copy_X=False, fit_intercept=False, normalize=False, score=-0.175, total=   0.0s\n",
      "[CV] copy_X=False, fit_intercept=False, normalize=False ..............\n",
      "[CV]  copy_X=False, fit_intercept=False, normalize=False, score=-0.049, total=   0.0s\n",
      "[CV] copy_X=False, fit_intercept=False, normalize=False ..............\n",
      "[CV]  copy_X=False, fit_intercept=False, normalize=False, score=-0.117, total=   0.0s\n",
      "[CV] copy_X=False, fit_intercept=False, normalize=False ..............\n",
      "[CV]  copy_X=False, fit_intercept=False, normalize=False, score=-0.117, total=   0.0s\n",
      "[CV] copy_X=False, fit_intercept=False, normalize=False ..............\n",
      "[CV]  copy_X=False, fit_intercept=False, normalize=False, score=-0.217, total=   0.0s\n"
     ]
    },
    {
     "name": "stderr",
     "output_type": "stream",
     "text": [
      "[Parallel(n_jobs=1)]: Using backend SequentialBackend with 1 concurrent workers.\n",
      "[Parallel(n_jobs=1)]: Done   1 out of   1 | elapsed:    0.0s remaining:    0.0s\n",
      "[Parallel(n_jobs=1)]: Done   2 out of   2 | elapsed:    0.0s remaining:    0.0s\n",
      "[Parallel(n_jobs=1)]: Done  40 out of  40 | elapsed:    0.0s finished\n"
     ]
    },
    {
     "data": {
      "text/plain": [
       "GridSearchCV(cv=None, error_score=nan,\n",
       "             estimator=LinearRegression(copy_X=True, fit_intercept=True,\n",
       "                                        n_jobs=None, normalize=True),\n",
       "             iid='deprecated', n_jobs=None,\n",
       "             param_grid={'copy_X': [True, False],\n",
       "                         'fit_intercept': [True, False],\n",
       "                         'normalize': [True, False]},\n",
       "             pre_dispatch='2*n_jobs', refit=True, return_train_score=False,\n",
       "             scoring=None, verbose=3)"
      ]
     },
     "execution_count": 221,
     "metadata": {},
     "output_type": "execute_result"
    }
   ],
   "source": [
    "# Train the model with GridSearch\n",
    "grid.fit(X_train,y_train)"
   ]
  },
  {
   "cell_type": "code",
   "execution_count": 222,
   "metadata": {},
   "outputs": [
    {
     "data": {
      "text/plain": [
       "0.1964905900946871"
      ]
     },
     "execution_count": 222,
     "metadata": {},
     "output_type": "execute_result"
    }
   ],
   "source": [
    "grid.best_score_"
   ]
  },
  {
   "cell_type": "code",
   "execution_count": 223,
   "metadata": {},
   "outputs": [],
   "source": [
    "ys = grid.predict(X_test)"
   ]
  },
  {
   "cell_type": "code",
   "execution_count": 224,
   "metadata": {},
   "outputs": [],
   "source": [
    "resids = (ys - y_test)**2"
   ]
  },
  {
   "cell_type": "code",
   "execution_count": 225,
   "metadata": {},
   "outputs": [
    {
     "data": {
      "text/plain": [
       "7.1567476109864545"
      ]
     },
     "execution_count": 225,
     "metadata": {},
     "output_type": "execute_result"
    }
   ],
   "source": [
    "pd.Series(resids.reshape(-1)).apply(math.sqrt).mean()"
   ]
  },
  {
   "cell_type": "code",
   "execution_count": 226,
   "metadata": {},
   "outputs": [],
   "source": [
    "from sklearn.metrics import r2_score"
   ]
  },
  {
   "cell_type": "code",
   "execution_count": 227,
   "metadata": {},
   "outputs": [
    {
     "data": {
      "text/plain": [
       "0.21541019805453554"
      ]
     },
     "execution_count": 227,
     "metadata": {},
     "output_type": "execute_result"
    }
   ],
   "source": [
    "r2_score(y_test, ys)"
   ]
  },
  {
   "cell_type": "code",
   "execution_count": 232,
   "metadata": {},
   "outputs": [
    {
     "data": {
      "text/plain": [
       "array([[-2. ,  0.9, -2.7, -0.5, 15. , 13. ],\n",
       "       [-2.6,  0.1, -2.4,  0. , 12. , 27. ],\n",
       "       [-2.6,  0.1, -2.4,  0. , 12. , 27. ],\n",
       "       ...,\n",
       "       [-0.1, -1.8, -3.4,  0.5, 12. , 26. ],\n",
       "       [ 1.9,  2.2, -3.4, -0.2, 16. ,  5. ],\n",
       "       [-0.2,  3.4, -0.2, -0.1,  1. , 20. ]])"
      ]
     },
     "execution_count": 232,
     "metadata": {},
     "output_type": "execute_result"
    }
   ],
   "source": [
    "X"
   ]
  },
  {
   "cell_type": "code",
   "execution_count": 229,
   "metadata": {},
   "outputs": [],
   "source": [
    "X = X.reshape(-1, 1)"
   ]
  },
  {
   "cell_type": "code",
   "execution_count": 233,
   "metadata": {},
   "outputs": [],
   "source": [
    "y_prediction2 = model_2.predict(X)"
   ]
  },
  {
   "cell_type": "code",
   "execution_count": null,
   "metadata": {},
   "outputs": [],
   "source": []
  },
  {
   "cell_type": "code",
   "execution_count": 240,
   "metadata": {},
   "outputs": [],
   "source": [
    "predictions_2 = pd.Series(y_prediction2.reshape(-1), name=\"Model2_Prediction\")"
   ]
  },
  {
   "cell_type": "code",
   "execution_count": 241,
   "metadata": {},
   "outputs": [],
   "source": [
    "model_predictions_2 = pd.concat([allTheStats.loc[:, [\"GAMEID\", \"FINAL_TEAM_NAME\"]], predictions_2], axis=1)"
   ]
  },
  {
   "cell_type": "code",
   "execution_count": 242,
   "metadata": {},
   "outputs": [
    {
     "data": {
      "text/html": [
       "<div>\n",
       "<style scoped>\n",
       "    .dataframe tbody tr th:only-of-type {\n",
       "        vertical-align: middle;\n",
       "    }\n",
       "\n",
       "    .dataframe tbody tr th {\n",
       "        vertical-align: top;\n",
       "    }\n",
       "\n",
       "    .dataframe thead th {\n",
       "        text-align: right;\n",
       "    }\n",
       "</style>\n",
       "<table border=\"1\" class=\"dataframe\">\n",
       "  <thead>\n",
       "    <tr style=\"text-align: right;\">\n",
       "      <th></th>\n",
       "      <th>GAMEID</th>\n",
       "      <th>FINAL_TEAM_NAME</th>\n",
       "      <th>Model2_Prediction</th>\n",
       "    </tr>\n",
       "  </thead>\n",
       "  <tbody>\n",
       "    <tr>\n",
       "      <th>0</th>\n",
       "      <td>1.0</td>\n",
       "      <td>Detroit Lions</td>\n",
       "      <td>25.956638</td>\n",
       "    </tr>\n",
       "    <tr>\n",
       "      <th>1</th>\n",
       "      <td>1.0</td>\n",
       "      <td>Chicago Bears</td>\n",
       "      <td>24.249333</td>\n",
       "    </tr>\n",
       "    <tr>\n",
       "      <th>2</th>\n",
       "      <td>2.0</td>\n",
       "      <td>Chicago Bears</td>\n",
       "      <td>24.249333</td>\n",
       "    </tr>\n",
       "    <tr>\n",
       "      <th>3</th>\n",
       "      <td>2.0</td>\n",
       "      <td>Detroit Lions</td>\n",
       "      <td>25.956638</td>\n",
       "    </tr>\n",
       "    <tr>\n",
       "      <th>4</th>\n",
       "      <td>3.0</td>\n",
       "      <td>Washington Redskins</td>\n",
       "      <td>25.486695</td>\n",
       "    </tr>\n",
       "    <tr>\n",
       "      <th>...</th>\n",
       "      <td>...</td>\n",
       "      <td>...</td>\n",
       "      <td>...</td>\n",
       "    </tr>\n",
       "    <tr>\n",
       "      <th>2897</th>\n",
       "      <td>1449.0</td>\n",
       "      <td>Kansas City Chiefs</td>\n",
       "      <td>30.255563</td>\n",
       "    </tr>\n",
       "    <tr>\n",
       "      <th>2898</th>\n",
       "      <td>1450.0</td>\n",
       "      <td>Oakland Raiders</td>\n",
       "      <td>23.314438</td>\n",
       "    </tr>\n",
       "    <tr>\n",
       "      <th>2899</th>\n",
       "      <td>1450.0</td>\n",
       "      <td>New England Patriots</td>\n",
       "      <td>24.719720</td>\n",
       "    </tr>\n",
       "    <tr>\n",
       "      <th>2900</th>\n",
       "      <td>1451.0</td>\n",
       "      <td>Buffalo Bills</td>\n",
       "      <td>28.567289</td>\n",
       "    </tr>\n",
       "    <tr>\n",
       "      <th>2901</th>\n",
       "      <td>1451.0</td>\n",
       "      <td>Oakland Raiders</td>\n",
       "      <td>24.823353</td>\n",
       "    </tr>\n",
       "  </tbody>\n",
       "</table>\n",
       "<p>2902 rows × 3 columns</p>\n",
       "</div>"
      ],
      "text/plain": [
       "      GAMEID       FINAL_TEAM_NAME  Model2_Prediction\n",
       "0        1.0         Detroit Lions          25.956638\n",
       "1        1.0         Chicago Bears          24.249333\n",
       "2        2.0         Chicago Bears          24.249333\n",
       "3        2.0         Detroit Lions          25.956638\n",
       "4        3.0   Washington Redskins          25.486695\n",
       "...      ...                   ...                ...\n",
       "2897  1449.0    Kansas City Chiefs          30.255563\n",
       "2898  1450.0       Oakland Raiders          23.314438\n",
       "2899  1450.0  New England Patriots          24.719720\n",
       "2900  1451.0         Buffalo Bills          28.567289\n",
       "2901  1451.0       Oakland Raiders          24.823353\n",
       "\n",
       "[2902 rows x 3 columns]"
      ]
     },
     "execution_count": 242,
     "metadata": {},
     "output_type": "execute_result"
    }
   ],
   "source": [
    "model_predictions_2"
   ]
  },
  {
   "cell_type": "code",
   "execution_count": 237,
   "metadata": {},
   "outputs": [
    {
     "data": {
      "text/html": [
       "<div>\n",
       "<style scoped>\n",
       "    .dataframe tbody tr th:only-of-type {\n",
       "        vertical-align: middle;\n",
       "    }\n",
       "\n",
       "    .dataframe tbody tr th {\n",
       "        vertical-align: top;\n",
       "    }\n",
       "\n",
       "    .dataframe thead th {\n",
       "        text-align: right;\n",
       "    }\n",
       "</style>\n",
       "<table border=\"1\" class=\"dataframe\">\n",
       "  <thead>\n",
       "    <tr style=\"text-align: right;\">\n",
       "      <th></th>\n",
       "      <th>GAMEID</th>\n",
       "      <th>FINAL_TEAM_NAME</th>\n",
       "      <th>Model1_Prediction</th>\n",
       "    </tr>\n",
       "  </thead>\n",
       "  <tbody>\n",
       "    <tr>\n",
       "      <th>0</th>\n",
       "      <td>1.0</td>\n",
       "      <td>Detroit Lions</td>\n",
       "      <td>21.490843</td>\n",
       "    </tr>\n",
       "    <tr>\n",
       "      <th>1</th>\n",
       "      <td>1.0</td>\n",
       "      <td>Chicago Bears</td>\n",
       "      <td>21.107693</td>\n",
       "    </tr>\n",
       "    <tr>\n",
       "      <th>2</th>\n",
       "      <td>2.0</td>\n",
       "      <td>Chicago Bears</td>\n",
       "      <td>21.107693</td>\n",
       "    </tr>\n",
       "    <tr>\n",
       "      <th>3</th>\n",
       "      <td>2.0</td>\n",
       "      <td>Detroit Lions</td>\n",
       "      <td>21.490843</td>\n",
       "    </tr>\n",
       "    <tr>\n",
       "      <th>4</th>\n",
       "      <td>3.0</td>\n",
       "      <td>Washington Redskins</td>\n",
       "      <td>20.979977</td>\n",
       "    </tr>\n",
       "    <tr>\n",
       "      <th>...</th>\n",
       "      <td>...</td>\n",
       "      <td>...</td>\n",
       "      <td>...</td>\n",
       "    </tr>\n",
       "    <tr>\n",
       "      <th>2897</th>\n",
       "      <td>1449.0</td>\n",
       "      <td>Kansas City Chiefs</td>\n",
       "      <td>29.345415</td>\n",
       "    </tr>\n",
       "    <tr>\n",
       "      <th>2898</th>\n",
       "      <td>1450.0</td>\n",
       "      <td>Oakland Raiders</td>\n",
       "      <td>22.640293</td>\n",
       "    </tr>\n",
       "    <tr>\n",
       "      <th>2899</th>\n",
       "      <td>1450.0</td>\n",
       "      <td>New England Patriots</td>\n",
       "      <td>22.704151</td>\n",
       "    </tr>\n",
       "    <tr>\n",
       "      <th>2900</th>\n",
       "      <td>1451.0</td>\n",
       "      <td>Buffalo Bills</td>\n",
       "      <td>23.981317</td>\n",
       "    </tr>\n",
       "    <tr>\n",
       "      <th>2901</th>\n",
       "      <td>1451.0</td>\n",
       "      <td>Oakland Raiders</td>\n",
       "      <td>22.640293</td>\n",
       "    </tr>\n",
       "  </tbody>\n",
       "</table>\n",
       "<p>2902 rows × 3 columns</p>\n",
       "</div>"
      ],
      "text/plain": [
       "      GAMEID       FINAL_TEAM_NAME  Model1_Prediction\n",
       "0        1.0         Detroit Lions          21.490843\n",
       "1        1.0         Chicago Bears          21.107693\n",
       "2        2.0         Chicago Bears          21.107693\n",
       "3        2.0         Detroit Lions          21.490843\n",
       "4        3.0   Washington Redskins          20.979977\n",
       "...      ...                   ...                ...\n",
       "2897  1449.0    Kansas City Chiefs          29.345415\n",
       "2898  1450.0       Oakland Raiders          22.640293\n",
       "2899  1450.0  New England Patriots          22.704151\n",
       "2900  1451.0         Buffalo Bills          23.981317\n",
       "2901  1451.0       Oakland Raiders          22.640293\n",
       "\n",
       "[2902 rows x 3 columns]"
      ]
     },
     "execution_count": 237,
     "metadata": {},
     "output_type": "execute_result"
    }
   ],
   "source": [
    "model_predictions_1"
   ]
  },
  {
   "cell_type": "code",
   "execution_count": 247,
   "metadata": {},
   "outputs": [],
   "source": [
    "predictions_12 = pd.concat([model_predictions_1, model_predictions_2.Model2_Prediction], axis=1)"
   ]
  },
  {
   "cell_type": "code",
   "execution_count": null,
   "metadata": {},
   "outputs": [],
   "source": []
  },
  {
   "cell_type": "markdown",
   "metadata": {},
   "source": [
    "## Model 3:\n",
    "### Past FPI and Introducing Yards and Turnovers"
   ]
  },
  {
   "cell_type": "code",
   "execution_count": 248,
   "metadata": {},
   "outputs": [
    {
     "data": {
      "text/plain": [
       "Index(['Unnamed: 0', 'Year', 'Week_x', 'Abbr_RDBMS_Winner', 'Week2', 'Day',\n",
       "       'Date', 'Time', 'Home_Team', 'FINAL_TEAM_NAME', 'Opponent',\n",
       "       'TEAM_POINTS', 'TEAM_YARDS', 'TEAM_TURNOVERS',\n",
       "       'TEAM_TURNOVER_DIFFERENTIAL', 'OPPONENTS_POINTS', 'OPPONENTS_YARDS',\n",
       "       'OPPONENTS_TURNOVERS', 'OPPONENTS_TURNOVER_DIFFERENTIAL',\n",
       "       'TEAM_POINT_MARGIN', 'GAMEID', 'BINARY_WIN', 'W-L-T', 'Power Index FPI',\n",
       "       'Power Index RK', 'Power Index TREND', 'Power Index OFF',\n",
       "       'Power Index DEF', 'Power Index ST', 'Ranks SOS', 'Ranks REM SOS',\n",
       "       'Ranks AVGWP', 'DIVISION_538_Winner', 'ELO WITH QB_538_Winner',\n",
       "       'ELO CHANGE_538_Winner', 'CURRENT QB ADJ_538_Winner',\n",
       "       'Points_Diff_538_Winner', 'Playoffs_Prob_538_Winner',\n",
       "       'Division_Prob_538_Winner', 'Bye_Prob_538_Winner', 'SB_Prob_538_Winner',\n",
       "       'REAL_WINS2_538_Winner', 'REAL_LOSSES2_538_Winner',\n",
       "       'REAL_TIES_538_Winner', 'PROJ_WINS4_538_Winner',\n",
       "       'PROJ_LOSS4_538_Winner', 'EPA/play_RDBMS_Winner',\n",
       "       'OVR_SUCCESS_RATE_RDBMS_Winner', 'Dropback EPA_RDBMS_Winner',\n",
       "       'DROPBACK_SR_RDBMS_Winner', 'Rush EPA_RDBMS_Winner',\n",
       "       'RUN_SR_RDBMS_Winner', 'TOTAL DVOA_FO_WEEKLY_Winner',\n",
       "       'LAST WEEK_FO_WEEKLY_Winner', 'DAVE_WEI_DVOA_FO_WEEKLY_Winner',\n",
       "       'OFFENSE DVOA_FO_WEEKLY_Winner', 'DEFENSE DVOA_FO_WEEKLY_Winner',\n",
       "       'S.T. DVOA_FO_WEEKLY_Winner', 'RK_FO_ANNUAL_Winner',\n",
       "       'TOTAL DVOA_FO_ANNUAL_Winner', 'DAVE_WEI_DVOA_FO_ANNUAL_Winner',\n",
       "       'OFFENSE DVOA_FO_ANNUAL_Winner', 'DEFENSE DVOA_FO_ANNUAL_Winner',\n",
       "       'S.T. DVOA_FO_ANNUAL_Winner', 'non-adj VOA_FO_ANNUAL_Winner',\n",
       "       'Last Year_FO_ANNUAL_Winner', 'ESTIM. WINS_FO_ANNUAL_Winner',\n",
       "       'SCHEDULE RANK_FO_ANNUAL_Winner', 'VAR._FO_ANNUAL_Winner',\n",
       "       'TOTAL_GAME_POINTS', 'TOTAL_GAME_YARDS', 'TOTAL_GAME_TURNOVERS',\n",
       "       'PLAYOFFS_BINARY', 'GAME_TYPE'],\n",
       "      dtype='object')"
      ]
     },
     "execution_count": 248,
     "metadata": {},
     "output_type": "execute_result"
    }
   ],
   "source": [
    "allTheStats2.columns"
   ]
  },
  {
   "cell_type": "code",
   "execution_count": 249,
   "metadata": {},
   "outputs": [],
   "source": [
    "opponentDef = allTheStats2.loc[:, [\"FINAL_TEAM_NAME\", 'Power Index DEF', \"GAMEID\"]]"
   ]
  },
  {
   "cell_type": "code",
   "execution_count": 250,
   "metadata": {},
   "outputs": [],
   "source": [
    "model_values=pd.merge(allTheStats2, opponentDef, left_on=[\"GAMEID\", \"Opponent\"], right_on=[\"GAMEID\", \"FINAL_TEAM_NAME\"], suffixes=(\"\", \"_Opp\"))"
   ]
  },
  {
   "cell_type": "code",
   "execution_count": 251,
   "metadata": {},
   "outputs": [],
   "source": [
    "allTheStats3=pd.merge(allTheStats2, opponentDef, left_on=[\"GAMEID\", \"Opponent\"], right_on=[\"GAMEID\", \"FINAL_TEAM_NAME\"], suffixes=(\"\", \"_Opp\"))"
   ]
  },
  {
   "cell_type": "code",
   "execution_count": 252,
   "metadata": {},
   "outputs": [],
   "source": [
    "model_values=model_values.loc[:, [\"TEAM_POINTS\", \"Power Index FPI\", 'Power Index OFF','Power Index DEF_Opp', 'Power Index ST', 'Ranks SOS', 'Ranks AVGWP',\n",
    "                                 \"TEAM_YARDS\", \"TEAM_TURNOVERS\"]]"
   ]
  },
  {
   "cell_type": "code",
   "execution_count": 253,
   "metadata": {},
   "outputs": [
    {
     "name": "stdout",
     "output_type": "stream",
     "text": [
      "<class 'pandas.core.frame.DataFrame'>\n",
      "Int64Index: 2902 entries, 0 to 2901\n",
      "Data columns (total 9 columns):\n",
      " #   Column               Non-Null Count  Dtype  \n",
      "---  ------               --------------  -----  \n",
      " 0   TEAM_POINTS          2902 non-null   float64\n",
      " 1   Power Index FPI      2902 non-null   float64\n",
      " 2   Power Index OFF      2902 non-null   float64\n",
      " 3   Power Index DEF_Opp  2902 non-null   float64\n",
      " 4   Power Index ST       2902 non-null   float64\n",
      " 5   Ranks SOS            2902 non-null   float64\n",
      " 6   Ranks AVGWP          2902 non-null   float64\n",
      " 7   TEAM_YARDS           2902 non-null   float64\n",
      " 8   TEAM_TURNOVERS       2902 non-null   float64\n",
      "dtypes: float64(9)\n",
      "memory usage: 226.7 KB\n"
     ]
    }
   ],
   "source": [
    "model_values.info()"
   ]
  },
  {
   "cell_type": "code",
   "execution_count": null,
   "metadata": {},
   "outputs": [],
   "source": []
  },
  {
   "cell_type": "code",
   "execution_count": 254,
   "metadata": {},
   "outputs": [],
   "source": [
    "model_3 = sklearn.linear_model.LinearRegression(normalize=True)"
   ]
  },
  {
   "cell_type": "code",
   "execution_count": null,
   "metadata": {},
   "outputs": [],
   "source": []
  },
  {
   "cell_type": "code",
   "execution_count": 286,
   "metadata": {},
   "outputs": [],
   "source": [
    "X = model_values.iloc[:,1:].values\n",
    "y = model_values.iloc[:,0].values"
   ]
  },
  {
   "cell_type": "code",
   "execution_count": null,
   "metadata": {},
   "outputs": [],
   "source": []
  },
  {
   "cell_type": "code",
   "execution_count": 291,
   "metadata": {},
   "outputs": [],
   "source": [
    "X_train, X_test, y_train, y_test = train_test_split(X,y)\n",
    "#X_train = X_train.reshape(-1)\n",
    "#X_test = X_test.reshape(-1)\n",
    "y_train = y_train.reshape(-1, 1)\n",
    "y_test = y_test.reshape(-1, 1)"
   ]
  },
  {
   "cell_type": "code",
   "execution_count": 292,
   "metadata": {},
   "outputs": [
    {
     "data": {
      "text/plain": [
       "LinearRegression(copy_X=True, fit_intercept=True, n_jobs=None, normalize=True)"
      ]
     },
     "execution_count": 292,
     "metadata": {},
     "output_type": "execute_result"
    }
   ],
   "source": [
    "model_3.fit(X_train, y_train)"
   ]
  },
  {
   "cell_type": "code",
   "execution_count": 293,
   "metadata": {},
   "outputs": [
    {
     "data": {
      "text/plain": [
       "0.4877758699207122"
      ]
     },
     "execution_count": 293,
     "metadata": {},
     "output_type": "execute_result"
    }
   ],
   "source": [
    "#R_sq Score\n",
    "model_3.score(X_train, y_train)"
   ]
  },
  {
   "cell_type": "code",
   "execution_count": 294,
   "metadata": {},
   "outputs": [
    {
     "data": {
      "text/plain": [
       "0.5308093754462411"
      ]
     },
     "execution_count": 294,
     "metadata": {},
     "output_type": "execute_result"
    }
   ],
   "source": [
    "model_3.score(X_test, y_test)"
   ]
  },
  {
   "cell_type": "code",
   "execution_count": 295,
   "metadata": {},
   "outputs": [
    {
     "data": {
      "text/plain": [
       "array([4.27564302])"
      ]
     },
     "execution_count": 295,
     "metadata": {},
     "output_type": "execute_result"
    }
   ],
   "source": [
    "model_3.intercept_"
   ]
  },
  {
   "cell_type": "code",
   "execution_count": 296,
   "metadata": {},
   "outputs": [
    {
     "data": {
      "text/plain": [
       "array([[ 0.11208271,  0.06262227, -0.2948755 ,  0.76401068,  0.01230253,\n",
       "        -0.09257412,  0.06451639, -1.82982766]])"
      ]
     },
     "execution_count": 296,
     "metadata": {},
     "output_type": "execute_result"
    }
   ],
   "source": [
    "model_3.coef_"
   ]
  },
  {
   "cell_type": "code",
   "execution_count": 297,
   "metadata": {},
   "outputs": [],
   "source": [
    "y_pred = model_3.predict(X_test)"
   ]
  },
  {
   "cell_type": "code",
   "execution_count": 298,
   "metadata": {},
   "outputs": [],
   "source": [
    "sq_resid = (y_pred - y_test)**2"
   ]
  },
  {
   "cell_type": "code",
   "execution_count": 299,
   "metadata": {},
   "outputs": [
    {
     "data": {
      "text/plain": [
       "5.409170175986392"
      ]
     },
     "execution_count": 299,
     "metadata": {},
     "output_type": "execute_result"
    }
   ],
   "source": [
    "# The Mean Squared Error\n",
    "pd.Series(sq_resid.reshape(-1)).apply(math.sqrt).mean()"
   ]
  },
  {
   "cell_type": "code",
   "execution_count": 300,
   "metadata": {},
   "outputs": [],
   "source": [
    "# Grid Search\n",
    "from sklearn.model_selection import GridSearchCV\n",
    "params = {'fit_intercept':[True,False], 'normalize':[True,False], 'copy_X':[True, False]}\n",
    "grid = GridSearchCV(model_3, params, verbose=3)"
   ]
  },
  {
   "cell_type": "code",
   "execution_count": 301,
   "metadata": {},
   "outputs": [
    {
     "name": "stdout",
     "output_type": "stream",
     "text": [
      "Fitting 5 folds for each of 8 candidates, totalling 40 fits\n",
      "[CV] copy_X=True, fit_intercept=True, normalize=True .................\n",
      "[CV]  copy_X=True, fit_intercept=True, normalize=True, score=0.465, total=   0.0s\n",
      "[CV] copy_X=True, fit_intercept=True, normalize=True .................\n",
      "[CV]  copy_X=True, fit_intercept=True, normalize=True, score=0.461, total=   0.0s\n",
      "[CV] copy_X=True, fit_intercept=True, normalize=True .................\n",
      "[CV]  copy_X=True, fit_intercept=True, normalize=True, score=0.473, total=   0.0s\n",
      "[CV] copy_X=True, fit_intercept=True, normalize=True .................\n",
      "[CV]  copy_X=True, fit_intercept=True, normalize=True, score=0.550, total=   0.0s\n",
      "[CV] copy_X=True, fit_intercept=True, normalize=True .................\n",
      "[CV]  copy_X=True, fit_intercept=True, normalize=True, score=0.463, total=   0.0s\n",
      "[CV] copy_X=True, fit_intercept=True, normalize=False ................\n",
      "[CV]  copy_X=True, fit_intercept=True, normalize=False, score=0.465, total=   0.0s\n",
      "[CV] copy_X=True, fit_intercept=True, normalize=False ................\n",
      "[CV]  copy_X=True, fit_intercept=True, normalize=False, score=0.461, total=   0.0s\n",
      "[CV] copy_X=True, fit_intercept=True, normalize=False ................\n",
      "[CV]  copy_X=True, fit_intercept=True, normalize=False, score=0.473, total=   0.0s\n",
      "[CV] copy_X=True, fit_intercept=True, normalize=False ................\n",
      "[CV]  copy_X=True, fit_intercept=True, normalize=False, score=0.550, total=   0.0s\n",
      "[CV] copy_X=True, fit_intercept=True, normalize=False ................\n",
      "[CV]  copy_X=True, fit_intercept=True, normalize=False, score=0.463, total=   0.0s\n",
      "[CV] copy_X=True, fit_intercept=False, normalize=True ................\n",
      "[CV]  copy_X=True, fit_intercept=False, normalize=True, score=0.459, total=   0.0s\n",
      "[CV] copy_X=True, fit_intercept=False, normalize=True ................\n",
      "[CV]  copy_X=True, fit_intercept=False, normalize=True, score=0.457, total=   0.0s\n",
      "[CV] copy_X=True, fit_intercept=False, normalize=True ................\n",
      "[CV]  copy_X=True, fit_intercept=False, normalize=True, score=0.469, total=   0.0s\n",
      "[CV] copy_X=True, fit_intercept=False, normalize=True ................\n",
      "[CV]  copy_X=True, fit_intercept=False, normalize=True, score=0.555, total=   0.0s\n",
      "[CV] copy_X=True, fit_intercept=False, normalize=True ................\n",
      "[CV]  copy_X=True, fit_intercept=False, normalize=True, score=0.452, total=   0.0s\n",
      "[CV] copy_X=True, fit_intercept=False, normalize=False ...............\n",
      "[CV]  copy_X=True, fit_intercept=False, normalize=False, score=0.459, total=   0.0s\n",
      "[CV] copy_X=True, fit_intercept=False, normalize=False ...............\n",
      "[CV]  copy_X=True, fit_intercept=False, normalize=False, score=0.457, total=   0.0s\n",
      "[CV] copy_X=True, fit_intercept=False, normalize=False ...............\n",
      "[CV]  copy_X=True, fit_intercept=False, normalize=False, score=0.469, total=   0.0s\n",
      "[CV] copy_X=True, fit_intercept=False, normalize=False ...............\n",
      "[CV]  copy_X=True, fit_intercept=False, normalize=False, score=0.555, total=   0.0s\n",
      "[CV] copy_X=True, fit_intercept=False, normalize=False ...............\n",
      "[CV]  copy_X=True, fit_intercept=False, normalize=False, score=0.452, total=   0.0s\n",
      "[CV] copy_X=False, fit_intercept=True, normalize=True ................\n",
      "[CV]  copy_X=False, fit_intercept=True, normalize=True, score=0.465, total=   0.0s\n",
      "[CV] copy_X=False, fit_intercept=True, normalize=True ................\n",
      "[CV]  copy_X=False, fit_intercept=True, normalize=True, score=0.461, total=   0.0s\n",
      "[CV] copy_X=False, fit_intercept=True, normalize=True ................\n",
      "[CV]  copy_X=False, fit_intercept=True, normalize=True, score=0.473, total=   0.0s\n",
      "[CV] copy_X=False, fit_intercept=True, normalize=True ................\n",
      "[CV]  copy_X=False, fit_intercept=True, normalize=True, score=0.550, total=   0.0s\n",
      "[CV] copy_X=False, fit_intercept=True, normalize=True ................\n",
      "[CV]  copy_X=False, fit_intercept=True, normalize=True, score=0.463, total=   0.0s\n",
      "[CV] copy_X=False, fit_intercept=True, normalize=False ...............\n",
      "[CV]  copy_X=False, fit_intercept=True, normalize=False, score=0.465, total=   0.0s\n",
      "[CV] copy_X=False, fit_intercept=True, normalize=False ...............\n",
      "[CV]  copy_X=False, fit_intercept=True, normalize=False, score=0.461, total=   0.0s\n",
      "[CV] copy_X=False, fit_intercept=True, normalize=False ...............\n",
      "[CV]  copy_X=False, fit_intercept=True, normalize=False, score=0.473, total=   0.0s\n",
      "[CV] copy_X=False, fit_intercept=True, normalize=False ...............\n",
      "[CV]  copy_X=False, fit_intercept=True, normalize=False, score=0.550, total=   0.0s\n",
      "[CV] copy_X=False, fit_intercept=True, normalize=False ...............\n",
      "[CV]  copy_X=False, fit_intercept=True, normalize=False, score=0.463, total=   0.0s\n",
      "[CV] copy_X=False, fit_intercept=False, normalize=True ...............\n",
      "[CV]  copy_X=False, fit_intercept=False, normalize=True, score=0.459, total=   0.0s\n",
      "[CV] copy_X=False, fit_intercept=False, normalize=True ...............\n",
      "[CV]  copy_X=False, fit_intercept=False, normalize=True, score=0.457, total=   0.0s\n",
      "[CV] copy_X=False, fit_intercept=False, normalize=True ...............\n",
      "[CV]  copy_X=False, fit_intercept=False, normalize=True, score=0.469, total=   0.0s\n",
      "[CV] copy_X=False, fit_intercept=False, normalize=True ...............\n",
      "[CV]  copy_X=False, fit_intercept=False, normalize=True, score=0.555, total=   0.0s\n",
      "[CV] copy_X=False, fit_intercept=False, normalize=True ...............\n",
      "[CV]  copy_X=False, fit_intercept=False, normalize=True, score=0.452, total=   0.0s\n",
      "[CV] copy_X=False, fit_intercept=False, normalize=False ..............\n",
      "[CV]  copy_X=False, fit_intercept=False, normalize=False, score=0.459, total=   0.0s\n",
      "[CV] copy_X=False, fit_intercept=False, normalize=False ..............\n",
      "[CV]  copy_X=False, fit_intercept=False, normalize=False, score=0.457, total=   0.0s\n",
      "[CV] copy_X=False, fit_intercept=False, normalize=False ..............\n",
      "[CV]  copy_X=False, fit_intercept=False, normalize=False, score=0.469, total=   0.0s\n",
      "[CV] copy_X=False, fit_intercept=False, normalize=False ..............\n",
      "[CV]  copy_X=False, fit_intercept=False, normalize=False, score=0.555, total=   0.0s\n",
      "[CV] copy_X=False, fit_intercept=False, normalize=False ..............\n",
      "[CV]  copy_X=False, fit_intercept=False, normalize=False, score=0.452, total=   0.0s\n"
     ]
    },
    {
     "name": "stderr",
     "output_type": "stream",
     "text": [
      "[Parallel(n_jobs=1)]: Using backend SequentialBackend with 1 concurrent workers.\n",
      "[Parallel(n_jobs=1)]: Done   1 out of   1 | elapsed:    0.0s remaining:    0.0s\n",
      "[Parallel(n_jobs=1)]: Done   2 out of   2 | elapsed:    0.0s remaining:    0.0s\n",
      "[Parallel(n_jobs=1)]: Done  40 out of  40 | elapsed:    0.0s finished\n"
     ]
    },
    {
     "data": {
      "text/plain": [
       "GridSearchCV(cv=None, error_score=nan,\n",
       "             estimator=LinearRegression(copy_X=True, fit_intercept=True,\n",
       "                                        n_jobs=None, normalize=True),\n",
       "             iid='deprecated', n_jobs=None,\n",
       "             param_grid={'copy_X': [True, False],\n",
       "                         'fit_intercept': [True, False],\n",
       "                         'normalize': [True, False]},\n",
       "             pre_dispatch='2*n_jobs', refit=True, return_train_score=False,\n",
       "             scoring=None, verbose=3)"
      ]
     },
     "execution_count": 301,
     "metadata": {},
     "output_type": "execute_result"
    }
   ],
   "source": [
    "# Train the model with GridSearch\n",
    "grid.fit(X_train,y_train)"
   ]
  },
  {
   "cell_type": "code",
   "execution_count": 302,
   "metadata": {},
   "outputs": [
    {
     "data": {
      "text/plain": [
       "0.48236867019506774"
      ]
     },
     "execution_count": 302,
     "metadata": {},
     "output_type": "execute_result"
    }
   ],
   "source": [
    "grid.best_score_"
   ]
  },
  {
   "cell_type": "code",
   "execution_count": 303,
   "metadata": {},
   "outputs": [],
   "source": [
    "ys = grid.predict(X_test)"
   ]
  },
  {
   "cell_type": "code",
   "execution_count": 304,
   "metadata": {},
   "outputs": [],
   "source": [
    "resids = (ys - y_test)**2"
   ]
  },
  {
   "cell_type": "code",
   "execution_count": 305,
   "metadata": {},
   "outputs": [
    {
     "data": {
      "text/plain": [
       "5.409170175986392"
      ]
     },
     "execution_count": 305,
     "metadata": {},
     "output_type": "execute_result"
    }
   ],
   "source": [
    "pd.Series(resids.reshape(-1)).apply(math.sqrt).mean()"
   ]
  },
  {
   "cell_type": "code",
   "execution_count": 306,
   "metadata": {},
   "outputs": [],
   "source": [
    "from sklearn.metrics import r2_score"
   ]
  },
  {
   "cell_type": "code",
   "execution_count": 307,
   "metadata": {},
   "outputs": [
    {
     "data": {
      "text/plain": [
       "0.5308093754462408"
      ]
     },
     "execution_count": 307,
     "metadata": {},
     "output_type": "execute_result"
    }
   ],
   "source": [
    "r2_score(y_test, ys)"
   ]
  },
  {
   "cell_type": "code",
   "execution_count": 308,
   "metadata": {},
   "outputs": [
    {
     "data": {
      "text/plain": [
       "(2902, 8)"
      ]
     },
     "execution_count": 308,
     "metadata": {},
     "output_type": "execute_result"
    }
   ],
   "source": [
    "X.shape"
   ]
  },
  {
   "cell_type": "code",
   "execution_count": 284,
   "metadata": {},
   "outputs": [],
   "source": [
    "X = X.reshape(-1, 1)"
   ]
  },
  {
   "cell_type": "code",
   "execution_count": null,
   "metadata": {},
   "outputs": [],
   "source": []
  },
  {
   "cell_type": "code",
   "execution_count": 310,
   "metadata": {},
   "outputs": [],
   "source": [
    "y_prediction3 = model_3.predict(X)"
   ]
  },
  {
   "cell_type": "code",
   "execution_count": null,
   "metadata": {},
   "outputs": [],
   "source": []
  },
  {
   "cell_type": "code",
   "execution_count": 313,
   "metadata": {},
   "outputs": [],
   "source": [
    "predictions_3 = pd.Series(y_prediction3.reshape(-1), name=\"Model3_Prediction\")"
   ]
  },
  {
   "cell_type": "code",
   "execution_count": 314,
   "metadata": {},
   "outputs": [],
   "source": [
    "model_predictions_3 = pd.concat([allTheStats.loc[:, [\"GAMEID\", \"FINAL_TEAM_NAME\"]], predictions_3], axis=1)"
   ]
  },
  {
   "cell_type": "code",
   "execution_count": 315,
   "metadata": {},
   "outputs": [
    {
     "data": {
      "text/html": [
       "<div>\n",
       "<style scoped>\n",
       "    .dataframe tbody tr th:only-of-type {\n",
       "        vertical-align: middle;\n",
       "    }\n",
       "\n",
       "    .dataframe tbody tr th {\n",
       "        vertical-align: top;\n",
       "    }\n",
       "\n",
       "    .dataframe thead th {\n",
       "        text-align: right;\n",
       "    }\n",
       "</style>\n",
       "<table border=\"1\" class=\"dataframe\">\n",
       "  <thead>\n",
       "    <tr style=\"text-align: right;\">\n",
       "      <th></th>\n",
       "      <th>GAMEID</th>\n",
       "      <th>FINAL_TEAM_NAME</th>\n",
       "      <th>Model3_Prediction</th>\n",
       "    </tr>\n",
       "  </thead>\n",
       "  <tbody>\n",
       "    <tr>\n",
       "      <th>0</th>\n",
       "      <td>1.0</td>\n",
       "      <td>Detroit Lions</td>\n",
       "      <td>26.019291</td>\n",
       "    </tr>\n",
       "    <tr>\n",
       "      <th>1</th>\n",
       "      <td>1.0</td>\n",
       "      <td>Chicago Bears</td>\n",
       "      <td>19.114992</td>\n",
       "    </tr>\n",
       "    <tr>\n",
       "      <th>2</th>\n",
       "      <td>2.0</td>\n",
       "      <td>Chicago Bears</td>\n",
       "      <td>29.161770</td>\n",
       "    </tr>\n",
       "    <tr>\n",
       "      <th>3</th>\n",
       "      <td>2.0</td>\n",
       "      <td>Detroit Lions</td>\n",
       "      <td>33.239537</td>\n",
       "    </tr>\n",
       "    <tr>\n",
       "      <th>4</th>\n",
       "      <td>3.0</td>\n",
       "      <td>Washington Redskins</td>\n",
       "      <td>26.261249</td>\n",
       "    </tr>\n",
       "    <tr>\n",
       "      <th>...</th>\n",
       "      <td>...</td>\n",
       "      <td>...</td>\n",
       "      <td>...</td>\n",
       "    </tr>\n",
       "    <tr>\n",
       "      <th>2897</th>\n",
       "      <td>1449.0</td>\n",
       "      <td>Kansas City Chiefs</td>\n",
       "      <td>34.300707</td>\n",
       "    </tr>\n",
       "    <tr>\n",
       "      <th>2898</th>\n",
       "      <td>1450.0</td>\n",
       "      <td>Oakland Raiders</td>\n",
       "      <td>20.871386</td>\n",
       "    </tr>\n",
       "    <tr>\n",
       "      <th>2899</th>\n",
       "      <td>1450.0</td>\n",
       "      <td>New England Patriots</td>\n",
       "      <td>27.640827</td>\n",
       "    </tr>\n",
       "    <tr>\n",
       "      <th>2900</th>\n",
       "      <td>1451.0</td>\n",
       "      <td>Buffalo Bills</td>\n",
       "      <td>26.952137</td>\n",
       "    </tr>\n",
       "    <tr>\n",
       "      <th>2901</th>\n",
       "      <td>1451.0</td>\n",
       "      <td>Oakland Raiders</td>\n",
       "      <td>23.659658</td>\n",
       "    </tr>\n",
       "  </tbody>\n",
       "</table>\n",
       "<p>2902 rows × 3 columns</p>\n",
       "</div>"
      ],
      "text/plain": [
       "      GAMEID       FINAL_TEAM_NAME  Model3_Prediction\n",
       "0        1.0         Detroit Lions          26.019291\n",
       "1        1.0         Chicago Bears          19.114992\n",
       "2        2.0         Chicago Bears          29.161770\n",
       "3        2.0         Detroit Lions          33.239537\n",
       "4        3.0   Washington Redskins          26.261249\n",
       "...      ...                   ...                ...\n",
       "2897  1449.0    Kansas City Chiefs          34.300707\n",
       "2898  1450.0       Oakland Raiders          20.871386\n",
       "2899  1450.0  New England Patriots          27.640827\n",
       "2900  1451.0         Buffalo Bills          26.952137\n",
       "2901  1451.0       Oakland Raiders          23.659658\n",
       "\n",
       "[2902 rows x 3 columns]"
      ]
     },
     "execution_count": 315,
     "metadata": {},
     "output_type": "execute_result"
    }
   ],
   "source": [
    "model_predictions_3"
   ]
  },
  {
   "cell_type": "code",
   "execution_count": 237,
   "metadata": {},
   "outputs": [
    {
     "data": {
      "text/html": [
       "<div>\n",
       "<style scoped>\n",
       "    .dataframe tbody tr th:only-of-type {\n",
       "        vertical-align: middle;\n",
       "    }\n",
       "\n",
       "    .dataframe tbody tr th {\n",
       "        vertical-align: top;\n",
       "    }\n",
       "\n",
       "    .dataframe thead th {\n",
       "        text-align: right;\n",
       "    }\n",
       "</style>\n",
       "<table border=\"1\" class=\"dataframe\">\n",
       "  <thead>\n",
       "    <tr style=\"text-align: right;\">\n",
       "      <th></th>\n",
       "      <th>GAMEID</th>\n",
       "      <th>FINAL_TEAM_NAME</th>\n",
       "      <th>Model1_Prediction</th>\n",
       "    </tr>\n",
       "  </thead>\n",
       "  <tbody>\n",
       "    <tr>\n",
       "      <th>0</th>\n",
       "      <td>1.0</td>\n",
       "      <td>Detroit Lions</td>\n",
       "      <td>21.490843</td>\n",
       "    </tr>\n",
       "    <tr>\n",
       "      <th>1</th>\n",
       "      <td>1.0</td>\n",
       "      <td>Chicago Bears</td>\n",
       "      <td>21.107693</td>\n",
       "    </tr>\n",
       "    <tr>\n",
       "      <th>2</th>\n",
       "      <td>2.0</td>\n",
       "      <td>Chicago Bears</td>\n",
       "      <td>21.107693</td>\n",
       "    </tr>\n",
       "    <tr>\n",
       "      <th>3</th>\n",
       "      <td>2.0</td>\n",
       "      <td>Detroit Lions</td>\n",
       "      <td>21.490843</td>\n",
       "    </tr>\n",
       "    <tr>\n",
       "      <th>4</th>\n",
       "      <td>3.0</td>\n",
       "      <td>Washington Redskins</td>\n",
       "      <td>20.979977</td>\n",
       "    </tr>\n",
       "    <tr>\n",
       "      <th>...</th>\n",
       "      <td>...</td>\n",
       "      <td>...</td>\n",
       "      <td>...</td>\n",
       "    </tr>\n",
       "    <tr>\n",
       "      <th>2897</th>\n",
       "      <td>1449.0</td>\n",
       "      <td>Kansas City Chiefs</td>\n",
       "      <td>29.345415</td>\n",
       "    </tr>\n",
       "    <tr>\n",
       "      <th>2898</th>\n",
       "      <td>1450.0</td>\n",
       "      <td>Oakland Raiders</td>\n",
       "      <td>22.640293</td>\n",
       "    </tr>\n",
       "    <tr>\n",
       "      <th>2899</th>\n",
       "      <td>1450.0</td>\n",
       "      <td>New England Patriots</td>\n",
       "      <td>22.704151</td>\n",
       "    </tr>\n",
       "    <tr>\n",
       "      <th>2900</th>\n",
       "      <td>1451.0</td>\n",
       "      <td>Buffalo Bills</td>\n",
       "      <td>23.981317</td>\n",
       "    </tr>\n",
       "    <tr>\n",
       "      <th>2901</th>\n",
       "      <td>1451.0</td>\n",
       "      <td>Oakland Raiders</td>\n",
       "      <td>22.640293</td>\n",
       "    </tr>\n",
       "  </tbody>\n",
       "</table>\n",
       "<p>2902 rows × 3 columns</p>\n",
       "</div>"
      ],
      "text/plain": [
       "      GAMEID       FINAL_TEAM_NAME  Model1_Prediction\n",
       "0        1.0         Detroit Lions          21.490843\n",
       "1        1.0         Chicago Bears          21.107693\n",
       "2        2.0         Chicago Bears          21.107693\n",
       "3        2.0         Detroit Lions          21.490843\n",
       "4        3.0   Washington Redskins          20.979977\n",
       "...      ...                   ...                ...\n",
       "2897  1449.0    Kansas City Chiefs          29.345415\n",
       "2898  1450.0       Oakland Raiders          22.640293\n",
       "2899  1450.0  New England Patriots          22.704151\n",
       "2900  1451.0         Buffalo Bills          23.981317\n",
       "2901  1451.0       Oakland Raiders          22.640293\n",
       "\n",
       "[2902 rows x 3 columns]"
      ]
     },
     "execution_count": 237,
     "metadata": {},
     "output_type": "execute_result"
    }
   ],
   "source": [
    "model_predictions_1"
   ]
  },
  {
   "cell_type": "code",
   "execution_count": 316,
   "metadata": {},
   "outputs": [],
   "source": [
    "predictions_123 = pd.concat([predictions_12 , model_predictions_3.Model3_Prediction], axis=1)"
   ]
  },
  {
   "cell_type": "code",
   "execution_count": null,
   "metadata": {},
   "outputs": [],
   "source": []
  },
  {
   "cell_type": "markdown",
   "metadata": {},
   "source": [
    "## Model 4:\n",
    "### Could A Classifier Work For a Regression Problem (Random Forest)"
   ]
  },
  {
   "cell_type": "code",
   "execution_count": 136,
   "metadata": {},
   "outputs": [
    {
     "data": {
      "text/plain": [
       "Index(['Unnamed: 0', 'Year', 'Week_x', 'Abbr_RDBMS_Winner', 'Week2', 'Day',\n",
       "       'Date', 'Time', 'Home_Team', 'FINAL_TEAM_NAME', 'Opponent',\n",
       "       'TEAM_POINTS', 'TEAM_YARDS', 'TEAM_TURNOVERS',\n",
       "       'TEAM_TURNOVER_DIFFERENTIAL', 'OPPONENTS_POINTS', 'OPPONENTS_YARDS',\n",
       "       'OPPONENTS_TURNOVERS', 'OPPONENTS_TURNOVER_DIFFERENTIAL',\n",
       "       'TEAM_POINT_MARGIN', 'GAMEID', 'BINARY_WIN', 'W-L-T', 'Power Index FPI',\n",
       "       'Power Index RK', 'Power Index TREND', 'Power Index OFF',\n",
       "       'Power Index DEF', 'Power Index ST', 'Ranks SOS', 'Ranks REM SOS',\n",
       "       'Ranks AVGWP', 'DIVISION_538_Winner', 'ELO WITH QB_538_Winner',\n",
       "       'ELO CHANGE_538_Winner', 'CURRENT QB ADJ_538_Winner',\n",
       "       'Points_Diff_538_Winner', 'Playoffs_Prob_538_Winner',\n",
       "       'Division_Prob_538_Winner', 'Bye_Prob_538_Winner', 'SB_Prob_538_Winner',\n",
       "       'REAL_WINS2_538_Winner', 'REAL_LOSSES2_538_Winner',\n",
       "       'REAL_TIES_538_Winner', 'PROJ_WINS4_538_Winner',\n",
       "       'PROJ_LOSS4_538_Winner', 'EPA/play_RDBMS_Winner',\n",
       "       'OVR_SUCCESS_RATE_RDBMS_Winner', 'Dropback EPA_RDBMS_Winner',\n",
       "       'DROPBACK_SR_RDBMS_Winner', 'Rush EPA_RDBMS_Winner',\n",
       "       'RUN_SR_RDBMS_Winner', 'TOTAL DVOA_FO_WEEKLY_Winner',\n",
       "       'LAST WEEK_FO_WEEKLY_Winner', 'DAVE_WEI_DVOA_FO_WEEKLY_Winner',\n",
       "       'OFFENSE DVOA_FO_WEEKLY_Winner', 'DEFENSE DVOA_FO_WEEKLY_Winner',\n",
       "       'S.T. DVOA_FO_WEEKLY_Winner', 'RK_FO_ANNUAL_Winner',\n",
       "       'TOTAL DVOA_FO_ANNUAL_Winner', 'DAVE_WEI_DVOA_FO_ANNUAL_Winner',\n",
       "       'OFFENSE DVOA_FO_ANNUAL_Winner', 'DEFENSE DVOA_FO_ANNUAL_Winner',\n",
       "       'S.T. DVOA_FO_ANNUAL_Winner', 'non-adj VOA_FO_ANNUAL_Winner',\n",
       "       'Last Year_FO_ANNUAL_Winner', 'ESTIM. WINS_FO_ANNUAL_Winner',\n",
       "       'SCHEDULE RANK_FO_ANNUAL_Winner', 'VAR._FO_ANNUAL_Winner',\n",
       "       'TOTAL_GAME_POINTS', 'TOTAL_GAME_YARDS', 'TOTAL_GAME_TURNOVERS',\n",
       "       'PLAYOFFS_BINARY', 'GAME_TYPE', 'FINAL_TEAM_NAME_Opp',\n",
       "       'Power Index DEF_Opp'],\n",
       "      dtype='object')"
      ]
     },
     "execution_count": 136,
     "metadata": {},
     "output_type": "execute_result"
    }
   ],
   "source": [
    "allTheStats3.columns"
   ]
  },
  {
   "cell_type": "code",
   "execution_count": 318,
   "metadata": {},
   "outputs": [],
   "source": [
    "model_values=allTheStats3.loc[:, [\"TEAM_POINTS\", \"Power Index FPI\", 'Power Index OFF','Power Index DEF_Opp', 'Power Index ST', 'Ranks SOS', 'Ranks AVGWP',\n",
    "                                 \"TEAM_YARDS\", \"TEAM_TURNOVERS\"]]"
   ]
  },
  {
   "cell_type": "code",
   "execution_count": 319,
   "metadata": {},
   "outputs": [
    {
     "name": "stdout",
     "output_type": "stream",
     "text": [
      "<class 'pandas.core.frame.DataFrame'>\n",
      "Int64Index: 2902 entries, 0 to 2901\n",
      "Data columns (total 9 columns):\n",
      " #   Column               Non-Null Count  Dtype  \n",
      "---  ------               --------------  -----  \n",
      " 0   TEAM_POINTS          2902 non-null   float64\n",
      " 1   Power Index FPI      2902 non-null   float64\n",
      " 2   Power Index OFF      2902 non-null   float64\n",
      " 3   Power Index DEF_Opp  2902 non-null   float64\n",
      " 4   Power Index ST       2902 non-null   float64\n",
      " 5   Ranks SOS            2902 non-null   float64\n",
      " 6   Ranks AVGWP          2902 non-null   float64\n",
      " 7   TEAM_YARDS           2902 non-null   float64\n",
      " 8   TEAM_TURNOVERS       2902 non-null   float64\n",
      "dtypes: float64(9)\n",
      "memory usage: 226.7 KB\n"
     ]
    }
   ],
   "source": [
    "model_values.info()"
   ]
  },
  {
   "cell_type": "code",
   "execution_count": 320,
   "metadata": {},
   "outputs": [],
   "source": [
    "from sklearn.ensemble import RandomForestClassifier"
   ]
  },
  {
   "cell_type": "code",
   "execution_count": 321,
   "metadata": {},
   "outputs": [],
   "source": [
    "rf = RandomForestClassifier(n_estimators=4000, criterion=\"gini\", max_depth=5)"
   ]
  },
  {
   "cell_type": "code",
   "execution_count": null,
   "metadata": {},
   "outputs": [],
   "source": []
  },
  {
   "cell_type": "code",
   "execution_count": 322,
   "metadata": {},
   "outputs": [],
   "source": [
    "X = model_values.iloc[:,1:].values\n",
    "y = model_values.iloc[:,0].values"
   ]
  },
  {
   "cell_type": "code",
   "execution_count": null,
   "metadata": {},
   "outputs": [],
   "source": []
  },
  {
   "cell_type": "code",
   "execution_count": 323,
   "metadata": {},
   "outputs": [],
   "source": [
    "X_train, X_test, y_train, y_test = train_test_split(X,y)\n",
    "#X_train = X_train.reshape(-1)\n",
    "#X_test = X_test.reshape(-1)\n",
    "y_train = y_train.reshape(-1, 1)\n",
    "y_test = y_test.reshape(-1, 1)"
   ]
  },
  {
   "cell_type": "code",
   "execution_count": 324,
   "metadata": {},
   "outputs": [
    {
     "name": "stderr",
     "output_type": "stream",
     "text": [
      "C:\\Users\\Kyle\\anaconda3\\lib\\site-packages\\ipykernel_launcher.py:1: DataConversionWarning: A column-vector y was passed when a 1d array was expected. Please change the shape of y to (n_samples,), for example using ravel().\n",
      "  \"\"\"Entry point for launching an IPython kernel.\n"
     ]
    },
    {
     "data": {
      "text/plain": [
       "RandomForestClassifier(bootstrap=True, ccp_alpha=0.0, class_weight=None,\n",
       "                       criterion='gini', max_depth=5, max_features='auto',\n",
       "                       max_leaf_nodes=None, max_samples=None,\n",
       "                       min_impurity_decrease=0.0, min_impurity_split=None,\n",
       "                       min_samples_leaf=1, min_samples_split=2,\n",
       "                       min_weight_fraction_leaf=0.0, n_estimators=4000,\n",
       "                       n_jobs=None, oob_score=False, random_state=None,\n",
       "                       verbose=0, warm_start=False)"
      ]
     },
     "execution_count": 324,
     "metadata": {},
     "output_type": "execute_result"
    }
   ],
   "source": [
    "rf.fit(X_train, y_train)"
   ]
  },
  {
   "cell_type": "code",
   "execution_count": 325,
   "metadata": {},
   "outputs": [
    {
     "data": {
      "text/plain": [
       "0.26608455882352944"
      ]
     },
     "execution_count": 325,
     "metadata": {},
     "output_type": "execute_result"
    }
   ],
   "source": [
    "#R_sq Score\n",
    "rf.score(X_train, y_train)"
   ]
  },
  {
   "cell_type": "code",
   "execution_count": 326,
   "metadata": {},
   "outputs": [
    {
     "data": {
      "text/plain": [
       "0.081267217630854"
      ]
     },
     "execution_count": 326,
     "metadata": {},
     "output_type": "execute_result"
    }
   ],
   "source": [
    "rf.score(X_test, y_test)"
   ]
  },
  {
   "cell_type": "code",
   "execution_count": 327,
   "metadata": {},
   "outputs": [
    {
     "data": {
      "text/plain": [
       "array([ 0.,  3.,  5.,  6.,  7.,  8.,  9., 10., 11., 12., 13., 14., 15.,\n",
       "       16., 17., 18., 19., 20., 21., 22., 23., 24., 25., 26., 27., 28.,\n",
       "       29., 30., 31., 32., 33., 34., 35., 36., 37., 38., 39., 40., 41.,\n",
       "       42., 43., 44., 45., 46., 47., 48., 49., 51., 52., 54., 55., 57.])"
      ]
     },
     "execution_count": 327,
     "metadata": {},
     "output_type": "execute_result"
    }
   ],
   "source": [
    "rf.classes_"
   ]
  },
  {
   "cell_type": "code",
   "execution_count": null,
   "metadata": {},
   "outputs": [],
   "source": []
  },
  {
   "cell_type": "code",
   "execution_count": 328,
   "metadata": {},
   "outputs": [],
   "source": [
    "y_pred = rf.predict(X_test)"
   ]
  },
  {
   "cell_type": "code",
   "execution_count": 329,
   "metadata": {},
   "outputs": [],
   "source": [
    "sq_resid = (y_pred - y_test)**2"
   ]
  },
  {
   "cell_type": "code",
   "execution_count": 330,
   "metadata": {},
   "outputs": [
    {
     "data": {
      "text/plain": [
       "9.538559904074555"
      ]
     },
     "execution_count": 330,
     "metadata": {},
     "output_type": "execute_result"
    }
   ],
   "source": [
    "# The Mean Squared Error\n",
    "pd.Series(sq_resid.reshape(-1)).apply(math.sqrt).mean()"
   ]
  },
  {
   "cell_type": "code",
   "execution_count": 331,
   "metadata": {},
   "outputs": [],
   "source": [
    "## STOP POINT FOR RF ##"
   ]
  },
  {
   "cell_type": "code",
   "execution_count": 332,
   "metadata": {},
   "outputs": [],
   "source": [
    "from sklearn.model_selection import RandomizedSearchCV"
   ]
  },
  {
   "cell_type": "code",
   "execution_count": 333,
   "metadata": {},
   "outputs": [],
   "source": [
    "# Grid Search\n",
    "from sklearn.model_selection import RandomizedSearchCV\n",
    "params = {'n_estimators':[4,40,400,4000,8000], 'criterion':[\"gini\", \"entropy\"], \"max_depth\":[2, 5, 10]}\n",
    "grid = RandomizedSearchCV(rf, params, verbose=3)"
   ]
  },
  {
   "cell_type": "code",
   "execution_count": 334,
   "metadata": {
    "scrolled": true
   },
   "outputs": [
    {
     "name": "stdout",
     "output_type": "stream",
     "text": [
      "Fitting 5 folds for each of 10 candidates, totalling 50 fits\n",
      "[CV] n_estimators=400, max_depth=10, criterion=gini ..................\n"
     ]
    },
    {
     "name": "stderr",
     "output_type": "stream",
     "text": [
      "C:\\Users\\Kyle\\anaconda3\\lib\\site-packages\\sklearn\\model_selection\\_split.py:667: UserWarning: The least populated class in y has only 1 members, which is less than n_splits=5.\n",
      "  % (min_groups, self.n_splits)), UserWarning)\n",
      "[Parallel(n_jobs=1)]: Using backend SequentialBackend with 1 concurrent workers.\n",
      "C:\\Users\\Kyle\\anaconda3\\lib\\site-packages\\sklearn\\model_selection\\_validation.py:515: DataConversionWarning: A column-vector y was passed when a 1d array was expected. Please change the shape of y to (n_samples,), for example using ravel().\n",
      "  estimator.fit(X_train, y_train, **fit_params)\n"
     ]
    },
    {
     "name": "stdout",
     "output_type": "stream",
     "text": [
      "[CV]  n_estimators=400, max_depth=10, criterion=gini, score=0.101, total=   1.1s\n",
      "[CV] n_estimators=400, max_depth=10, criterion=gini ..................\n"
     ]
    },
    {
     "name": "stderr",
     "output_type": "stream",
     "text": [
      "[Parallel(n_jobs=1)]: Done   1 out of   1 | elapsed:    1.0s remaining:    0.0s\n",
      "C:\\Users\\Kyle\\anaconda3\\lib\\site-packages\\sklearn\\model_selection\\_validation.py:515: DataConversionWarning: A column-vector y was passed when a 1d array was expected. Please change the shape of y to (n_samples,), for example using ravel().\n",
      "  estimator.fit(X_train, y_train, **fit_params)\n"
     ]
    },
    {
     "name": "stdout",
     "output_type": "stream",
     "text": [
      "[CV]  n_estimators=400, max_depth=10, criterion=gini, score=0.097, total=   1.1s\n",
      "[CV] n_estimators=400, max_depth=10, criterion=gini ..................\n"
     ]
    },
    {
     "name": "stderr",
     "output_type": "stream",
     "text": [
      "[Parallel(n_jobs=1)]: Done   2 out of   2 | elapsed:    2.0s remaining:    0.0s\n",
      "C:\\Users\\Kyle\\anaconda3\\lib\\site-packages\\sklearn\\model_selection\\_validation.py:515: DataConversionWarning: A column-vector y was passed when a 1d array was expected. Please change the shape of y to (n_samples,), for example using ravel().\n",
      "  estimator.fit(X_train, y_train, **fit_params)\n"
     ]
    },
    {
     "name": "stdout",
     "output_type": "stream",
     "text": [
      "[CV]  n_estimators=400, max_depth=10, criterion=gini, score=0.076, total=   1.1s\n",
      "[CV] n_estimators=400, max_depth=10, criterion=gini ..................\n"
     ]
    },
    {
     "name": "stderr",
     "output_type": "stream",
     "text": [
      "C:\\Users\\Kyle\\anaconda3\\lib\\site-packages\\sklearn\\model_selection\\_validation.py:515: DataConversionWarning: A column-vector y was passed when a 1d array was expected. Please change the shape of y to (n_samples,), for example using ravel().\n",
      "  estimator.fit(X_train, y_train, **fit_params)\n"
     ]
    },
    {
     "name": "stdout",
     "output_type": "stream",
     "text": [
      "[CV]  n_estimators=400, max_depth=10, criterion=gini, score=0.069, total=   1.1s\n",
      "[CV] n_estimators=400, max_depth=10, criterion=gini ..................\n"
     ]
    },
    {
     "name": "stderr",
     "output_type": "stream",
     "text": [
      "C:\\Users\\Kyle\\anaconda3\\lib\\site-packages\\sklearn\\model_selection\\_validation.py:515: DataConversionWarning: A column-vector y was passed when a 1d array was expected. Please change the shape of y to (n_samples,), for example using ravel().\n",
      "  estimator.fit(X_train, y_train, **fit_params)\n"
     ]
    },
    {
     "name": "stdout",
     "output_type": "stream",
     "text": [
      "[CV]  n_estimators=400, max_depth=10, criterion=gini, score=0.087, total=   1.2s\n",
      "[CV] n_estimators=8000, max_depth=10, criterion=entropy ..............\n"
     ]
    },
    {
     "name": "stderr",
     "output_type": "stream",
     "text": [
      "C:\\Users\\Kyle\\anaconda3\\lib\\site-packages\\sklearn\\model_selection\\_validation.py:515: DataConversionWarning: A column-vector y was passed when a 1d array was expected. Please change the shape of y to (n_samples,), for example using ravel().\n",
      "  estimator.fit(X_train, y_train, **fit_params)\n"
     ]
    },
    {
     "name": "stdout",
     "output_type": "stream",
     "text": [
      "[CV]  n_estimators=8000, max_depth=10, criterion=entropy, score=0.071, total=  56.7s\n",
      "[CV] n_estimators=8000, max_depth=10, criterion=entropy ..............\n"
     ]
    },
    {
     "name": "stderr",
     "output_type": "stream",
     "text": [
      "C:\\Users\\Kyle\\anaconda3\\lib\\site-packages\\sklearn\\model_selection\\_validation.py:515: DataConversionWarning: A column-vector y was passed when a 1d array was expected. Please change the shape of y to (n_samples,), for example using ravel().\n",
      "  estimator.fit(X_train, y_train, **fit_params)\n"
     ]
    },
    {
     "name": "stdout",
     "output_type": "stream",
     "text": [
      "[CV]  n_estimators=8000, max_depth=10, criterion=entropy, score=0.083, total=  49.9s\n",
      "[CV] n_estimators=8000, max_depth=10, criterion=entropy ..............\n"
     ]
    },
    {
     "name": "stderr",
     "output_type": "stream",
     "text": [
      "C:\\Users\\Kyle\\anaconda3\\lib\\site-packages\\sklearn\\model_selection\\_validation.py:515: DataConversionWarning: A column-vector y was passed when a 1d array was expected. Please change the shape of y to (n_samples,), for example using ravel().\n",
      "  estimator.fit(X_train, y_train, **fit_params)\n"
     ]
    },
    {
     "name": "stdout",
     "output_type": "stream",
     "text": [
      "[CV]  n_estimators=8000, max_depth=10, criterion=entropy, score=0.076, total=  48.6s\n",
      "[CV] n_estimators=8000, max_depth=10, criterion=entropy ..............\n"
     ]
    },
    {
     "name": "stderr",
     "output_type": "stream",
     "text": [
      "C:\\Users\\Kyle\\anaconda3\\lib\\site-packages\\sklearn\\model_selection\\_validation.py:515: DataConversionWarning: A column-vector y was passed when a 1d array was expected. Please change the shape of y to (n_samples,), for example using ravel().\n",
      "  estimator.fit(X_train, y_train, **fit_params)\n"
     ]
    },
    {
     "name": "stdout",
     "output_type": "stream",
     "text": [
      "[CV]  n_estimators=8000, max_depth=10, criterion=entropy, score=0.067, total=  49.3s\n",
      "[CV] n_estimators=8000, max_depth=10, criterion=entropy ..............\n"
     ]
    },
    {
     "name": "stderr",
     "output_type": "stream",
     "text": [
      "C:\\Users\\Kyle\\anaconda3\\lib\\site-packages\\sklearn\\model_selection\\_validation.py:515: DataConversionWarning: A column-vector y was passed when a 1d array was expected. Please change the shape of y to (n_samples,), for example using ravel().\n",
      "  estimator.fit(X_train, y_train, **fit_params)\n"
     ]
    },
    {
     "name": "stdout",
     "output_type": "stream",
     "text": [
      "[CV]  n_estimators=8000, max_depth=10, criterion=entropy, score=0.092, total=  49.4s\n",
      "[CV] n_estimators=40, max_depth=10, criterion=entropy ................\n"
     ]
    },
    {
     "name": "stderr",
     "output_type": "stream",
     "text": [
      "C:\\Users\\Kyle\\anaconda3\\lib\\site-packages\\sklearn\\model_selection\\_validation.py:515: DataConversionWarning: A column-vector y was passed when a 1d array was expected. Please change the shape of y to (n_samples,), for example using ravel().\n",
      "  estimator.fit(X_train, y_train, **fit_params)\n"
     ]
    },
    {
     "name": "stdout",
     "output_type": "stream",
     "text": [
      "[CV]  n_estimators=40, max_depth=10, criterion=entropy, score=0.083, total=   0.2s\n",
      "[CV] n_estimators=40, max_depth=10, criterion=entropy ................\n"
     ]
    },
    {
     "name": "stderr",
     "output_type": "stream",
     "text": [
      "C:\\Users\\Kyle\\anaconda3\\lib\\site-packages\\sklearn\\model_selection\\_validation.py:515: DataConversionWarning: A column-vector y was passed when a 1d array was expected. Please change the shape of y to (n_samples,), for example using ravel().\n",
      "  estimator.fit(X_train, y_train, **fit_params)\n"
     ]
    },
    {
     "name": "stdout",
     "output_type": "stream",
     "text": [
      "[CV]  n_estimators=40, max_depth=10, criterion=entropy, score=0.080, total=   0.3s\n",
      "[CV] n_estimators=40, max_depth=10, criterion=entropy ................\n"
     ]
    },
    {
     "name": "stderr",
     "output_type": "stream",
     "text": [
      "C:\\Users\\Kyle\\anaconda3\\lib\\site-packages\\sklearn\\model_selection\\_validation.py:515: DataConversionWarning: A column-vector y was passed when a 1d array was expected. Please change the shape of y to (n_samples,), for example using ravel().\n",
      "  estimator.fit(X_train, y_train, **fit_params)\n"
     ]
    },
    {
     "name": "stdout",
     "output_type": "stream",
     "text": [
      "[CV]  n_estimators=40, max_depth=10, criterion=entropy, score=0.071, total=   0.2s\n",
      "[CV] n_estimators=40, max_depth=10, criterion=entropy ................\n"
     ]
    },
    {
     "name": "stderr",
     "output_type": "stream",
     "text": [
      "C:\\Users\\Kyle\\anaconda3\\lib\\site-packages\\sklearn\\model_selection\\_validation.py:515: DataConversionWarning: A column-vector y was passed when a 1d array was expected. Please change the shape of y to (n_samples,), for example using ravel().\n",
      "  estimator.fit(X_train, y_train, **fit_params)\n"
     ]
    },
    {
     "name": "stdout",
     "output_type": "stream",
     "text": [
      "[CV]  n_estimators=40, max_depth=10, criterion=entropy, score=0.071, total=   0.2s\n",
      "[CV] n_estimators=40, max_depth=10, criterion=entropy ................\n"
     ]
    },
    {
     "name": "stderr",
     "output_type": "stream",
     "text": [
      "C:\\Users\\Kyle\\anaconda3\\lib\\site-packages\\sklearn\\model_selection\\_validation.py:515: DataConversionWarning: A column-vector y was passed when a 1d array was expected. Please change the shape of y to (n_samples,), for example using ravel().\n",
      "  estimator.fit(X_train, y_train, **fit_params)\n"
     ]
    },
    {
     "name": "stdout",
     "output_type": "stream",
     "text": [
      "[CV]  n_estimators=40, max_depth=10, criterion=entropy, score=0.078, total=   0.2s\n",
      "[CV] n_estimators=40, max_depth=2, criterion=gini ....................\n",
      "[CV]  n_estimators=40, max_depth=2, criterion=gini, score=0.076, total=   0.1s\n",
      "[CV] n_estimators=40, max_depth=2, criterion=gini ....................\n",
      "[CV]  n_estimators=40, max_depth=2, criterion=gini, score=0.087, total=   0.1s\n",
      "[CV] n_estimators=40, max_depth=2, criterion=gini ....................\n",
      "[CV]  n_estimators=40, max_depth=2, criterion=gini, score=0.101, total=   0.1s\n",
      "[CV] n_estimators=40, max_depth=2, criterion=gini ....................\n"
     ]
    },
    {
     "name": "stderr",
     "output_type": "stream",
     "text": [
      "C:\\Users\\Kyle\\anaconda3\\lib\\site-packages\\sklearn\\model_selection\\_validation.py:515: DataConversionWarning: A column-vector y was passed when a 1d array was expected. Please change the shape of y to (n_samples,), for example using ravel().\n",
      "  estimator.fit(X_train, y_train, **fit_params)\n",
      "C:\\Users\\Kyle\\anaconda3\\lib\\site-packages\\sklearn\\model_selection\\_validation.py:515: DataConversionWarning: A column-vector y was passed when a 1d array was expected. Please change the shape of y to (n_samples,), for example using ravel().\n",
      "  estimator.fit(X_train, y_train, **fit_params)\n",
      "C:\\Users\\Kyle\\anaconda3\\lib\\site-packages\\sklearn\\model_selection\\_validation.py:515: DataConversionWarning: A column-vector y was passed when a 1d array was expected. Please change the shape of y to (n_samples,), for example using ravel().\n",
      "  estimator.fit(X_train, y_train, **fit_params)\n",
      "C:\\Users\\Kyle\\anaconda3\\lib\\site-packages\\sklearn\\model_selection\\_validation.py:515: DataConversionWarning: A column-vector y was passed when a 1d array was expected. Please change the shape of y to (n_samples,), for example using ravel().\n",
      "  estimator.fit(X_train, y_train, **fit_params)\n"
     ]
    },
    {
     "name": "stdout",
     "output_type": "stream",
     "text": [
      "[CV]  n_estimators=40, max_depth=2, criterion=gini, score=0.078, total=   0.1s\n",
      "[CV] n_estimators=40, max_depth=2, criterion=gini ....................\n",
      "[CV]  n_estimators=40, max_depth=2, criterion=gini, score=0.087, total=   0.1s\n",
      "[CV] n_estimators=8000, max_depth=5, criterion=entropy ...............\n"
     ]
    },
    {
     "name": "stderr",
     "output_type": "stream",
     "text": [
      "C:\\Users\\Kyle\\anaconda3\\lib\\site-packages\\sklearn\\model_selection\\_validation.py:515: DataConversionWarning: A column-vector y was passed when a 1d array was expected. Please change the shape of y to (n_samples,), for example using ravel().\n",
      "  estimator.fit(X_train, y_train, **fit_params)\n",
      "C:\\Users\\Kyle\\anaconda3\\lib\\site-packages\\sklearn\\model_selection\\_validation.py:515: DataConversionWarning: A column-vector y was passed when a 1d array was expected. Please change the shape of y to (n_samples,), for example using ravel().\n",
      "  estimator.fit(X_train, y_train, **fit_params)\n"
     ]
    },
    {
     "name": "stdout",
     "output_type": "stream",
     "text": [
      "[CV]  n_estimators=8000, max_depth=5, criterion=entropy, score=0.096, total=  25.5s\n",
      "[CV] n_estimators=8000, max_depth=5, criterion=entropy ...............\n"
     ]
    },
    {
     "name": "stderr",
     "output_type": "stream",
     "text": [
      "C:\\Users\\Kyle\\anaconda3\\lib\\site-packages\\sklearn\\model_selection\\_validation.py:515: DataConversionWarning: A column-vector y was passed when a 1d array was expected. Please change the shape of y to (n_samples,), for example using ravel().\n",
      "  estimator.fit(X_train, y_train, **fit_params)\n"
     ]
    },
    {
     "name": "stdout",
     "output_type": "stream",
     "text": [
      "[CV]  n_estimators=8000, max_depth=5, criterion=entropy, score=0.101, total=  25.7s\n",
      "[CV] n_estimators=8000, max_depth=5, criterion=entropy ...............\n"
     ]
    },
    {
     "name": "stderr",
     "output_type": "stream",
     "text": [
      "C:\\Users\\Kyle\\anaconda3\\lib\\site-packages\\sklearn\\model_selection\\_validation.py:515: DataConversionWarning: A column-vector y was passed when a 1d array was expected. Please change the shape of y to (n_samples,), for example using ravel().\n",
      "  estimator.fit(X_train, y_train, **fit_params)\n"
     ]
    },
    {
     "name": "stdout",
     "output_type": "stream",
     "text": [
      "[CV]  n_estimators=8000, max_depth=5, criterion=entropy, score=0.090, total=  25.7s\n",
      "[CV] n_estimators=8000, max_depth=5, criterion=entropy ...............\n"
     ]
    },
    {
     "name": "stderr",
     "output_type": "stream",
     "text": [
      "C:\\Users\\Kyle\\anaconda3\\lib\\site-packages\\sklearn\\model_selection\\_validation.py:515: DataConversionWarning: A column-vector y was passed when a 1d array was expected. Please change the shape of y to (n_samples,), for example using ravel().\n",
      "  estimator.fit(X_train, y_train, **fit_params)\n"
     ]
    },
    {
     "name": "stdout",
     "output_type": "stream",
     "text": [
      "[CV]  n_estimators=8000, max_depth=5, criterion=entropy, score=0.092, total=  25.9s\n",
      "[CV] n_estimators=8000, max_depth=5, criterion=entropy ...............\n"
     ]
    },
    {
     "name": "stderr",
     "output_type": "stream",
     "text": [
      "C:\\Users\\Kyle\\anaconda3\\lib\\site-packages\\sklearn\\model_selection\\_validation.py:515: DataConversionWarning: A column-vector y was passed when a 1d array was expected. Please change the shape of y to (n_samples,), for example using ravel().\n",
      "  estimator.fit(X_train, y_train, **fit_params)\n",
      "C:\\Users\\Kyle\\anaconda3\\lib\\site-packages\\sklearn\\model_selection\\_validation.py:515: DataConversionWarning: A column-vector y was passed when a 1d array was expected. Please change the shape of y to (n_samples,), for example using ravel().\n",
      "  estimator.fit(X_train, y_train, **fit_params)\n"
     ]
    },
    {
     "name": "stdout",
     "output_type": "stream",
     "text": [
      "[CV]  n_estimators=8000, max_depth=5, criterion=entropy, score=0.099, total=  25.7s\n",
      "[CV] n_estimators=400, max_depth=5, criterion=gini ...................\n",
      "[CV]  n_estimators=400, max_depth=5, criterion=gini, score=0.094, total=   0.7s\n",
      "[CV] n_estimators=400, max_depth=5, criterion=gini ...................\n"
     ]
    },
    {
     "name": "stderr",
     "output_type": "stream",
     "text": [
      "C:\\Users\\Kyle\\anaconda3\\lib\\site-packages\\sklearn\\model_selection\\_validation.py:515: DataConversionWarning: A column-vector y was passed when a 1d array was expected. Please change the shape of y to (n_samples,), for example using ravel().\n",
      "  estimator.fit(X_train, y_train, **fit_params)\n"
     ]
    },
    {
     "name": "stdout",
     "output_type": "stream",
     "text": [
      "[CV]  n_estimators=400, max_depth=5, criterion=gini, score=0.106, total=   0.7s\n",
      "[CV] n_estimators=400, max_depth=5, criterion=gini ...................\n"
     ]
    },
    {
     "name": "stderr",
     "output_type": "stream",
     "text": [
      "C:\\Users\\Kyle\\anaconda3\\lib\\site-packages\\sklearn\\model_selection\\_validation.py:515: DataConversionWarning: A column-vector y was passed when a 1d array was expected. Please change the shape of y to (n_samples,), for example using ravel().\n",
      "  estimator.fit(X_train, y_train, **fit_params)\n"
     ]
    },
    {
     "name": "stdout",
     "output_type": "stream",
     "text": [
      "[CV]  n_estimators=400, max_depth=5, criterion=gini, score=0.103, total=   0.7s\n",
      "[CV] n_estimators=400, max_depth=5, criterion=gini ...................\n"
     ]
    },
    {
     "name": "stderr",
     "output_type": "stream",
     "text": [
      "C:\\Users\\Kyle\\anaconda3\\lib\\site-packages\\sklearn\\model_selection\\_validation.py:515: DataConversionWarning: A column-vector y was passed when a 1d array was expected. Please change the shape of y to (n_samples,), for example using ravel().\n",
      "  estimator.fit(X_train, y_train, **fit_params)\n"
     ]
    },
    {
     "name": "stdout",
     "output_type": "stream",
     "text": [
      "[CV]  n_estimators=400, max_depth=5, criterion=gini, score=0.087, total=   0.7s\n",
      "[CV] n_estimators=400, max_depth=5, criterion=gini ...................\n"
     ]
    },
    {
     "name": "stderr",
     "output_type": "stream",
     "text": [
      "C:\\Users\\Kyle\\anaconda3\\lib\\site-packages\\sklearn\\model_selection\\_validation.py:515: DataConversionWarning: A column-vector y was passed when a 1d array was expected. Please change the shape of y to (n_samples,), for example using ravel().\n",
      "  estimator.fit(X_train, y_train, **fit_params)\n"
     ]
    },
    {
     "name": "stdout",
     "output_type": "stream",
     "text": [
      "[CV]  n_estimators=400, max_depth=5, criterion=gini, score=0.108, total=   0.7s\n",
      "[CV] n_estimators=400, max_depth=2, criterion=gini ...................\n"
     ]
    },
    {
     "name": "stderr",
     "output_type": "stream",
     "text": [
      "C:\\Users\\Kyle\\anaconda3\\lib\\site-packages\\sklearn\\model_selection\\_validation.py:515: DataConversionWarning: A column-vector y was passed when a 1d array was expected. Please change the shape of y to (n_samples,), for example using ravel().\n",
      "  estimator.fit(X_train, y_train, **fit_params)\n"
     ]
    },
    {
     "name": "stdout",
     "output_type": "stream",
     "text": [
      "[CV]  n_estimators=400, max_depth=2, criterion=gini, score=0.092, total=   0.6s\n",
      "[CV] n_estimators=400, max_depth=2, criterion=gini ...................\n"
     ]
    },
    {
     "name": "stderr",
     "output_type": "stream",
     "text": [
      "C:\\Users\\Kyle\\anaconda3\\lib\\site-packages\\sklearn\\model_selection\\_validation.py:515: DataConversionWarning: A column-vector y was passed when a 1d array was expected. Please change the shape of y to (n_samples,), for example using ravel().\n",
      "  estimator.fit(X_train, y_train, **fit_params)\n"
     ]
    },
    {
     "name": "stdout",
     "output_type": "stream",
     "text": [
      "[CV]  n_estimators=400, max_depth=2, criterion=gini, score=0.101, total=   0.5s\n",
      "[CV] n_estimators=400, max_depth=2, criterion=gini ...................\n"
     ]
    },
    {
     "name": "stderr",
     "output_type": "stream",
     "text": [
      "C:\\Users\\Kyle\\anaconda3\\lib\\site-packages\\sklearn\\model_selection\\_validation.py:515: DataConversionWarning: A column-vector y was passed when a 1d array was expected. Please change the shape of y to (n_samples,), for example using ravel().\n",
      "  estimator.fit(X_train, y_train, **fit_params)\n"
     ]
    },
    {
     "name": "stdout",
     "output_type": "stream",
     "text": [
      "[CV]  n_estimators=400, max_depth=2, criterion=gini, score=0.099, total=   0.6s\n",
      "[CV] n_estimators=400, max_depth=2, criterion=gini ...................\n"
     ]
    },
    {
     "name": "stderr",
     "output_type": "stream",
     "text": [
      "C:\\Users\\Kyle\\anaconda3\\lib\\site-packages\\sklearn\\model_selection\\_validation.py:515: DataConversionWarning: A column-vector y was passed when a 1d array was expected. Please change the shape of y to (n_samples,), for example using ravel().\n",
      "  estimator.fit(X_train, y_train, **fit_params)\n"
     ]
    },
    {
     "name": "stdout",
     "output_type": "stream",
     "text": [
      "[CV]  n_estimators=400, max_depth=2, criterion=gini, score=0.076, total=   0.6s\n",
      "[CV] n_estimators=400, max_depth=2, criterion=gini ...................\n"
     ]
    },
    {
     "name": "stderr",
     "output_type": "stream",
     "text": [
      "C:\\Users\\Kyle\\anaconda3\\lib\\site-packages\\sklearn\\model_selection\\_validation.py:515: DataConversionWarning: A column-vector y was passed when a 1d array was expected. Please change the shape of y to (n_samples,), for example using ravel().\n",
      "  estimator.fit(X_train, y_train, **fit_params)\n"
     ]
    },
    {
     "name": "stdout",
     "output_type": "stream",
     "text": [
      "[CV]  n_estimators=400, max_depth=2, criterion=gini, score=0.083, total=   0.6s\n",
      "[CV] n_estimators=4, max_depth=5, criterion=entropy ..................\n",
      "[CV]  n_estimators=4, max_depth=5, criterion=entropy, score=0.062, total=   0.0s\n",
      "[CV] n_estimators=4, max_depth=5, criterion=entropy ..................\n",
      "[CV]  n_estimators=4, max_depth=5, criterion=entropy, score=0.062, total=   0.0s\n",
      "[CV] n_estimators=4, max_depth=5, criterion=entropy ..................\n",
      "[CV]  n_estimators=4, max_depth=5, criterion=entropy, score=0.080, total=   0.0s\n",
      "[CV] n_estimators=4, max_depth=5, criterion=entropy ..................\n",
      "[CV]  n_estimators=4, max_depth=5, criterion=entropy, score=0.074, total=   0.0s\n",
      "[CV] n_estimators=4, max_depth=5, criterion=entropy ..................\n",
      "[CV]  n_estimators=4, max_depth=5, criterion=entropy, score=0.101, total=   0.0s\n",
      "[CV] n_estimators=8000, max_depth=10, criterion=gini .................\n"
     ]
    },
    {
     "name": "stderr",
     "output_type": "stream",
     "text": [
      "C:\\Users\\Kyle\\anaconda3\\lib\\site-packages\\sklearn\\model_selection\\_validation.py:515: DataConversionWarning: A column-vector y was passed when a 1d array was expected. Please change the shape of y to (n_samples,), for example using ravel().\n",
      "  estimator.fit(X_train, y_train, **fit_params)\n",
      "C:\\Users\\Kyle\\anaconda3\\lib\\site-packages\\sklearn\\model_selection\\_validation.py:515: DataConversionWarning: A column-vector y was passed when a 1d array was expected. Please change the shape of y to (n_samples,), for example using ravel().\n",
      "  estimator.fit(X_train, y_train, **fit_params)\n",
      "C:\\Users\\Kyle\\anaconda3\\lib\\site-packages\\sklearn\\model_selection\\_validation.py:515: DataConversionWarning: A column-vector y was passed when a 1d array was expected. Please change the shape of y to (n_samples,), for example using ravel().\n",
      "  estimator.fit(X_train, y_train, **fit_params)\n",
      "C:\\Users\\Kyle\\anaconda3\\lib\\site-packages\\sklearn\\model_selection\\_validation.py:515: DataConversionWarning: A column-vector y was passed when a 1d array was expected. Please change the shape of y to (n_samples,), for example using ravel().\n",
      "  estimator.fit(X_train, y_train, **fit_params)\n",
      "C:\\Users\\Kyle\\anaconda3\\lib\\site-packages\\sklearn\\model_selection\\_validation.py:515: DataConversionWarning: A column-vector y was passed when a 1d array was expected. Please change the shape of y to (n_samples,), for example using ravel().\n",
      "  estimator.fit(X_train, y_train, **fit_params)\n",
      "C:\\Users\\Kyle\\anaconda3\\lib\\site-packages\\sklearn\\model_selection\\_validation.py:515: DataConversionWarning: A column-vector y was passed when a 1d array was expected. Please change the shape of y to (n_samples,), for example using ravel().\n",
      "  estimator.fit(X_train, y_train, **fit_params)\n"
     ]
    },
    {
     "name": "stdout",
     "output_type": "stream",
     "text": [
      "[CV]  n_estimators=8000, max_depth=10, criterion=gini, score=0.092, total=  27.6s\n",
      "[CV] n_estimators=8000, max_depth=10, criterion=gini .................\n"
     ]
    },
    {
     "name": "stderr",
     "output_type": "stream",
     "text": [
      "C:\\Users\\Kyle\\anaconda3\\lib\\site-packages\\sklearn\\model_selection\\_validation.py:515: DataConversionWarning: A column-vector y was passed when a 1d array was expected. Please change the shape of y to (n_samples,), for example using ravel().\n",
      "  estimator.fit(X_train, y_train, **fit_params)\n"
     ]
    },
    {
     "name": "stdout",
     "output_type": "stream",
     "text": [
      "[CV]  n_estimators=8000, max_depth=10, criterion=gini, score=0.097, total=  26.8s\n",
      "[CV] n_estimators=8000, max_depth=10, criterion=gini .................\n"
     ]
    },
    {
     "name": "stderr",
     "output_type": "stream",
     "text": [
      "C:\\Users\\Kyle\\anaconda3\\lib\\site-packages\\sklearn\\model_selection\\_validation.py:515: DataConversionWarning: A column-vector y was passed when a 1d array was expected. Please change the shape of y to (n_samples,), for example using ravel().\n",
      "  estimator.fit(X_train, y_train, **fit_params)\n"
     ]
    },
    {
     "name": "stdout",
     "output_type": "stream",
     "text": [
      "[CV]  n_estimators=8000, max_depth=10, criterion=gini, score=0.083, total=  27.1s\n",
      "[CV] n_estimators=8000, max_depth=10, criterion=gini .................\n"
     ]
    },
    {
     "name": "stderr",
     "output_type": "stream",
     "text": [
      "C:\\Users\\Kyle\\anaconda3\\lib\\site-packages\\sklearn\\model_selection\\_validation.py:515: DataConversionWarning: A column-vector y was passed when a 1d array was expected. Please change the shape of y to (n_samples,), for example using ravel().\n",
      "  estimator.fit(X_train, y_train, **fit_params)\n"
     ]
    },
    {
     "name": "stdout",
     "output_type": "stream",
     "text": [
      "[CV]  n_estimators=8000, max_depth=10, criterion=gini, score=0.069, total=  27.1s\n",
      "[CV] n_estimators=8000, max_depth=10, criterion=gini .................\n"
     ]
    },
    {
     "name": "stderr",
     "output_type": "stream",
     "text": [
      "C:\\Users\\Kyle\\anaconda3\\lib\\site-packages\\sklearn\\model_selection\\_validation.py:515: DataConversionWarning: A column-vector y was passed when a 1d array was expected. Please change the shape of y to (n_samples,), for example using ravel().\n",
      "  estimator.fit(X_train, y_train, **fit_params)\n"
     ]
    },
    {
     "name": "stdout",
     "output_type": "stream",
     "text": [
      "[CV]  n_estimators=8000, max_depth=10, criterion=gini, score=0.101, total=  26.7s\n",
      "[CV] n_estimators=40, max_depth=2, criterion=entropy .................\n",
      "[CV]  n_estimators=40, max_depth=2, criterion=entropy, score=0.083, total=   0.1s\n",
      "[CV] n_estimators=40, max_depth=2, criterion=entropy .................\n",
      "[CV]  n_estimators=40, max_depth=2, criterion=entropy, score=0.094, total=   0.1s\n",
      "[CV] n_estimators=40, max_depth=2, criterion=entropy .................\n"
     ]
    },
    {
     "name": "stderr",
     "output_type": "stream",
     "text": [
      "C:\\Users\\Kyle\\anaconda3\\lib\\site-packages\\sklearn\\model_selection\\_validation.py:515: DataConversionWarning: A column-vector y was passed when a 1d array was expected. Please change the shape of y to (n_samples,), for example using ravel().\n",
      "  estimator.fit(X_train, y_train, **fit_params)\n",
      "C:\\Users\\Kyle\\anaconda3\\lib\\site-packages\\sklearn\\model_selection\\_validation.py:515: DataConversionWarning: A column-vector y was passed when a 1d array was expected. Please change the shape of y to (n_samples,), for example using ravel().\n",
      "  estimator.fit(X_train, y_train, **fit_params)\n",
      "C:\\Users\\Kyle\\anaconda3\\lib\\site-packages\\sklearn\\model_selection\\_validation.py:515: DataConversionWarning: A column-vector y was passed when a 1d array was expected. Please change the shape of y to (n_samples,), for example using ravel().\n",
      "  estimator.fit(X_train, y_train, **fit_params)\n"
     ]
    },
    {
     "name": "stdout",
     "output_type": "stream",
     "text": [
      "[CV]  n_estimators=40, max_depth=2, criterion=entropy, score=0.087, total=   0.1s\n",
      "[CV] n_estimators=40, max_depth=2, criterion=entropy .................\n",
      "[CV]  n_estimators=40, max_depth=2, criterion=entropy, score=0.083, total=   0.1s\n",
      "[CV] n_estimators=40, max_depth=2, criterion=entropy .................\n",
      "[CV]  n_estimators=40, max_depth=2, criterion=entropy, score=0.078, total=   0.1s\n"
     ]
    },
    {
     "name": "stderr",
     "output_type": "stream",
     "text": [
      "C:\\Users\\Kyle\\anaconda3\\lib\\site-packages\\sklearn\\model_selection\\_validation.py:515: DataConversionWarning: A column-vector y was passed when a 1d array was expected. Please change the shape of y to (n_samples,), for example using ravel().\n",
      "  estimator.fit(X_train, y_train, **fit_params)\n",
      "C:\\Users\\Kyle\\anaconda3\\lib\\site-packages\\sklearn\\model_selection\\_validation.py:515: DataConversionWarning: A column-vector y was passed when a 1d array was expected. Please change the shape of y to (n_samples,), for example using ravel().\n",
      "  estimator.fit(X_train, y_train, **fit_params)\n",
      "[Parallel(n_jobs=1)]: Done  50 out of  50 | elapsed:  9.0min finished\n",
      "C:\\Users\\Kyle\\anaconda3\\lib\\site-packages\\sklearn\\model_selection\\_search.py:739: DataConversionWarning: A column-vector y was passed when a 1d array was expected. Please change the shape of y to (n_samples,), for example using ravel().\n",
      "  self.best_estimator_.fit(X, y, **fit_params)\n"
     ]
    },
    {
     "data": {
      "text/plain": [
       "RandomizedSearchCV(cv=None, error_score=nan,\n",
       "                   estimator=RandomForestClassifier(bootstrap=True,\n",
       "                                                    ccp_alpha=0.0,\n",
       "                                                    class_weight=None,\n",
       "                                                    criterion='gini',\n",
       "                                                    max_depth=5,\n",
       "                                                    max_features='auto',\n",
       "                                                    max_leaf_nodes=None,\n",
       "                                                    max_samples=None,\n",
       "                                                    min_impurity_decrease=0.0,\n",
       "                                                    min_impurity_split=None,\n",
       "                                                    min_samples_leaf=1,\n",
       "                                                    min_samples_split=2,\n",
       "                                                    min_weight_fraction_leaf=0.0,\n",
       "                                                    n_estimators=4000,\n",
       "                                                    n_jobs=None,\n",
       "                                                    oob_score=False,\n",
       "                                                    random_state=None,\n",
       "                                                    verbose=0,\n",
       "                                                    warm_start=False),\n",
       "                   iid='deprecated', n_iter=10, n_jobs=None,\n",
       "                   param_distributions={'criterion': ['gini', 'entropy'],\n",
       "                                        'max_depth': [2, 5, 10],\n",
       "                                        'n_estimators': [4, 40, 400, 4000,\n",
       "                                                         8000]},\n",
       "                   pre_dispatch='2*n_jobs', random_state=None, refit=True,\n",
       "                   return_train_score=False, scoring=None, verbose=3)"
      ]
     },
     "execution_count": 334,
     "metadata": {},
     "output_type": "execute_result"
    }
   ],
   "source": [
    "# Train the model with GridSearch\n",
    "grid.fit(X_train,y_train)"
   ]
  },
  {
   "cell_type": "code",
   "execution_count": 335,
   "metadata": {},
   "outputs": [
    {
     "data": {
      "text/plain": [
       "0.09972687967942634"
      ]
     },
     "execution_count": 335,
     "metadata": {},
     "output_type": "execute_result"
    }
   ],
   "source": [
    "grid.best_score_"
   ]
  },
  {
   "cell_type": "code",
   "execution_count": 336,
   "metadata": {},
   "outputs": [],
   "source": [
    "ys = grid.predict(X_test)"
   ]
  },
  {
   "cell_type": "code",
   "execution_count": 337,
   "metadata": {},
   "outputs": [],
   "source": [
    "resids = (ys - y_test)**2"
   ]
  },
  {
   "cell_type": "code",
   "execution_count": 338,
   "metadata": {},
   "outputs": [
    {
     "data": {
      "text/plain": [
       "9.510867502978698"
      ]
     },
     "execution_count": 338,
     "metadata": {},
     "output_type": "execute_result"
    }
   ],
   "source": [
    "pd.Series(resids.reshape(-1)).apply(math.sqrt).mean()"
   ]
  },
  {
   "cell_type": "code",
   "execution_count": 339,
   "metadata": {},
   "outputs": [],
   "source": [
    "from sklearn.metrics import r2_score"
   ]
  },
  {
   "cell_type": "code",
   "execution_count": 340,
   "metadata": {},
   "outputs": [
    {
     "data": {
      "text/plain": [
       "0.37699158342636263"
      ]
     },
     "execution_count": 340,
     "metadata": {},
     "output_type": "execute_result"
    }
   ],
   "source": [
    "r2_score(y_test, ys)"
   ]
  },
  {
   "cell_type": "code",
   "execution_count": 341,
   "metadata": {},
   "outputs": [
    {
     "data": {
      "text/plain": [
       "array([[-2.00e+00,  9.00e-01, -2.70e+00, ...,  1.30e+01,  3.49e+02,\n",
       "         0.00e+00],\n",
       "       [-2.60e+00,  1.00e-01, -2.40e+00, ...,  2.70e+01,  3.45e+02,\n",
       "         3.00e+00],\n",
       "       [-2.60e+00,  1.00e-01, -2.40e+00, ...,  2.70e+01,  4.44e+02,\n",
       "         1.00e+00],\n",
       "       ...,\n",
       "       [-1.00e-01, -1.80e+00, -3.40e+00, ...,  2.60e+01,  4.06e+02,\n",
       "         1.00e+00],\n",
       "       [ 1.90e+00,  2.20e+00, -3.40e+00, ...,  5.00e+00,  3.37e+02,\n",
       "         0.00e+00],\n",
       "       [-2.00e-01,  3.40e+00, -2.00e-01, ...,  2.00e+01,  3.83e+02,\n",
       "         2.00e+00]])"
      ]
     },
     "execution_count": 341,
     "metadata": {},
     "output_type": "execute_result"
    }
   ],
   "source": [
    "X"
   ]
  },
  {
   "cell_type": "code",
   "execution_count": 229,
   "metadata": {},
   "outputs": [],
   "source": [
    "#X = X.reshape(-1, 1)"
   ]
  },
  {
   "cell_type": "code",
   "execution_count": 342,
   "metadata": {},
   "outputs": [],
   "source": [
    "y_prediction4 = rf.predict(X)"
   ]
  },
  {
   "cell_type": "code",
   "execution_count": null,
   "metadata": {},
   "outputs": [],
   "source": []
  },
  {
   "cell_type": "code",
   "execution_count": 343,
   "metadata": {},
   "outputs": [],
   "source": [
    "predictions_4 = pd.Series(y_prediction4.reshape(-1), name=\"Model4_Prediction\")"
   ]
  },
  {
   "cell_type": "code",
   "execution_count": 344,
   "metadata": {},
   "outputs": [],
   "source": [
    "model_predictions_4 = pd.concat([predictions_123, predictions_4], axis=1)"
   ]
  },
  {
   "cell_type": "code",
   "execution_count": 345,
   "metadata": {},
   "outputs": [
    {
     "data": {
      "text/html": [
       "<div>\n",
       "<style scoped>\n",
       "    .dataframe tbody tr th:only-of-type {\n",
       "        vertical-align: middle;\n",
       "    }\n",
       "\n",
       "    .dataframe tbody tr th {\n",
       "        vertical-align: top;\n",
       "    }\n",
       "\n",
       "    .dataframe thead th {\n",
       "        text-align: right;\n",
       "    }\n",
       "</style>\n",
       "<table border=\"1\" class=\"dataframe\">\n",
       "  <thead>\n",
       "    <tr style=\"text-align: right;\">\n",
       "      <th></th>\n",
       "      <th>GAMEID</th>\n",
       "      <th>FINAL_TEAM_NAME</th>\n",
       "      <th>Model1_Prediction</th>\n",
       "      <th>Model2_Prediction</th>\n",
       "      <th>Model3_Prediction</th>\n",
       "      <th>Model4_Prediction</th>\n",
       "    </tr>\n",
       "  </thead>\n",
       "  <tbody>\n",
       "    <tr>\n",
       "      <th>0</th>\n",
       "      <td>1.0</td>\n",
       "      <td>Detroit Lions</td>\n",
       "      <td>21.490843</td>\n",
       "      <td>25.956638</td>\n",
       "      <td>26.019291</td>\n",
       "      <td>27.0</td>\n",
       "    </tr>\n",
       "    <tr>\n",
       "      <th>1</th>\n",
       "      <td>1.0</td>\n",
       "      <td>Chicago Bears</td>\n",
       "      <td>21.107693</td>\n",
       "      <td>24.249333</td>\n",
       "      <td>19.114992</td>\n",
       "      <td>20.0</td>\n",
       "    </tr>\n",
       "    <tr>\n",
       "      <th>2</th>\n",
       "      <td>2.0</td>\n",
       "      <td>Chicago Bears</td>\n",
       "      <td>21.107693</td>\n",
       "      <td>24.249333</td>\n",
       "      <td>29.161770</td>\n",
       "      <td>27.0</td>\n",
       "    </tr>\n",
       "    <tr>\n",
       "      <th>3</th>\n",
       "      <td>2.0</td>\n",
       "      <td>Detroit Lions</td>\n",
       "      <td>21.490843</td>\n",
       "      <td>25.956638</td>\n",
       "      <td>33.239537</td>\n",
       "      <td>24.0</td>\n",
       "    </tr>\n",
       "    <tr>\n",
       "      <th>4</th>\n",
       "      <td>3.0</td>\n",
       "      <td>Washington Redskins</td>\n",
       "      <td>20.979977</td>\n",
       "      <td>25.486695</td>\n",
       "      <td>26.261249</td>\n",
       "      <td>24.0</td>\n",
       "    </tr>\n",
       "    <tr>\n",
       "      <th>...</th>\n",
       "      <td>...</td>\n",
       "      <td>...</td>\n",
       "      <td>...</td>\n",
       "      <td>...</td>\n",
       "      <td>...</td>\n",
       "      <td>...</td>\n",
       "    </tr>\n",
       "    <tr>\n",
       "      <th>2897</th>\n",
       "      <td>1449.0</td>\n",
       "      <td>Kansas City Chiefs</td>\n",
       "      <td>29.345415</td>\n",
       "      <td>30.255563</td>\n",
       "      <td>34.300707</td>\n",
       "      <td>31.0</td>\n",
       "    </tr>\n",
       "    <tr>\n",
       "      <th>2898</th>\n",
       "      <td>1450.0</td>\n",
       "      <td>Oakland Raiders</td>\n",
       "      <td>22.640293</td>\n",
       "      <td>23.314438</td>\n",
       "      <td>20.871386</td>\n",
       "      <td>20.0</td>\n",
       "    </tr>\n",
       "    <tr>\n",
       "      <th>2899</th>\n",
       "      <td>1450.0</td>\n",
       "      <td>New England Patriots</td>\n",
       "      <td>22.704151</td>\n",
       "      <td>24.719720</td>\n",
       "      <td>27.640827</td>\n",
       "      <td>27.0</td>\n",
       "    </tr>\n",
       "    <tr>\n",
       "      <th>2900</th>\n",
       "      <td>1451.0</td>\n",
       "      <td>Buffalo Bills</td>\n",
       "      <td>23.981317</td>\n",
       "      <td>28.567289</td>\n",
       "      <td>26.952137</td>\n",
       "      <td>27.0</td>\n",
       "    </tr>\n",
       "    <tr>\n",
       "      <th>2901</th>\n",
       "      <td>1451.0</td>\n",
       "      <td>Oakland Raiders</td>\n",
       "      <td>22.640293</td>\n",
       "      <td>24.823353</td>\n",
       "      <td>23.659658</td>\n",
       "      <td>20.0</td>\n",
       "    </tr>\n",
       "  </tbody>\n",
       "</table>\n",
       "<p>2902 rows × 6 columns</p>\n",
       "</div>"
      ],
      "text/plain": [
       "      GAMEID       FINAL_TEAM_NAME  Model1_Prediction  Model2_Prediction  \\\n",
       "0        1.0         Detroit Lions          21.490843          25.956638   \n",
       "1        1.0         Chicago Bears          21.107693          24.249333   \n",
       "2        2.0         Chicago Bears          21.107693          24.249333   \n",
       "3        2.0         Detroit Lions          21.490843          25.956638   \n",
       "4        3.0   Washington Redskins          20.979977          25.486695   \n",
       "...      ...                   ...                ...                ...   \n",
       "2897  1449.0    Kansas City Chiefs          29.345415          30.255563   \n",
       "2898  1450.0       Oakland Raiders          22.640293          23.314438   \n",
       "2899  1450.0  New England Patriots          22.704151          24.719720   \n",
       "2900  1451.0         Buffalo Bills          23.981317          28.567289   \n",
       "2901  1451.0       Oakland Raiders          22.640293          24.823353   \n",
       "\n",
       "      Model3_Prediction  Model4_Prediction  \n",
       "0             26.019291               27.0  \n",
       "1             19.114992               20.0  \n",
       "2             29.161770               27.0  \n",
       "3             33.239537               24.0  \n",
       "4             26.261249               24.0  \n",
       "...                 ...                ...  \n",
       "2897          34.300707               31.0  \n",
       "2898          20.871386               20.0  \n",
       "2899          27.640827               27.0  \n",
       "2900          26.952137               27.0  \n",
       "2901          23.659658               20.0  \n",
       "\n",
       "[2902 rows x 6 columns]"
      ]
     },
     "execution_count": 345,
     "metadata": {},
     "output_type": "execute_result"
    }
   ],
   "source": [
    "model_predictions_4"
   ]
  },
  {
   "cell_type": "code",
   "execution_count": 237,
   "metadata": {},
   "outputs": [
    {
     "data": {
      "text/html": [
       "<div>\n",
       "<style scoped>\n",
       "    .dataframe tbody tr th:only-of-type {\n",
       "        vertical-align: middle;\n",
       "    }\n",
       "\n",
       "    .dataframe tbody tr th {\n",
       "        vertical-align: top;\n",
       "    }\n",
       "\n",
       "    .dataframe thead th {\n",
       "        text-align: right;\n",
       "    }\n",
       "</style>\n",
       "<table border=\"1\" class=\"dataframe\">\n",
       "  <thead>\n",
       "    <tr style=\"text-align: right;\">\n",
       "      <th></th>\n",
       "      <th>GAMEID</th>\n",
       "      <th>FINAL_TEAM_NAME</th>\n",
       "      <th>Model1_Prediction</th>\n",
       "    </tr>\n",
       "  </thead>\n",
       "  <tbody>\n",
       "    <tr>\n",
       "      <th>0</th>\n",
       "      <td>1.0</td>\n",
       "      <td>Detroit Lions</td>\n",
       "      <td>21.490843</td>\n",
       "    </tr>\n",
       "    <tr>\n",
       "      <th>1</th>\n",
       "      <td>1.0</td>\n",
       "      <td>Chicago Bears</td>\n",
       "      <td>21.107693</td>\n",
       "    </tr>\n",
       "    <tr>\n",
       "      <th>2</th>\n",
       "      <td>2.0</td>\n",
       "      <td>Chicago Bears</td>\n",
       "      <td>21.107693</td>\n",
       "    </tr>\n",
       "    <tr>\n",
       "      <th>3</th>\n",
       "      <td>2.0</td>\n",
       "      <td>Detroit Lions</td>\n",
       "      <td>21.490843</td>\n",
       "    </tr>\n",
       "    <tr>\n",
       "      <th>4</th>\n",
       "      <td>3.0</td>\n",
       "      <td>Washington Redskins</td>\n",
       "      <td>20.979977</td>\n",
       "    </tr>\n",
       "    <tr>\n",
       "      <th>...</th>\n",
       "      <td>...</td>\n",
       "      <td>...</td>\n",
       "      <td>...</td>\n",
       "    </tr>\n",
       "    <tr>\n",
       "      <th>2897</th>\n",
       "      <td>1449.0</td>\n",
       "      <td>Kansas City Chiefs</td>\n",
       "      <td>29.345415</td>\n",
       "    </tr>\n",
       "    <tr>\n",
       "      <th>2898</th>\n",
       "      <td>1450.0</td>\n",
       "      <td>Oakland Raiders</td>\n",
       "      <td>22.640293</td>\n",
       "    </tr>\n",
       "    <tr>\n",
       "      <th>2899</th>\n",
       "      <td>1450.0</td>\n",
       "      <td>New England Patriots</td>\n",
       "      <td>22.704151</td>\n",
       "    </tr>\n",
       "    <tr>\n",
       "      <th>2900</th>\n",
       "      <td>1451.0</td>\n",
       "      <td>Buffalo Bills</td>\n",
       "      <td>23.981317</td>\n",
       "    </tr>\n",
       "    <tr>\n",
       "      <th>2901</th>\n",
       "      <td>1451.0</td>\n",
       "      <td>Oakland Raiders</td>\n",
       "      <td>22.640293</td>\n",
       "    </tr>\n",
       "  </tbody>\n",
       "</table>\n",
       "<p>2902 rows × 3 columns</p>\n",
       "</div>"
      ],
      "text/plain": [
       "      GAMEID       FINAL_TEAM_NAME  Model1_Prediction\n",
       "0        1.0         Detroit Lions          21.490843\n",
       "1        1.0         Chicago Bears          21.107693\n",
       "2        2.0         Chicago Bears          21.107693\n",
       "3        2.0         Detroit Lions          21.490843\n",
       "4        3.0   Washington Redskins          20.979977\n",
       "...      ...                   ...                ...\n",
       "2897  1449.0    Kansas City Chiefs          29.345415\n",
       "2898  1450.0       Oakland Raiders          22.640293\n",
       "2899  1450.0  New England Patriots          22.704151\n",
       "2900  1451.0         Buffalo Bills          23.981317\n",
       "2901  1451.0       Oakland Raiders          22.640293\n",
       "\n",
       "[2902 rows x 3 columns]"
      ]
     },
     "execution_count": 237,
     "metadata": {},
     "output_type": "execute_result"
    }
   ],
   "source": [
    "model_predictions_1"
   ]
  },
  {
   "cell_type": "code",
   "execution_count": 247,
   "metadata": {},
   "outputs": [],
   "source": [
    "predictions_12 = pd.concat([model_predictions_1, model_predictions_2.Model2_Prediction], axis=1)"
   ]
  },
  {
   "cell_type": "code",
   "execution_count": null,
   "metadata": {},
   "outputs": [],
   "source": []
  },
  {
   "cell_type": "markdown",
   "metadata": {},
   "source": [
    "## Model 5:\n",
    "### FPI, Yards, Turnovers + Expected Points Added per Play (EPA) and Success Rate for Offense overall and Pass EPA vs. Run EPA"
   ]
  },
  {
   "cell_type": "code",
   "execution_count": 346,
   "metadata": {},
   "outputs": [
    {
     "data": {
      "text/plain": [
       "Index(['Unnamed: 0', 'Year', 'Week_x', 'Abbr_RDBMS_Winner', 'Week2', 'Day',\n",
       "       'Date', 'Time', 'Home_Team', 'FINAL_TEAM_NAME', 'Opponent',\n",
       "       'TEAM_POINTS', 'TEAM_YARDS', 'TEAM_TURNOVERS',\n",
       "       'TEAM_TURNOVER_DIFFERENTIAL', 'OPPONENTS_POINTS', 'OPPONENTS_YARDS',\n",
       "       'OPPONENTS_TURNOVERS', 'OPPONENTS_TURNOVER_DIFFERENTIAL',\n",
       "       'TEAM_POINT_MARGIN', 'GAMEID', 'BINARY_WIN', 'W-L-T', 'Power Index FPI',\n",
       "       'Power Index RK', 'Power Index TREND', 'Power Index OFF',\n",
       "       'Power Index DEF', 'Power Index ST', 'Ranks SOS', 'Ranks REM SOS',\n",
       "       'Ranks AVGWP', 'DIVISION_538_Winner', 'ELO WITH QB_538_Winner',\n",
       "       'ELO CHANGE_538_Winner', 'CURRENT QB ADJ_538_Winner',\n",
       "       'Points_Diff_538_Winner', 'Playoffs_Prob_538_Winner',\n",
       "       'Division_Prob_538_Winner', 'Bye_Prob_538_Winner', 'SB_Prob_538_Winner',\n",
       "       'REAL_WINS2_538_Winner', 'REAL_LOSSES2_538_Winner',\n",
       "       'REAL_TIES_538_Winner', 'PROJ_WINS4_538_Winner',\n",
       "       'PROJ_LOSS4_538_Winner', 'EPA/play_RDBMS_Winner',\n",
       "       'OVR_SUCCESS_RATE_RDBMS_Winner', 'Dropback EPA_RDBMS_Winner',\n",
       "       'DROPBACK_SR_RDBMS_Winner', 'Rush EPA_RDBMS_Winner',\n",
       "       'RUN_SR_RDBMS_Winner', 'TOTAL DVOA_FO_WEEKLY_Winner',\n",
       "       'LAST WEEK_FO_WEEKLY_Winner', 'DAVE_WEI_DVOA_FO_WEEKLY_Winner',\n",
       "       'OFFENSE DVOA_FO_WEEKLY_Winner', 'DEFENSE DVOA_FO_WEEKLY_Winner',\n",
       "       'S.T. DVOA_FO_WEEKLY_Winner', 'RK_FO_ANNUAL_Winner',\n",
       "       'TOTAL DVOA_FO_ANNUAL_Winner', 'DAVE_WEI_DVOA_FO_ANNUAL_Winner',\n",
       "       'OFFENSE DVOA_FO_ANNUAL_Winner', 'DEFENSE DVOA_FO_ANNUAL_Winner',\n",
       "       'S.T. DVOA_FO_ANNUAL_Winner', 'non-adj VOA_FO_ANNUAL_Winner',\n",
       "       'Last Year_FO_ANNUAL_Winner', 'ESTIM. WINS_FO_ANNUAL_Winner',\n",
       "       'SCHEDULE RANK_FO_ANNUAL_Winner', 'VAR._FO_ANNUAL_Winner',\n",
       "       'TOTAL_GAME_POINTS', 'TOTAL_GAME_YARDS', 'TOTAL_GAME_TURNOVERS',\n",
       "       'PLAYOFFS_BINARY', 'GAME_TYPE', 'FINAL_TEAM_NAME_Opp',\n",
       "       'Power Index DEF_Opp'],\n",
       "      dtype='object')"
      ]
     },
     "execution_count": 346,
     "metadata": {},
     "output_type": "execute_result"
    }
   ],
   "source": [
    "allTheStats3.columns"
   ]
  },
  {
   "cell_type": "code",
   "execution_count": 347,
   "metadata": {},
   "outputs": [],
   "source": [
    "model_values=allTheStats3.loc[:, [\"TEAM_POINTS\", \"Power Index FPI\", 'Power Index OFF','Power Index DEF_Opp', 'Power Index ST', 'Ranks SOS', 'Ranks AVGWP',\n",
    "                                 \"TEAM_YARDS\", \"TEAM_TURNOVERS\",  'EPA/play_RDBMS_Winner', 'OVR_SUCCESS_RATE_RDBMS_Winner', 'Dropback EPA_RDBMS_Winner',\n",
    "                                  'DROPBACK_SR_RDBMS_Winner', 'Rush EPA_RDBMS_Winner', 'RUN_SR_RDBMS_Winner']]"
   ]
  },
  {
   "cell_type": "code",
   "execution_count": 348,
   "metadata": {},
   "outputs": [
    {
     "name": "stdout",
     "output_type": "stream",
     "text": [
      "<class 'pandas.core.frame.DataFrame'>\n",
      "Int64Index: 2902 entries, 0 to 2901\n",
      "Data columns (total 15 columns):\n",
      " #   Column                         Non-Null Count  Dtype  \n",
      "---  ------                         --------------  -----  \n",
      " 0   TEAM_POINTS                    2902 non-null   float64\n",
      " 1   Power Index FPI                2902 non-null   float64\n",
      " 2   Power Index OFF                2902 non-null   float64\n",
      " 3   Power Index DEF_Opp            2902 non-null   float64\n",
      " 4   Power Index ST                 2902 non-null   float64\n",
      " 5   Ranks SOS                      2902 non-null   float64\n",
      " 6   Ranks AVGWP                    2902 non-null   float64\n",
      " 7   TEAM_YARDS                     2902 non-null   float64\n",
      " 8   TEAM_TURNOVERS                 2902 non-null   float64\n",
      " 9   EPA/play_RDBMS_Winner          2902 non-null   float64\n",
      " 10  OVR_SUCCESS_RATE_RDBMS_Winner  2902 non-null   float64\n",
      " 11  Dropback EPA_RDBMS_Winner      2902 non-null   float64\n",
      " 12  DROPBACK_SR_RDBMS_Winner       2902 non-null   float64\n",
      " 13  Rush EPA_RDBMS_Winner          2902 non-null   float64\n",
      " 14  RUN_SR_RDBMS_Winner            2902 non-null   float64\n",
      "dtypes: float64(15)\n",
      "memory usage: 362.8 KB\n"
     ]
    }
   ],
   "source": [
    "model_values.info()"
   ]
  },
  {
   "cell_type": "code",
   "execution_count": null,
   "metadata": {},
   "outputs": [],
   "source": []
  },
  {
   "cell_type": "code",
   "execution_count": 360,
   "metadata": {},
   "outputs": [],
   "source": [
    "model_5= sklearn.linear_model.LinearRegression(normalize=True)"
   ]
  },
  {
   "cell_type": "code",
   "execution_count": null,
   "metadata": {},
   "outputs": [],
   "source": []
  },
  {
   "cell_type": "code",
   "execution_count": 361,
   "metadata": {},
   "outputs": [],
   "source": [
    "X = model_values.iloc[:,1:].values\n",
    "y = model_values.iloc[:,0].values"
   ]
  },
  {
   "cell_type": "code",
   "execution_count": null,
   "metadata": {},
   "outputs": [],
   "source": []
  },
  {
   "cell_type": "code",
   "execution_count": 362,
   "metadata": {},
   "outputs": [],
   "source": [
    "X_train, X_test, y_train, y_test = train_test_split(X,y)\n",
    "#X_train = X_train.reshape(-1)\n",
    "#X_test = X_test.reshape(-1)\n",
    "y_train = y_train.reshape(-1, 1)\n",
    "y_test = y_test.reshape(-1, 1)"
   ]
  },
  {
   "cell_type": "code",
   "execution_count": 363,
   "metadata": {},
   "outputs": [
    {
     "data": {
      "text/plain": [
       "LinearRegression(copy_X=True, fit_intercept=True, n_jobs=None, normalize=True)"
      ]
     },
     "execution_count": 363,
     "metadata": {},
     "output_type": "execute_result"
    }
   ],
   "source": [
    "model_5.fit(X_train, y_train)"
   ]
  },
  {
   "cell_type": "code",
   "execution_count": 364,
   "metadata": {},
   "outputs": [
    {
     "data": {
      "text/plain": [
       "0.6332710872023117"
      ]
     },
     "execution_count": 364,
     "metadata": {},
     "output_type": "execute_result"
    }
   ],
   "source": [
    "#R_sq Score\n",
    "model_5.score(X_train, y_train)"
   ]
  },
  {
   "cell_type": "code",
   "execution_count": 365,
   "metadata": {},
   "outputs": [
    {
     "data": {
      "text/plain": [
       "0.6175452027881858"
      ]
     },
     "execution_count": 365,
     "metadata": {},
     "output_type": "execute_result"
    }
   ],
   "source": [
    "model_5.score(X_test, y_test)"
   ]
  },
  {
   "cell_type": "code",
   "execution_count": 366,
   "metadata": {},
   "outputs": [
    {
     "data": {
      "text/plain": [
       "array([19.78658768])"
      ]
     },
     "execution_count": 366,
     "metadata": {},
     "output_type": "execute_result"
    }
   ],
   "source": [
    "model_5.intercept_"
   ]
  },
  {
   "cell_type": "code",
   "execution_count": 367,
   "metadata": {},
   "outputs": [
    {
     "data": {
      "text/plain": [
       "array([[ 1.24015377e-01, -9.05685382e-02, -5.98345513e-02,\n",
       "         1.00656027e+00,  1.31475637e-02, -5.18599953e-02,\n",
       "         1.86220891e-02,  5.16350336e-01,  2.76937189e+01,\n",
       "        -2.74690060e+01,  5.27177496e+00,  1.32151334e+01,\n",
       "         2.44318148e+00,  5.33981219e+00]])"
      ]
     },
     "execution_count": 367,
     "metadata": {},
     "output_type": "execute_result"
    }
   ],
   "source": [
    "model_5.coef_"
   ]
  },
  {
   "cell_type": "code",
   "execution_count": 368,
   "metadata": {},
   "outputs": [],
   "source": [
    "y_pred = model_5.predict(X_test)"
   ]
  },
  {
   "cell_type": "code",
   "execution_count": 369,
   "metadata": {},
   "outputs": [],
   "source": [
    "sq_resid = (y_pred - y_test)**2"
   ]
  },
  {
   "cell_type": "code",
   "execution_count": 370,
   "metadata": {},
   "outputs": [
    {
     "data": {
      "text/plain": [
       "4.596824428454162"
      ]
     },
     "execution_count": 370,
     "metadata": {},
     "output_type": "execute_result"
    }
   ],
   "source": [
    "# The Mean Squared Error\n",
    "pd.Series(sq_resid.reshape(-1)).apply(math.sqrt).mean()"
   ]
  },
  {
   "cell_type": "code",
   "execution_count": 371,
   "metadata": {},
   "outputs": [],
   "source": [
    "# Grid Search\n",
    "from sklearn.model_selection import GridSearchCV\n",
    "params = {'fit_intercept':[True,False], 'normalize':[True,False], 'copy_X':[True, False]}\n",
    "grid = GridSearchCV(model_5, params, verbose=3)"
   ]
  },
  {
   "cell_type": "code",
   "execution_count": 372,
   "metadata": {},
   "outputs": [
    {
     "name": "stdout",
     "output_type": "stream",
     "text": [
      "Fitting 5 folds for each of 8 candidates, totalling 40 fits\n",
      "[CV] copy_X=True, fit_intercept=True, normalize=True .................\n",
      "[CV]  copy_X=True, fit_intercept=True, normalize=True, score=0.653, total=   0.0s\n",
      "[CV] copy_X=True, fit_intercept=True, normalize=True .................\n",
      "[CV]  copy_X=True, fit_intercept=True, normalize=True, score=0.626, total=   0.0s\n",
      "[CV] copy_X=True, fit_intercept=True, normalize=True .................\n",
      "[CV]  copy_X=True, fit_intercept=True, normalize=True, score=0.606, total=   0.0s\n",
      "[CV] copy_X=True, fit_intercept=True, normalize=True .................\n",
      "[CV]  copy_X=True, fit_intercept=True, normalize=True, score=0.625, total=   0.0s\n",
      "[CV] copy_X=True, fit_intercept=True, normalize=True .................\n",
      "[CV]  copy_X=True, fit_intercept=True, normalize=True, score=0.623, total=   0.0s\n",
      "[CV] copy_X=True, fit_intercept=True, normalize=False ................\n",
      "[CV]  copy_X=True, fit_intercept=True, normalize=False, score=0.653, total=   0.0s\n",
      "[CV] copy_X=True, fit_intercept=True, normalize=False ................\n",
      "[CV]  copy_X=True, fit_intercept=True, normalize=False, score=0.626, total=   0.0s\n",
      "[CV] copy_X=True, fit_intercept=True, normalize=False ................\n",
      "[CV]  copy_X=True, fit_intercept=True, normalize=False, score=0.606, total=   0.0s\n",
      "[CV] copy_X=True, fit_intercept=True, normalize=False ................\n",
      "[CV]  copy_X=True, fit_intercept=True, normalize=False, score=0.625, total=   0.0s\n",
      "[CV] copy_X=True, fit_intercept=True, normalize=False ................\n",
      "[CV]  copy_X=True, fit_intercept=True, normalize=False, score=0.623, total=   0.0s\n",
      "[CV] copy_X=True, fit_intercept=False, normalize=True ................\n",
      "[CV]  copy_X=True, fit_intercept=False, normalize=True, score=0.646, total=   0.0s\n",
      "[CV] copy_X=True, fit_intercept=False, normalize=True ................\n",
      "[CV]  copy_X=True, fit_intercept=False, normalize=True, score=0.591, total=   0.0s\n",
      "[CV] copy_X=True, fit_intercept=False, normalize=True ................\n",
      "[CV]  copy_X=True, fit_intercept=False, normalize=True, score=0.569, total=   0.0s\n",
      "[CV] copy_X=True, fit_intercept=False, normalize=True ................\n",
      "[CV]  copy_X=True, fit_intercept=False, normalize=True, score=0.589, total=   0.0s\n",
      "[CV] copy_X=True, fit_intercept=False, normalize=True ................\n",
      "[CV]  copy_X=True, fit_intercept=False, normalize=True, score=0.585, total=   0.0s\n",
      "[CV] copy_X=True, fit_intercept=False, normalize=False ...............\n",
      "[CV]  copy_X=True, fit_intercept=False, normalize=False, score=0.646, total=   0.0s\n",
      "[CV] copy_X=True, fit_intercept=False, normalize=False ...............\n",
      "[CV]  copy_X=True, fit_intercept=False, normalize=False, score=0.591, total=   0.0s\n",
      "[CV] copy_X=True, fit_intercept=False, normalize=False ...............\n",
      "[CV]  copy_X=True, fit_intercept=False, normalize=False, score=0.569, total=   0.0s\n",
      "[CV] copy_X=True, fit_intercept=False, normalize=False ...............\n",
      "[CV]  copy_X=True, fit_intercept=False, normalize=False, score=0.589, total=   0.0s\n",
      "[CV] copy_X=True, fit_intercept=False, normalize=False ...............\n",
      "[CV]  copy_X=True, fit_intercept=False, normalize=False, score=0.585, total=   0.0s\n",
      "[CV] copy_X=False, fit_intercept=True, normalize=True ................\n",
      "[CV]  copy_X=False, fit_intercept=True, normalize=True, score=0.653, total=   0.0s\n",
      "[CV] copy_X=False, fit_intercept=True, normalize=True ................\n",
      "[CV]  copy_X=False, fit_intercept=True, normalize=True, score=0.626, total=   0.0s\n",
      "[CV] copy_X=False, fit_intercept=True, normalize=True ................\n",
      "[CV]  copy_X=False, fit_intercept=True, normalize=True, score=0.606, total=   0.0s\n",
      "[CV] copy_X=False, fit_intercept=True, normalize=True ................\n",
      "[CV]  copy_X=False, fit_intercept=True, normalize=True, score=0.625, total=   0.0s\n",
      "[CV] copy_X=False, fit_intercept=True, normalize=True ................\n",
      "[CV]  copy_X=False, fit_intercept=True, normalize=True, score=0.623, total=   0.0s\n",
      "[CV] copy_X=False, fit_intercept=True, normalize=False ...............\n",
      "[CV]  copy_X=False, fit_intercept=True, normalize=False, score=0.653, total=   0.0s\n",
      "[CV] copy_X=False, fit_intercept=True, normalize=False ...............\n",
      "[CV]  copy_X=False, fit_intercept=True, normalize=False, score=0.626, total=   0.0s\n",
      "[CV] copy_X=False, fit_intercept=True, normalize=False ...............\n",
      "[CV]  copy_X=False, fit_intercept=True, normalize=False, score=0.606, total=   0.0s\n",
      "[CV] copy_X=False, fit_intercept=True, normalize=False ...............\n",
      "[CV]  copy_X=False, fit_intercept=True, normalize=False, score=0.625, total=   0.0s\n",
      "[CV] copy_X=False, fit_intercept=True, normalize=False ...............\n",
      "[CV]  copy_X=False, fit_intercept=True, normalize=False, score=0.623, total=   0.0s\n",
      "[CV] copy_X=False, fit_intercept=False, normalize=True ...............\n",
      "[CV]  copy_X=False, fit_intercept=False, normalize=True, score=0.646, total=   0.0s\n",
      "[CV] copy_X=False, fit_intercept=False, normalize=True ...............\n",
      "[CV]  copy_X=False, fit_intercept=False, normalize=True, score=0.591, total=   0.0s\n",
      "[CV] copy_X=False, fit_intercept=False, normalize=True ...............\n",
      "[CV]  copy_X=False, fit_intercept=False, normalize=True, score=0.569, total=   0.0s\n",
      "[CV] copy_X=False, fit_intercept=False, normalize=True ...............\n",
      "[CV]  copy_X=False, fit_intercept=False, normalize=True, score=0.589, total=   0.0s\n",
      "[CV] copy_X=False, fit_intercept=False, normalize=True ...............\n",
      "[CV]  copy_X=False, fit_intercept=False, normalize=True, score=0.585, total=   0.0s\n",
      "[CV] copy_X=False, fit_intercept=False, normalize=False ..............\n",
      "[CV]  copy_X=False, fit_intercept=False, normalize=False, score=0.646, total=   0.0s\n",
      "[CV] copy_X=False, fit_intercept=False, normalize=False ..............\n",
      "[CV]  copy_X=False, fit_intercept=False, normalize=False, score=0.591, total=   0.0s\n",
      "[CV] copy_X=False, fit_intercept=False, normalize=False ..............\n",
      "[CV]  copy_X=False, fit_intercept=False, normalize=False, score=0.569, total=   0.0s\n",
      "[CV] copy_X=False, fit_intercept=False, normalize=False ..............\n",
      "[CV]  copy_X=False, fit_intercept=False, normalize=False, score=0.589, total=   0.0s\n",
      "[CV] copy_X=False, fit_intercept=False, normalize=False ..............\n",
      "[CV]  copy_X=False, fit_intercept=False, normalize=False, score=0.585, total=   0.0s\n"
     ]
    },
    {
     "name": "stderr",
     "output_type": "stream",
     "text": [
      "[Parallel(n_jobs=1)]: Using backend SequentialBackend with 1 concurrent workers.\n",
      "[Parallel(n_jobs=1)]: Done   1 out of   1 | elapsed:    0.0s remaining:    0.0s\n",
      "[Parallel(n_jobs=1)]: Done   2 out of   2 | elapsed:    0.0s remaining:    0.0s\n",
      "[Parallel(n_jobs=1)]: Done  40 out of  40 | elapsed:    0.0s finished\n"
     ]
    },
    {
     "data": {
      "text/plain": [
       "GridSearchCV(cv=None, error_score=nan,\n",
       "             estimator=LinearRegression(copy_X=True, fit_intercept=True,\n",
       "                                        n_jobs=None, normalize=True),\n",
       "             iid='deprecated', n_jobs=None,\n",
       "             param_grid={'copy_X': [True, False],\n",
       "                         'fit_intercept': [True, False],\n",
       "                         'normalize': [True, False]},\n",
       "             pre_dispatch='2*n_jobs', refit=True, return_train_score=False,\n",
       "             scoring=None, verbose=3)"
      ]
     },
     "execution_count": 372,
     "metadata": {},
     "output_type": "execute_result"
    }
   ],
   "source": [
    "# Train the model with GridSearch\n",
    "grid.fit(X_train,y_train)"
   ]
  },
  {
   "cell_type": "code",
   "execution_count": 373,
   "metadata": {},
   "outputs": [
    {
     "data": {
      "text/plain": [
       "0.6265894469232373"
      ]
     },
     "execution_count": 373,
     "metadata": {},
     "output_type": "execute_result"
    }
   ],
   "source": [
    "grid.best_score_"
   ]
  },
  {
   "cell_type": "code",
   "execution_count": 374,
   "metadata": {},
   "outputs": [],
   "source": [
    "ys = grid.predict(X_test)"
   ]
  },
  {
   "cell_type": "code",
   "execution_count": 375,
   "metadata": {},
   "outputs": [],
   "source": [
    "resids = (ys - y_test)**2"
   ]
  },
  {
   "cell_type": "code",
   "execution_count": 376,
   "metadata": {},
   "outputs": [
    {
     "data": {
      "text/plain": [
       "4.596824428454162"
      ]
     },
     "execution_count": 376,
     "metadata": {},
     "output_type": "execute_result"
    }
   ],
   "source": [
    "pd.Series(resids.reshape(-1)).apply(math.sqrt).mean()"
   ]
  },
  {
   "cell_type": "code",
   "execution_count": 377,
   "metadata": {},
   "outputs": [],
   "source": [
    "from sklearn.metrics import r2_score"
   ]
  },
  {
   "cell_type": "code",
   "execution_count": 378,
   "metadata": {},
   "outputs": [
    {
     "data": {
      "text/plain": [
       "0.6175452027881858"
      ]
     },
     "execution_count": 378,
     "metadata": {},
     "output_type": "execute_result"
    }
   ],
   "source": [
    "r2_score(y_test, ys)"
   ]
  },
  {
   "cell_type": "code",
   "execution_count": null,
   "metadata": {},
   "outputs": [],
   "source": []
  },
  {
   "cell_type": "code",
   "execution_count": 379,
   "metadata": {},
   "outputs": [
    {
     "data": {
      "text/plain": [
       "array([[-2.   ,  0.9  , -2.7  , ...,  0.5  , -0.041,  0.375],\n",
       "       [-2.6  ,  0.1  , -2.4  , ...,  0.483, -0.007,  0.391],\n",
       "       [-2.6  ,  0.1  , -2.4  , ...,  0.543, -0.198,  0.281],\n",
       "       ...,\n",
       "       [-0.1  , -1.8  , -3.4  , ...,  0.469,  0.346,  0.529],\n",
       "       [ 1.9  ,  2.2  , -3.4  , ...,  0.583, -0.169,  0.304],\n",
       "       [-0.2  ,  3.4  , -0.2  , ...,  0.538, -0.429,  0.35 ]])"
      ]
     },
     "execution_count": 379,
     "metadata": {},
     "output_type": "execute_result"
    }
   ],
   "source": [
    "X"
   ]
  },
  {
   "cell_type": "code",
   "execution_count": 229,
   "metadata": {},
   "outputs": [],
   "source": []
  },
  {
   "cell_type": "code",
   "execution_count": 380,
   "metadata": {},
   "outputs": [],
   "source": [
    "y_prediction5 = model_5.predict(X)"
   ]
  },
  {
   "cell_type": "code",
   "execution_count": null,
   "metadata": {},
   "outputs": [],
   "source": []
  },
  {
   "cell_type": "code",
   "execution_count": 381,
   "metadata": {},
   "outputs": [],
   "source": [
    "predictions_5 = pd.Series(y_prediction5.reshape(-1), name=\"Model5_Prediction\")"
   ]
  },
  {
   "cell_type": "code",
   "execution_count": 382,
   "metadata": {},
   "outputs": [],
   "source": [
    "model_predictions_fin = pd.concat([model_predictions_4, predictions_5], axis=1)"
   ]
  },
  {
   "cell_type": "code",
   "execution_count": 383,
   "metadata": {},
   "outputs": [
    {
     "data": {
      "text/html": [
       "<div>\n",
       "<style scoped>\n",
       "    .dataframe tbody tr th:only-of-type {\n",
       "        vertical-align: middle;\n",
       "    }\n",
       "\n",
       "    .dataframe tbody tr th {\n",
       "        vertical-align: top;\n",
       "    }\n",
       "\n",
       "    .dataframe thead th {\n",
       "        text-align: right;\n",
       "    }\n",
       "</style>\n",
       "<table border=\"1\" class=\"dataframe\">\n",
       "  <thead>\n",
       "    <tr style=\"text-align: right;\">\n",
       "      <th></th>\n",
       "      <th>GAMEID</th>\n",
       "      <th>FINAL_TEAM_NAME</th>\n",
       "      <th>Model1_Prediction</th>\n",
       "      <th>Model2_Prediction</th>\n",
       "      <th>Model3_Prediction</th>\n",
       "      <th>Model4_Prediction</th>\n",
       "      <th>Model5_Prediction</th>\n",
       "    </tr>\n",
       "  </thead>\n",
       "  <tbody>\n",
       "    <tr>\n",
       "      <th>0</th>\n",
       "      <td>1.0</td>\n",
       "      <td>Detroit Lions</td>\n",
       "      <td>21.490843</td>\n",
       "      <td>25.956638</td>\n",
       "      <td>26.019291</td>\n",
       "      <td>27.0</td>\n",
       "      <td>27.131508</td>\n",
       "    </tr>\n",
       "    <tr>\n",
       "      <th>1</th>\n",
       "      <td>1.0</td>\n",
       "      <td>Chicago Bears</td>\n",
       "      <td>21.107693</td>\n",
       "      <td>24.249333</td>\n",
       "      <td>19.114992</td>\n",
       "      <td>20.0</td>\n",
       "      <td>22.373294</td>\n",
       "    </tr>\n",
       "    <tr>\n",
       "      <th>2</th>\n",
       "      <td>2.0</td>\n",
       "      <td>Chicago Bears</td>\n",
       "      <td>21.107693</td>\n",
       "      <td>24.249333</td>\n",
       "      <td>29.161770</td>\n",
       "      <td>27.0</td>\n",
       "      <td>26.021331</td>\n",
       "    </tr>\n",
       "    <tr>\n",
       "      <th>3</th>\n",
       "      <td>2.0</td>\n",
       "      <td>Detroit Lions</td>\n",
       "      <td>21.490843</td>\n",
       "      <td>25.956638</td>\n",
       "      <td>33.239537</td>\n",
       "      <td>24.0</td>\n",
       "      <td>31.618060</td>\n",
       "    </tr>\n",
       "    <tr>\n",
       "      <th>4</th>\n",
       "      <td>3.0</td>\n",
       "      <td>Washington Redskins</td>\n",
       "      <td>20.979977</td>\n",
       "      <td>25.486695</td>\n",
       "      <td>26.261249</td>\n",
       "      <td>24.0</td>\n",
       "      <td>30.166242</td>\n",
       "    </tr>\n",
       "    <tr>\n",
       "      <th>...</th>\n",
       "      <td>...</td>\n",
       "      <td>...</td>\n",
       "      <td>...</td>\n",
       "      <td>...</td>\n",
       "      <td>...</td>\n",
       "      <td>...</td>\n",
       "      <td>...</td>\n",
       "    </tr>\n",
       "    <tr>\n",
       "      <th>2897</th>\n",
       "      <td>1449.0</td>\n",
       "      <td>Kansas City Chiefs</td>\n",
       "      <td>29.345415</td>\n",
       "      <td>30.255563</td>\n",
       "      <td>34.300707</td>\n",
       "      <td>31.0</td>\n",
       "      <td>36.628899</td>\n",
       "    </tr>\n",
       "    <tr>\n",
       "      <th>2898</th>\n",
       "      <td>1450.0</td>\n",
       "      <td>Oakland Raiders</td>\n",
       "      <td>22.640293</td>\n",
       "      <td>23.314438</td>\n",
       "      <td>20.871386</td>\n",
       "      <td>20.0</td>\n",
       "      <td>20.957492</td>\n",
       "    </tr>\n",
       "    <tr>\n",
       "      <th>2899</th>\n",
       "      <td>1450.0</td>\n",
       "      <td>New England Patriots</td>\n",
       "      <td>22.704151</td>\n",
       "      <td>24.719720</td>\n",
       "      <td>27.640827</td>\n",
       "      <td>27.0</td>\n",
       "      <td>27.545013</td>\n",
       "    </tr>\n",
       "    <tr>\n",
       "      <th>2900</th>\n",
       "      <td>1451.0</td>\n",
       "      <td>Buffalo Bills</td>\n",
       "      <td>23.981317</td>\n",
       "      <td>28.567289</td>\n",
       "      <td>26.952137</td>\n",
       "      <td>27.0</td>\n",
       "      <td>30.911144</td>\n",
       "    </tr>\n",
       "    <tr>\n",
       "      <th>2901</th>\n",
       "      <td>1451.0</td>\n",
       "      <td>Oakland Raiders</td>\n",
       "      <td>22.640293</td>\n",
       "      <td>24.823353</td>\n",
       "      <td>23.659658</td>\n",
       "      <td>20.0</td>\n",
       "      <td>22.197830</td>\n",
       "    </tr>\n",
       "  </tbody>\n",
       "</table>\n",
       "<p>2902 rows × 7 columns</p>\n",
       "</div>"
      ],
      "text/plain": [
       "      GAMEID       FINAL_TEAM_NAME  Model1_Prediction  Model2_Prediction  \\\n",
       "0        1.0         Detroit Lions          21.490843          25.956638   \n",
       "1        1.0         Chicago Bears          21.107693          24.249333   \n",
       "2        2.0         Chicago Bears          21.107693          24.249333   \n",
       "3        2.0         Detroit Lions          21.490843          25.956638   \n",
       "4        3.0   Washington Redskins          20.979977          25.486695   \n",
       "...      ...                   ...                ...                ...   \n",
       "2897  1449.0    Kansas City Chiefs          29.345415          30.255563   \n",
       "2898  1450.0       Oakland Raiders          22.640293          23.314438   \n",
       "2899  1450.0  New England Patriots          22.704151          24.719720   \n",
       "2900  1451.0         Buffalo Bills          23.981317          28.567289   \n",
       "2901  1451.0       Oakland Raiders          22.640293          24.823353   \n",
       "\n",
       "      Model3_Prediction  Model4_Prediction  Model5_Prediction  \n",
       "0             26.019291               27.0          27.131508  \n",
       "1             19.114992               20.0          22.373294  \n",
       "2             29.161770               27.0          26.021331  \n",
       "3             33.239537               24.0          31.618060  \n",
       "4             26.261249               24.0          30.166242  \n",
       "...                 ...                ...                ...  \n",
       "2897          34.300707               31.0          36.628899  \n",
       "2898          20.871386               20.0          20.957492  \n",
       "2899          27.640827               27.0          27.545013  \n",
       "2900          26.952137               27.0          30.911144  \n",
       "2901          23.659658               20.0          22.197830  \n",
       "\n",
       "[2902 rows x 7 columns]"
      ]
     },
     "execution_count": 383,
     "metadata": {},
     "output_type": "execute_result"
    }
   ],
   "source": [
    "model_predictions_fin"
   ]
  },
  {
   "cell_type": "code",
   "execution_count": 402,
   "metadata": {},
   "outputs": [],
   "source": [
    "data_df = pd.read_csv(\"perfectlyCleanedData3.csv\")"
   ]
  },
  {
   "cell_type": "code",
   "execution_count": 403,
   "metadata": {},
   "outputs": [],
   "source": [
    "tampas = data_df[(data_df.FINAL_TEAM_NAME.str.startswith(\"Tampa Bay Buc\") & (data_df.Year == 2020)) | (data_df.Opponent.str.startswith(\"Tampa Bay Buc\")) & (data_df.Year == 2020)]"
   ]
  },
  {
   "cell_type": "code",
   "execution_count": 404,
   "metadata": {},
   "outputs": [
    {
     "data": {
      "text/plain": [
       "(16, 73)"
      ]
     },
     "execution_count": 404,
     "metadata": {},
     "output_type": "execute_result"
    }
   ],
   "source": [
    "tampas.shape"
   ]
  },
  {
   "cell_type": "code",
   "execution_count": 405,
   "metadata": {},
   "outputs": [],
   "source": [
    "tenn = data_df[(data_df.FINAL_TEAM_NAME.str.startswith(\"Tenn\") & (data_df.Year == 2020)) | (data_df.Opponent.str.startswith(\"Tenn\")) & (data_df.Year == 2020)]"
   ]
  },
  {
   "cell_type": "code",
   "execution_count": 406,
   "metadata": {},
   "outputs": [
    {
     "data": {
      "text/plain": [
       "(16, 73)"
      ]
     },
     "execution_count": 406,
     "metadata": {},
     "output_type": "execute_result"
    }
   ],
   "source": [
    "tenn.shape"
   ]
  },
  {
   "cell_type": "code",
   "execution_count": 408,
   "metadata": {},
   "outputs": [],
   "source": [
    "missing_games = pd.concat([tampas, tenn])"
   ]
  },
  {
   "cell_type": "code",
   "execution_count": 409,
   "metadata": {},
   "outputs": [
    {
     "data": {
      "text/plain": [
       "(32, 73)"
      ]
     },
     "execution_count": 409,
     "metadata": {},
     "output_type": "execute_result"
    }
   ],
   "source": [
    "missing_games.shape"
   ]
  },
  {
   "cell_type": "code",
   "execution_count": 411,
   "metadata": {},
   "outputs": [],
   "source": [
    "missing_games = missing_games.sort_values([\"GAMEID\"])"
   ]
  },
  {
   "cell_type": "code",
   "execution_count": null,
   "metadata": {},
   "outputs": [],
   "source": []
  },
  {
   "cell_type": "code",
   "execution_count": 422,
   "metadata": {},
   "outputs": [
    {
     "data": {
      "text/html": [
       "<div>\n",
       "<style scoped>\n",
       "    .dataframe tbody tr th:only-of-type {\n",
       "        vertical-align: middle;\n",
       "    }\n",
       "\n",
       "    .dataframe tbody tr th {\n",
       "        vertical-align: top;\n",
       "    }\n",
       "\n",
       "    .dataframe thead th {\n",
       "        text-align: right;\n",
       "    }\n",
       "</style>\n",
       "<table border=\"1\" class=\"dataframe\">\n",
       "  <thead>\n",
       "    <tr style=\"text-align: right;\">\n",
       "      <th></th>\n",
       "      <th>FINAL_TEAM_NAME</th>\n",
       "      <th>Power Index DEF</th>\n",
       "      <th>GAMEID</th>\n",
       "    </tr>\n",
       "  </thead>\n",
       "  <tbody>\n",
       "    <tr>\n",
       "      <th>0</th>\n",
       "      <td>Detroit Lions</td>\n",
       "      <td>-2.4</td>\n",
       "      <td>1.0</td>\n",
       "    </tr>\n",
       "    <tr>\n",
       "      <th>1</th>\n",
       "      <td>Chicago Bears</td>\n",
       "      <td>-2.7</td>\n",
       "      <td>1.0</td>\n",
       "    </tr>\n",
       "    <tr>\n",
       "      <th>2</th>\n",
       "      <td>Chicago Bears</td>\n",
       "      <td>-2.7</td>\n",
       "      <td>2.0</td>\n",
       "    </tr>\n",
       "    <tr>\n",
       "      <th>3</th>\n",
       "      <td>Detroit Lions</td>\n",
       "      <td>-2.4</td>\n",
       "      <td>2.0</td>\n",
       "    </tr>\n",
       "    <tr>\n",
       "      <th>4</th>\n",
       "      <td>Washington Redskins</td>\n",
       "      <td>-2.2</td>\n",
       "      <td>3.0</td>\n",
       "    </tr>\n",
       "    <tr>\n",
       "      <th>...</th>\n",
       "      <td>...</td>\n",
       "      <td>...</td>\n",
       "      <td>...</td>\n",
       "    </tr>\n",
       "    <tr>\n",
       "      <th>2897</th>\n",
       "      <td>Kansas City Chiefs</td>\n",
       "      <td>1.0</td>\n",
       "      <td>1449.0</td>\n",
       "    </tr>\n",
       "    <tr>\n",
       "      <th>2898</th>\n",
       "      <td>Oakland Raiders</td>\n",
       "      <td>-3.4</td>\n",
       "      <td>1450.0</td>\n",
       "    </tr>\n",
       "    <tr>\n",
       "      <th>2899</th>\n",
       "      <td>New England Patriots</td>\n",
       "      <td>1.3</td>\n",
       "      <td>1450.0</td>\n",
       "    </tr>\n",
       "    <tr>\n",
       "      <th>2900</th>\n",
       "      <td>Buffalo Bills</td>\n",
       "      <td>-0.2</td>\n",
       "      <td>1451.0</td>\n",
       "    </tr>\n",
       "    <tr>\n",
       "      <th>2901</th>\n",
       "      <td>Oakland Raiders</td>\n",
       "      <td>-3.4</td>\n",
       "      <td>1451.0</td>\n",
       "    </tr>\n",
       "  </tbody>\n",
       "</table>\n",
       "<p>2902 rows × 3 columns</p>\n",
       "</div>"
      ],
      "text/plain": [
       "           FINAL_TEAM_NAME  Power Index DEF  GAMEID\n",
       "0            Detroit Lions             -2.4     1.0\n",
       "1            Chicago Bears             -2.7     1.0\n",
       "2            Chicago Bears             -2.7     2.0\n",
       "3            Detroit Lions             -2.4     2.0\n",
       "4      Washington Redskins             -2.2     3.0\n",
       "...                    ...              ...     ...\n",
       "2897    Kansas City Chiefs              1.0  1449.0\n",
       "2898       Oakland Raiders             -3.4  1450.0\n",
       "2899  New England Patriots              1.3  1450.0\n",
       "2900         Buffalo Bills             -0.2  1451.0\n",
       "2901       Oakland Raiders             -3.4  1451.0\n",
       "\n",
       "[2902 rows x 3 columns]"
      ]
     },
     "execution_count": 422,
     "metadata": {},
     "output_type": "execute_result"
    }
   ],
   "source": [
    "opponentDef"
   ]
  },
  {
   "cell_type": "code",
   "execution_count": 423,
   "metadata": {},
   "outputs": [],
   "source": [
    "opponentDef = allTheStats2.loc[:, [\"FINAL_TEAM_NAME\", 'Power Index DEF', \"Year\"]]"
   ]
  },
  {
   "cell_type": "code",
   "execution_count": 441,
   "metadata": {},
   "outputs": [],
   "source": [
    "defDf = defDf.drop(columns=['FINAL_TEAM_NAME_Opp'])"
   ]
  },
  {
   "cell_type": "code",
   "execution_count": 442,
   "metadata": {},
   "outputs": [
    {
     "data": {
      "text/plain": [
       "(32, 74)"
      ]
     },
     "execution_count": 442,
     "metadata": {},
     "output_type": "execute_result"
    }
   ],
   "source": [
    "defDf.shape"
   ]
  },
  {
   "cell_type": "code",
   "execution_count": 435,
   "metadata": {},
   "outputs": [],
   "source": [
    "new_df = opponentDef.drop_duplicates()"
   ]
  },
  {
   "cell_type": "code",
   "execution_count": 436,
   "metadata": {},
   "outputs": [],
   "source": [
    "defDf = pd.merge(missing_games, new_df, \"left\", left_on=[\"Opponent\", \"Year\"], right_on=[\"FINAL_TEAM_NAME\", \"Year\"], suffixes=(\"\", \"_Opp\"))"
   ]
  },
  {
   "cell_type": "code",
   "execution_count": null,
   "metadata": {},
   "outputs": [],
   "source": [
    "def_Df pd.merge(missing_games, opponentDef, left_on=[\"GAMEID\", \"Opponent\"], right_on=[\"GAMEID\", \"FINAL_TEAM_NAME\"], suffixes=(\"\", \"_Opp\"))"
   ]
  },
  {
   "cell_type": "code",
   "execution_count": 443,
   "metadata": {},
   "outputs": [
    {
     "data": {
      "text/plain": [
       "Index(['Year', 'Week_x', 'Abbr_RDBMS_Winner', 'Week2', 'Day', 'Date', 'Time',\n",
       "       'Home_Team', 'FINAL_TEAM_NAME', 'Opponent', 'TEAM_POINTS', 'TEAM_YARDS',\n",
       "       'TEAM_TURNOVERS', 'TEAM_TURNOVER_DIFFERENTIAL', 'OPPONENTS_POINTS',\n",
       "       'OPPONENTS_YARDS', 'OPPONENTS_TURNOVERS',\n",
       "       'OPPONENTS_TURNOVER_DIFFERENTIAL', 'TEAM_POINT_MARGIN', 'GAMEID',\n",
       "       'BINARY_WIN', 'W-L-T', 'Power Index FPI', 'Power Index RK',\n",
       "       'Power Index TREND', 'Power Index OFF', 'Power Index DEF',\n",
       "       'Power Index ST', 'Ranks SOS', 'Ranks REM SOS', 'Ranks AVGWP',\n",
       "       'DIVISION_538_Winner', 'ELO WITH QB_538_Winner',\n",
       "       'ELO CHANGE_538_Winner', 'CURRENT QB ADJ_538_Winner',\n",
       "       'Points_Diff_538_Winner', 'Playoffs_Prob_538_Winner',\n",
       "       'Division_Prob_538_Winner', 'Bye_Prob_538_Winner', 'SB_Prob_538_Winner',\n",
       "       'REAL_WINS2_538_Winner', 'REAL_LOSSES2_538_Winner',\n",
       "       'REAL_TIES_538_Winner', 'PROJ_WINS4_538_Winner',\n",
       "       'PROJ_LOSS4_538_Winner', 'EPA/play_RDBMS_Winner',\n",
       "       'OVR_SUCCESS_RATE_RDBMS_Winner', 'Dropback EPA_RDBMS_Winner',\n",
       "       'DROPBACK_SR_RDBMS_Winner', 'Rush EPA_RDBMS_Winner',\n",
       "       'RUN_SR_RDBMS_Winner', 'TOTAL DVOA_FO_WEEKLY_Winner',\n",
       "       'LAST WEEK_FO_WEEKLY_Winner', 'DAVE_WEI_DVOA_FO_WEEKLY_Winner',\n",
       "       'OFFENSE DVOA_FO_WEEKLY_Winner', 'DEFENSE DVOA_FO_WEEKLY_Winner',\n",
       "       'S.T. DVOA_FO_WEEKLY_Winner', 'RK_FO_ANNUAL_Winner',\n",
       "       'TOTAL DVOA_FO_ANNUAL_Winner', 'DAVE_WEI_DVOA_FO_ANNUAL_Winner',\n",
       "       'OFFENSE DVOA_FO_ANNUAL_Winner', 'DEFENSE DVOA_FO_ANNUAL_Winner',\n",
       "       'S.T. DVOA_FO_ANNUAL_Winner', 'non-adj VOA_FO_ANNUAL_Winner',\n",
       "       'Last Year_FO_ANNUAL_Winner', 'ESTIM. WINS_FO_ANNUAL_Winner',\n",
       "       'SCHEDULE RANK_FO_ANNUAL_Winner', 'VAR._FO_ANNUAL_Winner',\n",
       "       'TOTAL_GAME_POINTS', 'TOTAL_GAME_YARDS', 'TOTAL_GAME_TURNOVERS',\n",
       "       'PLAYOFFS_BINARY', 'GAME_TYPE', 'Power Index DEF_Opp'],\n",
       "      dtype='object')"
      ]
     },
     "execution_count": 443,
     "metadata": {},
     "output_type": "execute_result"
    }
   ],
   "source": [
    "defDf.columns"
   ]
  },
  {
   "cell_type": "code",
   "execution_count": null,
   "metadata": {},
   "outputs": [],
   "source": []
  },
  {
   "cell_type": "code",
   "execution_count": null,
   "metadata": {},
   "outputs": [],
   "source": []
  },
  {
   "cell_type": "code",
   "execution_count": null,
   "metadata": {},
   "outputs": [],
   "source": []
  },
  {
   "cell_type": "code",
   "execution_count": 445,
   "metadata": {},
   "outputs": [],
   "source": [
    "#['TEAM_POINTS', 'Power Index FPI']"
   ]
  },
  {
   "cell_type": "code",
   "execution_count": 446,
   "metadata": {},
   "outputs": [],
   "source": [
    "#['TEAM_POINTS', 'Power Index FPI', Power Index OFF', 'Power Index DEF', 'Power Index ST', 'Ranks SOS', 'Ranks AVGWP',]"
   ]
  },
  {
   "cell_type": "code",
   "execution_count": 447,
   "metadata": {},
   "outputs": [],
   "source": [
    "#['TEAM_POINTS', 'Power Index FPI', Power Index OFF', 'Power Index DEF', 'Power Index ST', 'Ranks SOS', 'Ranks AVGWP',\n",
    "#'TEAM_TURNOVERS', 'TEAM_YARDS', EPA/play_RDBMS_Winner', 'OVR_SUCCESS_RATE_RDBMS_Winner', 'Dropback EPA_RDBMS_Winner','DROPBACK_SR_RDBMS_Winner', 'Rush EPA_RDBMS_Winner', 'RUN_SR_RDBMS_Winner']"
   ]
  },
  {
   "cell_type": "code",
   "execution_count": 448,
   "metadata": {},
   "outputs": [],
   "source": [
    "missing = defDf.loc[:, ['TEAM_POINTS', 'Power Index FPI', 'Power Index OFF', 'Power Index DEF', 'Power Index ST', 'Ranks SOS', 'Ranks AVGWP', 'TEAM_TURNOVERS', 'TEAM_YARDS', 'EPA/play_RDBMS_Winner', 'OVR_SUCCESS_RATE_RDBMS_Winner', 'Dropback EPA_RDBMS_Winner','DROPBACK_SR_RDBMS_Winner', 'Rush EPA_RDBMS_Winner', 'RUN_SR_RDBMS_Winner']]"
   ]
  },
  {
   "cell_type": "code",
   "execution_count": 449,
   "metadata": {},
   "outputs": [],
   "source": [
    "models = [model_1, model_2, model_3, model_5, rf]"
   ]
  },
  {
   "cell_type": "code",
   "execution_count": 450,
   "metadata": {},
   "outputs": [],
   "source": [
    "Y = missing.iloc[:, 0].values"
   ]
  },
  {
   "cell_type": "code",
   "execution_count": 477,
   "metadata": {},
   "outputs": [],
   "source": [
    "for i, r in defDf.iterrows():\n",
    "    if r[\"BINARY_WIN\"] == 0:\n",
    "        p = r[\"TEAM_POINTS\"]\n",
    "        o = r[\"OPPONENTS_POINTS\"]\n",
    "        defDf.loc[i, \"OPPONENTS_POINTS\"] = p\n",
    "        defDf.loc[i, \"TEAM_POINTS\"] = o\n",
    "    else:\n",
    "        next"
   ]
  },
  {
   "cell_type": "code",
   "execution_count": 483,
   "metadata": {},
   "outputs": [],
   "source": [
    "defDf2 = defDf.loc[:, ['TEAM_POINTS', 'Power Index FPI', 'Power Index OFF', 'Power Index DEF_Opp', 'Power Index ST', 'Ranks SOS', 'Ranks AVGWP', 'TEAM_TURNOVERS', 'TEAM_YARDS', 'EPA/play_RDBMS_Winner', 'OVR_SUCCESS_RATE_RDBMS_Winner', 'Dropback EPA_RDBMS_Winner','DROPBACK_SR_RDBMS_Winner', 'Rush EPA_RDBMS_Winner', 'RUN_SR_RDBMS_Winner']]"
   ]
  },
  {
   "cell_type": "code",
   "execution_count": 482,
   "metadata": {},
   "outputs": [],
   "source": [
    "Y = defDf2.iloc[:, 0].values"
   ]
  },
  {
   "cell_type": "code",
   "execution_count": 501,
   "metadata": {},
   "outputs": [
    {
     "data": {
      "text/html": [
       "<div>\n",
       "<style scoped>\n",
       "    .dataframe tbody tr th:only-of-type {\n",
       "        vertical-align: middle;\n",
       "    }\n",
       "\n",
       "    .dataframe tbody tr th {\n",
       "        vertical-align: top;\n",
       "    }\n",
       "\n",
       "    .dataframe thead th {\n",
       "        text-align: right;\n",
       "    }\n",
       "</style>\n",
       "<table border=\"1\" class=\"dataframe\">\n",
       "  <thead>\n",
       "    <tr style=\"text-align: right;\">\n",
       "      <th></th>\n",
       "      <th>FINAL_TEAM_NAME</th>\n",
       "      <th>Power Index DEF_Opp</th>\n",
       "    </tr>\n",
       "  </thead>\n",
       "  <tbody>\n",
       "    <tr>\n",
       "      <th>0</th>\n",
       "      <td>New Orleans Saints</td>\n",
       "      <td>NaN</td>\n",
       "    </tr>\n",
       "    <tr>\n",
       "      <th>1</th>\n",
       "      <td>Tampa Bay Buccaneers</td>\n",
       "      <td>-0.2</td>\n",
       "    </tr>\n",
       "    <tr>\n",
       "      <th>2</th>\n",
       "      <td>Tennessee Titans</td>\n",
       "      <td>3.4</td>\n",
       "    </tr>\n",
       "    <tr>\n",
       "      <th>3</th>\n",
       "      <td>Denver Broncos</td>\n",
       "      <td>NaN</td>\n",
       "    </tr>\n",
       "    <tr>\n",
       "      <th>4</th>\n",
       "      <td>Tennessee Titans</td>\n",
       "      <td>-4.5</td>\n",
       "    </tr>\n",
       "    <tr>\n",
       "      <th>5</th>\n",
       "      <td>Jacksonville Jaguars</td>\n",
       "      <td>NaN</td>\n",
       "    </tr>\n",
       "    <tr>\n",
       "      <th>6</th>\n",
       "      <td>Carolina Panthers</td>\n",
       "      <td>NaN</td>\n",
       "    </tr>\n",
       "    <tr>\n",
       "      <th>7</th>\n",
       "      <td>Tampa Bay Buccaneers</td>\n",
       "      <td>-0.9</td>\n",
       "    </tr>\n",
       "    <tr>\n",
       "      <th>8</th>\n",
       "      <td>Minnesota Vikings</td>\n",
       "      <td>NaN</td>\n",
       "    </tr>\n",
       "    <tr>\n",
       "      <th>9</th>\n",
       "      <td>Tennessee Titans</td>\n",
       "      <td>0.0</td>\n",
       "    </tr>\n",
       "    <tr>\n",
       "      <th>10</th>\n",
       "      <td>Denver Broncos</td>\n",
       "      <td>NaN</td>\n",
       "    </tr>\n",
       "    <tr>\n",
       "      <th>11</th>\n",
       "      <td>Tampa Bay Buccaneers</td>\n",
       "      <td>3.4</td>\n",
       "    </tr>\n",
       "    <tr>\n",
       "      <th>12</th>\n",
       "      <td>Tampa Bay Buccaneers</td>\n",
       "      <td>NaN</td>\n",
       "    </tr>\n",
       "    <tr>\n",
       "      <th>13</th>\n",
       "      <td>Chicago Bears</td>\n",
       "      <td>NaN</td>\n",
       "    </tr>\n",
       "    <tr>\n",
       "      <th>14</th>\n",
       "      <td>Tampa Bay Buccaneers</td>\n",
       "      <td>3.7</td>\n",
       "    </tr>\n",
       "    <tr>\n",
       "      <th>15</th>\n",
       "      <td>Tennessee Titans</td>\n",
       "      <td>-0.2</td>\n",
       "    </tr>\n",
       "    <tr>\n",
       "      <th>16</th>\n",
       "      <td>Buffalo Bills</td>\n",
       "      <td>NaN</td>\n",
       "    </tr>\n",
       "    <tr>\n",
       "      <th>17</th>\n",
       "      <td>Tennessee Titans</td>\n",
       "      <td>-4.1</td>\n",
       "    </tr>\n",
       "    <tr>\n",
       "      <th>18</th>\n",
       "      <td>Houston Texans</td>\n",
       "      <td>NaN</td>\n",
       "    </tr>\n",
       "    <tr>\n",
       "      <th>19</th>\n",
       "      <td>Tampa Bay Buccaneers</td>\n",
       "      <td>-1.4</td>\n",
       "    </tr>\n",
       "    <tr>\n",
       "      <th>20</th>\n",
       "      <td>Green Bay Packers</td>\n",
       "      <td>NaN</td>\n",
       "    </tr>\n",
       "    <tr>\n",
       "      <th>21</th>\n",
       "      <td>Tennessee Titans</td>\n",
       "      <td>4.3</td>\n",
       "    </tr>\n",
       "    <tr>\n",
       "      <th>22</th>\n",
       "      <td>Pittsburgh Steelers</td>\n",
       "      <td>NaN</td>\n",
       "    </tr>\n",
       "    <tr>\n",
       "      <th>23</th>\n",
       "      <td>Tampa Bay Buccaneers</td>\n",
       "      <td>NaN</td>\n",
       "    </tr>\n",
       "    <tr>\n",
       "      <th>24</th>\n",
       "      <td>Tennessee Titans</td>\n",
       "      <td>-2.9</td>\n",
       "    </tr>\n",
       "    <tr>\n",
       "      <th>25</th>\n",
       "      <td>Cincinnati Bengals</td>\n",
       "      <td>NaN</td>\n",
       "    </tr>\n",
       "    <tr>\n",
       "      <th>26</th>\n",
       "      <td>Tampa Bay Buccaneers</td>\n",
       "      <td>-1.9</td>\n",
       "    </tr>\n",
       "    <tr>\n",
       "      <th>27</th>\n",
       "      <td>New York Giants</td>\n",
       "      <td>NaN</td>\n",
       "    </tr>\n",
       "    <tr>\n",
       "      <th>28</th>\n",
       "      <td>Tennessee Titans</td>\n",
       "      <td>3.7</td>\n",
       "    </tr>\n",
       "    <tr>\n",
       "      <th>29</th>\n",
       "      <td>Chicago Bears</td>\n",
       "      <td>NaN</td>\n",
       "    </tr>\n",
       "    <tr>\n",
       "      <th>30</th>\n",
       "      <td>New Orleans Saints</td>\n",
       "      <td>NaN</td>\n",
       "    </tr>\n",
       "    <tr>\n",
       "      <th>31</th>\n",
       "      <td>Tampa Bay Buccaneers</td>\n",
       "      <td>-0.2</td>\n",
       "    </tr>\n",
       "  </tbody>\n",
       "</table>\n",
       "</div>"
      ],
      "text/plain": [
       "         FINAL_TEAM_NAME  Power Index DEF_Opp\n",
       "0     New Orleans Saints                  NaN\n",
       "1   Tampa Bay Buccaneers                 -0.2\n",
       "2       Tennessee Titans                  3.4\n",
       "3         Denver Broncos                  NaN\n",
       "4       Tennessee Titans                 -4.5\n",
       "5   Jacksonville Jaguars                  NaN\n",
       "6      Carolina Panthers                  NaN\n",
       "7   Tampa Bay Buccaneers                 -0.9\n",
       "8      Minnesota Vikings                  NaN\n",
       "9       Tennessee Titans                  0.0\n",
       "10        Denver Broncos                  NaN\n",
       "11  Tampa Bay Buccaneers                  3.4\n",
       "12  Tampa Bay Buccaneers                  NaN\n",
       "13         Chicago Bears                  NaN\n",
       "14  Tampa Bay Buccaneers                  3.7\n",
       "15      Tennessee Titans                 -0.2\n",
       "16         Buffalo Bills                  NaN\n",
       "17      Tennessee Titans                 -4.1\n",
       "18        Houston Texans                  NaN\n",
       "19  Tampa Bay Buccaneers                 -1.4\n",
       "20     Green Bay Packers                  NaN\n",
       "21      Tennessee Titans                  4.3\n",
       "22   Pittsburgh Steelers                  NaN\n",
       "23  Tampa Bay Buccaneers                  NaN\n",
       "24      Tennessee Titans                 -2.9\n",
       "25    Cincinnati Bengals                  NaN\n",
       "26  Tampa Bay Buccaneers                 -1.9\n",
       "27       New York Giants                  NaN\n",
       "28      Tennessee Titans                  3.7\n",
       "29         Chicago Bears                  NaN\n",
       "30    New Orleans Saints                  NaN\n",
       "31  Tampa Bay Buccaneers                 -0.2"
      ]
     },
     "execution_count": 501,
     "metadata": {},
     "output_type": "execute_result"
    }
   ],
   "source": [
    "defDf.loc[:, [\"FINAL_TEAM_NAME\", 'Power Index DEF_Opp']]"
   ]
  },
  {
   "cell_type": "code",
   "execution_count": 545,
   "metadata": {},
   "outputs": [],
   "source": [
    "new_Df = new_Df.drop(columns=[\"Year\"])"
   ]
  },
  {
   "cell_type": "code",
   "execution_count": 564,
   "metadata": {},
   "outputs": [
    {
     "data": {
      "text/html": [
       "<div>\n",
       "<style scoped>\n",
       "    .dataframe tbody tr th:only-of-type {\n",
       "        vertical-align: middle;\n",
       "    }\n",
       "\n",
       "    .dataframe tbody tr th {\n",
       "        vertical-align: top;\n",
       "    }\n",
       "\n",
       "    .dataframe thead th {\n",
       "        text-align: right;\n",
       "    }\n",
       "</style>\n",
       "<table border=\"1\" class=\"dataframe\">\n",
       "  <thead>\n",
       "    <tr style=\"text-align: right;\">\n",
       "      <th></th>\n",
       "      <th>TEAM_POINTS</th>\n",
       "      <th>Power Index FPI</th>\n",
       "      <th>Power Index OFF</th>\n",
       "      <th>Power Index DEF_Opp</th>\n",
       "      <th>Power Index ST</th>\n",
       "      <th>Ranks SOS</th>\n",
       "      <th>Ranks AVGWP</th>\n",
       "      <th>TEAM_TURNOVERS</th>\n",
       "      <th>TEAM_YARDS</th>\n",
       "      <th>EPA/play_RDBMS_Winner</th>\n",
       "      <th>OVR_SUCCESS_RATE_RDBMS_Winner</th>\n",
       "      <th>Dropback EPA_RDBMS_Winner</th>\n",
       "      <th>DROPBACK_SR_RDBMS_Winner</th>\n",
       "      <th>Rush EPA_RDBMS_Winner</th>\n",
       "      <th>RUN_SR_RDBMS_Winner</th>\n",
       "    </tr>\n",
       "  </thead>\n",
       "  <tbody>\n",
       "    <tr>\n",
       "      <th>326</th>\n",
       "      <td>24</td>\n",
       "      <td>1.5</td>\n",
       "      <td>3.6</td>\n",
       "      <td>4.3</td>\n",
       "      <td>0.0</td>\n",
       "      <td>30</td>\n",
       "      <td>16</td>\n",
       "      <td>3</td>\n",
       "      <td>362</td>\n",
       "      <td>0.052</td>\n",
       "      <td>0.379</td>\n",
       "      <td>0.185</td>\n",
       "      <td>0.400</td>\n",
       "      <td>-0.151</td>\n",
       "      <td>0.348</td>\n",
       "    </tr>\n",
       "    <tr>\n",
       "      <th>327</th>\n",
       "      <td>20</td>\n",
       "      <td>1.5</td>\n",
       "      <td>3.6</td>\n",
       "      <td>-2.9</td>\n",
       "      <td>0.0</td>\n",
       "      <td>30</td>\n",
       "      <td>16</td>\n",
       "      <td>0</td>\n",
       "      <td>367</td>\n",
       "      <td>0.231</td>\n",
       "      <td>0.597</td>\n",
       "      <td>0.103</td>\n",
       "      <td>0.500</td>\n",
       "      <td>0.388</td>\n",
       "      <td>0.714</td>\n",
       "    </tr>\n",
       "    <tr>\n",
       "      <th>328</th>\n",
       "      <td>23</td>\n",
       "      <td>5.8</td>\n",
       "      <td>1.2</td>\n",
       "      <td>-0.2</td>\n",
       "      <td>-0.5</td>\n",
       "      <td>14</td>\n",
       "      <td>11</td>\n",
       "      <td>0</td>\n",
       "      <td>271</td>\n",
       "      <td>-0.018</td>\n",
       "      <td>0.464</td>\n",
       "      <td>-0.035</td>\n",
       "      <td>0.455</td>\n",
       "      <td>0.014</td>\n",
       "      <td>0.480</td>\n",
       "    </tr>\n",
       "    <tr>\n",
       "      <th>329</th>\n",
       "      <td>3</td>\n",
       "      <td>5.8</td>\n",
       "      <td>1.2</td>\n",
       "      <td>-0.2</td>\n",
       "      <td>-0.5</td>\n",
       "      <td>14</td>\n",
       "      <td>11</td>\n",
       "      <td>2</td>\n",
       "      <td>420</td>\n",
       "      <td>-0.479</td>\n",
       "      <td>0.367</td>\n",
       "      <td>-0.477</td>\n",
       "      <td>0.386</td>\n",
       "      <td>-0.494</td>\n",
       "      <td>0.200</td>\n",
       "    </tr>\n",
       "    <tr>\n",
       "      <th>330</th>\n",
       "      <td>19</td>\n",
       "      <td>5.8</td>\n",
       "      <td>1.2</td>\n",
       "      <td>3.7</td>\n",
       "      <td>-0.5</td>\n",
       "      <td>14</td>\n",
       "      <td>11</td>\n",
       "      <td>1</td>\n",
       "      <td>243</td>\n",
       "      <td>-0.023</td>\n",
       "      <td>0.348</td>\n",
       "      <td>-0.048</td>\n",
       "      <td>0.347</td>\n",
       "      <td>0.037</td>\n",
       "      <td>0.350</td>\n",
       "    </tr>\n",
       "    <tr>\n",
       "      <th>331</th>\n",
       "      <td>24</td>\n",
       "      <td>1.5</td>\n",
       "      <td>3.6</td>\n",
       "      <td>3.7</td>\n",
       "      <td>0.0</td>\n",
       "      <td>30</td>\n",
       "      <td>16</td>\n",
       "      <td>0</td>\n",
       "      <td>228</td>\n",
       "      <td>-0.095</td>\n",
       "      <td>0.302</td>\n",
       "      <td>-0.041</td>\n",
       "      <td>0.360</td>\n",
       "      <td>-0.144</td>\n",
       "      <td>0.250</td>\n",
       "    </tr>\n",
       "    <tr>\n",
       "      <th>332</th>\n",
       "      <td>17</td>\n",
       "      <td>-2.1</td>\n",
       "      <td>-5.6</td>\n",
       "      <td>-2.2</td>\n",
       "      <td>-0.2</td>\n",
       "      <td>10</td>\n",
       "      <td>25</td>\n",
       "      <td>0</td>\n",
       "      <td>228</td>\n",
       "      <td>-0.141</td>\n",
       "      <td>0.397</td>\n",
       "      <td>-0.091</td>\n",
       "      <td>0.441</td>\n",
       "      <td>-0.295</td>\n",
       "      <td>0.263</td>\n",
       "    </tr>\n",
       "    <tr>\n",
       "      <th>333</th>\n",
       "      <td>14</td>\n",
       "      <td>-2.7</td>\n",
       "      <td>-6.2</td>\n",
       "      <td>-2.2</td>\n",
       "      <td>0.1</td>\n",
       "      <td>5</td>\n",
       "      <td>28</td>\n",
       "      <td>0</td>\n",
       "      <td>377</td>\n",
       "      <td>-0.085</td>\n",
       "      <td>0.407</td>\n",
       "      <td>-0.179</td>\n",
       "      <td>0.441</td>\n",
       "      <td>0.043</td>\n",
       "      <td>0.360</td>\n",
       "    </tr>\n",
       "    <tr>\n",
       "      <th>334</th>\n",
       "      <td>30</td>\n",
       "      <td>-8.8</td>\n",
       "      <td>-4.6</td>\n",
       "      <td>-2.2</td>\n",
       "      <td>0.3</td>\n",
       "      <td>27</td>\n",
       "      <td>31</td>\n",
       "      <td>0</td>\n",
       "      <td>354</td>\n",
       "      <td>0.266</td>\n",
       "      <td>0.560</td>\n",
       "      <td>0.293</td>\n",
       "      <td>0.620</td>\n",
       "      <td>0.210</td>\n",
       "      <td>0.440</td>\n",
       "    </tr>\n",
       "    <tr>\n",
       "      <th>335</th>\n",
       "      <td>30</td>\n",
       "      <td>1.9</td>\n",
       "      <td>2.4</td>\n",
       "      <td>-2.2</td>\n",
       "      <td>-0.5</td>\n",
       "      <td>9</td>\n",
       "      <td>17</td>\n",
       "      <td>1</td>\n",
       "      <td>444</td>\n",
       "      <td>0.057</td>\n",
       "      <td>0.453</td>\n",
       "      <td>0.204</td>\n",
       "      <td>0.484</td>\n",
       "      <td>-0.081</td>\n",
       "      <td>0.424</td>\n",
       "    </tr>\n",
       "    <tr>\n",
       "      <th>336</th>\n",
       "      <td>16</td>\n",
       "      <td>1.9</td>\n",
       "      <td>2.2</td>\n",
       "      <td>-2.2</td>\n",
       "      <td>-0.2</td>\n",
       "      <td>16</td>\n",
       "      <td>5</td>\n",
       "      <td>0</td>\n",
       "      <td>334</td>\n",
       "      <td>0.030</td>\n",
       "      <td>0.514</td>\n",
       "      <td>0.018</td>\n",
       "      <td>0.560</td>\n",
       "      <td>0.060</td>\n",
       "      <td>0.400</td>\n",
       "    </tr>\n",
       "    <tr>\n",
       "      <th>337</th>\n",
       "      <td>36</td>\n",
       "      <td>-2.4</td>\n",
       "      <td>1.6</td>\n",
       "      <td>-2.2</td>\n",
       "      <td>0.2</td>\n",
       "      <td>7</td>\n",
       "      <td>27</td>\n",
       "      <td>2</td>\n",
       "      <td>607</td>\n",
       "      <td>0.299</td>\n",
       "      <td>0.478</td>\n",
       "      <td>0.567</td>\n",
       "      <td>0.581</td>\n",
       "      <td>-0.144</td>\n",
       "      <td>0.308</td>\n",
       "    </tr>\n",
       "    <tr>\n",
       "      <th>338</th>\n",
       "      <td>27</td>\n",
       "      <td>4.6</td>\n",
       "      <td>0.3</td>\n",
       "      <td>-2.2</td>\n",
       "      <td>-0.1</td>\n",
       "      <td>29</td>\n",
       "      <td>4</td>\n",
       "      <td>3</td>\n",
       "      <td>362</td>\n",
       "      <td>0.089</td>\n",
       "      <td>0.500</td>\n",
       "      <td>0.102</td>\n",
       "      <td>0.453</td>\n",
       "      <td>0.060</td>\n",
       "      <td>0.600</td>\n",
       "    </tr>\n",
       "    <tr>\n",
       "      <th>339</th>\n",
       "      <td>31</td>\n",
       "      <td>-3.6</td>\n",
       "      <td>-1.1</td>\n",
       "      <td>-2.2</td>\n",
       "      <td>0.4</td>\n",
       "      <td>22</td>\n",
       "      <td>18</td>\n",
       "      <td>0</td>\n",
       "      <td>367</td>\n",
       "      <td>0.308</td>\n",
       "      <td>0.534</td>\n",
       "      <td>0.510</td>\n",
       "      <td>0.595</td>\n",
       "      <td>0.035</td>\n",
       "      <td>0.452</td>\n",
       "    </tr>\n",
       "    <tr>\n",
       "      <th>340</th>\n",
       "      <td>10</td>\n",
       "      <td>-2.7</td>\n",
       "      <td>-6.2</td>\n",
       "      <td>5.1</td>\n",
       "      <td>0.1</td>\n",
       "      <td>5</td>\n",
       "      <td>28</td>\n",
       "      <td>0</td>\n",
       "      <td>353</td>\n",
       "      <td>-0.267</td>\n",
       "      <td>0.323</td>\n",
       "      <td>-0.246</td>\n",
       "      <td>0.340</td>\n",
       "      <td>-0.358</td>\n",
       "      <td>0.250</td>\n",
       "    </tr>\n",
       "    <tr>\n",
       "      <th>341</th>\n",
       "      <td>17</td>\n",
       "      <td>-0.6</td>\n",
       "      <td>0.6</td>\n",
       "      <td>5.1</td>\n",
       "      <td>-0.4</td>\n",
       "      <td>3</td>\n",
       "      <td>21</td>\n",
       "      <td>2</td>\n",
       "      <td>339</td>\n",
       "      <td>-0.126</td>\n",
       "      <td>0.466</td>\n",
       "      <td>-0.137</td>\n",
       "      <td>0.542</td>\n",
       "      <td>-0.106</td>\n",
       "      <td>0.320</td>\n",
       "    </tr>\n",
       "    <tr>\n",
       "      <th>342</th>\n",
       "      <td>10</td>\n",
       "      <td>4.7</td>\n",
       "      <td>6.4</td>\n",
       "      <td>5.1</td>\n",
       "      <td>-0.4</td>\n",
       "      <td>2</td>\n",
       "      <td>3</td>\n",
       "      <td>0</td>\n",
       "      <td>324</td>\n",
       "      <td>-0.314</td>\n",
       "      <td>0.339</td>\n",
       "      <td>-0.366</td>\n",
       "      <td>0.357</td>\n",
       "      <td>-0.205</td>\n",
       "      <td>0.300</td>\n",
       "    </tr>\n",
       "    <tr>\n",
       "      <th>343</th>\n",
       "      <td>23</td>\n",
       "      <td>-5.4</td>\n",
       "      <td>-3.6</td>\n",
       "      <td>5.1</td>\n",
       "      <td>0.1</td>\n",
       "      <td>11</td>\n",
       "      <td>22</td>\n",
       "      <td>1</td>\n",
       "      <td>344</td>\n",
       "      <td>0.005</td>\n",
       "      <td>0.431</td>\n",
       "      <td>0.090</td>\n",
       "      <td>0.479</td>\n",
       "      <td>-0.166</td>\n",
       "      <td>0.333</td>\n",
       "    </tr>\n",
       "    <tr>\n",
       "      <th>344</th>\n",
       "      <td>34</td>\n",
       "      <td>5.5</td>\n",
       "      <td>5.5</td>\n",
       "      <td>5.1</td>\n",
       "      <td>0.2</td>\n",
       "      <td>15</td>\n",
       "      <td>9</td>\n",
       "      <td>0</td>\n",
       "      <td>271</td>\n",
       "      <td>-0.129</td>\n",
       "      <td>0.328</td>\n",
       "      <td>0.152</td>\n",
       "      <td>0.389</td>\n",
       "      <td>-0.455</td>\n",
       "      <td>0.258</td>\n",
       "    </tr>\n",
       "    <tr>\n",
       "      <th>345</th>\n",
       "      <td>38</td>\n",
       "      <td>5.5</td>\n",
       "      <td>5.5</td>\n",
       "      <td>5.1</td>\n",
       "      <td>0.2</td>\n",
       "      <td>15</td>\n",
       "      <td>9</td>\n",
       "      <td>2</td>\n",
       "      <td>420</td>\n",
       "      <td>0.226</td>\n",
       "      <td>0.529</td>\n",
       "      <td>0.367</td>\n",
       "      <td>0.595</td>\n",
       "      <td>0.058</td>\n",
       "      <td>0.452</td>\n",
       "    </tr>\n",
       "    <tr>\n",
       "      <th>346</th>\n",
       "      <td>20</td>\n",
       "      <td>-2.1</td>\n",
       "      <td>-5.6</td>\n",
       "      <td>5.1</td>\n",
       "      <td>-0.2</td>\n",
       "      <td>10</td>\n",
       "      <td>25</td>\n",
       "      <td>1</td>\n",
       "      <td>243</td>\n",
       "      <td>-0.066</td>\n",
       "      <td>0.410</td>\n",
       "      <td>-0.033</td>\n",
       "      <td>0.458</td>\n",
       "      <td>-0.188</td>\n",
       "      <td>0.231</td>\n",
       "    </tr>\n",
       "    <tr>\n",
       "      <th>347</th>\n",
       "      <td>16</td>\n",
       "      <td>1.5</td>\n",
       "      <td>3.6</td>\n",
       "      <td>3.4</td>\n",
       "      <td>0.0</td>\n",
       "      <td>30</td>\n",
       "      <td>16</td>\n",
       "      <td>0</td>\n",
       "      <td>377</td>\n",
       "      <td>0.160</td>\n",
       "      <td>0.543</td>\n",
       "      <td>0.322</td>\n",
       "      <td>0.625</td>\n",
       "      <td>-0.076</td>\n",
       "      <td>0.424</td>\n",
       "    </tr>\n",
       "    <tr>\n",
       "      <th>348</th>\n",
       "      <td>28</td>\n",
       "      <td>5.8</td>\n",
       "      <td>1.2</td>\n",
       "      <td>3.4</td>\n",
       "      <td>-0.5</td>\n",
       "      <td>14</td>\n",
       "      <td>11</td>\n",
       "      <td>0</td>\n",
       "      <td>353</td>\n",
       "      <td>0.133</td>\n",
       "      <td>0.462</td>\n",
       "      <td>0.242</td>\n",
       "      <td>0.500</td>\n",
       "      <td>-0.064</td>\n",
       "      <td>0.391</td>\n",
       "    </tr>\n",
       "    <tr>\n",
       "      <th>349</th>\n",
       "      <td>33</td>\n",
       "      <td>1.5</td>\n",
       "      <td>3.6</td>\n",
       "      <td>-4.5</td>\n",
       "      <td>0.0</td>\n",
       "      <td>30</td>\n",
       "      <td>16</td>\n",
       "      <td>0</td>\n",
       "      <td>354</td>\n",
       "      <td>0.315</td>\n",
       "      <td>0.583</td>\n",
       "      <td>0.758</td>\n",
       "      <td>0.733</td>\n",
       "      <td>-0.127</td>\n",
       "      <td>0.433</td>\n",
       "    </tr>\n",
       "    <tr>\n",
       "      <th>350</th>\n",
       "      <td>31</td>\n",
       "      <td>1.5</td>\n",
       "      <td>3.6</td>\n",
       "      <td>0.0</td>\n",
       "      <td>0.0</td>\n",
       "      <td>30</td>\n",
       "      <td>16</td>\n",
       "      <td>1</td>\n",
       "      <td>444</td>\n",
       "      <td>0.006</td>\n",
       "      <td>0.500</td>\n",
       "      <td>-0.001</td>\n",
       "      <td>0.475</td>\n",
       "      <td>0.014</td>\n",
       "      <td>0.531</td>\n",
       "    </tr>\n",
       "    <tr>\n",
       "      <th>351</th>\n",
       "      <td>42</td>\n",
       "      <td>1.5</td>\n",
       "      <td>3.6</td>\n",
       "      <td>-0.2</td>\n",
       "      <td>0.0</td>\n",
       "      <td>30</td>\n",
       "      <td>16</td>\n",
       "      <td>0</td>\n",
       "      <td>334</td>\n",
       "      <td>0.294</td>\n",
       "      <td>0.508</td>\n",
       "      <td>0.606</td>\n",
       "      <td>0.647</td>\n",
       "      <td>-0.047</td>\n",
       "      <td>0.355</td>\n",
       "    </tr>\n",
       "    <tr>\n",
       "      <th>352</th>\n",
       "      <td>42</td>\n",
       "      <td>1.5</td>\n",
       "      <td>3.6</td>\n",
       "      <td>-4.1</td>\n",
       "      <td>0.0</td>\n",
       "      <td>30</td>\n",
       "      <td>16</td>\n",
       "      <td>2</td>\n",
       "      <td>607</td>\n",
       "      <td>0.399</td>\n",
       "      <td>0.514</td>\n",
       "      <td>0.438</td>\n",
       "      <td>0.600</td>\n",
       "      <td>0.338</td>\n",
       "      <td>0.379</td>\n",
       "    </tr>\n",
       "    <tr>\n",
       "      <th>353</th>\n",
       "      <td>31</td>\n",
       "      <td>5.8</td>\n",
       "      <td>1.2</td>\n",
       "      <td>-0.9</td>\n",
       "      <td>-0.5</td>\n",
       "      <td>14</td>\n",
       "      <td>11</td>\n",
       "      <td>2</td>\n",
       "      <td>339</td>\n",
       "      <td>0.052</td>\n",
       "      <td>0.426</td>\n",
       "      <td>0.161</td>\n",
       "      <td>0.447</td>\n",
       "      <td>-0.128</td>\n",
       "      <td>0.391</td>\n",
       "    </tr>\n",
       "    <tr>\n",
       "      <th>354</th>\n",
       "      <td>38</td>\n",
       "      <td>5.8</td>\n",
       "      <td>1.2</td>\n",
       "      <td>-1.4</td>\n",
       "      <td>-0.5</td>\n",
       "      <td>14</td>\n",
       "      <td>11</td>\n",
       "      <td>0</td>\n",
       "      <td>324</td>\n",
       "      <td>0.198</td>\n",
       "      <td>0.419</td>\n",
       "      <td>0.398</td>\n",
       "      <td>0.467</td>\n",
       "      <td>0.011</td>\n",
       "      <td>0.375</td>\n",
       "    </tr>\n",
       "    <tr>\n",
       "      <th>355</th>\n",
       "      <td>25</td>\n",
       "      <td>5.8</td>\n",
       "      <td>1.2</td>\n",
       "      <td>-1.9</td>\n",
       "      <td>-0.5</td>\n",
       "      <td>14</td>\n",
       "      <td>11</td>\n",
       "      <td>1</td>\n",
       "      <td>344</td>\n",
       "      <td>0.076</td>\n",
       "      <td>0.456</td>\n",
       "      <td>0.222</td>\n",
       "      <td>0.568</td>\n",
       "      <td>-0.193</td>\n",
       "      <td>0.250</td>\n",
       "    </tr>\n",
       "  </tbody>\n",
       "</table>\n",
       "</div>"
      ],
      "text/plain": [
       "     TEAM_POINTS  Power Index FPI  Power Index OFF  Power Index DEF_Opp  \\\n",
       "326           24              1.5              3.6                  4.3   \n",
       "327           20              1.5              3.6                 -2.9   \n",
       "328           23              5.8              1.2                 -0.2   \n",
       "329            3              5.8              1.2                 -0.2   \n",
       "330           19              5.8              1.2                  3.7   \n",
       "331           24              1.5              3.6                  3.7   \n",
       "332           17             -2.1             -5.6                 -2.2   \n",
       "333           14             -2.7             -6.2                 -2.2   \n",
       "334           30             -8.8             -4.6                 -2.2   \n",
       "335           30              1.9              2.4                 -2.2   \n",
       "336           16              1.9              2.2                 -2.2   \n",
       "337           36             -2.4              1.6                 -2.2   \n",
       "338           27              4.6              0.3                 -2.2   \n",
       "339           31             -3.6             -1.1                 -2.2   \n",
       "340           10             -2.7             -6.2                  5.1   \n",
       "341           17             -0.6              0.6                  5.1   \n",
       "342           10              4.7              6.4                  5.1   \n",
       "343           23             -5.4             -3.6                  5.1   \n",
       "344           34              5.5              5.5                  5.1   \n",
       "345           38              5.5              5.5                  5.1   \n",
       "346           20             -2.1             -5.6                  5.1   \n",
       "347           16              1.5              3.6                  3.4   \n",
       "348           28              5.8              1.2                  3.4   \n",
       "349           33              1.5              3.6                 -4.5   \n",
       "350           31              1.5              3.6                  0.0   \n",
       "351           42              1.5              3.6                 -0.2   \n",
       "352           42              1.5              3.6                 -4.1   \n",
       "353           31              5.8              1.2                 -0.9   \n",
       "354           38              5.8              1.2                 -1.4   \n",
       "355           25              5.8              1.2                 -1.9   \n",
       "\n",
       "     Power Index ST  Ranks SOS  Ranks AVGWP  TEAM_TURNOVERS  TEAM_YARDS  \\\n",
       "326             0.0         30           16               3         362   \n",
       "327             0.0         30           16               0         367   \n",
       "328            -0.5         14           11               0         271   \n",
       "329            -0.5         14           11               2         420   \n",
       "330            -0.5         14           11               1         243   \n",
       "331             0.0         30           16               0         228   \n",
       "332            -0.2         10           25               0         228   \n",
       "333             0.1          5           28               0         377   \n",
       "334             0.3         27           31               0         354   \n",
       "335            -0.5          9           17               1         444   \n",
       "336            -0.2         16            5               0         334   \n",
       "337             0.2          7           27               2         607   \n",
       "338            -0.1         29            4               3         362   \n",
       "339             0.4         22           18               0         367   \n",
       "340             0.1          5           28               0         353   \n",
       "341            -0.4          3           21               2         339   \n",
       "342            -0.4          2            3               0         324   \n",
       "343             0.1         11           22               1         344   \n",
       "344             0.2         15            9               0         271   \n",
       "345             0.2         15            9               2         420   \n",
       "346            -0.2         10           25               1         243   \n",
       "347             0.0         30           16               0         377   \n",
       "348            -0.5         14           11               0         353   \n",
       "349             0.0         30           16               0         354   \n",
       "350             0.0         30           16               1         444   \n",
       "351             0.0         30           16               0         334   \n",
       "352             0.0         30           16               2         607   \n",
       "353            -0.5         14           11               2         339   \n",
       "354            -0.5         14           11               0         324   \n",
       "355            -0.5         14           11               1         344   \n",
       "\n",
       "     EPA/play_RDBMS_Winner  OVR_SUCCESS_RATE_RDBMS_Winner  \\\n",
       "326                  0.052                          0.379   \n",
       "327                  0.231                          0.597   \n",
       "328                 -0.018                          0.464   \n",
       "329                 -0.479                          0.367   \n",
       "330                 -0.023                          0.348   \n",
       "331                 -0.095                          0.302   \n",
       "332                 -0.141                          0.397   \n",
       "333                 -0.085                          0.407   \n",
       "334                  0.266                          0.560   \n",
       "335                  0.057                          0.453   \n",
       "336                  0.030                          0.514   \n",
       "337                  0.299                          0.478   \n",
       "338                  0.089                          0.500   \n",
       "339                  0.308                          0.534   \n",
       "340                 -0.267                          0.323   \n",
       "341                 -0.126                          0.466   \n",
       "342                 -0.314                          0.339   \n",
       "343                  0.005                          0.431   \n",
       "344                 -0.129                          0.328   \n",
       "345                  0.226                          0.529   \n",
       "346                 -0.066                          0.410   \n",
       "347                  0.160                          0.543   \n",
       "348                  0.133                          0.462   \n",
       "349                  0.315                          0.583   \n",
       "350                  0.006                          0.500   \n",
       "351                  0.294                          0.508   \n",
       "352                  0.399                          0.514   \n",
       "353                  0.052                          0.426   \n",
       "354                  0.198                          0.419   \n",
       "355                  0.076                          0.456   \n",
       "\n",
       "     Dropback EPA_RDBMS_Winner  DROPBACK_SR_RDBMS_Winner  \\\n",
       "326                      0.185                     0.400   \n",
       "327                      0.103                     0.500   \n",
       "328                     -0.035                     0.455   \n",
       "329                     -0.477                     0.386   \n",
       "330                     -0.048                     0.347   \n",
       "331                     -0.041                     0.360   \n",
       "332                     -0.091                     0.441   \n",
       "333                     -0.179                     0.441   \n",
       "334                      0.293                     0.620   \n",
       "335                      0.204                     0.484   \n",
       "336                      0.018                     0.560   \n",
       "337                      0.567                     0.581   \n",
       "338                      0.102                     0.453   \n",
       "339                      0.510                     0.595   \n",
       "340                     -0.246                     0.340   \n",
       "341                     -0.137                     0.542   \n",
       "342                     -0.366                     0.357   \n",
       "343                      0.090                     0.479   \n",
       "344                      0.152                     0.389   \n",
       "345                      0.367                     0.595   \n",
       "346                     -0.033                     0.458   \n",
       "347                      0.322                     0.625   \n",
       "348                      0.242                     0.500   \n",
       "349                      0.758                     0.733   \n",
       "350                     -0.001                     0.475   \n",
       "351                      0.606                     0.647   \n",
       "352                      0.438                     0.600   \n",
       "353                      0.161                     0.447   \n",
       "354                      0.398                     0.467   \n",
       "355                      0.222                     0.568   \n",
       "\n",
       "     Rush EPA_RDBMS_Winner  RUN_SR_RDBMS_Winner  \n",
       "326                 -0.151                0.348  \n",
       "327                  0.388                0.714  \n",
       "328                  0.014                0.480  \n",
       "329                 -0.494                0.200  \n",
       "330                  0.037                0.350  \n",
       "331                 -0.144                0.250  \n",
       "332                 -0.295                0.263  \n",
       "333                  0.043                0.360  \n",
       "334                  0.210                0.440  \n",
       "335                 -0.081                0.424  \n",
       "336                  0.060                0.400  \n",
       "337                 -0.144                0.308  \n",
       "338                  0.060                0.600  \n",
       "339                  0.035                0.452  \n",
       "340                 -0.358                0.250  \n",
       "341                 -0.106                0.320  \n",
       "342                 -0.205                0.300  \n",
       "343                 -0.166                0.333  \n",
       "344                 -0.455                0.258  \n",
       "345                  0.058                0.452  \n",
       "346                 -0.188                0.231  \n",
       "347                 -0.076                0.424  \n",
       "348                 -0.064                0.391  \n",
       "349                 -0.127                0.433  \n",
       "350                  0.014                0.531  \n",
       "351                 -0.047                0.355  \n",
       "352                  0.338                0.379  \n",
       "353                 -0.128                0.391  \n",
       "354                  0.011                0.375  \n",
       "355                 -0.193                0.250  "
      ]
     },
     "execution_count": 564,
     "metadata": {},
     "output_type": "execute_result"
    }
   ],
   "source": [
    "new_Df"
   ]
  },
  {
   "cell_type": "code",
   "execution_count": 566,
   "metadata": {},
   "outputs": [],
   "source": [
    "new_Df = new_Df.loc[:, [\"TEAM_POINTS\", \"Power Index FPI\", 'Power Index OFF','Power Index DEF_Opp', 'Power Index ST', 'Ranks SOS', 'Ranks AVGWP',\n",
    "                                 \"TEAM_YARDS\", \"TEAM_TURNOVERS\",  'EPA/play_RDBMS_Winner', 'OVR_SUCCESS_RATE_RDBMS_Winner', 'Dropback EPA_RDBMS_Winner',\n",
    "                                  'DROPBACK_SR_RDBMS_Winner', 'Rush EPA_RDBMS_Winner', 'RUN_SR_RDBMS_Winner']]"
   ]
  },
  {
   "cell_type": "code",
   "execution_count": 567,
   "metadata": {},
   "outputs": [],
   "source": [
    "Y = new_Df.iloc[:, 0].values\n",
    "X1 = new_Df.iloc[:, 1].values\n",
    "X2 = new_Df.iloc[:, 1:7].values\n",
    "X3 = new_Df.iloc[:, 1:9].values\n",
    "X4 = new_Df.iloc[:, 1:9].values\n",
    "X5 = new_Df.iloc[:, 1:].values"
   ]
  },
  {
   "cell_type": "code",
   "execution_count": 568,
   "metadata": {},
   "outputs": [],
   "source": [
    "y1 = model_1.predict(X1.reshape(-1, 1))"
   ]
  },
  {
   "cell_type": "code",
   "execution_count": 569,
   "metadata": {},
   "outputs": [],
   "source": [
    "y2 = model_2.predict(X2)"
   ]
  },
  {
   "cell_type": "code",
   "execution_count": 570,
   "metadata": {},
   "outputs": [],
   "source": [
    "y3 = model_3.predict(X3)"
   ]
  },
  {
   "cell_type": "code",
   "execution_count": 571,
   "metadata": {},
   "outputs": [],
   "source": [
    "y4 = rf.predict(X4)"
   ]
  },
  {
   "cell_type": "code",
   "execution_count": 572,
   "metadata": {},
   "outputs": [],
   "source": [
    "y5 = model_5.predict(X5)"
   ]
  },
  {
   "cell_type": "code",
   "execution_count": 573,
   "metadata": {},
   "outputs": [
    {
     "data": {
      "text/plain": [
       "array([[26.02417576],\n",
       "       [28.12845021],\n",
       "       [19.74765573],\n",
       "       [ 7.47448453],\n",
       "       [20.42341903],\n",
       "       [17.83357653],\n",
       "       [14.26623987],\n",
       "       [19.25751244],\n",
       "       [29.46949974],\n",
       "       [26.12730592],\n",
       "       [22.41375377],\n",
       "       [37.81528102],\n",
       "       [27.42984713],\n",
       "       [33.07602329],\n",
       "       [12.38589724],\n",
       "       [16.8461951 ],\n",
       "       [10.86791669],\n",
       "       [21.64092848],\n",
       "       [18.26945774],\n",
       "       [32.53187444],\n",
       "       [16.9660278 ],\n",
       "       [27.57901436],\n",
       "       [26.68510344],\n",
       "       [34.46634979],\n",
       "       [23.56900961],\n",
       "       [33.1563647 ],\n",
       "       [41.81128779],\n",
       "       [25.17629696],\n",
       "       [29.89762679],\n",
       "       [25.6623598 ]])"
      ]
     },
     "execution_count": 573,
     "metadata": {},
     "output_type": "execute_result"
    }
   ],
   "source": [
    "y5"
   ]
  },
  {
   "cell_type": "code",
   "execution_count": 584,
   "metadata": {},
   "outputs": [],
   "source": [
    "missing_preds = pd.concat([pd.Series(y1.reshape(-1), name=\"Model1_Prediction\"),pd.Series(y2.reshape(-1), name=\"Model2_Prediction\"),pd.Series(y3.reshape(-1), name=\"Model3_Prediction\"),pd.Series(y4.reshape(-1), name=\"Model4_Prediction\"),pd.Series(y5.reshape(-1), name=\"Model5_Prediction\")], axis=1)"
   ]
  },
  {
   "cell_type": "code",
   "execution_count": 592,
   "metadata": {},
   "outputs": [
    {
     "data": {
      "text/plain": [
       "(30, 76)"
      ]
     },
     "execution_count": 592,
     "metadata": {},
     "output_type": "execute_result"
    }
   ],
   "source": [
    "new_Df.shape"
   ]
  },
  {
   "cell_type": "code",
   "execution_count": 614,
   "metadata": {},
   "outputs": [],
   "source": [
    "new_Df = new_Df.reset_index(drop=True)"
   ]
  },
  {
   "cell_type": "code",
   "execution_count": 615,
   "metadata": {},
   "outputs": [],
   "source": [
    "missing_ones = pd.concat([new_Df, missing_preds], axis=1)"
   ]
  },
  {
   "cell_type": "code",
   "execution_count": 616,
   "metadata": {},
   "outputs": [
    {
     "data": {
      "text/html": [
       "<div>\n",
       "<style scoped>\n",
       "    .dataframe tbody tr th:only-of-type {\n",
       "        vertical-align: middle;\n",
       "    }\n",
       "\n",
       "    .dataframe tbody tr th {\n",
       "        vertical-align: top;\n",
       "    }\n",
       "\n",
       "    .dataframe thead th {\n",
       "        text-align: right;\n",
       "    }\n",
       "</style>\n",
       "<table border=\"1\" class=\"dataframe\">\n",
       "  <thead>\n",
       "    <tr style=\"text-align: right;\">\n",
       "      <th></th>\n",
       "      <th>Year</th>\n",
       "      <th>Week_x</th>\n",
       "      <th>Abbr_RDBMS_Winner</th>\n",
       "      <th>Week2</th>\n",
       "      <th>Day</th>\n",
       "      <th>Date</th>\n",
       "      <th>Time</th>\n",
       "      <th>Home_Team</th>\n",
       "      <th>FINAL_TEAM_NAME</th>\n",
       "      <th>Opponent</th>\n",
       "      <th>...</th>\n",
       "      <th>PLAYOFFS_BINARY</th>\n",
       "      <th>GAME_TYPE</th>\n",
       "      <th>Year</th>\n",
       "      <th>TEAM</th>\n",
       "      <th>Power Index DEF_Opp</th>\n",
       "      <th>Model1_Prediction</th>\n",
       "      <th>Model2_Prediction</th>\n",
       "      <th>Model3_Prediction</th>\n",
       "      <th>Model4_Prediction</th>\n",
       "      <th>Model5_Prediction</th>\n",
       "    </tr>\n",
       "  </thead>\n",
       "  <tbody>\n",
       "    <tr>\n",
       "      <th>0</th>\n",
       "      <td>2020</td>\n",
       "      <td>7</td>\n",
       "      <td>TEN</td>\n",
       "      <td>9</td>\n",
       "      <td>Sun</td>\n",
       "      <td>25-Oct</td>\n",
       "      <td>1:00:00 PM</td>\n",
       "      <td>1</td>\n",
       "      <td>Tennessee Titans</td>\n",
       "      <td>Pittsburgh Steelers</td>\n",
       "      <td>...</td>\n",
       "      <td>0</td>\n",
       "      <td>Regular Season</td>\n",
       "      <td>2020</td>\n",
       "      <td>Pittsburgh Steelers</td>\n",
       "      <td>4.3</td>\n",
       "      <td>23.725884</td>\n",
       "      <td>20.559308</td>\n",
       "      <td>20.154583</td>\n",
       "      <td>24.0</td>\n",
       "      <td>26.024176</td>\n",
       "    </tr>\n",
       "    <tr>\n",
       "      <th>1</th>\n",
       "      <td>2020</td>\n",
       "      <td>8</td>\n",
       "      <td>TEN</td>\n",
       "      <td>9</td>\n",
       "      <td>Sun</td>\n",
       "      <td>1-Nov</td>\n",
       "      <td>1:00:00 PM</td>\n",
       "      <td>0</td>\n",
       "      <td>Tennessee Titans</td>\n",
       "      <td>Cincinnati Bengals</td>\n",
       "      <td>...</td>\n",
       "      <td>0</td>\n",
       "      <td>Regular Season</td>\n",
       "      <td>2020</td>\n",
       "      <td>Cincinnati Bengals</td>\n",
       "      <td>-2.9</td>\n",
       "      <td>23.725884</td>\n",
       "      <td>27.802101</td>\n",
       "      <td>28.089752</td>\n",
       "      <td>27.0</td>\n",
       "      <td>28.128450</td>\n",
       "    </tr>\n",
       "    <tr>\n",
       "      <th>2</th>\n",
       "      <td>2020</td>\n",
       "      <td>1</td>\n",
       "      <td>TB</td>\n",
       "      <td>9</td>\n",
       "      <td>Sun</td>\n",
       "      <td>13-Sep</td>\n",
       "      <td>4:25:00 PM</td>\n",
       "      <td>0</td>\n",
       "      <td>Tampa Bay Buccaneers</td>\n",
       "      <td>New Orleans Saints</td>\n",
       "      <td>...</td>\n",
       "      <td>0</td>\n",
       "      <td>Regular Season</td>\n",
       "      <td>2020</td>\n",
       "      <td>New Orleans Saints</td>\n",
       "      <td>-0.2</td>\n",
       "      <td>26.471791</td>\n",
       "      <td>24.286553</td>\n",
       "      <td>21.315701</td>\n",
       "      <td>20.0</td>\n",
       "      <td>19.747656</td>\n",
       "    </tr>\n",
       "    <tr>\n",
       "      <th>3</th>\n",
       "      <td>2020</td>\n",
       "      <td>9</td>\n",
       "      <td>TB</td>\n",
       "      <td>9</td>\n",
       "      <td>Sun</td>\n",
       "      <td>8-Nov</td>\n",
       "      <td>8:20:00 PM</td>\n",
       "      <td>1</td>\n",
       "      <td>Tampa Bay Buccaneers</td>\n",
       "      <td>New Orleans Saints</td>\n",
       "      <td>...</td>\n",
       "      <td>0</td>\n",
       "      <td>Regular Season</td>\n",
       "      <td>2020</td>\n",
       "      <td>New Orleans Saints</td>\n",
       "      <td>-0.2</td>\n",
       "      <td>26.471791</td>\n",
       "      <td>24.286553</td>\n",
       "      <td>27.268988</td>\n",
       "      <td>24.0</td>\n",
       "      <td>7.474485</td>\n",
       "    </tr>\n",
       "    <tr>\n",
       "      <th>4</th>\n",
       "      <td>2020</td>\n",
       "      <td>5</td>\n",
       "      <td>TB</td>\n",
       "      <td>9</td>\n",
       "      <td>Thu</td>\n",
       "      <td>8-Oct</td>\n",
       "      <td>8:20:00 PM</td>\n",
       "      <td>0</td>\n",
       "      <td>Tampa Bay Buccaneers</td>\n",
       "      <td>Chicago Bears</td>\n",
       "      <td>...</td>\n",
       "      <td>0</td>\n",
       "      <td>Regular Season</td>\n",
       "      <td>2020</td>\n",
       "      <td>Chicago Bears</td>\n",
       "      <td>3.7</td>\n",
       "      <td>26.471791</td>\n",
       "      <td>20.363373</td>\n",
       "      <td>16.529400</td>\n",
       "      <td>20.0</td>\n",
       "      <td>20.423419</td>\n",
       "    </tr>\n",
       "    <tr>\n",
       "      <th>5</th>\n",
       "      <td>2020</td>\n",
       "      <td>9</td>\n",
       "      <td>TEN</td>\n",
       "      <td>9</td>\n",
       "      <td>Sun</td>\n",
       "      <td>8-Nov</td>\n",
       "      <td>1:00:00 PM</td>\n",
       "      <td>1</td>\n",
       "      <td>Tennessee Titans</td>\n",
       "      <td>Chicago Bears</td>\n",
       "      <td>...</td>\n",
       "      <td>0</td>\n",
       "      <td>Regular Season</td>\n",
       "      <td>2020</td>\n",
       "      <td>Chicago Bears</td>\n",
       "      <td>3.7</td>\n",
       "      <td>23.725884</td>\n",
       "      <td>21.162874</td>\n",
       "      <td>17.175795</td>\n",
       "      <td>10.0</td>\n",
       "      <td>17.833577</td>\n",
       "    </tr>\n",
       "    <tr>\n",
       "      <th>6</th>\n",
       "      <td>2020</td>\n",
       "      <td>9</td>\n",
       "      <td>CHI</td>\n",
       "      <td>9</td>\n",
       "      <td>Sun</td>\n",
       "      <td>8-Nov</td>\n",
       "      <td>1:00:00 PM</td>\n",
       "      <td>0</td>\n",
       "      <td>Chicago Bears</td>\n",
       "      <td>Tennessee Titans</td>\n",
       "      <td>...</td>\n",
       "      <td>0</td>\n",
       "      <td>Regular Season</td>\n",
       "      <td>2020</td>\n",
       "      <td>Tennessee Titans</td>\n",
       "      <td>-2.2</td>\n",
       "      <td>21.426985</td>\n",
       "      <td>20.831442</td>\n",
       "      <td>16.703918</td>\n",
       "      <td>17.0</td>\n",
       "      <td>14.266240</td>\n",
       "    </tr>\n",
       "    <tr>\n",
       "      <th>7</th>\n",
       "      <td>2020</td>\n",
       "      <td>1</td>\n",
       "      <td>DEN</td>\n",
       "      <td>9</td>\n",
       "      <td>Mon</td>\n",
       "      <td>14-Sep</td>\n",
       "      <td>10:10:00 PM</td>\n",
       "      <td>1</td>\n",
       "      <td>Denver Broncos</td>\n",
       "      <td>Tennessee Titans</td>\n",
       "      <td>...</td>\n",
       "      <td>0</td>\n",
       "      <td>Regular Season</td>\n",
       "      <td>2020</td>\n",
       "      <td>Tennessee Titans</td>\n",
       "      <td>-2.2</td>\n",
       "      <td>21.043835</td>\n",
       "      <td>20.436777</td>\n",
       "      <td>26.102005</td>\n",
       "      <td>27.0</td>\n",
       "      <td>19.257512</td>\n",
       "    </tr>\n",
       "    <tr>\n",
       "      <th>8</th>\n",
       "      <td>2020</td>\n",
       "      <td>2</td>\n",
       "      <td>JAX</td>\n",
       "      <td>9</td>\n",
       "      <td>Sun</td>\n",
       "      <td>20-Sep</td>\n",
       "      <td>1:00:00 PM</td>\n",
       "      <td>0</td>\n",
       "      <td>Jacksonville Jaguars</td>\n",
       "      <td>Tennessee Titans</td>\n",
       "      <td>...</td>\n",
       "      <td>0</td>\n",
       "      <td>Regular Season</td>\n",
       "      <td>2020</td>\n",
       "      <td>Tennessee Titans</td>\n",
       "      <td>-2.2</td>\n",
       "      <td>17.148478</td>\n",
       "      <td>20.564305</td>\n",
       "      <td>24.180355</td>\n",
       "      <td>27.0</td>\n",
       "      <td>29.469500</td>\n",
       "    </tr>\n",
       "    <tr>\n",
       "      <th>9</th>\n",
       "      <td>2020</td>\n",
       "      <td>3</td>\n",
       "      <td>MIN</td>\n",
       "      <td>9</td>\n",
       "      <td>Sun</td>\n",
       "      <td>27-Sep</td>\n",
       "      <td>1:00:00 PM</td>\n",
       "      <td>1</td>\n",
       "      <td>Minnesota Vikings</td>\n",
       "      <td>Tennessee Titans</td>\n",
       "      <td>...</td>\n",
       "      <td>0</td>\n",
       "      <td>Regular Season</td>\n",
       "      <td>2020</td>\n",
       "      <td>Tennessee Titans</td>\n",
       "      <td>-2.2</td>\n",
       "      <td>23.981317</td>\n",
       "      <td>26.282363</td>\n",
       "      <td>30.258027</td>\n",
       "      <td>31.0</td>\n",
       "      <td>26.127306</td>\n",
       "    </tr>\n",
       "    <tr>\n",
       "      <th>10</th>\n",
       "      <td>2020</td>\n",
       "      <td>5</td>\n",
       "      <td>BUF</td>\n",
       "      <td>9</td>\n",
       "      <td>Tue</td>\n",
       "      <td>13-Oct</td>\n",
       "      <td>7:00:00 PM</td>\n",
       "      <td>0</td>\n",
       "      <td>Buffalo Bills</td>\n",
       "      <td>Tennessee Titans</td>\n",
       "      <td>...</td>\n",
       "      <td>0</td>\n",
       "      <td>Regular Season</td>\n",
       "      <td>2020</td>\n",
       "      <td>Tennessee Titans</td>\n",
       "      <td>-2.2</td>\n",
       "      <td>23.981317</td>\n",
       "      <td>27.360157</td>\n",
       "      <td>26.404737</td>\n",
       "      <td>27.0</td>\n",
       "      <td>22.413754</td>\n",
       "    </tr>\n",
       "    <tr>\n",
       "      <th>11</th>\n",
       "      <td>2020</td>\n",
       "      <td>6</td>\n",
       "      <td>HOU</td>\n",
       "      <td>9</td>\n",
       "      <td>Sun</td>\n",
       "      <td>18-Oct</td>\n",
       "      <td>1:00:00 PM</td>\n",
       "      <td>0</td>\n",
       "      <td>Houston Texans</td>\n",
       "      <td>Tennessee Titans</td>\n",
       "      <td>...</td>\n",
       "      <td>0</td>\n",
       "      <td>Regular Season</td>\n",
       "      <td>2020</td>\n",
       "      <td>Tennessee Titans</td>\n",
       "      <td>-2.2</td>\n",
       "      <td>21.235410</td>\n",
       "      <td>25.133392</td>\n",
       "      <td>37.996778</td>\n",
       "      <td>20.0</td>\n",
       "      <td>37.815281</td>\n",
       "    </tr>\n",
       "    <tr>\n",
       "      <th>12</th>\n",
       "      <td>2020</td>\n",
       "      <td>7</td>\n",
       "      <td>PIT</td>\n",
       "      <td>9</td>\n",
       "      <td>Sun</td>\n",
       "      <td>25-Oct</td>\n",
       "      <td>1:00:00 PM</td>\n",
       "      <td>0</td>\n",
       "      <td>Pittsburgh Steelers</td>\n",
       "      <td>Tennessee Titans</td>\n",
       "      <td>...</td>\n",
       "      <td>0</td>\n",
       "      <td>Regular Season</td>\n",
       "      <td>2020</td>\n",
       "      <td>Tennessee Titans</td>\n",
       "      <td>-2.2</td>\n",
       "      <td>25.705492</td>\n",
       "      <td>26.399978</td>\n",
       "      <td>23.234262</td>\n",
       "      <td>24.0</td>\n",
       "      <td>27.429847</td>\n",
       "    </tr>\n",
       "    <tr>\n",
       "      <th>13</th>\n",
       "      <td>2020</td>\n",
       "      <td>8</td>\n",
       "      <td>CIN</td>\n",
       "      <td>9</td>\n",
       "      <td>Sun</td>\n",
       "      <td>1-Nov</td>\n",
       "      <td>1:00:00 PM</td>\n",
       "      <td>1</td>\n",
       "      <td>Cincinnati Bengals</td>\n",
       "      <td>Tennessee Titans</td>\n",
       "      <td>...</td>\n",
       "      <td>0</td>\n",
       "      <td>Regular Season</td>\n",
       "      <td>2020</td>\n",
       "      <td>Tennessee Titans</td>\n",
       "      <td>-2.2</td>\n",
       "      <td>20.469110</td>\n",
       "      <td>24.235279</td>\n",
       "      <td>27.039428</td>\n",
       "      <td>27.0</td>\n",
       "      <td>33.076023</td>\n",
       "    </tr>\n",
       "    <tr>\n",
       "      <th>14</th>\n",
       "      <td>2020</td>\n",
       "      <td>3</td>\n",
       "      <td>DEN</td>\n",
       "      <td>9</td>\n",
       "      <td>Sun</td>\n",
       "      <td>27-Sep</td>\n",
       "      <td>4:25:00 PM</td>\n",
       "      <td>1</td>\n",
       "      <td>Denver Broncos</td>\n",
       "      <td>Tampa Bay Buccaneers</td>\n",
       "      <td>...</td>\n",
       "      <td>0</td>\n",
       "      <td>Regular Season</td>\n",
       "      <td>2020</td>\n",
       "      <td>Tampa Bay Buccaneers</td>\n",
       "      <td>5.1</td>\n",
       "      <td>21.043835</td>\n",
       "      <td>13.093390</td>\n",
       "      <td>22.401021</td>\n",
       "      <td>27.0</td>\n",
       "      <td>12.385897</td>\n",
       "    </tr>\n",
       "    <tr>\n",
       "      <th>15</th>\n",
       "      <td>2020</td>\n",
       "      <td>2</td>\n",
       "      <td>CAR</td>\n",
       "      <td>9</td>\n",
       "      <td>Sun</td>\n",
       "      <td>20-Sep</td>\n",
       "      <td>1:00:00 PM</td>\n",
       "      <td>0</td>\n",
       "      <td>Carolina Panthers</td>\n",
       "      <td>Tampa Bay Buccaneers</td>\n",
       "      <td>...</td>\n",
       "      <td>0</td>\n",
       "      <td>Regular Season</td>\n",
       "      <td>2020</td>\n",
       "      <td>Tampa Bay Buccaneers</td>\n",
       "      <td>5.1</td>\n",
       "      <td>22.384859</td>\n",
       "      <td>17.519666</td>\n",
       "      <td>18.740749</td>\n",
       "      <td>20.0</td>\n",
       "      <td>16.846195</td>\n",
       "    </tr>\n",
       "    <tr>\n",
       "      <th>16</th>\n",
       "      <td>2020</td>\n",
       "      <td>6</td>\n",
       "      <td>GB</td>\n",
       "      <td>9</td>\n",
       "      <td>Sun</td>\n",
       "      <td>18-Oct</td>\n",
       "      <td>4:25:00 PM</td>\n",
       "      <td>0</td>\n",
       "      <td>Green Bay Packers</td>\n",
       "      <td>Tampa Bay Buccaneers</td>\n",
       "      <td>...</td>\n",
       "      <td>0</td>\n",
       "      <td>Regular Season</td>\n",
       "      <td>2020</td>\n",
       "      <td>Tampa Bay Buccaneers</td>\n",
       "      <td>5.1</td>\n",
       "      <td>25.769350</td>\n",
       "      <td>22.872924</td>\n",
       "      <td>24.043938</td>\n",
       "      <td>24.0</td>\n",
       "      <td>10.867917</td>\n",
       "    </tr>\n",
       "    <tr>\n",
       "      <th>17</th>\n",
       "      <td>2020</td>\n",
       "      <td>8</td>\n",
       "      <td>NYG</td>\n",
       "      <td>9</td>\n",
       "      <td>Mon</td>\n",
       "      <td>2-Nov</td>\n",
       "      <td>8:15:00 PM</td>\n",
       "      <td>1</td>\n",
       "      <td>New York Giants</td>\n",
       "      <td>Tampa Bay Buccaneers</td>\n",
       "      <td>...</td>\n",
       "      <td>0</td>\n",
       "      <td>Regular Season</td>\n",
       "      <td>2020</td>\n",
       "      <td>Tampa Bay Buccaneers</td>\n",
       "      <td>5.1</td>\n",
       "      <td>19.319661</td>\n",
       "      <td>14.910209</td>\n",
       "      <td>20.480000</td>\n",
       "      <td>20.0</td>\n",
       "      <td>21.640928</td>\n",
       "    </tr>\n",
       "    <tr>\n",
       "      <th>18</th>\n",
       "      <td>2020</td>\n",
       "      <td>1</td>\n",
       "      <td>NO</td>\n",
       "      <td>9</td>\n",
       "      <td>Sun</td>\n",
       "      <td>13-Sep</td>\n",
       "      <td>4:25:00 PM</td>\n",
       "      <td>1</td>\n",
       "      <td>New Orleans Saints</td>\n",
       "      <td>Tampa Bay Buccaneers</td>\n",
       "      <td>...</td>\n",
       "      <td>0</td>\n",
       "      <td>Regular Season</td>\n",
       "      <td>2020</td>\n",
       "      <td>Tampa Bay Buccaneers</td>\n",
       "      <td>5.1</td>\n",
       "      <td>26.280216</td>\n",
       "      <td>22.073617</td>\n",
       "      <td>20.720770</td>\n",
       "      <td>20.0</td>\n",
       "      <td>18.269458</td>\n",
       "    </tr>\n",
       "    <tr>\n",
       "      <th>19</th>\n",
       "      <td>2020</td>\n",
       "      <td>9</td>\n",
       "      <td>NO</td>\n",
       "      <td>9</td>\n",
       "      <td>Sun</td>\n",
       "      <td>8-Nov</td>\n",
       "      <td>8:20:00 PM</td>\n",
       "      <td>0</td>\n",
       "      <td>New Orleans Saints</td>\n",
       "      <td>Tampa Bay Buccaneers</td>\n",
       "      <td>...</td>\n",
       "      <td>0</td>\n",
       "      <td>Regular Season</td>\n",
       "      <td>2020</td>\n",
       "      <td>Tampa Bay Buccaneers</td>\n",
       "      <td>5.1</td>\n",
       "      <td>26.280216</td>\n",
       "      <td>22.073617</td>\n",
       "      <td>26.674057</td>\n",
       "      <td>24.0</td>\n",
       "      <td>32.531874</td>\n",
       "    </tr>\n",
       "    <tr>\n",
       "      <th>20</th>\n",
       "      <td>2020</td>\n",
       "      <td>5</td>\n",
       "      <td>CHI</td>\n",
       "      <td>9</td>\n",
       "      <td>Thu</td>\n",
       "      <td>8-Oct</td>\n",
       "      <td>8:20:00 PM</td>\n",
       "      <td>1</td>\n",
       "      <td>Chicago Bears</td>\n",
       "      <td>Tampa Bay Buccaneers</td>\n",
       "      <td>...</td>\n",
       "      <td>0</td>\n",
       "      <td>Regular Season</td>\n",
       "      <td>2020</td>\n",
       "      <td>Tampa Bay Buccaneers</td>\n",
       "      <td>5.1</td>\n",
       "      <td>21.426985</td>\n",
       "      <td>13.488055</td>\n",
       "      <td>13.689245</td>\n",
       "      <td>17.0</td>\n",
       "      <td>16.966028</td>\n",
       "    </tr>\n",
       "    <tr>\n",
       "      <th>21</th>\n",
       "      <td>2020</td>\n",
       "      <td>1</td>\n",
       "      <td>TEN</td>\n",
       "      <td>9</td>\n",
       "      <td>Mon</td>\n",
       "      <td>14-Sep</td>\n",
       "      <td>10:10:00 PM</td>\n",
       "      <td>0</td>\n",
       "      <td>Tennessee Titans</td>\n",
       "      <td>Denver Broncos</td>\n",
       "      <td>...</td>\n",
       "      <td>0</td>\n",
       "      <td>Regular Season</td>\n",
       "      <td>2020</td>\n",
       "      <td>Denver Broncos</td>\n",
       "      <td>3.4</td>\n",
       "      <td>23.725884</td>\n",
       "      <td>21.464657</td>\n",
       "      <td>26.877200</td>\n",
       "      <td>27.0</td>\n",
       "      <td>27.579014</td>\n",
       "    </tr>\n",
       "    <tr>\n",
       "      <th>22</th>\n",
       "      <td>2020</td>\n",
       "      <td>3</td>\n",
       "      <td>TB</td>\n",
       "      <td>9</td>\n",
       "      <td>Sun</td>\n",
       "      <td>27-Sep</td>\n",
       "      <td>4:25:00 PM</td>\n",
       "      <td>0</td>\n",
       "      <td>Tampa Bay Buccaneers</td>\n",
       "      <td>Denver Broncos</td>\n",
       "      <td>...</td>\n",
       "      <td>0</td>\n",
       "      <td>Regular Season</td>\n",
       "      <td>2020</td>\n",
       "      <td>Denver Broncos</td>\n",
       "      <td>3.4</td>\n",
       "      <td>26.471791</td>\n",
       "      <td>20.665156</td>\n",
       "      <td>25.544493</td>\n",
       "      <td>24.0</td>\n",
       "      <td>26.685103</td>\n",
       "    </tr>\n",
       "    <tr>\n",
       "      <th>23</th>\n",
       "      <td>2020</td>\n",
       "      <td>2</td>\n",
       "      <td>TEN</td>\n",
       "      <td>9</td>\n",
       "      <td>Sun</td>\n",
       "      <td>20-Sep</td>\n",
       "      <td>1:00:00 PM</td>\n",
       "      <td>1</td>\n",
       "      <td>Tennessee Titans</td>\n",
       "      <td>Jacksonville Jaguars</td>\n",
       "      <td>...</td>\n",
       "      <td>0</td>\n",
       "      <td>Regular Season</td>\n",
       "      <td>2020</td>\n",
       "      <td>Jacksonville Jaguars</td>\n",
       "      <td>-4.5</td>\n",
       "      <td>23.725884</td>\n",
       "      <td>29.411610</td>\n",
       "      <td>27.722839</td>\n",
       "      <td>27.0</td>\n",
       "      <td>34.466350</td>\n",
       "    </tr>\n",
       "    <tr>\n",
       "      <th>24</th>\n",
       "      <td>2020</td>\n",
       "      <td>3</td>\n",
       "      <td>TEN</td>\n",
       "      <td>9</td>\n",
       "      <td>Sun</td>\n",
       "      <td>27-Sep</td>\n",
       "      <td>1:00:00 PM</td>\n",
       "      <td>0</td>\n",
       "      <td>Tennessee Titans</td>\n",
       "      <td>Minnesota Vikings</td>\n",
       "      <td>...</td>\n",
       "      <td>0</td>\n",
       "      <td>Regular Season</td>\n",
       "      <td>2020</td>\n",
       "      <td>Minnesota Vikings</td>\n",
       "      <td>0.0</td>\n",
       "      <td>23.725884</td>\n",
       "      <td>24.884865</td>\n",
       "      <td>30.372547</td>\n",
       "      <td>31.0</td>\n",
       "      <td>23.569010</td>\n",
       "    </tr>\n",
       "    <tr>\n",
       "      <th>25</th>\n",
       "      <td>2020</td>\n",
       "      <td>5</td>\n",
       "      <td>TEN</td>\n",
       "      <td>9</td>\n",
       "      <td>Tue</td>\n",
       "      <td>13-Oct</td>\n",
       "      <td>7:00:00 PM</td>\n",
       "      <td>1</td>\n",
       "      <td>Tennessee Titans</td>\n",
       "      <td>Buffalo Bills</td>\n",
       "      <td>...</td>\n",
       "      <td>0</td>\n",
       "      <td>Regular Season</td>\n",
       "      <td>2020</td>\n",
       "      <td>Buffalo Bills</td>\n",
       "      <td>-0.2</td>\n",
       "      <td>23.725884</td>\n",
       "      <td>25.086053</td>\n",
       "      <td>25.164547</td>\n",
       "      <td>27.0</td>\n",
       "      <td>33.156365</td>\n",
       "    </tr>\n",
       "    <tr>\n",
       "      <th>26</th>\n",
       "      <td>2020</td>\n",
       "      <td>6</td>\n",
       "      <td>TEN</td>\n",
       "      <td>9</td>\n",
       "      <td>Sun</td>\n",
       "      <td>18-Oct</td>\n",
       "      <td>1:00:00 PM</td>\n",
       "      <td>1</td>\n",
       "      <td>Tennessee Titans</td>\n",
       "      <td>Houston Texans</td>\n",
       "      <td>...</td>\n",
       "      <td>0</td>\n",
       "      <td>Regular Season</td>\n",
       "      <td>2020</td>\n",
       "      <td>Houston Texans</td>\n",
       "      <td>-4.1</td>\n",
       "      <td>23.725884</td>\n",
       "      <td>29.009233</td>\n",
       "      <td>40.267880</td>\n",
       "      <td>27.0</td>\n",
       "      <td>41.811288</td>\n",
       "    </tr>\n",
       "    <tr>\n",
       "      <th>27</th>\n",
       "      <td>2020</td>\n",
       "      <td>2</td>\n",
       "      <td>TB</td>\n",
       "      <td>9</td>\n",
       "      <td>Sun</td>\n",
       "      <td>20-Sep</td>\n",
       "      <td>1:00:00 PM</td>\n",
       "      <td>1</td>\n",
       "      <td>Tampa Bay Buccaneers</td>\n",
       "      <td>Carolina Panthers</td>\n",
       "      <td>...</td>\n",
       "      <td>0</td>\n",
       "      <td>Regular Season</td>\n",
       "      <td>2020</td>\n",
       "      <td>Carolina Panthers</td>\n",
       "      <td>-0.9</td>\n",
       "      <td>26.471791</td>\n",
       "      <td>24.990713</td>\n",
       "      <td>22.249573</td>\n",
       "      <td>20.0</td>\n",
       "      <td>25.176297</td>\n",
       "    </tr>\n",
       "    <tr>\n",
       "      <th>28</th>\n",
       "      <td>2020</td>\n",
       "      <td>6</td>\n",
       "      <td>TB</td>\n",
       "      <td>9</td>\n",
       "      <td>Sun</td>\n",
       "      <td>18-Oct</td>\n",
       "      <td>4:25:00 PM</td>\n",
       "      <td>1</td>\n",
       "      <td>Tampa Bay Buccaneers</td>\n",
       "      <td>Green Bay Packers</td>\n",
       "      <td>...</td>\n",
       "      <td>0</td>\n",
       "      <td>Regular Season</td>\n",
       "      <td>2020</td>\n",
       "      <td>Green Bay Packers</td>\n",
       "      <td>-1.4</td>\n",
       "      <td>26.471791</td>\n",
       "      <td>25.493685</td>\n",
       "      <td>25.088920</td>\n",
       "      <td>20.0</td>\n",
       "      <td>29.897627</td>\n",
       "    </tr>\n",
       "    <tr>\n",
       "      <th>29</th>\n",
       "      <td>2020</td>\n",
       "      <td>8</td>\n",
       "      <td>TB</td>\n",
       "      <td>9</td>\n",
       "      <td>Mon</td>\n",
       "      <td>2-Nov</td>\n",
       "      <td>8:15:00 PM</td>\n",
       "      <td>0</td>\n",
       "      <td>Tampa Bay Buccaneers</td>\n",
       "      <td>New York Giants</td>\n",
       "      <td>...</td>\n",
       "      <td>0</td>\n",
       "      <td>Regular Season</td>\n",
       "      <td>2020</td>\n",
       "      <td>New York Giants</td>\n",
       "      <td>-1.9</td>\n",
       "      <td>26.471791</td>\n",
       "      <td>25.996656</td>\n",
       "      <td>24.696858</td>\n",
       "      <td>20.0</td>\n",
       "      <td>25.662360</td>\n",
       "    </tr>\n",
       "  </tbody>\n",
       "</table>\n",
       "<p>30 rows × 81 columns</p>\n",
       "</div>"
      ],
      "text/plain": [
       "    Year Week_x Abbr_RDBMS_Winner  Week2  Day    Date         Time  Home_Team  \\\n",
       "0   2020      7               TEN      9  Sun  25-Oct   1:00:00 PM          1   \n",
       "1   2020      8               TEN      9  Sun   1-Nov   1:00:00 PM          0   \n",
       "2   2020      1                TB      9  Sun  13-Sep   4:25:00 PM          0   \n",
       "3   2020      9                TB      9  Sun   8-Nov   8:20:00 PM          1   \n",
       "4   2020      5                TB      9  Thu   8-Oct   8:20:00 PM          0   \n",
       "5   2020      9               TEN      9  Sun   8-Nov   1:00:00 PM          1   \n",
       "6   2020      9               CHI      9  Sun   8-Nov   1:00:00 PM          0   \n",
       "7   2020      1               DEN      9  Mon  14-Sep  10:10:00 PM          1   \n",
       "8   2020      2               JAX      9  Sun  20-Sep   1:00:00 PM          0   \n",
       "9   2020      3               MIN      9  Sun  27-Sep   1:00:00 PM          1   \n",
       "10  2020      5               BUF      9  Tue  13-Oct   7:00:00 PM          0   \n",
       "11  2020      6               HOU      9  Sun  18-Oct   1:00:00 PM          0   \n",
       "12  2020      7               PIT      9  Sun  25-Oct   1:00:00 PM          0   \n",
       "13  2020      8               CIN      9  Sun   1-Nov   1:00:00 PM          1   \n",
       "14  2020      3               DEN      9  Sun  27-Sep   4:25:00 PM          1   \n",
       "15  2020      2               CAR      9  Sun  20-Sep   1:00:00 PM          0   \n",
       "16  2020      6                GB      9  Sun  18-Oct   4:25:00 PM          0   \n",
       "17  2020      8               NYG      9  Mon   2-Nov   8:15:00 PM          1   \n",
       "18  2020      1                NO      9  Sun  13-Sep   4:25:00 PM          1   \n",
       "19  2020      9                NO      9  Sun   8-Nov   8:20:00 PM          0   \n",
       "20  2020      5               CHI      9  Thu   8-Oct   8:20:00 PM          1   \n",
       "21  2020      1               TEN      9  Mon  14-Sep  10:10:00 PM          0   \n",
       "22  2020      3                TB      9  Sun  27-Sep   4:25:00 PM          0   \n",
       "23  2020      2               TEN      9  Sun  20-Sep   1:00:00 PM          1   \n",
       "24  2020      3               TEN      9  Sun  27-Sep   1:00:00 PM          0   \n",
       "25  2020      5               TEN      9  Tue  13-Oct   7:00:00 PM          1   \n",
       "26  2020      6               TEN      9  Sun  18-Oct   1:00:00 PM          1   \n",
       "27  2020      2                TB      9  Sun  20-Sep   1:00:00 PM          1   \n",
       "28  2020      6                TB      9  Sun  18-Oct   4:25:00 PM          1   \n",
       "29  2020      8                TB      9  Mon   2-Nov   8:15:00 PM          0   \n",
       "\n",
       "         FINAL_TEAM_NAME              Opponent  ...  PLAYOFFS_BINARY  \\\n",
       "0       Tennessee Titans   Pittsburgh Steelers  ...                0   \n",
       "1       Tennessee Titans    Cincinnati Bengals  ...                0   \n",
       "2   Tampa Bay Buccaneers    New Orleans Saints  ...                0   \n",
       "3   Tampa Bay Buccaneers    New Orleans Saints  ...                0   \n",
       "4   Tampa Bay Buccaneers         Chicago Bears  ...                0   \n",
       "5       Tennessee Titans         Chicago Bears  ...                0   \n",
       "6          Chicago Bears      Tennessee Titans  ...                0   \n",
       "7         Denver Broncos      Tennessee Titans  ...                0   \n",
       "8   Jacksonville Jaguars      Tennessee Titans  ...                0   \n",
       "9      Minnesota Vikings      Tennessee Titans  ...                0   \n",
       "10         Buffalo Bills      Tennessee Titans  ...                0   \n",
       "11        Houston Texans      Tennessee Titans  ...                0   \n",
       "12   Pittsburgh Steelers      Tennessee Titans  ...                0   \n",
       "13    Cincinnati Bengals      Tennessee Titans  ...                0   \n",
       "14        Denver Broncos  Tampa Bay Buccaneers  ...                0   \n",
       "15     Carolina Panthers  Tampa Bay Buccaneers  ...                0   \n",
       "16     Green Bay Packers  Tampa Bay Buccaneers  ...                0   \n",
       "17       New York Giants  Tampa Bay Buccaneers  ...                0   \n",
       "18    New Orleans Saints  Tampa Bay Buccaneers  ...                0   \n",
       "19    New Orleans Saints  Tampa Bay Buccaneers  ...                0   \n",
       "20         Chicago Bears  Tampa Bay Buccaneers  ...                0   \n",
       "21      Tennessee Titans        Denver Broncos  ...                0   \n",
       "22  Tampa Bay Buccaneers        Denver Broncos  ...                0   \n",
       "23      Tennessee Titans  Jacksonville Jaguars  ...                0   \n",
       "24      Tennessee Titans     Minnesota Vikings  ...                0   \n",
       "25      Tennessee Titans         Buffalo Bills  ...                0   \n",
       "26      Tennessee Titans        Houston Texans  ...                0   \n",
       "27  Tampa Bay Buccaneers     Carolina Panthers  ...                0   \n",
       "28  Tampa Bay Buccaneers     Green Bay Packers  ...                0   \n",
       "29  Tampa Bay Buccaneers       New York Giants  ...                0   \n",
       "\n",
       "         GAME_TYPE  Year                   TEAM  Power Index DEF_Opp  \\\n",
       "0   Regular Season   2020   Pittsburgh Steelers                  4.3   \n",
       "1   Regular Season   2020    Cincinnati Bengals                 -2.9   \n",
       "2   Regular Season   2020    New Orleans Saints                 -0.2   \n",
       "3   Regular Season   2020    New Orleans Saints                 -0.2   \n",
       "4   Regular Season   2020         Chicago Bears                  3.7   \n",
       "5   Regular Season   2020         Chicago Bears                  3.7   \n",
       "6   Regular Season   2020      Tennessee Titans                 -2.2   \n",
       "7   Regular Season   2020      Tennessee Titans                 -2.2   \n",
       "8   Regular Season   2020      Tennessee Titans                 -2.2   \n",
       "9   Regular Season   2020      Tennessee Titans                 -2.2   \n",
       "10  Regular Season   2020      Tennessee Titans                 -2.2   \n",
       "11  Regular Season   2020      Tennessee Titans                 -2.2   \n",
       "12  Regular Season   2020      Tennessee Titans                 -2.2   \n",
       "13  Regular Season   2020      Tennessee Titans                 -2.2   \n",
       "14  Regular Season   2020  Tampa Bay Buccaneers                  5.1   \n",
       "15  Regular Season   2020  Tampa Bay Buccaneers                  5.1   \n",
       "16  Regular Season   2020  Tampa Bay Buccaneers                  5.1   \n",
       "17  Regular Season   2020  Tampa Bay Buccaneers                  5.1   \n",
       "18  Regular Season   2020  Tampa Bay Buccaneers                  5.1   \n",
       "19  Regular Season   2020  Tampa Bay Buccaneers                  5.1   \n",
       "20  Regular Season   2020  Tampa Bay Buccaneers                  5.1   \n",
       "21  Regular Season   2020        Denver Broncos                  3.4   \n",
       "22  Regular Season   2020        Denver Broncos                  3.4   \n",
       "23  Regular Season   2020  Jacksonville Jaguars                 -4.5   \n",
       "24  Regular Season   2020     Minnesota Vikings                  0.0   \n",
       "25  Regular Season   2020         Buffalo Bills                 -0.2   \n",
       "26  Regular Season   2020        Houston Texans                 -4.1   \n",
       "27  Regular Season   2020     Carolina Panthers                 -0.9   \n",
       "28  Regular Season   2020     Green Bay Packers                 -1.4   \n",
       "29  Regular Season   2020       New York Giants                 -1.9   \n",
       "\n",
       "    Model1_Prediction  Model2_Prediction  Model3_Prediction  \\\n",
       "0           23.725884          20.559308          20.154583   \n",
       "1           23.725884          27.802101          28.089752   \n",
       "2           26.471791          24.286553          21.315701   \n",
       "3           26.471791          24.286553          27.268988   \n",
       "4           26.471791          20.363373          16.529400   \n",
       "5           23.725884          21.162874          17.175795   \n",
       "6           21.426985          20.831442          16.703918   \n",
       "7           21.043835          20.436777          26.102005   \n",
       "8           17.148478          20.564305          24.180355   \n",
       "9           23.981317          26.282363          30.258027   \n",
       "10          23.981317          27.360157          26.404737   \n",
       "11          21.235410          25.133392          37.996778   \n",
       "12          25.705492          26.399978          23.234262   \n",
       "13          20.469110          24.235279          27.039428   \n",
       "14          21.043835          13.093390          22.401021   \n",
       "15          22.384859          17.519666          18.740749   \n",
       "16          25.769350          22.872924          24.043938   \n",
       "17          19.319661          14.910209          20.480000   \n",
       "18          26.280216          22.073617          20.720770   \n",
       "19          26.280216          22.073617          26.674057   \n",
       "20          21.426985          13.488055          13.689245   \n",
       "21          23.725884          21.464657          26.877200   \n",
       "22          26.471791          20.665156          25.544493   \n",
       "23          23.725884          29.411610          27.722839   \n",
       "24          23.725884          24.884865          30.372547   \n",
       "25          23.725884          25.086053          25.164547   \n",
       "26          23.725884          29.009233          40.267880   \n",
       "27          26.471791          24.990713          22.249573   \n",
       "28          26.471791          25.493685          25.088920   \n",
       "29          26.471791          25.996656          24.696858   \n",
       "\n",
       "    Model4_Prediction  Model5_Prediction  \n",
       "0                24.0          26.024176  \n",
       "1                27.0          28.128450  \n",
       "2                20.0          19.747656  \n",
       "3                24.0           7.474485  \n",
       "4                20.0          20.423419  \n",
       "5                10.0          17.833577  \n",
       "6                17.0          14.266240  \n",
       "7                27.0          19.257512  \n",
       "8                27.0          29.469500  \n",
       "9                31.0          26.127306  \n",
       "10               27.0          22.413754  \n",
       "11               20.0          37.815281  \n",
       "12               24.0          27.429847  \n",
       "13               27.0          33.076023  \n",
       "14               27.0          12.385897  \n",
       "15               20.0          16.846195  \n",
       "16               24.0          10.867917  \n",
       "17               20.0          21.640928  \n",
       "18               20.0          18.269458  \n",
       "19               24.0          32.531874  \n",
       "20               17.0          16.966028  \n",
       "21               27.0          27.579014  \n",
       "22               24.0          26.685103  \n",
       "23               27.0          34.466350  \n",
       "24               31.0          23.569010  \n",
       "25               27.0          33.156365  \n",
       "26               27.0          41.811288  \n",
       "27               20.0          25.176297  \n",
       "28               20.0          29.897627  \n",
       "29               20.0          25.662360  \n",
       "\n",
       "[30 rows x 81 columns]"
      ]
     },
     "execution_count": 616,
     "metadata": {},
     "output_type": "execute_result"
    }
   ],
   "source": [
    "missing_ones"
   ]
  },
  {
   "cell_type": "code",
   "execution_count": 579,
   "metadata": {},
   "outputs": [],
   "source": [
    "stats2 = pd.read_csv(\"perfectlyCleanedData4.csv\")"
   ]
  },
  {
   "cell_type": "code",
   "execution_count": 577,
   "metadata": {},
   "outputs": [],
   "source": [
    "stats2=stats2.loc[:, [\"Year\", 'TEAM_POINTS', 'Power Index FPI', 'Power Index OFF', 'Power Index ST', 'Ranks SOS', 'Ranks AVGWP', 'TEAM_TURNOVERS', 'TEAM_YARDS', 'EPA/play_RDBMS_Winner', 'OVR_SUCCESS_RATE_RDBMS_Winner', 'Dropback EPA_RDBMS_Winner','DROPBACK_SR_RDBMS_Winner', 'Rush EPA_RDBMS_Winner', 'RUN_SR_RDBMS_Winner']]"
   ]
  },
  {
   "cell_type": "code",
   "execution_count": 517,
   "metadata": {},
   "outputs": [],
   "source": [
    "fpi = pd.read_csv(\"../2015-2020_FPI.csv\")"
   ]
  },
  {
   "cell_type": "code",
   "execution_count": 518,
   "metadata": {},
   "outputs": [
    {
     "data": {
      "text/html": [
       "<div>\n",
       "<style scoped>\n",
       "    .dataframe tbody tr th:only-of-type {\n",
       "        vertical-align: middle;\n",
       "    }\n",
       "\n",
       "    .dataframe tbody tr th {\n",
       "        vertical-align: top;\n",
       "    }\n",
       "\n",
       "    .dataframe thead th {\n",
       "        text-align: right;\n",
       "    }\n",
       "</style>\n",
       "<table border=\"1\" class=\"dataframe\">\n",
       "  <thead>\n",
       "    <tr style=\"text-align: right;\">\n",
       "      <th></th>\n",
       "      <th>TEAM</th>\n",
       "      <th>Year</th>\n",
       "      <th>W-L-T</th>\n",
       "      <th>Power Index FPI</th>\n",
       "      <th>Power Index RK</th>\n",
       "      <th>Power Index TREND</th>\n",
       "      <th>Power Index OFF</th>\n",
       "      <th>Power Index DEF</th>\n",
       "      <th>Power Index ST</th>\n",
       "      <th>Ranks SOS</th>\n",
       "      <th>Ranks REM SOS</th>\n",
       "      <th>Ranks AVGWP</th>\n",
       "    </tr>\n",
       "  </thead>\n",
       "  <tbody>\n",
       "    <tr>\n",
       "      <th>0</th>\n",
       "      <td>Seattle Seahawks</td>\n",
       "      <td>2015</td>\n",
       "      <td>11/7/2000</td>\n",
       "      <td>8.8</td>\n",
       "      <td>1</td>\n",
       "      <td>--</td>\n",
       "      <td>6.0</td>\n",
       "      <td>3.0</td>\n",
       "      <td>-0.3</td>\n",
       "      <td>6</td>\n",
       "      <td>--</td>\n",
       "      <td>6</td>\n",
       "    </tr>\n",
       "    <tr>\n",
       "      <th>1</th>\n",
       "      <td>Arizona Cardinals</td>\n",
       "      <td>2015</td>\n",
       "      <td>14-4-0</td>\n",
       "      <td>8.3</td>\n",
       "      <td>2</td>\n",
       "      <td>--</td>\n",
       "      <td>6.0</td>\n",
       "      <td>2.6</td>\n",
       "      <td>-0.4</td>\n",
       "      <td>17</td>\n",
       "      <td>--</td>\n",
       "      <td>3</td>\n",
       "    </tr>\n",
       "    <tr>\n",
       "      <th>2</th>\n",
       "      <td>Carolina Panthers</td>\n",
       "      <td>2015</td>\n",
       "      <td>17-2-0</td>\n",
       "      <td>7.9</td>\n",
       "      <td>3</td>\n",
       "      <td>--</td>\n",
       "      <td>3.5</td>\n",
       "      <td>4.8</td>\n",
       "      <td>-0.4</td>\n",
       "      <td>28</td>\n",
       "      <td>--</td>\n",
       "      <td>1</td>\n",
       "    </tr>\n",
       "    <tr>\n",
       "      <th>3</th>\n",
       "      <td>New England Patriots</td>\n",
       "      <td>2015</td>\n",
       "      <td>13-5-0</td>\n",
       "      <td>7.2</td>\n",
       "      <td>4</td>\n",
       "      <td>--</td>\n",
       "      <td>5.6</td>\n",
       "      <td>1.2</td>\n",
       "      <td>0.4</td>\n",
       "      <td>18</td>\n",
       "      <td>--</td>\n",
       "      <td>2</td>\n",
       "    </tr>\n",
       "    <tr>\n",
       "      <th>4</th>\n",
       "      <td>Pittsburgh Steelers</td>\n",
       "      <td>2015</td>\n",
       "      <td>11/7/2000</td>\n",
       "      <td>7.1</td>\n",
       "      <td>5</td>\n",
       "      <td>--</td>\n",
       "      <td>4.9</td>\n",
       "      <td>1.9</td>\n",
       "      <td>0.3</td>\n",
       "      <td>5</td>\n",
       "      <td>--</td>\n",
       "      <td>9</td>\n",
       "    </tr>\n",
       "    <tr>\n",
       "      <th>...</th>\n",
       "      <td>...</td>\n",
       "      <td>...</td>\n",
       "      <td>...</td>\n",
       "      <td>...</td>\n",
       "      <td>...</td>\n",
       "      <td>...</td>\n",
       "      <td>...</td>\n",
       "      <td>...</td>\n",
       "      <td>...</td>\n",
       "      <td>...</td>\n",
       "      <td>...</td>\n",
       "      <td>...</td>\n",
       "    </tr>\n",
       "    <tr>\n",
       "      <th>187</th>\n",
       "      <td>Detroit Lions</td>\n",
       "      <td>2020</td>\n",
       "      <td>3/5/2000</td>\n",
       "      <td>-4.7</td>\n",
       "      <td>28</td>\n",
       "      <td>--</td>\n",
       "      <td>-0.9</td>\n",
       "      <td>-3.9</td>\n",
       "      <td>0.1</td>\n",
       "      <td>4</td>\n",
       "      <td>16</td>\n",
       "      <td>23</td>\n",
       "    </tr>\n",
       "    <tr>\n",
       "      <th>188</th>\n",
       "      <td>New York Giants</td>\n",
       "      <td>2020</td>\n",
       "      <td>2/7/2000</td>\n",
       "      <td>-5.4</td>\n",
       "      <td>29</td>\n",
       "      <td>--</td>\n",
       "      <td>-3.6</td>\n",
       "      <td>-1.9</td>\n",
       "      <td>0.1</td>\n",
       "      <td>11</td>\n",
       "      <td>18</td>\n",
       "      <td>22</td>\n",
       "    </tr>\n",
       "    <tr>\n",
       "      <th>189</th>\n",
       "      <td>Dallas Cowboys</td>\n",
       "      <td>2020</td>\n",
       "      <td>2/7/2000</td>\n",
       "      <td>-7.8</td>\n",
       "      <td>30</td>\n",
       "      <td>--</td>\n",
       "      <td>-5.0</td>\n",
       "      <td>-2.3</td>\n",
       "      <td>-0.5</td>\n",
       "      <td>17</td>\n",
       "      <td>24</td>\n",
       "      <td>30</td>\n",
       "    </tr>\n",
       "    <tr>\n",
       "      <th>190</th>\n",
       "      <td>Jacksonville Jaguars</td>\n",
       "      <td>2020</td>\n",
       "      <td>1/7/2000</td>\n",
       "      <td>-8.8</td>\n",
       "      <td>31</td>\n",
       "      <td>--</td>\n",
       "      <td>-4.6</td>\n",
       "      <td>-4.5</td>\n",
       "      <td>0.3</td>\n",
       "      <td>27</td>\n",
       "      <td>2</td>\n",
       "      <td>31</td>\n",
       "    </tr>\n",
       "    <tr>\n",
       "      <th>191</th>\n",
       "      <td>New York Jets</td>\n",
       "      <td>2020</td>\n",
       "      <td>0-9-0</td>\n",
       "      <td>-9.0</td>\n",
       "      <td>32</td>\n",
       "      <td>--</td>\n",
       "      <td>-8.5</td>\n",
       "      <td>-1.1</td>\n",
       "      <td>0.6</td>\n",
       "      <td>6</td>\n",
       "      <td>8</td>\n",
       "      <td>32</td>\n",
       "    </tr>\n",
       "  </tbody>\n",
       "</table>\n",
       "<p>192 rows × 12 columns</p>\n",
       "</div>"
      ],
      "text/plain": [
       "                     TEAM  Year       W-L-T  Power Index FPI  Power Index RK  \\\n",
       "0        Seattle Seahawks   2015  11/7/2000              8.8               1   \n",
       "1       Arizona Cardinals   2015     14-4-0              8.3               2   \n",
       "2       Carolina Panthers   2015     17-2-0              7.9               3   \n",
       "3    New England Patriots   2015     13-5-0              7.2               4   \n",
       "4     Pittsburgh Steelers   2015  11/7/2000              7.1               5   \n",
       "..                    ...    ...        ...              ...             ...   \n",
       "187         Detroit Lions   2020   3/5/2000             -4.7              28   \n",
       "188       New York Giants   2020   2/7/2000             -5.4              29   \n",
       "189        Dallas Cowboys   2020   2/7/2000             -7.8              30   \n",
       "190  Jacksonville Jaguars   2020   1/7/2000             -8.8              31   \n",
       "191         New York Jets   2020      0-9-0             -9.0              32   \n",
       "\n",
       "    Power Index TREND  Power Index OFF  Power Index DEF  Power Index ST  \\\n",
       "0                  --              6.0              3.0            -0.3   \n",
       "1                  --              6.0              2.6            -0.4   \n",
       "2                  --              3.5              4.8            -0.4   \n",
       "3                  --              5.6              1.2             0.4   \n",
       "4                  --              4.9              1.9             0.3   \n",
       "..                ...              ...              ...             ...   \n",
       "187                --             -0.9             -3.9             0.1   \n",
       "188                --             -3.6             -1.9             0.1   \n",
       "189                --             -5.0             -2.3            -0.5   \n",
       "190                --             -4.6             -4.5             0.3   \n",
       "191                --             -8.5             -1.1             0.6   \n",
       "\n",
       "     Ranks SOS Ranks REM SOS  Ranks AVGWP  \n",
       "0            6            --            6  \n",
       "1           17            --            3  \n",
       "2           28            --            1  \n",
       "3           18            --            2  \n",
       "4            5            --            9  \n",
       "..         ...           ...          ...  \n",
       "187          4            16           23  \n",
       "188         11            18           22  \n",
       "189         17            24           30  \n",
       "190         27             2           31  \n",
       "191          6             8           32  \n",
       "\n",
       "[192 rows x 12 columns]"
      ]
     },
     "execution_count": 518,
     "metadata": {},
     "output_type": "execute_result"
    }
   ],
   "source": [
    "fpi"
   ]
  },
  {
   "cell_type": "code",
   "execution_count": 580,
   "metadata": {},
   "outputs": [],
   "source": [
    "missing = stats2[(stats2.Opponent.str.startswith(\"Tampa\") | stats2.Opponent.str.startswith(\"Tenn\")) | (stats2.FINAL_TEAM_NAME.str.startswith(\"Tampa\") | stats2.FINAL_TEAM_NAME.str.startswith(\"Tenn\"))]"
   ]
  },
  {
   "cell_type": "code",
   "execution_count": 526,
   "metadata": {},
   "outputs": [],
   "source": [
    "fpi = fpi.loc[:, [\"Year \", \"TEAM\", \"Power Index DEF\"]]"
   ]
  },
  {
   "cell_type": "code",
   "execution_count": 588,
   "metadata": {},
   "outputs": [],
   "source": [
    "new_Df = pd.merge(missing, fpi, left_on=[\"Opponent\", \"Year\"], right_on=[\"TEAM\", \"Year \"], suffixes=(\"\", \"_Opp\"))"
   ]
  },
  {
   "cell_type": "code",
   "execution_count": 538,
   "metadata": {},
   "outputs": [
    {
     "data": {
      "text/html": [
       "<div>\n",
       "<style scoped>\n",
       "    .dataframe tbody tr th:only-of-type {\n",
       "        vertical-align: middle;\n",
       "    }\n",
       "\n",
       "    .dataframe tbody tr th {\n",
       "        vertical-align: top;\n",
       "    }\n",
       "\n",
       "    .dataframe thead th {\n",
       "        text-align: right;\n",
       "    }\n",
       "</style>\n",
       "<table border=\"1\" class=\"dataframe\">\n",
       "  <thead>\n",
       "    <tr style=\"text-align: right;\">\n",
       "      <th></th>\n",
       "      <th>Year</th>\n",
       "      <th>Week_x</th>\n",
       "      <th>Abbr_RDBMS_Winner</th>\n",
       "      <th>Week2</th>\n",
       "      <th>Day</th>\n",
       "      <th>Date</th>\n",
       "      <th>Time</th>\n",
       "      <th>Home_Team</th>\n",
       "      <th>FINAL_TEAM_NAME</th>\n",
       "      <th>Opponent</th>\n",
       "      <th>...</th>\n",
       "      <th>SCHEDULE RANK_FO_ANNUAL_Winner</th>\n",
       "      <th>VAR._FO_ANNUAL_Winner</th>\n",
       "      <th>TOTAL_GAME_POINTS</th>\n",
       "      <th>TOTAL_GAME_YARDS</th>\n",
       "      <th>TOTAL_GAME_TURNOVERS</th>\n",
       "      <th>PLAYOFFS_BINARY</th>\n",
       "      <th>GAME_TYPE</th>\n",
       "      <th>Year</th>\n",
       "      <th>TEAM</th>\n",
       "      <th>Power Index DEF_Opp</th>\n",
       "    </tr>\n",
       "  </thead>\n",
       "  <tbody>\n",
       "    <tr>\n",
       "      <th>0</th>\n",
       "      <td>2015</td>\n",
       "      <td>11</td>\n",
       "      <td>PHI</td>\n",
       "      <td>11</td>\n",
       "      <td>Sun</td>\n",
       "      <td>22-Nov</td>\n",
       "      <td>1:02PM</td>\n",
       "      <td>0</td>\n",
       "      <td>Philadelphia Eagles</td>\n",
       "      <td>Tampa Bay Buccaneers</td>\n",
       "      <td>...</td>\n",
       "      <td>-0.007</td>\n",
       "      <td>0.195</td>\n",
       "      <td>62</td>\n",
       "      <td>904</td>\n",
       "      <td>5</td>\n",
       "      <td>0</td>\n",
       "      <td>Regular Season</td>\n",
       "      <td>2015</td>\n",
       "      <td>Tampa Bay Buccaneers</td>\n",
       "      <td>-2.8</td>\n",
       "    </tr>\n",
       "    <tr>\n",
       "      <th>1</th>\n",
       "      <td>2015</td>\n",
       "      <td>2</td>\n",
       "      <td>NO</td>\n",
       "      <td>2</td>\n",
       "      <td>Sun</td>\n",
       "      <td>20-Sep</td>\n",
       "      <td>1:02PM</td>\n",
       "      <td>0</td>\n",
       "      <td>New Orleans Saints</td>\n",
       "      <td>Tampa Bay Buccaneers</td>\n",
       "      <td>...</td>\n",
       "      <td>-0.035</td>\n",
       "      <td>0.128</td>\n",
       "      <td>45</td>\n",
       "      <td>656</td>\n",
       "      <td>5</td>\n",
       "      <td>0</td>\n",
       "      <td>Regular Season</td>\n",
       "      <td>2015</td>\n",
       "      <td>Tampa Bay Buccaneers</td>\n",
       "      <td>-2.8</td>\n",
       "    </tr>\n",
       "    <tr>\n",
       "      <th>2</th>\n",
       "      <td>2015</td>\n",
       "      <td>10</td>\n",
       "      <td>DAL</td>\n",
       "      <td>10</td>\n",
       "      <td>Sun</td>\n",
       "      <td>15-Nov</td>\n",
       "      <td>1:05PM</td>\n",
       "      <td>1</td>\n",
       "      <td>Dallas Cowboys</td>\n",
       "      <td>Tampa Bay Buccaneers</td>\n",
       "      <td>...</td>\n",
       "      <td>0.005</td>\n",
       "      <td>0.045</td>\n",
       "      <td>16</td>\n",
       "      <td>546</td>\n",
       "      <td>3</td>\n",
       "      <td>0</td>\n",
       "      <td>Regular Season</td>\n",
       "      <td>2015</td>\n",
       "      <td>Tampa Bay Buccaneers</td>\n",
       "      <td>-2.8</td>\n",
       "    </tr>\n",
       "    <tr>\n",
       "      <th>3</th>\n",
       "      <td>2015</td>\n",
       "      <td>8</td>\n",
       "      <td>ATL</td>\n",
       "      <td>8</td>\n",
       "      <td>Sun</td>\n",
       "      <td>1-Nov</td>\n",
       "      <td>1:02PM</td>\n",
       "      <td>0</td>\n",
       "      <td>Atlanta Falcons</td>\n",
       "      <td>Tampa Bay Buccaneers</td>\n",
       "      <td>...</td>\n",
       "      <td>-0.074</td>\n",
       "      <td>0.072</td>\n",
       "      <td>43</td>\n",
       "      <td>786</td>\n",
       "      <td>4</td>\n",
       "      <td>0</td>\n",
       "      <td>Regular Season</td>\n",
       "      <td>2015</td>\n",
       "      <td>Tampa Bay Buccaneers</td>\n",
       "      <td>-2.8</td>\n",
       "    </tr>\n",
       "    <tr>\n",
       "      <th>4</th>\n",
       "      <td>2015</td>\n",
       "      <td>13</td>\n",
       "      <td>ATL</td>\n",
       "      <td>13</td>\n",
       "      <td>Sun</td>\n",
       "      <td>6-Dec</td>\n",
       "      <td>1:03PM</td>\n",
       "      <td>1</td>\n",
       "      <td>Atlanta Falcons</td>\n",
       "      <td>Tampa Bay Buccaneers</td>\n",
       "      <td>...</td>\n",
       "      <td>-0.074</td>\n",
       "      <td>0.072</td>\n",
       "      <td>42</td>\n",
       "      <td>707</td>\n",
       "      <td>3</td>\n",
       "      <td>0</td>\n",
       "      <td>Regular Season</td>\n",
       "      <td>2015</td>\n",
       "      <td>Tampa Bay Buccaneers</td>\n",
       "      <td>-2.8</td>\n",
       "    </tr>\n",
       "    <tr>\n",
       "      <th>...</th>\n",
       "      <td>...</td>\n",
       "      <td>...</td>\n",
       "      <td>...</td>\n",
       "      <td>...</td>\n",
       "      <td>...</td>\n",
       "      <td>...</td>\n",
       "      <td>...</td>\n",
       "      <td>...</td>\n",
       "      <td>...</td>\n",
       "      <td>...</td>\n",
       "      <td>...</td>\n",
       "      <td>...</td>\n",
       "      <td>...</td>\n",
       "      <td>...</td>\n",
       "      <td>...</td>\n",
       "      <td>...</td>\n",
       "      <td>...</td>\n",
       "      <td>...</td>\n",
       "      <td>...</td>\n",
       "      <td>...</td>\n",
       "      <td>...</td>\n",
       "    </tr>\n",
       "    <tr>\n",
       "      <th>351</th>\n",
       "      <td>2020</td>\n",
       "      <td>5</td>\n",
       "      <td>TEN</td>\n",
       "      <td>9</td>\n",
       "      <td>Tue</td>\n",
       "      <td>13-Oct</td>\n",
       "      <td>7:00:00 PM</td>\n",
       "      <td>1</td>\n",
       "      <td>Tennessee Titans</td>\n",
       "      <td>Buffalo Bills</td>\n",
       "      <td>...</td>\n",
       "      <td>-0.048</td>\n",
       "      <td>0.069</td>\n",
       "      <td>58</td>\n",
       "      <td>704</td>\n",
       "      <td>3</td>\n",
       "      <td>0</td>\n",
       "      <td>Regular Season</td>\n",
       "      <td>2020</td>\n",
       "      <td>Buffalo Bills</td>\n",
       "      <td>-0.2</td>\n",
       "    </tr>\n",
       "    <tr>\n",
       "      <th>352</th>\n",
       "      <td>2020</td>\n",
       "      <td>6</td>\n",
       "      <td>TEN</td>\n",
       "      <td>9</td>\n",
       "      <td>Sun</td>\n",
       "      <td>18-Oct</td>\n",
       "      <td>1:00:00 PM</td>\n",
       "      <td>1</td>\n",
       "      <td>Tennessee Titans</td>\n",
       "      <td>Houston Texans</td>\n",
       "      <td>...</td>\n",
       "      <td>-0.048</td>\n",
       "      <td>0.069</td>\n",
       "      <td>78</td>\n",
       "      <td>1019</td>\n",
       "      <td>2</td>\n",
       "      <td>0</td>\n",
       "      <td>Regular Season</td>\n",
       "      <td>2020</td>\n",
       "      <td>Houston Texans</td>\n",
       "      <td>-4.1</td>\n",
       "    </tr>\n",
       "    <tr>\n",
       "      <th>353</th>\n",
       "      <td>2020</td>\n",
       "      <td>2</td>\n",
       "      <td>TB</td>\n",
       "      <td>9</td>\n",
       "      <td>Sun</td>\n",
       "      <td>20-Sep</td>\n",
       "      <td>1:00:00 PM</td>\n",
       "      <td>1</td>\n",
       "      <td>Tampa Bay Buccaneers</td>\n",
       "      <td>Carolina Panthers</td>\n",
       "      <td>...</td>\n",
       "      <td>0.031</td>\n",
       "      <td>0.357</td>\n",
       "      <td>48</td>\n",
       "      <td>766</td>\n",
       "      <td>6</td>\n",
       "      <td>0</td>\n",
       "      <td>Regular Season</td>\n",
       "      <td>2020</td>\n",
       "      <td>Carolina Panthers</td>\n",
       "      <td>-0.9</td>\n",
       "    </tr>\n",
       "    <tr>\n",
       "      <th>354</th>\n",
       "      <td>2020</td>\n",
       "      <td>6</td>\n",
       "      <td>TB</td>\n",
       "      <td>9</td>\n",
       "      <td>Sun</td>\n",
       "      <td>18-Oct</td>\n",
       "      <td>4:25:00 PM</td>\n",
       "      <td>1</td>\n",
       "      <td>Tampa Bay Buccaneers</td>\n",
       "      <td>Green Bay Packers</td>\n",
       "      <td>...</td>\n",
       "      <td>0.031</td>\n",
       "      <td>0.357</td>\n",
       "      <td>48</td>\n",
       "      <td>525</td>\n",
       "      <td>2</td>\n",
       "      <td>0</td>\n",
       "      <td>Regular Season</td>\n",
       "      <td>2020</td>\n",
       "      <td>Green Bay Packers</td>\n",
       "      <td>-1.4</td>\n",
       "    </tr>\n",
       "    <tr>\n",
       "      <th>355</th>\n",
       "      <td>2020</td>\n",
       "      <td>8</td>\n",
       "      <td>TB</td>\n",
       "      <td>9</td>\n",
       "      <td>Mon</td>\n",
       "      <td>2-Nov</td>\n",
       "      <td>8:15:00 PM</td>\n",
       "      <td>0</td>\n",
       "      <td>Tampa Bay Buccaneers</td>\n",
       "      <td>New York Giants</td>\n",
       "      <td>...</td>\n",
       "      <td>0.031</td>\n",
       "      <td>0.357</td>\n",
       "      <td>48</td>\n",
       "      <td>701</td>\n",
       "      <td>3</td>\n",
       "      <td>0</td>\n",
       "      <td>Regular Season</td>\n",
       "      <td>2020</td>\n",
       "      <td>New York Giants</td>\n",
       "      <td>-1.9</td>\n",
       "    </tr>\n",
       "  </tbody>\n",
       "</table>\n",
       "<p>356 rows × 76 columns</p>\n",
       "</div>"
      ],
      "text/plain": [
       "     Year Week_x Abbr_RDBMS_Winner  Week2  Day    Date        Time  Home_Team  \\\n",
       "0    2015     11               PHI     11  Sun  22-Nov      1:02PM          0   \n",
       "1    2015      2                NO      2  Sun  20-Sep      1:02PM          0   \n",
       "2    2015     10               DAL     10  Sun  15-Nov      1:05PM          1   \n",
       "3    2015      8               ATL      8  Sun   1-Nov      1:02PM          0   \n",
       "4    2015     13               ATL     13  Sun   6-Dec      1:03PM          1   \n",
       "..    ...    ...               ...    ...  ...     ...         ...        ...   \n",
       "351  2020      5               TEN      9  Tue  13-Oct  7:00:00 PM          1   \n",
       "352  2020      6               TEN      9  Sun  18-Oct  1:00:00 PM          1   \n",
       "353  2020      2                TB      9  Sun  20-Sep  1:00:00 PM          1   \n",
       "354  2020      6                TB      9  Sun  18-Oct  4:25:00 PM          1   \n",
       "355  2020      8                TB      9  Mon   2-Nov  8:15:00 PM          0   \n",
       "\n",
       "          FINAL_TEAM_NAME              Opponent  ...  \\\n",
       "0     Philadelphia Eagles  Tampa Bay Buccaneers  ...   \n",
       "1      New Orleans Saints  Tampa Bay Buccaneers  ...   \n",
       "2          Dallas Cowboys  Tampa Bay Buccaneers  ...   \n",
       "3         Atlanta Falcons  Tampa Bay Buccaneers  ...   \n",
       "4         Atlanta Falcons  Tampa Bay Buccaneers  ...   \n",
       "..                    ...                   ...  ...   \n",
       "351      Tennessee Titans         Buffalo Bills  ...   \n",
       "352      Tennessee Titans        Houston Texans  ...   \n",
       "353  Tampa Bay Buccaneers     Carolina Panthers  ...   \n",
       "354  Tampa Bay Buccaneers     Green Bay Packers  ...   \n",
       "355  Tampa Bay Buccaneers       New York Giants  ...   \n",
       "\n",
       "     SCHEDULE RANK_FO_ANNUAL_Winner  VAR._FO_ANNUAL_Winner  TOTAL_GAME_POINTS  \\\n",
       "0                            -0.007                  0.195                 62   \n",
       "1                            -0.035                  0.128                 45   \n",
       "2                             0.005                  0.045                 16   \n",
       "3                            -0.074                  0.072                 43   \n",
       "4                            -0.074                  0.072                 42   \n",
       "..                              ...                    ...                ...   \n",
       "351                          -0.048                  0.069                 58   \n",
       "352                          -0.048                  0.069                 78   \n",
       "353                           0.031                  0.357                 48   \n",
       "354                           0.031                  0.357                 48   \n",
       "355                           0.031                  0.357                 48   \n",
       "\n",
       "     TOTAL_GAME_YARDS  TOTAL_GAME_TURNOVERS  PLAYOFFS_BINARY       GAME_TYPE  \\\n",
       "0                 904                     5                0  Regular Season   \n",
       "1                 656                     5                0  Regular Season   \n",
       "2                 546                     3                0  Regular Season   \n",
       "3                 786                     4                0  Regular Season   \n",
       "4                 707                     3                0  Regular Season   \n",
       "..                ...                   ...              ...             ...   \n",
       "351               704                     3                0  Regular Season   \n",
       "352              1019                     2                0  Regular Season   \n",
       "353               766                     6                0  Regular Season   \n",
       "354               525                     2                0  Regular Season   \n",
       "355               701                     3                0  Regular Season   \n",
       "\n",
       "     Year                   TEAM  Power Index DEF_Opp  \n",
       "0     2015  Tampa Bay Buccaneers                 -2.8  \n",
       "1     2015  Tampa Bay Buccaneers                 -2.8  \n",
       "2     2015  Tampa Bay Buccaneers                 -2.8  \n",
       "3     2015  Tampa Bay Buccaneers                 -2.8  \n",
       "4     2015  Tampa Bay Buccaneers                 -2.8  \n",
       "..     ...                   ...                  ...  \n",
       "351   2020         Buffalo Bills                 -0.2  \n",
       "352   2020        Houston Texans                 -4.1  \n",
       "353   2020     Carolina Panthers                 -0.9  \n",
       "354   2020     Green Bay Packers                 -1.4  \n",
       "355   2020       New York Giants                 -1.9  \n",
       "\n",
       "[356 rows x 76 columns]"
      ]
     },
     "execution_count": 538,
     "metadata": {},
     "output_type": "execute_result"
    }
   ],
   "source": [
    "new_Df"
   ]
  },
  {
   "cell_type": "code",
   "execution_count": 589,
   "metadata": {},
   "outputs": [],
   "source": [
    "new_Df = new_Df[new_Df.Year == 2020]"
   ]
  },
  {
   "cell_type": "code",
   "execution_count": 590,
   "metadata": {},
   "outputs": [
    {
     "data": {
      "text/plain": [
       "(30, 76)"
      ]
     },
     "execution_count": 590,
     "metadata": {},
     "output_type": "execute_result"
    }
   ],
   "source": [
    "new_Df.shape"
   ]
  },
  {
   "cell_type": "code",
   "execution_count": 541,
   "metadata": {},
   "outputs": [],
   "source": [
    "new_Df=new_Df.loc[:, [\"Year\", 'TEAM_POINTS', 'Power Index FPI', 'Power Index OFF',  'Power Index DEF_Opp', 'Power Index ST', 'Ranks SOS', 'Ranks AVGWP', 'TEAM_TURNOVERS', 'TEAM_YARDS', 'EPA/play_RDBMS_Winner', 'OVR_SUCCESS_RATE_RDBMS_Winner', 'Dropback EPA_RDBMS_Winner','DROPBACK_SR_RDBMS_Winner', 'Rush EPA_RDBMS_Winner', 'RUN_SR_RDBMS_Winner']]"
   ]
  },
  {
   "cell_type": "code",
   "execution_count": 620,
   "metadata": {},
   "outputs": [],
   "source": [
    "missing_ones2 = missing_ones.loc[:, [\"GAMEID\", \"FINAL_TEAM_NAME\", \"Model1_Prediction\",\n",
    "                                     \"Model2_Prediction\",  \"Model3_Prediction\",\n",
    "                                     \"Model4_Prediction\", \"Model5_Prediction\"]]"
   ]
  },
  {
   "cell_type": "code",
   "execution_count": 622,
   "metadata": {},
   "outputs": [
    {
     "data": {
      "text/html": [
       "<div>\n",
       "<style scoped>\n",
       "    .dataframe tbody tr th:only-of-type {\n",
       "        vertical-align: middle;\n",
       "    }\n",
       "\n",
       "    .dataframe tbody tr th {\n",
       "        vertical-align: top;\n",
       "    }\n",
       "\n",
       "    .dataframe thead th {\n",
       "        text-align: right;\n",
       "    }\n",
       "</style>\n",
       "<table border=\"1\" class=\"dataframe\">\n",
       "  <thead>\n",
       "    <tr style=\"text-align: right;\">\n",
       "      <th></th>\n",
       "      <th>GAMEID</th>\n",
       "      <th>FINAL_TEAM_NAME</th>\n",
       "      <th>Model1_Prediction</th>\n",
       "      <th>Model2_Prediction</th>\n",
       "      <th>Model3_Prediction</th>\n",
       "      <th>Model4_Prediction</th>\n",
       "      <th>Model5_Prediction</th>\n",
       "    </tr>\n",
       "  </thead>\n",
       "  <tbody>\n",
       "    <tr>\n",
       "      <th>0</th>\n",
       "      <td>5657</td>\n",
       "      <td>Tennessee Titans</td>\n",
       "      <td>23.725884</td>\n",
       "      <td>20.559308</td>\n",
       "      <td>20.154583</td>\n",
       "      <td>24.0</td>\n",
       "      <td>26.024176</td>\n",
       "    </tr>\n",
       "    <tr>\n",
       "      <th>1</th>\n",
       "      <td>5678</td>\n",
       "      <td>Tennessee Titans</td>\n",
       "      <td>23.725884</td>\n",
       "      <td>27.802101</td>\n",
       "      <td>28.089752</td>\n",
       "      <td>27.0</td>\n",
       "      <td>28.128450</td>\n",
       "    </tr>\n",
       "    <tr>\n",
       "      <th>2</th>\n",
       "      <td>5577</td>\n",
       "      <td>Tampa Bay Buccaneers</td>\n",
       "      <td>26.471791</td>\n",
       "      <td>24.286553</td>\n",
       "      <td>21.315701</td>\n",
       "      <td>20.0</td>\n",
       "      <td>19.747656</td>\n",
       "    </tr>\n",
       "    <tr>\n",
       "      <th>3</th>\n",
       "      <td>5696</td>\n",
       "      <td>Tampa Bay Buccaneers</td>\n",
       "      <td>26.471791</td>\n",
       "      <td>24.286553</td>\n",
       "      <td>27.268988</td>\n",
       "      <td>24.0</td>\n",
       "      <td>7.474485</td>\n",
       "    </tr>\n",
       "    <tr>\n",
       "      <th>4</th>\n",
       "      <td>5628</td>\n",
       "      <td>Tampa Bay Buccaneers</td>\n",
       "      <td>26.471791</td>\n",
       "      <td>20.363373</td>\n",
       "      <td>16.529400</td>\n",
       "      <td>20.0</td>\n",
       "      <td>20.423419</td>\n",
       "    </tr>\n",
       "    <tr>\n",
       "      <th>5</th>\n",
       "      <td>5690</td>\n",
       "      <td>Tennessee Titans</td>\n",
       "      <td>23.725884</td>\n",
       "      <td>21.162874</td>\n",
       "      <td>17.175795</td>\n",
       "      <td>10.0</td>\n",
       "      <td>17.833577</td>\n",
       "    </tr>\n",
       "    <tr>\n",
       "      <th>6</th>\n",
       "      <td>5690</td>\n",
       "      <td>Chicago Bears</td>\n",
       "      <td>21.426985</td>\n",
       "      <td>20.831442</td>\n",
       "      <td>16.703918</td>\n",
       "      <td>17.0</td>\n",
       "      <td>14.266240</td>\n",
       "    </tr>\n",
       "    <tr>\n",
       "      <th>7</th>\n",
       "      <td>5580</td>\n",
       "      <td>Denver Broncos</td>\n",
       "      <td>21.043835</td>\n",
       "      <td>20.436777</td>\n",
       "      <td>26.102005</td>\n",
       "      <td>27.0</td>\n",
       "      <td>19.257512</td>\n",
       "    </tr>\n",
       "    <tr>\n",
       "      <th>8</th>\n",
       "      <td>5586</td>\n",
       "      <td>Jacksonville Jaguars</td>\n",
       "      <td>17.148478</td>\n",
       "      <td>20.564305</td>\n",
       "      <td>24.180355</td>\n",
       "      <td>27.0</td>\n",
       "      <td>29.469500</td>\n",
       "    </tr>\n",
       "    <tr>\n",
       "      <th>9</th>\n",
       "      <td>5601</td>\n",
       "      <td>Minnesota Vikings</td>\n",
       "      <td>23.981317</td>\n",
       "      <td>26.282363</td>\n",
       "      <td>30.258027</td>\n",
       "      <td>31.0</td>\n",
       "      <td>26.127306</td>\n",
       "    </tr>\n",
       "    <tr>\n",
       "      <th>10</th>\n",
       "      <td>5641</td>\n",
       "      <td>Buffalo Bills</td>\n",
       "      <td>23.981317</td>\n",
       "      <td>27.360157</td>\n",
       "      <td>26.404737</td>\n",
       "      <td>27.0</td>\n",
       "      <td>22.413754</td>\n",
       "    </tr>\n",
       "    <tr>\n",
       "      <th>11</th>\n",
       "      <td>5650</td>\n",
       "      <td>Houston Texans</td>\n",
       "      <td>21.235410</td>\n",
       "      <td>25.133392</td>\n",
       "      <td>37.996778</td>\n",
       "      <td>20.0</td>\n",
       "      <td>37.815281</td>\n",
       "    </tr>\n",
       "    <tr>\n",
       "      <th>12</th>\n",
       "      <td>5657</td>\n",
       "      <td>Pittsburgh Steelers</td>\n",
       "      <td>25.705492</td>\n",
       "      <td>26.399978</td>\n",
       "      <td>23.234262</td>\n",
       "      <td>24.0</td>\n",
       "      <td>27.429847</td>\n",
       "    </tr>\n",
       "    <tr>\n",
       "      <th>13</th>\n",
       "      <td>5678</td>\n",
       "      <td>Cincinnati Bengals</td>\n",
       "      <td>20.469110</td>\n",
       "      <td>24.235279</td>\n",
       "      <td>27.039428</td>\n",
       "      <td>27.0</td>\n",
       "      <td>33.076023</td>\n",
       "    </tr>\n",
       "    <tr>\n",
       "      <th>14</th>\n",
       "      <td>5608</td>\n",
       "      <td>Denver Broncos</td>\n",
       "      <td>21.043835</td>\n",
       "      <td>13.093390</td>\n",
       "      <td>22.401021</td>\n",
       "      <td>27.0</td>\n",
       "      <td>12.385897</td>\n",
       "    </tr>\n",
       "    <tr>\n",
       "      <th>15</th>\n",
       "      <td>5587</td>\n",
       "      <td>Carolina Panthers</td>\n",
       "      <td>22.384859</td>\n",
       "      <td>17.519666</td>\n",
       "      <td>18.740749</td>\n",
       "      <td>20.0</td>\n",
       "      <td>16.846195</td>\n",
       "    </tr>\n",
       "    <tr>\n",
       "      <th>16</th>\n",
       "      <td>5652</td>\n",
       "      <td>Green Bay Packers</td>\n",
       "      <td>25.769350</td>\n",
       "      <td>22.872924</td>\n",
       "      <td>24.043938</td>\n",
       "      <td>24.0</td>\n",
       "      <td>10.867917</td>\n",
       "    </tr>\n",
       "    <tr>\n",
       "      <th>17</th>\n",
       "      <td>5683</td>\n",
       "      <td>New York Giants</td>\n",
       "      <td>19.319661</td>\n",
       "      <td>14.910209</td>\n",
       "      <td>20.480000</td>\n",
       "      <td>20.0</td>\n",
       "      <td>21.640928</td>\n",
       "    </tr>\n",
       "    <tr>\n",
       "      <th>18</th>\n",
       "      <td>5577</td>\n",
       "      <td>New Orleans Saints</td>\n",
       "      <td>26.280216</td>\n",
       "      <td>22.073617</td>\n",
       "      <td>20.720770</td>\n",
       "      <td>20.0</td>\n",
       "      <td>18.269458</td>\n",
       "    </tr>\n",
       "    <tr>\n",
       "      <th>19</th>\n",
       "      <td>5696</td>\n",
       "      <td>New Orleans Saints</td>\n",
       "      <td>26.280216</td>\n",
       "      <td>22.073617</td>\n",
       "      <td>26.674057</td>\n",
       "      <td>24.0</td>\n",
       "      <td>32.531874</td>\n",
       "    </tr>\n",
       "    <tr>\n",
       "      <th>20</th>\n",
       "      <td>5628</td>\n",
       "      <td>Chicago Bears</td>\n",
       "      <td>21.426985</td>\n",
       "      <td>13.488055</td>\n",
       "      <td>13.689245</td>\n",
       "      <td>17.0</td>\n",
       "      <td>16.966028</td>\n",
       "    </tr>\n",
       "    <tr>\n",
       "      <th>21</th>\n",
       "      <td>5580</td>\n",
       "      <td>Tennessee Titans</td>\n",
       "      <td>23.725884</td>\n",
       "      <td>21.464657</td>\n",
       "      <td>26.877200</td>\n",
       "      <td>27.0</td>\n",
       "      <td>27.579014</td>\n",
       "    </tr>\n",
       "    <tr>\n",
       "      <th>22</th>\n",
       "      <td>5608</td>\n",
       "      <td>Tampa Bay Buccaneers</td>\n",
       "      <td>26.471791</td>\n",
       "      <td>20.665156</td>\n",
       "      <td>25.544493</td>\n",
       "      <td>24.0</td>\n",
       "      <td>26.685103</td>\n",
       "    </tr>\n",
       "    <tr>\n",
       "      <th>23</th>\n",
       "      <td>5586</td>\n",
       "      <td>Tennessee Titans</td>\n",
       "      <td>23.725884</td>\n",
       "      <td>29.411610</td>\n",
       "      <td>27.722839</td>\n",
       "      <td>27.0</td>\n",
       "      <td>34.466350</td>\n",
       "    </tr>\n",
       "    <tr>\n",
       "      <th>24</th>\n",
       "      <td>5601</td>\n",
       "      <td>Tennessee Titans</td>\n",
       "      <td>23.725884</td>\n",
       "      <td>24.884865</td>\n",
       "      <td>30.372547</td>\n",
       "      <td>31.0</td>\n",
       "      <td>23.569010</td>\n",
       "    </tr>\n",
       "    <tr>\n",
       "      <th>25</th>\n",
       "      <td>5641</td>\n",
       "      <td>Tennessee Titans</td>\n",
       "      <td>23.725884</td>\n",
       "      <td>25.086053</td>\n",
       "      <td>25.164547</td>\n",
       "      <td>27.0</td>\n",
       "      <td>33.156365</td>\n",
       "    </tr>\n",
       "    <tr>\n",
       "      <th>26</th>\n",
       "      <td>5650</td>\n",
       "      <td>Tennessee Titans</td>\n",
       "      <td>23.725884</td>\n",
       "      <td>29.009233</td>\n",
       "      <td>40.267880</td>\n",
       "      <td>27.0</td>\n",
       "      <td>41.811288</td>\n",
       "    </tr>\n",
       "    <tr>\n",
       "      <th>27</th>\n",
       "      <td>5587</td>\n",
       "      <td>Tampa Bay Buccaneers</td>\n",
       "      <td>26.471791</td>\n",
       "      <td>24.990713</td>\n",
       "      <td>22.249573</td>\n",
       "      <td>20.0</td>\n",
       "      <td>25.176297</td>\n",
       "    </tr>\n",
       "    <tr>\n",
       "      <th>28</th>\n",
       "      <td>5652</td>\n",
       "      <td>Tampa Bay Buccaneers</td>\n",
       "      <td>26.471791</td>\n",
       "      <td>25.493685</td>\n",
       "      <td>25.088920</td>\n",
       "      <td>20.0</td>\n",
       "      <td>29.897627</td>\n",
       "    </tr>\n",
       "    <tr>\n",
       "      <th>29</th>\n",
       "      <td>5683</td>\n",
       "      <td>Tampa Bay Buccaneers</td>\n",
       "      <td>26.471791</td>\n",
       "      <td>25.996656</td>\n",
       "      <td>24.696858</td>\n",
       "      <td>20.0</td>\n",
       "      <td>25.662360</td>\n",
       "    </tr>\n",
       "  </tbody>\n",
       "</table>\n",
       "</div>"
      ],
      "text/plain": [
       "    GAMEID       FINAL_TEAM_NAME  Model1_Prediction  Model2_Prediction  \\\n",
       "0     5657      Tennessee Titans          23.725884          20.559308   \n",
       "1     5678      Tennessee Titans          23.725884          27.802101   \n",
       "2     5577  Tampa Bay Buccaneers          26.471791          24.286553   \n",
       "3     5696  Tampa Bay Buccaneers          26.471791          24.286553   \n",
       "4     5628  Tampa Bay Buccaneers          26.471791          20.363373   \n",
       "5     5690      Tennessee Titans          23.725884          21.162874   \n",
       "6     5690         Chicago Bears          21.426985          20.831442   \n",
       "7     5580        Denver Broncos          21.043835          20.436777   \n",
       "8     5586  Jacksonville Jaguars          17.148478          20.564305   \n",
       "9     5601     Minnesota Vikings          23.981317          26.282363   \n",
       "10    5641         Buffalo Bills          23.981317          27.360157   \n",
       "11    5650        Houston Texans          21.235410          25.133392   \n",
       "12    5657   Pittsburgh Steelers          25.705492          26.399978   \n",
       "13    5678    Cincinnati Bengals          20.469110          24.235279   \n",
       "14    5608        Denver Broncos          21.043835          13.093390   \n",
       "15    5587     Carolina Panthers          22.384859          17.519666   \n",
       "16    5652     Green Bay Packers          25.769350          22.872924   \n",
       "17    5683       New York Giants          19.319661          14.910209   \n",
       "18    5577    New Orleans Saints          26.280216          22.073617   \n",
       "19    5696    New Orleans Saints          26.280216          22.073617   \n",
       "20    5628         Chicago Bears          21.426985          13.488055   \n",
       "21    5580      Tennessee Titans          23.725884          21.464657   \n",
       "22    5608  Tampa Bay Buccaneers          26.471791          20.665156   \n",
       "23    5586      Tennessee Titans          23.725884          29.411610   \n",
       "24    5601      Tennessee Titans          23.725884          24.884865   \n",
       "25    5641      Tennessee Titans          23.725884          25.086053   \n",
       "26    5650      Tennessee Titans          23.725884          29.009233   \n",
       "27    5587  Tampa Bay Buccaneers          26.471791          24.990713   \n",
       "28    5652  Tampa Bay Buccaneers          26.471791          25.493685   \n",
       "29    5683  Tampa Bay Buccaneers          26.471791          25.996656   \n",
       "\n",
       "    Model3_Prediction  Model4_Prediction  Model5_Prediction  \n",
       "0           20.154583               24.0          26.024176  \n",
       "1           28.089752               27.0          28.128450  \n",
       "2           21.315701               20.0          19.747656  \n",
       "3           27.268988               24.0           7.474485  \n",
       "4           16.529400               20.0          20.423419  \n",
       "5           17.175795               10.0          17.833577  \n",
       "6           16.703918               17.0          14.266240  \n",
       "7           26.102005               27.0          19.257512  \n",
       "8           24.180355               27.0          29.469500  \n",
       "9           30.258027               31.0          26.127306  \n",
       "10          26.404737               27.0          22.413754  \n",
       "11          37.996778               20.0          37.815281  \n",
       "12          23.234262               24.0          27.429847  \n",
       "13          27.039428               27.0          33.076023  \n",
       "14          22.401021               27.0          12.385897  \n",
       "15          18.740749               20.0          16.846195  \n",
       "16          24.043938               24.0          10.867917  \n",
       "17          20.480000               20.0          21.640928  \n",
       "18          20.720770               20.0          18.269458  \n",
       "19          26.674057               24.0          32.531874  \n",
       "20          13.689245               17.0          16.966028  \n",
       "21          26.877200               27.0          27.579014  \n",
       "22          25.544493               24.0          26.685103  \n",
       "23          27.722839               27.0          34.466350  \n",
       "24          30.372547               31.0          23.569010  \n",
       "25          25.164547               27.0          33.156365  \n",
       "26          40.267880               27.0          41.811288  \n",
       "27          22.249573               20.0          25.176297  \n",
       "28          25.088920               20.0          29.897627  \n",
       "29          24.696858               20.0          25.662360  "
      ]
     },
     "execution_count": 622,
     "metadata": {},
     "output_type": "execute_result"
    }
   ],
   "source": [
    "missing_ones2"
   ]
  },
  {
   "cell_type": "code",
   "execution_count": 623,
   "metadata": {},
   "outputs": [],
   "source": [
    "final_dd = pd.concat([model_predictions_fin, missing_ones2], axis=0)"
   ]
  },
  {
   "cell_type": "code",
   "execution_count": 629,
   "metadata": {},
   "outputs": [
    {
     "data": {
      "text/html": [
       "<div>\n",
       "<style scoped>\n",
       "    .dataframe tbody tr th:only-of-type {\n",
       "        vertical-align: middle;\n",
       "    }\n",
       "\n",
       "    .dataframe tbody tr th {\n",
       "        vertical-align: top;\n",
       "    }\n",
       "\n",
       "    .dataframe thead th {\n",
       "        text-align: right;\n",
       "    }\n",
       "</style>\n",
       "<table border=\"1\" class=\"dataframe\">\n",
       "  <thead>\n",
       "    <tr style=\"text-align: right;\">\n",
       "      <th></th>\n",
       "      <th>GAMEID</th>\n",
       "      <th>FINAL_TEAM_NAME</th>\n",
       "      <th>Model1_Prediction</th>\n",
       "      <th>Model2_Prediction</th>\n",
       "      <th>Model3_Prediction</th>\n",
       "      <th>Model4_Prediction</th>\n",
       "      <th>Model5_Prediction</th>\n",
       "    </tr>\n",
       "  </thead>\n",
       "  <tbody>\n",
       "    <tr>\n",
       "      <th>0</th>\n",
       "      <td>1.0</td>\n",
       "      <td>Detroit Lions</td>\n",
       "      <td>21.490843</td>\n",
       "      <td>25.956638</td>\n",
       "      <td>26.019291</td>\n",
       "      <td>27.0</td>\n",
       "      <td>27.131508</td>\n",
       "    </tr>\n",
       "    <tr>\n",
       "      <th>1</th>\n",
       "      <td>1.0</td>\n",
       "      <td>Chicago Bears</td>\n",
       "      <td>21.107693</td>\n",
       "      <td>24.249333</td>\n",
       "      <td>19.114992</td>\n",
       "      <td>20.0</td>\n",
       "      <td>22.373294</td>\n",
       "    </tr>\n",
       "    <tr>\n",
       "      <th>2</th>\n",
       "      <td>2.0</td>\n",
       "      <td>Chicago Bears</td>\n",
       "      <td>21.107693</td>\n",
       "      <td>24.249333</td>\n",
       "      <td>29.161770</td>\n",
       "      <td>27.0</td>\n",
       "      <td>26.021331</td>\n",
       "    </tr>\n",
       "    <tr>\n",
       "      <th>3</th>\n",
       "      <td>2.0</td>\n",
       "      <td>Detroit Lions</td>\n",
       "      <td>21.490843</td>\n",
       "      <td>25.956638</td>\n",
       "      <td>33.239537</td>\n",
       "      <td>24.0</td>\n",
       "      <td>31.618060</td>\n",
       "    </tr>\n",
       "    <tr>\n",
       "      <th>4</th>\n",
       "      <td>3.0</td>\n",
       "      <td>Washington Redskins</td>\n",
       "      <td>20.979977</td>\n",
       "      <td>25.486695</td>\n",
       "      <td>26.261249</td>\n",
       "      <td>24.0</td>\n",
       "      <td>30.166242</td>\n",
       "    </tr>\n",
       "    <tr>\n",
       "      <th>...</th>\n",
       "      <td>...</td>\n",
       "      <td>...</td>\n",
       "      <td>...</td>\n",
       "      <td>...</td>\n",
       "      <td>...</td>\n",
       "      <td>...</td>\n",
       "      <td>...</td>\n",
       "    </tr>\n",
       "    <tr>\n",
       "      <th>25</th>\n",
       "      <td>5641.0</td>\n",
       "      <td>Tennessee Titans</td>\n",
       "      <td>23.725884</td>\n",
       "      <td>25.086053</td>\n",
       "      <td>25.164547</td>\n",
       "      <td>27.0</td>\n",
       "      <td>33.156365</td>\n",
       "    </tr>\n",
       "    <tr>\n",
       "      <th>26</th>\n",
       "      <td>5650.0</td>\n",
       "      <td>Tennessee Titans</td>\n",
       "      <td>23.725884</td>\n",
       "      <td>29.009233</td>\n",
       "      <td>40.267880</td>\n",
       "      <td>27.0</td>\n",
       "      <td>41.811288</td>\n",
       "    </tr>\n",
       "    <tr>\n",
       "      <th>27</th>\n",
       "      <td>5587.0</td>\n",
       "      <td>Tampa Bay Buccaneers</td>\n",
       "      <td>26.471791</td>\n",
       "      <td>24.990713</td>\n",
       "      <td>22.249573</td>\n",
       "      <td>20.0</td>\n",
       "      <td>25.176297</td>\n",
       "    </tr>\n",
       "    <tr>\n",
       "      <th>28</th>\n",
       "      <td>5652.0</td>\n",
       "      <td>Tampa Bay Buccaneers</td>\n",
       "      <td>26.471791</td>\n",
       "      <td>25.493685</td>\n",
       "      <td>25.088920</td>\n",
       "      <td>20.0</td>\n",
       "      <td>29.897627</td>\n",
       "    </tr>\n",
       "    <tr>\n",
       "      <th>29</th>\n",
       "      <td>5683.0</td>\n",
       "      <td>Tampa Bay Buccaneers</td>\n",
       "      <td>26.471791</td>\n",
       "      <td>25.996656</td>\n",
       "      <td>24.696858</td>\n",
       "      <td>20.0</td>\n",
       "      <td>25.662360</td>\n",
       "    </tr>\n",
       "  </tbody>\n",
       "</table>\n",
       "<p>2932 rows × 7 columns</p>\n",
       "</div>"
      ],
      "text/plain": [
       "    GAMEID       FINAL_TEAM_NAME  Model1_Prediction  Model2_Prediction  \\\n",
       "0      1.0         Detroit Lions          21.490843          25.956638   \n",
       "1      1.0         Chicago Bears          21.107693          24.249333   \n",
       "2      2.0         Chicago Bears          21.107693          24.249333   \n",
       "3      2.0         Detroit Lions          21.490843          25.956638   \n",
       "4      3.0   Washington Redskins          20.979977          25.486695   \n",
       "..     ...                   ...                ...                ...   \n",
       "25  5641.0      Tennessee Titans          23.725884          25.086053   \n",
       "26  5650.0      Tennessee Titans          23.725884          29.009233   \n",
       "27  5587.0  Tampa Bay Buccaneers          26.471791          24.990713   \n",
       "28  5652.0  Tampa Bay Buccaneers          26.471791          25.493685   \n",
       "29  5683.0  Tampa Bay Buccaneers          26.471791          25.996656   \n",
       "\n",
       "    Model3_Prediction  Model4_Prediction  Model5_Prediction  \n",
       "0           26.019291               27.0          27.131508  \n",
       "1           19.114992               20.0          22.373294  \n",
       "2           29.161770               27.0          26.021331  \n",
       "3           33.239537               24.0          31.618060  \n",
       "4           26.261249               24.0          30.166242  \n",
       "..                ...                ...                ...  \n",
       "25          25.164547               27.0          33.156365  \n",
       "26          40.267880               27.0          41.811288  \n",
       "27          22.249573               20.0          25.176297  \n",
       "28          25.088920               20.0          29.897627  \n",
       "29          24.696858               20.0          25.662360  \n",
       "\n",
       "[2932 rows x 7 columns]"
      ]
     },
     "execution_count": 629,
     "metadata": {},
     "output_type": "execute_result"
    }
   ],
   "source": [
    "final_dd"
   ]
  },
  {
   "cell_type": "code",
   "execution_count": 635,
   "metadata": {},
   "outputs": [],
   "source": [
    "final_df = pd.read_csv(\"perfectlyCleanedData4.csv\")"
   ]
  },
  {
   "cell_type": "code",
   "execution_count": 636,
   "metadata": {},
   "outputs": [],
   "source": [
    "final_df = pd.merge(final_df, final_dd, left_on=[\"FINAL_TEAM_NAME\", \"GAMEID\"], right_on=[\"FINAL_TEAM_NAME\", \"GAMEID\"])"
   ]
  },
  {
   "cell_type": "code",
   "execution_count": 638,
   "metadata": {},
   "outputs": [],
   "source": [
    "final_df.to_csv(\"webData.csv\", index=False)"
   ]
  },
  {
   "cell_type": "code",
   "execution_count": null,
   "metadata": {},
   "outputs": [],
   "source": []
  }
 ],
 "metadata": {
  "kernelspec": {
   "display_name": "Python 3",
   "language": "python",
   "name": "python3"
  },
  "language_info": {
   "codemirror_mode": {
    "name": "ipython",
    "version": 3
   },
   "file_extension": ".py",
   "mimetype": "text/x-python",
   "name": "python",
   "nbconvert_exporter": "python",
   "pygments_lexer": "ipython3",
   "version": "3.7.1"
  }
 },
 "nbformat": 4,
 "nbformat_minor": 4
}
